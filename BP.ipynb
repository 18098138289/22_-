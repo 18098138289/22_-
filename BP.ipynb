{
 "cells": [
  {
   "cell_type": "code",
   "execution_count": 1,
   "id": "81d2b982",
   "metadata": {},
   "outputs": [],
   "source": [
    "# #bp神经网络\n",
    "\n",
    "#数据提取和处理\n",
    "import re\n",
    "\n",
    "def encode_label(label_list: list) -> (list, list):\n",
    "    label_name = [[] for i in range(5)]\n",
    "\n",
    "    label_encoded_list = []\n",
    "\n",
    "    for label in label_list:\n",
    "        if label is None:\n",
    "            label_encoded_list.append(None)\n",
    "            continue\n",
    "        label_encoded = []\n",
    "\n",
    "        for i in range(len(label) - 1):\n",
    "            if not label[i] in label_name[i]:\n",
    "                label_name[i].append(label[i])\n",
    "                label_encoded.append(len(label_name[i]) - 1)\n",
    "            else:\n",
    "                label_encoded.append(label_name[i].index(label[i]))\n",
    "\n",
    "        if label[4] is None:\n",
    "            label_encoded.append([None])\n",
    "        else:\n",
    "            prop = []\n",
    "            for ll in label[4]:\n",
    "                if not ll in label_name[4]:\n",
    "                    label_name[4].append(ll)\n",
    "                    prop.append(len(label_name[4]) - 1)\n",
    "                else:\n",
    "                    prop.append(label_name[4].index(ll))\n",
    "            label_encoded.append(prop)\n",
    "\n",
    "        label_encoded_list.append(label_encoded)\n",
    "    return label_name, label_encoded_list\n",
    "\n",
    "def read_label(path: str) -> (list, list):\n",
    "    label_list = []\n",
    "    img_name = []\n",
    "    with open(path, \"r\") as f:\n",
    "        r = f.readline()\n",
    "        while r:\n",
    "            img_name.append(r[:5].strip())\n",
    "            t = re.search('_missing descriptor', r)\n",
    "            if t is not None:\n",
    "                label_list.append(None)\n",
    "                r = f.readline()\n",
    "                continue\n",
    "            else:\n",
    "                label1 = []\n",
    "                pattern = re.compile(r'\\((.*?)\\)')\n",
    "                t = pattern.findall(r)\n",
    "                for s in t[0:-1]:\n",
    "                    c = s.split(\" \")[-1].strip()\n",
    "                    label1.append(c)\n",
    "\n",
    "                pattern = re.compile(r'\\'\\((.*?)\\)')\n",
    "                t = pattern.findall(r)[0].strip()\n",
    "                if not t == '':\n",
    "                    prop = []\n",
    "                    t = t.split(\" \")\n",
    "                    for i in t:\n",
    "                        prop.append(i)\n",
    "                    label1.append(prop)\n",
    "                else:\n",
    "                    label1.append(None)\n",
    "            label_list.append(label1)\n",
    "            r = f.readline()\n",
    "    return label_list, img_name\n",
    "\n",
    "def one_hot_prop(label_encoded_list: list, prop_num: int) -> list:\n",
    "    label_list = []\n",
    "    iii = 0\n",
    "    for label in label_encoded_list:\n",
    "        iii += 1\n",
    "        if label is not None:\n",
    "            prop_one_hot = [0 for i in range(prop_num)]\n",
    "            prop = label.pop()\n",
    "            for i in prop:\n",
    "                if i is not None:\n",
    "                    prop_one_hot[i] = 1\n",
    "            label.append(prop_one_hot)\n",
    "            label_list.append(label)\n",
    "            if 1 in prop_one_hot:\n",
    "                pass\n",
    "        else:\n",
    "            label_list.append(None)\n",
    "    return label_list\n",
    "\n",
    "def one_hot(index, num):\n",
    "    label_one_hot = [0 for i in range(num)]\n",
    "    label_one_hot[index] = 1\n",
    "    return label_one_hot\n",
    "\n",
    "def one_hot_label(label_list: list, label_name) -> list:\n",
    "    label_one_hot = []\n",
    "    for label in label_list:\n",
    "        if label is not None:\n",
    "            l = []\n",
    "            for i in range(len(label_name) - 1):\n",
    "                o = one_hot(label[i], len(label_name[i]))\n",
    "                l += o\n",
    "            l += label[-1]\n",
    "        else:\n",
    "            label_one_hot.append(None)\n",
    "            continue\n",
    "        label_one_hot.append(l)\n",
    "    return label_one_hot\n",
    "\n",
    "def label_pre_one_hot(path1, path2):\n",
    "    label_list1, img_name1 = read_label(path1)\n",
    "    label_list2, img_name2 = read_label(path2)\n",
    "    label_list = label_list1 + label_list2\n",
    "\n",
    "    male = 0\n",
    "    total = 0\n",
    "    \n",
    "    img_name = img_name1 + img_name2\n",
    "    label_name, label_encoded_list = encode_label(label_list)\n",
    "    prop_num = len(label_name[-1])\n",
    "    label_list = one_hot_prop(label_encoded_list, prop_num)\n",
    "    label_one_hot = one_hot_label(label_list, label_name)\n",
    "\n",
    "    return label_one_hot, img_name, label_name"
   ]
  },
  {
   "cell_type": "code",
   "execution_count": 2,
   "id": "7e3162f5",
   "metadata": {},
   "outputs": [
    {
     "name": "stdout",
     "output_type": "stream",
     "text": [
      "数据缺失： 1228\n",
      "数据缺失： 1232\n",
      "数据缺失： 1808\n",
      "数据缺失： 4056\n",
      "数据缺失： 4135\n",
      "数据缺失： 4136\n",
      "数据缺失： 5004\n",
      "每层网络层系数矩阵维度：\n",
      " [(85, 5), (5, 2), (2, 1)]\n",
      "bp神经网络训练准确率： 86.62551440329219 %\n"
     ]
    },
    {
     "name": "stderr",
     "output_type": "stream",
     "text": [
      "D:\\AI\\Anaconda3\\lib\\site-packages\\sklearn\\neural_network\\_multilayer_perceptron.py:549: ConvergenceWarning: lbfgs failed to converge (status=1):\n",
      "STOP: TOTAL NO. of ITERATIONS REACHED LIMIT.\n",
      "\n",
      "Increase the number of iterations (max_iter) or scale the data as shown in:\n",
      "    https://scikit-learn.org/stable/modules/preprocessing.html\n",
      "  self.n_iter_ = _check_optimize_result(\"lbfgs\", opt_res, self.max_iter)\n"
     ]
    }
   ],
   "source": [
    "import raw_data_read_test as rd\n",
    "import label_pre as lp\n",
    "import cv2\n",
    "from sklearn.neighbors import KNeighborsClassifier \n",
    "from sklearn.model_selection import train_test_split\n",
    "import numpy as np\n",
    "import sklearn\n",
    "from sklearn import metrics\n",
    "from sklearn import tree\n",
    "from sklearn.decomposition import PCA\n",
    "from matplotlib import pyplot as plt\n",
    "from sklearn.model_selection import KFold\n",
    "from sklearn.metrics import accuracy_score\n",
    "from sklearn.model_selection import cross_validate\n",
    "from sklearn.neural_network import MLPClassifier\n",
    "from sklearn.preprocessing import StandardScaler\n",
    "\n",
    "# 训练集\n",
    "channels = 1  # 图像的通道数，灰度图为1\n",
    "path_rawdata = r\"./rawdata\"\n",
    "path_label1 = r\"./faceDR\"\n",
    "path_label2 = r\"./faceDS\"\n",
    "label_one_hot,img_name,label_list = label_pre_one_hot(path_label1,path_label2)\n",
    "img_list = rd.read_rawdata(channels, path_rawdata, img_name)  # 图片矩阵\n",
    "\n",
    "n = 0\n",
    "for i in range(len(label_list)):\n",
    "    num = i - n\n",
    "    if label_list[num] is None:\n",
    "        del label_list[num]\n",
    "        del img_name[num]\n",
    "        n = n + 1\n",
    "\n",
    "array_of_img = []\n",
    "for img in img_list:\n",
    "    if img is not None:\n",
    "        img = img / 255.0\n",
    "        img = cv2.resize(img, (100, 100))\n",
    "        array_of_img.append(img)\n",
    "train_images = np.array(array_of_img)\n",
    "array_of_img = []\n",
    "\n",
    "#卷积标签数值化，男为0，女为1\n",
    "array_of_labels = []\n",
    "for label in label_one_hot:\n",
    "    if label is not None:\n",
    "        append_label = label[0]\n",
    "        array_of_labels.append(int(append_label))\n",
    "train_labels = np.array(array_of_labels)\n",
    "array_of_labels = []\n",
    "\n",
    "# 划分数据集和训练集\n",
    "X_train, X_test, y_train, y_test = train_test_split(train_images, train_labels, test_size=0.2, random_state=3)\n",
    "\n",
    "#更改图像维度，方便训练\n",
    "X_train = X_train.reshape(X_train.shape[0], -1)\n",
    "X_test = X_test.reshape(X_test.shape[0], -1)\n",
    "\n",
    "# 特征降维(进行特征降维能大大减少训练时间但会一定程度的下降训练准确率)\n",
    "pca = PCA(n_components=85)\n",
    "X_train = pca.fit_transform(X_train)\n",
    "X_test = pca.transform(X_test)\n",
    "\n",
    "# 标准化\n",
    "sc = StandardScaler()\n",
    "sc.fit(X_train)\n",
    "X_train_std = sc.transform(X_train)\n",
    "X_test_std = sc.transform(X_test)\n",
    "# MLP求解\n",
    "# solver='lbfgs',  MLP的求解方法：L-BFGS 在小数据上表现较好，Adam 较为鲁棒，\n",
    "#    SGD在参数调整较优时会有最佳表现（分类效果与迭代次数）；SGD标识随机梯度下降。\n",
    "# alpha:L2的参数：MLP是可以支持正则化的，默认为L2，具体参数需要调整\n",
    "# hidden_layer_sizes=(5, 2) hidden层2层,第一层5个神经元，第二层2个神经元)，2层隐藏层，也就有3层神经网络\n",
    "bp = MLPClassifier(solver='lbfgs', alpha=1e-5,hidden_layer_sizes=(5,2), random_state=1) \n",
    "bp.fit(X_train_std, y_train)\n",
    "print('每层网络层系数矩阵维度：\\n',[coef.shape for coef in bp.coefs_])\n",
    "score = bp.score(X_test_std,y_test)\n",
    "print('bp神经网络训练准确率：',score*100,'%')"
   ]
  },
  {
   "cell_type": "code",
   "execution_count": 3,
   "id": "1380b2ea",
   "metadata": {
    "scrolled": true
   },
   "outputs": [
    {
     "name": "stdout",
     "output_type": "stream",
     "text": [
      "bp神经网络训练准确率： 86.62551440329219 %\n"
     ]
    },
    {
     "name": "stderr",
     "output_type": "stream",
     "text": [
      "D:\\AI\\Anaconda3\\lib\\site-packages\\sklearn\\neural_network\\_multilayer_perceptron.py:549: ConvergenceWarning: lbfgs failed to converge (status=1):\n",
      "STOP: TOTAL NO. of ITERATIONS REACHED LIMIT.\n",
      "\n",
      "Increase the number of iterations (max_iter) or scale the data as shown in:\n",
      "    https://scikit-learn.org/stable/modules/preprocessing.html\n",
      "  self.n_iter_ = _check_optimize_result(\"lbfgs\", opt_res, self.max_iter)\n"
     ]
    }
   ],
   "source": [
    "bp.fit(X_train_std, y_train)\n",
    "score = bp.score(X_test_std,y_test)\n",
    "print('bp神经网络训练准确率：',score*100,'%')"
   ]
  },
  {
   "cell_type": "code",
   "execution_count": 4,
   "id": "19acc447",
   "metadata": {},
   "outputs": [
    {
     "name": "stdout",
     "output_type": "stream",
     "text": [
      "Iteration 1, loss = 1.20977686\n",
      "Iteration 2, loss = 0.67463461\n",
      "Iteration 3, loss = 0.53518255\n",
      "Iteration 4, loss = 0.47280684\n",
      "Iteration 5, loss = 0.43235301\n",
      "Iteration 6, loss = 0.40406470\n",
      "Iteration 7, loss = 0.38175356\n",
      "Iteration 8, loss = 0.36329704\n",
      "Iteration 9, loss = 0.34744591\n",
      "Iteration 10, loss = 0.33368522\n",
      "Iteration 11, loss = 0.32147641\n",
      "Iteration 12, loss = 0.31031964\n",
      "Iteration 13, loss = 0.30010868\n",
      "Iteration 14, loss = 0.28990892\n",
      "Iteration 15, loss = 0.28182092\n",
      "Iteration 16, loss = 0.27334126\n",
      "Iteration 17, loss = 0.26506549\n",
      "Iteration 18, loss = 0.25829887\n",
      "Iteration 19, loss = 0.25098637\n",
      "Iteration 20, loss = 0.24375829\n",
      "Iteration 1, loss = 1.21901760\n",
      "Iteration 2, loss = 0.67934559\n",
      "Iteration 3, loss = 0.53822179\n",
      "Iteration 4, loss = 0.47450990\n"
     ]
    },
    {
     "name": "stderr",
     "output_type": "stream",
     "text": [
      "D:\\AI\\Anaconda3\\lib\\site-packages\\sklearn\\neural_network\\_multilayer_perceptron.py:692: ConvergenceWarning: Stochastic Optimizer: Maximum iterations (20) reached and the optimization hasn't converged yet.\n",
      "  warnings.warn(\n"
     ]
    },
    {
     "name": "stdout",
     "output_type": "stream",
     "text": [
      "Iteration 5, loss = 0.43400437\n",
      "Iteration 6, loss = 0.40560266\n",
      "Iteration 7, loss = 0.38300097\n",
      "Iteration 8, loss = 0.36428901\n",
      "Iteration 9, loss = 0.34845798\n",
      "Iteration 10, loss = 0.33454111\n",
      "Iteration 11, loss = 0.32216885\n",
      "Iteration 12, loss = 0.31078235\n",
      "Iteration 13, loss = 0.30065360\n",
      "Iteration 14, loss = 0.29017362\n",
      "Iteration 15, loss = 0.28191316\n",
      "Iteration 16, loss = 0.27369246\n",
      "Iteration 17, loss = 0.26541799\n",
      "Iteration 18, loss = 0.25793487\n",
      "Iteration 19, loss = 0.25069343\n",
      "Iteration 20, loss = 0.24329036\n",
      "Iteration 1, loss = 1.21579741\n",
      "Iteration 2, loss = 0.67871866\n",
      "Iteration 3, loss = 0.53933694\n",
      "Iteration 4, loss = 0.47711382\n",
      "Iteration 5, loss = 0.43732122\n"
     ]
    },
    {
     "name": "stderr",
     "output_type": "stream",
     "text": [
      "D:\\AI\\Anaconda3\\lib\\site-packages\\sklearn\\neural_network\\_multilayer_perceptron.py:692: ConvergenceWarning: Stochastic Optimizer: Maximum iterations (20) reached and the optimization hasn't converged yet.\n",
      "  warnings.warn(\n"
     ]
    },
    {
     "name": "stdout",
     "output_type": "stream",
     "text": [
      "Iteration 6, loss = 0.40889012\n",
      "Iteration 7, loss = 0.38650677\n",
      "Iteration 8, loss = 0.36796598\n",
      "Iteration 9, loss = 0.35198571\n",
      "Iteration 10, loss = 0.33776818\n",
      "Iteration 11, loss = 0.32557552\n",
      "Iteration 12, loss = 0.31431437\n",
      "Iteration 13, loss = 0.30414750\n",
      "Iteration 14, loss = 0.29337603\n",
      "Iteration 15, loss = 0.28485413\n",
      "Iteration 16, loss = 0.27657329\n",
      "Iteration 17, loss = 0.26807776\n",
      "Iteration 18, loss = 0.26030419\n",
      "Iteration 19, loss = 0.25313394\n",
      "Iteration 20, loss = 0.24580415\n",
      "Iteration 1, loss = 1.19933757\n",
      "Iteration 2, loss = 0.67171510\n",
      "Iteration 3, loss = 0.53564451\n",
      "Iteration 4, loss = 0.47177310\n",
      "Iteration 5, loss = 0.43121995\n"
     ]
    },
    {
     "name": "stderr",
     "output_type": "stream",
     "text": [
      "D:\\AI\\Anaconda3\\lib\\site-packages\\sklearn\\neural_network\\_multilayer_perceptron.py:692: ConvergenceWarning: Stochastic Optimizer: Maximum iterations (20) reached and the optimization hasn't converged yet.\n",
      "  warnings.warn(\n"
     ]
    },
    {
     "name": "stdout",
     "output_type": "stream",
     "text": [
      "Iteration 6, loss = 0.40232922\n",
      "Iteration 7, loss = 0.37984619\n",
      "Iteration 8, loss = 0.36118406\n",
      "Iteration 9, loss = 0.34510092\n",
      "Iteration 10, loss = 0.33103008\n",
      "Iteration 11, loss = 0.31878992\n",
      "Iteration 12, loss = 0.30730290\n",
      "Iteration 13, loss = 0.29711699\n",
      "Iteration 14, loss = 0.28713149\n",
      "Iteration 15, loss = 0.27853251\n",
      "Iteration 16, loss = 0.27053201\n",
      "Iteration 17, loss = 0.26223760\n",
      "Iteration 18, loss = 0.25490472\n",
      "Iteration 19, loss = 0.24766024\n",
      "Iteration 20, loss = 0.24082799\n",
      "Iteration 1, loss = 1.21659997\n",
      "Iteration 2, loss = 0.67425759\n",
      "Iteration 3, loss = 0.53527198\n",
      "Iteration 4, loss = 0.47221471\n",
      "Iteration 5, loss = 0.43232013\n",
      "Iteration 6, loss = 0.40414544\n",
      "Iteration 7, loss = 0.38200853\n",
      "Iteration 8, loss = 0.36400254\n"
     ]
    },
    {
     "name": "stderr",
     "output_type": "stream",
     "text": [
      "D:\\AI\\Anaconda3\\lib\\site-packages\\sklearn\\neural_network\\_multilayer_perceptron.py:692: ConvergenceWarning: Stochastic Optimizer: Maximum iterations (20) reached and the optimization hasn't converged yet.\n",
      "  warnings.warn(\n"
     ]
    },
    {
     "name": "stdout",
     "output_type": "stream",
     "text": [
      "Iteration 9, loss = 0.34839653\n",
      "Iteration 10, loss = 0.33418669\n",
      "Iteration 11, loss = 0.32204122\n",
      "Iteration 12, loss = 0.31081298\n",
      "Iteration 13, loss = 0.30061680\n",
      "Iteration 14, loss = 0.29067013\n",
      "Iteration 15, loss = 0.28182259\n",
      "Iteration 16, loss = 0.27406633\n",
      "Iteration 17, loss = 0.26544110\n",
      "Iteration 18, loss = 0.25779783\n",
      "Iteration 19, loss = 0.25071016\n",
      "Iteration 20, loss = 0.24366263\n",
      "Iteration 1, loss = 1.20898097\n",
      "Iteration 2, loss = 0.67378148\n",
      "Iteration 3, loss = 0.53560616\n",
      "Iteration 4, loss = 0.47196168\n",
      "Iteration 5, loss = 0.43169733\n"
     ]
    },
    {
     "name": "stderr",
     "output_type": "stream",
     "text": [
      "D:\\AI\\Anaconda3\\lib\\site-packages\\sklearn\\neural_network\\_multilayer_perceptron.py:692: ConvergenceWarning: Stochastic Optimizer: Maximum iterations (20) reached and the optimization hasn't converged yet.\n",
      "  warnings.warn(\n"
     ]
    },
    {
     "name": "stdout",
     "output_type": "stream",
     "text": [
      "Iteration 6, loss = 0.40319829\n",
      "Iteration 7, loss = 0.38095574\n",
      "Iteration 8, loss = 0.36274138\n",
      "Iteration 9, loss = 0.34725784\n",
      "Iteration 10, loss = 0.33281036\n",
      "Iteration 11, loss = 0.32071334\n",
      "Iteration 12, loss = 0.30987842\n",
      "Iteration 13, loss = 0.29955810\n",
      "Iteration 14, loss = 0.28962055\n",
      "Iteration 15, loss = 0.28058501\n",
      "Iteration 16, loss = 0.27290010\n",
      "Iteration 17, loss = 0.26450112\n",
      "Iteration 18, loss = 0.25701181\n",
      "Iteration 19, loss = 0.25004534\n",
      "Iteration 20, loss = 0.24294925\n",
      "Iteration 1, loss = 1.20031965\n"
     ]
    },
    {
     "name": "stderr",
     "output_type": "stream",
     "text": [
      "D:\\AI\\Anaconda3\\lib\\site-packages\\sklearn\\neural_network\\_multilayer_perceptron.py:692: ConvergenceWarning: Stochastic Optimizer: Maximum iterations (20) reached and the optimization hasn't converged yet.\n",
      "  warnings.warn(\n"
     ]
    },
    {
     "name": "stdout",
     "output_type": "stream",
     "text": [
      "Iteration 2, loss = 0.67016058\n",
      "Iteration 3, loss = 0.53369648\n",
      "Iteration 4, loss = 0.46955107\n",
      "Iteration 5, loss = 0.42924309\n",
      "Iteration 6, loss = 0.40059424\n",
      "Iteration 7, loss = 0.37802520\n",
      "Iteration 8, loss = 0.35940622\n",
      "Iteration 9, loss = 0.34346660\n",
      "Iteration 10, loss = 0.32867569\n",
      "Iteration 11, loss = 0.31618650\n",
      "Iteration 12, loss = 0.30490969\n",
      "Iteration 13, loss = 0.29465146\n",
      "Iteration 14, loss = 0.28470907\n",
      "Iteration 15, loss = 0.27612567\n",
      "Iteration 16, loss = 0.26845403\n",
      "Iteration 17, loss = 0.25995980\n",
      "Iteration 18, loss = 0.25247997\n",
      "Iteration 19, loss = 0.24564745\n",
      "Iteration 20, loss = 0.23888946\n",
      "Iteration 1, loss = 1.18672530\n",
      "Iteration 2, loss = 0.66719214\n",
      "Iteration 3, loss = 0.53568440\n",
      "Iteration 4, loss = 0.47184490\n",
      "Iteration 5, loss = 0.43152013\n",
      "Iteration 6, loss = 0.40265647\n",
      "Iteration 7, loss = 0.38014732\n",
      "Iteration 8, loss = 0.36192254\n",
      "Iteration 9, loss = 0.34577299\n"
     ]
    },
    {
     "name": "stderr",
     "output_type": "stream",
     "text": [
      "D:\\AI\\Anaconda3\\lib\\site-packages\\sklearn\\neural_network\\_multilayer_perceptron.py:692: ConvergenceWarning: Stochastic Optimizer: Maximum iterations (20) reached and the optimization hasn't converged yet.\n",
      "  warnings.warn(\n"
     ]
    },
    {
     "name": "stdout",
     "output_type": "stream",
     "text": [
      "Iteration 10, loss = 0.33162066\n",
      "Iteration 11, loss = 0.31935893\n",
      "Iteration 12, loss = 0.30806014\n",
      "Iteration 13, loss = 0.29796273\n",
      "Iteration 14, loss = 0.28806762\n",
      "Iteration 15, loss = 0.27945377\n",
      "Iteration 16, loss = 0.27156150\n",
      "Iteration 17, loss = 0.26288439\n",
      "Iteration 18, loss = 0.25556742\n",
      "Iteration 19, loss = 0.24843449\n",
      "Iteration 20, loss = 0.24204321\n",
      "Iteration 1, loss = 1.20192383\n"
     ]
    },
    {
     "name": "stderr",
     "output_type": "stream",
     "text": [
      "D:\\AI\\Anaconda3\\lib\\site-packages\\sklearn\\neural_network\\_multilayer_perceptron.py:692: ConvergenceWarning: Stochastic Optimizer: Maximum iterations (20) reached and the optimization hasn't converged yet.\n",
      "  warnings.warn(\n"
     ]
    },
    {
     "name": "stdout",
     "output_type": "stream",
     "text": [
      "Iteration 2, loss = 0.67080761\n",
      "Iteration 3, loss = 0.53399439\n",
      "Iteration 4, loss = 0.47104577\n",
      "Iteration 5, loss = 0.43131834\n",
      "Iteration 6, loss = 0.40337011\n",
      "Iteration 7, loss = 0.38093883\n",
      "Iteration 8, loss = 0.36239011\n",
      "Iteration 9, loss = 0.34692920\n",
      "Iteration 10, loss = 0.33344490\n",
      "Iteration 11, loss = 0.32131289\n",
      "Iteration 12, loss = 0.30954756\n",
      "Iteration 13, loss = 0.29946107\n",
      "Iteration 14, loss = 0.29023675\n",
      "Iteration 15, loss = 0.28122511\n",
      "Iteration 16, loss = 0.27345573\n",
      "Iteration 17, loss = 0.26530631\n",
      "Iteration 18, loss = 0.25765627\n",
      "Iteration 19, loss = 0.25036235\n",
      "Iteration 20, loss = 0.24352931\n",
      "Iteration 1, loss = 1.19974597\n",
      "Iteration 2, loss = 0.67200361\n"
     ]
    },
    {
     "name": "stderr",
     "output_type": "stream",
     "text": [
      "D:\\AI\\Anaconda3\\lib\\site-packages\\sklearn\\neural_network\\_multilayer_perceptron.py:692: ConvergenceWarning: Stochastic Optimizer: Maximum iterations (20) reached and the optimization hasn't converged yet.\n",
      "  warnings.warn(\n"
     ]
    },
    {
     "name": "stdout",
     "output_type": "stream",
     "text": [
      "Iteration 3, loss = 0.53838763\n",
      "Iteration 4, loss = 0.47584091\n",
      "Iteration 5, loss = 0.43640747\n",
      "Iteration 6, loss = 0.40866792\n",
      "Iteration 7, loss = 0.38654395\n",
      "Iteration 8, loss = 0.36800476\n",
      "Iteration 9, loss = 0.35228965\n",
      "Iteration 10, loss = 0.33844685\n",
      "Iteration 11, loss = 0.32625524\n",
      "Iteration 12, loss = 0.31451948\n",
      "Iteration 13, loss = 0.30428839\n",
      "Iteration 14, loss = 0.29516905\n",
      "Iteration 15, loss = 0.28606238\n",
      "Iteration 16, loss = 0.27821750\n",
      "Iteration 17, loss = 0.27017201\n",
      "Iteration 18, loss = 0.26219941\n",
      "Iteration 19, loss = 0.25492184\n",
      "Iteration 20, loss = 0.24800856\n",
      "Iteration 1, loss = 1.30942413\n",
      "Iteration 2, loss = 0.81569918\n",
      "Iteration 3, loss = 0.74023403\n",
      "Iteration 4, loss = 0.69720638\n",
      "Iteration 5, loss = 0.67051053\n",
      "Iteration 6, loss = 0.65021201\n"
     ]
    },
    {
     "name": "stderr",
     "output_type": "stream",
     "text": [
      "D:\\AI\\Anaconda3\\lib\\site-packages\\sklearn\\neural_network\\_multilayer_perceptron.py:692: ConvergenceWarning: Stochastic Optimizer: Maximum iterations (20) reached and the optimization hasn't converged yet.\n",
      "  warnings.warn(\n"
     ]
    },
    {
     "name": "stdout",
     "output_type": "stream",
     "text": [
      "Iteration 7, loss = 0.63372949\n",
      "Iteration 8, loss = 0.61970106\n",
      "Iteration 9, loss = 0.60660477\n",
      "Iteration 10, loss = 0.59575489\n",
      "Iteration 11, loss = 0.58537072\n",
      "Iteration 12, loss = 0.57613938\n",
      "Iteration 13, loss = 0.56763392\n",
      "Iteration 14, loss = 0.55971940\n",
      "Iteration 15, loss = 0.55249511\n",
      "Iteration 16, loss = 0.54547808\n",
      "Iteration 17, loss = 0.53869675\n",
      "Iteration 18, loss = 0.53284618\n",
      "Iteration 19, loss = 0.52717703\n",
      "Iteration 20, loss = 0.52128333\n",
      "Iteration 1, loss = 1.31920704\n"
     ]
    },
    {
     "name": "stderr",
     "output_type": "stream",
     "text": [
      "D:\\AI\\Anaconda3\\lib\\site-packages\\sklearn\\neural_network\\_multilayer_perceptron.py:692: ConvergenceWarning: Stochastic Optimizer: Maximum iterations (20) reached and the optimization hasn't converged yet.\n",
      "  warnings.warn(\n"
     ]
    },
    {
     "name": "stdout",
     "output_type": "stream",
     "text": [
      "Iteration 2, loss = 0.82145033\n",
      "Iteration 3, loss = 0.74659778\n",
      "Iteration 4, loss = 0.70277350\n",
      "Iteration 5, loss = 0.67637703\n",
      "Iteration 6, loss = 0.65609128\n",
      "Iteration 7, loss = 0.63970944\n",
      "Iteration 8, loss = 0.62570511\n",
      "Iteration 9, loss = 0.61284869\n",
      "Iteration 10, loss = 0.60211618\n",
      "Iteration 11, loss = 0.59168288\n",
      "Iteration 12, loss = 0.58266009\n",
      "Iteration 13, loss = 0.57426200\n",
      "Iteration 14, loss = 0.56605058\n",
      "Iteration 15, loss = 0.55888038\n",
      "Iteration 16, loss = 0.55193441\n",
      "Iteration 17, loss = 0.54513235\n",
      "Iteration 18, loss = 0.53919190\n",
      "Iteration 19, loss = 0.53323740\n",
      "Iteration 20, loss = 0.52733309\n",
      "Iteration 1, loss = 1.31798903\n",
      "Iteration 2, loss = 0.81948345\n",
      "Iteration 3, loss = 0.74608786\n",
      "Iteration 4, loss = 0.70336150\n",
      "Iteration 5, loss = 0.67758156\n",
      "Iteration 6, loss = 0.65746470\n"
     ]
    },
    {
     "name": "stderr",
     "output_type": "stream",
     "text": [
      "D:\\AI\\Anaconda3\\lib\\site-packages\\sklearn\\neural_network\\_multilayer_perceptron.py:692: ConvergenceWarning: Stochastic Optimizer: Maximum iterations (20) reached and the optimization hasn't converged yet.\n",
      "  warnings.warn(\n"
     ]
    },
    {
     "name": "stdout",
     "output_type": "stream",
     "text": [
      "Iteration 7, loss = 0.64125525\n",
      "Iteration 8, loss = 0.62737683\n",
      "Iteration 9, loss = 0.61470463\n",
      "Iteration 10, loss = 0.60391674\n",
      "Iteration 11, loss = 0.59385370\n",
      "Iteration 12, loss = 0.58504082\n",
      "Iteration 13, loss = 0.57679518\n",
      "Iteration 14, loss = 0.56851017\n",
      "Iteration 15, loss = 0.56129288\n",
      "Iteration 16, loss = 0.55440585\n",
      "Iteration 17, loss = 0.54780513\n",
      "Iteration 18, loss = 0.54192751\n",
      "Iteration 19, loss = 0.53595507\n",
      "Iteration 20, loss = 0.53021267\n"
     ]
    },
    {
     "name": "stderr",
     "output_type": "stream",
     "text": [
      "D:\\AI\\Anaconda3\\lib\\site-packages\\sklearn\\neural_network\\_multilayer_perceptron.py:692: ConvergenceWarning: Stochastic Optimizer: Maximum iterations (20) reached and the optimization hasn't converged yet.\n",
      "  warnings.warn(\n"
     ]
    },
    {
     "name": "stdout",
     "output_type": "stream",
     "text": [
      "Iteration 1, loss = 1.30467740\n",
      "Iteration 2, loss = 0.81748536\n",
      "Iteration 3, loss = 0.74453870\n",
      "Iteration 4, loss = 0.70117388\n",
      "Iteration 5, loss = 0.67474625\n",
      "Iteration 6, loss = 0.65455332\n",
      "Iteration 7, loss = 0.63785128\n",
      "Iteration 8, loss = 0.62355066\n",
      "Iteration 9, loss = 0.61062351\n",
      "Iteration 10, loss = 0.59940906\n",
      "Iteration 11, loss = 0.58910756\n",
      "Iteration 12, loss = 0.58004992\n",
      "Iteration 13, loss = 0.57146601\n",
      "Iteration 14, loss = 0.56304811\n",
      "Iteration 15, loss = 0.55572520\n",
      "Iteration 16, loss = 0.54844843\n",
      "Iteration 17, loss = 0.54184054\n",
      "Iteration 18, loss = 0.53567753\n",
      "Iteration 19, loss = 0.52947811\n",
      "Iteration 20, loss = 0.52366612\n",
      "Iteration 1, loss = 1.32149264\n",
      "Iteration 2, loss = 0.81874062\n"
     ]
    },
    {
     "name": "stderr",
     "output_type": "stream",
     "text": [
      "D:\\AI\\Anaconda3\\lib\\site-packages\\sklearn\\neural_network\\_multilayer_perceptron.py:692: ConvergenceWarning: Stochastic Optimizer: Maximum iterations (20) reached and the optimization hasn't converged yet.\n",
      "  warnings.warn(\n"
     ]
    },
    {
     "name": "stdout",
     "output_type": "stream",
     "text": [
      "Iteration 3, loss = 0.74619392\n",
      "Iteration 4, loss = 0.70169187\n",
      "Iteration 5, loss = 0.67514397\n",
      "Iteration 6, loss = 0.65457185\n",
      "Iteration 7, loss = 0.63775337\n",
      "Iteration 8, loss = 0.62338580\n",
      "Iteration 9, loss = 0.61057023\n",
      "Iteration 10, loss = 0.59905497\n",
      "Iteration 11, loss = 0.58889844\n",
      "Iteration 12, loss = 0.57976498\n",
      "Iteration 13, loss = 0.57119813\n",
      "Iteration 14, loss = 0.56288769\n",
      "Iteration 15, loss = 0.55550889\n",
      "Iteration 16, loss = 0.54842993\n",
      "Iteration 17, loss = 0.54185780\n",
      "Iteration 18, loss = 0.53573184\n",
      "Iteration 19, loss = 0.52963771\n",
      "Iteration 20, loss = 0.52396044\n",
      "Iteration 1, loss = 1.31462741\n",
      "Iteration 2, loss = 0.81971208\n"
     ]
    },
    {
     "name": "stderr",
     "output_type": "stream",
     "text": [
      "D:\\AI\\Anaconda3\\lib\\site-packages\\sklearn\\neural_network\\_multilayer_perceptron.py:692: ConvergenceWarning: Stochastic Optimizer: Maximum iterations (20) reached and the optimization hasn't converged yet.\n",
      "  warnings.warn(\n"
     ]
    },
    {
     "name": "stdout",
     "output_type": "stream",
     "text": [
      "Iteration 3, loss = 0.74685369\n",
      "Iteration 4, loss = 0.70308026\n",
      "Iteration 5, loss = 0.67710873\n",
      "Iteration 6, loss = 0.65688038\n",
      "Iteration 7, loss = 0.64052374\n",
      "Iteration 8, loss = 0.62637529\n",
      "Iteration 9, loss = 0.61406206\n",
      "Iteration 10, loss = 0.60261236\n",
      "Iteration 11, loss = 0.59273571\n",
      "Iteration 12, loss = 0.58383237\n",
      "Iteration 13, loss = 0.57493825\n",
      "Iteration 14, loss = 0.56677911\n",
      "Iteration 15, loss = 0.55950939\n",
      "Iteration 16, loss = 0.55220707\n",
      "Iteration 17, loss = 0.54574042\n",
      "Iteration 18, loss = 0.53953849\n",
      "Iteration 19, loss = 0.53345510\n",
      "Iteration 20, loss = 0.52766628\n",
      "Iteration 1, loss = 1.31067303\n",
      "Iteration 2, loss = 0.81715602\n",
      "Iteration 3, loss = 0.74360037\n",
      "Iteration 4, loss = 0.69895187\n",
      "Iteration 5, loss = 0.67262397\n",
      "Iteration 6, loss = 0.65244358\n"
     ]
    },
    {
     "name": "stderr",
     "output_type": "stream",
     "text": [
      "D:\\AI\\Anaconda3\\lib\\site-packages\\sklearn\\neural_network\\_multilayer_perceptron.py:692: ConvergenceWarning: Stochastic Optimizer: Maximum iterations (20) reached and the optimization hasn't converged yet.\n",
      "  warnings.warn(\n"
     ]
    },
    {
     "name": "stdout",
     "output_type": "stream",
     "text": [
      "Iteration 7, loss = 0.63594516\n",
      "Iteration 8, loss = 0.62179756\n",
      "Iteration 9, loss = 0.60982016\n",
      "Iteration 10, loss = 0.59816466\n",
      "Iteration 11, loss = 0.58835065\n",
      "Iteration 12, loss = 0.57936066\n",
      "Iteration 13, loss = 0.57080421\n",
      "Iteration 14, loss = 0.56292849\n",
      "Iteration 15, loss = 0.55588053\n",
      "Iteration 16, loss = 0.54860812\n",
      "Iteration 17, loss = 0.54231722\n",
      "Iteration 18, loss = 0.53610088\n",
      "Iteration 19, loss = 0.53012214\n",
      "Iteration 20, loss = 0.52469609\n",
      "Iteration 1, loss = 1.30134114\n",
      "Iteration 2, loss = 0.81650662\n",
      "Iteration 3, loss = 0.74584140\n",
      "Iteration 4, loss = 0.70192894\n",
      "Iteration 5, loss = 0.67571291\n",
      "Iteration 6, loss = 0.65543294\n",
      "Iteration 7, loss = 0.63889520\n"
     ]
    },
    {
     "name": "stderr",
     "output_type": "stream",
     "text": [
      "D:\\AI\\Anaconda3\\lib\\site-packages\\sklearn\\neural_network\\_multilayer_perceptron.py:692: ConvergenceWarning: Stochastic Optimizer: Maximum iterations (20) reached and the optimization hasn't converged yet.\n",
      "  warnings.warn(\n"
     ]
    },
    {
     "name": "stdout",
     "output_type": "stream",
     "text": [
      "Iteration 8, loss = 0.62465180\n",
      "Iteration 9, loss = 0.61228141\n",
      "Iteration 10, loss = 0.60082968\n",
      "Iteration 11, loss = 0.59091291\n",
      "Iteration 12, loss = 0.58168835\n",
      "Iteration 13, loss = 0.57317877\n",
      "Iteration 14, loss = 0.56511704\n",
      "Iteration 15, loss = 0.55794378\n",
      "Iteration 16, loss = 0.55066189\n",
      "Iteration 17, loss = 0.54421781\n",
      "Iteration 18, loss = 0.53786739\n",
      "Iteration 19, loss = 0.53192322\n",
      "Iteration 20, loss = 0.52652082\n",
      "Iteration 1, loss = 1.31270068\n",
      "Iteration 2, loss = 0.81863284\n",
      "Iteration 3, loss = 0.74182554\n",
      "Iteration 4, loss = 0.69808802\n"
     ]
    },
    {
     "name": "stderr",
     "output_type": "stream",
     "text": [
      "D:\\AI\\Anaconda3\\lib\\site-packages\\sklearn\\neural_network\\_multilayer_perceptron.py:692: ConvergenceWarning: Stochastic Optimizer: Maximum iterations (20) reached and the optimization hasn't converged yet.\n",
      "  warnings.warn(\n"
     ]
    },
    {
     "name": "stdout",
     "output_type": "stream",
     "text": [
      "Iteration 5, loss = 0.67151820\n",
      "Iteration 6, loss = 0.65133580\n",
      "Iteration 7, loss = 0.63486004\n",
      "Iteration 8, loss = 0.62070287\n",
      "Iteration 9, loss = 0.60830408\n",
      "Iteration 10, loss = 0.59706270\n",
      "Iteration 11, loss = 0.58698407\n",
      "Iteration 12, loss = 0.57754587\n",
      "Iteration 13, loss = 0.56895587\n",
      "Iteration 14, loss = 0.56081692\n",
      "Iteration 15, loss = 0.55355685\n",
      "Iteration 16, loss = 0.54640918\n",
      "Iteration 17, loss = 0.53990505\n",
      "Iteration 18, loss = 0.53358433\n",
      "Iteration 19, loss = 0.52770082\n",
      "Iteration 20, loss = 0.52195594\n"
     ]
    },
    {
     "name": "stderr",
     "output_type": "stream",
     "text": [
      "D:\\AI\\Anaconda3\\lib\\site-packages\\sklearn\\neural_network\\_multilayer_perceptron.py:692: ConvergenceWarning: Stochastic Optimizer: Maximum iterations (20) reached and the optimization hasn't converged yet.\n",
      "  warnings.warn(\n"
     ]
    },
    {
     "name": "stdout",
     "output_type": "stream",
     "text": [
      "Iteration 1, loss = 1.31476246\n",
      "Iteration 2, loss = 0.82243614\n",
      "Iteration 3, loss = 0.74937215\n",
      "Iteration 4, loss = 0.70623847\n",
      "Iteration 5, loss = 0.67937965\n",
      "Iteration 6, loss = 0.65912745\n",
      "Iteration 7, loss = 0.64252764\n",
      "Iteration 8, loss = 0.62843428\n",
      "Iteration 9, loss = 0.61587686\n",
      "Iteration 10, loss = 0.60447960\n",
      "Iteration 11, loss = 0.59444527\n",
      "Iteration 12, loss = 0.58501255\n",
      "Iteration 13, loss = 0.57632914\n",
      "Iteration 14, loss = 0.56828415\n",
      "Iteration 15, loss = 0.56083336\n",
      "Iteration 16, loss = 0.55362941\n",
      "Iteration 17, loss = 0.54696687\n",
      "Iteration 18, loss = 0.54067010\n",
      "Iteration 19, loss = 0.53466315\n",
      "Iteration 20, loss = 0.52871103\n"
     ]
    },
    {
     "name": "stderr",
     "output_type": "stream",
     "text": [
      "D:\\AI\\Anaconda3\\lib\\site-packages\\sklearn\\neural_network\\_multilayer_perceptron.py:692: ConvergenceWarning: Stochastic Optimizer: Maximum iterations (20) reached and the optimization hasn't converged yet.\n",
      "  warnings.warn(\n",
      "D:\\AI\\Anaconda3\\lib\\site-packages\\sklearn\\neural_network\\_multilayer_perceptron.py:549: ConvergenceWarning: lbfgs failed to converge (status=1):\n",
      "STOP: TOTAL NO. of ITERATIONS REACHED LIMIT.\n",
      "\n",
      "Increase the number of iterations (max_iter) or scale the data as shown in:\n",
      "    https://scikit-learn.org/stable/modules/preprocessing.html\n",
      "  self.n_iter_ = _check_optimize_result(\"lbfgs\", opt_res, self.max_iter)\n",
      "D:\\AI\\Anaconda3\\lib\\site-packages\\sklearn\\neural_network\\_multilayer_perceptron.py:549: ConvergenceWarning: lbfgs failed to converge (status=1):\n",
      "STOP: TOTAL NO. of ITERATIONS REACHED LIMIT.\n",
      "\n",
      "Increase the number of iterations (max_iter) or scale the data as shown in:\n",
      "    https://scikit-learn.org/stable/modules/preprocessing.html\n",
      "  self.n_iter_ = _check_optimize_result(\"lbfgs\", opt_res, self.max_iter)\n",
      "D:\\AI\\Anaconda3\\lib\\site-packages\\sklearn\\neural_network\\_multilayer_perceptron.py:549: ConvergenceWarning: lbfgs failed to converge (status=1):\n",
      "STOP: TOTAL NO. of ITERATIONS REACHED LIMIT.\n",
      "\n",
      "Increase the number of iterations (max_iter) or scale the data as shown in:\n",
      "    https://scikit-learn.org/stable/modules/preprocessing.html\n",
      "  self.n_iter_ = _check_optimize_result(\"lbfgs\", opt_res, self.max_iter)\n",
      "D:\\AI\\Anaconda3\\lib\\site-packages\\sklearn\\neural_network\\_multilayer_perceptron.py:549: ConvergenceWarning: lbfgs failed to converge (status=1):\n",
      "STOP: TOTAL NO. of ITERATIONS REACHED LIMIT.\n",
      "\n",
      "Increase the number of iterations (max_iter) or scale the data as shown in:\n",
      "    https://scikit-learn.org/stable/modules/preprocessing.html\n",
      "  self.n_iter_ = _check_optimize_result(\"lbfgs\", opt_res, self.max_iter)\n",
      "D:\\AI\\Anaconda3\\lib\\site-packages\\sklearn\\neural_network\\_multilayer_perceptron.py:549: ConvergenceWarning: lbfgs failed to converge (status=1):\n",
      "STOP: TOTAL NO. of ITERATIONS REACHED LIMIT.\n",
      "\n",
      "Increase the number of iterations (max_iter) or scale the data as shown in:\n",
      "    https://scikit-learn.org/stable/modules/preprocessing.html\n",
      "  self.n_iter_ = _check_optimize_result(\"lbfgs\", opt_res, self.max_iter)\n",
      "D:\\AI\\Anaconda3\\lib\\site-packages\\sklearn\\neural_network\\_multilayer_perceptron.py:549: ConvergenceWarning: lbfgs failed to converge (status=1):\n",
      "STOP: TOTAL NO. of ITERATIONS REACHED LIMIT.\n",
      "\n",
      "Increase the number of iterations (max_iter) or scale the data as shown in:\n",
      "    https://scikit-learn.org/stable/modules/preprocessing.html\n",
      "  self.n_iter_ = _check_optimize_result(\"lbfgs\", opt_res, self.max_iter)\n",
      "D:\\AI\\Anaconda3\\lib\\site-packages\\sklearn\\neural_network\\_multilayer_perceptron.py:549: ConvergenceWarning: lbfgs failed to converge (status=1):\n",
      "STOP: TOTAL NO. of ITERATIONS REACHED LIMIT.\n",
      "\n",
      "Increase the number of iterations (max_iter) or scale the data as shown in:\n",
      "    https://scikit-learn.org/stable/modules/preprocessing.html\n",
      "  self.n_iter_ = _check_optimize_result(\"lbfgs\", opt_res, self.max_iter)\n",
      "D:\\AI\\Anaconda3\\lib\\site-packages\\sklearn\\neural_network\\_multilayer_perceptron.py:549: ConvergenceWarning: lbfgs failed to converge (status=1):\n",
      "STOP: TOTAL NO. of ITERATIONS REACHED LIMIT.\n",
      "\n",
      "Increase the number of iterations (max_iter) or scale the data as shown in:\n",
      "    https://scikit-learn.org/stable/modules/preprocessing.html\n",
      "  self.n_iter_ = _check_optimize_result(\"lbfgs\", opt_res, self.max_iter)\n",
      "D:\\AI\\Anaconda3\\lib\\site-packages\\sklearn\\neural_network\\_multilayer_perceptron.py:549: ConvergenceWarning: lbfgs failed to converge (status=1):\n",
      "STOP: TOTAL NO. of ITERATIONS REACHED LIMIT.\n",
      "\n",
      "Increase the number of iterations (max_iter) or scale the data as shown in:\n",
      "    https://scikit-learn.org/stable/modules/preprocessing.html\n",
      "  self.n_iter_ = _check_optimize_result(\"lbfgs\", opt_res, self.max_iter)\n",
      "D:\\AI\\Anaconda3\\lib\\site-packages\\sklearn\\neural_network\\_multilayer_perceptron.py:549: ConvergenceWarning: lbfgs failed to converge (status=1):\n",
      "STOP: TOTAL NO. of ITERATIONS REACHED LIMIT.\n",
      "\n",
      "Increase the number of iterations (max_iter) or scale the data as shown in:\n",
      "    https://scikit-learn.org/stable/modules/preprocessing.html\n",
      "  self.n_iter_ = _check_optimize_result(\"lbfgs\", opt_res, self.max_iter)\n"
     ]
    },
    {
     "name": "stdout",
     "output_type": "stream",
     "text": [
      "Iteration 1, loss = 0.67296567\n",
      "Iteration 2, loss = 0.52492542\n",
      "Iteration 3, loss = 0.44503537\n",
      "Iteration 4, loss = 0.38351295\n",
      "Iteration 5, loss = 0.33998961\n",
      "Iteration 6, loss = 0.30927800\n",
      "Iteration 7, loss = 0.28384449\n",
      "Iteration 8, loss = 0.26384176\n",
      "Iteration 9, loss = 0.24447618\n",
      "Iteration 10, loss = 0.22938403\n",
      "Iteration 11, loss = 0.21477115\n",
      "Iteration 12, loss = 0.20364861\n",
      "Iteration 13, loss = 0.18958328\n",
      "Iteration 14, loss = 0.17529130\n",
      "Iteration 15, loss = 0.16465020\n",
      "Iteration 16, loss = 0.15394388\n",
      "Iteration 17, loss = 0.14237840\n",
      "Iteration 18, loss = 0.13354491\n",
      "Iteration 19, loss = 0.12694356\n",
      "Iteration 20, loss = 0.11617222\n",
      "Iteration 1, loss = 0.68156904\n",
      "Iteration 2, loss = 0.53135028\n"
     ]
    },
    {
     "name": "stderr",
     "output_type": "stream",
     "text": [
      "D:\\AI\\Anaconda3\\lib\\site-packages\\sklearn\\neural_network\\_multilayer_perceptron.py:692: ConvergenceWarning: Stochastic Optimizer: Maximum iterations (20) reached and the optimization hasn't converged yet.\n",
      "  warnings.warn(\n"
     ]
    },
    {
     "name": "stdout",
     "output_type": "stream",
     "text": [
      "Iteration 3, loss = 0.44922605\n",
      "Iteration 4, loss = 0.38693108\n",
      "Iteration 5, loss = 0.34318877\n",
      "Iteration 6, loss = 0.31377488\n",
      "Iteration 7, loss = 0.28766279\n",
      "Iteration 8, loss = 0.26686593\n",
      "Iteration 9, loss = 0.24675421\n",
      "Iteration 10, loss = 0.23223645\n",
      "Iteration 11, loss = 0.21756022\n",
      "Iteration 12, loss = 0.20334729\n",
      "Iteration 13, loss = 0.19041850\n",
      "Iteration 14, loss = 0.17769382\n",
      "Iteration 15, loss = 0.16697275\n",
      "Iteration 16, loss = 0.15685990\n",
      "Iteration 17, loss = 0.14532209\n",
      "Iteration 18, loss = 0.13533895\n",
      "Iteration 19, loss = 0.12727802\n",
      "Iteration 20, loss = 0.11856171\n",
      "Iteration 1, loss = 0.67752288\n",
      "Iteration 2, loss = 0.53209824\n",
      "Iteration 3, loss = 0.45090428\n",
      "Iteration 4, loss = 0.38975854\n",
      "Iteration 5, loss = 0.34682325\n"
     ]
    },
    {
     "name": "stderr",
     "output_type": "stream",
     "text": [
      "D:\\AI\\Anaconda3\\lib\\site-packages\\sklearn\\neural_network\\_multilayer_perceptron.py:692: ConvergenceWarning: Stochastic Optimizer: Maximum iterations (20) reached and the optimization hasn't converged yet.\n",
      "  warnings.warn(\n"
     ]
    },
    {
     "name": "stdout",
     "output_type": "stream",
     "text": [
      "Iteration 6, loss = 0.31610515\n",
      "Iteration 7, loss = 0.28943204\n",
      "Iteration 8, loss = 0.26702193\n",
      "Iteration 9, loss = 0.24847352\n",
      "Iteration 10, loss = 0.23369603\n",
      "Iteration 11, loss = 0.21814304\n",
      "Iteration 12, loss = 0.20324058\n",
      "Iteration 13, loss = 0.19007628\n",
      "Iteration 14, loss = 0.17809636\n",
      "Iteration 15, loss = 0.16600813\n",
      "Iteration 16, loss = 0.15560477\n",
      "Iteration 17, loss = 0.14497636\n",
      "Iteration 18, loss = 0.13432794\n",
      "Iteration 19, loss = 0.12571221\n",
      "Iteration 20, loss = 0.11697722\n",
      "Iteration 1, loss = 0.67833163\n",
      "Iteration 2, loss = 0.53030954\n",
      "Iteration 3, loss = 0.44898158\n"
     ]
    },
    {
     "name": "stderr",
     "output_type": "stream",
     "text": [
      "D:\\AI\\Anaconda3\\lib\\site-packages\\sklearn\\neural_network\\_multilayer_perceptron.py:692: ConvergenceWarning: Stochastic Optimizer: Maximum iterations (20) reached and the optimization hasn't converged yet.\n",
      "  warnings.warn(\n"
     ]
    },
    {
     "name": "stdout",
     "output_type": "stream",
     "text": [
      "Iteration 4, loss = 0.38718927\n",
      "Iteration 5, loss = 0.34446164\n",
      "Iteration 6, loss = 0.31385653\n",
      "Iteration 7, loss = 0.28552344\n",
      "Iteration 8, loss = 0.26483231\n",
      "Iteration 9, loss = 0.24760161\n",
      "Iteration 10, loss = 0.23439554\n",
      "Iteration 11, loss = 0.21862819\n",
      "Iteration 12, loss = 0.20317748\n",
      "Iteration 13, loss = 0.19081445\n",
      "Iteration 14, loss = 0.17822225\n",
      "Iteration 15, loss = 0.16734768\n",
      "Iteration 16, loss = 0.15752351\n",
      "Iteration 17, loss = 0.14710404\n",
      "Iteration 18, loss = 0.13624961\n",
      "Iteration 19, loss = 0.12757265\n",
      "Iteration 20, loss = 0.11905892\n",
      "Iteration 1, loss = 0.67679441\n",
      "Iteration 2, loss = 0.52744708\n",
      "Iteration 3, loss = 0.44652536\n"
     ]
    },
    {
     "name": "stderr",
     "output_type": "stream",
     "text": [
      "D:\\AI\\Anaconda3\\lib\\site-packages\\sklearn\\neural_network\\_multilayer_perceptron.py:692: ConvergenceWarning: Stochastic Optimizer: Maximum iterations (20) reached and the optimization hasn't converged yet.\n",
      "  warnings.warn(\n"
     ]
    },
    {
     "name": "stdout",
     "output_type": "stream",
     "text": [
      "Iteration 4, loss = 0.38650714\n",
      "Iteration 5, loss = 0.34518390\n",
      "Iteration 6, loss = 0.31603529\n",
      "Iteration 7, loss = 0.28688690\n",
      "Iteration 8, loss = 0.26666297\n",
      "Iteration 9, loss = 0.24938764\n",
      "Iteration 10, loss = 0.23417490\n",
      "Iteration 11, loss = 0.21826868\n",
      "Iteration 12, loss = 0.20268372\n",
      "Iteration 13, loss = 0.19045553\n",
      "Iteration 14, loss = 0.17716462\n",
      "Iteration 15, loss = 0.16670704\n",
      "Iteration 16, loss = 0.15573962\n",
      "Iteration 17, loss = 0.14451425\n",
      "Iteration 18, loss = 0.13384988\n",
      "Iteration 19, loss = 0.12487845\n",
      "Iteration 20, loss = 0.11626768\n",
      "Iteration 1, loss = 0.67900048\n",
      "Iteration 2, loss = 0.52940808\n",
      "Iteration 3, loss = 0.44800467\n",
      "Iteration 4, loss = 0.38694151\n"
     ]
    },
    {
     "name": "stderr",
     "output_type": "stream",
     "text": [
      "D:\\AI\\Anaconda3\\lib\\site-packages\\sklearn\\neural_network\\_multilayer_perceptron.py:692: ConvergenceWarning: Stochastic Optimizer: Maximum iterations (20) reached and the optimization hasn't converged yet.\n",
      "  warnings.warn(\n"
     ]
    },
    {
     "name": "stdout",
     "output_type": "stream",
     "text": [
      "Iteration 5, loss = 0.34355106\n",
      "Iteration 6, loss = 0.31451405\n",
      "Iteration 7, loss = 0.28454287\n",
      "Iteration 8, loss = 0.26455337\n",
      "Iteration 9, loss = 0.24640811\n",
      "Iteration 10, loss = 0.23148742\n",
      "Iteration 11, loss = 0.21655359\n",
      "Iteration 12, loss = 0.20058115\n",
      "Iteration 13, loss = 0.18811551\n",
      "Iteration 14, loss = 0.17668792\n",
      "Iteration 15, loss = 0.16444972\n",
      "Iteration 16, loss = 0.15270517\n",
      "Iteration 17, loss = 0.14214150\n",
      "Iteration 18, loss = 0.13243625\n",
      "Iteration 19, loss = 0.12272849\n",
      "Iteration 20, loss = 0.11476101\n",
      "Iteration 1, loss = 0.67672679\n",
      "Iteration 2, loss = 0.52461984\n",
      "Iteration 3, loss = 0.44228685\n"
     ]
    },
    {
     "name": "stderr",
     "output_type": "stream",
     "text": [
      "D:\\AI\\Anaconda3\\lib\\site-packages\\sklearn\\neural_network\\_multilayer_perceptron.py:692: ConvergenceWarning: Stochastic Optimizer: Maximum iterations (20) reached and the optimization hasn't converged yet.\n",
      "  warnings.warn(\n"
     ]
    },
    {
     "name": "stdout",
     "output_type": "stream",
     "text": [
      "Iteration 4, loss = 0.38084912\n",
      "Iteration 5, loss = 0.33640019\n",
      "Iteration 6, loss = 0.30636755\n",
      "Iteration 7, loss = 0.27751741\n",
      "Iteration 8, loss = 0.25747282\n",
      "Iteration 9, loss = 0.23872505\n",
      "Iteration 10, loss = 0.22533214\n",
      "Iteration 11, loss = 0.20991481\n",
      "Iteration 12, loss = 0.19634896\n",
      "Iteration 13, loss = 0.18427738\n",
      "Iteration 14, loss = 0.17263768\n",
      "Iteration 15, loss = 0.16050378\n",
      "Iteration 16, loss = 0.15026781\n",
      "Iteration 17, loss = 0.14048003\n",
      "Iteration 18, loss = 0.13101596\n",
      "Iteration 19, loss = 0.12107557\n",
      "Iteration 20, loss = 0.11407700\n",
      "Iteration 1, loss = 0.67502022\n",
      "Iteration 2, loss = 0.52682487\n",
      "Iteration 3, loss = 0.44545492\n",
      "Iteration 4, loss = 0.38716240\n"
     ]
    },
    {
     "name": "stderr",
     "output_type": "stream",
     "text": [
      "D:\\AI\\Anaconda3\\lib\\site-packages\\sklearn\\neural_network\\_multilayer_perceptron.py:692: ConvergenceWarning: Stochastic Optimizer: Maximum iterations (20) reached and the optimization hasn't converged yet.\n",
      "  warnings.warn(\n"
     ]
    },
    {
     "name": "stdout",
     "output_type": "stream",
     "text": [
      "Iteration 5, loss = 0.34349266\n",
      "Iteration 6, loss = 0.31384735\n",
      "Iteration 7, loss = 0.28683122\n",
      "Iteration 8, loss = 0.26705391\n",
      "Iteration 9, loss = 0.24797013\n",
      "Iteration 10, loss = 0.23341788\n",
      "Iteration 11, loss = 0.21831210\n",
      "Iteration 12, loss = 0.20337395\n",
      "Iteration 13, loss = 0.19187407\n",
      "Iteration 14, loss = 0.18101452\n",
      "Iteration 15, loss = 0.16797846\n",
      "Iteration 16, loss = 0.15816422\n",
      "Iteration 17, loss = 0.14717940\n",
      "Iteration 18, loss = 0.13668258\n",
      "Iteration 19, loss = 0.12719233\n",
      "Iteration 20, loss = 0.11870903\n",
      "Iteration 1, loss = 0.67030691\n",
      "Iteration 2, loss = 0.52294515\n",
      "Iteration 3, loss = 0.44184974\n",
      "Iteration 4, loss = 0.38314671\n"
     ]
    },
    {
     "name": "stderr",
     "output_type": "stream",
     "text": [
      "D:\\AI\\Anaconda3\\lib\\site-packages\\sklearn\\neural_network\\_multilayer_perceptron.py:692: ConvergenceWarning: Stochastic Optimizer: Maximum iterations (20) reached and the optimization hasn't converged yet.\n",
      "  warnings.warn(\n"
     ]
    },
    {
     "name": "stdout",
     "output_type": "stream",
     "text": [
      "Iteration 5, loss = 0.33933788\n",
      "Iteration 6, loss = 0.30812725\n",
      "Iteration 7, loss = 0.28509363\n",
      "Iteration 8, loss = 0.26502180\n",
      "Iteration 9, loss = 0.24660770\n",
      "Iteration 10, loss = 0.23238557\n",
      "Iteration 11, loss = 0.21644597\n",
      "Iteration 12, loss = 0.20186757\n",
      "Iteration 13, loss = 0.19051421\n",
      "Iteration 14, loss = 0.17867269\n",
      "Iteration 15, loss = 0.16662573\n",
      "Iteration 16, loss = 0.15537845\n",
      "Iteration 17, loss = 0.14439020\n",
      "Iteration 18, loss = 0.13587815\n",
      "Iteration 19, loss = 0.12584697\n",
      "Iteration 20, loss = 0.11764570\n",
      "Iteration 1, loss = 0.67438805\n",
      "Iteration 2, loss = 0.53026148\n"
     ]
    },
    {
     "name": "stderr",
     "output_type": "stream",
     "text": [
      "D:\\AI\\Anaconda3\\lib\\site-packages\\sklearn\\neural_network\\_multilayer_perceptron.py:692: ConvergenceWarning: Stochastic Optimizer: Maximum iterations (20) reached and the optimization hasn't converged yet.\n",
      "  warnings.warn(\n"
     ]
    },
    {
     "name": "stdout",
     "output_type": "stream",
     "text": [
      "Iteration 3, loss = 0.44961498\n",
      "Iteration 4, loss = 0.39030137\n",
      "Iteration 5, loss = 0.34569746\n",
      "Iteration 6, loss = 0.31429092\n",
      "Iteration 7, loss = 0.28951527\n",
      "Iteration 8, loss = 0.26851070\n",
      "Iteration 9, loss = 0.25102811\n",
      "Iteration 10, loss = 0.23780387\n",
      "Iteration 11, loss = 0.22044422\n",
      "Iteration 12, loss = 0.20474644\n",
      "Iteration 13, loss = 0.19258702\n",
      "Iteration 14, loss = 0.17948905\n",
      "Iteration 15, loss = 0.16744419\n",
      "Iteration 16, loss = 0.15604731\n",
      "Iteration 17, loss = 0.14479737\n",
      "Iteration 18, loss = 0.13596233\n",
      "Iteration 19, loss = 0.12501068\n",
      "Iteration 20, loss = 0.11695519\n",
      "Iteration 1, loss = 0.76597856\n",
      "Iteration 2, loss = 0.72034776\n",
      "Iteration 3, loss = 0.68517144\n",
      "Iteration 4, loss = 0.65813681\n"
     ]
    },
    {
     "name": "stderr",
     "output_type": "stream",
     "text": [
      "D:\\AI\\Anaconda3\\lib\\site-packages\\sklearn\\neural_network\\_multilayer_perceptron.py:692: ConvergenceWarning: Stochastic Optimizer: Maximum iterations (20) reached and the optimization hasn't converged yet.\n",
      "  warnings.warn(\n"
     ]
    },
    {
     "name": "stdout",
     "output_type": "stream",
     "text": [
      "Iteration 5, loss = 0.63941687\n",
      "Iteration 6, loss = 0.62432771\n",
      "Iteration 7, loss = 0.61151480\n",
      "Iteration 8, loss = 0.60057064\n",
      "Iteration 9, loss = 0.58959400\n",
      "Iteration 10, loss = 0.58053130\n",
      "Iteration 11, loss = 0.57126012\n",
      "Iteration 12, loss = 0.56297414\n",
      "Iteration 13, loss = 0.55484891\n",
      "Iteration 14, loss = 0.54716820\n",
      "Iteration 15, loss = 0.53954345\n",
      "Iteration 16, loss = 0.53233199\n",
      "Iteration 17, loss = 0.52526413\n",
      "Iteration 18, loss = 0.51883574\n",
      "Iteration 19, loss = 0.51212495\n",
      "Iteration 20, loss = 0.50565965\n"
     ]
    },
    {
     "name": "stderr",
     "output_type": "stream",
     "text": [
      "D:\\AI\\Anaconda3\\lib\\site-packages\\sklearn\\neural_network\\_multilayer_perceptron.py:692: ConvergenceWarning: Stochastic Optimizer: Maximum iterations (20) reached and the optimization hasn't converged yet.\n",
      "  warnings.warn(\n"
     ]
    },
    {
     "name": "stdout",
     "output_type": "stream",
     "text": [
      "Iteration 1, loss = 0.76943474\n",
      "Iteration 2, loss = 0.72375276\n",
      "Iteration 3, loss = 0.68889636\n",
      "Iteration 4, loss = 0.66220887\n",
      "Iteration 5, loss = 0.64359933\n",
      "Iteration 6, loss = 0.62871750\n",
      "Iteration 7, loss = 0.61571163\n",
      "Iteration 8, loss = 0.60472149\n",
      "Iteration 9, loss = 0.59400753\n",
      "Iteration 10, loss = 0.58490211\n",
      "Iteration 11, loss = 0.57572023\n",
      "Iteration 12, loss = 0.56749747\n",
      "Iteration 13, loss = 0.55951789\n",
      "Iteration 14, loss = 0.55198655\n",
      "Iteration 15, loss = 0.54436786\n",
      "Iteration 16, loss = 0.53721663\n",
      "Iteration 17, loss = 0.53011588\n",
      "Iteration 18, loss = 0.52364154\n",
      "Iteration 19, loss = 0.51702813\n",
      "Iteration 20, loss = 0.51063780\n",
      "Iteration 1, loss = 0.76524629\n",
      "Iteration 2, loss = 0.72069983\n",
      "Iteration 3, loss = 0.68658708\n",
      "Iteration 4, loss = 0.66053873\n",
      "Iteration 5, loss = 0.64244506\n",
      "Iteration 6, loss = 0.62769665\n"
     ]
    },
    {
     "name": "stderr",
     "output_type": "stream",
     "text": [
      "D:\\AI\\Anaconda3\\lib\\site-packages\\sklearn\\neural_network\\_multilayer_perceptron.py:692: ConvergenceWarning: Stochastic Optimizer: Maximum iterations (20) reached and the optimization hasn't converged yet.\n",
      "  warnings.warn(\n"
     ]
    },
    {
     "name": "stdout",
     "output_type": "stream",
     "text": [
      "Iteration 7, loss = 0.61502752\n",
      "Iteration 8, loss = 0.60437185\n",
      "Iteration 9, loss = 0.59433599\n",
      "Iteration 10, loss = 0.58522858\n",
      "Iteration 11, loss = 0.57627759\n",
      "Iteration 12, loss = 0.56818864\n",
      "Iteration 13, loss = 0.56054866\n",
      "Iteration 14, loss = 0.55305244\n",
      "Iteration 15, loss = 0.54558808\n",
      "Iteration 16, loss = 0.53858303\n",
      "Iteration 17, loss = 0.53183105\n",
      "Iteration 18, loss = 0.52520203\n",
      "Iteration 19, loss = 0.51855986\n",
      "Iteration 20, loss = 0.51219628\n",
      "Iteration 1, loss = 0.76665616\n",
      "Iteration 2, loss = 0.72129715\n",
      "Iteration 3, loss = 0.68635713\n",
      "Iteration 4, loss = 0.65966963\n",
      "Iteration 5, loss = 0.64097705\n",
      "Iteration 6, loss = 0.62563222\n"
     ]
    },
    {
     "name": "stderr",
     "output_type": "stream",
     "text": [
      "D:\\AI\\Anaconda3\\lib\\site-packages\\sklearn\\neural_network\\_multilayer_perceptron.py:692: ConvergenceWarning: Stochastic Optimizer: Maximum iterations (20) reached and the optimization hasn't converged yet.\n",
      "  warnings.warn(\n"
     ]
    },
    {
     "name": "stdout",
     "output_type": "stream",
     "text": [
      "Iteration 7, loss = 0.61247445\n",
      "Iteration 8, loss = 0.60136228\n",
      "Iteration 9, loss = 0.59109524\n",
      "Iteration 10, loss = 0.58161683\n",
      "Iteration 11, loss = 0.57234080\n",
      "Iteration 12, loss = 0.56393672\n",
      "Iteration 13, loss = 0.55610209\n",
      "Iteration 14, loss = 0.54840959\n",
      "Iteration 15, loss = 0.54060908\n",
      "Iteration 16, loss = 0.53343091\n",
      "Iteration 17, loss = 0.52641050\n",
      "Iteration 18, loss = 0.51964537\n",
      "Iteration 19, loss = 0.51300680\n",
      "Iteration 20, loss = 0.50655415\n",
      "Iteration 1, loss = 0.76567332\n",
      "Iteration 2, loss = 0.71884021\n",
      "Iteration 3, loss = 0.68410526\n",
      "Iteration 4, loss = 0.65729919\n",
      "Iteration 5, loss = 0.63887139\n"
     ]
    },
    {
     "name": "stderr",
     "output_type": "stream",
     "text": [
      "D:\\AI\\Anaconda3\\lib\\site-packages\\sklearn\\neural_network\\_multilayer_perceptron.py:692: ConvergenceWarning: Stochastic Optimizer: Maximum iterations (20) reached and the optimization hasn't converged yet.\n",
      "  warnings.warn(\n"
     ]
    },
    {
     "name": "stdout",
     "output_type": "stream",
     "text": [
      "Iteration 6, loss = 0.62358269\n",
      "Iteration 7, loss = 0.61056692\n",
      "Iteration 8, loss = 0.59934773\n",
      "Iteration 9, loss = 0.58928792\n",
      "Iteration 10, loss = 0.57979272\n",
      "Iteration 11, loss = 0.57046665\n",
      "Iteration 12, loss = 0.56201143\n",
      "Iteration 13, loss = 0.55439609\n",
      "Iteration 14, loss = 0.54633418\n",
      "Iteration 15, loss = 0.53872076\n",
      "Iteration 16, loss = 0.53153906\n",
      "Iteration 17, loss = 0.52479447\n",
      "Iteration 18, loss = 0.51808139\n",
      "Iteration 19, loss = 0.51148949\n",
      "Iteration 20, loss = 0.50481770\n",
      "Iteration 1, loss = 0.76741350\n",
      "Iteration 2, loss = 0.72110882\n",
      "Iteration 3, loss = 0.68658331\n",
      "Iteration 4, loss = 0.65985852\n",
      "Iteration 5, loss = 0.64129899\n",
      "Iteration 6, loss = 0.62609625\n"
     ]
    },
    {
     "name": "stderr",
     "output_type": "stream",
     "text": [
      "D:\\AI\\Anaconda3\\lib\\site-packages\\sklearn\\neural_network\\_multilayer_perceptron.py:692: ConvergenceWarning: Stochastic Optimizer: Maximum iterations (20) reached and the optimization hasn't converged yet.\n",
      "  warnings.warn(\n"
     ]
    },
    {
     "name": "stdout",
     "output_type": "stream",
     "text": [
      "Iteration 7, loss = 0.61337174\n",
      "Iteration 8, loss = 0.60227265\n",
      "Iteration 9, loss = 0.59234052\n",
      "Iteration 10, loss = 0.58307901\n",
      "Iteration 11, loss = 0.57399344\n",
      "Iteration 12, loss = 0.56568781\n",
      "Iteration 13, loss = 0.55825511\n",
      "Iteration 14, loss = 0.55010129\n",
      "Iteration 15, loss = 0.54264326\n",
      "Iteration 16, loss = 0.53551446\n",
      "Iteration 17, loss = 0.52860868\n",
      "Iteration 18, loss = 0.52209242\n",
      "Iteration 19, loss = 0.51539297\n",
      "Iteration 20, loss = 0.50881581\n",
      "Iteration 1, loss = 0.76912738\n",
      "Iteration 2, loss = 0.72079387\n",
      "Iteration 3, loss = 0.68443621\n"
     ]
    },
    {
     "name": "stderr",
     "output_type": "stream",
     "text": [
      "D:\\AI\\Anaconda3\\lib\\site-packages\\sklearn\\neural_network\\_multilayer_perceptron.py:692: ConvergenceWarning: Stochastic Optimizer: Maximum iterations (20) reached and the optimization hasn't converged yet.\n",
      "  warnings.warn(\n"
     ]
    },
    {
     "name": "stdout",
     "output_type": "stream",
     "text": [
      "Iteration 4, loss = 0.65702442\n",
      "Iteration 5, loss = 0.63807419\n",
      "Iteration 6, loss = 0.62270811\n",
      "Iteration 7, loss = 0.60966705\n",
      "Iteration 8, loss = 0.59839914\n",
      "Iteration 9, loss = 0.58809059\n",
      "Iteration 10, loss = 0.57883163\n",
      "Iteration 11, loss = 0.56970135\n",
      "Iteration 12, loss = 0.56151515\n",
      "Iteration 13, loss = 0.55386563\n",
      "Iteration 14, loss = 0.54579118\n",
      "Iteration 15, loss = 0.53817471\n",
      "Iteration 16, loss = 0.53128199\n",
      "Iteration 17, loss = 0.52414848\n",
      "Iteration 18, loss = 0.51777843\n",
      "Iteration 19, loss = 0.51128610\n",
      "Iteration 20, loss = 0.50472751\n",
      "Iteration 1, loss = 0.76427668\n",
      "Iteration 2, loss = 0.71937679\n",
      "Iteration 3, loss = 0.68493298\n"
     ]
    },
    {
     "name": "stderr",
     "output_type": "stream",
     "text": [
      "D:\\AI\\Anaconda3\\lib\\site-packages\\sklearn\\neural_network\\_multilayer_perceptron.py:692: ConvergenceWarning: Stochastic Optimizer: Maximum iterations (20) reached and the optimization hasn't converged yet.\n",
      "  warnings.warn(\n"
     ]
    },
    {
     "name": "stdout",
     "output_type": "stream",
     "text": [
      "Iteration 4, loss = 0.65959303\n",
      "Iteration 5, loss = 0.64089828\n",
      "Iteration 6, loss = 0.62586029\n",
      "Iteration 7, loss = 0.61294806\n",
      "Iteration 8, loss = 0.60171019\n",
      "Iteration 9, loss = 0.59143599\n",
      "Iteration 10, loss = 0.58208425\n",
      "Iteration 11, loss = 0.57294023\n",
      "Iteration 12, loss = 0.56460610\n",
      "Iteration 13, loss = 0.55687574\n",
      "Iteration 14, loss = 0.54905498\n",
      "Iteration 15, loss = 0.54125301\n",
      "Iteration 16, loss = 0.53476709\n",
      "Iteration 17, loss = 0.52733155\n",
      "Iteration 18, loss = 0.52062377\n",
      "Iteration 19, loss = 0.51406787\n",
      "Iteration 20, loss = 0.50760186\n",
      "Iteration 1, loss = 0.76275610\n",
      "Iteration 2, loss = 0.71655288\n",
      "Iteration 3, loss = 0.68143347\n"
     ]
    },
    {
     "name": "stderr",
     "output_type": "stream",
     "text": [
      "D:\\AI\\Anaconda3\\lib\\site-packages\\sklearn\\neural_network\\_multilayer_perceptron.py:692: ConvergenceWarning: Stochastic Optimizer: Maximum iterations (20) reached and the optimization hasn't converged yet.\n",
      "  warnings.warn(\n"
     ]
    },
    {
     "name": "stdout",
     "output_type": "stream",
     "text": [
      "Iteration 4, loss = 0.65534051\n",
      "Iteration 5, loss = 0.63672379\n",
      "Iteration 6, loss = 0.62145056\n",
      "Iteration 7, loss = 0.60884153\n",
      "Iteration 8, loss = 0.59757018\n",
      "Iteration 9, loss = 0.58760127\n",
      "Iteration 10, loss = 0.57817047\n",
      "Iteration 11, loss = 0.56908574\n",
      "Iteration 12, loss = 0.56099226\n",
      "Iteration 13, loss = 0.55291004\n",
      "Iteration 14, loss = 0.54573607\n",
      "Iteration 15, loss = 0.53790398\n",
      "Iteration 16, loss = 0.53036601\n",
      "Iteration 17, loss = 0.52359364\n",
      "Iteration 18, loss = 0.51653326\n",
      "Iteration 19, loss = 0.51014506\n",
      "Iteration 20, loss = 0.50366670\n"
     ]
    },
    {
     "name": "stderr",
     "output_type": "stream",
     "text": [
      "D:\\AI\\Anaconda3\\lib\\site-packages\\sklearn\\neural_network\\_multilayer_perceptron.py:692: ConvergenceWarning: Stochastic Optimizer: Maximum iterations (20) reached and the optimization hasn't converged yet.\n",
      "  warnings.warn(\n"
     ]
    },
    {
     "name": "stdout",
     "output_type": "stream",
     "text": [
      "Iteration 1, loss = 0.76276134\n",
      "Iteration 2, loss = 0.71936317\n",
      "Iteration 3, loss = 0.68544260\n",
      "Iteration 4, loss = 0.66017346\n",
      "Iteration 5, loss = 0.64207409\n",
      "Iteration 6, loss = 0.62716774\n",
      "Iteration 7, loss = 0.61458059\n",
      "Iteration 8, loss = 0.60358697\n",
      "Iteration 9, loss = 0.59364376\n",
      "Iteration 10, loss = 0.58432253\n",
      "Iteration 11, loss = 0.57542409\n",
      "Iteration 12, loss = 0.56744548\n",
      "Iteration 13, loss = 0.55953838\n",
      "Iteration 14, loss = 0.55217933\n",
      "Iteration 15, loss = 0.54479936\n",
      "Iteration 16, loss = 0.53741431\n",
      "Iteration 17, loss = 0.53094774\n",
      "Iteration 18, loss = 0.52404548\n",
      "Iteration 19, loss = 0.51778591\n",
      "Iteration 20, loss = 0.51136377\n"
     ]
    },
    {
     "name": "stderr",
     "output_type": "stream",
     "text": [
      "D:\\AI\\Anaconda3\\lib\\site-packages\\sklearn\\neural_network\\_multilayer_perceptron.py:692: ConvergenceWarning: Stochastic Optimizer: Maximum iterations (20) reached and the optimization hasn't converged yet.\n",
      "  warnings.warn(\n",
      "D:\\AI\\Anaconda3\\lib\\site-packages\\sklearn\\neural_network\\_multilayer_perceptron.py:549: ConvergenceWarning: lbfgs failed to converge (status=1):\n",
      "STOP: TOTAL NO. of ITERATIONS REACHED LIMIT.\n",
      "\n",
      "Increase the number of iterations (max_iter) or scale the data as shown in:\n",
      "    https://scikit-learn.org/stable/modules/preprocessing.html\n",
      "  self.n_iter_ = _check_optimize_result(\"lbfgs\", opt_res, self.max_iter)\n",
      "D:\\AI\\Anaconda3\\lib\\site-packages\\sklearn\\neural_network\\_multilayer_perceptron.py:549: ConvergenceWarning: lbfgs failed to converge (status=1):\n",
      "STOP: TOTAL NO. of ITERATIONS REACHED LIMIT.\n",
      "\n",
      "Increase the number of iterations (max_iter) or scale the data as shown in:\n",
      "    https://scikit-learn.org/stable/modules/preprocessing.html\n",
      "  self.n_iter_ = _check_optimize_result(\"lbfgs\", opt_res, self.max_iter)\n",
      "D:\\AI\\Anaconda3\\lib\\site-packages\\sklearn\\neural_network\\_multilayer_perceptron.py:549: ConvergenceWarning: lbfgs failed to converge (status=1):\n",
      "STOP: TOTAL NO. of ITERATIONS REACHED LIMIT.\n",
      "\n",
      "Increase the number of iterations (max_iter) or scale the data as shown in:\n",
      "    https://scikit-learn.org/stable/modules/preprocessing.html\n",
      "  self.n_iter_ = _check_optimize_result(\"lbfgs\", opt_res, self.max_iter)\n",
      "D:\\AI\\Anaconda3\\lib\\site-packages\\sklearn\\neural_network\\_multilayer_perceptron.py:549: ConvergenceWarning: lbfgs failed to converge (status=1):\n",
      "STOP: TOTAL NO. of ITERATIONS REACHED LIMIT.\n",
      "\n",
      "Increase the number of iterations (max_iter) or scale the data as shown in:\n",
      "    https://scikit-learn.org/stable/modules/preprocessing.html\n",
      "  self.n_iter_ = _check_optimize_result(\"lbfgs\", opt_res, self.max_iter)\n",
      "D:\\AI\\Anaconda3\\lib\\site-packages\\sklearn\\neural_network\\_multilayer_perceptron.py:549: ConvergenceWarning: lbfgs failed to converge (status=1):\n",
      "STOP: TOTAL NO. of ITERATIONS REACHED LIMIT.\n",
      "\n",
      "Increase the number of iterations (max_iter) or scale the data as shown in:\n",
      "    https://scikit-learn.org/stable/modules/preprocessing.html\n",
      "  self.n_iter_ = _check_optimize_result(\"lbfgs\", opt_res, self.max_iter)\n",
      "D:\\AI\\Anaconda3\\lib\\site-packages\\sklearn\\neural_network\\_multilayer_perceptron.py:549: ConvergenceWarning: lbfgs failed to converge (status=1):\n",
      "STOP: TOTAL NO. of ITERATIONS REACHED LIMIT.\n",
      "\n",
      "Increase the number of iterations (max_iter) or scale the data as shown in:\n",
      "    https://scikit-learn.org/stable/modules/preprocessing.html\n",
      "  self.n_iter_ = _check_optimize_result(\"lbfgs\", opt_res, self.max_iter)\n",
      "D:\\AI\\Anaconda3\\lib\\site-packages\\sklearn\\neural_network\\_multilayer_perceptron.py:549: ConvergenceWarning: lbfgs failed to converge (status=1):\n",
      "STOP: TOTAL NO. of ITERATIONS REACHED LIMIT.\n",
      "\n",
      "Increase the number of iterations (max_iter) or scale the data as shown in:\n",
      "    https://scikit-learn.org/stable/modules/preprocessing.html\n",
      "  self.n_iter_ = _check_optimize_result(\"lbfgs\", opt_res, self.max_iter)\n",
      "D:\\AI\\Anaconda3\\lib\\site-packages\\sklearn\\neural_network\\_multilayer_perceptron.py:549: ConvergenceWarning: lbfgs failed to converge (status=1):\n",
      "STOP: TOTAL NO. of ITERATIONS REACHED LIMIT.\n",
      "\n",
      "Increase the number of iterations (max_iter) or scale the data as shown in:\n",
      "    https://scikit-learn.org/stable/modules/preprocessing.html\n",
      "  self.n_iter_ = _check_optimize_result(\"lbfgs\", opt_res, self.max_iter)\n",
      "D:\\AI\\Anaconda3\\lib\\site-packages\\sklearn\\neural_network\\_multilayer_perceptron.py:549: ConvergenceWarning: lbfgs failed to converge (status=1):\n",
      "STOP: TOTAL NO. of ITERATIONS REACHED LIMIT.\n",
      "\n",
      "Increase the number of iterations (max_iter) or scale the data as shown in:\n",
      "    https://scikit-learn.org/stable/modules/preprocessing.html\n",
      "  self.n_iter_ = _check_optimize_result(\"lbfgs\", opt_res, self.max_iter)\n",
      "D:\\AI\\Anaconda3\\lib\\site-packages\\sklearn\\neural_network\\_multilayer_perceptron.py:549: ConvergenceWarning: lbfgs failed to converge (status=1):\n",
      "STOP: TOTAL NO. of ITERATIONS REACHED LIMIT.\n",
      "\n",
      "Increase the number of iterations (max_iter) or scale the data as shown in:\n",
      "    https://scikit-learn.org/stable/modules/preprocessing.html\n",
      "  self.n_iter_ = _check_optimize_result(\"lbfgs\", opt_res, self.max_iter)\n"
     ]
    },
    {
     "name": "stdout",
     "output_type": "stream",
     "text": [
      "Iteration 1, loss = 0.93756119\n",
      "Iteration 2, loss = 0.91641614\n",
      "Iteration 3, loss = 0.90030578\n",
      "Iteration 4, loss = 0.88813883\n",
      "Iteration 5, loss = 0.87854661\n",
      "Iteration 6, loss = 0.87097311\n",
      "Iteration 7, loss = 0.86450525\n",
      "Iteration 8, loss = 0.85879413\n",
      "Iteration 9, loss = 0.85371747\n",
      "Iteration 10, loss = 0.84894195\n",
      "Iteration 11, loss = 0.84442483\n",
      "Iteration 12, loss = 0.84017169\n",
      "Iteration 13, loss = 0.83596024\n",
      "Iteration 14, loss = 0.83184715\n",
      "Iteration 15, loss = 0.82787377\n",
      "Iteration 16, loss = 0.82393503\n",
      "Iteration 17, loss = 0.82008017\n",
      "Iteration 18, loss = 0.81625624\n",
      "Iteration 19, loss = 0.81248651\n",
      "Iteration 20, loss = 0.80869903\n",
      "Iteration 1, loss = 0.93280277\n",
      "Iteration 2, loss = 0.91177850\n",
      "Iteration 3, loss = 0.89567411\n",
      "Iteration 4, loss = 0.88353948\n",
      "Iteration 5, loss = 0.87401707\n",
      "Iteration 6, loss = 0.86645549\n",
      "Iteration 7, loss = 0.85999569\n",
      "Iteration 8, loss = 0.85432354\n",
      "Iteration 9, loss = 0.84930193\n",
      "Iteration 10, loss = 0.84463595\n",
      "Iteration 11, loss = 0.84018555\n",
      "Iteration 12, loss = 0.83596666\n",
      "Iteration 13, loss = 0.83185374\n"
     ]
    },
    {
     "name": "stderr",
     "output_type": "stream",
     "text": [
      "D:\\AI\\Anaconda3\\lib\\site-packages\\sklearn\\neural_network\\_multilayer_perceptron.py:692: ConvergenceWarning: Stochastic Optimizer: Maximum iterations (20) reached and the optimization hasn't converged yet.\n",
      "  warnings.warn(\n"
     ]
    },
    {
     "name": "stdout",
     "output_type": "stream",
     "text": [
      "Iteration 14, loss = 0.82781624\n",
      "Iteration 15, loss = 0.82391641\n",
      "Iteration 16, loss = 0.82006601\n",
      "Iteration 17, loss = 0.81628400\n",
      "Iteration 18, loss = 0.81254720\n",
      "Iteration 19, loss = 0.80886563\n",
      "Iteration 20, loss = 0.80519982\n",
      "Iteration 1, loss = 0.92815709\n",
      "Iteration 2, loss = 0.90750625\n",
      "Iteration 3, loss = 0.89179608\n",
      "Iteration 4, loss = 0.87996821\n",
      "Iteration 5, loss = 0.87058440\n",
      "Iteration 6, loss = 0.86320594\n",
      "Iteration 7, loss = 0.85686395\n",
      "Iteration 8, loss = 0.85127949\n",
      "Iteration 9, loss = 0.84633009\n"
     ]
    },
    {
     "name": "stderr",
     "output_type": "stream",
     "text": [
      "D:\\AI\\Anaconda3\\lib\\site-packages\\sklearn\\neural_network\\_multilayer_perceptron.py:692: ConvergenceWarning: Stochastic Optimizer: Maximum iterations (20) reached and the optimization hasn't converged yet.\n",
      "  warnings.warn(\n"
     ]
    },
    {
     "name": "stdout",
     "output_type": "stream",
     "text": [
      "Iteration 10, loss = 0.84173082\n",
      "Iteration 11, loss = 0.83735952\n",
      "Iteration 12, loss = 0.83317746\n",
      "Iteration 13, loss = 0.82911661\n",
      "Iteration 14, loss = 0.82513578\n",
      "Iteration 15, loss = 0.82125296\n",
      "Iteration 16, loss = 0.81744328\n",
      "Iteration 17, loss = 0.81368466\n",
      "Iteration 18, loss = 0.80994173\n",
      "Iteration 19, loss = 0.80624253\n",
      "Iteration 20, loss = 0.80251522\n",
      "Iteration 1, loss = 0.93653910\n",
      "Iteration 2, loss = 0.91524225\n",
      "Iteration 3, loss = 0.89910156\n",
      "Iteration 4, loss = 0.88696958\n"
     ]
    },
    {
     "name": "stderr",
     "output_type": "stream",
     "text": [
      "D:\\AI\\Anaconda3\\lib\\site-packages\\sklearn\\neural_network\\_multilayer_perceptron.py:692: ConvergenceWarning: Stochastic Optimizer: Maximum iterations (20) reached and the optimization hasn't converged yet.\n",
      "  warnings.warn(\n"
     ]
    },
    {
     "name": "stdout",
     "output_type": "stream",
     "text": [
      "Iteration 5, loss = 0.87734452\n",
      "Iteration 6, loss = 0.86975070\n",
      "Iteration 7, loss = 0.86326961\n",
      "Iteration 8, loss = 0.85756118\n",
      "Iteration 9, loss = 0.85249626\n",
      "Iteration 10, loss = 0.84777534\n",
      "Iteration 11, loss = 0.84333539\n",
      "Iteration 12, loss = 0.83905587\n",
      "Iteration 13, loss = 0.83488498\n",
      "Iteration 14, loss = 0.83084337\n",
      "Iteration 15, loss = 0.82684170\n",
      "Iteration 16, loss = 0.82297634\n",
      "Iteration 17, loss = 0.81912024\n",
      "Iteration 18, loss = 0.81532904\n",
      "Iteration 19, loss = 0.81154728\n",
      "Iteration 20, loss = 0.80781273\n",
      "Iteration 1, loss = 0.92778122\n",
      "Iteration 2, loss = 0.90696177\n",
      "Iteration 3, loss = 0.89119824\n",
      "Iteration 4, loss = 0.87938341\n",
      "Iteration 5, loss = 0.86991018\n",
      "Iteration 6, loss = 0.86254856\n"
     ]
    },
    {
     "name": "stderr",
     "output_type": "stream",
     "text": [
      "D:\\AI\\Anaconda3\\lib\\site-packages\\sklearn\\neural_network\\_multilayer_perceptron.py:692: ConvergenceWarning: Stochastic Optimizer: Maximum iterations (20) reached and the optimization hasn't converged yet.\n",
      "  warnings.warn(\n"
     ]
    },
    {
     "name": "stdout",
     "output_type": "stream",
     "text": [
      "Iteration 7, loss = 0.85618994\n",
      "Iteration 8, loss = 0.85067949\n",
      "Iteration 9, loss = 0.84573115\n",
      "Iteration 10, loss = 0.84118291\n",
      "Iteration 11, loss = 0.83682303\n",
      "Iteration 12, loss = 0.83266116\n",
      "Iteration 13, loss = 0.82856910\n",
      "Iteration 14, loss = 0.82459128\n",
      "Iteration 15, loss = 0.82062325\n",
      "Iteration 16, loss = 0.81672643\n",
      "Iteration 17, loss = 0.81276993\n",
      "Iteration 18, loss = 0.80878951\n",
      "Iteration 19, loss = 0.80464275\n",
      "Iteration 20, loss = 0.80035930\n",
      "Iteration 1, loss = 0.93307630\n",
      "Iteration 2, loss = 0.91218748\n",
      "Iteration 3, loss = 0.89621973\n"
     ]
    },
    {
     "name": "stderr",
     "output_type": "stream",
     "text": [
      "D:\\AI\\Anaconda3\\lib\\site-packages\\sklearn\\neural_network\\_multilayer_perceptron.py:692: ConvergenceWarning: Stochastic Optimizer: Maximum iterations (20) reached and the optimization hasn't converged yet.\n",
      "  warnings.warn(\n"
     ]
    },
    {
     "name": "stdout",
     "output_type": "stream",
     "text": [
      "Iteration 4, loss = 0.88429346\n",
      "Iteration 5, loss = 0.87477330\n",
      "Iteration 6, loss = 0.86730620\n",
      "Iteration 7, loss = 0.86085471\n",
      "Iteration 8, loss = 0.85533222\n",
      "Iteration 9, loss = 0.85024934\n",
      "Iteration 10, loss = 0.84564208\n",
      "Iteration 11, loss = 0.84122104\n",
      "Iteration 12, loss = 0.83696153\n",
      "Iteration 13, loss = 0.83282211\n",
      "Iteration 14, loss = 0.82880801\n",
      "Iteration 15, loss = 0.82476021\n",
      "Iteration 16, loss = 0.82087946\n",
      "Iteration 17, loss = 0.81691449\n",
      "Iteration 18, loss = 0.81302396\n",
      "Iteration 19, loss = 0.80901832\n",
      "Iteration 20, loss = 0.80493420\n",
      "Iteration 1, loss = 0.93714351\n",
      "Iteration 2, loss = 0.91606905\n",
      "Iteration 3, loss = 0.89995360\n",
      "Iteration 4, loss = 0.88787620\n",
      "Iteration 5, loss = 0.87815922\n",
      "Iteration 6, loss = 0.87057139\n",
      "Iteration 7, loss = 0.86398128\n",
      "Iteration 8, loss = 0.85841601\n",
      "Iteration 9, loss = 0.85324022\n",
      "Iteration 10, loss = 0.84857689\n",
      "Iteration 11, loss = 0.84410877\n",
      "Iteration 12, loss = 0.83978549\n",
      "Iteration 13, loss = 0.83562403\n",
      "Iteration 14, loss = 0.83156491\n"
     ]
    },
    {
     "name": "stderr",
     "output_type": "stream",
     "text": [
      "D:\\AI\\Anaconda3\\lib\\site-packages\\sklearn\\neural_network\\_multilayer_perceptron.py:692: ConvergenceWarning: Stochastic Optimizer: Maximum iterations (20) reached and the optimization hasn't converged yet.\n",
      "  warnings.warn(\n"
     ]
    },
    {
     "name": "stdout",
     "output_type": "stream",
     "text": [
      "Iteration 15, loss = 0.82749465\n",
      "Iteration 16, loss = 0.82358569\n",
      "Iteration 17, loss = 0.81963007\n",
      "Iteration 18, loss = 0.81581365\n",
      "Iteration 19, loss = 0.81189141\n",
      "Iteration 20, loss = 0.80797394\n",
      "Iteration 1, loss = 0.94162158\n",
      "Iteration 2, loss = 0.92022060\n",
      "Iteration 3, loss = 0.90384430\n",
      "Iteration 4, loss = 0.89158906\n",
      "Iteration 5, loss = 0.88185586\n",
      "Iteration 6, loss = 0.87419726\n",
      "Iteration 7, loss = 0.86756279\n",
      "Iteration 8, loss = 0.86192690\n",
      "Iteration 9, loss = 0.85670507\n",
      "Iteration 10, loss = 0.85195354\n",
      "Iteration 11, loss = 0.84740359\n"
     ]
    },
    {
     "name": "stderr",
     "output_type": "stream",
     "text": [
      "D:\\AI\\Anaconda3\\lib\\site-packages\\sklearn\\neural_network\\_multilayer_perceptron.py:692: ConvergenceWarning: Stochastic Optimizer: Maximum iterations (20) reached and the optimization hasn't converged yet.\n",
      "  warnings.warn(\n"
     ]
    },
    {
     "name": "stdout",
     "output_type": "stream",
     "text": [
      "Iteration 12, loss = 0.84303377\n",
      "Iteration 13, loss = 0.83882194\n",
      "Iteration 14, loss = 0.83470656\n",
      "Iteration 15, loss = 0.83059042\n",
      "Iteration 16, loss = 0.82664446\n",
      "Iteration 17, loss = 0.82266260\n",
      "Iteration 18, loss = 0.81879994\n",
      "Iteration 19, loss = 0.81490023\n",
      "Iteration 20, loss = 0.81098870\n",
      "Iteration 1, loss = 0.93283126\n",
      "Iteration 2, loss = 0.91197159\n",
      "Iteration 3, loss = 0.89607373\n",
      "Iteration 4, loss = 0.88374813\n",
      "Iteration 5, loss = 0.87446330\n",
      "Iteration 6, loss = 0.86681290\n",
      "Iteration 7, loss = 0.86035164\n",
      "Iteration 8, loss = 0.85481522\n",
      "Iteration 9, loss = 0.84978382\n"
     ]
    },
    {
     "name": "stderr",
     "output_type": "stream",
     "text": [
      "D:\\AI\\Anaconda3\\lib\\site-packages\\sklearn\\neural_network\\_multilayer_perceptron.py:692: ConvergenceWarning: Stochastic Optimizer: Maximum iterations (20) reached and the optimization hasn't converged yet.\n",
      "  warnings.warn(\n"
     ]
    },
    {
     "name": "stdout",
     "output_type": "stream",
     "text": [
      "Iteration 10, loss = 0.84515755\n",
      "Iteration 11, loss = 0.84064984\n",
      "Iteration 12, loss = 0.83648666\n",
      "Iteration 13, loss = 0.83238568\n",
      "Iteration 14, loss = 0.82841636\n",
      "Iteration 15, loss = 0.82443872\n",
      "Iteration 16, loss = 0.82057488\n",
      "Iteration 17, loss = 0.81678241\n",
      "Iteration 18, loss = 0.81297419\n",
      "Iteration 19, loss = 0.80921743\n",
      "Iteration 20, loss = 0.80545502\n",
      "Iteration 1, loss = 0.93359235\n",
      "Iteration 2, loss = 0.91282952\n",
      "Iteration 3, loss = 0.89700055\n",
      "Iteration 4, loss = 0.88477734\n",
      "Iteration 5, loss = 0.87550211\n",
      "Iteration 6, loss = 0.86780416\n",
      "Iteration 7, loss = 0.86138639\n",
      "Iteration 8, loss = 0.85582597\n",
      "Iteration 9, loss = 0.85076254\n",
      "Iteration 10, loss = 0.84611657\n"
     ]
    },
    {
     "name": "stderr",
     "output_type": "stream",
     "text": [
      "D:\\AI\\Anaconda3\\lib\\site-packages\\sklearn\\neural_network\\_multilayer_perceptron.py:692: ConvergenceWarning: Stochastic Optimizer: Maximum iterations (20) reached and the optimization hasn't converged yet.\n",
      "  warnings.warn(\n",
      "D:\\AI\\Anaconda3\\lib\\site-packages\\sklearn\\neural_network\\_multilayer_perceptron.py:692: ConvergenceWarning: Stochastic Optimizer: Maximum iterations (20) reached and the optimization hasn't converged yet.\n",
      "  warnings.warn(\n"
     ]
    },
    {
     "name": "stdout",
     "output_type": "stream",
     "text": [
      "Iteration 11, loss = 0.84160389\n",
      "Iteration 12, loss = 0.83741953\n",
      "Iteration 13, loss = 0.83330756\n",
      "Iteration 14, loss = 0.82931704\n",
      "Iteration 15, loss = 0.82532681\n",
      "Iteration 16, loss = 0.82147199\n",
      "Iteration 17, loss = 0.81766948\n",
      "Iteration 18, loss = 0.81383765\n",
      "Iteration 19, loss = 0.81009951\n",
      "Iteration 20, loss = 0.80634226\n",
      "Iteration 1, loss = 0.93286175\n",
      "Iteration 2, loss = 0.88285884\n",
      "Iteration 3, loss = 0.83909452\n",
      "Iteration 4, loss = 0.80810460\n",
      "Iteration 5, loss = 0.78694939\n",
      "Iteration 6, loss = 0.77324186\n",
      "Iteration 7, loss = 0.76373515\n",
      "Iteration 8, loss = 0.75647881\n",
      "Iteration 9, loss = 0.75073208\n",
      "Iteration 10, loss = 0.74537769\n",
      "Iteration 11, loss = 0.74037746\n",
      "Iteration 12, loss = 0.73561682\n",
      "Iteration 13, loss = 0.73080277\n",
      "Iteration 14, loss = 0.72603236\n",
      "Iteration 15, loss = 0.72128984\n",
      "Iteration 16, loss = 0.71690861\n",
      "Iteration 17, loss = 0.71253635\n",
      "Iteration 18, loss = 0.70789711\n",
      "Iteration 19, loss = 0.70348700\n",
      "Iteration 20, loss = 0.69889503\n",
      "Iteration 1, loss = 0.92814874\n",
      "Iteration 2, loss = 0.87813887\n",
      "Iteration 3, loss = 0.83460319\n",
      "Iteration 4, loss = 0.80405661\n",
      "Iteration 5, loss = 0.78352843\n",
      "Iteration 6, loss = 0.77038443\n",
      "Iteration 7, loss = 0.76128555\n",
      "Iteration 8, loss = 0.75441469\n",
      "Iteration 9, loss = 0.74901381\n",
      "Iteration 10, loss = 0.74409633\n",
      "Iteration 11, loss = 0.73943821\n",
      "Iteration 12, loss = 0.73497905\n",
      "Iteration 13, loss = 0.73056501\n",
      "Iteration 14, loss = 0.72626009\n",
      "Iteration 15, loss = 0.72192823\n",
      "Iteration 16, loss = 0.71788551\n",
      "Iteration 17, loss = 0.71392439\n",
      "Iteration 18, loss = 0.70993130\n",
      "Iteration 19, loss = 0.70589448\n",
      "Iteration 20, loss = 0.70167461\n"
     ]
    },
    {
     "name": "stderr",
     "output_type": "stream",
     "text": [
      "D:\\AI\\Anaconda3\\lib\\site-packages\\sklearn\\neural_network\\_multilayer_perceptron.py:692: ConvergenceWarning: Stochastic Optimizer: Maximum iterations (20) reached and the optimization hasn't converged yet.\n",
      "  warnings.warn(\n",
      "D:\\AI\\Anaconda3\\lib\\site-packages\\sklearn\\neural_network\\_multilayer_perceptron.py:692: ConvergenceWarning: Stochastic Optimizer: Maximum iterations (20) reached and the optimization hasn't converged yet.\n",
      "  warnings.warn(\n"
     ]
    },
    {
     "name": "stdout",
     "output_type": "stream",
     "text": [
      "Iteration 1, loss = 0.92398297\n",
      "Iteration 2, loss = 0.87607906\n",
      "Iteration 3, loss = 0.83404982\n",
      "Iteration 4, loss = 0.80442696\n",
      "Iteration 5, loss = 0.78394375\n",
      "Iteration 6, loss = 0.77093273\n",
      "Iteration 7, loss = 0.76169634\n",
      "Iteration 8, loss = 0.75470600\n",
      "Iteration 9, loss = 0.74922749\n",
      "Iteration 10, loss = 0.74429399\n",
      "Iteration 11, loss = 0.73961025\n",
      "Iteration 12, loss = 0.73510396\n",
      "Iteration 13, loss = 0.73071350\n",
      "Iteration 14, loss = 0.72641467\n",
      "Iteration 15, loss = 0.72208084\n",
      "Iteration 16, loss = 0.71821949\n",
      "Iteration 17, loss = 0.71442633\n",
      "Iteration 18, loss = 0.71054575\n",
      "Iteration 19, loss = 0.70677068\n",
      "Iteration 20, loss = 0.70280626\n"
     ]
    },
    {
     "name": "stderr",
     "output_type": "stream",
     "text": [
      "D:\\AI\\Anaconda3\\lib\\site-packages\\sklearn\\neural_network\\_multilayer_perceptron.py:692: ConvergenceWarning: Stochastic Optimizer: Maximum iterations (20) reached and the optimization hasn't converged yet.\n",
      "  warnings.warn(\n"
     ]
    },
    {
     "name": "stdout",
     "output_type": "stream",
     "text": [
      "Iteration 1, loss = 0.93176296\n",
      "Iteration 2, loss = 0.88132561\n",
      "Iteration 3, loss = 0.83751432\n",
      "Iteration 4, loss = 0.80675577\n",
      "Iteration 5, loss = 0.78555215\n",
      "Iteration 6, loss = 0.77212457\n",
      "Iteration 7, loss = 0.76281744\n",
      "Iteration 8, loss = 0.75568026\n",
      "Iteration 9, loss = 0.75006194\n",
      "Iteration 10, loss = 0.74496190\n",
      "Iteration 11, loss = 0.74020399\n",
      "Iteration 12, loss = 0.73557035\n",
      "Iteration 13, loss = 0.73100112\n",
      "Iteration 14, loss = 0.72659275\n",
      "Iteration 15, loss = 0.72207421\n",
      "Iteration 16, loss = 0.71787462\n",
      "Iteration 17, loss = 0.71382782\n",
      "Iteration 18, loss = 0.70968799\n",
      "Iteration 19, loss = 0.70551044\n",
      "Iteration 20, loss = 0.70129906\n",
      "Iteration 1, loss = 0.92335884\n",
      "Iteration 2, loss = 0.87522298\n",
      "Iteration 3, loss = 0.83327950\n",
      "Iteration 4, loss = 0.80373231\n",
      "Iteration 5, loss = 0.78288729\n",
      "Iteration 6, loss = 0.76983564\n",
      "Iteration 7, loss = 0.76060319\n",
      "Iteration 8, loss = 0.75380829\n",
      "Iteration 9, loss = 0.74837396\n",
      "Iteration 10, loss = 0.74363094\n",
      "Iteration 11, loss = 0.73895813\n",
      "Iteration 12, loss = 0.73459665\n"
     ]
    },
    {
     "name": "stderr",
     "output_type": "stream",
     "text": [
      "D:\\AI\\Anaconda3\\lib\\site-packages\\sklearn\\neural_network\\_multilayer_perceptron.py:692: ConvergenceWarning: Stochastic Optimizer: Maximum iterations (20) reached and the optimization hasn't converged yet.\n",
      "  warnings.warn(\n"
     ]
    },
    {
     "name": "stdout",
     "output_type": "stream",
     "text": [
      "Iteration 13, loss = 0.73020655\n",
      "Iteration 14, loss = 0.72597909\n",
      "Iteration 15, loss = 0.72161675\n",
      "Iteration 16, loss = 0.71757185\n",
      "Iteration 17, loss = 0.71368081\n",
      "Iteration 18, loss = 0.70974461\n",
      "Iteration 19, loss = 0.70572178\n",
      "Iteration 20, loss = 0.70162395\n",
      "Iteration 1, loss = 0.92845951\n",
      "Iteration 2, loss = 0.87985447\n",
      "Iteration 3, loss = 0.83702143\n",
      "Iteration 4, loss = 0.80692113\n",
      "Iteration 5, loss = 0.78580007\n",
      "Iteration 6, loss = 0.77245912\n",
      "Iteration 7, loss = 0.76291122\n",
      "Iteration 8, loss = 0.75614501\n"
     ]
    },
    {
     "name": "stderr",
     "output_type": "stream",
     "text": [
      "D:\\AI\\Anaconda3\\lib\\site-packages\\sklearn\\neural_network\\_multilayer_perceptron.py:692: ConvergenceWarning: Stochastic Optimizer: Maximum iterations (20) reached and the optimization hasn't converged yet.\n",
      "  warnings.warn(\n"
     ]
    },
    {
     "name": "stdout",
     "output_type": "stream",
     "text": [
      "Iteration 9, loss = 0.75036649\n",
      "Iteration 10, loss = 0.74546118\n",
      "Iteration 11, loss = 0.74062069\n",
      "Iteration 12, loss = 0.73597111\n",
      "Iteration 13, loss = 0.73142418\n",
      "Iteration 14, loss = 0.72695881\n",
      "Iteration 15, loss = 0.72231305\n",
      "Iteration 16, loss = 0.71795334\n",
      "Iteration 17, loss = 0.71361489\n",
      "Iteration 18, loss = 0.70931840\n",
      "Iteration 19, loss = 0.70496891\n",
      "Iteration 20, loss = 0.70057281\n",
      "Iteration 1, loss = 0.93220815\n",
      "Iteration 2, loss = 0.88259753\n",
      "Iteration 3, loss = 0.83892253\n",
      "Iteration 4, loss = 0.80820059\n",
      "Iteration 5, loss = 0.78658600\n",
      "Iteration 6, loss = 0.77305601\n",
      "Iteration 7, loss = 0.76321775\n",
      "Iteration 8, loss = 0.75647713\n",
      "Iteration 9, loss = 0.75047092\n",
      "Iteration 10, loss = 0.74538823\n",
      "Iteration 11, loss = 0.74034022\n"
     ]
    },
    {
     "name": "stderr",
     "output_type": "stream",
     "text": [
      "D:\\AI\\Anaconda3\\lib\\site-packages\\sklearn\\neural_network\\_multilayer_perceptron.py:692: ConvergenceWarning: Stochastic Optimizer: Maximum iterations (20) reached and the optimization hasn't converged yet.\n",
      "  warnings.warn(\n",
      "D:\\AI\\Anaconda3\\lib\\site-packages\\sklearn\\neural_network\\_multilayer_perceptron.py:692: ConvergenceWarning: Stochastic Optimizer: Maximum iterations (20) reached and the optimization hasn't converged yet.\n",
      "  warnings.warn(\n"
     ]
    },
    {
     "name": "stdout",
     "output_type": "stream",
     "text": [
      "Iteration 12, loss = 0.73544364\n",
      "Iteration 13, loss = 0.73064009\n",
      "Iteration 14, loss = 0.72586382\n",
      "Iteration 15, loss = 0.72106108\n",
      "Iteration 16, loss = 0.71668423\n",
      "Iteration 17, loss = 0.71203403\n",
      "Iteration 18, loss = 0.70734834\n",
      "Iteration 19, loss = 0.70273774\n",
      "Iteration 20, loss = 0.69819093\n",
      "Iteration 1, loss = 0.93664941\n",
      "Iteration 2, loss = 0.88573667\n",
      "Iteration 3, loss = 0.84074787\n",
      "Iteration 4, loss = 0.80924964\n",
      "Iteration 5, loss = 0.78743391\n",
      "Iteration 6, loss = 0.77380384\n",
      "Iteration 7, loss = 0.76397018\n",
      "Iteration 8, loss = 0.75727702\n",
      "Iteration 9, loss = 0.75133127\n",
      "Iteration 10, loss = 0.74632229\n",
      "Iteration 11, loss = 0.74134736\n",
      "Iteration 12, loss = 0.73667835\n",
      "Iteration 13, loss = 0.73220218\n",
      "Iteration 14, loss = 0.72779726\n",
      "Iteration 15, loss = 0.72327051\n",
      "Iteration 16, loss = 0.71902301\n",
      "Iteration 17, loss = 0.71494704\n",
      "Iteration 18, loss = 0.71095562\n",
      "Iteration 19, loss = 0.70679517\n",
      "Iteration 20, loss = 0.70258621\n"
     ]
    },
    {
     "name": "stderr",
     "output_type": "stream",
     "text": [
      "D:\\AI\\Anaconda3\\lib\\site-packages\\sklearn\\neural_network\\_multilayer_perceptron.py:692: ConvergenceWarning: Stochastic Optimizer: Maximum iterations (20) reached and the optimization hasn't converged yet.\n",
      "  warnings.warn(\n",
      "D:\\AI\\Anaconda3\\lib\\site-packages\\sklearn\\neural_network\\_multilayer_perceptron.py:692: ConvergenceWarning: Stochastic Optimizer: Maximum iterations (20) reached and the optimization hasn't converged yet.\n",
      "  warnings.warn(\n"
     ]
    },
    {
     "name": "stdout",
     "output_type": "stream",
     "text": [
      "Iteration 1, loss = 0.92802164\n",
      "Iteration 2, loss = 0.87948985\n",
      "Iteration 3, loss = 0.83684967\n",
      "Iteration 4, loss = 0.80581794\n",
      "Iteration 5, loss = 0.78574374\n",
      "Iteration 6, loss = 0.77222117\n",
      "Iteration 7, loss = 0.76269134\n",
      "Iteration 8, loss = 0.75599070\n",
      "Iteration 9, loss = 0.75045658\n",
      "Iteration 10, loss = 0.74540165\n",
      "Iteration 11, loss = 0.74044518\n",
      "Iteration 12, loss = 0.73589879\n",
      "Iteration 13, loss = 0.73132943\n",
      "Iteration 14, loss = 0.72693634\n",
      "Iteration 15, loss = 0.72235887\n",
      "Iteration 16, loss = 0.71801525\n",
      "Iteration 17, loss = 0.71384371\n",
      "Iteration 18, loss = 0.70948502\n",
      "Iteration 19, loss = 0.70501586\n",
      "Iteration 20, loss = 0.70075054\n",
      "Iteration 1, loss = 0.92872922\n",
      "Iteration 2, loss = 0.88059166\n",
      "Iteration 3, loss = 0.83831957\n",
      "Iteration 4, loss = 0.80763210\n",
      "Iteration 5, loss = 0.78739754\n",
      "Iteration 6, loss = 0.77358082\n",
      "Iteration 7, loss = 0.76420780\n",
      "Iteration 8, loss = 0.75755302\n",
      "Iteration 9, loss = 0.75209500\n",
      "Iteration 10, loss = 0.74726238\n",
      "Iteration 11, loss = 0.74245428\n",
      "Iteration 12, loss = 0.73807676\n",
      "Iteration 13, loss = 0.73367117\n",
      "Iteration 14, loss = 0.72950406\n",
      "Iteration 15, loss = 0.72509405\n",
      "Iteration 16, loss = 0.72090092\n",
      "Iteration 17, loss = 0.71703928\n",
      "Iteration 18, loss = 0.71303460\n",
      "Iteration 19, loss = 0.70892570\n",
      "Iteration 20, loss = 0.70489839\n"
     ]
    },
    {
     "name": "stderr",
     "output_type": "stream",
     "text": [
      "D:\\AI\\Anaconda3\\lib\\site-packages\\sklearn\\neural_network\\_multilayer_perceptron.py:692: ConvergenceWarning: Stochastic Optimizer: Maximum iterations (20) reached and the optimization hasn't converged yet.\n",
      "  warnings.warn(\n",
      "D:\\AI\\Anaconda3\\lib\\site-packages\\sklearn\\neural_network\\_multilayer_perceptron.py:549: ConvergenceWarning: lbfgs failed to converge (status=1):\n",
      "STOP: TOTAL NO. of ITERATIONS REACHED LIMIT.\n",
      "\n",
      "Increase the number of iterations (max_iter) or scale the data as shown in:\n",
      "    https://scikit-learn.org/stable/modules/preprocessing.html\n",
      "  self.n_iter_ = _check_optimize_result(\"lbfgs\", opt_res, self.max_iter)\n",
      "D:\\AI\\Anaconda3\\lib\\site-packages\\sklearn\\neural_network\\_multilayer_perceptron.py:549: ConvergenceWarning: lbfgs failed to converge (status=1):\n",
      "STOP: TOTAL NO. of ITERATIONS REACHED LIMIT.\n",
      "\n",
      "Increase the number of iterations (max_iter) or scale the data as shown in:\n",
      "    https://scikit-learn.org/stable/modules/preprocessing.html\n",
      "  self.n_iter_ = _check_optimize_result(\"lbfgs\", opt_res, self.max_iter)\n",
      "D:\\AI\\Anaconda3\\lib\\site-packages\\sklearn\\neural_network\\_multilayer_perceptron.py:549: ConvergenceWarning: lbfgs failed to converge (status=1):\n",
      "STOP: TOTAL NO. of ITERATIONS REACHED LIMIT.\n",
      "\n",
      "Increase the number of iterations (max_iter) or scale the data as shown in:\n",
      "    https://scikit-learn.org/stable/modules/preprocessing.html\n",
      "  self.n_iter_ = _check_optimize_result(\"lbfgs\", opt_res, self.max_iter)\n",
      "D:\\AI\\Anaconda3\\lib\\site-packages\\sklearn\\neural_network\\_multilayer_perceptron.py:549: ConvergenceWarning: lbfgs failed to converge (status=1):\n",
      "STOP: TOTAL NO. of ITERATIONS REACHED LIMIT.\n",
      "\n",
      "Increase the number of iterations (max_iter) or scale the data as shown in:\n",
      "    https://scikit-learn.org/stable/modules/preprocessing.html\n",
      "  self.n_iter_ = _check_optimize_result(\"lbfgs\", opt_res, self.max_iter)\n",
      "D:\\AI\\Anaconda3\\lib\\site-packages\\sklearn\\neural_network\\_multilayer_perceptron.py:549: ConvergenceWarning: lbfgs failed to converge (status=1):\n",
      "STOP: TOTAL NO. of ITERATIONS REACHED LIMIT.\n",
      "\n",
      "Increase the number of iterations (max_iter) or scale the data as shown in:\n",
      "    https://scikit-learn.org/stable/modules/preprocessing.html\n",
      "  self.n_iter_ = _check_optimize_result(\"lbfgs\", opt_res, self.max_iter)\n",
      "D:\\AI\\Anaconda3\\lib\\site-packages\\sklearn\\neural_network\\_multilayer_perceptron.py:549: ConvergenceWarning: lbfgs failed to converge (status=1):\n",
      "STOP: TOTAL NO. of ITERATIONS REACHED LIMIT.\n",
      "\n",
      "Increase the number of iterations (max_iter) or scale the data as shown in:\n",
      "    https://scikit-learn.org/stable/modules/preprocessing.html\n",
      "  self.n_iter_ = _check_optimize_result(\"lbfgs\", opt_res, self.max_iter)\n",
      "D:\\AI\\Anaconda3\\lib\\site-packages\\sklearn\\neural_network\\_multilayer_perceptron.py:549: ConvergenceWarning: lbfgs failed to converge (status=1):\n",
      "STOP: TOTAL NO. of ITERATIONS REACHED LIMIT.\n",
      "\n",
      "Increase the number of iterations (max_iter) or scale the data as shown in:\n",
      "    https://scikit-learn.org/stable/modules/preprocessing.html\n",
      "  self.n_iter_ = _check_optimize_result(\"lbfgs\", opt_res, self.max_iter)\n",
      "D:\\AI\\Anaconda3\\lib\\site-packages\\sklearn\\neural_network\\_multilayer_perceptron.py:549: ConvergenceWarning: lbfgs failed to converge (status=1):\n",
      "STOP: TOTAL NO. of ITERATIONS REACHED LIMIT.\n",
      "\n",
      "Increase the number of iterations (max_iter) or scale the data as shown in:\n",
      "    https://scikit-learn.org/stable/modules/preprocessing.html\n",
      "  self.n_iter_ = _check_optimize_result(\"lbfgs\", opt_res, self.max_iter)\n",
      "D:\\AI\\Anaconda3\\lib\\site-packages\\sklearn\\neural_network\\_multilayer_perceptron.py:549: ConvergenceWarning: lbfgs failed to converge (status=1):\n",
      "STOP: TOTAL NO. of ITERATIONS REACHED LIMIT.\n",
      "\n",
      "Increase the number of iterations (max_iter) or scale the data as shown in:\n",
      "    https://scikit-learn.org/stable/modules/preprocessing.html\n",
      "  self.n_iter_ = _check_optimize_result(\"lbfgs\", opt_res, self.max_iter)\n",
      "D:\\AI\\Anaconda3\\lib\\site-packages\\sklearn\\neural_network\\_multilayer_perceptron.py:549: ConvergenceWarning: lbfgs failed to converge (status=1):\n",
      "STOP: TOTAL NO. of ITERATIONS REACHED LIMIT.\n",
      "\n",
      "Increase the number of iterations (max_iter) or scale the data as shown in:\n",
      "    https://scikit-learn.org/stable/modules/preprocessing.html\n",
      "  self.n_iter_ = _check_optimize_result(\"lbfgs\", opt_res, self.max_iter)\n"
     ]
    },
    {
     "name": "stdout",
     "output_type": "stream",
     "text": [
      "Iteration 1, loss = 1.20977924\n",
      "Iteration 2, loss = 0.67463696\n",
      "Iteration 3, loss = 0.53518492\n",
      "Iteration 4, loss = 0.47280925\n",
      "Iteration 5, loss = 0.43235548\n",
      "Iteration 6, loss = 0.40406724\n",
      "Iteration 7, loss = 0.38175617\n",
      "Iteration 8, loss = 0.36329972\n",
      "Iteration 9, loss = 0.34744866\n",
      "Iteration 10, loss = 0.33368805\n",
      "Iteration 11, loss = 0.32147931\n",
      "Iteration 12, loss = 0.31032253\n",
      "Iteration 13, loss = 0.30011175\n",
      "Iteration 14, loss = 0.28991208\n",
      "Iteration 15, loss = 0.28182416\n",
      "Iteration 16, loss = 0.27334459\n",
      "Iteration 17, loss = 0.26506874\n",
      "Iteration 18, loss = 0.25830239\n",
      "Iteration 19, loss = 0.25099098\n",
      "Iteration 20, loss = 0.24376206\n",
      "Iteration 1, loss = 1.21901996\n",
      "Iteration 2, loss = 0.67934793\n"
     ]
    },
    {
     "name": "stderr",
     "output_type": "stream",
     "text": [
      "D:\\AI\\Anaconda3\\lib\\site-packages\\sklearn\\neural_network\\_multilayer_perceptron.py:692: ConvergenceWarning: Stochastic Optimizer: Maximum iterations (20) reached and the optimization hasn't converged yet.\n",
      "  warnings.warn(\n"
     ]
    },
    {
     "name": "stdout",
     "output_type": "stream",
     "text": [
      "Iteration 3, loss = 0.53822415\n",
      "Iteration 4, loss = 0.47451230\n",
      "Iteration 5, loss = 0.43400684\n",
      "Iteration 6, loss = 0.40560520\n",
      "Iteration 7, loss = 0.38300332\n",
      "Iteration 8, loss = 0.36429094\n",
      "Iteration 9, loss = 0.34846028\n",
      "Iteration 10, loss = 0.33454325\n",
      "Iteration 11, loss = 0.32217120\n",
      "Iteration 12, loss = 0.31078488\n",
      "Iteration 13, loss = 0.30065640\n",
      "Iteration 14, loss = 0.29017639\n",
      "Iteration 15, loss = 0.28191600\n",
      "Iteration 16, loss = 0.27369439\n",
      "Iteration 17, loss = 0.26542045\n",
      "Iteration 18, loss = 0.25793695\n",
      "Iteration 19, loss = 0.25069590\n",
      "Iteration 20, loss = 0.24329150\n",
      "Iteration 1, loss = 1.21579977\n",
      "Iteration 2, loss = 0.67872100\n",
      "Iteration 3, loss = 0.53933930\n",
      "Iteration 4, loss = 0.47711622\n",
      "Iteration 5, loss = 0.43732369\n",
      "Iteration 6, loss = 0.40889266\n"
     ]
    },
    {
     "name": "stderr",
     "output_type": "stream",
     "text": [
      "D:\\AI\\Anaconda3\\lib\\site-packages\\sklearn\\neural_network\\_multilayer_perceptron.py:692: ConvergenceWarning: Stochastic Optimizer: Maximum iterations (20) reached and the optimization hasn't converged yet.\n",
      "  warnings.warn(\n"
     ]
    },
    {
     "name": "stdout",
     "output_type": "stream",
     "text": [
      "Iteration 7, loss = 0.38650937\n",
      "Iteration 8, loss = 0.36796866\n",
      "Iteration 9, loss = 0.35198838\n",
      "Iteration 10, loss = 0.33777115\n",
      "Iteration 11, loss = 0.32557808\n",
      "Iteration 12, loss = 0.31431783\n",
      "Iteration 13, loss = 0.30415158\n",
      "Iteration 14, loss = 0.29338042\n",
      "Iteration 15, loss = 0.28485865\n",
      "Iteration 16, loss = 0.27657845\n",
      "Iteration 17, loss = 0.26808455\n",
      "Iteration 18, loss = 0.26031075\n",
      "Iteration 19, loss = 0.25313690\n",
      "Iteration 20, loss = 0.24580809\n",
      "Iteration 1, loss = 1.19933993\n",
      "Iteration 2, loss = 0.67171744\n"
     ]
    },
    {
     "name": "stderr",
     "output_type": "stream",
     "text": [
      "D:\\AI\\Anaconda3\\lib\\site-packages\\sklearn\\neural_network\\_multilayer_perceptron.py:692: ConvergenceWarning: Stochastic Optimizer: Maximum iterations (20) reached and the optimization hasn't converged yet.\n",
      "  warnings.warn(\n"
     ]
    },
    {
     "name": "stdout",
     "output_type": "stream",
     "text": [
      "Iteration 3, loss = 0.53564687\n",
      "Iteration 4, loss = 0.47177551\n",
      "Iteration 5, loss = 0.43122242\n",
      "Iteration 6, loss = 0.40233176\n",
      "Iteration 7, loss = 0.37984880\n",
      "Iteration 8, loss = 0.36118674\n",
      "Iteration 9, loss = 0.34510368\n",
      "Iteration 10, loss = 0.33103292\n",
      "Iteration 11, loss = 0.31879285\n",
      "Iteration 12, loss = 0.30730591\n",
      "Iteration 13, loss = 0.29712025\n",
      "Iteration 14, loss = 0.28713489\n",
      "Iteration 15, loss = 0.27853609\n",
      "Iteration 16, loss = 0.27053569\n",
      "Iteration 17, loss = 0.26224097\n",
      "Iteration 18, loss = 0.25490807\n",
      "Iteration 19, loss = 0.24766482\n",
      "Iteration 20, loss = 0.24083188\n",
      "Iteration 1, loss = 1.21660234\n",
      "Iteration 2, loss = 0.67425992\n",
      "Iteration 3, loss = 0.53527433\n",
      "Iteration 4, loss = 0.47221711\n",
      "Iteration 5, loss = 0.43232257\n",
      "Iteration 6, loss = 0.40414798\n",
      "Iteration 7, loss = 0.38201112\n"
     ]
    },
    {
     "name": "stderr",
     "output_type": "stream",
     "text": [
      "D:\\AI\\Anaconda3\\lib\\site-packages\\sklearn\\neural_network\\_multilayer_perceptron.py:692: ConvergenceWarning: Stochastic Optimizer: Maximum iterations (20) reached and the optimization hasn't converged yet.\n",
      "  warnings.warn(\n"
     ]
    },
    {
     "name": "stdout",
     "output_type": "stream",
     "text": [
      "Iteration 8, loss = 0.36400499\n",
      "Iteration 9, loss = 0.34839931\n",
      "Iteration 10, loss = 0.33418970\n",
      "Iteration 11, loss = 0.32204431\n",
      "Iteration 12, loss = 0.31081485\n",
      "Iteration 13, loss = 0.30061730\n",
      "Iteration 14, loss = 0.29066962\n",
      "Iteration 15, loss = 0.28182219\n",
      "Iteration 16, loss = 0.27406852\n",
      "Iteration 17, loss = 0.26544184\n",
      "Iteration 18, loss = 0.25779919\n",
      "Iteration 19, loss = 0.25071443\n",
      "Iteration 20, loss = 0.24366955\n",
      "Iteration 1, loss = 1.20898333\n",
      "Iteration 2, loss = 0.67378382\n",
      "Iteration 3, loss = 0.53560851\n"
     ]
    },
    {
     "name": "stderr",
     "output_type": "stream",
     "text": [
      "D:\\AI\\Anaconda3\\lib\\site-packages\\sklearn\\neural_network\\_multilayer_perceptron.py:692: ConvergenceWarning: Stochastic Optimizer: Maximum iterations (20) reached and the optimization hasn't converged yet.\n",
      "  warnings.warn(\n"
     ]
    },
    {
     "name": "stdout",
     "output_type": "stream",
     "text": [
      "Iteration 4, loss = 0.47196408\n",
      "Iteration 5, loss = 0.43169980\n",
      "Iteration 6, loss = 0.40320082\n",
      "Iteration 7, loss = 0.38095835\n",
      "Iteration 8, loss = 0.36274405\n",
      "Iteration 9, loss = 0.34726059\n",
      "Iteration 10, loss = 0.33281319\n",
      "Iteration 11, loss = 0.32071624\n",
      "Iteration 12, loss = 0.30988139\n",
      "Iteration 13, loss = 0.29956116\n",
      "Iteration 14, loss = 0.28962372\n",
      "Iteration 15, loss = 0.28058834\n",
      "Iteration 16, loss = 0.27290335\n",
      "Iteration 17, loss = 0.26450468\n",
      "Iteration 18, loss = 0.25701505\n",
      "Iteration 19, loss = 0.25004974\n",
      "Iteration 20, loss = 0.24295339\n",
      "Iteration 1, loss = 1.20032201\n",
      "Iteration 2, loss = 0.67016292\n",
      "Iteration 3, loss = 0.53369883\n",
      "Iteration 4, loss = 0.46955348\n",
      "Iteration 5, loss = 0.42924555\n"
     ]
    },
    {
     "name": "stderr",
     "output_type": "stream",
     "text": [
      "D:\\AI\\Anaconda3\\lib\\site-packages\\sklearn\\neural_network\\_multilayer_perceptron.py:692: ConvergenceWarning: Stochastic Optimizer: Maximum iterations (20) reached and the optimization hasn't converged yet.\n",
      "  warnings.warn(\n"
     ]
    },
    {
     "name": "stdout",
     "output_type": "stream",
     "text": [
      "Iteration 6, loss = 0.40059678\n",
      "Iteration 7, loss = 0.37802779\n",
      "Iteration 8, loss = 0.35940886\n",
      "Iteration 9, loss = 0.34346931\n",
      "Iteration 10, loss = 0.32867847\n",
      "Iteration 11, loss = 0.31618936\n",
      "Iteration 12, loss = 0.30491262\n",
      "Iteration 13, loss = 0.29465447\n",
      "Iteration 14, loss = 0.28471216\n",
      "Iteration 15, loss = 0.27612887\n",
      "Iteration 16, loss = 0.26845726\n",
      "Iteration 17, loss = 0.25996353\n",
      "Iteration 18, loss = 0.25248371\n",
      "Iteration 19, loss = 0.24564991\n",
      "Iteration 20, loss = 0.23889244\n",
      "Iteration 1, loss = 1.18672766\n",
      "Iteration 2, loss = 0.66719448\n",
      "Iteration 3, loss = 0.53568676\n"
     ]
    },
    {
     "name": "stderr",
     "output_type": "stream",
     "text": [
      "D:\\AI\\Anaconda3\\lib\\site-packages\\sklearn\\neural_network\\_multilayer_perceptron.py:692: ConvergenceWarning: Stochastic Optimizer: Maximum iterations (20) reached and the optimization hasn't converged yet.\n",
      "  warnings.warn(\n"
     ]
    },
    {
     "name": "stdout",
     "output_type": "stream",
     "text": [
      "Iteration 4, loss = 0.47184731\n",
      "Iteration 5, loss = 0.43152260\n",
      "Iteration 6, loss = 0.40265903\n",
      "Iteration 7, loss = 0.38014996\n",
      "Iteration 8, loss = 0.36192526\n",
      "Iteration 9, loss = 0.34577583\n",
      "Iteration 10, loss = 0.33162357\n",
      "Iteration 11, loss = 0.31936195\n",
      "Iteration 12, loss = 0.30806325\n",
      "Iteration 13, loss = 0.29796592\n",
      "Iteration 14, loss = 0.28807087\n",
      "Iteration 15, loss = 0.27945714\n",
      "Iteration 16, loss = 0.27156492\n",
      "Iteration 17, loss = 0.26288789\n",
      "Iteration 18, loss = 0.25557106\n",
      "Iteration 19, loss = 0.24843826\n",
      "Iteration 20, loss = 0.24204687\n",
      "Iteration 1, loss = 1.20192619\n",
      "Iteration 2, loss = 0.67080996\n",
      "Iteration 3, loss = 0.53399675\n",
      "Iteration 4, loss = 0.47104818\n",
      "Iteration 5, loss = 0.43132081\n",
      "Iteration 6, loss = 0.40337265\n",
      "Iteration 7, loss = 0.38094144\n",
      "Iteration 8, loss = 0.36239277\n",
      "Iteration 9, loss = 0.34693198\n",
      "Iteration 10, loss = 0.33344778\n"
     ]
    },
    {
     "name": "stderr",
     "output_type": "stream",
     "text": [
      "D:\\AI\\Anaconda3\\lib\\site-packages\\sklearn\\neural_network\\_multilayer_perceptron.py:692: ConvergenceWarning: Stochastic Optimizer: Maximum iterations (20) reached and the optimization hasn't converged yet.\n",
      "  warnings.warn(\n"
     ]
    },
    {
     "name": "stdout",
     "output_type": "stream",
     "text": [
      "Iteration 11, loss = 0.32131598\n",
      "Iteration 12, loss = 0.30955091\n",
      "Iteration 13, loss = 0.29946455\n",
      "Iteration 14, loss = 0.29024037\n",
      "Iteration 15, loss = 0.28122898\n",
      "Iteration 16, loss = 0.27345971\n",
      "Iteration 17, loss = 0.26531044\n",
      "Iteration 18, loss = 0.25766061\n",
      "Iteration 19, loss = 0.25036696\n",
      "Iteration 20, loss = 0.24353391\n",
      "Iteration 1, loss = 1.19974833\n",
      "Iteration 2, loss = 0.67200595\n",
      "Iteration 3, loss = 0.53838999\n",
      "Iteration 4, loss = 0.47584332\n",
      "Iteration 5, loss = 0.43640994\n"
     ]
    },
    {
     "name": "stderr",
     "output_type": "stream",
     "text": [
      "D:\\AI\\Anaconda3\\lib\\site-packages\\sklearn\\neural_network\\_multilayer_perceptron.py:692: ConvergenceWarning: Stochastic Optimizer: Maximum iterations (20) reached and the optimization hasn't converged yet.\n",
      "  warnings.warn(\n"
     ]
    },
    {
     "name": "stdout",
     "output_type": "stream",
     "text": [
      "Iteration 6, loss = 0.40867046\n",
      "Iteration 7, loss = 0.38654656\n",
      "Iteration 8, loss = 0.36800744\n",
      "Iteration 9, loss = 0.35229270\n",
      "Iteration 10, loss = 0.33845055\n",
      "Iteration 11, loss = 0.32625883\n",
      "Iteration 12, loss = 0.31452299\n",
      "Iteration 13, loss = 0.30429266\n",
      "Iteration 14, loss = 0.29517420\n",
      "Iteration 15, loss = 0.28606747\n",
      "Iteration 16, loss = 0.27822321\n",
      "Iteration 17, loss = 0.27017836\n",
      "Iteration 18, loss = 0.26220610\n",
      "Iteration 19, loss = 0.25492842\n",
      "Iteration 20, loss = 0.24801372\n",
      "Iteration 1, loss = 1.30942652\n",
      "Iteration 2, loss = 0.81570155\n",
      "Iteration 3, loss = 0.74023640\n",
      "Iteration 4, loss = 0.69720875\n",
      "Iteration 5, loss = 0.67051290\n",
      "Iteration 6, loss = 0.65021438\n",
      "Iteration 7, loss = 0.63373186\n"
     ]
    },
    {
     "name": "stderr",
     "output_type": "stream",
     "text": [
      "D:\\AI\\Anaconda3\\lib\\site-packages\\sklearn\\neural_network\\_multilayer_perceptron.py:692: ConvergenceWarning: Stochastic Optimizer: Maximum iterations (20) reached and the optimization hasn't converged yet.\n",
      "  warnings.warn(\n"
     ]
    },
    {
     "name": "stdout",
     "output_type": "stream",
     "text": [
      "Iteration 8, loss = 0.61970343\n",
      "Iteration 9, loss = 0.60660714\n",
      "Iteration 10, loss = 0.59575726\n",
      "Iteration 11, loss = 0.58537309\n",
      "Iteration 12, loss = 0.57614175\n",
      "Iteration 13, loss = 0.56763630\n",
      "Iteration 14, loss = 0.55972178\n",
      "Iteration 15, loss = 0.55249749\n",
      "Iteration 16, loss = 0.54548046\n",
      "Iteration 17, loss = 0.53869913\n",
      "Iteration 18, loss = 0.53284857\n",
      "Iteration 19, loss = 0.52717942\n",
      "Iteration 20, loss = 0.52128572\n",
      "Iteration 1, loss = 1.31920943\n",
      "Iteration 2, loss = 0.82145271\n",
      "Iteration 3, loss = 0.74660015\n"
     ]
    },
    {
     "name": "stderr",
     "output_type": "stream",
     "text": [
      "D:\\AI\\Anaconda3\\lib\\site-packages\\sklearn\\neural_network\\_multilayer_perceptron.py:692: ConvergenceWarning: Stochastic Optimizer: Maximum iterations (20) reached and the optimization hasn't converged yet.\n",
      "  warnings.warn(\n"
     ]
    },
    {
     "name": "stdout",
     "output_type": "stream",
     "text": [
      "Iteration 4, loss = 0.70277587\n",
      "Iteration 5, loss = 0.67637940\n",
      "Iteration 6, loss = 0.65609365\n",
      "Iteration 7, loss = 0.63971181\n",
      "Iteration 8, loss = 0.62570748\n",
      "Iteration 9, loss = 0.61285107\n",
      "Iteration 10, loss = 0.60211855\n",
      "Iteration 11, loss = 0.59168525\n",
      "Iteration 12, loss = 0.58266247\n",
      "Iteration 13, loss = 0.57426438\n",
      "Iteration 14, loss = 0.56605296\n",
      "Iteration 15, loss = 0.55888276\n",
      "Iteration 16, loss = 0.55193680\n",
      "Iteration 17, loss = 0.54513474\n",
      "Iteration 18, loss = 0.53919429\n",
      "Iteration 19, loss = 0.53323979\n",
      "Iteration 20, loss = 0.52733548\n",
      "Iteration 1, loss = 1.31799142\n",
      "Iteration 2, loss = 0.81948583\n"
     ]
    },
    {
     "name": "stderr",
     "output_type": "stream",
     "text": [
      "D:\\AI\\Anaconda3\\lib\\site-packages\\sklearn\\neural_network\\_multilayer_perceptron.py:692: ConvergenceWarning: Stochastic Optimizer: Maximum iterations (20) reached and the optimization hasn't converged yet.\n",
      "  warnings.warn(\n"
     ]
    },
    {
     "name": "stdout",
     "output_type": "stream",
     "text": [
      "Iteration 3, loss = 0.74609023\n",
      "Iteration 4, loss = 0.70336341\n",
      "Iteration 5, loss = 0.67758322\n",
      "Iteration 6, loss = 0.65746670\n",
      "Iteration 7, loss = 0.64125729\n",
      "Iteration 8, loss = 0.62737891\n",
      "Iteration 9, loss = 0.61470671\n",
      "Iteration 10, loss = 0.60391884\n",
      "Iteration 11, loss = 0.59385583\n",
      "Iteration 12, loss = 0.58504297\n",
      "Iteration 13, loss = 0.57679737\n",
      "Iteration 14, loss = 0.56851234\n",
      "Iteration 15, loss = 0.56129523\n",
      "Iteration 16, loss = 0.55440822\n",
      "Iteration 17, loss = 0.54780747\n",
      "Iteration 18, loss = 0.54192986\n",
      "Iteration 19, loss = 0.53595743\n",
      "Iteration 20, loss = 0.53021504\n",
      "Iteration 1, loss = 1.30467979\n",
      "Iteration 2, loss = 0.81748773\n",
      "Iteration 3, loss = 0.74454107\n",
      "Iteration 4, loss = 0.70117625\n",
      "Iteration 5, loss = 0.67474862\n"
     ]
    },
    {
     "name": "stderr",
     "output_type": "stream",
     "text": [
      "D:\\AI\\Anaconda3\\lib\\site-packages\\sklearn\\neural_network\\_multilayer_perceptron.py:692: ConvergenceWarning: Stochastic Optimizer: Maximum iterations (20) reached and the optimization hasn't converged yet.\n",
      "  warnings.warn(\n"
     ]
    },
    {
     "name": "stdout",
     "output_type": "stream",
     "text": [
      "Iteration 6, loss = 0.65455569\n",
      "Iteration 7, loss = 0.63785366\n",
      "Iteration 8, loss = 0.62355303\n",
      "Iteration 9, loss = 0.61062588\n",
      "Iteration 10, loss = 0.59941143\n",
      "Iteration 11, loss = 0.58910994\n",
      "Iteration 12, loss = 0.58005230\n",
      "Iteration 13, loss = 0.57146839\n",
      "Iteration 14, loss = 0.56305049\n",
      "Iteration 15, loss = 0.55572758\n",
      "Iteration 16, loss = 0.54845081\n",
      "Iteration 17, loss = 0.54184292\n",
      "Iteration 18, loss = 0.53567992\n",
      "Iteration 19, loss = 0.52948050\n",
      "Iteration 20, loss = 0.52366852\n",
      "Iteration 1, loss = 1.32149503\n",
      "Iteration 2, loss = 0.81874300\n",
      "Iteration 3, loss = 0.74619629\n",
      "Iteration 4, loss = 0.70169424\n",
      "Iteration 5, loss = 0.67514634\n",
      "Iteration 6, loss = 0.65457422\n",
      "Iteration 7, loss = 0.63775574\n"
     ]
    },
    {
     "name": "stderr",
     "output_type": "stream",
     "text": [
      "D:\\AI\\Anaconda3\\lib\\site-packages\\sklearn\\neural_network\\_multilayer_perceptron.py:692: ConvergenceWarning: Stochastic Optimizer: Maximum iterations (20) reached and the optimization hasn't converged yet.\n",
      "  warnings.warn(\n"
     ]
    },
    {
     "name": "stdout",
     "output_type": "stream",
     "text": [
      "Iteration 8, loss = 0.62338818\n",
      "Iteration 9, loss = 0.61057260\n",
      "Iteration 10, loss = 0.59905734\n",
      "Iteration 11, loss = 0.58890081\n",
      "Iteration 12, loss = 0.57976736\n",
      "Iteration 13, loss = 0.57120050\n",
      "Iteration 14, loss = 0.56289007\n",
      "Iteration 15, loss = 0.55551128\n",
      "Iteration 16, loss = 0.54843231\n",
      "Iteration 17, loss = 0.54186019\n",
      "Iteration 18, loss = 0.53573423\n",
      "Iteration 19, loss = 0.52964010\n",
      "Iteration 20, loss = 0.52396283\n",
      "Iteration 1, loss = 1.31462979\n",
      "Iteration 2, loss = 0.81971445\n",
      "Iteration 3, loss = 0.74685606\n"
     ]
    },
    {
     "name": "stderr",
     "output_type": "stream",
     "text": [
      "D:\\AI\\Anaconda3\\lib\\site-packages\\sklearn\\neural_network\\_multilayer_perceptron.py:692: ConvergenceWarning: Stochastic Optimizer: Maximum iterations (20) reached and the optimization hasn't converged yet.\n",
      "  warnings.warn(\n"
     ]
    },
    {
     "name": "stdout",
     "output_type": "stream",
     "text": [
      "Iteration 4, loss = 0.70308263\n",
      "Iteration 5, loss = 0.67711110\n",
      "Iteration 6, loss = 0.65688275\n",
      "Iteration 7, loss = 0.64052611\n",
      "Iteration 8, loss = 0.62637766\n",
      "Iteration 9, loss = 0.61406444\n",
      "Iteration 10, loss = 0.60261473\n",
      "Iteration 11, loss = 0.59273809\n",
      "Iteration 12, loss = 0.58383475\n",
      "Iteration 13, loss = 0.57494063\n",
      "Iteration 14, loss = 0.56678149\n",
      "Iteration 15, loss = 0.55951177\n",
      "Iteration 16, loss = 0.55220946\n",
      "Iteration 17, loss = 0.54574281\n",
      "Iteration 18, loss = 0.53954087\n",
      "Iteration 19, loss = 0.53345749\n",
      "Iteration 20, loss = 0.52766868\n",
      "Iteration 1, loss = 1.31067542\n"
     ]
    },
    {
     "name": "stderr",
     "output_type": "stream",
     "text": [
      "D:\\AI\\Anaconda3\\lib\\site-packages\\sklearn\\neural_network\\_multilayer_perceptron.py:692: ConvergenceWarning: Stochastic Optimizer: Maximum iterations (20) reached and the optimization hasn't converged yet.\n",
      "  warnings.warn(\n"
     ]
    },
    {
     "name": "stdout",
     "output_type": "stream",
     "text": [
      "Iteration 2, loss = 0.81715840\n",
      "Iteration 3, loss = 0.74360274\n",
      "Iteration 4, loss = 0.69895424\n",
      "Iteration 5, loss = 0.67262634\n",
      "Iteration 6, loss = 0.65244595\n",
      "Iteration 7, loss = 0.63594753\n",
      "Iteration 8, loss = 0.62179993\n",
      "Iteration 9, loss = 0.60982253\n",
      "Iteration 10, loss = 0.59816704\n",
      "Iteration 11, loss = 0.58835303\n",
      "Iteration 12, loss = 0.57936303\n",
      "Iteration 13, loss = 0.57080658\n",
      "Iteration 14, loss = 0.56293087\n",
      "Iteration 15, loss = 0.55588291\n",
      "Iteration 16, loss = 0.54861050\n",
      "Iteration 17, loss = 0.54231961\n",
      "Iteration 18, loss = 0.53610327\n",
      "Iteration 19, loss = 0.53012453\n",
      "Iteration 20, loss = 0.52469848\n",
      "Iteration 1, loss = 1.30134352\n"
     ]
    },
    {
     "name": "stderr",
     "output_type": "stream",
     "text": [
      "D:\\AI\\Anaconda3\\lib\\site-packages\\sklearn\\neural_network\\_multilayer_perceptron.py:692: ConvergenceWarning: Stochastic Optimizer: Maximum iterations (20) reached and the optimization hasn't converged yet.\n",
      "  warnings.warn(\n"
     ]
    },
    {
     "name": "stdout",
     "output_type": "stream",
     "text": [
      "Iteration 2, loss = 0.81650899\n",
      "Iteration 3, loss = 0.74584378\n",
      "Iteration 4, loss = 0.70193132\n",
      "Iteration 5, loss = 0.67571528\n",
      "Iteration 6, loss = 0.65543531\n",
      "Iteration 7, loss = 0.63889757\n",
      "Iteration 8, loss = 0.62465417\n",
      "Iteration 9, loss = 0.61228378\n",
      "Iteration 10, loss = 0.60083205\n",
      "Iteration 11, loss = 0.59091528\n",
      "Iteration 12, loss = 0.58169072\n",
      "Iteration 13, loss = 0.57318115\n",
      "Iteration 14, loss = 0.56511942\n",
      "Iteration 15, loss = 0.55794616\n",
      "Iteration 16, loss = 0.55066427\n",
      "Iteration 17, loss = 0.54422019\n",
      "Iteration 18, loss = 0.53786977\n",
      "Iteration 19, loss = 0.53192561\n",
      "Iteration 20, loss = 0.52652321\n",
      "Iteration 1, loss = 1.31270307\n",
      "Iteration 2, loss = 0.81863521\n",
      "Iteration 3, loss = 0.74182791\n"
     ]
    },
    {
     "name": "stderr",
     "output_type": "stream",
     "text": [
      "D:\\AI\\Anaconda3\\lib\\site-packages\\sklearn\\neural_network\\_multilayer_perceptron.py:692: ConvergenceWarning: Stochastic Optimizer: Maximum iterations (20) reached and the optimization hasn't converged yet.\n",
      "  warnings.warn(\n"
     ]
    },
    {
     "name": "stdout",
     "output_type": "stream",
     "text": [
      "Iteration 4, loss = 0.69809039\n",
      "Iteration 5, loss = 0.67152057\n",
      "Iteration 6, loss = 0.65133817\n",
      "Iteration 7, loss = 0.63486241\n",
      "Iteration 8, loss = 0.62070524\n",
      "Iteration 9, loss = 0.60830645\n",
      "Iteration 10, loss = 0.59706507\n",
      "Iteration 11, loss = 0.58698645\n",
      "Iteration 12, loss = 0.57754825\n",
      "Iteration 13, loss = 0.56895825\n",
      "Iteration 14, loss = 0.56081930\n",
      "Iteration 15, loss = 0.55355923\n",
      "Iteration 16, loss = 0.54641156\n",
      "Iteration 17, loss = 0.53990744\n",
      "Iteration 18, loss = 0.53358672\n",
      "Iteration 19, loss = 0.52770321\n",
      "Iteration 20, loss = 0.52195833\n",
      "Iteration 1, loss = 1.31476485\n",
      "Iteration 2, loss = 0.82243852\n",
      "Iteration 3, loss = 0.74937452\n",
      "Iteration 4, loss = 0.70624084\n",
      "Iteration 5, loss = 0.67938202\n",
      "Iteration 6, loss = 0.65912982\n"
     ]
    },
    {
     "name": "stderr",
     "output_type": "stream",
     "text": [
      "D:\\AI\\Anaconda3\\lib\\site-packages\\sklearn\\neural_network\\_multilayer_perceptron.py:692: ConvergenceWarning: Stochastic Optimizer: Maximum iterations (20) reached and the optimization hasn't converged yet.\n",
      "  warnings.warn(\n"
     ]
    },
    {
     "name": "stdout",
     "output_type": "stream",
     "text": [
      "Iteration 7, loss = 0.64253001\n",
      "Iteration 8, loss = 0.62843666\n",
      "Iteration 9, loss = 0.61587923\n",
      "Iteration 10, loss = 0.60448197\n",
      "Iteration 11, loss = 0.59444764\n",
      "Iteration 12, loss = 0.58501493\n",
      "Iteration 13, loss = 0.57633152\n",
      "Iteration 14, loss = 0.56828653\n",
      "Iteration 15, loss = 0.56083575\n",
      "Iteration 16, loss = 0.55363179\n",
      "Iteration 17, loss = 0.54696925\n",
      "Iteration 18, loss = 0.54067249\n",
      "Iteration 19, loss = 0.53466554\n",
      "Iteration 20, loss = 0.52871342\n"
     ]
    },
    {
     "name": "stderr",
     "output_type": "stream",
     "text": [
      "D:\\AI\\Anaconda3\\lib\\site-packages\\sklearn\\neural_network\\_multilayer_perceptron.py:692: ConvergenceWarning: Stochastic Optimizer: Maximum iterations (20) reached and the optimization hasn't converged yet.\n",
      "  warnings.warn(\n",
      "D:\\AI\\Anaconda3\\lib\\site-packages\\sklearn\\neural_network\\_multilayer_perceptron.py:549: ConvergenceWarning: lbfgs failed to converge (status=1):\n",
      "STOP: TOTAL NO. of ITERATIONS REACHED LIMIT.\n",
      "\n",
      "Increase the number of iterations (max_iter) or scale the data as shown in:\n",
      "    https://scikit-learn.org/stable/modules/preprocessing.html\n",
      "  self.n_iter_ = _check_optimize_result(\"lbfgs\", opt_res, self.max_iter)\n",
      "D:\\AI\\Anaconda3\\lib\\site-packages\\sklearn\\neural_network\\_multilayer_perceptron.py:549: ConvergenceWarning: lbfgs failed to converge (status=1):\n",
      "STOP: TOTAL NO. of ITERATIONS REACHED LIMIT.\n",
      "\n",
      "Increase the number of iterations (max_iter) or scale the data as shown in:\n",
      "    https://scikit-learn.org/stable/modules/preprocessing.html\n",
      "  self.n_iter_ = _check_optimize_result(\"lbfgs\", opt_res, self.max_iter)\n",
      "D:\\AI\\Anaconda3\\lib\\site-packages\\sklearn\\neural_network\\_multilayer_perceptron.py:549: ConvergenceWarning: lbfgs failed to converge (status=1):\n",
      "STOP: TOTAL NO. of ITERATIONS REACHED LIMIT.\n",
      "\n",
      "Increase the number of iterations (max_iter) or scale the data as shown in:\n",
      "    https://scikit-learn.org/stable/modules/preprocessing.html\n",
      "  self.n_iter_ = _check_optimize_result(\"lbfgs\", opt_res, self.max_iter)\n",
      "D:\\AI\\Anaconda3\\lib\\site-packages\\sklearn\\neural_network\\_multilayer_perceptron.py:549: ConvergenceWarning: lbfgs failed to converge (status=1):\n",
      "STOP: TOTAL NO. of ITERATIONS REACHED LIMIT.\n",
      "\n",
      "Increase the number of iterations (max_iter) or scale the data as shown in:\n",
      "    https://scikit-learn.org/stable/modules/preprocessing.html\n",
      "  self.n_iter_ = _check_optimize_result(\"lbfgs\", opt_res, self.max_iter)\n",
      "D:\\AI\\Anaconda3\\lib\\site-packages\\sklearn\\neural_network\\_multilayer_perceptron.py:549: ConvergenceWarning: lbfgs failed to converge (status=1):\n",
      "STOP: TOTAL NO. of ITERATIONS REACHED LIMIT.\n",
      "\n",
      "Increase the number of iterations (max_iter) or scale the data as shown in:\n",
      "    https://scikit-learn.org/stable/modules/preprocessing.html\n",
      "  self.n_iter_ = _check_optimize_result(\"lbfgs\", opt_res, self.max_iter)\n",
      "D:\\AI\\Anaconda3\\lib\\site-packages\\sklearn\\neural_network\\_multilayer_perceptron.py:549: ConvergenceWarning: lbfgs failed to converge (status=1):\n",
      "STOP: TOTAL NO. of ITERATIONS REACHED LIMIT.\n",
      "\n",
      "Increase the number of iterations (max_iter) or scale the data as shown in:\n",
      "    https://scikit-learn.org/stable/modules/preprocessing.html\n",
      "  self.n_iter_ = _check_optimize_result(\"lbfgs\", opt_res, self.max_iter)\n",
      "D:\\AI\\Anaconda3\\lib\\site-packages\\sklearn\\neural_network\\_multilayer_perceptron.py:549: ConvergenceWarning: lbfgs failed to converge (status=1):\n",
      "STOP: TOTAL NO. of ITERATIONS REACHED LIMIT.\n",
      "\n",
      "Increase the number of iterations (max_iter) or scale the data as shown in:\n",
      "    https://scikit-learn.org/stable/modules/preprocessing.html\n",
      "  self.n_iter_ = _check_optimize_result(\"lbfgs\", opt_res, self.max_iter)\n",
      "D:\\AI\\Anaconda3\\lib\\site-packages\\sklearn\\neural_network\\_multilayer_perceptron.py:549: ConvergenceWarning: lbfgs failed to converge (status=1):\n",
      "STOP: TOTAL NO. of ITERATIONS REACHED LIMIT.\n",
      "\n",
      "Increase the number of iterations (max_iter) or scale the data as shown in:\n",
      "    https://scikit-learn.org/stable/modules/preprocessing.html\n",
      "  self.n_iter_ = _check_optimize_result(\"lbfgs\", opt_res, self.max_iter)\n",
      "D:\\AI\\Anaconda3\\lib\\site-packages\\sklearn\\neural_network\\_multilayer_perceptron.py:549: ConvergenceWarning: lbfgs failed to converge (status=1):\n",
      "STOP: TOTAL NO. of ITERATIONS REACHED LIMIT.\n",
      "\n",
      "Increase the number of iterations (max_iter) or scale the data as shown in:\n",
      "    https://scikit-learn.org/stable/modules/preprocessing.html\n",
      "  self.n_iter_ = _check_optimize_result(\"lbfgs\", opt_res, self.max_iter)\n",
      "D:\\AI\\Anaconda3\\lib\\site-packages\\sklearn\\neural_network\\_multilayer_perceptron.py:549: ConvergenceWarning: lbfgs failed to converge (status=1):\n",
      "STOP: TOTAL NO. of ITERATIONS REACHED LIMIT.\n",
      "\n",
      "Increase the number of iterations (max_iter) or scale the data as shown in:\n",
      "    https://scikit-learn.org/stable/modules/preprocessing.html\n",
      "  self.n_iter_ = _check_optimize_result(\"lbfgs\", opt_res, self.max_iter)\n"
     ]
    },
    {
     "name": "stdout",
     "output_type": "stream",
     "text": [
      "Iteration 1, loss = 0.67296925\n",
      "Iteration 2, loss = 0.52492903\n",
      "Iteration 3, loss = 0.44503906\n",
      "Iteration 4, loss = 0.38351672\n",
      "Iteration 5, loss = 0.33999345\n",
      "Iteration 6, loss = 0.30928193\n",
      "Iteration 7, loss = 0.28384851\n",
      "Iteration 8, loss = 0.26384566\n",
      "Iteration 9, loss = 0.24447927\n",
      "Iteration 10, loss = 0.22938783\n",
      "Iteration 11, loss = 0.21478122\n",
      "Iteration 12, loss = 0.20363844\n",
      "Iteration 13, loss = 0.18958703\n",
      "Iteration 14, loss = 0.17533388\n",
      "Iteration 15, loss = 0.16473407\n",
      "Iteration 16, loss = 0.15403046\n",
      "Iteration 17, loss = 0.14244257\n",
      "Iteration 18, loss = 0.13360285\n",
      "Iteration 19, loss = 0.12701776\n",
      "Iteration 20, loss = 0.11626025\n",
      "Iteration 1, loss = 0.68157260\n",
      "Iteration 2, loss = 0.53135389\n",
      "Iteration 3, loss = 0.44922973\n",
      "Iteration 4, loss = 0.38693484\n"
     ]
    },
    {
     "name": "stderr",
     "output_type": "stream",
     "text": [
      "D:\\AI\\Anaconda3\\lib\\site-packages\\sklearn\\neural_network\\_multilayer_perceptron.py:692: ConvergenceWarning: Stochastic Optimizer: Maximum iterations (20) reached and the optimization hasn't converged yet.\n",
      "  warnings.warn(\n"
     ]
    },
    {
     "name": "stdout",
     "output_type": "stream",
     "text": [
      "Iteration 5, loss = 0.34319262\n",
      "Iteration 6, loss = 0.31377882\n",
      "Iteration 7, loss = 0.28766684\n",
      "Iteration 8, loss = 0.26686976\n",
      "Iteration 9, loss = 0.24675284\n",
      "Iteration 10, loss = 0.23222184\n",
      "Iteration 11, loss = 0.21757326\n",
      "Iteration 12, loss = 0.20331990\n",
      "Iteration 13, loss = 0.19044443\n",
      "Iteration 14, loss = 0.17770792\n",
      "Iteration 15, loss = 0.16701182\n",
      "Iteration 16, loss = 0.15687395\n",
      "Iteration 17, loss = 0.14533059\n",
      "Iteration 18, loss = 0.13529445\n",
      "Iteration 19, loss = 0.12721259\n",
      "Iteration 20, loss = 0.11855444\n",
      "Iteration 1, loss = 0.67752646\n",
      "Iteration 2, loss = 0.53210186\n",
      "Iteration 3, loss = 0.45090796\n",
      "Iteration 4, loss = 0.38976230\n",
      "Iteration 5, loss = 0.34682708\n"
     ]
    },
    {
     "name": "stderr",
     "output_type": "stream",
     "text": [
      "D:\\AI\\Anaconda3\\lib\\site-packages\\sklearn\\neural_network\\_multilayer_perceptron.py:692: ConvergenceWarning: Stochastic Optimizer: Maximum iterations (20) reached and the optimization hasn't converged yet.\n",
      "  warnings.warn(\n"
     ]
    },
    {
     "name": "stdout",
     "output_type": "stream",
     "text": [
      "Iteration 6, loss = 0.31611120\n",
      "Iteration 7, loss = 0.28944656\n",
      "Iteration 8, loss = 0.26702642\n",
      "Iteration 9, loss = 0.24847327\n",
      "Iteration 10, loss = 0.23370612\n",
      "Iteration 11, loss = 0.21823600\n",
      "Iteration 12, loss = 0.20331167\n",
      "Iteration 13, loss = 0.19018490\n",
      "Iteration 14, loss = 0.17813089\n",
      "Iteration 15, loss = 0.16604746\n",
      "Iteration 16, loss = 0.15572677\n",
      "Iteration 17, loss = 0.14507618\n",
      "Iteration 18, loss = 0.13438051\n",
      "Iteration 19, loss = 0.12582563\n",
      "Iteration 20, loss = 0.11698541\n",
      "Iteration 1, loss = 0.67833521\n"
     ]
    },
    {
     "name": "stderr",
     "output_type": "stream",
     "text": [
      "D:\\AI\\Anaconda3\\lib\\site-packages\\sklearn\\neural_network\\_multilayer_perceptron.py:692: ConvergenceWarning: Stochastic Optimizer: Maximum iterations (20) reached and the optimization hasn't converged yet.\n",
      "  warnings.warn(\n"
     ]
    },
    {
     "name": "stdout",
     "output_type": "stream",
     "text": [
      "Iteration 2, loss = 0.53031315\n",
      "Iteration 3, loss = 0.44898527\n",
      "Iteration 4, loss = 0.38719304\n",
      "Iteration 5, loss = 0.34446549\n",
      "Iteration 6, loss = 0.31386047\n",
      "Iteration 7, loss = 0.28552950\n",
      "Iteration 8, loss = 0.26484448\n",
      "Iteration 9, loss = 0.24756696\n",
      "Iteration 10, loss = 0.23439926\n",
      "Iteration 11, loss = 0.21862749\n",
      "Iteration 12, loss = 0.20314257\n",
      "Iteration 13, loss = 0.19084768\n",
      "Iteration 14, loss = 0.17825795\n",
      "Iteration 15, loss = 0.16736835\n",
      "Iteration 16, loss = 0.15747445\n",
      "Iteration 17, loss = 0.14704952\n",
      "Iteration 18, loss = 0.13613288\n",
      "Iteration 19, loss = 0.12752995\n",
      "Iteration 20, loss = 0.11901759\n",
      "Iteration 1, loss = 0.67679800\n",
      "Iteration 2, loss = 0.52745071\n"
     ]
    },
    {
     "name": "stderr",
     "output_type": "stream",
     "text": [
      "D:\\AI\\Anaconda3\\lib\\site-packages\\sklearn\\neural_network\\_multilayer_perceptron.py:692: ConvergenceWarning: Stochastic Optimizer: Maximum iterations (20) reached and the optimization hasn't converged yet.\n",
      "  warnings.warn(\n"
     ]
    },
    {
     "name": "stdout",
     "output_type": "stream",
     "text": [
      "Iteration 3, loss = 0.44652906\n",
      "Iteration 4, loss = 0.38651091\n",
      "Iteration 5, loss = 0.34518775\n",
      "Iteration 6, loss = 0.31603901\n",
      "Iteration 7, loss = 0.28689078\n",
      "Iteration 8, loss = 0.26666686\n",
      "Iteration 9, loss = 0.24939045\n",
      "Iteration 10, loss = 0.23417622\n",
      "Iteration 11, loss = 0.21824788\n",
      "Iteration 12, loss = 0.20267926\n",
      "Iteration 13, loss = 0.19043592\n",
      "Iteration 14, loss = 0.17714804\n",
      "Iteration 15, loss = 0.16665209\n",
      "Iteration 16, loss = 0.15572137\n",
      "Iteration 17, loss = 0.14451977\n",
      "Iteration 18, loss = 0.13383546\n",
      "Iteration 19, loss = 0.12489917\n",
      "Iteration 20, loss = 0.11633642\n",
      "Iteration 1, loss = 0.67900405\n",
      "Iteration 2, loss = 0.52941379\n",
      "Iteration 3, loss = 0.44801260\n",
      "Iteration 4, loss = 0.38695104\n"
     ]
    },
    {
     "name": "stderr",
     "output_type": "stream",
     "text": [
      "D:\\AI\\Anaconda3\\lib\\site-packages\\sklearn\\neural_network\\_multilayer_perceptron.py:692: ConvergenceWarning: Stochastic Optimizer: Maximum iterations (20) reached and the optimization hasn't converged yet.\n",
      "  warnings.warn(\n"
     ]
    },
    {
     "name": "stdout",
     "output_type": "stream",
     "text": [
      "Iteration 5, loss = 0.34357302\n",
      "Iteration 6, loss = 0.31449055\n",
      "Iteration 7, loss = 0.28455896\n",
      "Iteration 8, loss = 0.26455087\n",
      "Iteration 9, loss = 0.24648580\n",
      "Iteration 10, loss = 0.23158380\n",
      "Iteration 11, loss = 0.21666838\n",
      "Iteration 12, loss = 0.20067016\n",
      "Iteration 13, loss = 0.18818658\n",
      "Iteration 14, loss = 0.17677333\n",
      "Iteration 15, loss = 0.16448076\n",
      "Iteration 16, loss = 0.15272309\n",
      "Iteration 17, loss = 0.14216987\n",
      "Iteration 18, loss = 0.13247626\n",
      "Iteration 19, loss = 0.12276193\n",
      "Iteration 20, loss = 0.11465745\n"
     ]
    },
    {
     "name": "stderr",
     "output_type": "stream",
     "text": [
      "D:\\AI\\Anaconda3\\lib\\site-packages\\sklearn\\neural_network\\_multilayer_perceptron.py:692: ConvergenceWarning: Stochastic Optimizer: Maximum iterations (20) reached and the optimization hasn't converged yet.\n",
      "  warnings.warn(\n"
     ]
    },
    {
     "name": "stdout",
     "output_type": "stream",
     "text": [
      "Iteration 1, loss = 0.67673040\n",
      "Iteration 2, loss = 0.52462348\n",
      "Iteration 3, loss = 0.44229054\n",
      "Iteration 4, loss = 0.38085290\n",
      "Iteration 5, loss = 0.33640407\n",
      "Iteration 6, loss = 0.30637153\n",
      "Iteration 7, loss = 0.27752149\n",
      "Iteration 8, loss = 0.25747696\n",
      "Iteration 9, loss = 0.23873237\n",
      "Iteration 10, loss = 0.22533602\n",
      "Iteration 11, loss = 0.20989665\n",
      "Iteration 12, loss = 0.19634604\n",
      "Iteration 13, loss = 0.18426772\n",
      "Iteration 14, loss = 0.17264238\n",
      "Iteration 15, loss = 0.16043991\n",
      "Iteration 16, loss = 0.15028163\n",
      "Iteration 17, loss = 0.14044892\n",
      "Iteration 18, loss = 0.13093601\n",
      "Iteration 19, loss = 0.12101834\n",
      "Iteration 20, loss = 0.11406309\n",
      "Iteration 1, loss = 0.67502379\n"
     ]
    },
    {
     "name": "stderr",
     "output_type": "stream",
     "text": [
      "D:\\AI\\Anaconda3\\lib\\site-packages\\sklearn\\neural_network\\_multilayer_perceptron.py:692: ConvergenceWarning: Stochastic Optimizer: Maximum iterations (20) reached and the optimization hasn't converged yet.\n",
      "  warnings.warn(\n"
     ]
    },
    {
     "name": "stdout",
     "output_type": "stream",
     "text": [
      "Iteration 2, loss = 0.52682849\n",
      "Iteration 3, loss = 0.44545861\n",
      "Iteration 4, loss = 0.38716617\n",
      "Iteration 5, loss = 0.34349651\n",
      "Iteration 6, loss = 0.31385128\n",
      "Iteration 7, loss = 0.28683522\n",
      "Iteration 8, loss = 0.26705871\n",
      "Iteration 9, loss = 0.24797411\n",
      "Iteration 10, loss = 0.23342082\n",
      "Iteration 11, loss = 0.21831801\n",
      "Iteration 12, loss = 0.20338544\n",
      "Iteration 13, loss = 0.19185334\n",
      "Iteration 14, loss = 0.18099098\n",
      "Iteration 15, loss = 0.16795360\n",
      "Iteration 16, loss = 0.15810029\n",
      "Iteration 17, loss = 0.14710944\n",
      "Iteration 18, loss = 0.13667111\n",
      "Iteration 19, loss = 0.12721760\n",
      "Iteration 20, loss = 0.11871997\n",
      "Iteration 1, loss = 0.67031048\n",
      "Iteration 2, loss = 0.52294872\n",
      "Iteration 3, loss = 0.44185148\n"
     ]
    },
    {
     "name": "stderr",
     "output_type": "stream",
     "text": [
      "D:\\AI\\Anaconda3\\lib\\site-packages\\sklearn\\neural_network\\_multilayer_perceptron.py:692: ConvergenceWarning: Stochastic Optimizer: Maximum iterations (20) reached and the optimization hasn't converged yet.\n",
      "  warnings.warn(\n"
     ]
    },
    {
     "name": "stdout",
     "output_type": "stream",
     "text": [
      "Iteration 4, loss = 0.38314370\n",
      "Iteration 5, loss = 0.33933163\n",
      "Iteration 6, loss = 0.30810526\n",
      "Iteration 7, loss = 0.28506127\n",
      "Iteration 8, loss = 0.26502215\n",
      "Iteration 9, loss = 0.24651005\n",
      "Iteration 10, loss = 0.23225869\n",
      "Iteration 11, loss = 0.21636807\n",
      "Iteration 12, loss = 0.20170588\n",
      "Iteration 13, loss = 0.19038907\n",
      "Iteration 14, loss = 0.17843262\n",
      "Iteration 15, loss = 0.16630950\n",
      "Iteration 16, loss = 0.15512327\n",
      "Iteration 17, loss = 0.14425862\n",
      "Iteration 18, loss = 0.13579870\n",
      "Iteration 19, loss = 0.12578592\n",
      "Iteration 20, loss = 0.11758555\n",
      "Iteration 1, loss = 0.67439161\n",
      "Iteration 2, loss = 0.53026508\n",
      "Iteration 3, loss = 0.44961866\n",
      "Iteration 4, loss = 0.39030513\n",
      "Iteration 5, loss = 0.34570144\n",
      "Iteration 6, loss = 0.31429520\n"
     ]
    },
    {
     "name": "stderr",
     "output_type": "stream",
     "text": [
      "D:\\AI\\Anaconda3\\lib\\site-packages\\sklearn\\neural_network\\_multilayer_perceptron.py:692: ConvergenceWarning: Stochastic Optimizer: Maximum iterations (20) reached and the optimization hasn't converged yet.\n",
      "  warnings.warn(\n"
     ]
    },
    {
     "name": "stdout",
     "output_type": "stream",
     "text": [
      "Iteration 7, loss = 0.28951559\n",
      "Iteration 8, loss = 0.26852083\n",
      "Iteration 9, loss = 0.25103026\n",
      "Iteration 10, loss = 0.23780328\n",
      "Iteration 11, loss = 0.22041038\n",
      "Iteration 12, loss = 0.20473383\n",
      "Iteration 13, loss = 0.19257666\n",
      "Iteration 14, loss = 0.17949349\n",
      "Iteration 15, loss = 0.16747820\n",
      "Iteration 16, loss = 0.15606292\n",
      "Iteration 17, loss = 0.14488681\n",
      "Iteration 18, loss = 0.13618521\n",
      "Iteration 19, loss = 0.12527835\n",
      "Iteration 20, loss = 0.11712143\n",
      "Iteration 1, loss = 0.76598213\n",
      "Iteration 2, loss = 0.72035133\n"
     ]
    },
    {
     "name": "stderr",
     "output_type": "stream",
     "text": [
      "D:\\AI\\Anaconda3\\lib\\site-packages\\sklearn\\neural_network\\_multilayer_perceptron.py:692: ConvergenceWarning: Stochastic Optimizer: Maximum iterations (20) reached and the optimization hasn't converged yet.\n",
      "  warnings.warn(\n"
     ]
    },
    {
     "name": "stdout",
     "output_type": "stream",
     "text": [
      "Iteration 3, loss = 0.68517500\n",
      "Iteration 4, loss = 0.65814038\n",
      "Iteration 5, loss = 0.63942044\n",
      "Iteration 6, loss = 0.62433128\n",
      "Iteration 7, loss = 0.61151837\n",
      "Iteration 8, loss = 0.60057421\n",
      "Iteration 9, loss = 0.58959758\n",
      "Iteration 10, loss = 0.58053488\n",
      "Iteration 11, loss = 0.57126371\n",
      "Iteration 12, loss = 0.56297773\n",
      "Iteration 13, loss = 0.55485250\n",
      "Iteration 14, loss = 0.54717180\n",
      "Iteration 15, loss = 0.53954705\n",
      "Iteration 16, loss = 0.53233559\n",
      "Iteration 17, loss = 0.52526774\n",
      "Iteration 18, loss = 0.51883936\n",
      "Iteration 19, loss = 0.51212857\n",
      "Iteration 20, loss = 0.50566328\n"
     ]
    },
    {
     "name": "stderr",
     "output_type": "stream",
     "text": [
      "D:\\AI\\Anaconda3\\lib\\site-packages\\sklearn\\neural_network\\_multilayer_perceptron.py:692: ConvergenceWarning: Stochastic Optimizer: Maximum iterations (20) reached and the optimization hasn't converged yet.\n",
      "  warnings.warn(\n"
     ]
    },
    {
     "name": "stdout",
     "output_type": "stream",
     "text": [
      "Iteration 1, loss = 0.76943831\n",
      "Iteration 2, loss = 0.72375632\n",
      "Iteration 3, loss = 0.68889993\n",
      "Iteration 4, loss = 0.66221243\n",
      "Iteration 5, loss = 0.64360290\n",
      "Iteration 6, loss = 0.62872107\n",
      "Iteration 7, loss = 0.61571520\n",
      "Iteration 8, loss = 0.60472506\n",
      "Iteration 9, loss = 0.59401110\n",
      "Iteration 10, loss = 0.58490569\n",
      "Iteration 11, loss = 0.57572381\n",
      "Iteration 12, loss = 0.56750106\n",
      "Iteration 13, loss = 0.55952149\n",
      "Iteration 14, loss = 0.55199015\n",
      "Iteration 15, loss = 0.54437146\n",
      "Iteration 16, loss = 0.53722023\n",
      "Iteration 17, loss = 0.53011949\n",
      "Iteration 18, loss = 0.52364515\n",
      "Iteration 19, loss = 0.51703175\n",
      "Iteration 20, loss = 0.51064142\n",
      "Iteration 1, loss = 0.76524986\n",
      "Iteration 2, loss = 0.72070340\n",
      "Iteration 3, loss = 0.68659065\n",
      "Iteration 4, loss = 0.66054229\n",
      "Iteration 5, loss = 0.64244863\n",
      "Iteration 6, loss = 0.62770022\n",
      "Iteration 7, loss = 0.61503109\n",
      "Iteration 8, loss = 0.60437543\n"
     ]
    },
    {
     "name": "stderr",
     "output_type": "stream",
     "text": [
      "D:\\AI\\Anaconda3\\lib\\site-packages\\sklearn\\neural_network\\_multilayer_perceptron.py:692: ConvergenceWarning: Stochastic Optimizer: Maximum iterations (20) reached and the optimization hasn't converged yet.\n",
      "  warnings.warn(\n"
     ]
    },
    {
     "name": "stdout",
     "output_type": "stream",
     "text": [
      "Iteration 9, loss = 0.59433957\n",
      "Iteration 10, loss = 0.58523216\n",
      "Iteration 11, loss = 0.57628118\n",
      "Iteration 12, loss = 0.56819223\n",
      "Iteration 13, loss = 0.56055225\n",
      "Iteration 14, loss = 0.55305604\n",
      "Iteration 15, loss = 0.54559168\n",
      "Iteration 16, loss = 0.53858664\n",
      "Iteration 17, loss = 0.53183466\n",
      "Iteration 18, loss = 0.52520564\n",
      "Iteration 19, loss = 0.51856348\n",
      "Iteration 20, loss = 0.51219990\n",
      "Iteration 1, loss = 0.76665973\n",
      "Iteration 2, loss = 0.72130071\n",
      "Iteration 3, loss = 0.68636069\n",
      "Iteration 4, loss = 0.65967320\n",
      "Iteration 5, loss = 0.64098062\n"
     ]
    },
    {
     "name": "stderr",
     "output_type": "stream",
     "text": [
      "D:\\AI\\Anaconda3\\lib\\site-packages\\sklearn\\neural_network\\_multilayer_perceptron.py:692: ConvergenceWarning: Stochastic Optimizer: Maximum iterations (20) reached and the optimization hasn't converged yet.\n",
      "  warnings.warn(\n"
     ]
    },
    {
     "name": "stdout",
     "output_type": "stream",
     "text": [
      "Iteration 6, loss = 0.62563580\n",
      "Iteration 7, loss = 0.61247803\n",
      "Iteration 8, loss = 0.60136586\n",
      "Iteration 9, loss = 0.59109882\n",
      "Iteration 10, loss = 0.58162041\n",
      "Iteration 11, loss = 0.57234438\n",
      "Iteration 12, loss = 0.56394031\n",
      "Iteration 13, loss = 0.55610569\n",
      "Iteration 14, loss = 0.54841319\n",
      "Iteration 15, loss = 0.54061268\n",
      "Iteration 16, loss = 0.53343451\n",
      "Iteration 17, loss = 0.52641411\n",
      "Iteration 18, loss = 0.51964899\n",
      "Iteration 19, loss = 0.51301042\n",
      "Iteration 20, loss = 0.50655778\n"
     ]
    },
    {
     "name": "stderr",
     "output_type": "stream",
     "text": [
      "D:\\AI\\Anaconda3\\lib\\site-packages\\sklearn\\neural_network\\_multilayer_perceptron.py:692: ConvergenceWarning: Stochastic Optimizer: Maximum iterations (20) reached and the optimization hasn't converged yet.\n",
      "  warnings.warn(\n"
     ]
    },
    {
     "name": "stdout",
     "output_type": "stream",
     "text": [
      "Iteration 1, loss = 0.76567689\n",
      "Iteration 2, loss = 0.71884377\n",
      "Iteration 3, loss = 0.68410882\n",
      "Iteration 4, loss = 0.65730276\n",
      "Iteration 5, loss = 0.63887496\n",
      "Iteration 6, loss = 0.62358626\n",
      "Iteration 7, loss = 0.61057049\n",
      "Iteration 8, loss = 0.59935131\n",
      "Iteration 9, loss = 0.58929150\n",
      "Iteration 10, loss = 0.57979630\n",
      "Iteration 11, loss = 0.57047023\n",
      "Iteration 12, loss = 0.56201502\n",
      "Iteration 13, loss = 0.55439969\n",
      "Iteration 14, loss = 0.54633778\n",
      "Iteration 15, loss = 0.53872436\n",
      "Iteration 16, loss = 0.53154267\n",
      "Iteration 17, loss = 0.52479808\n",
      "Iteration 18, loss = 0.51808500\n",
      "Iteration 19, loss = 0.51149312\n",
      "Iteration 20, loss = 0.50482133\n",
      "Iteration 1, loss = 0.76741707\n",
      "Iteration 2, loss = 0.72111239\n",
      "Iteration 3, loss = 0.68658688\n",
      "Iteration 4, loss = 0.65986209\n",
      "Iteration 5, loss = 0.64130255\n",
      "Iteration 6, loss = 0.62609982\n",
      "Iteration 7, loss = 0.61337531\n",
      "Iteration 8, loss = 0.60227623\n"
     ]
    },
    {
     "name": "stderr",
     "output_type": "stream",
     "text": [
      "D:\\AI\\Anaconda3\\lib\\site-packages\\sklearn\\neural_network\\_multilayer_perceptron.py:692: ConvergenceWarning: Stochastic Optimizer: Maximum iterations (20) reached and the optimization hasn't converged yet.\n",
      "  warnings.warn(\n"
     ]
    },
    {
     "name": "stdout",
     "output_type": "stream",
     "text": [
      "Iteration 9, loss = 0.59234410\n",
      "Iteration 10, loss = 0.58308259\n",
      "Iteration 11, loss = 0.57399702\n",
      "Iteration 12, loss = 0.56569140\n",
      "Iteration 13, loss = 0.55825871\n",
      "Iteration 14, loss = 0.55010489\n",
      "Iteration 15, loss = 0.54264686\n",
      "Iteration 16, loss = 0.53551806\n",
      "Iteration 17, loss = 0.52861230\n",
      "Iteration 18, loss = 0.52209604\n",
      "Iteration 19, loss = 0.51539659\n",
      "Iteration 20, loss = 0.50881944\n",
      "Iteration 1, loss = 0.76913095\n",
      "Iteration 2, loss = 0.72079744\n"
     ]
    },
    {
     "name": "stderr",
     "output_type": "stream",
     "text": [
      "D:\\AI\\Anaconda3\\lib\\site-packages\\sklearn\\neural_network\\_multilayer_perceptron.py:692: ConvergenceWarning: Stochastic Optimizer: Maximum iterations (20) reached and the optimization hasn't converged yet.\n",
      "  warnings.warn(\n"
     ]
    },
    {
     "name": "stdout",
     "output_type": "stream",
     "text": [
      "Iteration 3, loss = 0.68443978\n",
      "Iteration 4, loss = 0.65702799\n",
      "Iteration 5, loss = 0.63807775\n",
      "Iteration 6, loss = 0.62271169\n",
      "Iteration 7, loss = 0.60967062\n",
      "Iteration 8, loss = 0.59840272\n",
      "Iteration 9, loss = 0.58809417\n",
      "Iteration 10, loss = 0.57883521\n",
      "Iteration 11, loss = 0.56970494\n",
      "Iteration 12, loss = 0.56151874\n",
      "Iteration 13, loss = 0.55386922\n",
      "Iteration 14, loss = 0.54579478\n",
      "Iteration 15, loss = 0.53817831\n",
      "Iteration 16, loss = 0.53128559\n",
      "Iteration 17, loss = 0.52415209\n",
      "Iteration 18, loss = 0.51778204\n",
      "Iteration 19, loss = 0.51128972\n",
      "Iteration 20, loss = 0.50473113\n"
     ]
    },
    {
     "name": "stderr",
     "output_type": "stream",
     "text": [
      "D:\\AI\\Anaconda3\\lib\\site-packages\\sklearn\\neural_network\\_multilayer_perceptron.py:692: ConvergenceWarning: Stochastic Optimizer: Maximum iterations (20) reached and the optimization hasn't converged yet.\n",
      "  warnings.warn(\n"
     ]
    },
    {
     "name": "stdout",
     "output_type": "stream",
     "text": [
      "Iteration 1, loss = 0.76428025\n",
      "Iteration 2, loss = 0.71938035\n",
      "Iteration 3, loss = 0.68493654\n",
      "Iteration 4, loss = 0.65959660\n",
      "Iteration 5, loss = 0.64090185\n",
      "Iteration 6, loss = 0.62586386\n",
      "Iteration 7, loss = 0.61295163\n",
      "Iteration 8, loss = 0.60171377\n",
      "Iteration 9, loss = 0.59143957\n",
      "Iteration 10, loss = 0.58208783\n",
      "Iteration 11, loss = 0.57294382\n",
      "Iteration 12, loss = 0.56460969\n",
      "Iteration 13, loss = 0.55687933\n",
      "Iteration 14, loss = 0.54905858\n",
      "Iteration 15, loss = 0.54125661\n",
      "Iteration 16, loss = 0.53477070\n",
      "Iteration 17, loss = 0.52733516\n",
      "Iteration 18, loss = 0.52062738\n",
      "Iteration 19, loss = 0.51407149\n",
      "Iteration 20, loss = 0.50760548\n"
     ]
    },
    {
     "name": "stderr",
     "output_type": "stream",
     "text": [
      "D:\\AI\\Anaconda3\\lib\\site-packages\\sklearn\\neural_network\\_multilayer_perceptron.py:692: ConvergenceWarning: Stochastic Optimizer: Maximum iterations (20) reached and the optimization hasn't converged yet.\n",
      "  warnings.warn(\n"
     ]
    },
    {
     "name": "stdout",
     "output_type": "stream",
     "text": [
      "Iteration 1, loss = 0.76275967\n",
      "Iteration 2, loss = 0.71655644\n",
      "Iteration 3, loss = 0.68143703\n",
      "Iteration 4, loss = 0.65534408\n",
      "Iteration 5, loss = 0.63672735\n",
      "Iteration 6, loss = 0.62145413\n",
      "Iteration 7, loss = 0.60884511\n",
      "Iteration 8, loss = 0.59757375\n",
      "Iteration 9, loss = 0.58760485\n",
      "Iteration 10, loss = 0.57817405\n",
      "Iteration 11, loss = 0.56908932\n",
      "Iteration 12, loss = 0.56099585\n",
      "Iteration 13, loss = 0.55291364\n",
      "Iteration 14, loss = 0.54573967\n",
      "Iteration 15, loss = 0.53790758\n",
      "Iteration 16, loss = 0.53036962\n",
      "Iteration 17, loss = 0.52359725\n",
      "Iteration 18, loss = 0.51653687\n",
      "Iteration 19, loss = 0.51014868\n",
      "Iteration 20, loss = 0.50367032\n",
      "Iteration 1, loss = 0.76276491\n",
      "Iteration 2, loss = 0.71936674\n"
     ]
    },
    {
     "name": "stderr",
     "output_type": "stream",
     "text": [
      "D:\\AI\\Anaconda3\\lib\\site-packages\\sklearn\\neural_network\\_multilayer_perceptron.py:692: ConvergenceWarning: Stochastic Optimizer: Maximum iterations (20) reached and the optimization hasn't converged yet.\n",
      "  warnings.warn(\n"
     ]
    },
    {
     "name": "stdout",
     "output_type": "stream",
     "text": [
      "Iteration 3, loss = 0.68544617\n",
      "Iteration 4, loss = 0.66017703\n",
      "Iteration 5, loss = 0.64207766\n",
      "Iteration 6, loss = 0.62717131\n",
      "Iteration 7, loss = 0.61458417\n",
      "Iteration 8, loss = 0.60359055\n",
      "Iteration 9, loss = 0.59364734\n",
      "Iteration 10, loss = 0.58432611\n",
      "Iteration 11, loss = 0.57542768\n",
      "Iteration 12, loss = 0.56744907\n",
      "Iteration 13, loss = 0.55954197\n",
      "Iteration 14, loss = 0.55218292\n",
      "Iteration 15, loss = 0.54480296\n",
      "Iteration 16, loss = 0.53741792\n",
      "Iteration 17, loss = 0.53095135\n",
      "Iteration 18, loss = 0.52404910\n",
      "Iteration 19, loss = 0.51778953\n",
      "Iteration 20, loss = 0.51136739\n"
     ]
    },
    {
     "name": "stderr",
     "output_type": "stream",
     "text": [
      "D:\\AI\\Anaconda3\\lib\\site-packages\\sklearn\\neural_network\\_multilayer_perceptron.py:692: ConvergenceWarning: Stochastic Optimizer: Maximum iterations (20) reached and the optimization hasn't converged yet.\n",
      "  warnings.warn(\n",
      "D:\\AI\\Anaconda3\\lib\\site-packages\\sklearn\\neural_network\\_multilayer_perceptron.py:549: ConvergenceWarning: lbfgs failed to converge (status=1):\n",
      "STOP: TOTAL NO. of ITERATIONS REACHED LIMIT.\n",
      "\n",
      "Increase the number of iterations (max_iter) or scale the data as shown in:\n",
      "    https://scikit-learn.org/stable/modules/preprocessing.html\n",
      "  self.n_iter_ = _check_optimize_result(\"lbfgs\", opt_res, self.max_iter)\n",
      "D:\\AI\\Anaconda3\\lib\\site-packages\\sklearn\\neural_network\\_multilayer_perceptron.py:549: ConvergenceWarning: lbfgs failed to converge (status=1):\n",
      "STOP: TOTAL NO. of ITERATIONS REACHED LIMIT.\n",
      "\n",
      "Increase the number of iterations (max_iter) or scale the data as shown in:\n",
      "    https://scikit-learn.org/stable/modules/preprocessing.html\n",
      "  self.n_iter_ = _check_optimize_result(\"lbfgs\", opt_res, self.max_iter)\n",
      "D:\\AI\\Anaconda3\\lib\\site-packages\\sklearn\\neural_network\\_multilayer_perceptron.py:549: ConvergenceWarning: lbfgs failed to converge (status=1):\n",
      "STOP: TOTAL NO. of ITERATIONS REACHED LIMIT.\n",
      "\n",
      "Increase the number of iterations (max_iter) or scale the data as shown in:\n",
      "    https://scikit-learn.org/stable/modules/preprocessing.html\n",
      "  self.n_iter_ = _check_optimize_result(\"lbfgs\", opt_res, self.max_iter)\n",
      "D:\\AI\\Anaconda3\\lib\\site-packages\\sklearn\\neural_network\\_multilayer_perceptron.py:549: ConvergenceWarning: lbfgs failed to converge (status=1):\n",
      "STOP: TOTAL NO. of ITERATIONS REACHED LIMIT.\n",
      "\n",
      "Increase the number of iterations (max_iter) or scale the data as shown in:\n",
      "    https://scikit-learn.org/stable/modules/preprocessing.html\n",
      "  self.n_iter_ = _check_optimize_result(\"lbfgs\", opt_res, self.max_iter)\n",
      "D:\\AI\\Anaconda3\\lib\\site-packages\\sklearn\\neural_network\\_multilayer_perceptron.py:549: ConvergenceWarning: lbfgs failed to converge (status=1):\n",
      "STOP: TOTAL NO. of ITERATIONS REACHED LIMIT.\n",
      "\n",
      "Increase the number of iterations (max_iter) or scale the data as shown in:\n",
      "    https://scikit-learn.org/stable/modules/preprocessing.html\n",
      "  self.n_iter_ = _check_optimize_result(\"lbfgs\", opt_res, self.max_iter)\n",
      "D:\\AI\\Anaconda3\\lib\\site-packages\\sklearn\\neural_network\\_multilayer_perceptron.py:549: ConvergenceWarning: lbfgs failed to converge (status=1):\n",
      "STOP: TOTAL NO. of ITERATIONS REACHED LIMIT.\n",
      "\n",
      "Increase the number of iterations (max_iter) or scale the data as shown in:\n",
      "    https://scikit-learn.org/stable/modules/preprocessing.html\n",
      "  self.n_iter_ = _check_optimize_result(\"lbfgs\", opt_res, self.max_iter)\n",
      "D:\\AI\\Anaconda3\\lib\\site-packages\\sklearn\\neural_network\\_multilayer_perceptron.py:549: ConvergenceWarning: lbfgs failed to converge (status=1):\n",
      "STOP: TOTAL NO. of ITERATIONS REACHED LIMIT.\n",
      "\n",
      "Increase the number of iterations (max_iter) or scale the data as shown in:\n",
      "    https://scikit-learn.org/stable/modules/preprocessing.html\n",
      "  self.n_iter_ = _check_optimize_result(\"lbfgs\", opt_res, self.max_iter)\n",
      "D:\\AI\\Anaconda3\\lib\\site-packages\\sklearn\\neural_network\\_multilayer_perceptron.py:549: ConvergenceWarning: lbfgs failed to converge (status=1):\n",
      "STOP: TOTAL NO. of ITERATIONS REACHED LIMIT.\n",
      "\n",
      "Increase the number of iterations (max_iter) or scale the data as shown in:\n",
      "    https://scikit-learn.org/stable/modules/preprocessing.html\n",
      "  self.n_iter_ = _check_optimize_result(\"lbfgs\", opt_res, self.max_iter)\n",
      "D:\\AI\\Anaconda3\\lib\\site-packages\\sklearn\\neural_network\\_multilayer_perceptron.py:549: ConvergenceWarning: lbfgs failed to converge (status=1):\n",
      "STOP: TOTAL NO. of ITERATIONS REACHED LIMIT.\n",
      "\n",
      "Increase the number of iterations (max_iter) or scale the data as shown in:\n",
      "    https://scikit-learn.org/stable/modules/preprocessing.html\n",
      "  self.n_iter_ = _check_optimize_result(\"lbfgs\", opt_res, self.max_iter)\n",
      "D:\\AI\\Anaconda3\\lib\\site-packages\\sklearn\\neural_network\\_multilayer_perceptron.py:549: ConvergenceWarning: lbfgs failed to converge (status=1):\n",
      "STOP: TOTAL NO. of ITERATIONS REACHED LIMIT.\n",
      "\n",
      "Increase the number of iterations (max_iter) or scale the data as shown in:\n",
      "    https://scikit-learn.org/stable/modules/preprocessing.html\n",
      "  self.n_iter_ = _check_optimize_result(\"lbfgs\", opt_res, self.max_iter)\n"
     ]
    },
    {
     "name": "stdout",
     "output_type": "stream",
     "text": [
      "Iteration 1, loss = 0.93756155\n",
      "Iteration 2, loss = 0.91641650\n",
      "Iteration 3, loss = 0.90030613\n",
      "Iteration 4, loss = 0.88813919\n",
      "Iteration 5, loss = 0.87854696\n",
      "Iteration 6, loss = 0.87097346\n",
      "Iteration 7, loss = 0.86450560\n",
      "Iteration 8, loss = 0.85879448\n",
      "Iteration 9, loss = 0.85371782\n",
      "Iteration 10, loss = 0.84894230\n",
      "Iteration 11, loss = 0.84442518\n",
      "Iteration 12, loss = 0.84017203\n",
      "Iteration 13, loss = 0.83596059\n",
      "Iteration 14, loss = 0.83184749\n",
      "Iteration 15, loss = 0.82787411\n",
      "Iteration 16, loss = 0.82393537\n",
      "Iteration 17, loss = 0.82008052\n",
      "Iteration 18, loss = 0.81625658\n",
      "Iteration 19, loss = 0.81248686\n",
      "Iteration 20, loss = 0.80869938\n",
      "Iteration 1, loss = 0.93280313\n",
      "Iteration 2, loss = 0.91177886\n",
      "Iteration 3, loss = 0.89567446\n",
      "Iteration 4, loss = 0.88353983\n",
      "Iteration 5, loss = 0.87401742\n",
      "Iteration 6, loss = 0.86645584\n",
      "Iteration 7, loss = 0.85999604\n",
      "Iteration 8, loss = 0.85432389\n",
      "Iteration 9, loss = 0.84930228\n",
      "Iteration 10, loss = 0.84463630\n",
      "Iteration 11, loss = 0.84018590\n",
      "Iteration 12, loss = 0.83596701\n",
      "Iteration 13, loss = 0.83185409\n",
      "Iteration 14, loss = 0.82781658\n",
      "Iteration 15, loss = 0.82391675\n",
      "Iteration 16, loss = 0.82006635\n",
      "Iteration 17, loss = 0.81628434\n",
      "Iteration 18, loss = 0.81254754\n",
      "Iteration 19, loss = 0.80886597\n",
      "Iteration 20, loss = 0.80520016\n",
      "Iteration 1, loss = 0.92815746\n",
      "Iteration 2, loss = 0.90750661\n",
      "Iteration 3, loss = 0.89179644\n",
      "Iteration 4, loss = 0.87996857\n",
      "Iteration 5, loss = 0.87058475\n"
     ]
    },
    {
     "name": "stderr",
     "output_type": "stream",
     "text": [
      "D:\\AI\\Anaconda3\\lib\\site-packages\\sklearn\\neural_network\\_multilayer_perceptron.py:692: ConvergenceWarning: Stochastic Optimizer: Maximum iterations (20) reached and the optimization hasn't converged yet.\n",
      "  warnings.warn(\n",
      "D:\\AI\\Anaconda3\\lib\\site-packages\\sklearn\\neural_network\\_multilayer_perceptron.py:692: ConvergenceWarning: Stochastic Optimizer: Maximum iterations (20) reached and the optimization hasn't converged yet.\n",
      "  warnings.warn(\n"
     ]
    },
    {
     "name": "stdout",
     "output_type": "stream",
     "text": [
      "Iteration 6, loss = 0.86320629\n",
      "Iteration 7, loss = 0.85686430\n",
      "Iteration 8, loss = 0.85127984\n",
      "Iteration 9, loss = 0.84633043\n",
      "Iteration 10, loss = 0.84173119\n",
      "Iteration 11, loss = 0.83735988\n",
      "Iteration 12, loss = 0.83317782\n",
      "Iteration 13, loss = 0.82911697\n",
      "Iteration 14, loss = 0.82513614\n",
      "Iteration 15, loss = 0.82125332\n",
      "Iteration 16, loss = 0.81744367\n",
      "Iteration 17, loss = 0.81368508\n",
      "Iteration 18, loss = 0.80994222\n",
      "Iteration 19, loss = 0.80624312\n",
      "Iteration 20, loss = 0.80251597\n",
      "Iteration 1, loss = 0.93653947\n",
      "Iteration 2, loss = 0.91524261\n",
      "Iteration 3, loss = 0.89910191\n",
      "Iteration 4, loss = 0.88696994\n",
      "Iteration 5, loss = 0.87734487\n"
     ]
    },
    {
     "name": "stderr",
     "output_type": "stream",
     "text": [
      "D:\\AI\\Anaconda3\\lib\\site-packages\\sklearn\\neural_network\\_multilayer_perceptron.py:692: ConvergenceWarning: Stochastic Optimizer: Maximum iterations (20) reached and the optimization hasn't converged yet.\n",
      "  warnings.warn(\n"
     ]
    },
    {
     "name": "stdout",
     "output_type": "stream",
     "text": [
      "Iteration 6, loss = 0.86975105\n",
      "Iteration 7, loss = 0.86326996\n",
      "Iteration 8, loss = 0.85756153\n",
      "Iteration 9, loss = 0.85249661\n",
      "Iteration 10, loss = 0.84777569\n",
      "Iteration 11, loss = 0.84333573\n",
      "Iteration 12, loss = 0.83905622\n",
      "Iteration 13, loss = 0.83488532\n",
      "Iteration 14, loss = 0.83084371\n",
      "Iteration 15, loss = 0.82684204\n",
      "Iteration 16, loss = 0.82297668\n",
      "Iteration 17, loss = 0.81912057\n",
      "Iteration 18, loss = 0.81532937\n",
      "Iteration 19, loss = 0.81154761\n",
      "Iteration 20, loss = 0.80781306\n",
      "Iteration 1, loss = 0.92778158\n"
     ]
    },
    {
     "name": "stderr",
     "output_type": "stream",
     "text": [
      "D:\\AI\\Anaconda3\\lib\\site-packages\\sklearn\\neural_network\\_multilayer_perceptron.py:692: ConvergenceWarning: Stochastic Optimizer: Maximum iterations (20) reached and the optimization hasn't converged yet.\n",
      "  warnings.warn(\n"
     ]
    },
    {
     "name": "stdout",
     "output_type": "stream",
     "text": [
      "Iteration 2, loss = 0.90696213\n",
      "Iteration 3, loss = 0.89119859\n",
      "Iteration 4, loss = 0.87938376\n",
      "Iteration 5, loss = 0.86991054\n",
      "Iteration 6, loss = 0.86254891\n",
      "Iteration 7, loss = 0.85619029\n",
      "Iteration 8, loss = 0.85067984\n",
      "Iteration 9, loss = 0.84573150\n",
      "Iteration 10, loss = 0.84118326\n",
      "Iteration 11, loss = 0.83682338\n",
      "Iteration 12, loss = 0.83266150\n",
      "Iteration 13, loss = 0.82856944\n",
      "Iteration 14, loss = 0.82459163\n",
      "Iteration 15, loss = 0.82062359\n",
      "Iteration 16, loss = 0.81672678\n",
      "Iteration 17, loss = 0.81277027\n",
      "Iteration 18, loss = 0.80878985\n",
      "Iteration 19, loss = 0.80464310\n",
      "Iteration 20, loss = 0.80035966\n"
     ]
    },
    {
     "name": "stderr",
     "output_type": "stream",
     "text": [
      "D:\\AI\\Anaconda3\\lib\\site-packages\\sklearn\\neural_network\\_multilayer_perceptron.py:692: ConvergenceWarning: Stochastic Optimizer: Maximum iterations (20) reached and the optimization hasn't converged yet.\n",
      "  warnings.warn(\n"
     ]
    },
    {
     "name": "stdout",
     "output_type": "stream",
     "text": [
      "Iteration 1, loss = 0.93307667\n",
      "Iteration 2, loss = 0.91218784\n",
      "Iteration 3, loss = 0.89622009\n",
      "Iteration 4, loss = 0.88429382\n",
      "Iteration 5, loss = 0.87477365\n",
      "Iteration 6, loss = 0.86730655\n",
      "Iteration 7, loss = 0.86085506\n",
      "Iteration 8, loss = 0.85533257\n",
      "Iteration 9, loss = 0.85024968\n",
      "Iteration 10, loss = 0.84564242\n",
      "Iteration 11, loss = 0.84122138\n",
      "Iteration 12, loss = 0.83696187\n",
      "Iteration 13, loss = 0.83282244\n",
      "Iteration 14, loss = 0.82880834\n",
      "Iteration 15, loss = 0.82476053\n",
      "Iteration 16, loss = 0.82087976\n",
      "Iteration 17, loss = 0.81691477\n",
      "Iteration 18, loss = 0.81302420\n",
      "Iteration 19, loss = 0.80901852\n",
      "Iteration 20, loss = 0.80493433\n",
      "Iteration 1, loss = 0.93714388\n",
      "Iteration 2, loss = 0.91606941\n",
      "Iteration 3, loss = 0.89995396\n",
      "Iteration 4, loss = 0.88787656\n",
      "Iteration 5, loss = 0.87815957\n",
      "Iteration 6, loss = 0.87057174\n",
      "Iteration 7, loss = 0.86398163\n",
      "Iteration 8, loss = 0.85841636\n",
      "Iteration 9, loss = 0.85324057\n",
      "Iteration 10, loss = 0.84857724\n",
      "Iteration 11, loss = 0.84410912\n",
      "Iteration 12, loss = 0.83978584\n",
      "Iteration 13, loss = 0.83562438\n",
      "Iteration 14, loss = 0.83156525\n",
      "Iteration 15, loss = 0.82749499\n",
      "Iteration 16, loss = 0.82358602\n",
      "Iteration 17, loss = 0.81963040\n",
      "Iteration 18, loss = 0.81581395\n"
     ]
    },
    {
     "name": "stderr",
     "output_type": "stream",
     "text": [
      "D:\\AI\\Anaconda3\\lib\\site-packages\\sklearn\\neural_network\\_multilayer_perceptron.py:692: ConvergenceWarning: Stochastic Optimizer: Maximum iterations (20) reached and the optimization hasn't converged yet.\n",
      "  warnings.warn(\n"
     ]
    },
    {
     "name": "stdout",
     "output_type": "stream",
     "text": [
      "Iteration 19, loss = 0.81189165\n",
      "Iteration 20, loss = 0.80797412\n",
      "Iteration 1, loss = 0.94162194\n",
      "Iteration 2, loss = 0.92022096\n",
      "Iteration 3, loss = 0.90384465\n",
      "Iteration 4, loss = 0.89158941\n",
      "Iteration 5, loss = 0.88185621\n",
      "Iteration 6, loss = 0.87419761\n",
      "Iteration 7, loss = 0.86756314\n",
      "Iteration 8, loss = 0.86192725\n",
      "Iteration 9, loss = 0.85670542\n",
      "Iteration 10, loss = 0.85195389\n",
      "Iteration 11, loss = 0.84740394\n",
      "Iteration 12, loss = 0.84303412\n",
      "Iteration 13, loss = 0.83882228\n",
      "Iteration 14, loss = 0.83470691\n",
      "Iteration 15, loss = 0.83059076\n",
      "Iteration 16, loss = 0.82664480\n",
      "Iteration 17, loss = 0.82266294\n",
      "Iteration 18, loss = 0.81880029\n",
      "Iteration 19, loss = 0.81490058\n",
      "Iteration 20, loss = 0.81098906\n",
      "Iteration 1, loss = 0.93283162\n",
      "Iteration 2, loss = 0.91197195\n",
      "Iteration 3, loss = 0.89607409\n"
     ]
    },
    {
     "name": "stderr",
     "output_type": "stream",
     "text": [
      "D:\\AI\\Anaconda3\\lib\\site-packages\\sklearn\\neural_network\\_multilayer_perceptron.py:692: ConvergenceWarning: Stochastic Optimizer: Maximum iterations (20) reached and the optimization hasn't converged yet.\n",
      "  warnings.warn(\n",
      "D:\\AI\\Anaconda3\\lib\\site-packages\\sklearn\\neural_network\\_multilayer_perceptron.py:692: ConvergenceWarning: Stochastic Optimizer: Maximum iterations (20) reached and the optimization hasn't converged yet.\n",
      "  warnings.warn(\n"
     ]
    },
    {
     "name": "stdout",
     "output_type": "stream",
     "text": [
      "Iteration 4, loss = 0.88374848\n",
      "Iteration 5, loss = 0.87446365\n",
      "Iteration 6, loss = 0.86681326\n",
      "Iteration 7, loss = 0.86035199\n",
      "Iteration 8, loss = 0.85481557\n",
      "Iteration 9, loss = 0.84978417\n",
      "Iteration 10, loss = 0.84515790\n",
      "Iteration 11, loss = 0.84065019\n",
      "Iteration 12, loss = 0.83648701\n",
      "Iteration 13, loss = 0.83238603\n",
      "Iteration 14, loss = 0.82841671\n",
      "Iteration 15, loss = 0.82443906\n",
      "Iteration 16, loss = 0.82057522\n",
      "Iteration 17, loss = 0.81678276\n",
      "Iteration 18, loss = 0.81297454\n",
      "Iteration 19, loss = 0.80921772\n",
      "Iteration 20, loss = 0.80545522\n",
      "Iteration 1, loss = 0.93359271\n",
      "Iteration 2, loss = 0.91282988\n",
      "Iteration 3, loss = 0.89700091\n",
      "Iteration 4, loss = 0.88477769\n",
      "Iteration 5, loss = 0.87550246\n",
      "Iteration 6, loss = 0.86780451\n",
      "Iteration 7, loss = 0.86138674\n",
      "Iteration 8, loss = 0.85582632\n",
      "Iteration 9, loss = 0.85076289\n"
     ]
    },
    {
     "name": "stderr",
     "output_type": "stream",
     "text": [
      "D:\\AI\\Anaconda3\\lib\\site-packages\\sklearn\\neural_network\\_multilayer_perceptron.py:692: ConvergenceWarning: Stochastic Optimizer: Maximum iterations (20) reached and the optimization hasn't converged yet.\n",
      "  warnings.warn(\n"
     ]
    },
    {
     "name": "stdout",
     "output_type": "stream",
     "text": [
      "Iteration 10, loss = 0.84611692\n",
      "Iteration 11, loss = 0.84160424\n",
      "Iteration 12, loss = 0.83741988\n",
      "Iteration 13, loss = 0.83330791\n",
      "Iteration 14, loss = 0.82931739\n",
      "Iteration 15, loss = 0.82532715\n",
      "Iteration 16, loss = 0.82147233\n",
      "Iteration 17, loss = 0.81766983\n",
      "Iteration 18, loss = 0.81383800\n",
      "Iteration 19, loss = 0.81009988\n",
      "Iteration 20, loss = 0.80634263\n",
      "Iteration 1, loss = 0.93286211\n",
      "Iteration 2, loss = 0.88285920\n",
      "Iteration 3, loss = 0.83909489\n",
      "Iteration 4, loss = 0.80810497\n",
      "Iteration 5, loss = 0.78694976\n"
     ]
    },
    {
     "name": "stderr",
     "output_type": "stream",
     "text": [
      "D:\\AI\\Anaconda3\\lib\\site-packages\\sklearn\\neural_network\\_multilayer_perceptron.py:692: ConvergenceWarning: Stochastic Optimizer: Maximum iterations (20) reached and the optimization hasn't converged yet.\n",
      "  warnings.warn(\n"
     ]
    },
    {
     "name": "stdout",
     "output_type": "stream",
     "text": [
      "Iteration 6, loss = 0.77324223\n",
      "Iteration 7, loss = 0.76373552\n",
      "Iteration 8, loss = 0.75647918\n",
      "Iteration 9, loss = 0.75073245\n",
      "Iteration 10, loss = 0.74537806\n",
      "Iteration 11, loss = 0.74037783\n",
      "Iteration 12, loss = 0.73561719\n",
      "Iteration 13, loss = 0.73080314\n",
      "Iteration 14, loss = 0.72603273\n",
      "Iteration 15, loss = 0.72129021\n",
      "Iteration 16, loss = 0.71690898\n",
      "Iteration 17, loss = 0.71253672\n",
      "Iteration 18, loss = 0.70789748\n",
      "Iteration 19, loss = 0.70348737\n",
      "Iteration 20, loss = 0.69889540\n",
      "Iteration 1, loss = 0.92814910\n",
      "Iteration 2, loss = 0.87813923\n",
      "Iteration 3, loss = 0.83460356\n"
     ]
    },
    {
     "name": "stderr",
     "output_type": "stream",
     "text": [
      "D:\\AI\\Anaconda3\\lib\\site-packages\\sklearn\\neural_network\\_multilayer_perceptron.py:692: ConvergenceWarning: Stochastic Optimizer: Maximum iterations (20) reached and the optimization hasn't converged yet.\n",
      "  warnings.warn(\n"
     ]
    },
    {
     "name": "stdout",
     "output_type": "stream",
     "text": [
      "Iteration 4, loss = 0.80405698\n",
      "Iteration 5, loss = 0.78352880\n",
      "Iteration 6, loss = 0.77038480\n",
      "Iteration 7, loss = 0.76128592\n",
      "Iteration 8, loss = 0.75441506\n",
      "Iteration 9, loss = 0.74901418\n",
      "Iteration 10, loss = 0.74409670\n",
      "Iteration 11, loss = 0.73943858\n",
      "Iteration 12, loss = 0.73497942\n",
      "Iteration 13, loss = 0.73056538\n",
      "Iteration 14, loss = 0.72626046\n",
      "Iteration 15, loss = 0.72192860\n",
      "Iteration 16, loss = 0.71788588\n",
      "Iteration 17, loss = 0.71392476\n",
      "Iteration 18, loss = 0.70993167\n",
      "Iteration 19, loss = 0.70589485\n",
      "Iteration 20, loss = 0.70167498\n",
      "Iteration 1, loss = 0.92398334\n",
      "Iteration 2, loss = 0.87607942\n",
      "Iteration 3, loss = 0.83405019\n",
      "Iteration 4, loss = 0.80442733\n",
      "Iteration 5, loss = 0.78394412\n"
     ]
    },
    {
     "name": "stderr",
     "output_type": "stream",
     "text": [
      "D:\\AI\\Anaconda3\\lib\\site-packages\\sklearn\\neural_network\\_multilayer_perceptron.py:692: ConvergenceWarning: Stochastic Optimizer: Maximum iterations (20) reached and the optimization hasn't converged yet.\n",
      "  warnings.warn(\n",
      "D:\\AI\\Anaconda3\\lib\\site-packages\\sklearn\\neural_network\\_multilayer_perceptron.py:692: ConvergenceWarning: Stochastic Optimizer: Maximum iterations (20) reached and the optimization hasn't converged yet.\n",
      "  warnings.warn(\n"
     ]
    },
    {
     "name": "stdout",
     "output_type": "stream",
     "text": [
      "Iteration 6, loss = 0.77093310\n",
      "Iteration 7, loss = 0.76169671\n",
      "Iteration 8, loss = 0.75470637\n",
      "Iteration 9, loss = 0.74922786\n",
      "Iteration 10, loss = 0.74429436\n",
      "Iteration 11, loss = 0.73961062\n",
      "Iteration 12, loss = 0.73510433\n",
      "Iteration 13, loss = 0.73071387\n",
      "Iteration 14, loss = 0.72641504\n",
      "Iteration 15, loss = 0.72208121\n",
      "Iteration 16, loss = 0.71821986\n",
      "Iteration 17, loss = 0.71442670\n",
      "Iteration 18, loss = 0.71054612\n",
      "Iteration 19, loss = 0.70677105\n",
      "Iteration 20, loss = 0.70280663\n",
      "Iteration 1, loss = 0.93176332\n",
      "Iteration 2, loss = 0.88132598\n",
      "Iteration 3, loss = 0.83751469\n",
      "Iteration 4, loss = 0.80675614\n",
      "Iteration 5, loss = 0.78555252\n",
      "Iteration 6, loss = 0.77212494\n",
      "Iteration 7, loss = 0.76281781\n",
      "Iteration 8, loss = 0.75568063\n",
      "Iteration 9, loss = 0.75006231\n",
      "Iteration 10, loss = 0.74496227\n",
      "Iteration 11, loss = 0.74020436\n",
      "Iteration 12, loss = 0.73557072\n",
      "Iteration 13, loss = 0.73100149\n",
      "Iteration 14, loss = 0.72659311\n",
      "Iteration 15, loss = 0.72207458\n",
      "Iteration 16, loss = 0.71787499\n",
      "Iteration 17, loss = 0.71382819\n",
      "Iteration 18, loss = 0.70968836\n",
      "Iteration 19, loss = 0.70551081\n",
      "Iteration 20, loss = 0.70129943\n",
      "Iteration 1, loss = 0.92335920\n",
      "Iteration 2, loss = 0.87522335\n",
      "Iteration 3, loss = 0.83327986\n",
      "Iteration 4, loss = 0.80373268\n",
      "Iteration 5, loss = 0.78288766\n",
      "Iteration 6, loss = 0.76983601\n",
      "Iteration 7, loss = 0.76060356\n"
     ]
    },
    {
     "name": "stderr",
     "output_type": "stream",
     "text": [
      "D:\\AI\\Anaconda3\\lib\\site-packages\\sklearn\\neural_network\\_multilayer_perceptron.py:692: ConvergenceWarning: Stochastic Optimizer: Maximum iterations (20) reached and the optimization hasn't converged yet.\n",
      "  warnings.warn(\n"
     ]
    },
    {
     "name": "stdout",
     "output_type": "stream",
     "text": [
      "Iteration 8, loss = 0.75380866\n",
      "Iteration 9, loss = 0.74837433\n",
      "Iteration 10, loss = 0.74363131\n",
      "Iteration 11, loss = 0.73895850\n",
      "Iteration 12, loss = 0.73459702\n",
      "Iteration 13, loss = 0.73020692\n",
      "Iteration 14, loss = 0.72597946\n",
      "Iteration 15, loss = 0.72161712\n",
      "Iteration 16, loss = 0.71757222\n",
      "Iteration 17, loss = 0.71368118\n",
      "Iteration 18, loss = 0.70974498\n",
      "Iteration 19, loss = 0.70572215\n",
      "Iteration 20, loss = 0.70162432\n",
      "Iteration 1, loss = 0.92845988\n",
      "Iteration 2, loss = 0.87985483\n",
      "Iteration 3, loss = 0.83702180\n",
      "Iteration 4, loss = 0.80692150\n",
      "Iteration 5, loss = 0.78580044\n"
     ]
    },
    {
     "name": "stderr",
     "output_type": "stream",
     "text": [
      "D:\\AI\\Anaconda3\\lib\\site-packages\\sklearn\\neural_network\\_multilayer_perceptron.py:692: ConvergenceWarning: Stochastic Optimizer: Maximum iterations (20) reached and the optimization hasn't converged yet.\n",
      "  warnings.warn(\n"
     ]
    },
    {
     "name": "stdout",
     "output_type": "stream",
     "text": [
      "Iteration 6, loss = 0.77245949\n",
      "Iteration 7, loss = 0.76291159\n",
      "Iteration 8, loss = 0.75614538\n",
      "Iteration 9, loss = 0.75036686\n",
      "Iteration 10, loss = 0.74546155\n",
      "Iteration 11, loss = 0.74062106\n",
      "Iteration 12, loss = 0.73597148\n",
      "Iteration 13, loss = 0.73142455\n",
      "Iteration 14, loss = 0.72695918\n",
      "Iteration 15, loss = 0.72231342\n",
      "Iteration 16, loss = 0.71795371\n",
      "Iteration 17, loss = 0.71361526\n",
      "Iteration 18, loss = 0.70931877\n",
      "Iteration 19, loss = 0.70496929\n",
      "Iteration 20, loss = 0.70057318\n",
      "Iteration 1, loss = 0.93220852\n",
      "Iteration 2, loss = 0.88259789\n"
     ]
    },
    {
     "name": "stderr",
     "output_type": "stream",
     "text": [
      "D:\\AI\\Anaconda3\\lib\\site-packages\\sklearn\\neural_network\\_multilayer_perceptron.py:692: ConvergenceWarning: Stochastic Optimizer: Maximum iterations (20) reached and the optimization hasn't converged yet.\n",
      "  warnings.warn(\n"
     ]
    },
    {
     "name": "stdout",
     "output_type": "stream",
     "text": [
      "Iteration 3, loss = 0.83892290\n",
      "Iteration 4, loss = 0.80820095\n",
      "Iteration 5, loss = 0.78658637\n",
      "Iteration 6, loss = 0.77305638\n",
      "Iteration 7, loss = 0.76321812\n",
      "Iteration 8, loss = 0.75647750\n",
      "Iteration 9, loss = 0.75047129\n",
      "Iteration 10, loss = 0.74538860\n",
      "Iteration 11, loss = 0.74034059\n",
      "Iteration 12, loss = 0.73544401\n",
      "Iteration 13, loss = 0.73064046\n",
      "Iteration 14, loss = 0.72586419\n",
      "Iteration 15, loss = 0.72106145\n",
      "Iteration 16, loss = 0.71668461\n",
      "Iteration 17, loss = 0.71203440\n",
      "Iteration 18, loss = 0.70734871\n",
      "Iteration 19, loss = 0.70273811\n",
      "Iteration 20, loss = 0.69819130\n"
     ]
    },
    {
     "name": "stderr",
     "output_type": "stream",
     "text": [
      "D:\\AI\\Anaconda3\\lib\\site-packages\\sklearn\\neural_network\\_multilayer_perceptron.py:692: ConvergenceWarning: Stochastic Optimizer: Maximum iterations (20) reached and the optimization hasn't converged yet.\n",
      "  warnings.warn(\n"
     ]
    },
    {
     "name": "stdout",
     "output_type": "stream",
     "text": [
      "Iteration 1, loss = 0.93664978\n",
      "Iteration 2, loss = 0.88573704\n",
      "Iteration 3, loss = 0.84074824\n",
      "Iteration 4, loss = 0.80925001\n",
      "Iteration 5, loss = 0.78743428\n",
      "Iteration 6, loss = 0.77380421\n",
      "Iteration 7, loss = 0.76397055\n",
      "Iteration 8, loss = 0.75727739\n",
      "Iteration 9, loss = 0.75133164\n",
      "Iteration 10, loss = 0.74632266\n",
      "Iteration 11, loss = 0.74134773\n",
      "Iteration 12, loss = 0.73667871\n",
      "Iteration 13, loss = 0.73220255\n",
      "Iteration 14, loss = 0.72779763\n",
      "Iteration 15, loss = 0.72327088\n",
      "Iteration 16, loss = 0.71902338\n",
      "Iteration 17, loss = 0.71494741\n",
      "Iteration 18, loss = 0.71095599\n",
      "Iteration 19, loss = 0.70679554\n",
      "Iteration 20, loss = 0.70258658\n",
      "Iteration 1, loss = 0.92802200\n",
      "Iteration 2, loss = 0.87949022\n",
      "Iteration 3, loss = 0.83685004\n",
      "Iteration 4, loss = 0.80581831\n",
      "Iteration 5, loss = 0.78574411\n",
      "Iteration 6, loss = 0.77222154\n",
      "Iteration 7, loss = 0.76269171\n",
      "Iteration 8, loss = 0.75599107\n",
      "Iteration 9, loss = 0.75045695\n",
      "Iteration 10, loss = 0.74540202\n",
      "Iteration 11, loss = 0.74044555\n",
      "Iteration 12, loss = 0.73589916\n",
      "Iteration 13, loss = 0.73132980\n",
      "Iteration 14, loss = 0.72693671\n",
      "Iteration 15, loss = 0.72235924\n",
      "Iteration 16, loss = 0.71801562\n",
      "Iteration 17, loss = 0.71384408\n",
      "Iteration 18, loss = 0.70948539\n",
      "Iteration 19, loss = 0.70501623\n",
      "Iteration 20, loss = 0.70075091\n",
      "Iteration 1, loss = 0.92872959\n",
      "Iteration 2, loss = 0.88059202\n",
      "Iteration 3, loss = 0.83831993\n"
     ]
    },
    {
     "name": "stderr",
     "output_type": "stream",
     "text": [
      "D:\\AI\\Anaconda3\\lib\\site-packages\\sklearn\\neural_network\\_multilayer_perceptron.py:692: ConvergenceWarning: Stochastic Optimizer: Maximum iterations (20) reached and the optimization hasn't converged yet.\n",
      "  warnings.warn(\n",
      "D:\\AI\\Anaconda3\\lib\\site-packages\\sklearn\\neural_network\\_multilayer_perceptron.py:692: ConvergenceWarning: Stochastic Optimizer: Maximum iterations (20) reached and the optimization hasn't converged yet.\n",
      "  warnings.warn(\n"
     ]
    },
    {
     "name": "stdout",
     "output_type": "stream",
     "text": [
      "Iteration 4, loss = 0.80763247\n",
      "Iteration 5, loss = 0.78739791\n",
      "Iteration 6, loss = 0.77358119\n",
      "Iteration 7, loss = 0.76420817\n",
      "Iteration 8, loss = 0.75755339\n",
      "Iteration 9, loss = 0.75209537\n",
      "Iteration 10, loss = 0.74726275\n",
      "Iteration 11, loss = 0.74245465\n",
      "Iteration 12, loss = 0.73807712\n",
      "Iteration 13, loss = 0.73367154\n",
      "Iteration 14, loss = 0.72950443\n",
      "Iteration 15, loss = 0.72509442\n",
      "Iteration 16, loss = 0.72090129\n",
      "Iteration 17, loss = 0.71703965\n",
      "Iteration 18, loss = 0.71303496\n",
      "Iteration 19, loss = 0.70892607\n",
      "Iteration 20, loss = 0.70489876\n"
     ]
    },
    {
     "name": "stderr",
     "output_type": "stream",
     "text": [
      "D:\\AI\\Anaconda3\\lib\\site-packages\\sklearn\\neural_network\\_multilayer_perceptron.py:692: ConvergenceWarning: Stochastic Optimizer: Maximum iterations (20) reached and the optimization hasn't converged yet.\n",
      "  warnings.warn(\n",
      "D:\\AI\\Anaconda3\\lib\\site-packages\\sklearn\\neural_network\\_multilayer_perceptron.py:549: ConvergenceWarning: lbfgs failed to converge (status=1):\n",
      "STOP: TOTAL NO. of ITERATIONS REACHED LIMIT.\n",
      "\n",
      "Increase the number of iterations (max_iter) or scale the data as shown in:\n",
      "    https://scikit-learn.org/stable/modules/preprocessing.html\n",
      "  self.n_iter_ = _check_optimize_result(\"lbfgs\", opt_res, self.max_iter)\n",
      "D:\\AI\\Anaconda3\\lib\\site-packages\\sklearn\\neural_network\\_multilayer_perceptron.py:549: ConvergenceWarning: lbfgs failed to converge (status=1):\n",
      "STOP: TOTAL NO. of ITERATIONS REACHED LIMIT.\n",
      "\n",
      "Increase the number of iterations (max_iter) or scale the data as shown in:\n",
      "    https://scikit-learn.org/stable/modules/preprocessing.html\n",
      "  self.n_iter_ = _check_optimize_result(\"lbfgs\", opt_res, self.max_iter)\n",
      "D:\\AI\\Anaconda3\\lib\\site-packages\\sklearn\\neural_network\\_multilayer_perceptron.py:549: ConvergenceWarning: lbfgs failed to converge (status=1):\n",
      "STOP: TOTAL NO. of ITERATIONS REACHED LIMIT.\n",
      "\n",
      "Increase the number of iterations (max_iter) or scale the data as shown in:\n",
      "    https://scikit-learn.org/stable/modules/preprocessing.html\n",
      "  self.n_iter_ = _check_optimize_result(\"lbfgs\", opt_res, self.max_iter)\n",
      "D:\\AI\\Anaconda3\\lib\\site-packages\\sklearn\\neural_network\\_multilayer_perceptron.py:549: ConvergenceWarning: lbfgs failed to converge (status=1):\n",
      "STOP: TOTAL NO. of ITERATIONS REACHED LIMIT.\n",
      "\n",
      "Increase the number of iterations (max_iter) or scale the data as shown in:\n",
      "    https://scikit-learn.org/stable/modules/preprocessing.html\n",
      "  self.n_iter_ = _check_optimize_result(\"lbfgs\", opt_res, self.max_iter)\n",
      "D:\\AI\\Anaconda3\\lib\\site-packages\\sklearn\\neural_network\\_multilayer_perceptron.py:549: ConvergenceWarning: lbfgs failed to converge (status=1):\n",
      "STOP: TOTAL NO. of ITERATIONS REACHED LIMIT.\n",
      "\n",
      "Increase the number of iterations (max_iter) or scale the data as shown in:\n",
      "    https://scikit-learn.org/stable/modules/preprocessing.html\n",
      "  self.n_iter_ = _check_optimize_result(\"lbfgs\", opt_res, self.max_iter)\n",
      "D:\\AI\\Anaconda3\\lib\\site-packages\\sklearn\\neural_network\\_multilayer_perceptron.py:549: ConvergenceWarning: lbfgs failed to converge (status=1):\n",
      "STOP: TOTAL NO. of ITERATIONS REACHED LIMIT.\n",
      "\n",
      "Increase the number of iterations (max_iter) or scale the data as shown in:\n",
      "    https://scikit-learn.org/stable/modules/preprocessing.html\n",
      "  self.n_iter_ = _check_optimize_result(\"lbfgs\", opt_res, self.max_iter)\n",
      "D:\\AI\\Anaconda3\\lib\\site-packages\\sklearn\\neural_network\\_multilayer_perceptron.py:549: ConvergenceWarning: lbfgs failed to converge (status=1):\n",
      "STOP: TOTAL NO. of ITERATIONS REACHED LIMIT.\n",
      "\n",
      "Increase the number of iterations (max_iter) or scale the data as shown in:\n",
      "    https://scikit-learn.org/stable/modules/preprocessing.html\n",
      "  self.n_iter_ = _check_optimize_result(\"lbfgs\", opt_res, self.max_iter)\n",
      "D:\\AI\\Anaconda3\\lib\\site-packages\\sklearn\\neural_network\\_multilayer_perceptron.py:549: ConvergenceWarning: lbfgs failed to converge (status=1):\n",
      "STOP: TOTAL NO. of ITERATIONS REACHED LIMIT.\n",
      "\n",
      "Increase the number of iterations (max_iter) or scale the data as shown in:\n",
      "    https://scikit-learn.org/stable/modules/preprocessing.html\n",
      "  self.n_iter_ = _check_optimize_result(\"lbfgs\", opt_res, self.max_iter)\n",
      "D:\\AI\\Anaconda3\\lib\\site-packages\\sklearn\\neural_network\\_multilayer_perceptron.py:549: ConvergenceWarning: lbfgs failed to converge (status=1):\n",
      "STOP: TOTAL NO. of ITERATIONS REACHED LIMIT.\n",
      "\n",
      "Increase the number of iterations (max_iter) or scale the data as shown in:\n",
      "    https://scikit-learn.org/stable/modules/preprocessing.html\n",
      "  self.n_iter_ = _check_optimize_result(\"lbfgs\", opt_res, self.max_iter)\n",
      "D:\\AI\\Anaconda3\\lib\\site-packages\\sklearn\\neural_network\\_multilayer_perceptron.py:549: ConvergenceWarning: lbfgs failed to converge (status=1):\n",
      "STOP: TOTAL NO. of ITERATIONS REACHED LIMIT.\n",
      "\n",
      "Increase the number of iterations (max_iter) or scale the data as shown in:\n",
      "    https://scikit-learn.org/stable/modules/preprocessing.html\n",
      "  self.n_iter_ = _check_optimize_result(\"lbfgs\", opt_res, self.max_iter)\n"
     ]
    },
    {
     "name": "stdout",
     "output_type": "stream",
     "text": [
      "Iteration 1, loss = 1.20978162\n",
      "Iteration 2, loss = 0.67463931\n",
      "Iteration 3, loss = 0.53518729\n",
      "Iteration 4, loss = 0.47281166\n",
      "Iteration 5, loss = 0.43235796\n",
      "Iteration 6, loss = 0.40406978\n",
      "Iteration 7, loss = 0.38175878\n",
      "Iteration 8, loss = 0.36330256\n",
      "Iteration 9, loss = 0.34745159\n",
      "Iteration 10, loss = 0.33369092\n",
      "Iteration 11, loss = 0.32148193\n",
      "Iteration 12, loss = 0.31032482\n",
      "Iteration 13, loss = 0.30011427\n",
      "Iteration 14, loss = 0.28991455\n",
      "Iteration 15, loss = 0.28182749\n",
      "Iteration 16, loss = 0.27334790\n",
      "Iteration 17, loss = 0.26507160\n",
      "Iteration 18, loss = 0.25830356\n",
      "Iteration 19, loss = 0.25099255\n",
      "Iteration 20, loss = 0.24376178\n",
      "Iteration 1, loss = 1.21902233\n",
      "Iteration 2, loss = 0.67935026\n",
      "Iteration 3, loss = 0.53822650\n",
      "Iteration 4, loss = 0.47451483\n"
     ]
    },
    {
     "name": "stderr",
     "output_type": "stream",
     "text": [
      "D:\\AI\\Anaconda3\\lib\\site-packages\\sklearn\\neural_network\\_multilayer_perceptron.py:692: ConvergenceWarning: Stochastic Optimizer: Maximum iterations (20) reached and the optimization hasn't converged yet.\n",
      "  warnings.warn(\n"
     ]
    },
    {
     "name": "stdout",
     "output_type": "stream",
     "text": [
      "Iteration 5, loss = 0.43401010\n",
      "Iteration 6, loss = 0.40560865\n",
      "Iteration 7, loss = 0.38300699\n",
      "Iteration 8, loss = 0.36429513\n",
      "Iteration 9, loss = 0.34846408\n",
      "Iteration 10, loss = 0.33454672\n",
      "Iteration 11, loss = 0.32217407\n",
      "Iteration 12, loss = 0.31078700\n",
      "Iteration 13, loss = 0.30065811\n",
      "Iteration 14, loss = 0.29018104\n",
      "Iteration 15, loss = 0.28192264\n",
      "Iteration 16, loss = 0.27370120\n",
      "Iteration 17, loss = 0.26542565\n",
      "Iteration 18, loss = 0.25794001\n",
      "Iteration 19, loss = 0.25070320\n",
      "Iteration 20, loss = 0.24330442\n"
     ]
    },
    {
     "name": "stderr",
     "output_type": "stream",
     "text": [
      "D:\\AI\\Anaconda3\\lib\\site-packages\\sklearn\\neural_network\\_multilayer_perceptron.py:692: ConvergenceWarning: Stochastic Optimizer: Maximum iterations (20) reached and the optimization hasn't converged yet.\n",
      "  warnings.warn(\n"
     ]
    },
    {
     "name": "stdout",
     "output_type": "stream",
     "text": [
      "Iteration 1, loss = 1.21580214\n",
      "Iteration 2, loss = 0.67872333\n",
      "Iteration 3, loss = 0.53934165\n",
      "Iteration 4, loss = 0.47711868\n",
      "Iteration 5, loss = 0.43732618\n",
      "Iteration 6, loss = 0.40889509\n",
      "Iteration 7, loss = 0.38651123\n",
      "Iteration 8, loss = 0.36797096\n",
      "Iteration 9, loss = 0.35199035\n",
      "Iteration 10, loss = 0.33777342\n",
      "Iteration 11, loss = 0.32558148\n",
      "Iteration 12, loss = 0.31431964\n",
      "Iteration 13, loss = 0.30415519\n",
      "Iteration 14, loss = 0.29338238\n",
      "Iteration 15, loss = 0.28486213\n",
      "Iteration 16, loss = 0.27657801\n",
      "Iteration 17, loss = 0.26808511\n",
      "Iteration 18, loss = 0.26031108\n",
      "Iteration 19, loss = 0.25313872\n",
      "Iteration 20, loss = 0.24580698\n",
      "Iteration 1, loss = 1.19934230\n",
      "Iteration 2, loss = 0.67171977\n",
      "Iteration 3, loss = 0.53564922\n",
      "Iteration 4, loss = 0.47177791\n",
      "Iteration 5, loss = 0.43122490\n",
      "Iteration 6, loss = 0.40233445\n"
     ]
    },
    {
     "name": "stderr",
     "output_type": "stream",
     "text": [
      "D:\\AI\\Anaconda3\\lib\\site-packages\\sklearn\\neural_network\\_multilayer_perceptron.py:692: ConvergenceWarning: Stochastic Optimizer: Maximum iterations (20) reached and the optimization hasn't converged yet.\n",
      "  warnings.warn(\n"
     ]
    },
    {
     "name": "stdout",
     "output_type": "stream",
     "text": [
      "Iteration 7, loss = 0.37985157\n",
      "Iteration 8, loss = 0.36118967\n",
      "Iteration 9, loss = 0.34510630\n",
      "Iteration 10, loss = 0.33103551\n",
      "Iteration 11, loss = 0.31879570\n",
      "Iteration 12, loss = 0.30730830\n",
      "Iteration 13, loss = 0.29712371\n",
      "Iteration 14, loss = 0.28713849\n",
      "Iteration 15, loss = 0.27853897\n",
      "Iteration 16, loss = 0.27054029\n",
      "Iteration 17, loss = 0.26224657\n",
      "Iteration 18, loss = 0.25491302\n",
      "Iteration 19, loss = 0.24766899\n",
      "Iteration 20, loss = 0.24083708\n",
      "Iteration 1, loss = 1.21660470\n",
      "Iteration 2, loss = 0.67426226\n",
      "Iteration 3, loss = 0.53527668\n",
      "Iteration 4, loss = 0.47221951\n",
      "Iteration 5, loss = 0.43232503\n",
      "Iteration 6, loss = 0.40415051\n",
      "Iteration 7, loss = 0.38201372\n",
      "Iteration 8, loss = 0.36400766\n",
      "Iteration 9, loss = 0.34840205\n"
     ]
    },
    {
     "name": "stderr",
     "output_type": "stream",
     "text": [
      "D:\\AI\\Anaconda3\\lib\\site-packages\\sklearn\\neural_network\\_multilayer_perceptron.py:692: ConvergenceWarning: Stochastic Optimizer: Maximum iterations (20) reached and the optimization hasn't converged yet.\n",
      "  warnings.warn(\n"
     ]
    },
    {
     "name": "stdout",
     "output_type": "stream",
     "text": [
      "Iteration 10, loss = 0.33419251\n",
      "Iteration 11, loss = 0.32204717\n",
      "Iteration 12, loss = 0.31081890\n",
      "Iteration 13, loss = 0.30062300\n",
      "Iteration 14, loss = 0.29067631\n",
      "Iteration 15, loss = 0.28182884\n",
      "Iteration 16, loss = 0.27407356\n",
      "Iteration 17, loss = 0.26544755\n",
      "Iteration 18, loss = 0.25780434\n",
      "Iteration 19, loss = 0.25071820\n",
      "Iteration 20, loss = 0.24367231\n",
      "Iteration 1, loss = 1.20898569\n",
      "Iteration 2, loss = 0.67378615\n",
      "Iteration 3, loss = 0.53561086\n",
      "Iteration 4, loss = 0.47196648\n",
      "Iteration 5, loss = 0.43170226\n",
      "Iteration 6, loss = 0.40320336\n",
      "Iteration 7, loss = 0.38096095\n",
      "Iteration 8, loss = 0.36274673\n"
     ]
    },
    {
     "name": "stderr",
     "output_type": "stream",
     "text": [
      "D:\\AI\\Anaconda3\\lib\\site-packages\\sklearn\\neural_network\\_multilayer_perceptron.py:692: ConvergenceWarning: Stochastic Optimizer: Maximum iterations (20) reached and the optimization hasn't converged yet.\n",
      "  warnings.warn(\n"
     ]
    },
    {
     "name": "stdout",
     "output_type": "stream",
     "text": [
      "Iteration 9, loss = 0.34726334\n",
      "Iteration 10, loss = 0.33281601\n",
      "Iteration 11, loss = 0.32071914\n",
      "Iteration 12, loss = 0.30988435\n",
      "Iteration 13, loss = 0.29956414\n",
      "Iteration 14, loss = 0.28962678\n",
      "Iteration 15, loss = 0.28059148\n",
      "Iteration 16, loss = 0.27290652\n",
      "Iteration 17, loss = 0.26450793\n",
      "Iteration 18, loss = 0.25701836\n",
      "Iteration 19, loss = 0.25005305\n",
      "Iteration 20, loss = 0.24295685\n",
      "Iteration 1, loss = 1.20032437\n"
     ]
    },
    {
     "name": "stderr",
     "output_type": "stream",
     "text": [
      "D:\\AI\\Anaconda3\\lib\\site-packages\\sklearn\\neural_network\\_multilayer_perceptron.py:692: ConvergenceWarning: Stochastic Optimizer: Maximum iterations (20) reached and the optimization hasn't converged yet.\n",
      "  warnings.warn(\n"
     ]
    },
    {
     "name": "stdout",
     "output_type": "stream",
     "text": [
      "Iteration 2, loss = 0.67016526\n",
      "Iteration 3, loss = 0.53370119\n",
      "Iteration 4, loss = 0.46955588\n",
      "Iteration 5, loss = 0.42924803\n",
      "Iteration 6, loss = 0.40059932\n",
      "Iteration 7, loss = 0.37803040\n",
      "Iteration 8, loss = 0.35941154\n",
      "Iteration 9, loss = 0.34347206\n",
      "Iteration 10, loss = 0.32868130\n",
      "Iteration 11, loss = 0.31619228\n",
      "Iteration 12, loss = 0.30491563\n",
      "Iteration 13, loss = 0.29465792\n",
      "Iteration 14, loss = 0.28471582\n",
      "Iteration 15, loss = 0.27613275\n",
      "Iteration 16, loss = 0.26846094\n",
      "Iteration 17, loss = 0.25996508\n",
      "Iteration 18, loss = 0.25248626\n",
      "Iteration 19, loss = 0.24565133\n",
      "Iteration 20, loss = 0.23889454\n",
      "Iteration 1, loss = 1.18673003\n"
     ]
    },
    {
     "name": "stderr",
     "output_type": "stream",
     "text": [
      "D:\\AI\\Anaconda3\\lib\\site-packages\\sklearn\\neural_network\\_multilayer_perceptron.py:692: ConvergenceWarning: Stochastic Optimizer: Maximum iterations (20) reached and the optimization hasn't converged yet.\n",
      "  warnings.warn(\n"
     ]
    },
    {
     "name": "stdout",
     "output_type": "stream",
     "text": [
      "Iteration 2, loss = 0.66719664\n",
      "Iteration 3, loss = 0.53568892\n",
      "Iteration 4, loss = 0.47184957\n",
      "Iteration 5, loss = 0.43152500\n",
      "Iteration 6, loss = 0.40266152\n",
      "Iteration 7, loss = 0.38015258\n",
      "Iteration 8, loss = 0.36192829\n",
      "Iteration 9, loss = 0.34577897\n",
      "Iteration 10, loss = 0.33162695\n",
      "Iteration 11, loss = 0.31936463\n",
      "Iteration 12, loss = 0.30806690\n",
      "Iteration 13, loss = 0.29796925\n",
      "Iteration 14, loss = 0.28807435\n",
      "Iteration 15, loss = 0.27946043\n",
      "Iteration 16, loss = 0.27156599\n",
      "Iteration 17, loss = 0.26289042\n",
      "Iteration 18, loss = 0.25557334\n",
      "Iteration 19, loss = 0.24844252\n",
      "Iteration 20, loss = 0.24205076\n",
      "Iteration 1, loss = 1.20192856\n",
      "Iteration 2, loss = 0.67081230\n",
      "Iteration 3, loss = 0.53399910\n"
     ]
    },
    {
     "name": "stderr",
     "output_type": "stream",
     "text": [
      "D:\\AI\\Anaconda3\\lib\\site-packages\\sklearn\\neural_network\\_multilayer_perceptron.py:692: ConvergenceWarning: Stochastic Optimizer: Maximum iterations (20) reached and the optimization hasn't converged yet.\n",
      "  warnings.warn(\n"
     ]
    },
    {
     "name": "stdout",
     "output_type": "stream",
     "text": [
      "Iteration 4, loss = 0.47105035\n",
      "Iteration 5, loss = 0.43132306\n",
      "Iteration 6, loss = 0.40337505\n",
      "Iteration 7, loss = 0.38094403\n",
      "Iteration 8, loss = 0.36239552\n",
      "Iteration 9, loss = 0.34693489\n",
      "Iteration 10, loss = 0.33345065\n",
      "Iteration 11, loss = 0.32131915\n",
      "Iteration 12, loss = 0.30955441\n",
      "Iteration 13, loss = 0.29946710\n",
      "Iteration 14, loss = 0.29024291\n",
      "Iteration 15, loss = 0.28123195\n",
      "Iteration 16, loss = 0.27346255\n",
      "Iteration 17, loss = 0.26531255\n",
      "Iteration 18, loss = 0.25766417\n",
      "Iteration 19, loss = 0.25037109\n",
      "Iteration 20, loss = 0.24353874\n",
      "Iteration 1, loss = 1.19975069\n",
      "Iteration 2, loss = 0.67200828\n",
      "Iteration 3, loss = 0.53839234\n",
      "Iteration 4, loss = 0.47584572\n"
     ]
    },
    {
     "name": "stderr",
     "output_type": "stream",
     "text": [
      "D:\\AI\\Anaconda3\\lib\\site-packages\\sklearn\\neural_network\\_multilayer_perceptron.py:692: ConvergenceWarning: Stochastic Optimizer: Maximum iterations (20) reached and the optimization hasn't converged yet.\n",
      "  warnings.warn(\n"
     ]
    },
    {
     "name": "stdout",
     "output_type": "stream",
     "text": [
      "Iteration 5, loss = 0.43641241\n",
      "Iteration 6, loss = 0.40867300\n",
      "Iteration 7, loss = 0.38654917\n",
      "Iteration 8, loss = 0.36801012\n",
      "Iteration 9, loss = 0.35229545\n",
      "Iteration 10, loss = 0.33845338\n",
      "Iteration 11, loss = 0.32626173\n",
      "Iteration 12, loss = 0.31452597\n",
      "Iteration 13, loss = 0.30429549\n",
      "Iteration 14, loss = 0.29517743\n",
      "Iteration 15, loss = 0.28607075\n",
      "Iteration 16, loss = 0.27822620\n",
      "Iteration 17, loss = 0.27018228\n",
      "Iteration 18, loss = 0.26220814\n",
      "Iteration 19, loss = 0.25493039\n",
      "Iteration 20, loss = 0.24801580\n",
      "Iteration 1, loss = 1.30942891\n",
      "Iteration 2, loss = 0.81570393\n",
      "Iteration 3, loss = 0.74023878\n"
     ]
    },
    {
     "name": "stderr",
     "output_type": "stream",
     "text": [
      "D:\\AI\\Anaconda3\\lib\\site-packages\\sklearn\\neural_network\\_multilayer_perceptron.py:692: ConvergenceWarning: Stochastic Optimizer: Maximum iterations (20) reached and the optimization hasn't converged yet.\n",
      "  warnings.warn(\n"
     ]
    },
    {
     "name": "stdout",
     "output_type": "stream",
     "text": [
      "Iteration 4, loss = 0.69721112\n",
      "Iteration 5, loss = 0.67051527\n",
      "Iteration 6, loss = 0.65021675\n",
      "Iteration 7, loss = 0.63373423\n",
      "Iteration 8, loss = 0.61970581\n",
      "Iteration 9, loss = 0.60660952\n",
      "Iteration 10, loss = 0.59575964\n",
      "Iteration 11, loss = 0.58537547\n",
      "Iteration 12, loss = 0.57614413\n",
      "Iteration 13, loss = 0.56763868\n",
      "Iteration 14, loss = 0.55972416\n",
      "Iteration 15, loss = 0.55249988\n",
      "Iteration 16, loss = 0.54548285\n",
      "Iteration 17, loss = 0.53870152\n",
      "Iteration 18, loss = 0.53285096\n",
      "Iteration 19, loss = 0.52718181\n",
      "Iteration 20, loss = 0.52128811\n"
     ]
    },
    {
     "name": "stderr",
     "output_type": "stream",
     "text": [
      "D:\\AI\\Anaconda3\\lib\\site-packages\\sklearn\\neural_network\\_multilayer_perceptron.py:692: ConvergenceWarning: Stochastic Optimizer: Maximum iterations (20) reached and the optimization hasn't converged yet.\n",
      "  warnings.warn(\n"
     ]
    },
    {
     "name": "stdout",
     "output_type": "stream",
     "text": [
      "Iteration 1, loss = 1.31921182\n",
      "Iteration 2, loss = 0.82145509\n",
      "Iteration 3, loss = 0.74660253\n",
      "Iteration 4, loss = 0.70277824\n",
      "Iteration 5, loss = 0.67638177\n",
      "Iteration 6, loss = 0.65609602\n",
      "Iteration 7, loss = 0.63971418\n",
      "Iteration 8, loss = 0.62570985\n",
      "Iteration 9, loss = 0.61285344\n",
      "Iteration 10, loss = 0.60212093\n",
      "Iteration 11, loss = 0.59168763\n",
      "Iteration 12, loss = 0.58266485\n",
      "Iteration 13, loss = 0.57426676\n",
      "Iteration 14, loss = 0.56605534\n",
      "Iteration 15, loss = 0.55888514\n",
      "Iteration 16, loss = 0.55193918\n",
      "Iteration 17, loss = 0.54513713\n",
      "Iteration 18, loss = 0.53919668\n",
      "Iteration 19, loss = 0.53324218\n",
      "Iteration 20, loss = 0.52733787\n"
     ]
    },
    {
     "name": "stderr",
     "output_type": "stream",
     "text": [
      "D:\\AI\\Anaconda3\\lib\\site-packages\\sklearn\\neural_network\\_multilayer_perceptron.py:692: ConvergenceWarning: Stochastic Optimizer: Maximum iterations (20) reached and the optimization hasn't converged yet.\n",
      "  warnings.warn(\n"
     ]
    },
    {
     "name": "stdout",
     "output_type": "stream",
     "text": [
      "Iteration 1, loss = 1.31799381\n",
      "Iteration 2, loss = 0.81948820\n",
      "Iteration 3, loss = 0.74609260\n",
      "Iteration 4, loss = 0.70336578\n",
      "Iteration 5, loss = 0.67758559\n",
      "Iteration 6, loss = 0.65746907\n",
      "Iteration 7, loss = 0.64125966\n",
      "Iteration 8, loss = 0.62738129\n",
      "Iteration 9, loss = 0.61470908\n",
      "Iteration 10, loss = 0.60392121\n",
      "Iteration 11, loss = 0.59385820\n",
      "Iteration 12, loss = 0.58504535\n",
      "Iteration 13, loss = 0.57679974\n",
      "Iteration 14, loss = 0.56851472\n",
      "Iteration 15, loss = 0.56129762\n",
      "Iteration 16, loss = 0.55441060\n",
      "Iteration 17, loss = 0.54780986\n",
      "Iteration 18, loss = 0.54193225\n",
      "Iteration 19, loss = 0.53595982\n",
      "Iteration 20, loss = 0.53021743\n",
      "Iteration 1, loss = 1.30468218\n",
      "Iteration 2, loss = 0.81749011\n",
      "Iteration 3, loss = 0.74454344\n",
      "Iteration 4, loss = 0.70117862\n",
      "Iteration 5, loss = 0.67475099\n"
     ]
    },
    {
     "name": "stderr",
     "output_type": "stream",
     "text": [
      "D:\\AI\\Anaconda3\\lib\\site-packages\\sklearn\\neural_network\\_multilayer_perceptron.py:692: ConvergenceWarning: Stochastic Optimizer: Maximum iterations (20) reached and the optimization hasn't converged yet.\n",
      "  warnings.warn(\n"
     ]
    },
    {
     "name": "stdout",
     "output_type": "stream",
     "text": [
      "Iteration 6, loss = 0.65455806\n",
      "Iteration 7, loss = 0.63785603\n",
      "Iteration 8, loss = 0.62355540\n",
      "Iteration 9, loss = 0.61062825\n",
      "Iteration 10, loss = 0.59941381\n",
      "Iteration 11, loss = 0.58911231\n",
      "Iteration 12, loss = 0.58005467\n",
      "Iteration 13, loss = 0.57147077\n",
      "Iteration 14, loss = 0.56305287\n",
      "Iteration 15, loss = 0.55572996\n",
      "Iteration 16, loss = 0.54845320\n",
      "Iteration 17, loss = 0.54184531\n",
      "Iteration 18, loss = 0.53568231\n",
      "Iteration 19, loss = 0.52948289\n",
      "Iteration 20, loss = 0.52367091\n",
      "Iteration 1, loss = 1.32149742\n"
     ]
    },
    {
     "name": "stderr",
     "output_type": "stream",
     "text": [
      "D:\\AI\\Anaconda3\\lib\\site-packages\\sklearn\\neural_network\\_multilayer_perceptron.py:692: ConvergenceWarning: Stochastic Optimizer: Maximum iterations (20) reached and the optimization hasn't converged yet.\n",
      "  warnings.warn(\n"
     ]
    },
    {
     "name": "stdout",
     "output_type": "stream",
     "text": [
      "Iteration 2, loss = 0.81874538\n",
      "Iteration 3, loss = 0.74619866\n",
      "Iteration 4, loss = 0.70169662\n",
      "Iteration 5, loss = 0.67514871\n",
      "Iteration 6, loss = 0.65457659\n",
      "Iteration 7, loss = 0.63775811\n",
      "Iteration 8, loss = 0.62339055\n",
      "Iteration 9, loss = 0.61057498\n",
      "Iteration 10, loss = 0.59905972\n",
      "Iteration 11, loss = 0.58890319\n",
      "Iteration 12, loss = 0.57976973\n",
      "Iteration 13, loss = 0.57120288\n",
      "Iteration 14, loss = 0.56289245\n",
      "Iteration 15, loss = 0.55551366\n",
      "Iteration 16, loss = 0.54843470\n",
      "Iteration 17, loss = 0.54186257\n",
      "Iteration 18, loss = 0.53573662\n",
      "Iteration 19, loss = 0.52964249\n",
      "Iteration 20, loss = 0.52396522\n",
      "Iteration 1, loss = 1.31463218\n",
      "Iteration 2, loss = 0.81971683\n",
      "Iteration 3, loss = 0.74685844\n",
      "Iteration 4, loss = 0.70308501\n",
      "Iteration 5, loss = 0.67711347\n"
     ]
    },
    {
     "name": "stderr",
     "output_type": "stream",
     "text": [
      "D:\\AI\\Anaconda3\\lib\\site-packages\\sklearn\\neural_network\\_multilayer_perceptron.py:692: ConvergenceWarning: Stochastic Optimizer: Maximum iterations (20) reached and the optimization hasn't converged yet.\n",
      "  warnings.warn(\n"
     ]
    },
    {
     "name": "stdout",
     "output_type": "stream",
     "text": [
      "Iteration 6, loss = 0.65688512\n",
      "Iteration 7, loss = 0.64052848\n",
      "Iteration 8, loss = 0.62638003\n",
      "Iteration 9, loss = 0.61406681\n",
      "Iteration 10, loss = 0.60261711\n",
      "Iteration 11, loss = 0.59274046\n",
      "Iteration 12, loss = 0.58383713\n",
      "Iteration 13, loss = 0.57494301\n",
      "Iteration 14, loss = 0.56678387\n",
      "Iteration 15, loss = 0.55951415\n",
      "Iteration 16, loss = 0.55221184\n",
      "Iteration 17, loss = 0.54574519\n",
      "Iteration 18, loss = 0.53954326\n",
      "Iteration 19, loss = 0.53345988\n",
      "Iteration 20, loss = 0.52767107\n",
      "Iteration 1, loss = 1.31067781\n",
      "Iteration 2, loss = 0.81716077\n"
     ]
    },
    {
     "name": "stderr",
     "output_type": "stream",
     "text": [
      "D:\\AI\\Anaconda3\\lib\\site-packages\\sklearn\\neural_network\\_multilayer_perceptron.py:692: ConvergenceWarning: Stochastic Optimizer: Maximum iterations (20) reached and the optimization hasn't converged yet.\n",
      "  warnings.warn(\n"
     ]
    },
    {
     "name": "stdout",
     "output_type": "stream",
     "text": [
      "Iteration 3, loss = 0.74360511\n",
      "Iteration 4, loss = 0.69895661\n",
      "Iteration 5, loss = 0.67262871\n",
      "Iteration 6, loss = 0.65244832\n",
      "Iteration 7, loss = 0.63594990\n",
      "Iteration 8, loss = 0.62180230\n",
      "Iteration 9, loss = 0.60982491\n",
      "Iteration 10, loss = 0.59816941\n",
      "Iteration 11, loss = 0.58835540\n",
      "Iteration 12, loss = 0.57936541\n",
      "Iteration 13, loss = 0.57080896\n",
      "Iteration 14, loss = 0.56293325\n",
      "Iteration 15, loss = 0.55588529\n",
      "Iteration 16, loss = 0.54861288\n",
      "Iteration 17, loss = 0.54232199\n",
      "Iteration 18, loss = 0.53610566\n",
      "Iteration 19, loss = 0.53012692\n",
      "Iteration 20, loss = 0.52470087\n"
     ]
    },
    {
     "name": "stderr",
     "output_type": "stream",
     "text": [
      "D:\\AI\\Anaconda3\\lib\\site-packages\\sklearn\\neural_network\\_multilayer_perceptron.py:692: ConvergenceWarning: Stochastic Optimizer: Maximum iterations (20) reached and the optimization hasn't converged yet.\n",
      "  warnings.warn(\n"
     ]
    },
    {
     "name": "stdout",
     "output_type": "stream",
     "text": [
      "Iteration 1, loss = 1.30134591\n",
      "Iteration 2, loss = 0.81651137\n",
      "Iteration 3, loss = 0.74584615\n",
      "Iteration 4, loss = 0.70193369\n",
      "Iteration 5, loss = 0.67571765\n",
      "Iteration 6, loss = 0.65543768\n",
      "Iteration 7, loss = 0.63889994\n",
      "Iteration 8, loss = 0.62465654\n",
      "Iteration 9, loss = 0.61228615\n",
      "Iteration 10, loss = 0.60083442\n",
      "Iteration 11, loss = 0.59091766\n",
      "Iteration 12, loss = 0.58169310\n",
      "Iteration 13, loss = 0.57318352\n",
      "Iteration 14, loss = 0.56512180\n",
      "Iteration 15, loss = 0.55794854\n",
      "Iteration 16, loss = 0.55066665\n",
      "Iteration 17, loss = 0.54422258\n",
      "Iteration 18, loss = 0.53787216\n",
      "Iteration 19, loss = 0.53192800\n",
      "Iteration 20, loss = 0.52652561\n",
      "Iteration 1, loss = 1.31270545\n",
      "Iteration 2, loss = 0.81863759\n",
      "Iteration 3, loss = 0.74183028\n",
      "Iteration 4, loss = 0.69809276\n",
      "Iteration 5, loss = 0.67152294\n",
      "Iteration 6, loss = 0.65134054\n",
      "Iteration 7, loss = 0.63486478\n"
     ]
    },
    {
     "name": "stderr",
     "output_type": "stream",
     "text": [
      "D:\\AI\\Anaconda3\\lib\\site-packages\\sklearn\\neural_network\\_multilayer_perceptron.py:692: ConvergenceWarning: Stochastic Optimizer: Maximum iterations (20) reached and the optimization hasn't converged yet.\n",
      "  warnings.warn(\n"
     ]
    },
    {
     "name": "stdout",
     "output_type": "stream",
     "text": [
      "Iteration 8, loss = 0.62070761\n",
      "Iteration 9, loss = 0.60830883\n",
      "Iteration 10, loss = 0.59706745\n",
      "Iteration 11, loss = 0.58698882\n",
      "Iteration 12, loss = 0.57755063\n",
      "Iteration 13, loss = 0.56896063\n",
      "Iteration 14, loss = 0.56082168\n",
      "Iteration 15, loss = 0.55356161\n",
      "Iteration 16, loss = 0.54641394\n",
      "Iteration 17, loss = 0.53990983\n",
      "Iteration 18, loss = 0.53358911\n",
      "Iteration 19, loss = 0.52770560\n",
      "Iteration 20, loss = 0.52196072\n",
      "Iteration 1, loss = 1.31476724\n",
      "Iteration 2, loss = 0.82244090\n",
      "Iteration 3, loss = 0.74937690\n",
      "Iteration 4, loss = 0.70624321\n"
     ]
    },
    {
     "name": "stderr",
     "output_type": "stream",
     "text": [
      "D:\\AI\\Anaconda3\\lib\\site-packages\\sklearn\\neural_network\\_multilayer_perceptron.py:692: ConvergenceWarning: Stochastic Optimizer: Maximum iterations (20) reached and the optimization hasn't converged yet.\n",
      "  warnings.warn(\n"
     ]
    },
    {
     "name": "stdout",
     "output_type": "stream",
     "text": [
      "Iteration 5, loss = 0.67938439\n",
      "Iteration 6, loss = 0.65913219\n",
      "Iteration 7, loss = 0.64253238\n",
      "Iteration 8, loss = 0.62843903\n",
      "Iteration 9, loss = 0.61588161\n",
      "Iteration 10, loss = 0.60448434\n",
      "Iteration 11, loss = 0.59445002\n",
      "Iteration 12, loss = 0.58501730\n",
      "Iteration 13, loss = 0.57633390\n",
      "Iteration 14, loss = 0.56828891\n",
      "Iteration 15, loss = 0.56083813\n",
      "Iteration 16, loss = 0.55363417\n",
      "Iteration 17, loss = 0.54697164\n",
      "Iteration 18, loss = 0.54067488\n",
      "Iteration 19, loss = 0.53466792\n",
      "Iteration 20, loss = 0.52871581\n"
     ]
    },
    {
     "name": "stderr",
     "output_type": "stream",
     "text": [
      "D:\\AI\\Anaconda3\\lib\\site-packages\\sklearn\\neural_network\\_multilayer_perceptron.py:692: ConvergenceWarning: Stochastic Optimizer: Maximum iterations (20) reached and the optimization hasn't converged yet.\n",
      "  warnings.warn(\n",
      "D:\\AI\\Anaconda3\\lib\\site-packages\\sklearn\\neural_network\\_multilayer_perceptron.py:549: ConvergenceWarning: lbfgs failed to converge (status=1):\n",
      "STOP: TOTAL NO. of ITERATIONS REACHED LIMIT.\n",
      "\n",
      "Increase the number of iterations (max_iter) or scale the data as shown in:\n",
      "    https://scikit-learn.org/stable/modules/preprocessing.html\n",
      "  self.n_iter_ = _check_optimize_result(\"lbfgs\", opt_res, self.max_iter)\n",
      "D:\\AI\\Anaconda3\\lib\\site-packages\\sklearn\\neural_network\\_multilayer_perceptron.py:549: ConvergenceWarning: lbfgs failed to converge (status=1):\n",
      "STOP: TOTAL NO. of ITERATIONS REACHED LIMIT.\n",
      "\n",
      "Increase the number of iterations (max_iter) or scale the data as shown in:\n",
      "    https://scikit-learn.org/stable/modules/preprocessing.html\n",
      "  self.n_iter_ = _check_optimize_result(\"lbfgs\", opt_res, self.max_iter)\n",
      "D:\\AI\\Anaconda3\\lib\\site-packages\\sklearn\\neural_network\\_multilayer_perceptron.py:549: ConvergenceWarning: lbfgs failed to converge (status=1):\n",
      "STOP: TOTAL NO. of ITERATIONS REACHED LIMIT.\n",
      "\n",
      "Increase the number of iterations (max_iter) or scale the data as shown in:\n",
      "    https://scikit-learn.org/stable/modules/preprocessing.html\n",
      "  self.n_iter_ = _check_optimize_result(\"lbfgs\", opt_res, self.max_iter)\n",
      "D:\\AI\\Anaconda3\\lib\\site-packages\\sklearn\\neural_network\\_multilayer_perceptron.py:549: ConvergenceWarning: lbfgs failed to converge (status=1):\n",
      "STOP: TOTAL NO. of ITERATIONS REACHED LIMIT.\n",
      "\n",
      "Increase the number of iterations (max_iter) or scale the data as shown in:\n",
      "    https://scikit-learn.org/stable/modules/preprocessing.html\n",
      "  self.n_iter_ = _check_optimize_result(\"lbfgs\", opt_res, self.max_iter)\n",
      "D:\\AI\\Anaconda3\\lib\\site-packages\\sklearn\\neural_network\\_multilayer_perceptron.py:549: ConvergenceWarning: lbfgs failed to converge (status=1):\n",
      "STOP: TOTAL NO. of ITERATIONS REACHED LIMIT.\n",
      "\n",
      "Increase the number of iterations (max_iter) or scale the data as shown in:\n",
      "    https://scikit-learn.org/stable/modules/preprocessing.html\n",
      "  self.n_iter_ = _check_optimize_result(\"lbfgs\", opt_res, self.max_iter)\n",
      "D:\\AI\\Anaconda3\\lib\\site-packages\\sklearn\\neural_network\\_multilayer_perceptron.py:549: ConvergenceWarning: lbfgs failed to converge (status=1):\n",
      "STOP: TOTAL NO. of ITERATIONS REACHED LIMIT.\n",
      "\n",
      "Increase the number of iterations (max_iter) or scale the data as shown in:\n",
      "    https://scikit-learn.org/stable/modules/preprocessing.html\n",
      "  self.n_iter_ = _check_optimize_result(\"lbfgs\", opt_res, self.max_iter)\n",
      "D:\\AI\\Anaconda3\\lib\\site-packages\\sklearn\\neural_network\\_multilayer_perceptron.py:549: ConvergenceWarning: lbfgs failed to converge (status=1):\n",
      "STOP: TOTAL NO. of ITERATIONS REACHED LIMIT.\n",
      "\n",
      "Increase the number of iterations (max_iter) or scale the data as shown in:\n",
      "    https://scikit-learn.org/stable/modules/preprocessing.html\n",
      "  self.n_iter_ = _check_optimize_result(\"lbfgs\", opt_res, self.max_iter)\n",
      "D:\\AI\\Anaconda3\\lib\\site-packages\\sklearn\\neural_network\\_multilayer_perceptron.py:549: ConvergenceWarning: lbfgs failed to converge (status=1):\n",
      "STOP: TOTAL NO. of ITERATIONS REACHED LIMIT.\n",
      "\n",
      "Increase the number of iterations (max_iter) or scale the data as shown in:\n",
      "    https://scikit-learn.org/stable/modules/preprocessing.html\n",
      "  self.n_iter_ = _check_optimize_result(\"lbfgs\", opt_res, self.max_iter)\n",
      "D:\\AI\\Anaconda3\\lib\\site-packages\\sklearn\\neural_network\\_multilayer_perceptron.py:549: ConvergenceWarning: lbfgs failed to converge (status=1):\n",
      "STOP: TOTAL NO. of ITERATIONS REACHED LIMIT.\n",
      "\n",
      "Increase the number of iterations (max_iter) or scale the data as shown in:\n",
      "    https://scikit-learn.org/stable/modules/preprocessing.html\n",
      "  self.n_iter_ = _check_optimize_result(\"lbfgs\", opt_res, self.max_iter)\n",
      "D:\\AI\\Anaconda3\\lib\\site-packages\\sklearn\\neural_network\\_multilayer_perceptron.py:549: ConvergenceWarning: lbfgs failed to converge (status=1):\n",
      "STOP: TOTAL NO. of ITERATIONS REACHED LIMIT.\n",
      "\n",
      "Increase the number of iterations (max_iter) or scale the data as shown in:\n",
      "    https://scikit-learn.org/stable/modules/preprocessing.html\n",
      "  self.n_iter_ = _check_optimize_result(\"lbfgs\", opt_res, self.max_iter)\n"
     ]
    },
    {
     "name": "stdout",
     "output_type": "stream",
     "text": [
      "Iteration 1, loss = 0.67297284\n",
      "Iteration 2, loss = 0.52493265\n",
      "Iteration 3, loss = 0.44504275\n",
      "Iteration 4, loss = 0.38352048\n",
      "Iteration 5, loss = 0.33999730\n",
      "Iteration 6, loss = 0.30928600\n",
      "Iteration 7, loss = 0.28385633\n",
      "Iteration 8, loss = 0.26385232\n",
      "Iteration 9, loss = 0.24447831\n",
      "Iteration 10, loss = 0.22936375\n",
      "Iteration 11, loss = 0.21482277\n",
      "Iteration 12, loss = 0.20366641\n",
      "Iteration 13, loss = 0.18959182\n",
      "Iteration 14, loss = 0.17532230\n",
      "Iteration 15, loss = 0.16465130\n",
      "Iteration 16, loss = 0.15396307\n",
      "Iteration 17, loss = 0.14241882\n",
      "Iteration 18, loss = 0.13354092\n",
      "Iteration 19, loss = 0.12699019\n",
      "Iteration 20, loss = 0.11629791\n",
      "Iteration 1, loss = 0.68157616\n",
      "Iteration 2, loss = 0.53135750\n",
      "Iteration 3, loss = 0.44923341\n"
     ]
    },
    {
     "name": "stderr",
     "output_type": "stream",
     "text": [
      "D:\\AI\\Anaconda3\\lib\\site-packages\\sklearn\\neural_network\\_multilayer_perceptron.py:692: ConvergenceWarning: Stochastic Optimizer: Maximum iterations (20) reached and the optimization hasn't converged yet.\n",
      "  warnings.warn(\n"
     ]
    },
    {
     "name": "stdout",
     "output_type": "stream",
     "text": [
      "Iteration 4, loss = 0.38693842\n",
      "Iteration 5, loss = 0.34319607\n",
      "Iteration 6, loss = 0.31377785\n",
      "Iteration 7, loss = 0.28767687\n",
      "Iteration 8, loss = 0.26689136\n",
      "Iteration 9, loss = 0.24678008\n",
      "Iteration 10, loss = 0.23227420\n",
      "Iteration 11, loss = 0.21757762\n",
      "Iteration 12, loss = 0.20330291\n",
      "Iteration 13, loss = 0.19052395\n",
      "Iteration 14, loss = 0.17770767\n",
      "Iteration 15, loss = 0.16699759\n",
      "Iteration 16, loss = 0.15685867\n",
      "Iteration 17, loss = 0.14529424\n",
      "Iteration 18, loss = 0.13530699\n",
      "Iteration 19, loss = 0.12725996\n",
      "Iteration 20, loss = 0.11849688\n",
      "Iteration 1, loss = 0.67753004\n",
      "Iteration 2, loss = 0.53210549\n"
     ]
    },
    {
     "name": "stderr",
     "output_type": "stream",
     "text": [
      "D:\\AI\\Anaconda3\\lib\\site-packages\\sklearn\\neural_network\\_multilayer_perceptron.py:692: ConvergenceWarning: Stochastic Optimizer: Maximum iterations (20) reached and the optimization hasn't converged yet.\n",
      "  warnings.warn(\n"
     ]
    },
    {
     "name": "stdout",
     "output_type": "stream",
     "text": [
      "Iteration 3, loss = 0.45091164\n",
      "Iteration 4, loss = 0.38976606\n",
      "Iteration 5, loss = 0.34683093\n",
      "Iteration 6, loss = 0.31611514\n",
      "Iteration 7, loss = 0.28945060\n",
      "Iteration 8, loss = 0.26703054\n",
      "Iteration 9, loss = 0.24847750\n",
      "Iteration 10, loss = 0.23371043\n",
      "Iteration 11, loss = 0.21824048\n",
      "Iteration 12, loss = 0.20331585\n",
      "Iteration 13, loss = 0.19018396\n",
      "Iteration 14, loss = 0.17812886\n",
      "Iteration 15, loss = 0.16605009\n",
      "Iteration 16, loss = 0.15566471\n",
      "Iteration 17, loss = 0.14503530\n",
      "Iteration 18, loss = 0.13433655\n",
      "Iteration 19, loss = 0.12576143\n",
      "Iteration 20, loss = 0.11696558\n",
      "Iteration 1, loss = 0.67833878\n",
      "Iteration 2, loss = 0.53031677\n"
     ]
    },
    {
     "name": "stderr",
     "output_type": "stream",
     "text": [
      "D:\\AI\\Anaconda3\\lib\\site-packages\\sklearn\\neural_network\\_multilayer_perceptron.py:692: ConvergenceWarning: Stochastic Optimizer: Maximum iterations (20) reached and the optimization hasn't converged yet.\n",
      "  warnings.warn(\n"
     ]
    },
    {
     "name": "stdout",
     "output_type": "stream",
     "text": [
      "Iteration 3, loss = 0.44898896\n",
      "Iteration 4, loss = 0.38719681\n",
      "Iteration 5, loss = 0.34446933\n",
      "Iteration 6, loss = 0.31386442\n",
      "Iteration 7, loss = 0.28553352\n",
      "Iteration 8, loss = 0.26484861\n",
      "Iteration 9, loss = 0.24757117\n",
      "Iteration 10, loss = 0.23440393\n",
      "Iteration 11, loss = 0.21863231\n",
      "Iteration 12, loss = 0.20314728\n",
      "Iteration 13, loss = 0.19084712\n",
      "Iteration 14, loss = 0.17825078\n",
      "Iteration 15, loss = 0.16738332\n",
      "Iteration 16, loss = 0.15746920\n",
      "Iteration 17, loss = 0.14704030\n",
      "Iteration 18, loss = 0.13616720\n",
      "Iteration 19, loss = 0.12753605\n",
      "Iteration 20, loss = 0.11903437\n",
      "Iteration 1, loss = 0.67680159\n",
      "Iteration 2, loss = 0.52745434\n"
     ]
    },
    {
     "name": "stderr",
     "output_type": "stream",
     "text": [
      "D:\\AI\\Anaconda3\\lib\\site-packages\\sklearn\\neural_network\\_multilayer_perceptron.py:692: ConvergenceWarning: Stochastic Optimizer: Maximum iterations (20) reached and the optimization hasn't converged yet.\n",
      "  warnings.warn(\n"
     ]
    },
    {
     "name": "stdout",
     "output_type": "stream",
     "text": [
      "Iteration 3, loss = 0.44653275\n",
      "Iteration 4, loss = 0.38651468\n",
      "Iteration 5, loss = 0.34519160\n",
      "Iteration 6, loss = 0.31604295\n",
      "Iteration 7, loss = 0.28689479\n",
      "Iteration 8, loss = 0.26667097\n",
      "Iteration 9, loss = 0.24939467\n",
      "Iteration 10, loss = 0.23418048\n",
      "Iteration 11, loss = 0.21825053\n",
      "Iteration 12, loss = 0.20268416\n",
      "Iteration 13, loss = 0.19043057\n",
      "Iteration 14, loss = 0.17715759\n",
      "Iteration 15, loss = 0.16667583\n",
      "Iteration 16, loss = 0.15573883\n",
      "Iteration 17, loss = 0.14452807\n",
      "Iteration 18, loss = 0.13388463\n",
      "Iteration 19, loss = 0.12490233\n",
      "Iteration 20, loss = 0.11641232\n",
      "Iteration 1, loss = 0.67900763\n",
      "Iteration 2, loss = 0.52941741\n",
      "Iteration 3, loss = 0.44801629\n"
     ]
    },
    {
     "name": "stderr",
     "output_type": "stream",
     "text": [
      "D:\\AI\\Anaconda3\\lib\\site-packages\\sklearn\\neural_network\\_multilayer_perceptron.py:692: ConvergenceWarning: Stochastic Optimizer: Maximum iterations (20) reached and the optimization hasn't converged yet.\n",
      "  warnings.warn(\n"
     ]
    },
    {
     "name": "stdout",
     "output_type": "stream",
     "text": [
      "Iteration 4, loss = 0.38695481\n",
      "Iteration 5, loss = 0.34357688\n",
      "Iteration 6, loss = 0.31449451\n",
      "Iteration 7, loss = 0.28456300\n",
      "Iteration 8, loss = 0.26455501\n",
      "Iteration 9, loss = 0.24649002\n",
      "Iteration 10, loss = 0.23158810\n",
      "Iteration 11, loss = 0.21667234\n",
      "Iteration 12, loss = 0.20067429\n",
      "Iteration 13, loss = 0.18818502\n",
      "Iteration 14, loss = 0.17677824\n",
      "Iteration 15, loss = 0.16448019\n",
      "Iteration 16, loss = 0.15272990\n",
      "Iteration 17, loss = 0.14218290\n",
      "Iteration 18, loss = 0.13250080\n",
      "Iteration 19, loss = 0.12281993\n",
      "Iteration 20, loss = 0.11464693\n"
     ]
    },
    {
     "name": "stderr",
     "output_type": "stream",
     "text": [
      "D:\\AI\\Anaconda3\\lib\\site-packages\\sklearn\\neural_network\\_multilayer_perceptron.py:692: ConvergenceWarning: Stochastic Optimizer: Maximum iterations (20) reached and the optimization hasn't converged yet.\n",
      "  warnings.warn(\n"
     ]
    },
    {
     "name": "stdout",
     "output_type": "stream",
     "text": [
      "Iteration 1, loss = 0.67673402\n",
      "Iteration 2, loss = 0.52462711\n",
      "Iteration 3, loss = 0.44229424\n",
      "Iteration 4, loss = 0.38085668\n",
      "Iteration 5, loss = 0.33640796\n",
      "Iteration 6, loss = 0.30637565\n",
      "Iteration 7, loss = 0.27752564\n",
      "Iteration 8, loss = 0.25748112\n",
      "Iteration 9, loss = 0.23873537\n",
      "Iteration 10, loss = 0.22534442\n",
      "Iteration 11, loss = 0.20990422\n",
      "Iteration 12, loss = 0.19634202\n",
      "Iteration 13, loss = 0.18426460\n",
      "Iteration 14, loss = 0.17265253\n",
      "Iteration 15, loss = 0.16045125\n",
      "Iteration 16, loss = 0.15032820\n",
      "Iteration 17, loss = 0.14054307\n",
      "Iteration 18, loss = 0.13103851\n",
      "Iteration 19, loss = 0.12109660\n",
      "Iteration 20, loss = 0.11409266\n"
     ]
    },
    {
     "name": "stderr",
     "output_type": "stream",
     "text": [
      "D:\\AI\\Anaconda3\\lib\\site-packages\\sklearn\\neural_network\\_multilayer_perceptron.py:692: ConvergenceWarning: Stochastic Optimizer: Maximum iterations (20) reached and the optimization hasn't converged yet.\n",
      "  warnings.warn(\n"
     ]
    },
    {
     "name": "stdout",
     "output_type": "stream",
     "text": [
      "Iteration 1, loss = 0.67502737\n",
      "Iteration 2, loss = 0.52683211\n",
      "Iteration 3, loss = 0.44546230\n",
      "Iteration 4, loss = 0.38716994\n",
      "Iteration 5, loss = 0.34350035\n",
      "Iteration 6, loss = 0.31385521\n",
      "Iteration 7, loss = 0.28683922\n",
      "Iteration 8, loss = 0.26706285\n",
      "Iteration 9, loss = 0.24797828\n",
      "Iteration 10, loss = 0.23342514\n",
      "Iteration 11, loss = 0.21832248\n",
      "Iteration 12, loss = 0.20338998\n",
      "Iteration 13, loss = 0.19185799\n",
      "Iteration 14, loss = 0.18099652\n",
      "Iteration 15, loss = 0.16795955\n",
      "Iteration 16, loss = 0.15811946\n",
      "Iteration 17, loss = 0.14710305\n",
      "Iteration 18, loss = 0.13668485\n",
      "Iteration 19, loss = 0.12723434\n",
      "Iteration 20, loss = 0.11875382\n",
      "Iteration 1, loss = 0.67031406\n",
      "Iteration 2, loss = 0.52295233\n",
      "Iteration 3, loss = 0.44185517\n",
      "Iteration 4, loss = 0.38314747\n"
     ]
    },
    {
     "name": "stderr",
     "output_type": "stream",
     "text": [
      "D:\\AI\\Anaconda3\\lib\\site-packages\\sklearn\\neural_network\\_multilayer_perceptron.py:692: ConvergenceWarning: Stochastic Optimizer: Maximum iterations (20) reached and the optimization hasn't converged yet.\n",
      "  warnings.warn(\n"
     ]
    },
    {
     "name": "stdout",
     "output_type": "stream",
     "text": [
      "Iteration 5, loss = 0.33933549\n",
      "Iteration 6, loss = 0.30810919\n",
      "Iteration 7, loss = 0.28506529\n",
      "Iteration 8, loss = 0.26502632\n",
      "Iteration 9, loss = 0.24651424\n",
      "Iteration 10, loss = 0.23226304\n",
      "Iteration 11, loss = 0.21637262\n",
      "Iteration 12, loss = 0.20171070\n",
      "Iteration 13, loss = 0.19039432\n",
      "Iteration 14, loss = 0.17843978\n",
      "Iteration 15, loss = 0.16631470\n",
      "Iteration 16, loss = 0.15512445\n",
      "Iteration 17, loss = 0.14425981\n",
      "Iteration 18, loss = 0.13582185\n",
      "Iteration 19, loss = 0.12581530\n",
      "Iteration 20, loss = 0.11761317\n",
      "Iteration 1, loss = 0.67439518\n",
      "Iteration 2, loss = 0.53026868\n",
      "Iteration 3, loss = 0.44962233\n",
      "Iteration 4, loss = 0.39030889\n",
      "Iteration 5, loss = 0.34570526\n",
      "Iteration 6, loss = 0.31429913\n"
     ]
    },
    {
     "name": "stderr",
     "output_type": "stream",
     "text": [
      "D:\\AI\\Anaconda3\\lib\\site-packages\\sklearn\\neural_network\\_multilayer_perceptron.py:692: ConvergenceWarning: Stochastic Optimizer: Maximum iterations (20) reached and the optimization hasn't converged yet.\n",
      "  warnings.warn(\n"
     ]
    },
    {
     "name": "stdout",
     "output_type": "stream",
     "text": [
      "Iteration 7, loss = 0.28951962\n",
      "Iteration 8, loss = 0.26852499\n",
      "Iteration 9, loss = 0.25103448\n",
      "Iteration 10, loss = 0.23780764\n",
      "Iteration 11, loss = 0.22041483\n",
      "Iteration 12, loss = 0.20473840\n",
      "Iteration 13, loss = 0.19258135\n",
      "Iteration 14, loss = 0.17949759\n",
      "Iteration 15, loss = 0.16748222\n",
      "Iteration 16, loss = 0.15607146\n",
      "Iteration 17, loss = 0.14488240\n",
      "Iteration 18, loss = 0.13620427\n",
      "Iteration 19, loss = 0.12530288\n",
      "Iteration 20, loss = 0.11713218\n",
      "Iteration 1, loss = 0.76598570\n",
      "Iteration 2, loss = 0.72035490\n"
     ]
    },
    {
     "name": "stderr",
     "output_type": "stream",
     "text": [
      "D:\\AI\\Anaconda3\\lib\\site-packages\\sklearn\\neural_network\\_multilayer_perceptron.py:692: ConvergenceWarning: Stochastic Optimizer: Maximum iterations (20) reached and the optimization hasn't converged yet.\n",
      "  warnings.warn(\n"
     ]
    },
    {
     "name": "stdout",
     "output_type": "stream",
     "text": [
      "Iteration 3, loss = 0.68517857\n",
      "Iteration 4, loss = 0.65814395\n",
      "Iteration 5, loss = 0.63942401\n",
      "Iteration 6, loss = 0.62433485\n",
      "Iteration 7, loss = 0.61152115\n",
      "Iteration 8, loss = 0.60057907\n",
      "Iteration 9, loss = 0.58960072\n",
      "Iteration 10, loss = 0.58053787\n",
      "Iteration 11, loss = 0.57126731\n",
      "Iteration 12, loss = 0.56298656\n",
      "Iteration 13, loss = 0.55487795\n",
      "Iteration 14, loss = 0.54719693\n",
      "Iteration 15, loss = 0.53958168\n",
      "Iteration 16, loss = 0.53237311\n",
      "Iteration 17, loss = 0.52530676\n",
      "Iteration 18, loss = 0.51888208\n",
      "Iteration 19, loss = 0.51216766\n",
      "Iteration 20, loss = 0.50570600\n"
     ]
    },
    {
     "name": "stderr",
     "output_type": "stream",
     "text": [
      "D:\\AI\\Anaconda3\\lib\\site-packages\\sklearn\\neural_network\\_multilayer_perceptron.py:692: ConvergenceWarning: Stochastic Optimizer: Maximum iterations (20) reached and the optimization hasn't converged yet.\n",
      "  warnings.warn(\n"
     ]
    },
    {
     "name": "stdout",
     "output_type": "stream",
     "text": [
      "Iteration 1, loss = 0.76944188\n",
      "Iteration 2, loss = 0.72375989\n",
      "Iteration 3, loss = 0.68890349\n",
      "Iteration 4, loss = 0.66221600\n",
      "Iteration 5, loss = 0.64360647\n",
      "Iteration 6, loss = 0.62872464\n",
      "Iteration 7, loss = 0.61571878\n",
      "Iteration 8, loss = 0.60472864\n",
      "Iteration 9, loss = 0.59401468\n",
      "Iteration 10, loss = 0.58490928\n",
      "Iteration 11, loss = 0.57572740\n",
      "Iteration 12, loss = 0.56750465\n",
      "Iteration 13, loss = 0.55952508\n",
      "Iteration 14, loss = 0.55199375\n",
      "Iteration 15, loss = 0.54437506\n",
      "Iteration 16, loss = 0.53722384\n",
      "Iteration 17, loss = 0.53012310\n",
      "Iteration 18, loss = 0.52364877\n",
      "Iteration 19, loss = 0.51703536\n",
      "Iteration 20, loss = 0.51064504\n",
      "Iteration 1, loss = 0.76525343\n",
      "Iteration 2, loss = 0.72070696\n",
      "Iteration 3, loss = 0.68659421\n",
      "Iteration 4, loss = 0.66054586\n",
      "Iteration 5, loss = 0.64245220\n",
      "Iteration 6, loss = 0.62770379\n"
     ]
    },
    {
     "name": "stderr",
     "output_type": "stream",
     "text": [
      "D:\\AI\\Anaconda3\\lib\\site-packages\\sklearn\\neural_network\\_multilayer_perceptron.py:692: ConvergenceWarning: Stochastic Optimizer: Maximum iterations (20) reached and the optimization hasn't converged yet.\n",
      "  warnings.warn(\n"
     ]
    },
    {
     "name": "stdout",
     "output_type": "stream",
     "text": [
      "Iteration 7, loss = 0.61503466\n",
      "Iteration 8, loss = 0.60437901\n",
      "Iteration 9, loss = 0.59434315\n",
      "Iteration 10, loss = 0.58523574\n",
      "Iteration 11, loss = 0.57628477\n",
      "Iteration 12, loss = 0.56819582\n",
      "Iteration 13, loss = 0.56055585\n",
      "Iteration 14, loss = 0.55305964\n",
      "Iteration 15, loss = 0.54559528\n",
      "Iteration 16, loss = 0.53859024\n",
      "Iteration 17, loss = 0.53183827\n",
      "Iteration 18, loss = 0.52520926\n",
      "Iteration 19, loss = 0.51856710\n",
      "Iteration 20, loss = 0.51220352\n",
      "Iteration 1, loss = 0.76666330\n",
      "Iteration 2, loss = 0.72130428\n"
     ]
    },
    {
     "name": "stderr",
     "output_type": "stream",
     "text": [
      "D:\\AI\\Anaconda3\\lib\\site-packages\\sklearn\\neural_network\\_multilayer_perceptron.py:692: ConvergenceWarning: Stochastic Optimizer: Maximum iterations (20) reached and the optimization hasn't converged yet.\n",
      "  warnings.warn(\n"
     ]
    },
    {
     "name": "stdout",
     "output_type": "stream",
     "text": [
      "Iteration 3, loss = 0.68636426\n",
      "Iteration 4, loss = 0.65967676\n",
      "Iteration 5, loss = 0.64098419\n",
      "Iteration 6, loss = 0.62563937\n",
      "Iteration 7, loss = 0.61248160\n",
      "Iteration 8, loss = 0.60136943\n",
      "Iteration 9, loss = 0.59110240\n",
      "Iteration 10, loss = 0.58162400\n",
      "Iteration 11, loss = 0.57234797\n",
      "Iteration 12, loss = 0.56394390\n",
      "Iteration 13, loss = 0.55610928\n",
      "Iteration 14, loss = 0.54841679\n",
      "Iteration 15, loss = 0.54061629\n",
      "Iteration 16, loss = 0.53343812\n",
      "Iteration 17, loss = 0.52641772\n",
      "Iteration 18, loss = 0.51965260\n",
      "Iteration 19, loss = 0.51301404\n",
      "Iteration 20, loss = 0.50656140\n",
      "Iteration 1, loss = 0.76568046\n",
      "Iteration 2, loss = 0.71884734\n",
      "Iteration 3, loss = 0.68411239\n",
      "Iteration 4, loss = 0.65730632\n",
      "Iteration 5, loss = 0.63887853\n"
     ]
    },
    {
     "name": "stderr",
     "output_type": "stream",
     "text": [
      "D:\\AI\\Anaconda3\\lib\\site-packages\\sklearn\\neural_network\\_multilayer_perceptron.py:692: ConvergenceWarning: Stochastic Optimizer: Maximum iterations (20) reached and the optimization hasn't converged yet.\n",
      "  warnings.warn(\n"
     ]
    },
    {
     "name": "stdout",
     "output_type": "stream",
     "text": [
      "Iteration 6, loss = 0.62358983\n",
      "Iteration 7, loss = 0.61057406\n",
      "Iteration 8, loss = 0.59935488\n",
      "Iteration 9, loss = 0.58929508\n",
      "Iteration 10, loss = 0.57979988\n",
      "Iteration 11, loss = 0.57047382\n",
      "Iteration 12, loss = 0.56201861\n",
      "Iteration 13, loss = 0.55440328\n",
      "Iteration 14, loss = 0.54634138\n",
      "Iteration 15, loss = 0.53872797\n",
      "Iteration 16, loss = 0.53154627\n",
      "Iteration 17, loss = 0.52480169\n",
      "Iteration 18, loss = 0.51808862\n",
      "Iteration 19, loss = 0.51149674\n",
      "Iteration 20, loss = 0.50482495\n",
      "Iteration 1, loss = 0.76742064\n",
      "Iteration 2, loss = 0.72111596\n",
      "Iteration 3, loss = 0.68659045\n"
     ]
    },
    {
     "name": "stderr",
     "output_type": "stream",
     "text": [
      "D:\\AI\\Anaconda3\\lib\\site-packages\\sklearn\\neural_network\\_multilayer_perceptron.py:692: ConvergenceWarning: Stochastic Optimizer: Maximum iterations (20) reached and the optimization hasn't converged yet.\n",
      "  warnings.warn(\n"
     ]
    },
    {
     "name": "stdout",
     "output_type": "stream",
     "text": [
      "Iteration 4, loss = 0.65986565\n",
      "Iteration 5, loss = 0.64130612\n",
      "Iteration 6, loss = 0.62610339\n",
      "Iteration 7, loss = 0.61337889\n",
      "Iteration 8, loss = 0.60227981\n",
      "Iteration 9, loss = 0.59234768\n",
      "Iteration 10, loss = 0.58308617\n",
      "Iteration 11, loss = 0.57400061\n",
      "Iteration 12, loss = 0.56569499\n",
      "Iteration 13, loss = 0.55826230\n",
      "Iteration 14, loss = 0.55010848\n",
      "Iteration 15, loss = 0.54265046\n",
      "Iteration 16, loss = 0.53552167\n",
      "Iteration 17, loss = 0.52861591\n",
      "Iteration 18, loss = 0.52209965\n",
      "Iteration 19, loss = 0.51540021\n",
      "Iteration 20, loss = 0.50882306\n",
      "Iteration 1, loss = 0.76913452\n",
      "Iteration 2, loss = 0.72080101\n"
     ]
    },
    {
     "name": "stderr",
     "output_type": "stream",
     "text": [
      "D:\\AI\\Anaconda3\\lib\\site-packages\\sklearn\\neural_network\\_multilayer_perceptron.py:692: ConvergenceWarning: Stochastic Optimizer: Maximum iterations (20) reached and the optimization hasn't converged yet.\n",
      "  warnings.warn(\n"
     ]
    },
    {
     "name": "stdout",
     "output_type": "stream",
     "text": [
      "Iteration 3, loss = 0.68444335\n",
      "Iteration 4, loss = 0.65703156\n",
      "Iteration 5, loss = 0.63808132\n",
      "Iteration 6, loss = 0.62271526\n",
      "Iteration 7, loss = 0.60967419\n",
      "Iteration 8, loss = 0.59840629\n",
      "Iteration 9, loss = 0.58809775\n",
      "Iteration 10, loss = 0.57883879\n",
      "Iteration 11, loss = 0.56970853\n",
      "Iteration 12, loss = 0.56152234\n",
      "Iteration 13, loss = 0.55387282\n",
      "Iteration 14, loss = 0.54579838\n",
      "Iteration 15, loss = 0.53818192\n",
      "Iteration 16, loss = 0.53128920\n",
      "Iteration 17, loss = 0.52415570\n",
      "Iteration 18, loss = 0.51778566\n",
      "Iteration 19, loss = 0.51129334\n",
      "Iteration 20, loss = 0.50473476\n",
      "Iteration 1, loss = 0.76428382\n"
     ]
    },
    {
     "name": "stderr",
     "output_type": "stream",
     "text": [
      "D:\\AI\\Anaconda3\\lib\\site-packages\\sklearn\\neural_network\\_multilayer_perceptron.py:692: ConvergenceWarning: Stochastic Optimizer: Maximum iterations (20) reached and the optimization hasn't converged yet.\n",
      "  warnings.warn(\n"
     ]
    },
    {
     "name": "stdout",
     "output_type": "stream",
     "text": [
      "Iteration 2, loss = 0.71938392\n",
      "Iteration 3, loss = 0.68494011\n",
      "Iteration 4, loss = 0.65960016\n",
      "Iteration 5, loss = 0.64090542\n",
      "Iteration 6, loss = 0.62586743\n",
      "Iteration 7, loss = 0.61295520\n",
      "Iteration 8, loss = 0.60171734\n",
      "Iteration 9, loss = 0.59144315\n",
      "Iteration 10, loss = 0.58209141\n",
      "Iteration 11, loss = 0.57294740\n",
      "Iteration 12, loss = 0.56461328\n",
      "Iteration 13, loss = 0.55688293\n",
      "Iteration 14, loss = 0.54906218\n",
      "Iteration 15, loss = 0.54126021\n",
      "Iteration 16, loss = 0.53477430\n",
      "Iteration 17, loss = 0.52733877\n",
      "Iteration 18, loss = 0.52063100\n",
      "Iteration 19, loss = 0.51407511\n",
      "Iteration 20, loss = 0.50760911\n"
     ]
    },
    {
     "name": "stderr",
     "output_type": "stream",
     "text": [
      "D:\\AI\\Anaconda3\\lib\\site-packages\\sklearn\\neural_network\\_multilayer_perceptron.py:692: ConvergenceWarning: Stochastic Optimizer: Maximum iterations (20) reached and the optimization hasn't converged yet.\n",
      "  warnings.warn(\n"
     ]
    },
    {
     "name": "stdout",
     "output_type": "stream",
     "text": [
      "Iteration 1, loss = 0.76276324\n",
      "Iteration 2, loss = 0.71656001\n",
      "Iteration 3, loss = 0.68144060\n",
      "Iteration 4, loss = 0.65534765\n",
      "Iteration 5, loss = 0.63673092\n",
      "Iteration 6, loss = 0.62145770\n",
      "Iteration 7, loss = 0.60884868\n",
      "Iteration 8, loss = 0.59757733\n",
      "Iteration 9, loss = 0.58760843\n",
      "Iteration 10, loss = 0.57817764\n",
      "Iteration 11, loss = 0.56909291\n",
      "Iteration 12, loss = 0.56099944\n",
      "Iteration 13, loss = 0.55291723\n",
      "Iteration 14, loss = 0.54574327\n",
      "Iteration 15, loss = 0.53791118\n",
      "Iteration 16, loss = 0.53037323\n",
      "Iteration 17, loss = 0.52360086\n",
      "Iteration 18, loss = 0.51654049\n",
      "Iteration 19, loss = 0.51015230\n",
      "Iteration 20, loss = 0.50367395\n",
      "Iteration 1, loss = 0.76276848\n",
      "Iteration 2, loss = 0.71937030\n",
      "Iteration 3, loss = 0.68544973\n",
      "Iteration 4, loss = 0.66018060\n"
     ]
    },
    {
     "name": "stderr",
     "output_type": "stream",
     "text": [
      "D:\\AI\\Anaconda3\\lib\\site-packages\\sklearn\\neural_network\\_multilayer_perceptron.py:692: ConvergenceWarning: Stochastic Optimizer: Maximum iterations (20) reached and the optimization hasn't converged yet.\n",
      "  warnings.warn(\n"
     ]
    },
    {
     "name": "stdout",
     "output_type": "stream",
     "text": [
      "Iteration 5, loss = 0.64208122\n",
      "Iteration 6, loss = 0.62717488\n",
      "Iteration 7, loss = 0.61458774\n",
      "Iteration 8, loss = 0.60359412\n",
      "Iteration 9, loss = 0.59365092\n",
      "Iteration 10, loss = 0.58432969\n",
      "Iteration 11, loss = 0.57543126\n",
      "Iteration 12, loss = 0.56745266\n",
      "Iteration 13, loss = 0.55954556\n",
      "Iteration 14, loss = 0.55218652\n",
      "Iteration 15, loss = 0.54480656\n",
      "Iteration 16, loss = 0.53742152\n",
      "Iteration 17, loss = 0.53095496\n",
      "Iteration 18, loss = 0.52405271\n",
      "Iteration 19, loss = 0.51779315\n",
      "Iteration 20, loss = 0.51137101\n"
     ]
    },
    {
     "name": "stderr",
     "output_type": "stream",
     "text": [
      "D:\\AI\\Anaconda3\\lib\\site-packages\\sklearn\\neural_network\\_multilayer_perceptron.py:692: ConvergenceWarning: Stochastic Optimizer: Maximum iterations (20) reached and the optimization hasn't converged yet.\n",
      "  warnings.warn(\n",
      "D:\\AI\\Anaconda3\\lib\\site-packages\\sklearn\\neural_network\\_multilayer_perceptron.py:549: ConvergenceWarning: lbfgs failed to converge (status=1):\n",
      "STOP: TOTAL NO. of ITERATIONS REACHED LIMIT.\n",
      "\n",
      "Increase the number of iterations (max_iter) or scale the data as shown in:\n",
      "    https://scikit-learn.org/stable/modules/preprocessing.html\n",
      "  self.n_iter_ = _check_optimize_result(\"lbfgs\", opt_res, self.max_iter)\n",
      "D:\\AI\\Anaconda3\\lib\\site-packages\\sklearn\\neural_network\\_multilayer_perceptron.py:549: ConvergenceWarning: lbfgs failed to converge (status=1):\n",
      "STOP: TOTAL NO. of ITERATIONS REACHED LIMIT.\n",
      "\n",
      "Increase the number of iterations (max_iter) or scale the data as shown in:\n",
      "    https://scikit-learn.org/stable/modules/preprocessing.html\n",
      "  self.n_iter_ = _check_optimize_result(\"lbfgs\", opt_res, self.max_iter)\n",
      "D:\\AI\\Anaconda3\\lib\\site-packages\\sklearn\\neural_network\\_multilayer_perceptron.py:549: ConvergenceWarning: lbfgs failed to converge (status=1):\n",
      "STOP: TOTAL NO. of ITERATIONS REACHED LIMIT.\n",
      "\n",
      "Increase the number of iterations (max_iter) or scale the data as shown in:\n",
      "    https://scikit-learn.org/stable/modules/preprocessing.html\n",
      "  self.n_iter_ = _check_optimize_result(\"lbfgs\", opt_res, self.max_iter)\n",
      "D:\\AI\\Anaconda3\\lib\\site-packages\\sklearn\\neural_network\\_multilayer_perceptron.py:549: ConvergenceWarning: lbfgs failed to converge (status=1):\n",
      "STOP: TOTAL NO. of ITERATIONS REACHED LIMIT.\n",
      "\n",
      "Increase the number of iterations (max_iter) or scale the data as shown in:\n",
      "    https://scikit-learn.org/stable/modules/preprocessing.html\n",
      "  self.n_iter_ = _check_optimize_result(\"lbfgs\", opt_res, self.max_iter)\n",
      "D:\\AI\\Anaconda3\\lib\\site-packages\\sklearn\\neural_network\\_multilayer_perceptron.py:549: ConvergenceWarning: lbfgs failed to converge (status=1):\n",
      "STOP: TOTAL NO. of ITERATIONS REACHED LIMIT.\n",
      "\n",
      "Increase the number of iterations (max_iter) or scale the data as shown in:\n",
      "    https://scikit-learn.org/stable/modules/preprocessing.html\n",
      "  self.n_iter_ = _check_optimize_result(\"lbfgs\", opt_res, self.max_iter)\n",
      "D:\\AI\\Anaconda3\\lib\\site-packages\\sklearn\\neural_network\\_multilayer_perceptron.py:549: ConvergenceWarning: lbfgs failed to converge (status=1):\n",
      "STOP: TOTAL NO. of ITERATIONS REACHED LIMIT.\n",
      "\n",
      "Increase the number of iterations (max_iter) or scale the data as shown in:\n",
      "    https://scikit-learn.org/stable/modules/preprocessing.html\n",
      "  self.n_iter_ = _check_optimize_result(\"lbfgs\", opt_res, self.max_iter)\n",
      "D:\\AI\\Anaconda3\\lib\\site-packages\\sklearn\\neural_network\\_multilayer_perceptron.py:549: ConvergenceWarning: lbfgs failed to converge (status=1):\n",
      "STOP: TOTAL NO. of ITERATIONS REACHED LIMIT.\n",
      "\n",
      "Increase the number of iterations (max_iter) or scale the data as shown in:\n",
      "    https://scikit-learn.org/stable/modules/preprocessing.html\n",
      "  self.n_iter_ = _check_optimize_result(\"lbfgs\", opt_res, self.max_iter)\n",
      "D:\\AI\\Anaconda3\\lib\\site-packages\\sklearn\\neural_network\\_multilayer_perceptron.py:549: ConvergenceWarning: lbfgs failed to converge (status=1):\n",
      "STOP: TOTAL NO. of ITERATIONS REACHED LIMIT.\n",
      "\n",
      "Increase the number of iterations (max_iter) or scale the data as shown in:\n",
      "    https://scikit-learn.org/stable/modules/preprocessing.html\n",
      "  self.n_iter_ = _check_optimize_result(\"lbfgs\", opt_res, self.max_iter)\n",
      "D:\\AI\\Anaconda3\\lib\\site-packages\\sklearn\\neural_network\\_multilayer_perceptron.py:549: ConvergenceWarning: lbfgs failed to converge (status=1):\n",
      "STOP: TOTAL NO. of ITERATIONS REACHED LIMIT.\n",
      "\n",
      "Increase the number of iterations (max_iter) or scale the data as shown in:\n",
      "    https://scikit-learn.org/stable/modules/preprocessing.html\n",
      "  self.n_iter_ = _check_optimize_result(\"lbfgs\", opt_res, self.max_iter)\n",
      "D:\\AI\\Anaconda3\\lib\\site-packages\\sklearn\\neural_network\\_multilayer_perceptron.py:549: ConvergenceWarning: lbfgs failed to converge (status=1):\n",
      "STOP: TOTAL NO. of ITERATIONS REACHED LIMIT.\n",
      "\n",
      "Increase the number of iterations (max_iter) or scale the data as shown in:\n",
      "    https://scikit-learn.org/stable/modules/preprocessing.html\n",
      "  self.n_iter_ = _check_optimize_result(\"lbfgs\", opt_res, self.max_iter)\n"
     ]
    },
    {
     "name": "stdout",
     "output_type": "stream",
     "text": [
      "Iteration 1, loss = 0.93756192\n",
      "Iteration 2, loss = 0.91641686\n",
      "Iteration 3, loss = 0.90030649\n",
      "Iteration 4, loss = 0.88813954\n",
      "Iteration 5, loss = 0.87854731\n",
      "Iteration 6, loss = 0.87097381\n",
      "Iteration 7, loss = 0.86450595\n",
      "Iteration 8, loss = 0.85879482\n",
      "Iteration 9, loss = 0.85371817\n",
      "Iteration 10, loss = 0.84894265\n",
      "Iteration 11, loss = 0.84442553\n",
      "Iteration 12, loss = 0.84017238\n",
      "Iteration 13, loss = 0.83596093\n",
      "Iteration 14, loss = 0.83184784\n",
      "Iteration 15, loss = 0.82787445\n",
      "Iteration 16, loss = 0.82393571\n",
      "Iteration 17, loss = 0.82008086\n",
      "Iteration 18, loss = 0.81625692\n",
      "Iteration 19, loss = 0.81248721\n",
      "Iteration 20, loss = 0.80869979\n",
      "Iteration 1, loss = 0.93280350\n",
      "Iteration 2, loss = 0.91177922\n",
      "Iteration 3, loss = 0.89567482\n",
      "Iteration 4, loss = 0.88354019\n",
      "Iteration 5, loss = 0.87401777\n",
      "Iteration 6, loss = 0.86645619\n",
      "Iteration 7, loss = 0.85999638\n",
      "Iteration 8, loss = 0.85432424\n",
      "Iteration 9, loss = 0.84930263\n",
      "Iteration 10, loss = 0.84463665\n"
     ]
    },
    {
     "name": "stderr",
     "output_type": "stream",
     "text": [
      "D:\\AI\\Anaconda3\\lib\\site-packages\\sklearn\\neural_network\\_multilayer_perceptron.py:692: ConvergenceWarning: Stochastic Optimizer: Maximum iterations (20) reached and the optimization hasn't converged yet.\n",
      "  warnings.warn(\n"
     ]
    },
    {
     "name": "stdout",
     "output_type": "stream",
     "text": [
      "Iteration 11, loss = 0.84018625\n",
      "Iteration 12, loss = 0.83596736\n",
      "Iteration 13, loss = 0.83185443\n",
      "Iteration 14, loss = 0.82781692\n",
      "Iteration 15, loss = 0.82391710\n",
      "Iteration 16, loss = 0.82006669\n",
      "Iteration 17, loss = 0.81628467\n",
      "Iteration 18, loss = 0.81254788\n",
      "Iteration 19, loss = 0.80886631\n",
      "Iteration 20, loss = 0.80520051\n",
      "Iteration 1, loss = 0.92815782\n",
      "Iteration 2, loss = 0.90750697\n",
      "Iteration 3, loss = 0.89179680\n",
      "Iteration 4, loss = 0.87996892\n",
      "Iteration 5, loss = 0.87058510\n",
      "Iteration 6, loss = 0.86320664\n",
      "Iteration 7, loss = 0.85686465\n",
      "Iteration 8, loss = 0.85128019\n"
     ]
    },
    {
     "name": "stderr",
     "output_type": "stream",
     "text": [
      "D:\\AI\\Anaconda3\\lib\\site-packages\\sklearn\\neural_network\\_multilayer_perceptron.py:692: ConvergenceWarning: Stochastic Optimizer: Maximum iterations (20) reached and the optimization hasn't converged yet.\n",
      "  warnings.warn(\n"
     ]
    },
    {
     "name": "stdout",
     "output_type": "stream",
     "text": [
      "Iteration 9, loss = 0.84633078\n",
      "Iteration 10, loss = 0.84173154\n",
      "Iteration 11, loss = 0.83736023\n",
      "Iteration 12, loss = 0.83317817\n",
      "Iteration 13, loss = 0.82911731\n",
      "Iteration 14, loss = 0.82513648\n",
      "Iteration 15, loss = 0.82125367\n",
      "Iteration 16, loss = 0.81744402\n",
      "Iteration 17, loss = 0.81368544\n",
      "Iteration 18, loss = 0.80994258\n",
      "Iteration 19, loss = 0.80624351\n",
      "Iteration 20, loss = 0.80251640\n",
      "Iteration 1, loss = 0.93653983\n",
      "Iteration 2, loss = 0.91524297\n",
      "Iteration 3, loss = 0.89910227\n",
      "Iteration 4, loss = 0.88697029\n",
      "Iteration 5, loss = 0.87734522\n"
     ]
    },
    {
     "name": "stderr",
     "output_type": "stream",
     "text": [
      "D:\\AI\\Anaconda3\\lib\\site-packages\\sklearn\\neural_network\\_multilayer_perceptron.py:692: ConvergenceWarning: Stochastic Optimizer: Maximum iterations (20) reached and the optimization hasn't converged yet.\n",
      "  warnings.warn(\n"
     ]
    },
    {
     "name": "stdout",
     "output_type": "stream",
     "text": [
      "Iteration 6, loss = 0.86975140\n",
      "Iteration 7, loss = 0.86327030\n",
      "Iteration 8, loss = 0.85756188\n",
      "Iteration 9, loss = 0.85249696\n",
      "Iteration 10, loss = 0.84777604\n",
      "Iteration 11, loss = 0.84333608\n",
      "Iteration 12, loss = 0.83905656\n",
      "Iteration 13, loss = 0.83488567\n",
      "Iteration 14, loss = 0.83084405\n",
      "Iteration 15, loss = 0.82684238\n",
      "Iteration 16, loss = 0.82297701\n",
      "Iteration 17, loss = 0.81912091\n",
      "Iteration 18, loss = 0.81532971\n",
      "Iteration 19, loss = 0.81154795\n",
      "Iteration 20, loss = 0.80781340\n",
      "Iteration 1, loss = 0.92778194\n",
      "Iteration 2, loss = 0.90696248\n",
      "Iteration 3, loss = 0.89119894\n",
      "Iteration 4, loss = 0.87938411\n",
      "Iteration 5, loss = 0.86991089\n",
      "Iteration 6, loss = 0.86254926\n",
      "Iteration 7, loss = 0.85619064\n",
      "Iteration 8, loss = 0.85068018\n",
      "Iteration 9, loss = 0.84573185\n",
      "Iteration 10, loss = 0.84118361\n",
      "Iteration 11, loss = 0.83682373\n",
      "Iteration 12, loss = 0.83266185\n",
      "Iteration 13, loss = 0.82856978\n",
      "Iteration 14, loss = 0.82459197\n",
      "Iteration 15, loss = 0.82062393\n",
      "Iteration 16, loss = 0.81672712\n",
      "Iteration 17, loss = 0.81277061\n",
      "Iteration 18, loss = 0.80879019\n",
      "Iteration 19, loss = 0.80464345\n",
      "Iteration 20, loss = 0.80036001\n",
      "Iteration 1, loss = 0.93307703\n",
      "Iteration 2, loss = 0.91218820\n",
      "Iteration 3, loss = 0.89622044\n",
      "Iteration 4, loss = 0.88429417\n",
      "Iteration 5, loss = 0.87477400\n",
      "Iteration 6, loss = 0.86730690\n",
      "Iteration 7, loss = 0.86085541\n",
      "Iteration 8, loss = 0.85533292\n"
     ]
    },
    {
     "name": "stderr",
     "output_type": "stream",
     "text": [
      "D:\\AI\\Anaconda3\\lib\\site-packages\\sklearn\\neural_network\\_multilayer_perceptron.py:692: ConvergenceWarning: Stochastic Optimizer: Maximum iterations (20) reached and the optimization hasn't converged yet.\n",
      "  warnings.warn(\n",
      "D:\\AI\\Anaconda3\\lib\\site-packages\\sklearn\\neural_network\\_multilayer_perceptron.py:692: ConvergenceWarning: Stochastic Optimizer: Maximum iterations (20) reached and the optimization hasn't converged yet.\n",
      "  warnings.warn(\n"
     ]
    },
    {
     "name": "stdout",
     "output_type": "stream",
     "text": [
      "Iteration 9, loss = 0.85025003\n",
      "Iteration 10, loss = 0.84564277\n",
      "Iteration 11, loss = 0.84122173\n",
      "Iteration 12, loss = 0.83696221\n",
      "Iteration 13, loss = 0.83282279\n",
      "Iteration 14, loss = 0.82880869\n",
      "Iteration 15, loss = 0.82476087\n",
      "Iteration 16, loss = 0.82088011\n",
      "Iteration 17, loss = 0.81691512\n",
      "Iteration 18, loss = 0.81302456\n",
      "Iteration 19, loss = 0.80901888\n",
      "Iteration 20, loss = 0.80493470\n",
      "Iteration 1, loss = 0.93714425\n",
      "Iteration 2, loss = 0.91606977\n",
      "Iteration 3, loss = 0.89995432\n"
     ]
    },
    {
     "name": "stderr",
     "output_type": "stream",
     "text": [
      "D:\\AI\\Anaconda3\\lib\\site-packages\\sklearn\\neural_network\\_multilayer_perceptron.py:692: ConvergenceWarning: Stochastic Optimizer: Maximum iterations (20) reached and the optimization hasn't converged yet.\n",
      "  warnings.warn(\n"
     ]
    },
    {
     "name": "stdout",
     "output_type": "stream",
     "text": [
      "Iteration 4, loss = 0.88787692\n",
      "Iteration 5, loss = 0.87815993\n",
      "Iteration 6, loss = 0.87057209\n",
      "Iteration 7, loss = 0.86398198\n",
      "Iteration 8, loss = 0.85841671\n",
      "Iteration 9, loss = 0.85324092\n",
      "Iteration 10, loss = 0.84857759\n",
      "Iteration 11, loss = 0.84410947\n",
      "Iteration 12, loss = 0.83978619\n",
      "Iteration 13, loss = 0.83562472\n",
      "Iteration 14, loss = 0.83156559\n",
      "Iteration 15, loss = 0.82749533\n",
      "Iteration 16, loss = 0.82358637\n",
      "Iteration 17, loss = 0.81963074\n",
      "Iteration 18, loss = 0.81581430\n",
      "Iteration 19, loss = 0.81189201\n",
      "Iteration 20, loss = 0.80797451\n"
     ]
    },
    {
     "name": "stderr",
     "output_type": "stream",
     "text": [
      "D:\\AI\\Anaconda3\\lib\\site-packages\\sklearn\\neural_network\\_multilayer_perceptron.py:692: ConvergenceWarning: Stochastic Optimizer: Maximum iterations (20) reached and the optimization hasn't converged yet.\n",
      "  warnings.warn(\n"
     ]
    },
    {
     "name": "stdout",
     "output_type": "stream",
     "text": [
      "Iteration 1, loss = 0.94162231\n",
      "Iteration 2, loss = 0.92022132\n",
      "Iteration 3, loss = 0.90384500\n",
      "Iteration 4, loss = 0.89158976\n",
      "Iteration 5, loss = 0.88185656\n",
      "Iteration 6, loss = 0.87419795\n",
      "Iteration 7, loss = 0.86756349\n",
      "Iteration 8, loss = 0.86192760\n",
      "Iteration 9, loss = 0.85670577\n",
      "Iteration 10, loss = 0.85195423\n",
      "Iteration 11, loss = 0.84740429\n",
      "Iteration 12, loss = 0.84303446\n",
      "Iteration 13, loss = 0.83882262\n",
      "Iteration 14, loss = 0.83470725\n",
      "Iteration 15, loss = 0.83059110\n",
      "Iteration 16, loss = 0.82664514\n",
      "Iteration 17, loss = 0.82266328\n",
      "Iteration 18, loss = 0.81880063\n",
      "Iteration 19, loss = 0.81490092\n",
      "Iteration 20, loss = 0.81098941\n",
      "Iteration 1, loss = 0.93283198\n",
      "Iteration 2, loss = 0.91197231\n",
      "Iteration 3, loss = 0.89607444\n",
      "Iteration 4, loss = 0.88374884\n",
      "Iteration 5, loss = 0.87446400\n",
      "Iteration 6, loss = 0.86681359\n",
      "Iteration 7, loss = 0.86035232\n",
      "Iteration 8, loss = 0.85481592\n",
      "Iteration 9, loss = 0.84978452\n"
     ]
    },
    {
     "name": "stderr",
     "output_type": "stream",
     "text": [
      "D:\\AI\\Anaconda3\\lib\\site-packages\\sklearn\\neural_network\\_multilayer_perceptron.py:692: ConvergenceWarning: Stochastic Optimizer: Maximum iterations (20) reached and the optimization hasn't converged yet.\n",
      "  warnings.warn(\n"
     ]
    },
    {
     "name": "stdout",
     "output_type": "stream",
     "text": [
      "Iteration 10, loss = 0.84515825\n",
      "Iteration 11, loss = 0.84065054\n",
      "Iteration 12, loss = 0.83648736\n",
      "Iteration 13, loss = 0.83238637\n",
      "Iteration 14, loss = 0.82841705\n",
      "Iteration 15, loss = 0.82443940\n",
      "Iteration 16, loss = 0.82057557\n",
      "Iteration 17, loss = 0.81678310\n",
      "Iteration 18, loss = 0.81297489\n",
      "Iteration 19, loss = 0.80921809\n",
      "Iteration 20, loss = 0.80545563\n",
      "Iteration 1, loss = 0.93359308\n",
      "Iteration 2, loss = 0.91283024\n",
      "Iteration 3, loss = 0.89700126\n",
      "Iteration 4, loss = 0.88477805\n",
      "Iteration 5, loss = 0.87550281\n",
      "Iteration 6, loss = 0.86780486\n",
      "Iteration 7, loss = 0.86138709\n",
      "Iteration 8, loss = 0.85582666\n",
      "Iteration 9, loss = 0.85076324\n",
      "Iteration 10, loss = 0.84611727\n",
      "Iteration 11, loss = 0.84160459\n",
      "Iteration 12, loss = 0.83742023\n",
      "Iteration 13, loss = 0.83330825\n",
      "Iteration 14, loss = 0.82931773\n",
      "Iteration 15, loss = 0.82532750\n",
      "Iteration 16, loss = 0.82147268\n",
      "Iteration 17, loss = 0.81767019\n"
     ]
    },
    {
     "name": "stderr",
     "output_type": "stream",
     "text": [
      "D:\\AI\\Anaconda3\\lib\\site-packages\\sklearn\\neural_network\\_multilayer_perceptron.py:692: ConvergenceWarning: Stochastic Optimizer: Maximum iterations (20) reached and the optimization hasn't converged yet.\n",
      "  warnings.warn(\n",
      "D:\\AI\\Anaconda3\\lib\\site-packages\\sklearn\\neural_network\\_multilayer_perceptron.py:692: ConvergenceWarning: Stochastic Optimizer: Maximum iterations (20) reached and the optimization hasn't converged yet.\n",
      "  warnings.warn(\n"
     ]
    },
    {
     "name": "stdout",
     "output_type": "stream",
     "text": [
      "Iteration 18, loss = 0.81383838\n",
      "Iteration 19, loss = 0.81010028\n",
      "Iteration 20, loss = 0.80634308\n",
      "Iteration 1, loss = 0.93286248\n",
      "Iteration 2, loss = 0.88285957\n",
      "Iteration 3, loss = 0.83909525\n",
      "Iteration 4, loss = 0.80810534\n",
      "Iteration 5, loss = 0.78695013\n",
      "Iteration 6, loss = 0.77324260\n",
      "Iteration 7, loss = 0.76373589\n",
      "Iteration 8, loss = 0.75647955\n",
      "Iteration 9, loss = 0.75073282\n",
      "Iteration 10, loss = 0.74537843\n",
      "Iteration 11, loss = 0.74037820\n",
      "Iteration 12, loss = 0.73561756\n",
      "Iteration 13, loss = 0.73080351\n",
      "Iteration 14, loss = 0.72603310\n",
      "Iteration 15, loss = 0.72129058\n",
      "Iteration 16, loss = 0.71690935\n",
      "Iteration 17, loss = 0.71253709\n",
      "Iteration 18, loss = 0.70789785\n",
      "Iteration 19, loss = 0.70348775\n",
      "Iteration 20, loss = 0.69889577\n",
      "Iteration 1, loss = 0.92814947\n",
      "Iteration 2, loss = 0.87813960\n",
      "Iteration 3, loss = 0.83460393\n",
      "Iteration 4, loss = 0.80405735\n",
      "Iteration 5, loss = 0.78352917\n",
      "Iteration 6, loss = 0.77038517\n",
      "Iteration 7, loss = 0.76128629\n",
      "Iteration 8, loss = 0.75441543\n",
      "Iteration 9, loss = 0.74901455\n",
      "Iteration 10, loss = 0.74409707\n",
      "Iteration 11, loss = 0.73943895\n",
      "Iteration 12, loss = 0.73497979\n",
      "Iteration 13, loss = 0.73056575\n",
      "Iteration 14, loss = 0.72626083\n",
      "Iteration 15, loss = 0.72192897\n",
      "Iteration 16, loss = 0.71788625\n",
      "Iteration 17, loss = 0.71392513\n",
      "Iteration 18, loss = 0.70993204\n",
      "Iteration 19, loss = 0.70589522\n",
      "Iteration 20, loss = 0.70167535\n",
      "Iteration 1, loss = 0.92398370\n",
      "Iteration 2, loss = 0.87607979\n",
      "Iteration 3, loss = 0.83405056\n"
     ]
    },
    {
     "name": "stderr",
     "output_type": "stream",
     "text": [
      "D:\\AI\\Anaconda3\\lib\\site-packages\\sklearn\\neural_network\\_multilayer_perceptron.py:692: ConvergenceWarning: Stochastic Optimizer: Maximum iterations (20) reached and the optimization hasn't converged yet.\n",
      "  warnings.warn(\n",
      "D:\\AI\\Anaconda3\\lib\\site-packages\\sklearn\\neural_network\\_multilayer_perceptron.py:692: ConvergenceWarning: Stochastic Optimizer: Maximum iterations (20) reached and the optimization hasn't converged yet.\n",
      "  warnings.warn(\n"
     ]
    },
    {
     "name": "stdout",
     "output_type": "stream",
     "text": [
      "Iteration 4, loss = 0.80442770\n",
      "Iteration 5, loss = 0.78394449\n",
      "Iteration 6, loss = 0.77093347\n",
      "Iteration 7, loss = 0.76169708\n",
      "Iteration 8, loss = 0.75470674\n",
      "Iteration 9, loss = 0.74922822\n",
      "Iteration 10, loss = 0.74429473\n",
      "Iteration 11, loss = 0.73961099\n",
      "Iteration 12, loss = 0.73510470\n",
      "Iteration 13, loss = 0.73071424\n",
      "Iteration 14, loss = 0.72641541\n",
      "Iteration 15, loss = 0.72208158\n",
      "Iteration 16, loss = 0.71822023\n",
      "Iteration 17, loss = 0.71442707\n",
      "Iteration 18, loss = 0.71054649\n",
      "Iteration 19, loss = 0.70677142\n",
      "Iteration 20, loss = 0.70280700\n",
      "Iteration 1, loss = 0.93176369\n",
      "Iteration 2, loss = 0.88132634\n",
      "Iteration 3, loss = 0.83751506\n"
     ]
    },
    {
     "name": "stderr",
     "output_type": "stream",
     "text": [
      "D:\\AI\\Anaconda3\\lib\\site-packages\\sklearn\\neural_network\\_multilayer_perceptron.py:692: ConvergenceWarning: Stochastic Optimizer: Maximum iterations (20) reached and the optimization hasn't converged yet.\n",
      "  warnings.warn(\n"
     ]
    },
    {
     "name": "stdout",
     "output_type": "stream",
     "text": [
      "Iteration 4, loss = 0.80675650\n",
      "Iteration 5, loss = 0.78555289\n",
      "Iteration 6, loss = 0.77212531\n",
      "Iteration 7, loss = 0.76281818\n",
      "Iteration 8, loss = 0.75568100\n",
      "Iteration 9, loss = 0.75006268\n",
      "Iteration 10, loss = 0.74496264\n",
      "Iteration 11, loss = 0.74020473\n",
      "Iteration 12, loss = 0.73557109\n",
      "Iteration 13, loss = 0.73100186\n",
      "Iteration 14, loss = 0.72659348\n",
      "Iteration 15, loss = 0.72207495\n",
      "Iteration 16, loss = 0.71787536\n",
      "Iteration 17, loss = 0.71382856\n",
      "Iteration 18, loss = 0.70968873\n",
      "Iteration 19, loss = 0.70551118\n",
      "Iteration 20, loss = 0.70129980\n"
     ]
    },
    {
     "name": "stderr",
     "output_type": "stream",
     "text": [
      "D:\\AI\\Anaconda3\\lib\\site-packages\\sklearn\\neural_network\\_multilayer_perceptron.py:692: ConvergenceWarning: Stochastic Optimizer: Maximum iterations (20) reached and the optimization hasn't converged yet.\n",
      "  warnings.warn(\n",
      "D:\\AI\\Anaconda3\\lib\\site-packages\\sklearn\\neural_network\\_multilayer_perceptron.py:692: ConvergenceWarning: Stochastic Optimizer: Maximum iterations (20) reached and the optimization hasn't converged yet.\n",
      "  warnings.warn(\n"
     ]
    },
    {
     "name": "stdout",
     "output_type": "stream",
     "text": [
      "Iteration 1, loss = 0.92335957\n",
      "Iteration 2, loss = 0.87522371\n",
      "Iteration 3, loss = 0.83328023\n",
      "Iteration 4, loss = 0.80373305\n",
      "Iteration 5, loss = 0.78288803\n",
      "Iteration 6, loss = 0.76983638\n",
      "Iteration 7, loss = 0.76060393\n",
      "Iteration 8, loss = 0.75380903\n",
      "Iteration 9, loss = 0.74837470\n",
      "Iteration 10, loss = 0.74363168\n",
      "Iteration 11, loss = 0.73895887\n",
      "Iteration 12, loss = 0.73459739\n",
      "Iteration 13, loss = 0.73020729\n",
      "Iteration 14, loss = 0.72597983\n",
      "Iteration 15, loss = 0.72161749\n",
      "Iteration 16, loss = 0.71757259\n",
      "Iteration 17, loss = 0.71368155\n",
      "Iteration 18, loss = 0.70974535\n",
      "Iteration 19, loss = 0.70572252\n",
      "Iteration 20, loss = 0.70162469\n",
      "Iteration 1, loss = 0.92846024\n",
      "Iteration 2, loss = 0.87985520\n",
      "Iteration 3, loss = 0.83702217\n",
      "Iteration 4, loss = 0.80692187\n",
      "Iteration 5, loss = 0.78580081\n",
      "Iteration 6, loss = 0.77245986\n",
      "Iteration 7, loss = 0.76291196\n",
      "Iteration 8, loss = 0.75614575\n",
      "Iteration 9, loss = 0.75036722\n",
      "Iteration 10, loss = 0.74546192\n",
      "Iteration 11, loss = 0.74062142\n",
      "Iteration 12, loss = 0.73597185\n",
      "Iteration 13, loss = 0.73142492\n",
      "Iteration 14, loss = 0.72695955\n",
      "Iteration 15, loss = 0.72231379\n",
      "Iteration 16, loss = 0.71795408\n",
      "Iteration 17, loss = 0.71361563\n",
      "Iteration 18, loss = 0.70931914\n",
      "Iteration 19, loss = 0.70496966\n",
      "Iteration 20, loss = 0.70057355\n"
     ]
    },
    {
     "name": "stderr",
     "output_type": "stream",
     "text": [
      "D:\\AI\\Anaconda3\\lib\\site-packages\\sklearn\\neural_network\\_multilayer_perceptron.py:692: ConvergenceWarning: Stochastic Optimizer: Maximum iterations (20) reached and the optimization hasn't converged yet.\n",
      "  warnings.warn(\n"
     ]
    },
    {
     "name": "stdout",
     "output_type": "stream",
     "text": [
      "Iteration 1, loss = 0.93220888\n",
      "Iteration 2, loss = 0.88259826\n",
      "Iteration 3, loss = 0.83892327\n",
      "Iteration 4, loss = 0.80820132\n",
      "Iteration 5, loss = 0.78658674\n",
      "Iteration 6, loss = 0.77305675\n",
      "Iteration 7, loss = 0.76321849\n",
      "Iteration 8, loss = 0.75647787\n",
      "Iteration 9, loss = 0.75047166\n",
      "Iteration 10, loss = 0.74538897\n",
      "Iteration 11, loss = 0.74034096\n",
      "Iteration 12, loss = 0.73544438\n",
      "Iteration 13, loss = 0.73064083\n",
      "Iteration 14, loss = 0.72586457\n",
      "Iteration 15, loss = 0.72106182\n",
      "Iteration 16, loss = 0.71668498\n",
      "Iteration 17, loss = 0.71203477\n",
      "Iteration 18, loss = 0.70734908\n",
      "Iteration 19, loss = 0.70273848\n",
      "Iteration 20, loss = 0.69819167\n",
      "Iteration 1, loss = 0.93665015\n",
      "Iteration 2, loss = 0.88573740\n",
      "Iteration 3, loss = 0.84074860\n",
      "Iteration 4, loss = 0.80925038\n",
      "Iteration 5, loss = 0.78743465\n",
      "Iteration 6, loss = 0.77380458\n",
      "Iteration 7, loss = 0.76397092\n",
      "Iteration 8, loss = 0.75727776\n",
      "Iteration 9, loss = 0.75133201\n",
      "Iteration 10, loss = 0.74632303\n",
      "Iteration 11, loss = 0.74134810\n",
      "Iteration 12, loss = 0.73667908\n",
      "Iteration 13, loss = 0.73220292\n",
      "Iteration 14, loss = 0.72779799\n",
      "Iteration 15, loss = 0.72327125\n",
      "Iteration 16, loss = 0.71902375\n"
     ]
    },
    {
     "name": "stderr",
     "output_type": "stream",
     "text": [
      "D:\\AI\\Anaconda3\\lib\\site-packages\\sklearn\\neural_network\\_multilayer_perceptron.py:692: ConvergenceWarning: Stochastic Optimizer: Maximum iterations (20) reached and the optimization hasn't converged yet.\n",
      "  warnings.warn(\n"
     ]
    },
    {
     "name": "stdout",
     "output_type": "stream",
     "text": [
      "Iteration 17, loss = 0.71494778\n",
      "Iteration 18, loss = 0.71095636\n",
      "Iteration 19, loss = 0.70679591\n",
      "Iteration 20, loss = 0.70258695\n",
      "Iteration 1, loss = 0.92802237\n",
      "Iteration 2, loss = 0.87949058\n",
      "Iteration 3, loss = 0.83685040\n",
      "Iteration 4, loss = 0.80581867\n",
      "Iteration 5, loss = 0.78574448\n",
      "Iteration 6, loss = 0.77222191\n",
      "Iteration 7, loss = 0.76269208\n",
      "Iteration 8, loss = 0.75599144\n",
      "Iteration 9, loss = 0.75045732\n",
      "Iteration 10, loss = 0.74540239\n",
      "Iteration 11, loss = 0.74044592\n",
      "Iteration 12, loss = 0.73589953\n",
      "Iteration 13, loss = 0.73133017\n"
     ]
    },
    {
     "name": "stderr",
     "output_type": "stream",
     "text": [
      "D:\\AI\\Anaconda3\\lib\\site-packages\\sklearn\\neural_network\\_multilayer_perceptron.py:692: ConvergenceWarning: Stochastic Optimizer: Maximum iterations (20) reached and the optimization hasn't converged yet.\n",
      "  warnings.warn(\n"
     ]
    },
    {
     "name": "stdout",
     "output_type": "stream",
     "text": [
      "Iteration 14, loss = 0.72693708\n",
      "Iteration 15, loss = 0.72235961\n",
      "Iteration 16, loss = 0.71801599\n",
      "Iteration 17, loss = 0.71384445\n",
      "Iteration 18, loss = 0.70948576\n",
      "Iteration 19, loss = 0.70501660\n",
      "Iteration 20, loss = 0.70075128\n",
      "Iteration 1, loss = 0.92872995\n",
      "Iteration 2, loss = 0.88059239\n",
      "Iteration 3, loss = 0.83832030\n",
      "Iteration 4, loss = 0.80763284\n",
      "Iteration 5, loss = 0.78739828\n",
      "Iteration 6, loss = 0.77358156\n",
      "Iteration 7, loss = 0.76420854\n",
      "Iteration 8, loss = 0.75755376\n",
      "Iteration 9, loss = 0.75209574\n",
      "Iteration 10, loss = 0.74726312\n",
      "Iteration 11, loss = 0.74245502\n"
     ]
    },
    {
     "name": "stderr",
     "output_type": "stream",
     "text": [
      "D:\\AI\\Anaconda3\\lib\\site-packages\\sklearn\\neural_network\\_multilayer_perceptron.py:692: ConvergenceWarning: Stochastic Optimizer: Maximum iterations (20) reached and the optimization hasn't converged yet.\n",
      "  warnings.warn(\n",
      "D:\\AI\\Anaconda3\\lib\\site-packages\\sklearn\\neural_network\\_multilayer_perceptron.py:692: ConvergenceWarning: Stochastic Optimizer: Maximum iterations (20) reached and the optimization hasn't converged yet.\n",
      "  warnings.warn(\n"
     ]
    },
    {
     "name": "stdout",
     "output_type": "stream",
     "text": [
      "Iteration 12, loss = 0.73807749\n",
      "Iteration 13, loss = 0.73367191\n",
      "Iteration 14, loss = 0.72950480\n",
      "Iteration 15, loss = 0.72509479\n",
      "Iteration 16, loss = 0.72090166\n",
      "Iteration 17, loss = 0.71704002\n",
      "Iteration 18, loss = 0.71303533\n",
      "Iteration 19, loss = 0.70892644\n",
      "Iteration 20, loss = 0.70489913\n"
     ]
    },
    {
     "name": "stderr",
     "output_type": "stream",
     "text": [
      "D:\\AI\\Anaconda3\\lib\\site-packages\\sklearn\\neural_network\\_multilayer_perceptron.py:549: ConvergenceWarning: lbfgs failed to converge (status=1):\n",
      "STOP: TOTAL NO. of ITERATIONS REACHED LIMIT.\n",
      "\n",
      "Increase the number of iterations (max_iter) or scale the data as shown in:\n",
      "    https://scikit-learn.org/stable/modules/preprocessing.html\n",
      "  self.n_iter_ = _check_optimize_result(\"lbfgs\", opt_res, self.max_iter)\n",
      "D:\\AI\\Anaconda3\\lib\\site-packages\\sklearn\\neural_network\\_multilayer_perceptron.py:549: ConvergenceWarning: lbfgs failed to converge (status=1):\n",
      "STOP: TOTAL NO. of ITERATIONS REACHED LIMIT.\n",
      "\n",
      "Increase the number of iterations (max_iter) or scale the data as shown in:\n",
      "    https://scikit-learn.org/stable/modules/preprocessing.html\n",
      "  self.n_iter_ = _check_optimize_result(\"lbfgs\", opt_res, self.max_iter)\n",
      "D:\\AI\\Anaconda3\\lib\\site-packages\\sklearn\\neural_network\\_multilayer_perceptron.py:549: ConvergenceWarning: lbfgs failed to converge (status=1):\n",
      "STOP: TOTAL NO. of ITERATIONS REACHED LIMIT.\n",
      "\n",
      "Increase the number of iterations (max_iter) or scale the data as shown in:\n",
      "    https://scikit-learn.org/stable/modules/preprocessing.html\n",
      "  self.n_iter_ = _check_optimize_result(\"lbfgs\", opt_res, self.max_iter)\n",
      "D:\\AI\\Anaconda3\\lib\\site-packages\\sklearn\\neural_network\\_multilayer_perceptron.py:549: ConvergenceWarning: lbfgs failed to converge (status=1):\n",
      "STOP: TOTAL NO. of ITERATIONS REACHED LIMIT.\n",
      "\n",
      "Increase the number of iterations (max_iter) or scale the data as shown in:\n",
      "    https://scikit-learn.org/stable/modules/preprocessing.html\n",
      "  self.n_iter_ = _check_optimize_result(\"lbfgs\", opt_res, self.max_iter)\n",
      "D:\\AI\\Anaconda3\\lib\\site-packages\\sklearn\\neural_network\\_multilayer_perceptron.py:549: ConvergenceWarning: lbfgs failed to converge (status=1):\n",
      "STOP: TOTAL NO. of ITERATIONS REACHED LIMIT.\n",
      "\n",
      "Increase the number of iterations (max_iter) or scale the data as shown in:\n",
      "    https://scikit-learn.org/stable/modules/preprocessing.html\n",
      "  self.n_iter_ = _check_optimize_result(\"lbfgs\", opt_res, self.max_iter)\n",
      "D:\\AI\\Anaconda3\\lib\\site-packages\\sklearn\\neural_network\\_multilayer_perceptron.py:549: ConvergenceWarning: lbfgs failed to converge (status=1):\n",
      "STOP: TOTAL NO. of ITERATIONS REACHED LIMIT.\n",
      "\n",
      "Increase the number of iterations (max_iter) or scale the data as shown in:\n",
      "    https://scikit-learn.org/stable/modules/preprocessing.html\n",
      "  self.n_iter_ = _check_optimize_result(\"lbfgs\", opt_res, self.max_iter)\n",
      "D:\\AI\\Anaconda3\\lib\\site-packages\\sklearn\\neural_network\\_multilayer_perceptron.py:549: ConvergenceWarning: lbfgs failed to converge (status=1):\n",
      "STOP: TOTAL NO. of ITERATIONS REACHED LIMIT.\n",
      "\n",
      "Increase the number of iterations (max_iter) or scale the data as shown in:\n",
      "    https://scikit-learn.org/stable/modules/preprocessing.html\n",
      "  self.n_iter_ = _check_optimize_result(\"lbfgs\", opt_res, self.max_iter)\n",
      "D:\\AI\\Anaconda3\\lib\\site-packages\\sklearn\\neural_network\\_multilayer_perceptron.py:549: ConvergenceWarning: lbfgs failed to converge (status=1):\n",
      "STOP: TOTAL NO. of ITERATIONS REACHED LIMIT.\n",
      "\n",
      "Increase the number of iterations (max_iter) or scale the data as shown in:\n",
      "    https://scikit-learn.org/stable/modules/preprocessing.html\n",
      "  self.n_iter_ = _check_optimize_result(\"lbfgs\", opt_res, self.max_iter)\n",
      "D:\\AI\\Anaconda3\\lib\\site-packages\\sklearn\\neural_network\\_multilayer_perceptron.py:549: ConvergenceWarning: lbfgs failed to converge (status=1):\n",
      "STOP: TOTAL NO. of ITERATIONS REACHED LIMIT.\n",
      "\n",
      "Increase the number of iterations (max_iter) or scale the data as shown in:\n",
      "    https://scikit-learn.org/stable/modules/preprocessing.html\n",
      "  self.n_iter_ = _check_optimize_result(\"lbfgs\", opt_res, self.max_iter)\n",
      "D:\\AI\\Anaconda3\\lib\\site-packages\\sklearn\\neural_network\\_multilayer_perceptron.py:549: ConvergenceWarning: lbfgs failed to converge (status=1):\n",
      "STOP: TOTAL NO. of ITERATIONS REACHED LIMIT.\n",
      "\n",
      "Increase the number of iterations (max_iter) or scale the data as shown in:\n",
      "    https://scikit-learn.org/stable/modules/preprocessing.html\n",
      "  self.n_iter_ = _check_optimize_result(\"lbfgs\", opt_res, self.max_iter)\n"
     ]
    },
    {
     "name": "stdout",
     "output_type": "stream",
     "text": [
      "Iteration 1, loss = 1.20978400\n",
      "Iteration 2, loss = 0.67464167\n",
      "Iteration 3, loss = 0.53518965\n",
      "Iteration 4, loss = 0.47281408\n",
      "Iteration 5, loss = 0.43236043\n",
      "Iteration 6, loss = 0.40407232\n",
      "Iteration 7, loss = 0.38176138\n",
      "Iteration 8, loss = 0.36330523\n",
      "Iteration 9, loss = 0.34745434\n",
      "Iteration 10, loss = 0.33369375\n",
      "Iteration 11, loss = 0.32148529\n",
      "Iteration 12, loss = 0.31032768\n",
      "Iteration 13, loss = 0.30011745\n",
      "Iteration 14, loss = 0.28991790\n",
      "Iteration 15, loss = 0.28183235\n",
      "Iteration 16, loss = 0.27335326\n",
      "Iteration 17, loss = 0.26507806\n",
      "Iteration 18, loss = 0.25831141\n",
      "Iteration 19, loss = 0.25100127\n",
      "Iteration 20, loss = 0.24377841\n",
      "Iteration 1, loss = 1.21902469\n",
      "Iteration 2, loss = 0.67935259\n"
     ]
    },
    {
     "name": "stderr",
     "output_type": "stream",
     "text": [
      "D:\\AI\\Anaconda3\\lib\\site-packages\\sklearn\\neural_network\\_multilayer_perceptron.py:692: ConvergenceWarning: Stochastic Optimizer: Maximum iterations (20) reached and the optimization hasn't converged yet.\n",
      "  warnings.warn(\n"
     ]
    },
    {
     "name": "stdout",
     "output_type": "stream",
     "text": [
      "Iteration 3, loss = 0.53822885\n",
      "Iteration 4, loss = 0.47451731\n",
      "Iteration 5, loss = 0.43401239\n",
      "Iteration 6, loss = 0.40561102\n",
      "Iteration 7, loss = 0.38300921\n",
      "Iteration 8, loss = 0.36429611\n",
      "Iteration 9, loss = 0.34846579\n",
      "Iteration 10, loss = 0.33454830\n",
      "Iteration 11, loss = 0.32217376\n",
      "Iteration 12, loss = 0.31078726\n",
      "Iteration 13, loss = 0.30065911\n",
      "Iteration 14, loss = 0.29018112\n",
      "Iteration 15, loss = 0.28192078\n",
      "Iteration 16, loss = 0.27369942\n",
      "Iteration 17, loss = 0.26542874\n",
      "Iteration 18, loss = 0.25794208\n",
      "Iteration 19, loss = 0.25070203\n",
      "Iteration 20, loss = 0.24330046\n",
      "Iteration 1, loss = 1.21580450\n",
      "Iteration 2, loss = 0.67872567\n",
      "Iteration 3, loss = 0.53934400\n",
      "Iteration 4, loss = 0.47712108\n",
      "Iteration 5, loss = 0.43732865\n"
     ]
    },
    {
     "name": "stderr",
     "output_type": "stream",
     "text": [
      "D:\\AI\\Anaconda3\\lib\\site-packages\\sklearn\\neural_network\\_multilayer_perceptron.py:692: ConvergenceWarning: Stochastic Optimizer: Maximum iterations (20) reached and the optimization hasn't converged yet.\n",
      "  warnings.warn(\n"
     ]
    },
    {
     "name": "stdout",
     "output_type": "stream",
     "text": [
      "Iteration 6, loss = 0.40889763\n",
      "Iteration 7, loss = 0.38651383\n",
      "Iteration 8, loss = 0.36797364\n",
      "Iteration 9, loss = 0.35199310\n",
      "Iteration 10, loss = 0.33777625\n",
      "Iteration 11, loss = 0.32558439\n",
      "Iteration 12, loss = 0.31432262\n",
      "Iteration 13, loss = 0.30415826\n",
      "Iteration 14, loss = 0.29338553\n",
      "Iteration 15, loss = 0.28486536\n",
      "Iteration 16, loss = 0.27658131\n",
      "Iteration 17, loss = 0.26808855\n",
      "Iteration 18, loss = 0.26031386\n",
      "Iteration 19, loss = 0.25314153\n",
      "Iteration 20, loss = 0.24581023\n"
     ]
    },
    {
     "name": "stderr",
     "output_type": "stream",
     "text": [
      "D:\\AI\\Anaconda3\\lib\\site-packages\\sklearn\\neural_network\\_multilayer_perceptron.py:692: ConvergenceWarning: Stochastic Optimizer: Maximum iterations (20) reached and the optimization hasn't converged yet.\n",
      "  warnings.warn(\n"
     ]
    },
    {
     "name": "stdout",
     "output_type": "stream",
     "text": [
      "Iteration 1, loss = 1.19934466\n",
      "Iteration 2, loss = 0.67172211\n",
      "Iteration 3, loss = 0.53565158\n",
      "Iteration 4, loss = 0.47178032\n",
      "Iteration 5, loss = 0.43122737\n",
      "Iteration 6, loss = 0.40233699\n",
      "Iteration 7, loss = 0.37985418\n",
      "Iteration 8, loss = 0.36119236\n",
      "Iteration 9, loss = 0.34510906\n",
      "Iteration 10, loss = 0.33103827\n",
      "Iteration 11, loss = 0.31879853\n",
      "Iteration 12, loss = 0.30731177\n",
      "Iteration 13, loss = 0.29712736\n",
      "Iteration 14, loss = 0.28714413\n",
      "Iteration 15, loss = 0.27854591\n",
      "Iteration 16, loss = 0.27054436\n",
      "Iteration 17, loss = 0.26224819\n",
      "Iteration 18, loss = 0.25491211\n",
      "Iteration 19, loss = 0.24766958\n",
      "Iteration 20, loss = 0.24083346\n",
      "Iteration 1, loss = 1.21660706\n"
     ]
    },
    {
     "name": "stderr",
     "output_type": "stream",
     "text": [
      "D:\\AI\\Anaconda3\\lib\\site-packages\\sklearn\\neural_network\\_multilayer_perceptron.py:692: ConvergenceWarning: Stochastic Optimizer: Maximum iterations (20) reached and the optimization hasn't converged yet.\n",
      "  warnings.warn(\n"
     ]
    },
    {
     "name": "stdout",
     "output_type": "stream",
     "text": [
      "Iteration 2, loss = 0.67426459\n",
      "Iteration 3, loss = 0.53527903\n",
      "Iteration 4, loss = 0.47222191\n",
      "Iteration 5, loss = 0.43232749\n",
      "Iteration 6, loss = 0.40415304\n",
      "Iteration 7, loss = 0.38201632\n",
      "Iteration 8, loss = 0.36401039\n",
      "Iteration 9, loss = 0.34840480\n",
      "Iteration 10, loss = 0.33419537\n",
      "Iteration 11, loss = 0.32205014\n",
      "Iteration 12, loss = 0.31081985\n",
      "Iteration 13, loss = 0.30062235\n",
      "Iteration 14, loss = 0.29067472\n",
      "Iteration 15, loss = 0.28182885\n",
      "Iteration 16, loss = 0.27407569\n",
      "Iteration 17, loss = 0.26544925\n",
      "Iteration 18, loss = 0.25780854\n",
      "Iteration 19, loss = 0.25072135\n",
      "Iteration 20, loss = 0.24367696\n",
      "Iteration 1, loss = 1.20898805\n",
      "Iteration 2, loss = 0.67378849\n",
      "Iteration 3, loss = 0.53561321\n",
      "Iteration 4, loss = 0.47196889\n",
      "Iteration 5, loss = 0.43170473\n",
      "Iteration 6, loss = 0.40320589\n"
     ]
    },
    {
     "name": "stderr",
     "output_type": "stream",
     "text": [
      "D:\\AI\\Anaconda3\\lib\\site-packages\\sklearn\\neural_network\\_multilayer_perceptron.py:692: ConvergenceWarning: Stochastic Optimizer: Maximum iterations (20) reached and the optimization hasn't converged yet.\n",
      "  warnings.warn(\n"
     ]
    },
    {
     "name": "stdout",
     "output_type": "stream",
     "text": [
      "Iteration 7, loss = 0.38096355\n",
      "Iteration 8, loss = 0.36274940\n",
      "Iteration 9, loss = 0.34726609\n",
      "Iteration 10, loss = 0.33281883\n",
      "Iteration 11, loss = 0.32072204\n",
      "Iteration 12, loss = 0.30988731\n",
      "Iteration 13, loss = 0.29956715\n",
      "Iteration 14, loss = 0.28962987\n",
      "Iteration 15, loss = 0.28059463\n",
      "Iteration 16, loss = 0.27290966\n",
      "Iteration 17, loss = 0.26451145\n",
      "Iteration 18, loss = 0.25702200\n",
      "Iteration 19, loss = 0.25005665\n",
      "Iteration 20, loss = 0.24296064\n",
      "Iteration 1, loss = 1.20032673\n"
     ]
    },
    {
     "name": "stderr",
     "output_type": "stream",
     "text": [
      "D:\\AI\\Anaconda3\\lib\\site-packages\\sklearn\\neural_network\\_multilayer_perceptron.py:692: ConvergenceWarning: Stochastic Optimizer: Maximum iterations (20) reached and the optimization hasn't converged yet.\n",
      "  warnings.warn(\n"
     ]
    },
    {
     "name": "stdout",
     "output_type": "stream",
     "text": [
      "Iteration 2, loss = 0.67016759\n",
      "Iteration 3, loss = 0.53370330\n",
      "Iteration 4, loss = 0.46955798\n",
      "Iteration 5, loss = 0.42925057\n",
      "Iteration 6, loss = 0.40060262\n",
      "Iteration 7, loss = 0.37803281\n",
      "Iteration 8, loss = 0.35941435\n",
      "Iteration 9, loss = 0.34347487\n",
      "Iteration 10, loss = 0.32868487\n",
      "Iteration 11, loss = 0.31619661\n",
      "Iteration 12, loss = 0.30492047\n",
      "Iteration 13, loss = 0.29466256\n",
      "Iteration 14, loss = 0.28471966\n",
      "Iteration 15, loss = 0.27613568\n",
      "Iteration 16, loss = 0.26846401\n",
      "Iteration 17, loss = 0.25996991\n",
      "Iteration 18, loss = 0.25249108\n",
      "Iteration 19, loss = 0.24565566\n",
      "Iteration 20, loss = 0.23889886\n",
      "Iteration 1, loss = 1.18673239\n"
     ]
    },
    {
     "name": "stderr",
     "output_type": "stream",
     "text": [
      "D:\\AI\\Anaconda3\\lib\\site-packages\\sklearn\\neural_network\\_multilayer_perceptron.py:692: ConvergenceWarning: Stochastic Optimizer: Maximum iterations (20) reached and the optimization hasn't converged yet.\n",
      "  warnings.warn(\n"
     ]
    },
    {
     "name": "stdout",
     "output_type": "stream",
     "text": [
      "Iteration 2, loss = 0.66719897\n",
      "Iteration 3, loss = 0.53569125\n",
      "Iteration 4, loss = 0.47185197\n",
      "Iteration 5, loss = 0.43152748\n",
      "Iteration 6, loss = 0.40266406\n",
      "Iteration 7, loss = 0.38015519\n",
      "Iteration 8, loss = 0.36193100\n",
      "Iteration 9, loss = 0.34578170\n",
      "Iteration 10, loss = 0.33162979\n",
      "Iteration 11, loss = 0.31936751\n",
      "Iteration 12, loss = 0.30806925\n",
      "Iteration 13, loss = 0.29797202\n",
      "Iteration 14, loss = 0.28807734\n",
      "Iteration 15, loss = 0.27946312\n",
      "Iteration 16, loss = 0.27157034\n",
      "Iteration 17, loss = 0.26289298\n",
      "Iteration 18, loss = 0.25557597\n",
      "Iteration 19, loss = 0.24844188\n",
      "Iteration 20, loss = 0.24205024\n",
      "Iteration 1, loss = 1.20193093\n",
      "Iteration 2, loss = 0.67081464\n",
      "Iteration 3, loss = 0.53400146\n",
      "Iteration 4, loss = 0.47105276\n",
      "Iteration 5, loss = 0.43132553\n"
     ]
    },
    {
     "name": "stderr",
     "output_type": "stream",
     "text": [
      "D:\\AI\\Anaconda3\\lib\\site-packages\\sklearn\\neural_network\\_multilayer_perceptron.py:692: ConvergenceWarning: Stochastic Optimizer: Maximum iterations (20) reached and the optimization hasn't converged yet.\n",
      "  warnings.warn(\n"
     ]
    },
    {
     "name": "stdout",
     "output_type": "stream",
     "text": [
      "Iteration 6, loss = 0.40337762\n",
      "Iteration 7, loss = 0.38094667\n",
      "Iteration 8, loss = 0.36239824\n",
      "Iteration 9, loss = 0.34693767\n",
      "Iteration 10, loss = 0.33345339\n",
      "Iteration 11, loss = 0.32132205\n",
      "Iteration 12, loss = 0.30955722\n",
      "Iteration 13, loss = 0.29946988\n",
      "Iteration 14, loss = 0.29024520\n",
      "Iteration 15, loss = 0.28123456\n",
      "Iteration 16, loss = 0.27346543\n",
      "Iteration 17, loss = 0.26531594\n",
      "Iteration 18, loss = 0.25766819\n",
      "Iteration 19, loss = 0.25037699\n",
      "Iteration 20, loss = 0.24354216\n"
     ]
    },
    {
     "name": "stderr",
     "output_type": "stream",
     "text": [
      "D:\\AI\\Anaconda3\\lib\\site-packages\\sklearn\\neural_network\\_multilayer_perceptron.py:692: ConvergenceWarning: Stochastic Optimizer: Maximum iterations (20) reached and the optimization hasn't converged yet.\n",
      "  warnings.warn(\n"
     ]
    },
    {
     "name": "stdout",
     "output_type": "stream",
     "text": [
      "Iteration 1, loss = 1.19975305\n",
      "Iteration 2, loss = 0.67201062\n",
      "Iteration 3, loss = 0.53839469\n",
      "Iteration 4, loss = 0.47584813\n",
      "Iteration 5, loss = 0.43641488\n",
      "Iteration 6, loss = 0.40867530\n",
      "Iteration 7, loss = 0.38655250\n",
      "Iteration 8, loss = 0.36801443\n",
      "Iteration 9, loss = 0.35229969\n",
      "Iteration 10, loss = 0.33845571\n",
      "Iteration 11, loss = 0.32626387\n",
      "Iteration 12, loss = 0.31453047\n",
      "Iteration 13, loss = 0.30429698\n",
      "Iteration 14, loss = 0.29517793\n",
      "Iteration 15, loss = 0.28607353\n",
      "Iteration 16, loss = 0.27822710\n",
      "Iteration 17, loss = 0.27018053\n",
      "Iteration 18, loss = 0.26220691\n",
      "Iteration 19, loss = 0.25493052\n",
      "Iteration 20, loss = 0.24802087\n",
      "Iteration 1, loss = 1.30943129\n",
      "Iteration 2, loss = 0.81570631\n",
      "Iteration 3, loss = 0.74024115\n",
      "Iteration 4, loss = 0.69721350\n"
     ]
    },
    {
     "name": "stderr",
     "output_type": "stream",
     "text": [
      "D:\\AI\\Anaconda3\\lib\\site-packages\\sklearn\\neural_network\\_multilayer_perceptron.py:692: ConvergenceWarning: Stochastic Optimizer: Maximum iterations (20) reached and the optimization hasn't converged yet.\n",
      "  warnings.warn(\n"
     ]
    },
    {
     "name": "stdout",
     "output_type": "stream",
     "text": [
      "Iteration 5, loss = 0.67051764\n",
      "Iteration 6, loss = 0.65021912\n",
      "Iteration 7, loss = 0.63373660\n",
      "Iteration 8, loss = 0.61970818\n",
      "Iteration 9, loss = 0.60661189\n",
      "Iteration 10, loss = 0.59576201\n",
      "Iteration 11, loss = 0.58537784\n",
      "Iteration 12, loss = 0.57614651\n",
      "Iteration 13, loss = 0.56764106\n",
      "Iteration 14, loss = 0.55972655\n",
      "Iteration 15, loss = 0.55250226\n",
      "Iteration 16, loss = 0.54548523\n",
      "Iteration 17, loss = 0.53870391\n",
      "Iteration 18, loss = 0.53285335\n",
      "Iteration 19, loss = 0.52718420\n",
      "Iteration 20, loss = 0.52129051\n",
      "Iteration 1, loss = 1.31921421\n",
      "Iteration 2, loss = 0.82145746\n"
     ]
    },
    {
     "name": "stderr",
     "output_type": "stream",
     "text": [
      "D:\\AI\\Anaconda3\\lib\\site-packages\\sklearn\\neural_network\\_multilayer_perceptron.py:692: ConvergenceWarning: Stochastic Optimizer: Maximum iterations (20) reached and the optimization hasn't converged yet.\n",
      "  warnings.warn(\n"
     ]
    },
    {
     "name": "stdout",
     "output_type": "stream",
     "text": [
      "Iteration 3, loss = 0.74660490\n",
      "Iteration 4, loss = 0.70278061\n",
      "Iteration 5, loss = 0.67638414\n",
      "Iteration 6, loss = 0.65609839\n",
      "Iteration 7, loss = 0.63971655\n",
      "Iteration 8, loss = 0.62571222\n",
      "Iteration 9, loss = 0.61285581\n",
      "Iteration 10, loss = 0.60212330\n",
      "Iteration 11, loss = 0.59169000\n",
      "Iteration 12, loss = 0.58266722\n",
      "Iteration 13, loss = 0.57426914\n",
      "Iteration 14, loss = 0.56605773\n",
      "Iteration 15, loss = 0.55888752\n",
      "Iteration 16, loss = 0.55194157\n",
      "Iteration 17, loss = 0.54513951\n",
      "Iteration 18, loss = 0.53919906\n",
      "Iteration 19, loss = 0.53324457\n",
      "Iteration 20, loss = 0.52734027\n",
      "Iteration 1, loss = 1.31799620\n",
      "Iteration 2, loss = 0.81949058\n",
      "Iteration 3, loss = 0.74609498\n",
      "Iteration 4, loss = 0.70336816\n",
      "Iteration 5, loss = 0.67758796\n"
     ]
    },
    {
     "name": "stderr",
     "output_type": "stream",
     "text": [
      "D:\\AI\\Anaconda3\\lib\\site-packages\\sklearn\\neural_network\\_multilayer_perceptron.py:692: ConvergenceWarning: Stochastic Optimizer: Maximum iterations (20) reached and the optimization hasn't converged yet.\n",
      "  warnings.warn(\n"
     ]
    },
    {
     "name": "stdout",
     "output_type": "stream",
     "text": [
      "Iteration 6, loss = 0.65747144\n",
      "Iteration 7, loss = 0.64126203\n",
      "Iteration 8, loss = 0.62738366\n",
      "Iteration 9, loss = 0.61471146\n",
      "Iteration 10, loss = 0.60392359\n",
      "Iteration 11, loss = 0.59386058\n",
      "Iteration 12, loss = 0.58504772\n",
      "Iteration 13, loss = 0.57680212\n",
      "Iteration 14, loss = 0.56851710\n",
      "Iteration 15, loss = 0.56130000\n",
      "Iteration 16, loss = 0.55441298\n",
      "Iteration 17, loss = 0.54781225\n",
      "Iteration 18, loss = 0.54193463\n",
      "Iteration 19, loss = 0.53596221\n",
      "Iteration 20, loss = 0.53021982\n",
      "Iteration 1, loss = 1.30468456\n"
     ]
    },
    {
     "name": "stderr",
     "output_type": "stream",
     "text": [
      "D:\\AI\\Anaconda3\\lib\\site-packages\\sklearn\\neural_network\\_multilayer_perceptron.py:692: ConvergenceWarning: Stochastic Optimizer: Maximum iterations (20) reached and the optimization hasn't converged yet.\n",
      "  warnings.warn(\n"
     ]
    },
    {
     "name": "stdout",
     "output_type": "stream",
     "text": [
      "Iteration 2, loss = 0.81749249\n",
      "Iteration 3, loss = 0.74454582\n",
      "Iteration 4, loss = 0.70118099\n",
      "Iteration 5, loss = 0.67475336\n",
      "Iteration 6, loss = 0.65456043\n",
      "Iteration 7, loss = 0.63785840\n",
      "Iteration 8, loss = 0.62355777\n",
      "Iteration 9, loss = 0.61063062\n",
      "Iteration 10, loss = 0.59941618\n",
      "Iteration 11, loss = 0.58911469\n",
      "Iteration 12, loss = 0.58005705\n",
      "Iteration 13, loss = 0.57147314\n",
      "Iteration 14, loss = 0.56305525\n",
      "Iteration 15, loss = 0.55573235\n",
      "Iteration 16, loss = 0.54845558\n",
      "Iteration 17, loss = 0.54184770\n",
      "Iteration 18, loss = 0.53568470\n",
      "Iteration 19, loss = 0.52948528\n",
      "Iteration 20, loss = 0.52367330\n",
      "Iteration 1, loss = 1.32149981\n",
      "Iteration 2, loss = 0.81874775\n",
      "Iteration 3, loss = 0.74620104\n",
      "Iteration 4, loss = 0.70169899\n",
      "Iteration 5, loss = 0.67515108\n",
      "Iteration 6, loss = 0.65457896\n"
     ]
    },
    {
     "name": "stderr",
     "output_type": "stream",
     "text": [
      "D:\\AI\\Anaconda3\\lib\\site-packages\\sklearn\\neural_network\\_multilayer_perceptron.py:692: ConvergenceWarning: Stochastic Optimizer: Maximum iterations (20) reached and the optimization hasn't converged yet.\n",
      "  warnings.warn(\n"
     ]
    },
    {
     "name": "stdout",
     "output_type": "stream",
     "text": [
      "Iteration 7, loss = 0.63776048\n",
      "Iteration 8, loss = 0.62339292\n",
      "Iteration 9, loss = 0.61057735\n",
      "Iteration 10, loss = 0.59906209\n",
      "Iteration 11, loss = 0.58890556\n",
      "Iteration 12, loss = 0.57977211\n",
      "Iteration 13, loss = 0.57120526\n",
      "Iteration 14, loss = 0.56289483\n",
      "Iteration 15, loss = 0.55551604\n",
      "Iteration 16, loss = 0.54843708\n",
      "Iteration 17, loss = 0.54186496\n",
      "Iteration 18, loss = 0.53573900\n",
      "Iteration 19, loss = 0.52964488\n",
      "Iteration 20, loss = 0.52396762\n"
     ]
    },
    {
     "name": "stderr",
     "output_type": "stream",
     "text": [
      "D:\\AI\\Anaconda3\\lib\\site-packages\\sklearn\\neural_network\\_multilayer_perceptron.py:692: ConvergenceWarning: Stochastic Optimizer: Maximum iterations (20) reached and the optimization hasn't converged yet.\n",
      "  warnings.warn(\n"
     ]
    },
    {
     "name": "stdout",
     "output_type": "stream",
     "text": [
      "Iteration 1, loss = 1.31463457\n",
      "Iteration 2, loss = 0.81971921\n",
      "Iteration 3, loss = 0.74686081\n",
      "Iteration 4, loss = 0.70308738\n",
      "Iteration 5, loss = 0.67711584\n",
      "Iteration 6, loss = 0.65688749\n",
      "Iteration 7, loss = 0.64053085\n",
      "Iteration 8, loss = 0.62638241\n",
      "Iteration 9, loss = 0.61406918\n",
      "Iteration 10, loss = 0.60261948\n",
      "Iteration 11, loss = 0.59274284\n",
      "Iteration 12, loss = 0.58383950\n",
      "Iteration 13, loss = 0.57494538\n",
      "Iteration 14, loss = 0.56678625\n",
      "Iteration 15, loss = 0.55951653\n",
      "Iteration 16, loss = 0.55221422\n",
      "Iteration 17, loss = 0.54574758\n",
      "Iteration 18, loss = 0.53954565\n",
      "Iteration 19, loss = 0.53346227\n",
      "Iteration 20, loss = 0.52767346\n",
      "Iteration 1, loss = 1.31068019\n"
     ]
    },
    {
     "name": "stderr",
     "output_type": "stream",
     "text": [
      "D:\\AI\\Anaconda3\\lib\\site-packages\\sklearn\\neural_network\\_multilayer_perceptron.py:692: ConvergenceWarning: Stochastic Optimizer: Maximum iterations (20) reached and the optimization hasn't converged yet.\n",
      "  warnings.warn(\n"
     ]
    },
    {
     "name": "stdout",
     "output_type": "stream",
     "text": [
      "Iteration 2, loss = 0.81716315\n",
      "Iteration 3, loss = 0.74360749\n",
      "Iteration 4, loss = 0.69895899\n",
      "Iteration 5, loss = 0.67263108\n",
      "Iteration 6, loss = 0.65245069\n",
      "Iteration 7, loss = 0.63595227\n",
      "Iteration 8, loss = 0.62180467\n",
      "Iteration 9, loss = 0.60982728\n",
      "Iteration 10, loss = 0.59817179\n",
      "Iteration 11, loss = 0.58835778\n",
      "Iteration 12, loss = 0.57936779\n",
      "Iteration 13, loss = 0.57081134\n",
      "Iteration 14, loss = 0.56293563\n",
      "Iteration 15, loss = 0.55588767\n",
      "Iteration 16, loss = 0.54861527\n",
      "Iteration 17, loss = 0.54232438\n",
      "Iteration 18, loss = 0.53610805\n",
      "Iteration 19, loss = 0.53012931\n",
      "Iteration 20, loss = 0.52470326\n",
      "Iteration 1, loss = 1.30134830\n",
      "Iteration 2, loss = 0.81651375\n",
      "Iteration 3, loss = 0.74584852\n"
     ]
    },
    {
     "name": "stderr",
     "output_type": "stream",
     "text": [
      "D:\\AI\\Anaconda3\\lib\\site-packages\\sklearn\\neural_network\\_multilayer_perceptron.py:692: ConvergenceWarning: Stochastic Optimizer: Maximum iterations (20) reached and the optimization hasn't converged yet.\n",
      "  warnings.warn(\n"
     ]
    },
    {
     "name": "stdout",
     "output_type": "stream",
     "text": [
      "Iteration 4, loss = 0.70193606\n",
      "Iteration 5, loss = 0.67572002\n",
      "Iteration 6, loss = 0.65544005\n",
      "Iteration 7, loss = 0.63890231\n",
      "Iteration 8, loss = 0.62465892\n",
      "Iteration 9, loss = 0.61228853\n",
      "Iteration 10, loss = 0.60083680\n",
      "Iteration 11, loss = 0.59092003\n",
      "Iteration 12, loss = 0.58169548\n",
      "Iteration 13, loss = 0.57318590\n",
      "Iteration 14, loss = 0.56512418\n",
      "Iteration 15, loss = 0.55795092\n",
      "Iteration 16, loss = 0.55066904\n",
      "Iteration 17, loss = 0.54422497\n",
      "Iteration 18, loss = 0.53787455\n",
      "Iteration 19, loss = 0.53193039\n",
      "Iteration 20, loss = 0.52652800\n",
      "Iteration 1, loss = 1.31270784\n",
      "Iteration 2, loss = 0.81863996\n"
     ]
    },
    {
     "name": "stderr",
     "output_type": "stream",
     "text": [
      "D:\\AI\\Anaconda3\\lib\\site-packages\\sklearn\\neural_network\\_multilayer_perceptron.py:692: ConvergenceWarning: Stochastic Optimizer: Maximum iterations (20) reached and the optimization hasn't converged yet.\n",
      "  warnings.warn(\n"
     ]
    },
    {
     "name": "stdout",
     "output_type": "stream",
     "text": [
      "Iteration 3, loss = 0.74183265\n",
      "Iteration 4, loss = 0.69809513\n",
      "Iteration 5, loss = 0.67152531\n",
      "Iteration 6, loss = 0.65134291\n",
      "Iteration 7, loss = 0.63486715\n",
      "Iteration 8, loss = 0.62070998\n",
      "Iteration 9, loss = 0.60831120\n",
      "Iteration 10, loss = 0.59706982\n",
      "Iteration 11, loss = 0.58699119\n",
      "Iteration 12, loss = 0.57755300\n",
      "Iteration 13, loss = 0.56896301\n",
      "Iteration 14, loss = 0.56082406\n",
      "Iteration 15, loss = 0.55356399\n",
      "Iteration 16, loss = 0.54641633\n",
      "Iteration 17, loss = 0.53991221\n",
      "Iteration 18, loss = 0.53359149\n",
      "Iteration 19, loss = 0.52770799\n",
      "Iteration 20, loss = 0.52196311\n"
     ]
    },
    {
     "name": "stderr",
     "output_type": "stream",
     "text": [
      "D:\\AI\\Anaconda3\\lib\\site-packages\\sklearn\\neural_network\\_multilayer_perceptron.py:692: ConvergenceWarning: Stochastic Optimizer: Maximum iterations (20) reached and the optimization hasn't converged yet.\n",
      "  warnings.warn(\n"
     ]
    },
    {
     "name": "stdout",
     "output_type": "stream",
     "text": [
      "Iteration 1, loss = 1.31476962\n",
      "Iteration 2, loss = 0.82244327\n",
      "Iteration 3, loss = 0.74937927\n",
      "Iteration 4, loss = 0.70624558\n",
      "Iteration 5, loss = 0.67938676\n",
      "Iteration 6, loss = 0.65913456\n",
      "Iteration 7, loss = 0.64253475\n",
      "Iteration 8, loss = 0.62844140\n",
      "Iteration 9, loss = 0.61588398\n",
      "Iteration 10, loss = 0.60448672\n",
      "Iteration 11, loss = 0.59445239\n",
      "Iteration 12, loss = 0.58501968\n",
      "Iteration 13, loss = 0.57633627\n",
      "Iteration 14, loss = 0.56829129\n",
      "Iteration 15, loss = 0.56084051\n",
      "Iteration 16, loss = 0.55363656\n",
      "Iteration 17, loss = 0.54697402\n",
      "Iteration 18, loss = 0.54067726\n",
      "Iteration 19, loss = 0.53467031\n",
      "Iteration 20, loss = 0.52871820\n"
     ]
    },
    {
     "name": "stderr",
     "output_type": "stream",
     "text": [
      "D:\\AI\\Anaconda3\\lib\\site-packages\\sklearn\\neural_network\\_multilayer_perceptron.py:692: ConvergenceWarning: Stochastic Optimizer: Maximum iterations (20) reached and the optimization hasn't converged yet.\n",
      "  warnings.warn(\n",
      "D:\\AI\\Anaconda3\\lib\\site-packages\\sklearn\\neural_network\\_multilayer_perceptron.py:549: ConvergenceWarning: lbfgs failed to converge (status=1):\n",
      "STOP: TOTAL NO. of ITERATIONS REACHED LIMIT.\n",
      "\n",
      "Increase the number of iterations (max_iter) or scale the data as shown in:\n",
      "    https://scikit-learn.org/stable/modules/preprocessing.html\n",
      "  self.n_iter_ = _check_optimize_result(\"lbfgs\", opt_res, self.max_iter)\n",
      "D:\\AI\\Anaconda3\\lib\\site-packages\\sklearn\\neural_network\\_multilayer_perceptron.py:549: ConvergenceWarning: lbfgs failed to converge (status=1):\n",
      "STOP: TOTAL NO. of ITERATIONS REACHED LIMIT.\n",
      "\n",
      "Increase the number of iterations (max_iter) or scale the data as shown in:\n",
      "    https://scikit-learn.org/stable/modules/preprocessing.html\n",
      "  self.n_iter_ = _check_optimize_result(\"lbfgs\", opt_res, self.max_iter)\n",
      "D:\\AI\\Anaconda3\\lib\\site-packages\\sklearn\\neural_network\\_multilayer_perceptron.py:549: ConvergenceWarning: lbfgs failed to converge (status=1):\n",
      "STOP: TOTAL NO. of ITERATIONS REACHED LIMIT.\n",
      "\n",
      "Increase the number of iterations (max_iter) or scale the data as shown in:\n",
      "    https://scikit-learn.org/stable/modules/preprocessing.html\n",
      "  self.n_iter_ = _check_optimize_result(\"lbfgs\", opt_res, self.max_iter)\n",
      "D:\\AI\\Anaconda3\\lib\\site-packages\\sklearn\\neural_network\\_multilayer_perceptron.py:549: ConvergenceWarning: lbfgs failed to converge (status=1):\n",
      "STOP: TOTAL NO. of ITERATIONS REACHED LIMIT.\n",
      "\n",
      "Increase the number of iterations (max_iter) or scale the data as shown in:\n",
      "    https://scikit-learn.org/stable/modules/preprocessing.html\n",
      "  self.n_iter_ = _check_optimize_result(\"lbfgs\", opt_res, self.max_iter)\n",
      "D:\\AI\\Anaconda3\\lib\\site-packages\\sklearn\\neural_network\\_multilayer_perceptron.py:549: ConvergenceWarning: lbfgs failed to converge (status=1):\n",
      "STOP: TOTAL NO. of ITERATIONS REACHED LIMIT.\n",
      "\n",
      "Increase the number of iterations (max_iter) or scale the data as shown in:\n",
      "    https://scikit-learn.org/stable/modules/preprocessing.html\n",
      "  self.n_iter_ = _check_optimize_result(\"lbfgs\", opt_res, self.max_iter)\n",
      "D:\\AI\\Anaconda3\\lib\\site-packages\\sklearn\\neural_network\\_multilayer_perceptron.py:549: ConvergenceWarning: lbfgs failed to converge (status=1):\n",
      "STOP: TOTAL NO. of ITERATIONS REACHED LIMIT.\n",
      "\n",
      "Increase the number of iterations (max_iter) or scale the data as shown in:\n",
      "    https://scikit-learn.org/stable/modules/preprocessing.html\n",
      "  self.n_iter_ = _check_optimize_result(\"lbfgs\", opt_res, self.max_iter)\n",
      "D:\\AI\\Anaconda3\\lib\\site-packages\\sklearn\\neural_network\\_multilayer_perceptron.py:549: ConvergenceWarning: lbfgs failed to converge (status=1):\n",
      "STOP: TOTAL NO. of ITERATIONS REACHED LIMIT.\n",
      "\n",
      "Increase the number of iterations (max_iter) or scale the data as shown in:\n",
      "    https://scikit-learn.org/stable/modules/preprocessing.html\n",
      "  self.n_iter_ = _check_optimize_result(\"lbfgs\", opt_res, self.max_iter)\n",
      "D:\\AI\\Anaconda3\\lib\\site-packages\\sklearn\\neural_network\\_multilayer_perceptron.py:549: ConvergenceWarning: lbfgs failed to converge (status=1):\n",
      "STOP: TOTAL NO. of ITERATIONS REACHED LIMIT.\n",
      "\n",
      "Increase the number of iterations (max_iter) or scale the data as shown in:\n",
      "    https://scikit-learn.org/stable/modules/preprocessing.html\n",
      "  self.n_iter_ = _check_optimize_result(\"lbfgs\", opt_res, self.max_iter)\n",
      "D:\\AI\\Anaconda3\\lib\\site-packages\\sklearn\\neural_network\\_multilayer_perceptron.py:549: ConvergenceWarning: lbfgs failed to converge (status=1):\n",
      "STOP: TOTAL NO. of ITERATIONS REACHED LIMIT.\n",
      "\n",
      "Increase the number of iterations (max_iter) or scale the data as shown in:\n",
      "    https://scikit-learn.org/stable/modules/preprocessing.html\n",
      "  self.n_iter_ = _check_optimize_result(\"lbfgs\", opt_res, self.max_iter)\n",
      "D:\\AI\\Anaconda3\\lib\\site-packages\\sklearn\\neural_network\\_multilayer_perceptron.py:549: ConvergenceWarning: lbfgs failed to converge (status=1):\n",
      "STOP: TOTAL NO. of ITERATIONS REACHED LIMIT.\n",
      "\n",
      "Increase the number of iterations (max_iter) or scale the data as shown in:\n",
      "    https://scikit-learn.org/stable/modules/preprocessing.html\n",
      "  self.n_iter_ = _check_optimize_result(\"lbfgs\", opt_res, self.max_iter)\n"
     ]
    },
    {
     "name": "stdout",
     "output_type": "stream",
     "text": [
      "Iteration 1, loss = 0.67297642\n",
      "Iteration 2, loss = 0.52493626\n",
      "Iteration 3, loss = 0.44504643\n",
      "Iteration 4, loss = 0.38352425\n",
      "Iteration 5, loss = 0.34000114\n",
      "Iteration 6, loss = 0.30929009\n",
      "Iteration 7, loss = 0.28386041\n",
      "Iteration 8, loss = 0.26385648\n",
      "Iteration 9, loss = 0.24448184\n",
      "Iteration 10, loss = 0.22936627\n",
      "Iteration 11, loss = 0.21483819\n",
      "Iteration 12, loss = 0.20367178\n",
      "Iteration 13, loss = 0.18960013\n",
      "Iteration 14, loss = 0.17533733\n",
      "Iteration 15, loss = 0.16465573\n",
      "Iteration 16, loss = 0.15397439\n",
      "Iteration 17, loss = 0.14239690\n",
      "Iteration 18, loss = 0.13355080\n",
      "Iteration 19, loss = 0.12692798\n",
      "Iteration 20, loss = 0.11628214\n",
      "Iteration 1, loss = 0.68157972\n",
      "Iteration 2, loss = 0.53136111\n",
      "Iteration 3, loss = 0.44923709\n"
     ]
    },
    {
     "name": "stderr",
     "output_type": "stream",
     "text": [
      "D:\\AI\\Anaconda3\\lib\\site-packages\\sklearn\\neural_network\\_multilayer_perceptron.py:692: ConvergenceWarning: Stochastic Optimizer: Maximum iterations (20) reached and the optimization hasn't converged yet.\n",
      "  warnings.warn(\n"
     ]
    },
    {
     "name": "stdout",
     "output_type": "stream",
     "text": [
      "Iteration 4, loss = 0.38694219\n",
      "Iteration 5, loss = 0.34320005\n",
      "Iteration 6, loss = 0.31378627\n",
      "Iteration 7, loss = 0.28767391\n",
      "Iteration 8, loss = 0.26687327\n",
      "Iteration 9, loss = 0.24676065\n",
      "Iteration 10, loss = 0.23224218\n",
      "Iteration 11, loss = 0.21754739\n",
      "Iteration 12, loss = 0.20326428\n",
      "Iteration 13, loss = 0.19037027\n",
      "Iteration 14, loss = 0.17765154\n",
      "Iteration 15, loss = 0.16696395\n",
      "Iteration 16, loss = 0.15682943\n",
      "Iteration 17, loss = 0.14528977\n",
      "Iteration 18, loss = 0.13531682\n",
      "Iteration 19, loss = 0.12722538\n",
      "Iteration 20, loss = 0.11859621\n",
      "Iteration 1, loss = 0.67753362\n",
      "Iteration 2, loss = 0.53210911\n"
     ]
    },
    {
     "name": "stderr",
     "output_type": "stream",
     "text": [
      "D:\\AI\\Anaconda3\\lib\\site-packages\\sklearn\\neural_network\\_multilayer_perceptron.py:692: ConvergenceWarning: Stochastic Optimizer: Maximum iterations (20) reached and the optimization hasn't converged yet.\n",
      "  warnings.warn(\n"
     ]
    },
    {
     "name": "stdout",
     "output_type": "stream",
     "text": [
      "Iteration 3, loss = 0.45091532\n",
      "Iteration 4, loss = 0.38976983\n",
      "Iteration 5, loss = 0.34683477\n",
      "Iteration 6, loss = 0.31611907\n",
      "Iteration 7, loss = 0.28945314\n",
      "Iteration 8, loss = 0.26703130\n",
      "Iteration 9, loss = 0.24846202\n",
      "Iteration 10, loss = 0.23371419\n",
      "Iteration 11, loss = 0.21821981\n",
      "Iteration 12, loss = 0.20327243\n",
      "Iteration 13, loss = 0.19013296\n",
      "Iteration 14, loss = 0.17809563\n",
      "Iteration 15, loss = 0.16598554\n",
      "Iteration 16, loss = 0.15564162\n",
      "Iteration 17, loss = 0.14495843\n",
      "Iteration 18, loss = 0.13428628\n",
      "Iteration 19, loss = 0.12577220\n",
      "Iteration 20, loss = 0.11696063\n",
      "Iteration 1, loss = 0.67834236\n"
     ]
    },
    {
     "name": "stderr",
     "output_type": "stream",
     "text": [
      "D:\\AI\\Anaconda3\\lib\\site-packages\\sklearn\\neural_network\\_multilayer_perceptron.py:692: ConvergenceWarning: Stochastic Optimizer: Maximum iterations (20) reached and the optimization hasn't converged yet.\n",
      "  warnings.warn(\n"
     ]
    },
    {
     "name": "stdout",
     "output_type": "stream",
     "text": [
      "Iteration 2, loss = 0.53032038\n",
      "Iteration 3, loss = 0.44899265\n",
      "Iteration 4, loss = 0.38720058\n",
      "Iteration 5, loss = 0.34447325\n",
      "Iteration 6, loss = 0.31386868\n",
      "Iteration 7, loss = 0.28553780\n",
      "Iteration 8, loss = 0.26485067\n",
      "Iteration 9, loss = 0.24758870\n",
      "Iteration 10, loss = 0.23443468\n",
      "Iteration 11, loss = 0.21864334\n",
      "Iteration 12, loss = 0.20317222\n",
      "Iteration 13, loss = 0.19084208\n",
      "Iteration 14, loss = 0.17824167\n",
      "Iteration 15, loss = 0.16733815\n",
      "Iteration 16, loss = 0.15749910\n",
      "Iteration 17, loss = 0.14706641\n",
      "Iteration 18, loss = 0.13622510\n",
      "Iteration 19, loss = 0.12762787\n",
      "Iteration 20, loss = 0.11912751\n",
      "Iteration 1, loss = 0.67680517\n",
      "Iteration 2, loss = 0.52745797\n",
      "Iteration 3, loss = 0.44653645\n",
      "Iteration 4, loss = 0.38651846\n"
     ]
    },
    {
     "name": "stderr",
     "output_type": "stream",
     "text": [
      "D:\\AI\\Anaconda3\\lib\\site-packages\\sklearn\\neural_network\\_multilayer_perceptron.py:692: ConvergenceWarning: Stochastic Optimizer: Maximum iterations (20) reached and the optimization hasn't converged yet.\n",
      "  warnings.warn(\n"
     ]
    },
    {
     "name": "stdout",
     "output_type": "stream",
     "text": [
      "Iteration 5, loss = 0.34519557\n",
      "Iteration 6, loss = 0.31604695\n",
      "Iteration 7, loss = 0.28689873\n",
      "Iteration 8, loss = 0.26667486\n",
      "Iteration 9, loss = 0.24939916\n",
      "Iteration 10, loss = 0.23418831\n",
      "Iteration 11, loss = 0.21825294\n",
      "Iteration 12, loss = 0.20270207\n",
      "Iteration 13, loss = 0.19046213\n",
      "Iteration 14, loss = 0.17716516\n",
      "Iteration 15, loss = 0.16666087\n",
      "Iteration 16, loss = 0.15568182\n",
      "Iteration 17, loss = 0.14449108\n",
      "Iteration 18, loss = 0.13381211\n",
      "Iteration 19, loss = 0.12480464\n",
      "Iteration 20, loss = 0.11632203\n",
      "Iteration 1, loss = 0.67901121\n",
      "Iteration 2, loss = 0.52942103\n"
     ]
    },
    {
     "name": "stderr",
     "output_type": "stream",
     "text": [
      "D:\\AI\\Anaconda3\\lib\\site-packages\\sklearn\\neural_network\\_multilayer_perceptron.py:692: ConvergenceWarning: Stochastic Optimizer: Maximum iterations (20) reached and the optimization hasn't converged yet.\n",
      "  warnings.warn(\n"
     ]
    },
    {
     "name": "stdout",
     "output_type": "stream",
     "text": [
      "Iteration 3, loss = 0.44801999\n",
      "Iteration 4, loss = 0.38695859\n",
      "Iteration 5, loss = 0.34358074\n",
      "Iteration 6, loss = 0.31449847\n",
      "Iteration 7, loss = 0.28456704\n",
      "Iteration 8, loss = 0.26455914\n",
      "Iteration 9, loss = 0.24649428\n",
      "Iteration 10, loss = 0.23159247\n",
      "Iteration 11, loss = 0.21667682\n",
      "Iteration 12, loss = 0.20067870\n",
      "Iteration 13, loss = 0.18819097\n",
      "Iteration 14, loss = 0.17678178\n",
      "Iteration 15, loss = 0.16451456\n",
      "Iteration 16, loss = 0.15273099\n",
      "Iteration 17, loss = 0.14218530\n",
      "Iteration 18, loss = 0.13245963\n",
      "Iteration 19, loss = 0.12282238\n",
      "Iteration 20, loss = 0.11463438\n",
      "Iteration 1, loss = 0.67673764\n",
      "Iteration 2, loss = 0.52463075\n"
     ]
    },
    {
     "name": "stderr",
     "output_type": "stream",
     "text": [
      "D:\\AI\\Anaconda3\\lib\\site-packages\\sklearn\\neural_network\\_multilayer_perceptron.py:692: ConvergenceWarning: Stochastic Optimizer: Maximum iterations (20) reached and the optimization hasn't converged yet.\n",
      "  warnings.warn(\n"
     ]
    },
    {
     "name": "stdout",
     "output_type": "stream",
     "text": [
      "Iteration 3, loss = 0.44229794\n",
      "Iteration 4, loss = 0.38086017\n",
      "Iteration 5, loss = 0.33641189\n",
      "Iteration 6, loss = 0.30638360\n",
      "Iteration 7, loss = 0.27752857\n",
      "Iteration 8, loss = 0.25748719\n",
      "Iteration 9, loss = 0.23874117\n",
      "Iteration 10, loss = 0.22539586\n",
      "Iteration 11, loss = 0.20992480\n",
      "Iteration 12, loss = 0.19637022\n",
      "Iteration 13, loss = 0.18424764\n",
      "Iteration 14, loss = 0.17265243\n",
      "Iteration 15, loss = 0.16041296\n",
      "Iteration 16, loss = 0.15021015\n",
      "Iteration 17, loss = 0.14040567\n",
      "Iteration 18, loss = 0.13086357\n",
      "Iteration 19, loss = 0.12091453\n",
      "Iteration 20, loss = 0.11398598\n",
      "Iteration 1, loss = 0.67503094\n",
      "Iteration 2, loss = 0.52683573\n",
      "Iteration 3, loss = 0.44546599\n"
     ]
    },
    {
     "name": "stderr",
     "output_type": "stream",
     "text": [
      "D:\\AI\\Anaconda3\\lib\\site-packages\\sklearn\\neural_network\\_multilayer_perceptron.py:692: ConvergenceWarning: Stochastic Optimizer: Maximum iterations (20) reached and the optimization hasn't converged yet.\n",
      "  warnings.warn(\n"
     ]
    },
    {
     "name": "stdout",
     "output_type": "stream",
     "text": [
      "Iteration 4, loss = 0.38717278\n",
      "Iteration 5, loss = 0.34350180\n",
      "Iteration 6, loss = 0.31386006\n",
      "Iteration 7, loss = 0.28684504\n",
      "Iteration 8, loss = 0.26709412\n",
      "Iteration 9, loss = 0.24800024\n",
      "Iteration 10, loss = 0.23345698\n",
      "Iteration 11, loss = 0.21834108\n",
      "Iteration 12, loss = 0.20336837\n",
      "Iteration 13, loss = 0.19188441\n",
      "Iteration 14, loss = 0.18103048\n",
      "Iteration 15, loss = 0.16800223\n",
      "Iteration 16, loss = 0.15815981\n",
      "Iteration 17, loss = 0.14715945\n",
      "Iteration 18, loss = 0.13667482\n",
      "Iteration 19, loss = 0.12727170\n",
      "Iteration 20, loss = 0.11879238\n"
     ]
    },
    {
     "name": "stderr",
     "output_type": "stream",
     "text": [
      "D:\\AI\\Anaconda3\\lib\\site-packages\\sklearn\\neural_network\\_multilayer_perceptron.py:692: ConvergenceWarning: Stochastic Optimizer: Maximum iterations (20) reached and the optimization hasn't converged yet.\n",
      "  warnings.warn(\n"
     ]
    },
    {
     "name": "stdout",
     "output_type": "stream",
     "text": [
      "Iteration 1, loss = 0.67031763\n",
      "Iteration 2, loss = 0.52295594\n",
      "Iteration 3, loss = 0.44185885\n",
      "Iteration 4, loss = 0.38315124\n",
      "Iteration 5, loss = 0.33933948\n",
      "Iteration 6, loss = 0.30811291\n",
      "Iteration 7, loss = 0.28506890\n",
      "Iteration 8, loss = 0.26504280\n",
      "Iteration 9, loss = 0.24652168\n",
      "Iteration 10, loss = 0.23228256\n",
      "Iteration 11, loss = 0.21637434\n",
      "Iteration 12, loss = 0.20165811\n",
      "Iteration 13, loss = 0.19034361\n",
      "Iteration 14, loss = 0.17848426\n",
      "Iteration 15, loss = 0.16636326\n",
      "Iteration 16, loss = 0.15515730\n",
      "Iteration 17, loss = 0.14426690\n",
      "Iteration 18, loss = 0.13574071\n",
      "Iteration 19, loss = 0.12568649\n",
      "Iteration 20, loss = 0.11762139\n",
      "Iteration 1, loss = 0.67439875\n"
     ]
    },
    {
     "name": "stderr",
     "output_type": "stream",
     "text": [
      "D:\\AI\\Anaconda3\\lib\\site-packages\\sklearn\\neural_network\\_multilayer_perceptron.py:692: ConvergenceWarning: Stochastic Optimizer: Maximum iterations (20) reached and the optimization hasn't converged yet.\n",
      "  warnings.warn(\n"
     ]
    },
    {
     "name": "stdout",
     "output_type": "stream",
     "text": [
      "Iteration 2, loss = 0.53027228\n",
      "Iteration 3, loss = 0.44962613\n",
      "Iteration 4, loss = 0.39031308\n",
      "Iteration 5, loss = 0.34570936\n",
      "Iteration 6, loss = 0.31430303\n",
      "Iteration 7, loss = 0.28952775\n",
      "Iteration 8, loss = 0.26852321\n",
      "Iteration 9, loss = 0.25105751\n",
      "Iteration 10, loss = 0.23780629\n",
      "Iteration 11, loss = 0.22045813\n",
      "Iteration 12, loss = 0.20479766\n",
      "Iteration 13, loss = 0.19260684\n",
      "Iteration 14, loss = 0.17954100\n",
      "Iteration 15, loss = 0.16749878\n",
      "Iteration 16, loss = 0.15608832\n",
      "Iteration 17, loss = 0.14490460\n",
      "Iteration 18, loss = 0.13617836\n",
      "Iteration 19, loss = 0.12517159\n",
      "Iteration 20, loss = 0.11714894\n"
     ]
    },
    {
     "name": "stderr",
     "output_type": "stream",
     "text": [
      "D:\\AI\\Anaconda3\\lib\\site-packages\\sklearn\\neural_network\\_multilayer_perceptron.py:692: ConvergenceWarning: Stochastic Optimizer: Maximum iterations (20) reached and the optimization hasn't converged yet.\n",
      "  warnings.warn(\n"
     ]
    },
    {
     "name": "stdout",
     "output_type": "stream",
     "text": [
      "Iteration 1, loss = 0.76598927\n",
      "Iteration 2, loss = 0.72035846\n",
      "Iteration 3, loss = 0.68518213\n",
      "Iteration 4, loss = 0.65814751\n",
      "Iteration 5, loss = 0.63942757\n",
      "Iteration 6, loss = 0.62433842\n",
      "Iteration 7, loss = 0.61152472\n",
      "Iteration 8, loss = 0.60058265\n",
      "Iteration 9, loss = 0.58960430\n",
      "Iteration 10, loss = 0.58054146\n",
      "Iteration 11, loss = 0.57127090\n",
      "Iteration 12, loss = 0.56299015\n",
      "Iteration 13, loss = 0.55488154\n",
      "Iteration 14, loss = 0.54720053\n",
      "Iteration 15, loss = 0.53958528\n",
      "Iteration 16, loss = 0.53237672\n",
      "Iteration 17, loss = 0.52531037\n",
      "Iteration 18, loss = 0.51888570\n",
      "Iteration 19, loss = 0.51217128\n",
      "Iteration 20, loss = 0.50570962\n",
      "Iteration 1, loss = 0.76944545\n",
      "Iteration 2, loss = 0.72376346\n"
     ]
    },
    {
     "name": "stderr",
     "output_type": "stream",
     "text": [
      "D:\\AI\\Anaconda3\\lib\\site-packages\\sklearn\\neural_network\\_multilayer_perceptron.py:692: ConvergenceWarning: Stochastic Optimizer: Maximum iterations (20) reached and the optimization hasn't converged yet.\n",
      "  warnings.warn(\n"
     ]
    },
    {
     "name": "stdout",
     "output_type": "stream",
     "text": [
      "Iteration 3, loss = 0.68890706\n",
      "Iteration 4, loss = 0.66221956\n",
      "Iteration 5, loss = 0.64361004\n",
      "Iteration 6, loss = 0.62872821\n",
      "Iteration 7, loss = 0.61572235\n",
      "Iteration 8, loss = 0.60473221\n",
      "Iteration 9, loss = 0.59401826\n",
      "Iteration 10, loss = 0.58491286\n",
      "Iteration 11, loss = 0.57573099\n",
      "Iteration 12, loss = 0.56750824\n",
      "Iteration 13, loss = 0.55952867\n",
      "Iteration 14, loss = 0.55199735\n",
      "Iteration 15, loss = 0.54437867\n",
      "Iteration 16, loss = 0.53722744\n",
      "Iteration 17, loss = 0.53012671\n",
      "Iteration 18, loss = 0.52365238\n",
      "Iteration 19, loss = 0.51703898\n",
      "Iteration 20, loss = 0.51064866\n"
     ]
    },
    {
     "name": "stderr",
     "output_type": "stream",
     "text": [
      "D:\\AI\\Anaconda3\\lib\\site-packages\\sklearn\\neural_network\\_multilayer_perceptron.py:692: ConvergenceWarning: Stochastic Optimizer: Maximum iterations (20) reached and the optimization hasn't converged yet.\n",
      "  warnings.warn(\n"
     ]
    },
    {
     "name": "stdout",
     "output_type": "stream",
     "text": [
      "Iteration 1, loss = 0.76525700\n",
      "Iteration 2, loss = 0.72071053\n",
      "Iteration 3, loss = 0.68659778\n",
      "Iteration 4, loss = 0.66054942\n",
      "Iteration 5, loss = 0.64245577\n",
      "Iteration 6, loss = 0.62770736\n",
      "Iteration 7, loss = 0.61503823\n",
      "Iteration 8, loss = 0.60438258\n",
      "Iteration 9, loss = 0.59434673\n",
      "Iteration 10, loss = 0.58523933\n",
      "Iteration 11, loss = 0.57628835\n",
      "Iteration 12, loss = 0.56819941\n",
      "Iteration 13, loss = 0.56055944\n",
      "Iteration 14, loss = 0.55306324\n",
      "Iteration 15, loss = 0.54559888\n",
      "Iteration 16, loss = 0.53859385\n",
      "Iteration 17, loss = 0.53184188\n",
      "Iteration 18, loss = 0.52521287\n",
      "Iteration 19, loss = 0.51857072\n",
      "Iteration 20, loss = 0.51220714\n",
      "Iteration 1, loss = 0.76666687\n",
      "Iteration 2, loss = 0.72130785\n",
      "Iteration 3, loss = 0.68636783\n",
      "Iteration 4, loss = 0.65968033\n"
     ]
    },
    {
     "name": "stderr",
     "output_type": "stream",
     "text": [
      "D:\\AI\\Anaconda3\\lib\\site-packages\\sklearn\\neural_network\\_multilayer_perceptron.py:692: ConvergenceWarning: Stochastic Optimizer: Maximum iterations (20) reached and the optimization hasn't converged yet.\n",
      "  warnings.warn(\n"
     ]
    },
    {
     "name": "stdout",
     "output_type": "stream",
     "text": [
      "Iteration 5, loss = 0.64098776\n",
      "Iteration 6, loss = 0.62564294\n",
      "Iteration 7, loss = 0.61248517\n",
      "Iteration 8, loss = 0.60137301\n",
      "Iteration 9, loss = 0.59110598\n",
      "Iteration 10, loss = 0.58162758\n",
      "Iteration 11, loss = 0.57235156\n",
      "Iteration 12, loss = 0.56394749\n",
      "Iteration 13, loss = 0.55611287\n",
      "Iteration 14, loss = 0.54842039\n",
      "Iteration 15, loss = 0.54061989\n",
      "Iteration 16, loss = 0.53344173\n",
      "Iteration 17, loss = 0.52642134\n",
      "Iteration 18, loss = 0.51965622\n",
      "Iteration 19, loss = 0.51301766\n",
      "Iteration 20, loss = 0.50656502\n",
      "Iteration 1, loss = 0.76568403\n",
      "Iteration 2, loss = 0.71885091\n",
      "Iteration 3, loss = 0.68411596\n"
     ]
    },
    {
     "name": "stderr",
     "output_type": "stream",
     "text": [
      "D:\\AI\\Anaconda3\\lib\\site-packages\\sklearn\\neural_network\\_multilayer_perceptron.py:692: ConvergenceWarning: Stochastic Optimizer: Maximum iterations (20) reached and the optimization hasn't converged yet.\n",
      "  warnings.warn(\n"
     ]
    },
    {
     "name": "stdout",
     "output_type": "stream",
     "text": [
      "Iteration 4, loss = 0.65730989\n",
      "Iteration 5, loss = 0.63888210\n",
      "Iteration 6, loss = 0.62359340\n",
      "Iteration 7, loss = 0.61057764\n",
      "Iteration 8, loss = 0.59935846\n",
      "Iteration 9, loss = 0.58929866\n",
      "Iteration 10, loss = 0.57980347\n",
      "Iteration 11, loss = 0.57047741\n",
      "Iteration 12, loss = 0.56202221\n",
      "Iteration 13, loss = 0.55440688\n",
      "Iteration 14, loss = 0.54634498\n",
      "Iteration 15, loss = 0.53873157\n",
      "Iteration 16, loss = 0.53154988\n",
      "Iteration 17, loss = 0.52480530\n",
      "Iteration 18, loss = 0.51809224\n",
      "Iteration 19, loss = 0.51150036\n",
      "Iteration 20, loss = 0.50482857\n",
      "Iteration 1, loss = 0.76742421\n",
      "Iteration 2, loss = 0.72111952\n"
     ]
    },
    {
     "name": "stderr",
     "output_type": "stream",
     "text": [
      "D:\\AI\\Anaconda3\\lib\\site-packages\\sklearn\\neural_network\\_multilayer_perceptron.py:692: ConvergenceWarning: Stochastic Optimizer: Maximum iterations (20) reached and the optimization hasn't converged yet.\n",
      "  warnings.warn(\n"
     ]
    },
    {
     "name": "stdout",
     "output_type": "stream",
     "text": [
      "Iteration 3, loss = 0.68659401\n",
      "Iteration 4, loss = 0.65986922\n",
      "Iteration 5, loss = 0.64130969\n",
      "Iteration 6, loss = 0.62610696\n",
      "Iteration 7, loss = 0.61338246\n",
      "Iteration 8, loss = 0.60228338\n",
      "Iteration 9, loss = 0.59235126\n",
      "Iteration 10, loss = 0.58308975\n",
      "Iteration 11, loss = 0.57400420\n",
      "Iteration 12, loss = 0.56569858\n",
      "Iteration 13, loss = 0.55826590\n",
      "Iteration 14, loss = 0.55011208\n",
      "Iteration 15, loss = 0.54265407\n",
      "Iteration 16, loss = 0.53552528\n",
      "Iteration 17, loss = 0.52861952\n",
      "Iteration 18, loss = 0.52210327\n",
      "Iteration 19, loss = 0.51540383\n",
      "Iteration 20, loss = 0.50882669\n",
      "Iteration 1, loss = 0.76913809\n",
      "Iteration 2, loss = 0.72080457\n",
      "Iteration 3, loss = 0.68444691\n",
      "Iteration 4, loss = 0.65703512\n",
      "Iteration 5, loss = 0.63808489\n",
      "Iteration 6, loss = 0.62271883\n"
     ]
    },
    {
     "name": "stderr",
     "output_type": "stream",
     "text": [
      "D:\\AI\\Anaconda3\\lib\\site-packages\\sklearn\\neural_network\\_multilayer_perceptron.py:692: ConvergenceWarning: Stochastic Optimizer: Maximum iterations (20) reached and the optimization hasn't converged yet.\n",
      "  warnings.warn(\n"
     ]
    },
    {
     "name": "stdout",
     "output_type": "stream",
     "text": [
      "Iteration 7, loss = 0.60967777\n",
      "Iteration 8, loss = 0.59840987\n",
      "Iteration 9, loss = 0.58810133\n",
      "Iteration 10, loss = 0.57884238\n",
      "Iteration 11, loss = 0.56971212\n",
      "Iteration 12, loss = 0.56152593\n",
      "Iteration 13, loss = 0.55387641\n",
      "Iteration 14, loss = 0.54580198\n",
      "Iteration 15, loss = 0.53818552\n",
      "Iteration 16, loss = 0.53129281\n",
      "Iteration 17, loss = 0.52415931\n",
      "Iteration 18, loss = 0.51778927\n",
      "Iteration 19, loss = 0.51129696\n",
      "Iteration 20, loss = 0.50473838\n",
      "Iteration 1, loss = 0.76428739\n",
      "Iteration 2, loss = 0.71938749\n"
     ]
    },
    {
     "name": "stderr",
     "output_type": "stream",
     "text": [
      "D:\\AI\\Anaconda3\\lib\\site-packages\\sklearn\\neural_network\\_multilayer_perceptron.py:692: ConvergenceWarning: Stochastic Optimizer: Maximum iterations (20) reached and the optimization hasn't converged yet.\n",
      "  warnings.warn(\n"
     ]
    },
    {
     "name": "stdout",
     "output_type": "stream",
     "text": [
      "Iteration 3, loss = 0.68494367\n",
      "Iteration 4, loss = 0.65960373\n",
      "Iteration 5, loss = 0.64090899\n",
      "Iteration 6, loss = 0.62587100\n",
      "Iteration 7, loss = 0.61295877\n",
      "Iteration 8, loss = 0.60172092\n",
      "Iteration 9, loss = 0.59144673\n",
      "Iteration 10, loss = 0.58209500\n",
      "Iteration 11, loss = 0.57295099\n",
      "Iteration 12, loss = 0.56461687\n",
      "Iteration 13, loss = 0.55688652\n",
      "Iteration 14, loss = 0.54906577\n",
      "Iteration 15, loss = 0.54126381\n",
      "Iteration 16, loss = 0.53477791\n",
      "Iteration 17, loss = 0.52734238\n",
      "Iteration 18, loss = 0.52063461\n",
      "Iteration 19, loss = 0.51407873\n",
      "Iteration 20, loss = 0.50761273\n",
      "Iteration 1, loss = 0.76276681\n",
      "Iteration 2, loss = 0.71656358\n",
      "Iteration 3, loss = 0.68144416\n",
      "Iteration 4, loss = 0.65535121\n",
      "Iteration 5, loss = 0.63673449\n",
      "Iteration 6, loss = 0.62146127\n",
      "Iteration 7, loss = 0.60885225\n"
     ]
    },
    {
     "name": "stderr",
     "output_type": "stream",
     "text": [
      "D:\\AI\\Anaconda3\\lib\\site-packages\\sklearn\\neural_network\\_multilayer_perceptron.py:692: ConvergenceWarning: Stochastic Optimizer: Maximum iterations (20) reached and the optimization hasn't converged yet.\n",
      "  warnings.warn(\n"
     ]
    },
    {
     "name": "stdout",
     "output_type": "stream",
     "text": [
      "Iteration 8, loss = 0.59758091\n",
      "Iteration 9, loss = 0.58761201\n",
      "Iteration 10, loss = 0.57818122\n",
      "Iteration 11, loss = 0.56909649\n",
      "Iteration 12, loss = 0.56100303\n",
      "Iteration 13, loss = 0.55292083\n",
      "Iteration 14, loss = 0.54574687\n",
      "Iteration 15, loss = 0.53791478\n",
      "Iteration 16, loss = 0.53037683\n",
      "Iteration 17, loss = 0.52360439\n",
      "Iteration 18, loss = 0.51654408\n",
      "Iteration 19, loss = 0.51015602\n",
      "Iteration 20, loss = 0.50367749\n",
      "Iteration 1, loss = 0.76277205\n",
      "Iteration 2, loss = 0.71937387\n",
      "Iteration 3, loss = 0.68545329\n",
      "Iteration 4, loss = 0.66018416\n",
      "Iteration 5, loss = 0.64208479\n",
      "Iteration 6, loss = 0.62717845\n",
      "Iteration 7, loss = 0.61459131\n",
      "Iteration 8, loss = 0.60359770\n",
      "Iteration 9, loss = 0.59365450\n",
      "Iteration 10, loss = 0.58433327\n"
     ]
    },
    {
     "name": "stderr",
     "output_type": "stream",
     "text": [
      "D:\\AI\\Anaconda3\\lib\\site-packages\\sklearn\\neural_network\\_multilayer_perceptron.py:692: ConvergenceWarning: Stochastic Optimizer: Maximum iterations (20) reached and the optimization hasn't converged yet.\n",
      "  warnings.warn(\n"
     ]
    },
    {
     "name": "stdout",
     "output_type": "stream",
     "text": [
      "Iteration 11, loss = 0.57543485\n",
      "Iteration 12, loss = 0.56745625\n",
      "Iteration 13, loss = 0.55954916\n",
      "Iteration 14, loss = 0.55219012\n",
      "Iteration 15, loss = 0.54481016\n",
      "Iteration 16, loss = 0.53742513\n",
      "Iteration 17, loss = 0.53095857\n",
      "Iteration 18, loss = 0.52405632\n",
      "Iteration 19, loss = 0.51779676\n",
      "Iteration 20, loss = 0.51137463\n"
     ]
    },
    {
     "name": "stderr",
     "output_type": "stream",
     "text": [
      "D:\\AI\\Anaconda3\\lib\\site-packages\\sklearn\\neural_network\\_multilayer_perceptron.py:692: ConvergenceWarning: Stochastic Optimizer: Maximum iterations (20) reached and the optimization hasn't converged yet.\n",
      "  warnings.warn(\n",
      "D:\\AI\\Anaconda3\\lib\\site-packages\\sklearn\\neural_network\\_multilayer_perceptron.py:549: ConvergenceWarning: lbfgs failed to converge (status=1):\n",
      "STOP: TOTAL NO. of ITERATIONS REACHED LIMIT.\n",
      "\n",
      "Increase the number of iterations (max_iter) or scale the data as shown in:\n",
      "    https://scikit-learn.org/stable/modules/preprocessing.html\n",
      "  self.n_iter_ = _check_optimize_result(\"lbfgs\", opt_res, self.max_iter)\n",
      "D:\\AI\\Anaconda3\\lib\\site-packages\\sklearn\\neural_network\\_multilayer_perceptron.py:549: ConvergenceWarning: lbfgs failed to converge (status=1):\n",
      "STOP: TOTAL NO. of ITERATIONS REACHED LIMIT.\n",
      "\n",
      "Increase the number of iterations (max_iter) or scale the data as shown in:\n",
      "    https://scikit-learn.org/stable/modules/preprocessing.html\n",
      "  self.n_iter_ = _check_optimize_result(\"lbfgs\", opt_res, self.max_iter)\n",
      "D:\\AI\\Anaconda3\\lib\\site-packages\\sklearn\\neural_network\\_multilayer_perceptron.py:549: ConvergenceWarning: lbfgs failed to converge (status=1):\n",
      "STOP: TOTAL NO. of ITERATIONS REACHED LIMIT.\n",
      "\n",
      "Increase the number of iterations (max_iter) or scale the data as shown in:\n",
      "    https://scikit-learn.org/stable/modules/preprocessing.html\n",
      "  self.n_iter_ = _check_optimize_result(\"lbfgs\", opt_res, self.max_iter)\n",
      "D:\\AI\\Anaconda3\\lib\\site-packages\\sklearn\\neural_network\\_multilayer_perceptron.py:549: ConvergenceWarning: lbfgs failed to converge (status=1):\n",
      "STOP: TOTAL NO. of ITERATIONS REACHED LIMIT.\n",
      "\n",
      "Increase the number of iterations (max_iter) or scale the data as shown in:\n",
      "    https://scikit-learn.org/stable/modules/preprocessing.html\n",
      "  self.n_iter_ = _check_optimize_result(\"lbfgs\", opt_res, self.max_iter)\n",
      "D:\\AI\\Anaconda3\\lib\\site-packages\\sklearn\\neural_network\\_multilayer_perceptron.py:549: ConvergenceWarning: lbfgs failed to converge (status=1):\n",
      "STOP: TOTAL NO. of ITERATIONS REACHED LIMIT.\n",
      "\n",
      "Increase the number of iterations (max_iter) or scale the data as shown in:\n",
      "    https://scikit-learn.org/stable/modules/preprocessing.html\n",
      "  self.n_iter_ = _check_optimize_result(\"lbfgs\", opt_res, self.max_iter)\n",
      "D:\\AI\\Anaconda3\\lib\\site-packages\\sklearn\\neural_network\\_multilayer_perceptron.py:549: ConvergenceWarning: lbfgs failed to converge (status=1):\n",
      "STOP: TOTAL NO. of ITERATIONS REACHED LIMIT.\n",
      "\n",
      "Increase the number of iterations (max_iter) or scale the data as shown in:\n",
      "    https://scikit-learn.org/stable/modules/preprocessing.html\n",
      "  self.n_iter_ = _check_optimize_result(\"lbfgs\", opt_res, self.max_iter)\n",
      "D:\\AI\\Anaconda3\\lib\\site-packages\\sklearn\\neural_network\\_multilayer_perceptron.py:549: ConvergenceWarning: lbfgs failed to converge (status=1):\n",
      "STOP: TOTAL NO. of ITERATIONS REACHED LIMIT.\n",
      "\n",
      "Increase the number of iterations (max_iter) or scale the data as shown in:\n",
      "    https://scikit-learn.org/stable/modules/preprocessing.html\n",
      "  self.n_iter_ = _check_optimize_result(\"lbfgs\", opt_res, self.max_iter)\n",
      "D:\\AI\\Anaconda3\\lib\\site-packages\\sklearn\\neural_network\\_multilayer_perceptron.py:549: ConvergenceWarning: lbfgs failed to converge (status=1):\n",
      "STOP: TOTAL NO. of ITERATIONS REACHED LIMIT.\n",
      "\n",
      "Increase the number of iterations (max_iter) or scale the data as shown in:\n",
      "    https://scikit-learn.org/stable/modules/preprocessing.html\n",
      "  self.n_iter_ = _check_optimize_result(\"lbfgs\", opt_res, self.max_iter)\n",
      "D:\\AI\\Anaconda3\\lib\\site-packages\\sklearn\\neural_network\\_multilayer_perceptron.py:549: ConvergenceWarning: lbfgs failed to converge (status=1):\n",
      "STOP: TOTAL NO. of ITERATIONS REACHED LIMIT.\n",
      "\n",
      "Increase the number of iterations (max_iter) or scale the data as shown in:\n",
      "    https://scikit-learn.org/stable/modules/preprocessing.html\n",
      "  self.n_iter_ = _check_optimize_result(\"lbfgs\", opt_res, self.max_iter)\n",
      "D:\\AI\\Anaconda3\\lib\\site-packages\\sklearn\\neural_network\\_multilayer_perceptron.py:549: ConvergenceWarning: lbfgs failed to converge (status=1):\n",
      "STOP: TOTAL NO. of ITERATIONS REACHED LIMIT.\n",
      "\n",
      "Increase the number of iterations (max_iter) or scale the data as shown in:\n",
      "    https://scikit-learn.org/stable/modules/preprocessing.html\n",
      "  self.n_iter_ = _check_optimize_result(\"lbfgs\", opt_res, self.max_iter)\n"
     ]
    },
    {
     "name": "stdout",
     "output_type": "stream",
     "text": [
      "Iteration 1, loss = 0.93756228\n",
      "Iteration 2, loss = 0.91641722\n",
      "Iteration 3, loss = 0.90030685\n",
      "Iteration 4, loss = 0.88813989\n",
      "Iteration 5, loss = 0.87854766\n",
      "Iteration 6, loss = 0.87097416\n",
      "Iteration 7, loss = 0.86450630\n",
      "Iteration 8, loss = 0.85879517\n",
      "Iteration 9, loss = 0.85371852\n",
      "Iteration 10, loss = 0.84894300\n",
      "Iteration 11, loss = 0.84442588\n",
      "Iteration 12, loss = 0.84017273\n",
      "Iteration 13, loss = 0.83596128\n",
      "Iteration 14, loss = 0.83184818\n",
      "Iteration 15, loss = 0.82787479\n",
      "Iteration 16, loss = 0.82393605\n",
      "Iteration 17, loss = 0.82008120\n",
      "Iteration 18, loss = 0.81625727\n",
      "Iteration 19, loss = 0.81248756\n",
      "Iteration 20, loss = 0.80870015\n",
      "Iteration 1, loss = 0.93280386\n",
      "Iteration 2, loss = 0.91177958\n",
      "Iteration 3, loss = 0.89567517\n",
      "Iteration 4, loss = 0.88354054\n",
      "Iteration 5, loss = 0.87401812\n",
      "Iteration 6, loss = 0.86645654\n",
      "Iteration 7, loss = 0.85999673\n",
      "Iteration 8, loss = 0.85432459\n"
     ]
    },
    {
     "name": "stderr",
     "output_type": "stream",
     "text": [
      "D:\\AI\\Anaconda3\\lib\\site-packages\\sklearn\\neural_network\\_multilayer_perceptron.py:692: ConvergenceWarning: Stochastic Optimizer: Maximum iterations (20) reached and the optimization hasn't converged yet.\n",
      "  warnings.warn(\n"
     ]
    },
    {
     "name": "stdout",
     "output_type": "stream",
     "text": [
      "Iteration 9, loss = 0.84930297\n",
      "Iteration 10, loss = 0.84463700\n",
      "Iteration 11, loss = 0.84018660\n",
      "Iteration 12, loss = 0.83596770\n",
      "Iteration 13, loss = 0.83185478\n",
      "Iteration 14, loss = 0.82781727\n",
      "Iteration 15, loss = 0.82391744\n",
      "Iteration 16, loss = 0.82006703\n",
      "Iteration 17, loss = 0.81628503\n",
      "Iteration 18, loss = 0.81254824\n",
      "Iteration 19, loss = 0.80886669\n",
      "Iteration 20, loss = 0.80520092\n",
      "Iteration 1, loss = 0.92815819\n",
      "Iteration 2, loss = 0.90750733\n",
      "Iteration 3, loss = 0.89179715\n"
     ]
    },
    {
     "name": "stderr",
     "output_type": "stream",
     "text": [
      "D:\\AI\\Anaconda3\\lib\\site-packages\\sklearn\\neural_network\\_multilayer_perceptron.py:692: ConvergenceWarning: Stochastic Optimizer: Maximum iterations (20) reached and the optimization hasn't converged yet.\n",
      "  warnings.warn(\n"
     ]
    },
    {
     "name": "stdout",
     "output_type": "stream",
     "text": [
      "Iteration 4, loss = 0.87996927\n",
      "Iteration 5, loss = 0.87058545\n",
      "Iteration 6, loss = 0.86320699\n",
      "Iteration 7, loss = 0.85686500\n",
      "Iteration 8, loss = 0.85128053\n",
      "Iteration 9, loss = 0.84633113\n",
      "Iteration 10, loss = 0.84173189\n",
      "Iteration 11, loss = 0.83736057\n",
      "Iteration 12, loss = 0.83317851\n",
      "Iteration 13, loss = 0.82911765\n",
      "Iteration 14, loss = 0.82513683\n",
      "Iteration 15, loss = 0.82125401\n",
      "Iteration 16, loss = 0.81744436\n",
      "Iteration 17, loss = 0.81368578\n",
      "Iteration 18, loss = 0.80994293\n",
      "Iteration 19, loss = 0.80624386\n",
      "Iteration 20, loss = 0.80251677\n",
      "Iteration 1, loss = 0.93654019\n",
      "Iteration 2, loss = 0.91524333\n",
      "Iteration 3, loss = 0.89910262\n",
      "Iteration 4, loss = 0.88697064\n",
      "Iteration 5, loss = 0.87734557\n",
      "Iteration 6, loss = 0.86975174\n",
      "Iteration 7, loss = 0.86327065\n",
      "Iteration 8, loss = 0.85756223\n",
      "Iteration 9, loss = 0.85249731\n",
      "Iteration 10, loss = 0.84777641\n",
      "Iteration 11, loss = 0.84333644\n",
      "Iteration 12, loss = 0.83905691\n"
     ]
    },
    {
     "name": "stderr",
     "output_type": "stream",
     "text": [
      "D:\\AI\\Anaconda3\\lib\\site-packages\\sklearn\\neural_network\\_multilayer_perceptron.py:692: ConvergenceWarning: Stochastic Optimizer: Maximum iterations (20) reached and the optimization hasn't converged yet.\n",
      "  warnings.warn(\n"
     ]
    },
    {
     "name": "stdout",
     "output_type": "stream",
     "text": [
      "Iteration 13, loss = 0.83488602\n",
      "Iteration 14, loss = 0.83084440\n",
      "Iteration 15, loss = 0.82684273\n",
      "Iteration 16, loss = 0.82297739\n",
      "Iteration 17, loss = 0.81912130\n",
      "Iteration 18, loss = 0.81533015\n",
      "Iteration 19, loss = 0.81154846\n",
      "Iteration 20, loss = 0.80781403\n",
      "Iteration 1, loss = 0.92778231\n",
      "Iteration 2, loss = 0.90696284\n",
      "Iteration 3, loss = 0.89119930\n",
      "Iteration 4, loss = 0.87938446\n",
      "Iteration 5, loss = 0.86991123\n",
      "Iteration 6, loss = 0.86254961\n"
     ]
    },
    {
     "name": "stderr",
     "output_type": "stream",
     "text": [
      "D:\\AI\\Anaconda3\\lib\\site-packages\\sklearn\\neural_network\\_multilayer_perceptron.py:692: ConvergenceWarning: Stochastic Optimizer: Maximum iterations (20) reached and the optimization hasn't converged yet.\n",
      "  warnings.warn(\n"
     ]
    },
    {
     "name": "stdout",
     "output_type": "stream",
     "text": [
      "Iteration 7, loss = 0.85619099\n",
      "Iteration 8, loss = 0.85068053\n",
      "Iteration 9, loss = 0.84573220\n",
      "Iteration 10, loss = 0.84118395\n",
      "Iteration 11, loss = 0.83682407\n",
      "Iteration 12, loss = 0.83266219\n",
      "Iteration 13, loss = 0.82857013\n",
      "Iteration 14, loss = 0.82459231\n",
      "Iteration 15, loss = 0.82062427\n",
      "Iteration 16, loss = 0.81672746\n",
      "Iteration 17, loss = 0.81277096\n",
      "Iteration 18, loss = 0.80879054\n",
      "Iteration 19, loss = 0.80464382\n",
      "Iteration 20, loss = 0.80036040\n",
      "Iteration 1, loss = 0.93307739\n",
      "Iteration 2, loss = 0.91218856\n",
      "Iteration 3, loss = 0.89622080\n"
     ]
    },
    {
     "name": "stderr",
     "output_type": "stream",
     "text": [
      "D:\\AI\\Anaconda3\\lib\\site-packages\\sklearn\\neural_network\\_multilayer_perceptron.py:692: ConvergenceWarning: Stochastic Optimizer: Maximum iterations (20) reached and the optimization hasn't converged yet.\n",
      "  warnings.warn(\n"
     ]
    },
    {
     "name": "stdout",
     "output_type": "stream",
     "text": [
      "Iteration 4, loss = 0.88429452\n",
      "Iteration 5, loss = 0.87477435\n",
      "Iteration 6, loss = 0.86730726\n",
      "Iteration 7, loss = 0.86085572\n",
      "Iteration 8, loss = 0.85533319\n",
      "Iteration 9, loss = 0.85025030\n",
      "Iteration 10, loss = 0.84564303\n",
      "Iteration 11, loss = 0.84122202\n",
      "Iteration 12, loss = 0.83696250\n",
      "Iteration 13, loss = 0.83282307\n",
      "Iteration 14, loss = 0.82880893\n",
      "Iteration 15, loss = 0.82476106\n",
      "Iteration 16, loss = 0.82088020\n",
      "Iteration 17, loss = 0.81691508\n",
      "Iteration 18, loss = 0.81302431\n",
      "Iteration 19, loss = 0.80901822\n",
      "Iteration 20, loss = 0.80493344\n",
      "Iteration 1, loss = 0.93714461\n",
      "Iteration 2, loss = 0.91607013\n",
      "Iteration 3, loss = 0.89995467\n",
      "Iteration 4, loss = 0.88787727\n",
      "Iteration 5, loss = 0.87816028\n",
      "Iteration 6, loss = 0.87057244\n",
      "Iteration 7, loss = 0.86398227\n",
      "Iteration 8, loss = 0.85841711\n",
      "Iteration 9, loss = 0.85324137\n",
      "Iteration 10, loss = 0.84857800\n",
      "Iteration 11, loss = 0.84410979\n",
      "Iteration 12, loss = 0.83978651\n",
      "Iteration 13, loss = 0.83562507\n",
      "Iteration 14, loss = 0.83156593\n",
      "Iteration 15, loss = 0.82749567\n"
     ]
    },
    {
     "name": "stderr",
     "output_type": "stream",
     "text": [
      "D:\\AI\\Anaconda3\\lib\\site-packages\\sklearn\\neural_network\\_multilayer_perceptron.py:692: ConvergenceWarning: Stochastic Optimizer: Maximum iterations (20) reached and the optimization hasn't converged yet.\n",
      "  warnings.warn(\n"
     ]
    },
    {
     "name": "stdout",
     "output_type": "stream",
     "text": [
      "Iteration 16, loss = 0.82358670\n",
      "Iteration 17, loss = 0.81963105\n",
      "Iteration 18, loss = 0.81581462\n",
      "Iteration 19, loss = 0.81189242\n",
      "Iteration 20, loss = 0.80797497\n",
      "Iteration 1, loss = 0.94162267\n",
      "Iteration 2, loss = 0.92022167\n",
      "Iteration 3, loss = 0.90384536\n",
      "Iteration 4, loss = 0.89159011\n",
      "Iteration 5, loss = 0.88185691\n",
      "Iteration 6, loss = 0.87419830\n",
      "Iteration 7, loss = 0.86756383\n",
      "Iteration 8, loss = 0.86192794\n",
      "Iteration 9, loss = 0.85670612\n",
      "Iteration 10, loss = 0.85195458\n"
     ]
    },
    {
     "name": "stderr",
     "output_type": "stream",
     "text": [
      "D:\\AI\\Anaconda3\\lib\\site-packages\\sklearn\\neural_network\\_multilayer_perceptron.py:692: ConvergenceWarning: Stochastic Optimizer: Maximum iterations (20) reached and the optimization hasn't converged yet.\n",
      "  warnings.warn(\n"
     ]
    },
    {
     "name": "stdout",
     "output_type": "stream",
     "text": [
      "Iteration 11, loss = 0.84740463\n",
      "Iteration 12, loss = 0.84303480\n",
      "Iteration 13, loss = 0.83882297\n",
      "Iteration 14, loss = 0.83470759\n",
      "Iteration 15, loss = 0.83059144\n",
      "Iteration 16, loss = 0.82664548\n",
      "Iteration 17, loss = 0.82266361\n",
      "Iteration 18, loss = 0.81880096\n",
      "Iteration 19, loss = 0.81490126\n",
      "Iteration 20, loss = 0.81098976\n",
      "Iteration 1, loss = 0.93283235\n",
      "Iteration 2, loss = 0.91197267\n",
      "Iteration 3, loss = 0.89607480\n",
      "Iteration 4, loss = 0.88374919\n",
      "Iteration 5, loss = 0.87446435\n"
     ]
    },
    {
     "name": "stderr",
     "output_type": "stream",
     "text": [
      "D:\\AI\\Anaconda3\\lib\\site-packages\\sklearn\\neural_network\\_multilayer_perceptron.py:692: ConvergenceWarning: Stochastic Optimizer: Maximum iterations (20) reached and the optimization hasn't converged yet.\n",
      "  warnings.warn(\n"
     ]
    },
    {
     "name": "stdout",
     "output_type": "stream",
     "text": [
      "Iteration 6, loss = 0.86681394\n",
      "Iteration 7, loss = 0.86035267\n",
      "Iteration 8, loss = 0.85481627\n",
      "Iteration 9, loss = 0.84978487\n",
      "Iteration 10, loss = 0.84515860\n",
      "Iteration 11, loss = 0.84065088\n",
      "Iteration 12, loss = 0.83648769\n",
      "Iteration 13, loss = 0.83238671\n",
      "Iteration 14, loss = 0.82841739\n",
      "Iteration 15, loss = 0.82443974\n",
      "Iteration 16, loss = 0.82057590\n",
      "Iteration 17, loss = 0.81678343\n",
      "Iteration 18, loss = 0.81297521\n",
      "Iteration 19, loss = 0.80921839\n",
      "Iteration 20, loss = 0.80545590\n"
     ]
    },
    {
     "name": "stderr",
     "output_type": "stream",
     "text": [
      "D:\\AI\\Anaconda3\\lib\\site-packages\\sklearn\\neural_network\\_multilayer_perceptron.py:692: ConvergenceWarning: Stochastic Optimizer: Maximum iterations (20) reached and the optimization hasn't converged yet.\n",
      "  warnings.warn(\n"
     ]
    },
    {
     "name": "stdout",
     "output_type": "stream",
     "text": [
      "Iteration 1, loss = 0.93359344\n",
      "Iteration 2, loss = 0.91283060\n",
      "Iteration 3, loss = 0.89700162\n",
      "Iteration 4, loss = 0.88477840\n",
      "Iteration 5, loss = 0.87550316\n",
      "Iteration 6, loss = 0.86780521\n",
      "Iteration 7, loss = 0.86138743\n",
      "Iteration 8, loss = 0.85582701\n",
      "Iteration 9, loss = 0.85076359\n",
      "Iteration 10, loss = 0.84611762\n",
      "Iteration 11, loss = 0.84160493\n",
      "Iteration 12, loss = 0.83742057\n",
      "Iteration 13, loss = 0.83330859\n",
      "Iteration 14, loss = 0.82931807\n",
      "Iteration 15, loss = 0.82532784\n",
      "Iteration 16, loss = 0.82147302\n",
      "Iteration 17, loss = 0.81767053\n",
      "Iteration 18, loss = 0.81383872\n",
      "Iteration 19, loss = 0.81010063\n",
      "Iteration 20, loss = 0.80634344\n",
      "Iteration 1, loss = 0.93286285\n",
      "Iteration 2, loss = 0.88285994\n",
      "Iteration 3, loss = 0.83909562\n",
      "Iteration 4, loss = 0.80810571\n",
      "Iteration 5, loss = 0.78695050\n",
      "Iteration 6, loss = 0.77324297\n",
      "Iteration 7, loss = 0.76373626\n",
      "Iteration 8, loss = 0.75647992\n",
      "Iteration 9, loss = 0.75073319\n",
      "Iteration 10, loss = 0.74537880\n",
      "Iteration 11, loss = 0.74037857\n",
      "Iteration 12, loss = 0.73561793\n",
      "Iteration 13, loss = 0.73080388\n",
      "Iteration 14, loss = 0.72603347\n",
      "Iteration 15, loss = 0.72129095\n",
      "Iteration 16, loss = 0.71690972\n",
      "Iteration 17, loss = 0.71253746\n",
      "Iteration 18, loss = 0.70789822\n"
     ]
    },
    {
     "name": "stderr",
     "output_type": "stream",
     "text": [
      "D:\\AI\\Anaconda3\\lib\\site-packages\\sklearn\\neural_network\\_multilayer_perceptron.py:692: ConvergenceWarning: Stochastic Optimizer: Maximum iterations (20) reached and the optimization hasn't converged yet.\n",
      "  warnings.warn(\n",
      "D:\\AI\\Anaconda3\\lib\\site-packages\\sklearn\\neural_network\\_multilayer_perceptron.py:692: ConvergenceWarning: Stochastic Optimizer: Maximum iterations (20) reached and the optimization hasn't converged yet.\n",
      "  warnings.warn(\n"
     ]
    },
    {
     "name": "stdout",
     "output_type": "stream",
     "text": [
      "Iteration 19, loss = 0.70348812\n",
      "Iteration 20, loss = 0.69889614\n",
      "Iteration 1, loss = 0.92814983\n",
      "Iteration 2, loss = 0.87813996\n",
      "Iteration 3, loss = 0.83460429\n",
      "Iteration 4, loss = 0.80405772\n",
      "Iteration 5, loss = 0.78352954\n",
      "Iteration 6, loss = 0.77038554\n",
      "Iteration 7, loss = 0.76128666\n",
      "Iteration 8, loss = 0.75441580\n",
      "Iteration 9, loss = 0.74901492\n",
      "Iteration 10, loss = 0.74409744\n",
      "Iteration 11, loss = 0.73943931\n",
      "Iteration 12, loss = 0.73498016\n",
      "Iteration 13, loss = 0.73056612\n",
      "Iteration 14, loss = 0.72626120\n",
      "Iteration 15, loss = 0.72192934\n",
      "Iteration 16, loss = 0.71788662\n",
      "Iteration 17, loss = 0.71392550\n",
      "Iteration 18, loss = 0.70993241\n",
      "Iteration 19, loss = 0.70589559\n",
      "Iteration 20, loss = 0.70167572\n",
      "Iteration 1, loss = 0.92398407\n",
      "Iteration 2, loss = 0.87608015\n",
      "Iteration 3, loss = 0.83405092\n",
      "Iteration 4, loss = 0.80442807\n",
      "Iteration 5, loss = 0.78394486\n",
      "Iteration 6, loss = 0.77093384\n",
      "Iteration 7, loss = 0.76169745\n",
      "Iteration 8, loss = 0.75470711\n",
      "Iteration 9, loss = 0.74922859\n",
      "Iteration 10, loss = 0.74429510\n",
      "Iteration 11, loss = 0.73961136\n",
      "Iteration 12, loss = 0.73510507\n",
      "Iteration 13, loss = 0.73071461\n",
      "Iteration 14, loss = 0.72641578\n"
     ]
    },
    {
     "name": "stderr",
     "output_type": "stream",
     "text": [
      "D:\\AI\\Anaconda3\\lib\\site-packages\\sklearn\\neural_network\\_multilayer_perceptron.py:692: ConvergenceWarning: Stochastic Optimizer: Maximum iterations (20) reached and the optimization hasn't converged yet.\n",
      "  warnings.warn(\n"
     ]
    },
    {
     "name": "stdout",
     "output_type": "stream",
     "text": [
      "Iteration 15, loss = 0.72208195\n",
      "Iteration 16, loss = 0.71822060\n",
      "Iteration 17, loss = 0.71442744\n",
      "Iteration 18, loss = 0.71054686\n",
      "Iteration 19, loss = 0.70677179\n",
      "Iteration 20, loss = 0.70280737\n",
      "Iteration 1, loss = 0.93176405\n",
      "Iteration 2, loss = 0.88132671\n",
      "Iteration 3, loss = 0.83751542\n",
      "Iteration 4, loss = 0.80675687\n",
      "Iteration 5, loss = 0.78555326\n",
      "Iteration 6, loss = 0.77212568\n",
      "Iteration 7, loss = 0.76281855\n",
      "Iteration 8, loss = 0.75568137\n",
      "Iteration 9, loss = 0.75006305\n",
      "Iteration 10, loss = 0.74496301\n",
      "Iteration 11, loss = 0.74020510\n"
     ]
    },
    {
     "name": "stderr",
     "output_type": "stream",
     "text": [
      "D:\\AI\\Anaconda3\\lib\\site-packages\\sklearn\\neural_network\\_multilayer_perceptron.py:692: ConvergenceWarning: Stochastic Optimizer: Maximum iterations (20) reached and the optimization hasn't converged yet.\n",
      "  warnings.warn(\n"
     ]
    },
    {
     "name": "stdout",
     "output_type": "stream",
     "text": [
      "Iteration 12, loss = 0.73557146\n",
      "Iteration 13, loss = 0.73100223\n",
      "Iteration 14, loss = 0.72659385\n",
      "Iteration 15, loss = 0.72207532\n",
      "Iteration 16, loss = 0.71787573\n",
      "Iteration 17, loss = 0.71382893\n",
      "Iteration 18, loss = 0.70968910\n",
      "Iteration 19, loss = 0.70551156\n",
      "Iteration 20, loss = 0.70130017\n",
      "Iteration 1, loss = 0.92335994\n",
      "Iteration 2, loss = 0.87522408\n",
      "Iteration 3, loss = 0.83328060\n",
      "Iteration 4, loss = 0.80373342\n",
      "Iteration 5, loss = 0.78288840\n",
      "Iteration 6, loss = 0.76983675\n",
      "Iteration 7, loss = 0.76060430\n",
      "Iteration 8, loss = 0.75380940\n",
      "Iteration 9, loss = 0.74837507\n",
      "Iteration 10, loss = 0.74363205\n",
      "Iteration 11, loss = 0.73895924\n",
      "Iteration 12, loss = 0.73459776\n",
      "Iteration 13, loss = 0.73020766\n",
      "Iteration 14, loss = 0.72598020\n",
      "Iteration 15, loss = 0.72161786\n",
      "Iteration 16, loss = 0.71757296\n",
      "Iteration 17, loss = 0.71368192\n"
     ]
    },
    {
     "name": "stderr",
     "output_type": "stream",
     "text": [
      "D:\\AI\\Anaconda3\\lib\\site-packages\\sklearn\\neural_network\\_multilayer_perceptron.py:692: ConvergenceWarning: Stochastic Optimizer: Maximum iterations (20) reached and the optimization hasn't converged yet.\n",
      "  warnings.warn(\n",
      "D:\\AI\\Anaconda3\\lib\\site-packages\\sklearn\\neural_network\\_multilayer_perceptron.py:692: ConvergenceWarning: Stochastic Optimizer: Maximum iterations (20) reached and the optimization hasn't converged yet.\n",
      "  warnings.warn(\n"
     ]
    },
    {
     "name": "stdout",
     "output_type": "stream",
     "text": [
      "Iteration 18, loss = 0.70974572\n",
      "Iteration 19, loss = 0.70572289\n",
      "Iteration 20, loss = 0.70162506\n",
      "Iteration 1, loss = 0.92846061\n",
      "Iteration 2, loss = 0.87985556\n",
      "Iteration 3, loss = 0.83702254\n",
      "Iteration 4, loss = 0.80692224\n",
      "Iteration 5, loss = 0.78580118\n",
      "Iteration 6, loss = 0.77246023\n",
      "Iteration 7, loss = 0.76291233\n",
      "Iteration 8, loss = 0.75614612\n",
      "Iteration 9, loss = 0.75036759\n",
      "Iteration 10, loss = 0.74546229\n",
      "Iteration 11, loss = 0.74062179\n",
      "Iteration 12, loss = 0.73597221\n",
      "Iteration 13, loss = 0.73142529\n",
      "Iteration 14, loss = 0.72695992\n",
      "Iteration 15, loss = 0.72231416\n",
      "Iteration 16, loss = 0.71795445\n",
      "Iteration 17, loss = 0.71361600\n",
      "Iteration 18, loss = 0.70931951\n",
      "Iteration 19, loss = 0.70497003\n",
      "Iteration 20, loss = 0.70057392\n",
      "Iteration 1, loss = 0.93220925\n",
      "Iteration 2, loss = 0.88259862\n",
      "Iteration 3, loss = 0.83892363\n",
      "Iteration 4, loss = 0.80820169\n",
      "Iteration 5, loss = 0.78658711\n",
      "Iteration 6, loss = 0.77305713\n",
      "Iteration 7, loss = 0.76321886\n",
      "Iteration 8, loss = 0.75647824\n",
      "Iteration 9, loss = 0.75047203\n",
      "Iteration 10, loss = 0.74538934\n",
      "Iteration 11, loss = 0.74034133\n",
      "Iteration 12, loss = 0.73544475\n",
      "Iteration 13, loss = 0.73064120\n",
      "Iteration 14, loss = 0.72586494\n",
      "Iteration 15, loss = 0.72106219\n",
      "Iteration 16, loss = 0.71668535\n"
     ]
    },
    {
     "name": "stderr",
     "output_type": "stream",
     "text": [
      "D:\\AI\\Anaconda3\\lib\\site-packages\\sklearn\\neural_network\\_multilayer_perceptron.py:692: ConvergenceWarning: Stochastic Optimizer: Maximum iterations (20) reached and the optimization hasn't converged yet.\n",
      "  warnings.warn(\n"
     ]
    },
    {
     "name": "stdout",
     "output_type": "stream",
     "text": [
      "Iteration 17, loss = 0.71203514\n",
      "Iteration 18, loss = 0.70734945\n",
      "Iteration 19, loss = 0.70273885\n",
      "Iteration 20, loss = 0.69819204\n",
      "Iteration 1, loss = 0.93665051\n",
      "Iteration 2, loss = 0.88573777\n",
      "Iteration 3, loss = 0.84074897\n",
      "Iteration 4, loss = 0.80925075\n",
      "Iteration 5, loss = 0.78743502\n",
      "Iteration 6, loss = 0.77380495\n",
      "Iteration 7, loss = 0.76397129\n",
      "Iteration 8, loss = 0.75727813\n",
      "Iteration 9, loss = 0.75133238\n",
      "Iteration 10, loss = 0.74632340\n",
      "Iteration 11, loss = 0.74134847\n",
      "Iteration 12, loss = 0.73667945\n"
     ]
    },
    {
     "name": "stderr",
     "output_type": "stream",
     "text": [
      "D:\\AI\\Anaconda3\\lib\\site-packages\\sklearn\\neural_network\\_multilayer_perceptron.py:692: ConvergenceWarning: Stochastic Optimizer: Maximum iterations (20) reached and the optimization hasn't converged yet.\n",
      "  warnings.warn(\n",
      "D:\\AI\\Anaconda3\\lib\\site-packages\\sklearn\\neural_network\\_multilayer_perceptron.py:692: ConvergenceWarning: Stochastic Optimizer: Maximum iterations (20) reached and the optimization hasn't converged yet.\n",
      "  warnings.warn(\n"
     ]
    },
    {
     "name": "stdout",
     "output_type": "stream",
     "text": [
      "Iteration 13, loss = 0.73220329\n",
      "Iteration 14, loss = 0.72779836\n",
      "Iteration 15, loss = 0.72327162\n",
      "Iteration 16, loss = 0.71902412\n",
      "Iteration 17, loss = 0.71494815\n",
      "Iteration 18, loss = 0.71095673\n",
      "Iteration 19, loss = 0.70679628\n",
      "Iteration 20, loss = 0.70258732\n",
      "Iteration 1, loss = 0.92802274\n",
      "Iteration 2, loss = 0.87949095\n",
      "Iteration 3, loss = 0.83685077\n",
      "Iteration 4, loss = 0.80581904\n",
      "Iteration 5, loss = 0.78574485\n",
      "Iteration 6, loss = 0.77222228\n",
      "Iteration 7, loss = 0.76269245\n",
      "Iteration 8, loss = 0.75599181\n",
      "Iteration 9, loss = 0.75045769\n",
      "Iteration 10, loss = 0.74540276\n",
      "Iteration 11, loss = 0.74044629\n",
      "Iteration 12, loss = 0.73589990\n",
      "Iteration 13, loss = 0.73133054\n",
      "Iteration 14, loss = 0.72693745\n",
      "Iteration 15, loss = 0.72235998\n",
      "Iteration 16, loss = 0.71801636\n",
      "Iteration 17, loss = 0.71384482\n",
      "Iteration 18, loss = 0.70948613\n",
      "Iteration 19, loss = 0.70501697\n",
      "Iteration 20, loss = 0.70075165\n",
      "Iteration 1, loss = 0.92873032\n",
      "Iteration 2, loss = 0.88059276\n",
      "Iteration 3, loss = 0.83832067\n",
      "Iteration 4, loss = 0.80763321\n",
      "Iteration 5, loss = 0.78739865\n",
      "Iteration 6, loss = 0.77358193\n",
      "Iteration 7, loss = 0.76420891\n",
      "Iteration 8, loss = 0.75755413\n",
      "Iteration 9, loss = 0.75209611\n",
      "Iteration 10, loss = 0.74726349\n",
      "Iteration 11, loss = 0.74245539\n",
      "Iteration 12, loss = 0.73807786\n",
      "Iteration 13, loss = 0.73367227\n",
      "Iteration 14, loss = 0.72950517\n"
     ]
    },
    {
     "name": "stderr",
     "output_type": "stream",
     "text": [
      "D:\\AI\\Anaconda3\\lib\\site-packages\\sklearn\\neural_network\\_multilayer_perceptron.py:692: ConvergenceWarning: Stochastic Optimizer: Maximum iterations (20) reached and the optimization hasn't converged yet.\n",
      "  warnings.warn(\n"
     ]
    },
    {
     "name": "stdout",
     "output_type": "stream",
     "text": [
      "Iteration 15, loss = 0.72509516\n",
      "Iteration 16, loss = 0.72090203\n",
      "Iteration 17, loss = 0.71704039\n",
      "Iteration 18, loss = 0.71303570\n",
      "Iteration 19, loss = 0.70892681\n",
      "Iteration 20, loss = 0.70489949\n"
     ]
    },
    {
     "name": "stderr",
     "output_type": "stream",
     "text": [
      "D:\\AI\\Anaconda3\\lib\\site-packages\\sklearn\\neural_network\\_multilayer_perceptron.py:692: ConvergenceWarning: Stochastic Optimizer: Maximum iterations (20) reached and the optimization hasn't converged yet.\n",
      "  warnings.warn(\n",
      "D:\\AI\\Anaconda3\\lib\\site-packages\\sklearn\\neural_network\\_multilayer_perceptron.py:549: ConvergenceWarning: lbfgs failed to converge (status=1):\n",
      "STOP: TOTAL NO. of ITERATIONS REACHED LIMIT.\n",
      "\n",
      "Increase the number of iterations (max_iter) or scale the data as shown in:\n",
      "    https://scikit-learn.org/stable/modules/preprocessing.html\n",
      "  self.n_iter_ = _check_optimize_result(\"lbfgs\", opt_res, self.max_iter)\n",
      "D:\\AI\\Anaconda3\\lib\\site-packages\\sklearn\\neural_network\\_multilayer_perceptron.py:549: ConvergenceWarning: lbfgs failed to converge (status=1):\n",
      "STOP: TOTAL NO. of ITERATIONS REACHED LIMIT.\n",
      "\n",
      "Increase the number of iterations (max_iter) or scale the data as shown in:\n",
      "    https://scikit-learn.org/stable/modules/preprocessing.html\n",
      "  self.n_iter_ = _check_optimize_result(\"lbfgs\", opt_res, self.max_iter)\n",
      "D:\\AI\\Anaconda3\\lib\\site-packages\\sklearn\\neural_network\\_multilayer_perceptron.py:549: ConvergenceWarning: lbfgs failed to converge (status=1):\n",
      "STOP: TOTAL NO. of ITERATIONS REACHED LIMIT.\n",
      "\n",
      "Increase the number of iterations (max_iter) or scale the data as shown in:\n",
      "    https://scikit-learn.org/stable/modules/preprocessing.html\n",
      "  self.n_iter_ = _check_optimize_result(\"lbfgs\", opt_res, self.max_iter)\n",
      "D:\\AI\\Anaconda3\\lib\\site-packages\\sklearn\\neural_network\\_multilayer_perceptron.py:549: ConvergenceWarning: lbfgs failed to converge (status=1):\n",
      "STOP: TOTAL NO. of ITERATIONS REACHED LIMIT.\n",
      "\n",
      "Increase the number of iterations (max_iter) or scale the data as shown in:\n",
      "    https://scikit-learn.org/stable/modules/preprocessing.html\n",
      "  self.n_iter_ = _check_optimize_result(\"lbfgs\", opt_res, self.max_iter)\n",
      "D:\\AI\\Anaconda3\\lib\\site-packages\\sklearn\\neural_network\\_multilayer_perceptron.py:549: ConvergenceWarning: lbfgs failed to converge (status=1):\n",
      "STOP: TOTAL NO. of ITERATIONS REACHED LIMIT.\n",
      "\n",
      "Increase the number of iterations (max_iter) or scale the data as shown in:\n",
      "    https://scikit-learn.org/stable/modules/preprocessing.html\n",
      "  self.n_iter_ = _check_optimize_result(\"lbfgs\", opt_res, self.max_iter)\n",
      "D:\\AI\\Anaconda3\\lib\\site-packages\\sklearn\\neural_network\\_multilayer_perceptron.py:549: ConvergenceWarning: lbfgs failed to converge (status=1):\n",
      "STOP: TOTAL NO. of ITERATIONS REACHED LIMIT.\n",
      "\n",
      "Increase the number of iterations (max_iter) or scale the data as shown in:\n",
      "    https://scikit-learn.org/stable/modules/preprocessing.html\n",
      "  self.n_iter_ = _check_optimize_result(\"lbfgs\", opt_res, self.max_iter)\n",
      "D:\\AI\\Anaconda3\\lib\\site-packages\\sklearn\\neural_network\\_multilayer_perceptron.py:549: ConvergenceWarning: lbfgs failed to converge (status=1):\n",
      "STOP: TOTAL NO. of ITERATIONS REACHED LIMIT.\n",
      "\n",
      "Increase the number of iterations (max_iter) or scale the data as shown in:\n",
      "    https://scikit-learn.org/stable/modules/preprocessing.html\n",
      "  self.n_iter_ = _check_optimize_result(\"lbfgs\", opt_res, self.max_iter)\n",
      "D:\\AI\\Anaconda3\\lib\\site-packages\\sklearn\\neural_network\\_multilayer_perceptron.py:549: ConvergenceWarning: lbfgs failed to converge (status=1):\n",
      "STOP: TOTAL NO. of ITERATIONS REACHED LIMIT.\n",
      "\n",
      "Increase the number of iterations (max_iter) or scale the data as shown in:\n",
      "    https://scikit-learn.org/stable/modules/preprocessing.html\n",
      "  self.n_iter_ = _check_optimize_result(\"lbfgs\", opt_res, self.max_iter)\n",
      "D:\\AI\\Anaconda3\\lib\\site-packages\\sklearn\\neural_network\\_multilayer_perceptron.py:549: ConvergenceWarning: lbfgs failed to converge (status=1):\n",
      "STOP: TOTAL NO. of ITERATIONS REACHED LIMIT.\n",
      "\n",
      "Increase the number of iterations (max_iter) or scale the data as shown in:\n",
      "    https://scikit-learn.org/stable/modules/preprocessing.html\n",
      "  self.n_iter_ = _check_optimize_result(\"lbfgs\", opt_res, self.max_iter)\n",
      "D:\\AI\\Anaconda3\\lib\\site-packages\\sklearn\\neural_network\\_multilayer_perceptron.py:549: ConvergenceWarning: lbfgs failed to converge (status=1):\n",
      "STOP: TOTAL NO. of ITERATIONS REACHED LIMIT.\n",
      "\n",
      "Increase the number of iterations (max_iter) or scale the data as shown in:\n",
      "    https://scikit-learn.org/stable/modules/preprocessing.html\n",
      "  self.n_iter_ = _check_optimize_result(\"lbfgs\", opt_res, self.max_iter)\n"
     ]
    },
    {
     "name": "stdout",
     "output_type": "stream",
     "text": [
      "Iteration 1, loss = 1.20978637\n",
      "Iteration 2, loss = 0.67464402\n",
      "Iteration 3, loss = 0.53519202\n",
      "Iteration 4, loss = 0.47281649\n",
      "Iteration 5, loss = 0.43236291\n",
      "Iteration 6, loss = 0.40407485\n",
      "Iteration 7, loss = 0.38176396\n",
      "Iteration 8, loss = 0.36330787\n",
      "Iteration 9, loss = 0.34745702\n",
      "Iteration 10, loss = 0.33369653\n",
      "Iteration 11, loss = 0.32148767\n",
      "Iteration 12, loss = 0.31033074\n",
      "Iteration 13, loss = 0.30012038\n",
      "Iteration 14, loss = 0.28992086\n",
      "Iteration 15, loss = 0.28183427\n",
      "Iteration 16, loss = 0.27335492\n",
      "Iteration 17, loss = 0.26507877\n",
      "Iteration 18, loss = 0.25831097\n",
      "Iteration 19, loss = 0.25099987\n",
      "Iteration 20, loss = 0.24377040\n",
      "Iteration 1, loss = 1.21902705\n"
     ]
    },
    {
     "name": "stderr",
     "output_type": "stream",
     "text": [
      "D:\\AI\\Anaconda3\\lib\\site-packages\\sklearn\\neural_network\\_multilayer_perceptron.py:692: ConvergenceWarning: Stochastic Optimizer: Maximum iterations (20) reached and the optimization hasn't converged yet.\n",
      "  warnings.warn(\n"
     ]
    },
    {
     "name": "stdout",
     "output_type": "stream",
     "text": [
      "Iteration 2, loss = 0.67935493\n",
      "Iteration 3, loss = 0.53823120\n",
      "Iteration 4, loss = 0.47451971\n",
      "Iteration 5, loss = 0.43401485\n",
      "Iteration 6, loss = 0.40561356\n",
      "Iteration 7, loss = 0.38301182\n",
      "Iteration 8, loss = 0.36429879\n",
      "Iteration 9, loss = 0.34846879\n",
      "Iteration 10, loss = 0.33455143\n",
      "Iteration 11, loss = 0.32217833\n",
      "Iteration 12, loss = 0.31079128\n",
      "Iteration 13, loss = 0.30066196\n",
      "Iteration 14, loss = 0.29018499\n",
      "Iteration 15, loss = 0.28192537\n",
      "Iteration 16, loss = 0.27370800\n",
      "Iteration 17, loss = 0.26543208\n",
      "Iteration 18, loss = 0.25795029\n",
      "Iteration 19, loss = 0.25071270\n",
      "Iteration 20, loss = 0.24330768\n",
      "Iteration 1, loss = 1.21580687\n",
      "Iteration 2, loss = 0.67872801\n",
      "Iteration 3, loss = 0.53934636\n",
      "Iteration 4, loss = 0.47712349\n",
      "Iteration 5, loss = 0.43733111\n"
     ]
    },
    {
     "name": "stderr",
     "output_type": "stream",
     "text": [
      "D:\\AI\\Anaconda3\\lib\\site-packages\\sklearn\\neural_network\\_multilayer_perceptron.py:692: ConvergenceWarning: Stochastic Optimizer: Maximum iterations (20) reached and the optimization hasn't converged yet.\n",
      "  warnings.warn(\n"
     ]
    },
    {
     "name": "stdout",
     "output_type": "stream",
     "text": [
      "Iteration 6, loss = 0.40890016\n",
      "Iteration 7, loss = 0.38651644\n",
      "Iteration 8, loss = 0.36797633\n",
      "Iteration 9, loss = 0.35199587\n",
      "Iteration 10, loss = 0.33777876\n",
      "Iteration 11, loss = 0.32558719\n",
      "Iteration 12, loss = 0.31432541\n",
      "Iteration 13, loss = 0.30416021\n",
      "Iteration 14, loss = 0.29338794\n",
      "Iteration 15, loss = 0.28486726\n",
      "Iteration 16, loss = 0.27658300\n",
      "Iteration 17, loss = 0.26808962\n",
      "Iteration 18, loss = 0.26031683\n",
      "Iteration 19, loss = 0.25314182\n",
      "Iteration 20, loss = 0.24581318\n",
      "Iteration 1, loss = 1.19934702\n",
      "Iteration 2, loss = 0.67172445\n",
      "Iteration 3, loss = 0.53565393\n"
     ]
    },
    {
     "name": "stderr",
     "output_type": "stream",
     "text": [
      "D:\\AI\\Anaconda3\\lib\\site-packages\\sklearn\\neural_network\\_multilayer_perceptron.py:692: ConvergenceWarning: Stochastic Optimizer: Maximum iterations (20) reached and the optimization hasn't converged yet.\n",
      "  warnings.warn(\n"
     ]
    },
    {
     "name": "stdout",
     "output_type": "stream",
     "text": [
      "Iteration 4, loss = 0.47178272\n",
      "Iteration 5, loss = 0.43122984\n",
      "Iteration 6, loss = 0.40233953\n",
      "Iteration 7, loss = 0.37985679\n",
      "Iteration 8, loss = 0.36119504\n",
      "Iteration 9, loss = 0.34511184\n",
      "Iteration 10, loss = 0.33104133\n",
      "Iteration 11, loss = 0.31880144\n",
      "Iteration 12, loss = 0.30731498\n",
      "Iteration 13, loss = 0.29713052\n",
      "Iteration 14, loss = 0.28714744\n",
      "Iteration 15, loss = 0.27854916\n",
      "Iteration 16, loss = 0.27054800\n",
      "Iteration 17, loss = 0.26225095\n",
      "Iteration 18, loss = 0.25491703\n",
      "Iteration 19, loss = 0.24767429\n",
      "Iteration 20, loss = 0.24084058\n",
      "Iteration 1, loss = 1.21660942\n",
      "Iteration 2, loss = 0.67426693\n",
      "Iteration 3, loss = 0.53528138\n",
      "Iteration 4, loss = 0.47222431\n"
     ]
    },
    {
     "name": "stderr",
     "output_type": "stream",
     "text": [
      "D:\\AI\\Anaconda3\\lib\\site-packages\\sklearn\\neural_network\\_multilayer_perceptron.py:692: ConvergenceWarning: Stochastic Optimizer: Maximum iterations (20) reached and the optimization hasn't converged yet.\n",
      "  warnings.warn(\n"
     ]
    },
    {
     "name": "stdout",
     "output_type": "stream",
     "text": [
      "Iteration 5, loss = 0.43232995\n",
      "Iteration 6, loss = 0.40415557\n",
      "Iteration 7, loss = 0.38201892\n",
      "Iteration 8, loss = 0.36401306\n",
      "Iteration 9, loss = 0.34840748\n",
      "Iteration 10, loss = 0.33419825\n",
      "Iteration 11, loss = 0.32205311\n",
      "Iteration 12, loss = 0.31082330\n",
      "Iteration 13, loss = 0.30062574\n",
      "Iteration 14, loss = 0.29067785\n",
      "Iteration 15, loss = 0.28183269\n",
      "Iteration 16, loss = 0.27408107\n",
      "Iteration 17, loss = 0.26545283\n",
      "Iteration 18, loss = 0.25781290\n",
      "Iteration 19, loss = 0.25072600\n",
      "Iteration 20, loss = 0.24368056\n",
      "Iteration 1, loss = 1.20899041\n",
      "Iteration 2, loss = 0.67379082\n",
      "Iteration 3, loss = 0.53561556\n",
      "Iteration 4, loss = 0.47197129\n",
      "Iteration 5, loss = 0.43170719\n",
      "Iteration 6, loss = 0.40320843\n"
     ]
    },
    {
     "name": "stderr",
     "output_type": "stream",
     "text": [
      "D:\\AI\\Anaconda3\\lib\\site-packages\\sklearn\\neural_network\\_multilayer_perceptron.py:692: ConvergenceWarning: Stochastic Optimizer: Maximum iterations (20) reached and the optimization hasn't converged yet.\n",
      "  warnings.warn(\n"
     ]
    },
    {
     "name": "stdout",
     "output_type": "stream",
     "text": [
      "Iteration 7, loss = 0.38096615\n",
      "Iteration 8, loss = 0.36275208\n",
      "Iteration 9, loss = 0.34726884\n",
      "Iteration 10, loss = 0.33282165\n",
      "Iteration 11, loss = 0.32072488\n",
      "Iteration 12, loss = 0.30989003\n",
      "Iteration 13, loss = 0.29957033\n",
      "Iteration 14, loss = 0.28963319\n",
      "Iteration 15, loss = 0.28059916\n",
      "Iteration 16, loss = 0.27291470\n",
      "Iteration 17, loss = 0.26451763\n",
      "Iteration 18, loss = 0.25702718\n",
      "Iteration 19, loss = 0.25006175\n",
      "Iteration 20, loss = 0.24296602\n"
     ]
    },
    {
     "name": "stderr",
     "output_type": "stream",
     "text": [
      "D:\\AI\\Anaconda3\\lib\\site-packages\\sklearn\\neural_network\\_multilayer_perceptron.py:692: ConvergenceWarning: Stochastic Optimizer: Maximum iterations (20) reached and the optimization hasn't converged yet.\n",
      "  warnings.warn(\n"
     ]
    },
    {
     "name": "stdout",
     "output_type": "stream",
     "text": [
      "Iteration 1, loss = 1.20032909\n",
      "Iteration 2, loss = 0.67016993\n",
      "Iteration 3, loss = 0.53370565\n",
      "Iteration 4, loss = 0.46956038\n",
      "Iteration 5, loss = 0.42925303\n",
      "Iteration 6, loss = 0.40060519\n",
      "Iteration 7, loss = 0.37803545\n",
      "Iteration 8, loss = 0.35941706\n",
      "Iteration 9, loss = 0.34347766\n",
      "Iteration 10, loss = 0.32868773\n",
      "Iteration 11, loss = 0.31619955\n",
      "Iteration 12, loss = 0.30492347\n",
      "Iteration 13, loss = 0.29466562\n",
      "Iteration 14, loss = 0.28472275\n",
      "Iteration 15, loss = 0.27613887\n",
      "Iteration 16, loss = 0.26846729\n",
      "Iteration 17, loss = 0.25997333\n",
      "Iteration 18, loss = 0.25249452\n",
      "Iteration 19, loss = 0.24565916\n",
      "Iteration 20, loss = 0.23890221\n",
      "Iteration 1, loss = 1.18673475\n",
      "Iteration 2, loss = 0.66720131\n",
      "Iteration 3, loss = 0.53569361\n",
      "Iteration 4, loss = 0.47185438\n",
      "Iteration 5, loss = 0.43152995\n"
     ]
    },
    {
     "name": "stderr",
     "output_type": "stream",
     "text": [
      "D:\\AI\\Anaconda3\\lib\\site-packages\\sklearn\\neural_network\\_multilayer_perceptron.py:692: ConvergenceWarning: Stochastic Optimizer: Maximum iterations (20) reached and the optimization hasn't converged yet.\n",
      "  warnings.warn(\n"
     ]
    },
    {
     "name": "stdout",
     "output_type": "stream",
     "text": [
      "Iteration 6, loss = 0.40266661\n",
      "Iteration 7, loss = 0.38015784\n",
      "Iteration 8, loss = 0.36193374\n",
      "Iteration 9, loss = 0.34578450\n",
      "Iteration 10, loss = 0.33163265\n",
      "Iteration 11, loss = 0.31937043\n",
      "Iteration 12, loss = 0.30807224\n",
      "Iteration 13, loss = 0.29797497\n",
      "Iteration 14, loss = 0.28808037\n",
      "Iteration 15, loss = 0.27946622\n",
      "Iteration 16, loss = 0.27157363\n",
      "Iteration 17, loss = 0.26289634\n",
      "Iteration 18, loss = 0.25557952\n",
      "Iteration 19, loss = 0.24844572\n",
      "Iteration 20, loss = 0.24205398\n",
      "Iteration 1, loss = 1.20193330\n",
      "Iteration 2, loss = 0.67081698\n",
      "Iteration 3, loss = 0.53400382\n",
      "Iteration 4, loss = 0.47105516\n"
     ]
    },
    {
     "name": "stderr",
     "output_type": "stream",
     "text": [
      "D:\\AI\\Anaconda3\\lib\\site-packages\\sklearn\\neural_network\\_multilayer_perceptron.py:692: ConvergenceWarning: Stochastic Optimizer: Maximum iterations (20) reached and the optimization hasn't converged yet.\n",
      "  warnings.warn(\n"
     ]
    },
    {
     "name": "stdout",
     "output_type": "stream",
     "text": [
      "Iteration 5, loss = 0.43132800\n",
      "Iteration 6, loss = 0.40338016\n",
      "Iteration 7, loss = 0.38094928\n",
      "Iteration 8, loss = 0.36240091\n",
      "Iteration 9, loss = 0.34694043\n",
      "Iteration 10, loss = 0.33345606\n",
      "Iteration 11, loss = 0.32132501\n",
      "Iteration 12, loss = 0.30956024\n",
      "Iteration 13, loss = 0.29947306\n",
      "Iteration 14, loss = 0.29024797\n",
      "Iteration 15, loss = 0.28123852\n",
      "Iteration 16, loss = 0.27346986\n",
      "Iteration 17, loss = 0.26532066\n",
      "Iteration 18, loss = 0.25767131\n",
      "Iteration 19, loss = 0.25037992\n",
      "Iteration 20, loss = 0.24354460\n",
      "Iteration 1, loss = 1.19975542\n"
     ]
    },
    {
     "name": "stderr",
     "output_type": "stream",
     "text": [
      "D:\\AI\\Anaconda3\\lib\\site-packages\\sklearn\\neural_network\\_multilayer_perceptron.py:692: ConvergenceWarning: Stochastic Optimizer: Maximum iterations (20) reached and the optimization hasn't converged yet.\n",
      "  warnings.warn(\n"
     ]
    },
    {
     "name": "stdout",
     "output_type": "stream",
     "text": [
      "Iteration 2, loss = 0.67201293\n",
      "Iteration 3, loss = 0.53839713\n",
      "Iteration 4, loss = 0.47585089\n",
      "Iteration 5, loss = 0.43641741\n",
      "Iteration 6, loss = 0.40867818\n",
      "Iteration 7, loss = 0.38655484\n",
      "Iteration 8, loss = 0.36801631\n",
      "Iteration 9, loss = 0.35230184\n",
      "Iteration 10, loss = 0.33845988\n",
      "Iteration 11, loss = 0.32626835\n",
      "Iteration 12, loss = 0.31453270\n",
      "Iteration 13, loss = 0.30430289\n",
      "Iteration 14, loss = 0.29518422\n",
      "Iteration 15, loss = 0.28607755\n",
      "Iteration 16, loss = 0.27823370\n",
      "Iteration 17, loss = 0.27019044\n",
      "Iteration 18, loss = 0.26221812\n",
      "Iteration 19, loss = 0.25494185\n",
      "Iteration 20, loss = 0.24802720\n",
      "Iteration 1, loss = 1.30943368\n",
      "Iteration 2, loss = 0.81570869\n",
      "Iteration 3, loss = 0.74024352\n",
      "Iteration 4, loss = 0.69721587\n"
     ]
    },
    {
     "name": "stderr",
     "output_type": "stream",
     "text": [
      "D:\\AI\\Anaconda3\\lib\\site-packages\\sklearn\\neural_network\\_multilayer_perceptron.py:692: ConvergenceWarning: Stochastic Optimizer: Maximum iterations (20) reached and the optimization hasn't converged yet.\n",
      "  warnings.warn(\n"
     ]
    },
    {
     "name": "stdout",
     "output_type": "stream",
     "text": [
      "Iteration 5, loss = 0.67052001\n",
      "Iteration 6, loss = 0.65022150\n",
      "Iteration 7, loss = 0.63373897\n",
      "Iteration 8, loss = 0.61971055\n",
      "Iteration 9, loss = 0.60661426\n",
      "Iteration 10, loss = 0.59576439\n",
      "Iteration 11, loss = 0.58538022\n",
      "Iteration 12, loss = 0.57614889\n",
      "Iteration 13, loss = 0.56764344\n",
      "Iteration 14, loss = 0.55972893\n",
      "Iteration 15, loss = 0.55250464\n",
      "Iteration 16, loss = 0.54548762\n",
      "Iteration 17, loss = 0.53870630\n",
      "Iteration 18, loss = 0.53285574\n",
      "Iteration 19, loss = 0.52718659\n",
      "Iteration 20, loss = 0.52129290\n",
      "Iteration 1, loss = 1.31921660\n",
      "Iteration 2, loss = 0.82145984\n"
     ]
    },
    {
     "name": "stderr",
     "output_type": "stream",
     "text": [
      "D:\\AI\\Anaconda3\\lib\\site-packages\\sklearn\\neural_network\\_multilayer_perceptron.py:692: ConvergenceWarning: Stochastic Optimizer: Maximum iterations (20) reached and the optimization hasn't converged yet.\n",
      "  warnings.warn(\n"
     ]
    },
    {
     "name": "stdout",
     "output_type": "stream",
     "text": [
      "Iteration 3, loss = 0.74660727\n",
      "Iteration 4, loss = 0.70278298\n",
      "Iteration 5, loss = 0.67638651\n",
      "Iteration 6, loss = 0.65610076\n",
      "Iteration 7, loss = 0.63971892\n",
      "Iteration 8, loss = 0.62571459\n",
      "Iteration 9, loss = 0.61285818\n",
      "Iteration 10, loss = 0.60212568\n",
      "Iteration 11, loss = 0.59169238\n",
      "Iteration 12, loss = 0.58266960\n",
      "Iteration 13, loss = 0.57427152\n",
      "Iteration 14, loss = 0.56606011\n",
      "Iteration 15, loss = 0.55888991\n",
      "Iteration 16, loss = 0.55194395\n",
      "Iteration 17, loss = 0.54514190\n",
      "Iteration 18, loss = 0.53920145\n",
      "Iteration 19, loss = 0.53324696\n",
      "Iteration 20, loss = 0.52734266\n",
      "Iteration 1, loss = 1.31799858\n",
      "Iteration 2, loss = 0.81949296\n",
      "Iteration 3, loss = 0.74609735\n"
     ]
    },
    {
     "name": "stderr",
     "output_type": "stream",
     "text": [
      "D:\\AI\\Anaconda3\\lib\\site-packages\\sklearn\\neural_network\\_multilayer_perceptron.py:692: ConvergenceWarning: Stochastic Optimizer: Maximum iterations (20) reached and the optimization hasn't converged yet.\n",
      "  warnings.warn(\n"
     ]
    },
    {
     "name": "stdout",
     "output_type": "stream",
     "text": [
      "Iteration 4, loss = 0.70337053\n",
      "Iteration 5, loss = 0.67759033\n",
      "Iteration 6, loss = 0.65747381\n",
      "Iteration 7, loss = 0.64126440\n",
      "Iteration 8, loss = 0.62738603\n",
      "Iteration 9, loss = 0.61471383\n",
      "Iteration 10, loss = 0.60392596\n",
      "Iteration 11, loss = 0.59386295\n",
      "Iteration 12, loss = 0.58505010\n",
      "Iteration 13, loss = 0.57680450\n",
      "Iteration 14, loss = 0.56851948\n",
      "Iteration 15, loss = 0.56130238\n",
      "Iteration 16, loss = 0.55441537\n",
      "Iteration 17, loss = 0.54781463\n",
      "Iteration 18, loss = 0.54193702\n",
      "Iteration 19, loss = 0.53596460\n",
      "Iteration 20, loss = 0.53022222\n",
      "Iteration 1, loss = 1.30468695\n",
      "Iteration 2, loss = 0.81749487\n",
      "Iteration 3, loss = 0.74454819\n",
      "Iteration 4, loss = 0.70118336\n",
      "Iteration 5, loss = 0.67475573\n",
      "Iteration 6, loss = 0.65456280\n",
      "Iteration 7, loss = 0.63786077\n"
     ]
    },
    {
     "name": "stderr",
     "output_type": "stream",
     "text": [
      "D:\\AI\\Anaconda3\\lib\\site-packages\\sklearn\\neural_network\\_multilayer_perceptron.py:692: ConvergenceWarning: Stochastic Optimizer: Maximum iterations (20) reached and the optimization hasn't converged yet.\n",
      "  warnings.warn(\n"
     ]
    },
    {
     "name": "stdout",
     "output_type": "stream",
     "text": [
      "Iteration 8, loss = 0.62356014\n",
      "Iteration 9, loss = 0.61063300\n",
      "Iteration 10, loss = 0.59941855\n",
      "Iteration 11, loss = 0.58911706\n",
      "Iteration 12, loss = 0.58005943\n",
      "Iteration 13, loss = 0.57147552\n",
      "Iteration 14, loss = 0.56305764\n",
      "Iteration 15, loss = 0.55573473\n",
      "Iteration 16, loss = 0.54845797\n",
      "Iteration 17, loss = 0.54185008\n",
      "Iteration 18, loss = 0.53568709\n",
      "Iteration 19, loss = 0.52948767\n",
      "Iteration 20, loss = 0.52367570\n",
      "Iteration 1, loss = 1.32150219\n",
      "Iteration 2, loss = 0.81875013\n",
      "Iteration 3, loss = 0.74620341\n",
      "Iteration 4, loss = 0.70170136\n",
      "Iteration 5, loss = 0.67515345\n"
     ]
    },
    {
     "name": "stderr",
     "output_type": "stream",
     "text": [
      "D:\\AI\\Anaconda3\\lib\\site-packages\\sklearn\\neural_network\\_multilayer_perceptron.py:692: ConvergenceWarning: Stochastic Optimizer: Maximum iterations (20) reached and the optimization hasn't converged yet.\n",
      "  warnings.warn(\n"
     ]
    },
    {
     "name": "stdout",
     "output_type": "stream",
     "text": [
      "Iteration 6, loss = 0.65458133\n",
      "Iteration 7, loss = 0.63776285\n",
      "Iteration 8, loss = 0.62339529\n",
      "Iteration 9, loss = 0.61057972\n",
      "Iteration 10, loss = 0.59906447\n",
      "Iteration 11, loss = 0.58890794\n",
      "Iteration 12, loss = 0.57977449\n",
      "Iteration 13, loss = 0.57120764\n",
      "Iteration 14, loss = 0.56289721\n",
      "Iteration 15, loss = 0.55551842\n",
      "Iteration 16, loss = 0.54843947\n",
      "Iteration 17, loss = 0.54186735\n",
      "Iteration 18, loss = 0.53574139\n",
      "Iteration 19, loss = 0.52964728\n",
      "Iteration 20, loss = 0.52397001\n",
      "Iteration 1, loss = 1.31463696\n",
      "Iteration 2, loss = 0.81972159\n",
      "Iteration 3, loss = 0.74686318\n",
      "Iteration 4, loss = 0.70308975\n"
     ]
    },
    {
     "name": "stderr",
     "output_type": "stream",
     "text": [
      "D:\\AI\\Anaconda3\\lib\\site-packages\\sklearn\\neural_network\\_multilayer_perceptron.py:692: ConvergenceWarning: Stochastic Optimizer: Maximum iterations (20) reached and the optimization hasn't converged yet.\n",
      "  warnings.warn(\n"
     ]
    },
    {
     "name": "stdout",
     "output_type": "stream",
     "text": [
      "Iteration 5, loss = 0.67711821\n",
      "Iteration 6, loss = 0.65688986\n",
      "Iteration 7, loss = 0.64053322\n",
      "Iteration 8, loss = 0.62638478\n",
      "Iteration 9, loss = 0.61407155\n",
      "Iteration 10, loss = 0.60262185\n",
      "Iteration 11, loss = 0.59274521\n",
      "Iteration 12, loss = 0.58384188\n",
      "Iteration 13, loss = 0.57494776\n",
      "Iteration 14, loss = 0.56678863\n",
      "Iteration 15, loss = 0.55951891\n",
      "Iteration 16, loss = 0.55221661\n",
      "Iteration 17, loss = 0.54574997\n",
      "Iteration 18, loss = 0.53954804\n",
      "Iteration 19, loss = 0.53346466\n",
      "Iteration 20, loss = 0.52767585\n"
     ]
    },
    {
     "name": "stderr",
     "output_type": "stream",
     "text": [
      "D:\\AI\\Anaconda3\\lib\\site-packages\\sklearn\\neural_network\\_multilayer_perceptron.py:692: ConvergenceWarning: Stochastic Optimizer: Maximum iterations (20) reached and the optimization hasn't converged yet.\n",
      "  warnings.warn(\n"
     ]
    },
    {
     "name": "stdout",
     "output_type": "stream",
     "text": [
      "Iteration 1, loss = 1.31068258\n",
      "Iteration 2, loss = 0.81716553\n",
      "Iteration 3, loss = 0.74360986\n",
      "Iteration 4, loss = 0.69896136\n",
      "Iteration 5, loss = 0.67263345\n",
      "Iteration 6, loss = 0.65245306\n",
      "Iteration 7, loss = 0.63595464\n",
      "Iteration 8, loss = 0.62180704\n",
      "Iteration 9, loss = 0.60982965\n",
      "Iteration 10, loss = 0.59817416\n",
      "Iteration 11, loss = 0.58836015\n",
      "Iteration 12, loss = 0.57937016\n",
      "Iteration 13, loss = 0.57081372\n",
      "Iteration 14, loss = 0.56293801\n",
      "Iteration 15, loss = 0.55589006\n",
      "Iteration 16, loss = 0.54861765\n",
      "Iteration 17, loss = 0.54232676\n",
      "Iteration 18, loss = 0.53611044\n",
      "Iteration 19, loss = 0.53013170\n",
      "Iteration 20, loss = 0.52470566\n",
      "Iteration 1, loss = 1.30135069\n",
      "Iteration 2, loss = 0.81651613\n",
      "Iteration 3, loss = 0.74585089\n"
     ]
    },
    {
     "name": "stderr",
     "output_type": "stream",
     "text": [
      "D:\\AI\\Anaconda3\\lib\\site-packages\\sklearn\\neural_network\\_multilayer_perceptron.py:692: ConvergenceWarning: Stochastic Optimizer: Maximum iterations (20) reached and the optimization hasn't converged yet.\n",
      "  warnings.warn(\n"
     ]
    },
    {
     "name": "stdout",
     "output_type": "stream",
     "text": [
      "Iteration 4, loss = 0.70193843\n",
      "Iteration 5, loss = 0.67572239\n",
      "Iteration 6, loss = 0.65544242\n",
      "Iteration 7, loss = 0.63890468\n",
      "Iteration 8, loss = 0.62466129\n",
      "Iteration 9, loss = 0.61229090\n",
      "Iteration 10, loss = 0.60083917\n",
      "Iteration 11, loss = 0.59092241\n",
      "Iteration 12, loss = 0.58169785\n",
      "Iteration 13, loss = 0.57318828\n",
      "Iteration 14, loss = 0.56512656\n",
      "Iteration 15, loss = 0.55795330\n",
      "Iteration 16, loss = 0.55067142\n",
      "Iteration 17, loss = 0.54422735\n",
      "Iteration 18, loss = 0.53787694\n",
      "Iteration 19, loss = 0.53193278\n",
      "Iteration 20, loss = 0.52653039\n",
      "Iteration 1, loss = 1.31271023\n",
      "Iteration 2, loss = 0.81864234\n",
      "Iteration 3, loss = 0.74183503\n",
      "Iteration 4, loss = 0.69809750\n",
      "Iteration 5, loss = 0.67152768\n",
      "Iteration 6, loss = 0.65134527\n",
      "Iteration 7, loss = 0.63486952\n"
     ]
    },
    {
     "name": "stderr",
     "output_type": "stream",
     "text": [
      "D:\\AI\\Anaconda3\\lib\\site-packages\\sklearn\\neural_network\\_multilayer_perceptron.py:692: ConvergenceWarning: Stochastic Optimizer: Maximum iterations (20) reached and the optimization hasn't converged yet.\n",
      "  warnings.warn(\n"
     ]
    },
    {
     "name": "stdout",
     "output_type": "stream",
     "text": [
      "Iteration 8, loss = 0.62071235\n",
      "Iteration 9, loss = 0.60831357\n",
      "Iteration 10, loss = 0.59707219\n",
      "Iteration 11, loss = 0.58699357\n",
      "Iteration 12, loss = 0.57755538\n",
      "Iteration 13, loss = 0.56896538\n",
      "Iteration 14, loss = 0.56082644\n",
      "Iteration 15, loss = 0.55356638\n",
      "Iteration 16, loss = 0.54641871\n",
      "Iteration 17, loss = 0.53991460\n",
      "Iteration 18, loss = 0.53359388\n",
      "Iteration 19, loss = 0.52771038\n",
      "Iteration 20, loss = 0.52196551\n",
      "Iteration 1, loss = 1.31477201\n",
      "Iteration 2, loss = 0.82244565\n",
      "Iteration 3, loss = 0.74938164\n",
      "Iteration 4, loss = 0.70624795\n",
      "Iteration 5, loss = 0.67938913\n",
      "Iteration 6, loss = 0.65913693\n"
     ]
    },
    {
     "name": "stderr",
     "output_type": "stream",
     "text": [
      "D:\\AI\\Anaconda3\\lib\\site-packages\\sklearn\\neural_network\\_multilayer_perceptron.py:692: ConvergenceWarning: Stochastic Optimizer: Maximum iterations (20) reached and the optimization hasn't converged yet.\n",
      "  warnings.warn(\n"
     ]
    },
    {
     "name": "stdout",
     "output_type": "stream",
     "text": [
      "Iteration 7, loss = 0.64253712\n",
      "Iteration 8, loss = 0.62844377\n",
      "Iteration 9, loss = 0.61588635\n",
      "Iteration 10, loss = 0.60448909\n",
      "Iteration 11, loss = 0.59445477\n",
      "Iteration 12, loss = 0.58502205\n",
      "Iteration 13, loss = 0.57633865\n",
      "Iteration 14, loss = 0.56829367\n",
      "Iteration 15, loss = 0.56084289\n",
      "Iteration 16, loss = 0.55363894\n",
      "Iteration 17, loss = 0.54697641\n",
      "Iteration 18, loss = 0.54067965\n",
      "Iteration 19, loss = 0.53467270\n",
      "Iteration 20, loss = 0.52872059\n"
     ]
    },
    {
     "name": "stderr",
     "output_type": "stream",
     "text": [
      "D:\\AI\\Anaconda3\\lib\\site-packages\\sklearn\\neural_network\\_multilayer_perceptron.py:692: ConvergenceWarning: Stochastic Optimizer: Maximum iterations (20) reached and the optimization hasn't converged yet.\n",
      "  warnings.warn(\n",
      "D:\\AI\\Anaconda3\\lib\\site-packages\\sklearn\\neural_network\\_multilayer_perceptron.py:549: ConvergenceWarning: lbfgs failed to converge (status=1):\n",
      "STOP: TOTAL NO. of ITERATIONS REACHED LIMIT.\n",
      "\n",
      "Increase the number of iterations (max_iter) or scale the data as shown in:\n",
      "    https://scikit-learn.org/stable/modules/preprocessing.html\n",
      "  self.n_iter_ = _check_optimize_result(\"lbfgs\", opt_res, self.max_iter)\n",
      "D:\\AI\\Anaconda3\\lib\\site-packages\\sklearn\\neural_network\\_multilayer_perceptron.py:549: ConvergenceWarning: lbfgs failed to converge (status=1):\n",
      "STOP: TOTAL NO. of ITERATIONS REACHED LIMIT.\n",
      "\n",
      "Increase the number of iterations (max_iter) or scale the data as shown in:\n",
      "    https://scikit-learn.org/stable/modules/preprocessing.html\n",
      "  self.n_iter_ = _check_optimize_result(\"lbfgs\", opt_res, self.max_iter)\n",
      "D:\\AI\\Anaconda3\\lib\\site-packages\\sklearn\\neural_network\\_multilayer_perceptron.py:549: ConvergenceWarning: lbfgs failed to converge (status=1):\n",
      "STOP: TOTAL NO. of ITERATIONS REACHED LIMIT.\n",
      "\n",
      "Increase the number of iterations (max_iter) or scale the data as shown in:\n",
      "    https://scikit-learn.org/stable/modules/preprocessing.html\n",
      "  self.n_iter_ = _check_optimize_result(\"lbfgs\", opt_res, self.max_iter)\n",
      "D:\\AI\\Anaconda3\\lib\\site-packages\\sklearn\\neural_network\\_multilayer_perceptron.py:549: ConvergenceWarning: lbfgs failed to converge (status=1):\n",
      "STOP: TOTAL NO. of ITERATIONS REACHED LIMIT.\n",
      "\n",
      "Increase the number of iterations (max_iter) or scale the data as shown in:\n",
      "    https://scikit-learn.org/stable/modules/preprocessing.html\n",
      "  self.n_iter_ = _check_optimize_result(\"lbfgs\", opt_res, self.max_iter)\n",
      "D:\\AI\\Anaconda3\\lib\\site-packages\\sklearn\\neural_network\\_multilayer_perceptron.py:549: ConvergenceWarning: lbfgs failed to converge (status=1):\n",
      "STOP: TOTAL NO. of ITERATIONS REACHED LIMIT.\n",
      "\n",
      "Increase the number of iterations (max_iter) or scale the data as shown in:\n",
      "    https://scikit-learn.org/stable/modules/preprocessing.html\n",
      "  self.n_iter_ = _check_optimize_result(\"lbfgs\", opt_res, self.max_iter)\n",
      "D:\\AI\\Anaconda3\\lib\\site-packages\\sklearn\\neural_network\\_multilayer_perceptron.py:549: ConvergenceWarning: lbfgs failed to converge (status=1):\n",
      "STOP: TOTAL NO. of ITERATIONS REACHED LIMIT.\n",
      "\n",
      "Increase the number of iterations (max_iter) or scale the data as shown in:\n",
      "    https://scikit-learn.org/stable/modules/preprocessing.html\n",
      "  self.n_iter_ = _check_optimize_result(\"lbfgs\", opt_res, self.max_iter)\n",
      "D:\\AI\\Anaconda3\\lib\\site-packages\\sklearn\\neural_network\\_multilayer_perceptron.py:549: ConvergenceWarning: lbfgs failed to converge (status=1):\n",
      "STOP: TOTAL NO. of ITERATIONS REACHED LIMIT.\n",
      "\n",
      "Increase the number of iterations (max_iter) or scale the data as shown in:\n",
      "    https://scikit-learn.org/stable/modules/preprocessing.html\n",
      "  self.n_iter_ = _check_optimize_result(\"lbfgs\", opt_res, self.max_iter)\n",
      "D:\\AI\\Anaconda3\\lib\\site-packages\\sklearn\\neural_network\\_multilayer_perceptron.py:549: ConvergenceWarning: lbfgs failed to converge (status=1):\n",
      "STOP: TOTAL NO. of ITERATIONS REACHED LIMIT.\n",
      "\n",
      "Increase the number of iterations (max_iter) or scale the data as shown in:\n",
      "    https://scikit-learn.org/stable/modules/preprocessing.html\n",
      "  self.n_iter_ = _check_optimize_result(\"lbfgs\", opt_res, self.max_iter)\n",
      "D:\\AI\\Anaconda3\\lib\\site-packages\\sklearn\\neural_network\\_multilayer_perceptron.py:549: ConvergenceWarning: lbfgs failed to converge (status=1):\n",
      "STOP: TOTAL NO. of ITERATIONS REACHED LIMIT.\n",
      "\n",
      "Increase the number of iterations (max_iter) or scale the data as shown in:\n",
      "    https://scikit-learn.org/stable/modules/preprocessing.html\n",
      "  self.n_iter_ = _check_optimize_result(\"lbfgs\", opt_res, self.max_iter)\n",
      "D:\\AI\\Anaconda3\\lib\\site-packages\\sklearn\\neural_network\\_multilayer_perceptron.py:549: ConvergenceWarning: lbfgs failed to converge (status=1):\n",
      "STOP: TOTAL NO. of ITERATIONS REACHED LIMIT.\n",
      "\n",
      "Increase the number of iterations (max_iter) or scale the data as shown in:\n",
      "    https://scikit-learn.org/stable/modules/preprocessing.html\n",
      "  self.n_iter_ = _check_optimize_result(\"lbfgs\", opt_res, self.max_iter)\n"
     ]
    },
    {
     "name": "stdout",
     "output_type": "stream",
     "text": [
      "Iteration 1, loss = 0.67298000\n",
      "Iteration 2, loss = 0.52493988\n",
      "Iteration 3, loss = 0.44505012\n",
      "Iteration 4, loss = 0.38352801\n",
      "Iteration 5, loss = 0.34000499\n",
      "Iteration 6, loss = 0.30929402\n",
      "Iteration 7, loss = 0.28386473\n",
      "Iteration 8, loss = 0.26385988\n",
      "Iteration 9, loss = 0.24448739\n",
      "Iteration 10, loss = 0.22937403\n",
      "Iteration 11, loss = 0.21484055\n",
      "Iteration 12, loss = 0.20367700\n",
      "Iteration 13, loss = 0.18960008\n",
      "Iteration 14, loss = 0.17533036\n",
      "Iteration 15, loss = 0.16468460\n",
      "Iteration 16, loss = 0.15395290\n",
      "Iteration 17, loss = 0.14238047\n",
      "Iteration 18, loss = 0.13354695\n",
      "Iteration 19, loss = 0.12697427\n",
      "Iteration 20, loss = 0.11630130\n",
      "Iteration 1, loss = 0.68158328\n",
      "Iteration 2, loss = 0.53136554\n",
      "Iteration 3, loss = 0.44924207\n"
     ]
    },
    {
     "name": "stderr",
     "output_type": "stream",
     "text": [
      "D:\\AI\\Anaconda3\\lib\\site-packages\\sklearn\\neural_network\\_multilayer_perceptron.py:692: ConvergenceWarning: Stochastic Optimizer: Maximum iterations (20) reached and the optimization hasn't converged yet.\n",
      "  warnings.warn(\n"
     ]
    },
    {
     "name": "stdout",
     "output_type": "stream",
     "text": [
      "Iteration 4, loss = 0.38694857\n",
      "Iteration 5, loss = 0.34319148\n",
      "Iteration 6, loss = 0.31379766\n",
      "Iteration 7, loss = 0.28771183\n",
      "Iteration 8, loss = 0.26686242\n",
      "Iteration 9, loss = 0.24679217\n",
      "Iteration 10, loss = 0.23226434\n",
      "Iteration 11, loss = 0.21760858\n",
      "Iteration 12, loss = 0.20329990\n",
      "Iteration 13, loss = 0.19046979\n",
      "Iteration 14, loss = 0.17763515\n",
      "Iteration 15, loss = 0.16688168\n",
      "Iteration 16, loss = 0.15672684\n",
      "Iteration 17, loss = 0.14521693\n",
      "Iteration 18, loss = 0.13522969\n",
      "Iteration 19, loss = 0.12719409\n",
      "Iteration 20, loss = 0.11840876\n",
      "Iteration 1, loss = 0.67753720\n",
      "Iteration 2, loss = 0.53211274\n"
     ]
    },
    {
     "name": "stderr",
     "output_type": "stream",
     "text": [
      "D:\\AI\\Anaconda3\\lib\\site-packages\\sklearn\\neural_network\\_multilayer_perceptron.py:692: ConvergenceWarning: Stochastic Optimizer: Maximum iterations (20) reached and the optimization hasn't converged yet.\n",
      "  warnings.warn(\n"
     ]
    },
    {
     "name": "stdout",
     "output_type": "stream",
     "text": [
      "Iteration 3, loss = 0.45091807\n",
      "Iteration 4, loss = 0.38977643\n",
      "Iteration 5, loss = 0.34683122\n",
      "Iteration 6, loss = 0.31613066\n",
      "Iteration 7, loss = 0.28947577\n",
      "Iteration 8, loss = 0.26704106\n",
      "Iteration 9, loss = 0.24848870\n",
      "Iteration 10, loss = 0.23369457\n",
      "Iteration 11, loss = 0.21819267\n",
      "Iteration 12, loss = 0.20335425\n",
      "Iteration 13, loss = 0.19019753\n",
      "Iteration 14, loss = 0.17814086\n",
      "Iteration 15, loss = 0.16596968\n",
      "Iteration 16, loss = 0.15560545\n",
      "Iteration 17, loss = 0.14502985\n",
      "Iteration 18, loss = 0.13429301\n",
      "Iteration 19, loss = 0.12570768\n",
      "Iteration 20, loss = 0.11700216\n",
      "Iteration 1, loss = 0.67834593\n",
      "Iteration 2, loss = 0.53032400\n",
      "Iteration 3, loss = 0.44899633\n",
      "Iteration 4, loss = 0.38720435\n",
      "Iteration 5, loss = 0.34447710\n",
      "Iteration 6, loss = 0.31387262\n",
      "Iteration 7, loss = 0.28554188\n",
      "Iteration 8, loss = 0.26485505\n"
     ]
    },
    {
     "name": "stderr",
     "output_type": "stream",
     "text": [
      "D:\\AI\\Anaconda3\\lib\\site-packages\\sklearn\\neural_network\\_multilayer_perceptron.py:692: ConvergenceWarning: Stochastic Optimizer: Maximum iterations (20) reached and the optimization hasn't converged yet.\n",
      "  warnings.warn(\n"
     ]
    },
    {
     "name": "stdout",
     "output_type": "stream",
     "text": [
      "Iteration 9, loss = 0.24759285\n",
      "Iteration 10, loss = 0.23444154\n",
      "Iteration 11, loss = 0.21865139\n",
      "Iteration 12, loss = 0.20317398\n",
      "Iteration 13, loss = 0.19084301\n",
      "Iteration 14, loss = 0.17824054\n",
      "Iteration 15, loss = 0.16734761\n",
      "Iteration 16, loss = 0.15745723\n",
      "Iteration 17, loss = 0.14704838\n",
      "Iteration 18, loss = 0.13621470\n",
      "Iteration 19, loss = 0.12757170\n",
      "Iteration 20, loss = 0.11909336\n"
     ]
    },
    {
     "name": "stderr",
     "output_type": "stream",
     "text": [
      "D:\\AI\\Anaconda3\\lib\\site-packages\\sklearn\\neural_network\\_multilayer_perceptron.py:692: ConvergenceWarning: Stochastic Optimizer: Maximum iterations (20) reached and the optimization hasn't converged yet.\n",
      "  warnings.warn(\n"
     ]
    },
    {
     "name": "stdout",
     "output_type": "stream",
     "text": [
      "Iteration 1, loss = 0.67680876\n",
      "Iteration 2, loss = 0.52746160\n",
      "Iteration 3, loss = 0.44654014\n",
      "Iteration 4, loss = 0.38652223\n",
      "Iteration 5, loss = 0.34519935\n",
      "Iteration 6, loss = 0.31605084\n",
      "Iteration 7, loss = 0.28690267\n",
      "Iteration 8, loss = 0.26667890\n",
      "Iteration 9, loss = 0.24940155\n",
      "Iteration 10, loss = 0.23418070\n",
      "Iteration 11, loss = 0.21827313\n",
      "Iteration 12, loss = 0.20270295\n",
      "Iteration 13, loss = 0.19043179\n",
      "Iteration 14, loss = 0.17713018\n",
      "Iteration 15, loss = 0.16664147\n",
      "Iteration 16, loss = 0.15570407\n",
      "Iteration 17, loss = 0.14452863\n",
      "Iteration 18, loss = 0.13380345\n",
      "Iteration 19, loss = 0.12489299\n",
      "Iteration 20, loss = 0.11630646\n",
      "Iteration 1, loss = 0.67901479\n",
      "Iteration 2, loss = 0.52942465\n",
      "Iteration 3, loss = 0.44802368\n"
     ]
    },
    {
     "name": "stderr",
     "output_type": "stream",
     "text": [
      "D:\\AI\\Anaconda3\\lib\\site-packages\\sklearn\\neural_network\\_multilayer_perceptron.py:692: ConvergenceWarning: Stochastic Optimizer: Maximum iterations (20) reached and the optimization hasn't converged yet.\n",
      "  warnings.warn(\n"
     ]
    },
    {
     "name": "stdout",
     "output_type": "stream",
     "text": [
      "Iteration 4, loss = 0.38696237\n",
      "Iteration 5, loss = 0.34358459\n",
      "Iteration 6, loss = 0.31450243\n",
      "Iteration 7, loss = 0.28457107\n",
      "Iteration 8, loss = 0.26456326\n",
      "Iteration 9, loss = 0.24649850\n",
      "Iteration 10, loss = 0.23159639\n",
      "Iteration 11, loss = 0.21669087\n",
      "Iteration 12, loss = 0.20066972\n",
      "Iteration 13, loss = 0.18819741\n",
      "Iteration 14, loss = 0.17673186\n",
      "Iteration 15, loss = 0.16444282\n",
      "Iteration 16, loss = 0.15267848\n",
      "Iteration 17, loss = 0.14212177\n",
      "Iteration 18, loss = 0.13242955\n",
      "Iteration 19, loss = 0.12269630\n",
      "Iteration 20, loss = 0.11458973\n"
     ]
    },
    {
     "name": "stderr",
     "output_type": "stream",
     "text": [
      "D:\\AI\\Anaconda3\\lib\\site-packages\\sklearn\\neural_network\\_multilayer_perceptron.py:692: ConvergenceWarning: Stochastic Optimizer: Maximum iterations (20) reached and the optimization hasn't converged yet.\n",
      "  warnings.warn(\n"
     ]
    },
    {
     "name": "stdout",
     "output_type": "stream",
     "text": [
      "Iteration 1, loss = 0.67674126\n",
      "Iteration 2, loss = 0.52463439\n",
      "Iteration 3, loss = 0.44230163\n",
      "Iteration 4, loss = 0.38086395\n",
      "Iteration 5, loss = 0.33641577\n",
      "Iteration 6, loss = 0.30638834\n",
      "Iteration 7, loss = 0.27753287\n",
      "Iteration 8, loss = 0.25748954\n",
      "Iteration 9, loss = 0.23873836\n",
      "Iteration 10, loss = 0.22539437\n",
      "Iteration 11, loss = 0.20990388\n",
      "Iteration 12, loss = 0.19634353\n",
      "Iteration 13, loss = 0.18420958\n",
      "Iteration 14, loss = 0.17259563\n",
      "Iteration 15, loss = 0.16037489\n",
      "Iteration 16, loss = 0.15013972\n",
      "Iteration 17, loss = 0.14032655\n",
      "Iteration 18, loss = 0.13082381\n",
      "Iteration 19, loss = 0.12092104\n",
      "Iteration 20, loss = 0.11398846\n",
      "Iteration 1, loss = 0.67503452\n",
      "Iteration 2, loss = 0.52683935\n"
     ]
    },
    {
     "name": "stderr",
     "output_type": "stream",
     "text": [
      "D:\\AI\\Anaconda3\\lib\\site-packages\\sklearn\\neural_network\\_multilayer_perceptron.py:692: ConvergenceWarning: Stochastic Optimizer: Maximum iterations (20) reached and the optimization hasn't converged yet.\n",
      "  warnings.warn(\n"
     ]
    },
    {
     "name": "stdout",
     "output_type": "stream",
     "text": [
      "Iteration 3, loss = 0.44546971\n",
      "Iteration 4, loss = 0.38717648\n",
      "Iteration 5, loss = 0.34350570\n",
      "Iteration 6, loss = 0.31386532\n",
      "Iteration 7, loss = 0.28684304\n",
      "Iteration 8, loss = 0.26708089\n",
      "Iteration 9, loss = 0.24802315\n",
      "Iteration 10, loss = 0.23346319\n",
      "Iteration 11, loss = 0.21836540\n",
      "Iteration 12, loss = 0.20338216\n",
      "Iteration 13, loss = 0.19192461\n",
      "Iteration 14, loss = 0.18110206\n",
      "Iteration 15, loss = 0.16808017\n",
      "Iteration 16, loss = 0.15820743\n",
      "Iteration 17, loss = 0.14724101\n",
      "Iteration 18, loss = 0.13668086\n",
      "Iteration 19, loss = 0.12713473\n",
      "Iteration 20, loss = 0.11881778\n",
      "Iteration 1, loss = 0.67032120\n",
      "Iteration 2, loss = 0.52295955\n",
      "Iteration 3, loss = 0.44186254\n",
      "Iteration 4, loss = 0.38315501\n",
      "Iteration 5, loss = 0.33934332\n",
      "Iteration 6, loss = 0.30811432\n",
      "Iteration 7, loss = 0.28506724\n",
      "Iteration 8, loss = 0.26502957\n",
      "Iteration 9, loss = 0.24651145\n"
     ]
    },
    {
     "name": "stderr",
     "output_type": "stream",
     "text": [
      "D:\\AI\\Anaconda3\\lib\\site-packages\\sklearn\\neural_network\\_multilayer_perceptron.py:692: ConvergenceWarning: Stochastic Optimizer: Maximum iterations (20) reached and the optimization hasn't converged yet.\n",
      "  warnings.warn(\n"
     ]
    },
    {
     "name": "stdout",
     "output_type": "stream",
     "text": [
      "Iteration 10, loss = 0.23226697\n",
      "Iteration 11, loss = 0.21638013\n",
      "Iteration 12, loss = 0.20168446\n",
      "Iteration 13, loss = 0.19034112\n",
      "Iteration 14, loss = 0.17846167\n",
      "Iteration 15, loss = 0.16637020\n",
      "Iteration 16, loss = 0.15512146\n",
      "Iteration 17, loss = 0.14427252\n",
      "Iteration 18, loss = 0.13570213\n",
      "Iteration 19, loss = 0.12576946\n",
      "Iteration 20, loss = 0.11761680\n",
      "Iteration 1, loss = 0.67440232\n",
      "Iteration 2, loss = 0.53027589\n",
      "Iteration 3, loss = 0.44962981\n",
      "Iteration 4, loss = 0.39031685\n"
     ]
    },
    {
     "name": "stderr",
     "output_type": "stream",
     "text": [
      "D:\\AI\\Anaconda3\\lib\\site-packages\\sklearn\\neural_network\\_multilayer_perceptron.py:692: ConvergenceWarning: Stochastic Optimizer: Maximum iterations (20) reached and the optimization hasn't converged yet.\n",
      "  warnings.warn(\n"
     ]
    },
    {
     "name": "stdout",
     "output_type": "stream",
     "text": [
      "Iteration 5, loss = 0.34571334\n",
      "Iteration 6, loss = 0.31430731\n",
      "Iteration 7, loss = 0.28952816\n",
      "Iteration 8, loss = 0.26853562\n",
      "Iteration 9, loss = 0.25105211\n",
      "Iteration 10, loss = 0.23783045\n",
      "Iteration 11, loss = 0.22045312\n",
      "Iteration 12, loss = 0.20477384\n",
      "Iteration 13, loss = 0.19260071\n",
      "Iteration 14, loss = 0.17955116\n",
      "Iteration 15, loss = 0.16751985\n",
      "Iteration 16, loss = 0.15606864\n",
      "Iteration 17, loss = 0.14493763\n",
      "Iteration 18, loss = 0.13619204\n",
      "Iteration 19, loss = 0.12525159\n",
      "Iteration 20, loss = 0.11725582\n",
      "Iteration 1, loss = 0.76599284\n"
     ]
    },
    {
     "name": "stderr",
     "output_type": "stream",
     "text": [
      "D:\\AI\\Anaconda3\\lib\\site-packages\\sklearn\\neural_network\\_multilayer_perceptron.py:692: ConvergenceWarning: Stochastic Optimizer: Maximum iterations (20) reached and the optimization hasn't converged yet.\n",
      "  warnings.warn(\n"
     ]
    },
    {
     "name": "stdout",
     "output_type": "stream",
     "text": [
      "Iteration 2, loss = 0.72036203\n",
      "Iteration 3, loss = 0.68518570\n",
      "Iteration 4, loss = 0.65815108\n",
      "Iteration 5, loss = 0.63943114\n",
      "Iteration 6, loss = 0.62434199\n",
      "Iteration 7, loss = 0.61152830\n",
      "Iteration 8, loss = 0.60058622\n",
      "Iteration 9, loss = 0.58960788\n",
      "Iteration 10, loss = 0.58054504\n",
      "Iteration 11, loss = 0.57127448\n",
      "Iteration 12, loss = 0.56299374\n",
      "Iteration 13, loss = 0.55488514\n",
      "Iteration 14, loss = 0.54720412\n",
      "Iteration 15, loss = 0.53958888\n",
      "Iteration 16, loss = 0.53238033\n",
      "Iteration 17, loss = 0.52531398\n",
      "Iteration 18, loss = 0.51888931\n",
      "Iteration 19, loss = 0.51217490\n",
      "Iteration 20, loss = 0.50571325\n",
      "Iteration 1, loss = 0.76944902\n",
      "Iteration 2, loss = 0.72376702\n"
     ]
    },
    {
     "name": "stderr",
     "output_type": "stream",
     "text": [
      "D:\\AI\\Anaconda3\\lib\\site-packages\\sklearn\\neural_network\\_multilayer_perceptron.py:692: ConvergenceWarning: Stochastic Optimizer: Maximum iterations (20) reached and the optimization hasn't converged yet.\n",
      "  warnings.warn(\n"
     ]
    },
    {
     "name": "stdout",
     "output_type": "stream",
     "text": [
      "Iteration 3, loss = 0.68891062\n",
      "Iteration 4, loss = 0.66222313\n",
      "Iteration 5, loss = 0.64361360\n",
      "Iteration 6, loss = 0.62873178\n",
      "Iteration 7, loss = 0.61572592\n",
      "Iteration 8, loss = 0.60473579\n",
      "Iteration 9, loss = 0.59402184\n",
      "Iteration 10, loss = 0.58491644\n",
      "Iteration 11, loss = 0.57573457\n",
      "Iteration 12, loss = 0.56751183\n",
      "Iteration 13, loss = 0.55953227\n",
      "Iteration 14, loss = 0.55200094\n",
      "Iteration 15, loss = 0.54438227\n",
      "Iteration 16, loss = 0.53723105\n",
      "Iteration 17, loss = 0.53013032\n",
      "Iteration 18, loss = 0.52365599\n",
      "Iteration 19, loss = 0.51704260\n",
      "Iteration 20, loss = 0.51065229\n",
      "Iteration 1, loss = 0.76526057\n",
      "Iteration 2, loss = 0.72071410\n"
     ]
    },
    {
     "name": "stderr",
     "output_type": "stream",
     "text": [
      "D:\\AI\\Anaconda3\\lib\\site-packages\\sklearn\\neural_network\\_multilayer_perceptron.py:692: ConvergenceWarning: Stochastic Optimizer: Maximum iterations (20) reached and the optimization hasn't converged yet.\n",
      "  warnings.warn(\n"
     ]
    },
    {
     "name": "stdout",
     "output_type": "stream",
     "text": [
      "Iteration 3, loss = 0.68660134\n",
      "Iteration 4, loss = 0.66055299\n",
      "Iteration 5, loss = 0.64245934\n",
      "Iteration 6, loss = 0.62771093\n",
      "Iteration 7, loss = 0.61504181\n",
      "Iteration 8, loss = 0.60438616\n",
      "Iteration 9, loss = 0.59435031\n",
      "Iteration 10, loss = 0.58524291\n",
      "Iteration 11, loss = 0.57629194\n",
      "Iteration 12, loss = 0.56820300\n",
      "Iteration 13, loss = 0.56056303\n",
      "Iteration 14, loss = 0.55306683\n",
      "Iteration 15, loss = 0.54560248\n",
      "Iteration 16, loss = 0.53859745\n",
      "Iteration 17, loss = 0.53184549\n",
      "Iteration 18, loss = 0.52521648\n",
      "Iteration 19, loss = 0.51857434\n",
      "Iteration 20, loss = 0.51221077\n"
     ]
    },
    {
     "name": "stderr",
     "output_type": "stream",
     "text": [
      "D:\\AI\\Anaconda3\\lib\\site-packages\\sklearn\\neural_network\\_multilayer_perceptron.py:692: ConvergenceWarning: Stochastic Optimizer: Maximum iterations (20) reached and the optimization hasn't converged yet.\n",
      "  warnings.warn(\n"
     ]
    },
    {
     "name": "stdout",
     "output_type": "stream",
     "text": [
      "Iteration 1, loss = 0.76667044\n",
      "Iteration 2, loss = 0.72131141\n",
      "Iteration 3, loss = 0.68637139\n",
      "Iteration 4, loss = 0.65968390\n",
      "Iteration 5, loss = 0.64099132\n",
      "Iteration 6, loss = 0.62564651\n",
      "Iteration 7, loss = 0.61248875\n",
      "Iteration 8, loss = 0.60137659\n",
      "Iteration 9, loss = 0.59110956\n",
      "Iteration 10, loss = 0.58163116\n",
      "Iteration 11, loss = 0.57235514\n",
      "Iteration 12, loss = 0.56395108\n",
      "Iteration 13, loss = 0.55611647\n",
      "Iteration 14, loss = 0.54842399\n",
      "Iteration 15, loss = 0.54062349\n",
      "Iteration 16, loss = 0.53344533\n",
      "Iteration 17, loss = 0.52642495\n",
      "Iteration 18, loss = 0.51965983\n",
      "Iteration 19, loss = 0.51302128\n",
      "Iteration 20, loss = 0.50656865\n",
      "Iteration 1, loss = 0.76568760\n",
      "Iteration 2, loss = 0.71885447\n"
     ]
    },
    {
     "name": "stderr",
     "output_type": "stream",
     "text": [
      "D:\\AI\\Anaconda3\\lib\\site-packages\\sklearn\\neural_network\\_multilayer_perceptron.py:692: ConvergenceWarning: Stochastic Optimizer: Maximum iterations (20) reached and the optimization hasn't converged yet.\n",
      "  warnings.warn(\n"
     ]
    },
    {
     "name": "stdout",
     "output_type": "stream",
     "text": [
      "Iteration 3, loss = 0.68411952\n",
      "Iteration 4, loss = 0.65731346\n",
      "Iteration 5, loss = 0.63888567\n",
      "Iteration 6, loss = 0.62359697\n",
      "Iteration 7, loss = 0.61058121\n",
      "Iteration 8, loss = 0.59936204\n",
      "Iteration 9, loss = 0.58930224\n",
      "Iteration 10, loss = 0.57980705\n",
      "Iteration 11, loss = 0.57048100\n",
      "Iteration 12, loss = 0.56202580\n",
      "Iteration 13, loss = 0.55441048\n",
      "Iteration 14, loss = 0.54634858\n",
      "Iteration 15, loss = 0.53873517\n",
      "Iteration 16, loss = 0.53155349\n",
      "Iteration 17, loss = 0.52480892\n",
      "Iteration 18, loss = 0.51809585\n",
      "Iteration 19, loss = 0.51150398\n",
      "Iteration 20, loss = 0.50483220\n",
      "Iteration 1, loss = 0.76742778\n",
      "Iteration 2, loss = 0.72112309\n",
      "Iteration 3, loss = 0.68659758\n",
      "Iteration 4, loss = 0.65987279\n",
      "Iteration 5, loss = 0.64131326\n",
      "Iteration 6, loss = 0.62611053\n"
     ]
    },
    {
     "name": "stderr",
     "output_type": "stream",
     "text": [
      "D:\\AI\\Anaconda3\\lib\\site-packages\\sklearn\\neural_network\\_multilayer_perceptron.py:692: ConvergenceWarning: Stochastic Optimizer: Maximum iterations (20) reached and the optimization hasn't converged yet.\n",
      "  warnings.warn(\n"
     ]
    },
    {
     "name": "stdout",
     "output_type": "stream",
     "text": [
      "Iteration 7, loss = 0.61338603\n",
      "Iteration 8, loss = 0.60228696\n",
      "Iteration 9, loss = 0.59235484\n",
      "Iteration 10, loss = 0.58309334\n",
      "Iteration 11, loss = 0.57400778\n",
      "Iteration 12, loss = 0.56570218\n",
      "Iteration 13, loss = 0.55826949\n",
      "Iteration 14, loss = 0.55011568\n",
      "Iteration 15, loss = 0.54265767\n",
      "Iteration 16, loss = 0.53552888\n",
      "Iteration 17, loss = 0.52862313\n",
      "Iteration 18, loss = 0.52210688\n",
      "Iteration 19, loss = 0.51540745\n",
      "Iteration 20, loss = 0.50883019\n",
      "Iteration 1, loss = 0.76914166\n",
      "Iteration 2, loss = 0.72080814\n",
      "Iteration 3, loss = 0.68445048\n",
      "Iteration 4, loss = 0.65703869\n"
     ]
    },
    {
     "name": "stderr",
     "output_type": "stream",
     "text": [
      "D:\\AI\\Anaconda3\\lib\\site-packages\\sklearn\\neural_network\\_multilayer_perceptron.py:692: ConvergenceWarning: Stochastic Optimizer: Maximum iterations (20) reached and the optimization hasn't converged yet.\n",
      "  warnings.warn(\n"
     ]
    },
    {
     "name": "stdout",
     "output_type": "stream",
     "text": [
      "Iteration 5, loss = 0.63808846\n",
      "Iteration 6, loss = 0.62272240\n",
      "Iteration 7, loss = 0.60968134\n",
      "Iteration 8, loss = 0.59841345\n",
      "Iteration 9, loss = 0.58810491\n",
      "Iteration 10, loss = 0.57884596\n",
      "Iteration 11, loss = 0.56971570\n",
      "Iteration 12, loss = 0.56152952\n",
      "Iteration 13, loss = 0.55388001\n",
      "Iteration 14, loss = 0.54580557\n",
      "Iteration 15, loss = 0.53818912\n",
      "Iteration 16, loss = 0.53129641\n",
      "Iteration 17, loss = 0.52416292\n",
      "Iteration 18, loss = 0.51779289\n",
      "Iteration 19, loss = 0.51130058\n",
      "Iteration 20, loss = 0.50474201\n",
      "Iteration 1, loss = 0.76429096\n",
      "Iteration 2, loss = 0.71939106\n"
     ]
    },
    {
     "name": "stderr",
     "output_type": "stream",
     "text": [
      "D:\\AI\\Anaconda3\\lib\\site-packages\\sklearn\\neural_network\\_multilayer_perceptron.py:692: ConvergenceWarning: Stochastic Optimizer: Maximum iterations (20) reached and the optimization hasn't converged yet.\n",
      "  warnings.warn(\n"
     ]
    },
    {
     "name": "stdout",
     "output_type": "stream",
     "text": [
      "Iteration 3, loss = 0.68494724\n",
      "Iteration 4, loss = 0.65960730\n",
      "Iteration 5, loss = 0.64091256\n",
      "Iteration 6, loss = 0.62587457\n",
      "Iteration 7, loss = 0.61296235\n",
      "Iteration 8, loss = 0.60172450\n",
      "Iteration 9, loss = 0.59145031\n",
      "Iteration 10, loss = 0.58209858\n",
      "Iteration 11, loss = 0.57295458\n",
      "Iteration 12, loss = 0.56462046\n",
      "Iteration 13, loss = 0.55689012\n",
      "Iteration 14, loss = 0.54906937\n",
      "Iteration 15, loss = 0.54126742\n",
      "Iteration 16, loss = 0.53478152\n",
      "Iteration 17, loss = 0.52734599\n",
      "Iteration 18, loss = 0.52063822\n",
      "Iteration 19, loss = 0.51408230\n",
      "Iteration 20, loss = 0.50761630\n",
      "Iteration 1, loss = 0.76277038\n",
      "Iteration 2, loss = 0.71656714\n",
      "Iteration 3, loss = 0.68144773\n",
      "Iteration 4, loss = 0.65535478\n",
      "Iteration 5, loss = 0.63673806\n"
     ]
    },
    {
     "name": "stderr",
     "output_type": "stream",
     "text": [
      "D:\\AI\\Anaconda3\\lib\\site-packages\\sklearn\\neural_network\\_multilayer_perceptron.py:692: ConvergenceWarning: Stochastic Optimizer: Maximum iterations (20) reached and the optimization hasn't converged yet.\n",
      "  warnings.warn(\n"
     ]
    },
    {
     "name": "stdout",
     "output_type": "stream",
     "text": [
      "Iteration 6, loss = 0.62146484\n",
      "Iteration 7, loss = 0.60885582\n",
      "Iteration 8, loss = 0.59758448\n",
      "Iteration 9, loss = 0.58761559\n",
      "Iteration 10, loss = 0.57818480\n",
      "Iteration 11, loss = 0.56910008\n",
      "Iteration 12, loss = 0.56100662\n",
      "Iteration 13, loss = 0.55292442\n",
      "Iteration 14, loss = 0.54575047\n",
      "Iteration 15, loss = 0.53791839\n",
      "Iteration 16, loss = 0.53038044\n",
      "Iteration 17, loss = 0.52360800\n",
      "Iteration 18, loss = 0.51654769\n",
      "Iteration 19, loss = 0.51015964\n",
      "Iteration 20, loss = 0.50368111\n",
      "Iteration 1, loss = 0.76277562\n",
      "Iteration 2, loss = 0.71937744\n"
     ]
    },
    {
     "name": "stderr",
     "output_type": "stream",
     "text": [
      "D:\\AI\\Anaconda3\\lib\\site-packages\\sklearn\\neural_network\\_multilayer_perceptron.py:692: ConvergenceWarning: Stochastic Optimizer: Maximum iterations (20) reached and the optimization hasn't converged yet.\n",
      "  warnings.warn(\n"
     ]
    },
    {
     "name": "stdout",
     "output_type": "stream",
     "text": [
      "Iteration 3, loss = 0.68545686\n",
      "Iteration 4, loss = 0.66018773\n",
      "Iteration 5, loss = 0.64208836\n",
      "Iteration 6, loss = 0.62718202\n",
      "Iteration 7, loss = 0.61459488\n",
      "Iteration 8, loss = 0.60360127\n",
      "Iteration 9, loss = 0.59365808\n",
      "Iteration 10, loss = 0.58433685\n",
      "Iteration 11, loss = 0.57543843\n",
      "Iteration 12, loss = 0.56745984\n",
      "Iteration 13, loss = 0.55955275\n",
      "Iteration 14, loss = 0.55219372\n",
      "Iteration 15, loss = 0.54481377\n",
      "Iteration 16, loss = 0.53742873\n",
      "Iteration 17, loss = 0.53096218\n",
      "Iteration 18, loss = 0.52405994\n",
      "Iteration 19, loss = 0.51780038\n",
      "Iteration 20, loss = 0.51137826\n"
     ]
    },
    {
     "name": "stderr",
     "output_type": "stream",
     "text": [
      "D:\\AI\\Anaconda3\\lib\\site-packages\\sklearn\\neural_network\\_multilayer_perceptron.py:692: ConvergenceWarning: Stochastic Optimizer: Maximum iterations (20) reached and the optimization hasn't converged yet.\n",
      "  warnings.warn(\n",
      "D:\\AI\\Anaconda3\\lib\\site-packages\\sklearn\\neural_network\\_multilayer_perceptron.py:549: ConvergenceWarning: lbfgs failed to converge (status=1):\n",
      "STOP: TOTAL NO. of ITERATIONS REACHED LIMIT.\n",
      "\n",
      "Increase the number of iterations (max_iter) or scale the data as shown in:\n",
      "    https://scikit-learn.org/stable/modules/preprocessing.html\n",
      "  self.n_iter_ = _check_optimize_result(\"lbfgs\", opt_res, self.max_iter)\n",
      "D:\\AI\\Anaconda3\\lib\\site-packages\\sklearn\\neural_network\\_multilayer_perceptron.py:549: ConvergenceWarning: lbfgs failed to converge (status=1):\n",
      "STOP: TOTAL NO. of ITERATIONS REACHED LIMIT.\n",
      "\n",
      "Increase the number of iterations (max_iter) or scale the data as shown in:\n",
      "    https://scikit-learn.org/stable/modules/preprocessing.html\n",
      "  self.n_iter_ = _check_optimize_result(\"lbfgs\", opt_res, self.max_iter)\n",
      "D:\\AI\\Anaconda3\\lib\\site-packages\\sklearn\\neural_network\\_multilayer_perceptron.py:549: ConvergenceWarning: lbfgs failed to converge (status=1):\n",
      "STOP: TOTAL NO. of ITERATIONS REACHED LIMIT.\n",
      "\n",
      "Increase the number of iterations (max_iter) or scale the data as shown in:\n",
      "    https://scikit-learn.org/stable/modules/preprocessing.html\n",
      "  self.n_iter_ = _check_optimize_result(\"lbfgs\", opt_res, self.max_iter)\n",
      "D:\\AI\\Anaconda3\\lib\\site-packages\\sklearn\\neural_network\\_multilayer_perceptron.py:549: ConvergenceWarning: lbfgs failed to converge (status=1):\n",
      "STOP: TOTAL NO. of ITERATIONS REACHED LIMIT.\n",
      "\n",
      "Increase the number of iterations (max_iter) or scale the data as shown in:\n",
      "    https://scikit-learn.org/stable/modules/preprocessing.html\n",
      "  self.n_iter_ = _check_optimize_result(\"lbfgs\", opt_res, self.max_iter)\n",
      "D:\\AI\\Anaconda3\\lib\\site-packages\\sklearn\\neural_network\\_multilayer_perceptron.py:549: ConvergenceWarning: lbfgs failed to converge (status=1):\n",
      "STOP: TOTAL NO. of ITERATIONS REACHED LIMIT.\n",
      "\n",
      "Increase the number of iterations (max_iter) or scale the data as shown in:\n",
      "    https://scikit-learn.org/stable/modules/preprocessing.html\n",
      "  self.n_iter_ = _check_optimize_result(\"lbfgs\", opt_res, self.max_iter)\n",
      "D:\\AI\\Anaconda3\\lib\\site-packages\\sklearn\\neural_network\\_multilayer_perceptron.py:549: ConvergenceWarning: lbfgs failed to converge (status=1):\n",
      "STOP: TOTAL NO. of ITERATIONS REACHED LIMIT.\n",
      "\n",
      "Increase the number of iterations (max_iter) or scale the data as shown in:\n",
      "    https://scikit-learn.org/stable/modules/preprocessing.html\n",
      "  self.n_iter_ = _check_optimize_result(\"lbfgs\", opt_res, self.max_iter)\n",
      "D:\\AI\\Anaconda3\\lib\\site-packages\\sklearn\\neural_network\\_multilayer_perceptron.py:549: ConvergenceWarning: lbfgs failed to converge (status=1):\n",
      "STOP: TOTAL NO. of ITERATIONS REACHED LIMIT.\n",
      "\n",
      "Increase the number of iterations (max_iter) or scale the data as shown in:\n",
      "    https://scikit-learn.org/stable/modules/preprocessing.html\n",
      "  self.n_iter_ = _check_optimize_result(\"lbfgs\", opt_res, self.max_iter)\n",
      "D:\\AI\\Anaconda3\\lib\\site-packages\\sklearn\\neural_network\\_multilayer_perceptron.py:549: ConvergenceWarning: lbfgs failed to converge (status=1):\n",
      "STOP: TOTAL NO. of ITERATIONS REACHED LIMIT.\n",
      "\n",
      "Increase the number of iterations (max_iter) or scale the data as shown in:\n",
      "    https://scikit-learn.org/stable/modules/preprocessing.html\n",
      "  self.n_iter_ = _check_optimize_result(\"lbfgs\", opt_res, self.max_iter)\n",
      "D:\\AI\\Anaconda3\\lib\\site-packages\\sklearn\\neural_network\\_multilayer_perceptron.py:549: ConvergenceWarning: lbfgs failed to converge (status=1):\n",
      "STOP: TOTAL NO. of ITERATIONS REACHED LIMIT.\n",
      "\n",
      "Increase the number of iterations (max_iter) or scale the data as shown in:\n",
      "    https://scikit-learn.org/stable/modules/preprocessing.html\n",
      "  self.n_iter_ = _check_optimize_result(\"lbfgs\", opt_res, self.max_iter)\n",
      "D:\\AI\\Anaconda3\\lib\\site-packages\\sklearn\\neural_network\\_multilayer_perceptron.py:549: ConvergenceWarning: lbfgs failed to converge (status=1):\n",
      "STOP: TOTAL NO. of ITERATIONS REACHED LIMIT.\n",
      "\n",
      "Increase the number of iterations (max_iter) or scale the data as shown in:\n",
      "    https://scikit-learn.org/stable/modules/preprocessing.html\n",
      "  self.n_iter_ = _check_optimize_result(\"lbfgs\", opt_res, self.max_iter)\n"
     ]
    },
    {
     "name": "stdout",
     "output_type": "stream",
     "text": [
      "Iteration 1, loss = 0.93756265\n",
      "Iteration 2, loss = 0.91641758\n",
      "Iteration 3, loss = 0.90030720\n",
      "Iteration 4, loss = 0.88814025\n",
      "Iteration 5, loss = 0.87854801\n",
      "Iteration 6, loss = 0.87097451\n",
      "Iteration 7, loss = 0.86450664\n",
      "Iteration 8, loss = 0.85879548\n",
      "Iteration 9, loss = 0.85371884\n",
      "Iteration 10, loss = 0.84894333\n",
      "Iteration 11, loss = 0.84442624\n",
      "Iteration 12, loss = 0.84017309\n",
      "Iteration 13, loss = 0.83596163\n",
      "Iteration 14, loss = 0.83184853\n",
      "Iteration 15, loss = 0.82787514\n",
      "Iteration 16, loss = 0.82393640\n",
      "Iteration 17, loss = 0.82008156\n",
      "Iteration 18, loss = 0.81625764\n",
      "Iteration 19, loss = 0.81248796\n",
      "Iteration 20, loss = 0.80870054\n",
      "Iteration 1, loss = 0.93280423\n",
      "Iteration 2, loss = 0.91177993\n",
      "Iteration 3, loss = 0.89567553\n",
      "Iteration 4, loss = 0.88354089\n",
      "Iteration 5, loss = 0.87401847\n",
      "Iteration 6, loss = 0.86645689\n",
      "Iteration 7, loss = 0.85999708\n",
      "Iteration 8, loss = 0.85432494\n",
      "Iteration 9, loss = 0.84930332\n",
      "Iteration 10, loss = 0.84463734\n",
      "Iteration 11, loss = 0.84018694\n",
      "Iteration 12, loss = 0.83596805\n"
     ]
    },
    {
     "name": "stderr",
     "output_type": "stream",
     "text": [
      "D:\\AI\\Anaconda3\\lib\\site-packages\\sklearn\\neural_network\\_multilayer_perceptron.py:692: ConvergenceWarning: Stochastic Optimizer: Maximum iterations (20) reached and the optimization hasn't converged yet.\n",
      "  warnings.warn(\n"
     ]
    },
    {
     "name": "stdout",
     "output_type": "stream",
     "text": [
      "Iteration 13, loss = 0.83185512\n",
      "Iteration 14, loss = 0.82781761\n",
      "Iteration 15, loss = 0.82391778\n",
      "Iteration 16, loss = 0.82006737\n",
      "Iteration 17, loss = 0.81628536\n",
      "Iteration 18, loss = 0.81254858\n",
      "Iteration 19, loss = 0.80886703\n",
      "Iteration 20, loss = 0.80520126\n",
      "Iteration 1, loss = 0.92815855\n",
      "Iteration 2, loss = 0.90750769\n",
      "Iteration 3, loss = 0.89179751\n",
      "Iteration 4, loss = 0.87996962\n",
      "Iteration 5, loss = 0.87058580\n",
      "Iteration 6, loss = 0.86320734\n",
      "Iteration 7, loss = 0.85686534\n",
      "Iteration 8, loss = 0.85128088\n",
      "Iteration 9, loss = 0.84633148\n",
      "Iteration 10, loss = 0.84173223\n",
      "Iteration 11, loss = 0.83736092\n",
      "Iteration 12, loss = 0.83317886\n",
      "Iteration 13, loss = 0.82911799\n",
      "Iteration 14, loss = 0.82513717\n",
      "Iteration 15, loss = 0.82125435\n",
      "Iteration 16, loss = 0.81744470\n",
      "Iteration 17, loss = 0.81368611\n",
      "Iteration 18, loss = 0.80994327\n",
      "Iteration 19, loss = 0.80624420\n"
     ]
    },
    {
     "name": "stderr",
     "output_type": "stream",
     "text": [
      "D:\\AI\\Anaconda3\\lib\\site-packages\\sklearn\\neural_network\\_multilayer_perceptron.py:692: ConvergenceWarning: Stochastic Optimizer: Maximum iterations (20) reached and the optimization hasn't converged yet.\n",
      "  warnings.warn(\n",
      "D:\\AI\\Anaconda3\\lib\\site-packages\\sklearn\\neural_network\\_multilayer_perceptron.py:692: ConvergenceWarning: Stochastic Optimizer: Maximum iterations (20) reached and the optimization hasn't converged yet.\n",
      "  warnings.warn(\n"
     ]
    },
    {
     "name": "stdout",
     "output_type": "stream",
     "text": [
      "Iteration 20, loss = 0.80251712\n",
      "Iteration 1, loss = 0.93654056\n",
      "Iteration 2, loss = 0.91524368\n",
      "Iteration 3, loss = 0.89910297\n",
      "Iteration 4, loss = 0.88697099\n",
      "Iteration 5, loss = 0.87734592\n",
      "Iteration 6, loss = 0.86975209\n",
      "Iteration 7, loss = 0.86327100\n",
      "Iteration 8, loss = 0.85756257\n",
      "Iteration 9, loss = 0.85249766\n",
      "Iteration 10, loss = 0.84777675\n",
      "Iteration 11, loss = 0.84333678\n",
      "Iteration 12, loss = 0.83905726\n",
      "Iteration 13, loss = 0.83488636\n",
      "Iteration 14, loss = 0.83084474\n",
      "Iteration 15, loss = 0.82684307\n",
      "Iteration 16, loss = 0.82297772\n",
      "Iteration 17, loss = 0.81912164\n",
      "Iteration 18, loss = 0.81533047\n",
      "Iteration 19, loss = 0.81154878\n",
      "Iteration 20, loss = 0.80781434\n",
      "Iteration 1, loss = 0.92778267\n",
      "Iteration 2, loss = 0.90696320\n",
      "Iteration 3, loss = 0.89119965\n"
     ]
    },
    {
     "name": "stderr",
     "output_type": "stream",
     "text": [
      "D:\\AI\\Anaconda3\\lib\\site-packages\\sklearn\\neural_network\\_multilayer_perceptron.py:692: ConvergenceWarning: Stochastic Optimizer: Maximum iterations (20) reached and the optimization hasn't converged yet.\n",
      "  warnings.warn(\n"
     ]
    },
    {
     "name": "stdout",
     "output_type": "stream",
     "text": [
      "Iteration 4, loss = 0.87938481\n",
      "Iteration 5, loss = 0.86991158\n",
      "Iteration 6, loss = 0.86254995\n",
      "Iteration 7, loss = 0.85619116\n",
      "Iteration 8, loss = 0.85068065\n",
      "Iteration 9, loss = 0.84573237\n",
      "Iteration 10, loss = 0.84118416\n",
      "Iteration 11, loss = 0.83682428\n",
      "Iteration 12, loss = 0.83266239\n",
      "Iteration 13, loss = 0.82857025\n",
      "Iteration 14, loss = 0.82459231\n",
      "Iteration 15, loss = 0.82062408\n",
      "Iteration 16, loss = 0.81672700\n",
      "Iteration 17, loss = 0.81277015\n",
      "Iteration 18, loss = 0.80878917\n",
      "Iteration 19, loss = 0.80464156\n",
      "Iteration 20, loss = 0.80035704\n",
      "Iteration 1, loss = 0.93307776\n",
      "Iteration 2, loss = 0.91218891\n",
      "Iteration 3, loss = 0.89622115\n",
      "Iteration 4, loss = 0.88429487\n",
      "Iteration 5, loss = 0.87477467\n",
      "Iteration 6, loss = 0.86730753\n",
      "Iteration 7, loss = 0.86085598\n",
      "Iteration 8, loss = 0.85533345\n",
      "Iteration 9, loss = 0.85025059\n",
      "Iteration 10, loss = 0.84564334\n",
      "Iteration 11, loss = 0.84122234\n",
      "Iteration 12, loss = 0.83696281\n",
      "Iteration 13, loss = 0.83282336\n",
      "Iteration 14, loss = 0.82880919\n",
      "Iteration 15, loss = 0.82476127\n"
     ]
    },
    {
     "name": "stderr",
     "output_type": "stream",
     "text": [
      "D:\\AI\\Anaconda3\\lib\\site-packages\\sklearn\\neural_network\\_multilayer_perceptron.py:692: ConvergenceWarning: Stochastic Optimizer: Maximum iterations (20) reached and the optimization hasn't converged yet.\n",
      "  warnings.warn(\n"
     ]
    },
    {
     "name": "stdout",
     "output_type": "stream",
     "text": [
      "Iteration 16, loss = 0.82088032\n",
      "Iteration 17, loss = 0.81691508\n",
      "Iteration 18, loss = 0.81302408\n",
      "Iteration 19, loss = 0.80901773\n",
      "Iteration 20, loss = 0.80493264\n",
      "Iteration 1, loss = 0.93714498\n",
      "Iteration 2, loss = 0.91607050\n",
      "Iteration 3, loss = 0.89995503\n",
      "Iteration 4, loss = 0.88787762\n",
      "Iteration 5, loss = 0.87816063\n",
      "Iteration 6, loss = 0.87057279\n",
      "Iteration 7, loss = 0.86398262\n",
      "Iteration 8, loss = 0.85841746\n",
      "Iteration 9, loss = 0.85324172\n",
      "Iteration 10, loss = 0.84857834\n",
      "Iteration 11, loss = 0.84411014\n"
     ]
    },
    {
     "name": "stderr",
     "output_type": "stream",
     "text": [
      "D:\\AI\\Anaconda3\\lib\\site-packages\\sklearn\\neural_network\\_multilayer_perceptron.py:692: ConvergenceWarning: Stochastic Optimizer: Maximum iterations (20) reached and the optimization hasn't converged yet.\n",
      "  warnings.warn(\n"
     ]
    },
    {
     "name": "stdout",
     "output_type": "stream",
     "text": [
      "Iteration 12, loss = 0.83978686\n",
      "Iteration 13, loss = 0.83562541\n",
      "Iteration 14, loss = 0.83156627\n",
      "Iteration 15, loss = 0.82749601\n",
      "Iteration 16, loss = 0.82358704\n",
      "Iteration 17, loss = 0.81963139\n",
      "Iteration 18, loss = 0.81581497\n",
      "Iteration 19, loss = 0.81189278\n",
      "Iteration 20, loss = 0.80797534\n",
      "Iteration 1, loss = 0.94162304\n",
      "Iteration 2, loss = 0.92022203\n",
      "Iteration 3, loss = 0.90384571\n",
      "Iteration 4, loss = 0.89159046\n",
      "Iteration 5, loss = 0.88185726\n",
      "Iteration 6, loss = 0.87419865\n",
      "Iteration 7, loss = 0.86756418\n",
      "Iteration 8, loss = 0.86192829\n",
      "Iteration 9, loss = 0.85670646\n"
     ]
    },
    {
     "name": "stderr",
     "output_type": "stream",
     "text": [
      "D:\\AI\\Anaconda3\\lib\\site-packages\\sklearn\\neural_network\\_multilayer_perceptron.py:692: ConvergenceWarning: Stochastic Optimizer: Maximum iterations (20) reached and the optimization hasn't converged yet.\n",
      "  warnings.warn(\n"
     ]
    },
    {
     "name": "stdout",
     "output_type": "stream",
     "text": [
      "Iteration 10, loss = 0.85195492\n",
      "Iteration 11, loss = 0.84740498\n",
      "Iteration 12, loss = 0.84303515\n",
      "Iteration 13, loss = 0.83882331\n",
      "Iteration 14, loss = 0.83470793\n",
      "Iteration 15, loss = 0.83059178\n",
      "Iteration 16, loss = 0.82664581\n",
      "Iteration 17, loss = 0.82266395\n",
      "Iteration 18, loss = 0.81880130\n",
      "Iteration 19, loss = 0.81490160\n",
      "Iteration 20, loss = 0.81099010\n",
      "Iteration 1, loss = 0.93283271\n",
      "Iteration 2, loss = 0.91197302\n",
      "Iteration 3, loss = 0.89607515\n",
      "Iteration 4, loss = 0.88374954\n"
     ]
    },
    {
     "name": "stderr",
     "output_type": "stream",
     "text": [
      "D:\\AI\\Anaconda3\\lib\\site-packages\\sklearn\\neural_network\\_multilayer_perceptron.py:692: ConvergenceWarning: Stochastic Optimizer: Maximum iterations (20) reached and the optimization hasn't converged yet.\n",
      "  warnings.warn(\n"
     ]
    },
    {
     "name": "stdout",
     "output_type": "stream",
     "text": [
      "Iteration 5, loss = 0.87446470\n",
      "Iteration 6, loss = 0.86681429\n",
      "Iteration 7, loss = 0.86035302\n",
      "Iteration 8, loss = 0.85481661\n",
      "Iteration 9, loss = 0.84978522\n",
      "Iteration 10, loss = 0.84515894\n",
      "Iteration 11, loss = 0.84065123\n",
      "Iteration 12, loss = 0.83648804\n",
      "Iteration 13, loss = 0.83238706\n",
      "Iteration 14, loss = 0.82841773\n",
      "Iteration 15, loss = 0.82444008\n",
      "Iteration 16, loss = 0.82057624\n",
      "Iteration 17, loss = 0.81678377\n",
      "Iteration 18, loss = 0.81297556\n",
      "Iteration 19, loss = 0.80921875\n",
      "Iteration 20, loss = 0.80545628\n"
     ]
    },
    {
     "name": "stderr",
     "output_type": "stream",
     "text": [
      "D:\\AI\\Anaconda3\\lib\\site-packages\\sklearn\\neural_network\\_multilayer_perceptron.py:692: ConvergenceWarning: Stochastic Optimizer: Maximum iterations (20) reached and the optimization hasn't converged yet.\n",
      "  warnings.warn(\n"
     ]
    },
    {
     "name": "stdout",
     "output_type": "stream",
     "text": [
      "Iteration 1, loss = 0.93359380\n",
      "Iteration 2, loss = 0.91283096\n",
      "Iteration 3, loss = 0.89700197\n",
      "Iteration 4, loss = 0.88477875\n",
      "Iteration 5, loss = 0.87550351\n",
      "Iteration 6, loss = 0.86780556\n",
      "Iteration 7, loss = 0.86138778\n",
      "Iteration 8, loss = 0.85582736\n",
      "Iteration 9, loss = 0.85076394\n",
      "Iteration 10, loss = 0.84611797\n",
      "Iteration 11, loss = 0.84160528\n",
      "Iteration 12, loss = 0.83742092\n",
      "Iteration 13, loss = 0.83330894\n",
      "Iteration 14, loss = 0.82931841\n",
      "Iteration 15, loss = 0.82532818\n",
      "Iteration 16, loss = 0.82147336\n",
      "Iteration 17, loss = 0.81767087\n",
      "Iteration 18, loss = 0.81383907\n",
      "Iteration 19, loss = 0.81010098\n",
      "Iteration 20, loss = 0.80634380\n",
      "Iteration 1, loss = 0.93286321\n",
      "Iteration 2, loss = 0.88286030\n",
      "Iteration 3, loss = 0.83909599\n",
      "Iteration 4, loss = 0.80810608\n",
      "Iteration 5, loss = 0.78695087\n",
      "Iteration 6, loss = 0.77324334\n",
      "Iteration 7, loss = 0.76373663\n",
      "Iteration 8, loss = 0.75648029\n",
      "Iteration 9, loss = 0.75073356\n",
      "Iteration 10, loss = 0.74537917\n",
      "Iteration 11, loss = 0.74037894\n",
      "Iteration 12, loss = 0.73561830\n",
      "Iteration 13, loss = 0.73080425\n",
      "Iteration 14, loss = 0.72603384\n"
     ]
    },
    {
     "name": "stderr",
     "output_type": "stream",
     "text": [
      "D:\\AI\\Anaconda3\\lib\\site-packages\\sklearn\\neural_network\\_multilayer_perceptron.py:692: ConvergenceWarning: Stochastic Optimizer: Maximum iterations (20) reached and the optimization hasn't converged yet.\n",
      "  warnings.warn(\n"
     ]
    },
    {
     "name": "stdout",
     "output_type": "stream",
     "text": [
      "Iteration 15, loss = 0.72129132\n",
      "Iteration 16, loss = 0.71691009\n",
      "Iteration 17, loss = 0.71253783\n",
      "Iteration 18, loss = 0.70789859\n",
      "Iteration 19, loss = 0.70348849\n",
      "Iteration 20, loss = 0.69889651\n",
      "Iteration 1, loss = 0.92815020\n",
      "Iteration 2, loss = 0.87814033\n",
      "Iteration 3, loss = 0.83460466\n",
      "Iteration 4, loss = 0.80405808\n",
      "Iteration 5, loss = 0.78352991\n",
      "Iteration 6, loss = 0.77038591\n",
      "Iteration 7, loss = 0.76128703\n",
      "Iteration 8, loss = 0.75441617\n",
      "Iteration 9, loss = 0.74901529\n",
      "Iteration 10, loss = 0.74409781\n",
      "Iteration 11, loss = 0.73943968\n",
      "Iteration 12, loss = 0.73498053\n",
      "Iteration 13, loss = 0.73056649\n",
      "Iteration 14, loss = 0.72626157\n",
      "Iteration 15, loss = 0.72192971\n",
      "Iteration 16, loss = 0.71788699\n",
      "Iteration 17, loss = 0.71392587\n",
      "Iteration 18, loss = 0.70993278\n"
     ]
    },
    {
     "name": "stderr",
     "output_type": "stream",
     "text": [
      "D:\\AI\\Anaconda3\\lib\\site-packages\\sklearn\\neural_network\\_multilayer_perceptron.py:692: ConvergenceWarning: Stochastic Optimizer: Maximum iterations (20) reached and the optimization hasn't converged yet.\n",
      "  warnings.warn(\n",
      "D:\\AI\\Anaconda3\\lib\\site-packages\\sklearn\\neural_network\\_multilayer_perceptron.py:692: ConvergenceWarning: Stochastic Optimizer: Maximum iterations (20) reached and the optimization hasn't converged yet.\n",
      "  warnings.warn(\n"
     ]
    },
    {
     "name": "stdout",
     "output_type": "stream",
     "text": [
      "Iteration 19, loss = 0.70589596\n",
      "Iteration 20, loss = 0.70167609\n",
      "Iteration 1, loss = 0.92398444\n",
      "Iteration 2, loss = 0.87608052\n",
      "Iteration 3, loss = 0.83405129\n",
      "Iteration 4, loss = 0.80442844\n",
      "Iteration 5, loss = 0.78394523\n",
      "Iteration 6, loss = 0.77093421\n",
      "Iteration 7, loss = 0.76169782\n",
      "Iteration 8, loss = 0.75470748\n",
      "Iteration 9, loss = 0.74922896\n",
      "Iteration 10, loss = 0.74429547\n",
      "Iteration 11, loss = 0.73961173\n",
      "Iteration 12, loss = 0.73510544\n",
      "Iteration 13, loss = 0.73071498\n",
      "Iteration 14, loss = 0.72641615\n",
      "Iteration 15, loss = 0.72208232\n",
      "Iteration 16, loss = 0.71822097\n",
      "Iteration 17, loss = 0.71442781\n",
      "Iteration 18, loss = 0.71054723\n",
      "Iteration 19, loss = 0.70677216\n",
      "Iteration 20, loss = 0.70280774\n",
      "Iteration 1, loss = 0.93176442\n",
      "Iteration 2, loss = 0.88132708\n",
      "Iteration 3, loss = 0.83751579\n",
      "Iteration 4, loss = 0.80675724\n",
      "Iteration 5, loss = 0.78555363\n",
      "Iteration 6, loss = 0.77212605\n",
      "Iteration 7, loss = 0.76281892\n",
      "Iteration 8, loss = 0.75568174\n",
      "Iteration 9, loss = 0.75006342\n",
      "Iteration 10, loss = 0.74496338\n",
      "Iteration 11, loss = 0.74020547\n",
      "Iteration 12, loss = 0.73557183\n",
      "Iteration 13, loss = 0.73100260\n",
      "Iteration 14, loss = 0.72659422\n",
      "Iteration 15, loss = 0.72207569\n",
      "Iteration 16, loss = 0.71787610\n"
     ]
    },
    {
     "name": "stderr",
     "output_type": "stream",
     "text": [
      "D:\\AI\\Anaconda3\\lib\\site-packages\\sklearn\\neural_network\\_multilayer_perceptron.py:692: ConvergenceWarning: Stochastic Optimizer: Maximum iterations (20) reached and the optimization hasn't converged yet.\n",
      "  warnings.warn(\n"
     ]
    },
    {
     "name": "stdout",
     "output_type": "stream",
     "text": [
      "Iteration 17, loss = 0.71382930\n",
      "Iteration 18, loss = 0.70968947\n",
      "Iteration 19, loss = 0.70551193\n",
      "Iteration 20, loss = 0.70130055\n",
      "Iteration 1, loss = 0.92336030\n",
      "Iteration 2, loss = 0.87522444\n",
      "Iteration 3, loss = 0.83328096\n",
      "Iteration 4, loss = 0.80373379\n",
      "Iteration 5, loss = 0.78288877\n",
      "Iteration 6, loss = 0.76983712\n",
      "Iteration 7, loss = 0.76060467\n",
      "Iteration 8, loss = 0.75380977\n",
      "Iteration 9, loss = 0.74837544\n",
      "Iteration 10, loss = 0.74363242\n",
      "Iteration 11, loss = 0.73895961\n",
      "Iteration 12, loss = 0.73459812\n",
      "Iteration 13, loss = 0.73020803\n",
      "Iteration 14, loss = 0.72598057\n",
      "Iteration 15, loss = 0.72161823\n",
      "Iteration 16, loss = 0.71757333\n",
      "Iteration 17, loss = 0.71368229\n",
      "Iteration 18, loss = 0.70974609\n",
      "Iteration 19, loss = 0.70572326\n",
      "Iteration 20, loss = 0.70162543\n",
      "Iteration 1, loss = 0.92846097\n",
      "Iteration 2, loss = 0.87985593\n",
      "Iteration 3, loss = 0.83702290\n",
      "Iteration 4, loss = 0.80692261\n",
      "Iteration 5, loss = 0.78580155\n",
      "Iteration 6, loss = 0.77246060\n",
      "Iteration 7, loss = 0.76291270\n"
     ]
    },
    {
     "name": "stderr",
     "output_type": "stream",
     "text": [
      "D:\\AI\\Anaconda3\\lib\\site-packages\\sklearn\\neural_network\\_multilayer_perceptron.py:692: ConvergenceWarning: Stochastic Optimizer: Maximum iterations (20) reached and the optimization hasn't converged yet.\n",
      "  warnings.warn(\n",
      "D:\\AI\\Anaconda3\\lib\\site-packages\\sklearn\\neural_network\\_multilayer_perceptron.py:692: ConvergenceWarning: Stochastic Optimizer: Maximum iterations (20) reached and the optimization hasn't converged yet.\n",
      "  warnings.warn(\n"
     ]
    },
    {
     "name": "stdout",
     "output_type": "stream",
     "text": [
      "Iteration 8, loss = 0.75614649\n",
      "Iteration 9, loss = 0.75036796\n",
      "Iteration 10, loss = 0.74546266\n",
      "Iteration 11, loss = 0.74062216\n",
      "Iteration 12, loss = 0.73597258\n",
      "Iteration 13, loss = 0.73142566\n",
      "Iteration 14, loss = 0.72696029\n",
      "Iteration 15, loss = 0.72231453\n",
      "Iteration 16, loss = 0.71795482\n",
      "Iteration 17, loss = 0.71361637\n",
      "Iteration 18, loss = 0.70931988\n",
      "Iteration 19, loss = 0.70497040\n",
      "Iteration 20, loss = 0.70057429\n",
      "Iteration 1, loss = 0.93220962\n",
      "Iteration 2, loss = 0.88259899\n",
      "Iteration 3, loss = 0.83892400\n",
      "Iteration 4, loss = 0.80820206\n",
      "Iteration 5, loss = 0.78658748\n",
      "Iteration 6, loss = 0.77305750\n",
      "Iteration 7, loss = 0.76321923\n",
      "Iteration 8, loss = 0.75647861\n",
      "Iteration 9, loss = 0.75047240\n",
      "Iteration 10, loss = 0.74538971\n",
      "Iteration 11, loss = 0.74034170\n",
      "Iteration 12, loss = 0.73544512\n"
     ]
    },
    {
     "name": "stderr",
     "output_type": "stream",
     "text": [
      "D:\\AI\\Anaconda3\\lib\\site-packages\\sklearn\\neural_network\\_multilayer_perceptron.py:692: ConvergenceWarning: Stochastic Optimizer: Maximum iterations (20) reached and the optimization hasn't converged yet.\n",
      "  warnings.warn(\n",
      "D:\\AI\\Anaconda3\\lib\\site-packages\\sklearn\\neural_network\\_multilayer_perceptron.py:692: ConvergenceWarning: Stochastic Optimizer: Maximum iterations (20) reached and the optimization hasn't converged yet.\n",
      "  warnings.warn(\n"
     ]
    },
    {
     "name": "stdout",
     "output_type": "stream",
     "text": [
      "Iteration 13, loss = 0.73064157\n",
      "Iteration 14, loss = 0.72586531\n",
      "Iteration 15, loss = 0.72106256\n",
      "Iteration 16, loss = 0.71668572\n",
      "Iteration 17, loss = 0.71203551\n",
      "Iteration 18, loss = 0.70734982\n",
      "Iteration 19, loss = 0.70273923\n",
      "Iteration 20, loss = 0.69819241\n",
      "Iteration 1, loss = 0.93665088\n",
      "Iteration 2, loss = 0.88573813\n",
      "Iteration 3, loss = 0.84074934\n",
      "Iteration 4, loss = 0.80925111\n",
      "Iteration 5, loss = 0.78743539\n",
      "Iteration 6, loss = 0.77380533\n",
      "Iteration 7, loss = 0.76397166\n",
      "Iteration 8, loss = 0.75727850\n",
      "Iteration 9, loss = 0.75133275\n",
      "Iteration 10, loss = 0.74632377\n",
      "Iteration 11, loss = 0.74134884\n",
      "Iteration 12, loss = 0.73667982\n",
      "Iteration 13, loss = 0.73220366\n",
      "Iteration 14, loss = 0.72779873\n",
      "Iteration 15, loss = 0.72327199\n",
      "Iteration 16, loss = 0.71902449\n",
      "Iteration 17, loss = 0.71494852\n",
      "Iteration 18, loss = 0.71095710\n",
      "Iteration 19, loss = 0.70679665\n",
      "Iteration 20, loss = 0.70258769\n",
      "Iteration 1, loss = 0.92802310\n",
      "Iteration 2, loss = 0.87949131\n",
      "Iteration 3, loss = 0.83685114\n",
      "Iteration 4, loss = 0.80581941\n",
      "Iteration 5, loss = 0.78574522\n",
      "Iteration 6, loss = 0.77222265\n",
      "Iteration 7, loss = 0.76269282\n",
      "Iteration 8, loss = 0.75599218\n",
      "Iteration 9, loss = 0.75045806\n",
      "Iteration 10, loss = 0.74540313\n",
      "Iteration 11, loss = 0.74044666\n",
      "Iteration 12, loss = 0.73590027\n",
      "Iteration 13, loss = 0.73133091\n",
      "Iteration 14, loss = 0.72693782\n",
      "Iteration 15, loss = 0.72236035\n",
      "Iteration 16, loss = 0.71801673\n",
      "Iteration 17, loss = 0.71384519\n",
      "Iteration 18, loss = 0.70948650\n",
      "Iteration 19, loss = 0.70501734\n"
     ]
    },
    {
     "name": "stderr",
     "output_type": "stream",
     "text": [
      "D:\\AI\\Anaconda3\\lib\\site-packages\\sklearn\\neural_network\\_multilayer_perceptron.py:692: ConvergenceWarning: Stochastic Optimizer: Maximum iterations (20) reached and the optimization hasn't converged yet.\n",
      "  warnings.warn(\n",
      "D:\\AI\\Anaconda3\\lib\\site-packages\\sklearn\\neural_network\\_multilayer_perceptron.py:692: ConvergenceWarning: Stochastic Optimizer: Maximum iterations (20) reached and the optimization hasn't converged yet.\n",
      "  warnings.warn(\n"
     ]
    },
    {
     "name": "stdout",
     "output_type": "stream",
     "text": [
      "Iteration 20, loss = 0.70075202\n",
      "Iteration 1, loss = 0.92873069\n",
      "Iteration 2, loss = 0.88059312\n",
      "Iteration 3, loss = 0.83832103\n",
      "Iteration 4, loss = 0.80763358\n",
      "Iteration 5, loss = 0.78739902\n",
      "Iteration 6, loss = 0.77358230\n",
      "Iteration 7, loss = 0.76420928\n",
      "Iteration 8, loss = 0.75755450\n",
      "Iteration 9, loss = 0.75209648\n",
      "Iteration 10, loss = 0.74726385\n",
      "Iteration 11, loss = 0.74245575\n",
      "Iteration 12, loss = 0.73807823\n",
      "Iteration 13, loss = 0.73367264\n",
      "Iteration 14, loss = 0.72950554\n",
      "Iteration 15, loss = 0.72509553\n",
      "Iteration 16, loss = 0.72090240\n",
      "Iteration 17, loss = 0.71704076\n",
      "Iteration 18, loss = 0.71303607\n",
      "Iteration 19, loss = 0.70892718\n",
      "Iteration 20, loss = 0.70489986\n"
     ]
    },
    {
     "name": "stderr",
     "output_type": "stream",
     "text": [
      "D:\\AI\\Anaconda3\\lib\\site-packages\\sklearn\\neural_network\\_multilayer_perceptron.py:692: ConvergenceWarning: Stochastic Optimizer: Maximum iterations (20) reached and the optimization hasn't converged yet.\n",
      "  warnings.warn(\n",
      "D:\\AI\\Anaconda3\\lib\\site-packages\\sklearn\\neural_network\\_multilayer_perceptron.py:549: ConvergenceWarning: lbfgs failed to converge (status=1):\n",
      "STOP: TOTAL NO. of ITERATIONS REACHED LIMIT.\n",
      "\n",
      "Increase the number of iterations (max_iter) or scale the data as shown in:\n",
      "    https://scikit-learn.org/stable/modules/preprocessing.html\n",
      "  self.n_iter_ = _check_optimize_result(\"lbfgs\", opt_res, self.max_iter)\n",
      "D:\\AI\\Anaconda3\\lib\\site-packages\\sklearn\\neural_network\\_multilayer_perceptron.py:549: ConvergenceWarning: lbfgs failed to converge (status=1):\n",
      "STOP: TOTAL NO. of ITERATIONS REACHED LIMIT.\n",
      "\n",
      "Increase the number of iterations (max_iter) or scale the data as shown in:\n",
      "    https://scikit-learn.org/stable/modules/preprocessing.html\n",
      "  self.n_iter_ = _check_optimize_result(\"lbfgs\", opt_res, self.max_iter)\n",
      "D:\\AI\\Anaconda3\\lib\\site-packages\\sklearn\\neural_network\\_multilayer_perceptron.py:549: ConvergenceWarning: lbfgs failed to converge (status=1):\n",
      "STOP: TOTAL NO. of ITERATIONS REACHED LIMIT.\n",
      "\n",
      "Increase the number of iterations (max_iter) or scale the data as shown in:\n",
      "    https://scikit-learn.org/stable/modules/preprocessing.html\n",
      "  self.n_iter_ = _check_optimize_result(\"lbfgs\", opt_res, self.max_iter)\n",
      "D:\\AI\\Anaconda3\\lib\\site-packages\\sklearn\\neural_network\\_multilayer_perceptron.py:549: ConvergenceWarning: lbfgs failed to converge (status=1):\n",
      "STOP: TOTAL NO. of ITERATIONS REACHED LIMIT.\n",
      "\n",
      "Increase the number of iterations (max_iter) or scale the data as shown in:\n",
      "    https://scikit-learn.org/stable/modules/preprocessing.html\n",
      "  self.n_iter_ = _check_optimize_result(\"lbfgs\", opt_res, self.max_iter)\n",
      "D:\\AI\\Anaconda3\\lib\\site-packages\\sklearn\\neural_network\\_multilayer_perceptron.py:549: ConvergenceWarning: lbfgs failed to converge (status=1):\n",
      "STOP: TOTAL NO. of ITERATIONS REACHED LIMIT.\n",
      "\n",
      "Increase the number of iterations (max_iter) or scale the data as shown in:\n",
      "    https://scikit-learn.org/stable/modules/preprocessing.html\n",
      "  self.n_iter_ = _check_optimize_result(\"lbfgs\", opt_res, self.max_iter)\n",
      "D:\\AI\\Anaconda3\\lib\\site-packages\\sklearn\\neural_network\\_multilayer_perceptron.py:549: ConvergenceWarning: lbfgs failed to converge (status=1):\n",
      "STOP: TOTAL NO. of ITERATIONS REACHED LIMIT.\n",
      "\n",
      "Increase the number of iterations (max_iter) or scale the data as shown in:\n",
      "    https://scikit-learn.org/stable/modules/preprocessing.html\n",
      "  self.n_iter_ = _check_optimize_result(\"lbfgs\", opt_res, self.max_iter)\n",
      "D:\\AI\\Anaconda3\\lib\\site-packages\\sklearn\\neural_network\\_multilayer_perceptron.py:549: ConvergenceWarning: lbfgs failed to converge (status=1):\n",
      "STOP: TOTAL NO. of ITERATIONS REACHED LIMIT.\n",
      "\n",
      "Increase the number of iterations (max_iter) or scale the data as shown in:\n",
      "    https://scikit-learn.org/stable/modules/preprocessing.html\n",
      "  self.n_iter_ = _check_optimize_result(\"lbfgs\", opt_res, self.max_iter)\n",
      "D:\\AI\\Anaconda3\\lib\\site-packages\\sklearn\\neural_network\\_multilayer_perceptron.py:549: ConvergenceWarning: lbfgs failed to converge (status=1):\n",
      "STOP: TOTAL NO. of ITERATIONS REACHED LIMIT.\n",
      "\n",
      "Increase the number of iterations (max_iter) or scale the data as shown in:\n",
      "    https://scikit-learn.org/stable/modules/preprocessing.html\n",
      "  self.n_iter_ = _check_optimize_result(\"lbfgs\", opt_res, self.max_iter)\n",
      "D:\\AI\\Anaconda3\\lib\\site-packages\\sklearn\\neural_network\\_multilayer_perceptron.py:549: ConvergenceWarning: lbfgs failed to converge (status=1):\n",
      "STOP: TOTAL NO. of ITERATIONS REACHED LIMIT.\n",
      "\n",
      "Increase the number of iterations (max_iter) or scale the data as shown in:\n",
      "    https://scikit-learn.org/stable/modules/preprocessing.html\n",
      "  self.n_iter_ = _check_optimize_result(\"lbfgs\", opt_res, self.max_iter)\n",
      "D:\\AI\\Anaconda3\\lib\\site-packages\\sklearn\\neural_network\\_multilayer_perceptron.py:549: ConvergenceWarning: lbfgs failed to converge (status=1):\n",
      "STOP: TOTAL NO. of ITERATIONS REACHED LIMIT.\n",
      "\n",
      "Increase the number of iterations (max_iter) or scale the data as shown in:\n",
      "    https://scikit-learn.org/stable/modules/preprocessing.html\n",
      "  self.n_iter_ = _check_optimize_result(\"lbfgs\", opt_res, self.max_iter)\n"
     ]
    },
    {
     "name": "stdout",
     "output_type": "stream",
     "text": [
      "Iteration 1, loss = 1.20978875\n",
      "Iteration 2, loss = 0.67464637\n",
      "Iteration 3, loss = 0.53519439\n",
      "Iteration 4, loss = 0.47281890\n",
      "Iteration 5, loss = 0.43236538\n",
      "Iteration 6, loss = 0.40407739\n",
      "Iteration 7, loss = 0.38176657\n",
      "Iteration 8, loss = 0.36331055\n",
      "Iteration 9, loss = 0.34745981\n",
      "Iteration 10, loss = 0.33369942\n",
      "Iteration 11, loss = 0.32149127\n",
      "Iteration 12, loss = 0.31033397\n",
      "Iteration 13, loss = 0.30012436\n",
      "Iteration 14, loss = 0.28992462\n",
      "Iteration 15, loss = 0.28183791\n",
      "Iteration 16, loss = 0.27336062\n",
      "Iteration 17, loss = 0.26508430\n",
      "Iteration 18, loss = 0.25831943\n",
      "Iteration 19, loss = 0.25100886\n",
      "Iteration 20, loss = 0.24378491\n",
      "Iteration 1, loss = 1.21902941\n"
     ]
    },
    {
     "name": "stderr",
     "output_type": "stream",
     "text": [
      "D:\\AI\\Anaconda3\\lib\\site-packages\\sklearn\\neural_network\\_multilayer_perceptron.py:692: ConvergenceWarning: Stochastic Optimizer: Maximum iterations (20) reached and the optimization hasn't converged yet.\n",
      "  warnings.warn(\n"
     ]
    },
    {
     "name": "stdout",
     "output_type": "stream",
     "text": [
      "Iteration 2, loss = 0.67935726\n",
      "Iteration 3, loss = 0.53823355\n",
      "Iteration 4, loss = 0.47452211\n",
      "Iteration 5, loss = 0.43401732\n",
      "Iteration 6, loss = 0.40561610\n",
      "Iteration 7, loss = 0.38301443\n",
      "Iteration 8, loss = 0.36430147\n",
      "Iteration 9, loss = 0.34847155\n",
      "Iteration 10, loss = 0.33455426\n",
      "Iteration 11, loss = 0.32218123\n",
      "Iteration 12, loss = 0.31079426\n",
      "Iteration 13, loss = 0.30066503\n",
      "Iteration 14, loss = 0.29018813\n",
      "Iteration 15, loss = 0.28192860\n",
      "Iteration 16, loss = 0.27371101\n",
      "Iteration 17, loss = 0.26543585\n",
      "Iteration 18, loss = 0.25795361\n",
      "Iteration 19, loss = 0.25071552\n",
      "Iteration 20, loss = 0.24331129\n",
      "Iteration 1, loss = 1.21580923\n",
      "Iteration 2, loss = 0.67873035\n",
      "Iteration 3, loss = 0.53934871\n"
     ]
    },
    {
     "name": "stderr",
     "output_type": "stream",
     "text": [
      "D:\\AI\\Anaconda3\\lib\\site-packages\\sklearn\\neural_network\\_multilayer_perceptron.py:692: ConvergenceWarning: Stochastic Optimizer: Maximum iterations (20) reached and the optimization hasn't converged yet.\n",
      "  warnings.warn(\n"
     ]
    },
    {
     "name": "stdout",
     "output_type": "stream",
     "text": [
      "Iteration 4, loss = 0.47712589\n",
      "Iteration 5, loss = 0.43733358\n",
      "Iteration 6, loss = 0.40890269\n",
      "Iteration 7, loss = 0.38651900\n",
      "Iteration 8, loss = 0.36797896\n",
      "Iteration 9, loss = 0.35199948\n",
      "Iteration 10, loss = 0.33778224\n",
      "Iteration 11, loss = 0.32559073\n",
      "Iteration 12, loss = 0.31432870\n",
      "Iteration 13, loss = 0.30416366\n",
      "Iteration 14, loss = 0.29339113\n",
      "Iteration 15, loss = 0.28487097\n",
      "Iteration 16, loss = 0.27658515\n",
      "Iteration 17, loss = 0.26809077\n",
      "Iteration 18, loss = 0.26031818\n",
      "Iteration 19, loss = 0.25314709\n",
      "Iteration 20, loss = 0.24581645\n",
      "Iteration 1, loss = 1.19934932\n",
      "Iteration 2, loss = 0.67172496\n",
      "Iteration 3, loss = 0.53565368\n",
      "Iteration 4, loss = 0.47178312\n",
      "Iteration 5, loss = 0.43123066\n"
     ]
    },
    {
     "name": "stderr",
     "output_type": "stream",
     "text": [
      "D:\\AI\\Anaconda3\\lib\\site-packages\\sklearn\\neural_network\\_multilayer_perceptron.py:692: ConvergenceWarning: Stochastic Optimizer: Maximum iterations (20) reached and the optimization hasn't converged yet.\n",
      "  warnings.warn(\n"
     ]
    },
    {
     "name": "stdout",
     "output_type": "stream",
     "text": [
      "Iteration 6, loss = 0.40234092\n",
      "Iteration 7, loss = 0.37985864\n",
      "Iteration 8, loss = 0.36119676\n",
      "Iteration 9, loss = 0.34511415\n",
      "Iteration 10, loss = 0.33104252\n",
      "Iteration 11, loss = 0.31880375\n",
      "Iteration 12, loss = 0.30731834\n",
      "Iteration 13, loss = 0.29713162\n",
      "Iteration 14, loss = 0.28714781\n",
      "Iteration 15, loss = 0.27854739\n",
      "Iteration 16, loss = 0.27054730\n",
      "Iteration 17, loss = 0.26225286\n",
      "Iteration 18, loss = 0.25491810\n",
      "Iteration 19, loss = 0.24767369\n",
      "Iteration 20, loss = 0.24083865\n",
      "Iteration 1, loss = 1.21661179\n",
      "Iteration 2, loss = 0.67426926\n"
     ]
    },
    {
     "name": "stderr",
     "output_type": "stream",
     "text": [
      "D:\\AI\\Anaconda3\\lib\\site-packages\\sklearn\\neural_network\\_multilayer_perceptron.py:692: ConvergenceWarning: Stochastic Optimizer: Maximum iterations (20) reached and the optimization hasn't converged yet.\n",
      "  warnings.warn(\n"
     ]
    },
    {
     "name": "stdout",
     "output_type": "stream",
     "text": [
      "Iteration 3, loss = 0.53528374\n",
      "Iteration 4, loss = 0.47222671\n",
      "Iteration 5, loss = 0.43233242\n",
      "Iteration 6, loss = 0.40415810\n",
      "Iteration 7, loss = 0.38202152\n",
      "Iteration 8, loss = 0.36401572\n",
      "Iteration 9, loss = 0.34841022\n",
      "Iteration 10, loss = 0.33420106\n",
      "Iteration 11, loss = 0.32205599\n",
      "Iteration 12, loss = 0.31082627\n",
      "Iteration 13, loss = 0.30062879\n",
      "Iteration 14, loss = 0.29068102\n",
      "Iteration 15, loss = 0.28183594\n",
      "Iteration 16, loss = 0.27408402\n",
      "Iteration 17, loss = 0.26545617\n",
      "Iteration 18, loss = 0.25781642\n",
      "Iteration 19, loss = 0.25072950\n",
      "Iteration 20, loss = 0.24368526\n"
     ]
    },
    {
     "name": "stderr",
     "output_type": "stream",
     "text": [
      "D:\\AI\\Anaconda3\\lib\\site-packages\\sklearn\\neural_network\\_multilayer_perceptron.py:692: ConvergenceWarning: Stochastic Optimizer: Maximum iterations (20) reached and the optimization hasn't converged yet.\n",
      "  warnings.warn(\n"
     ]
    },
    {
     "name": "stdout",
     "output_type": "stream",
     "text": [
      "Iteration 1, loss = 1.20899277\n",
      "Iteration 2, loss = 0.67379316\n",
      "Iteration 3, loss = 0.53561791\n",
      "Iteration 4, loss = 0.47197369\n",
      "Iteration 5, loss = 0.43170966\n",
      "Iteration 6, loss = 0.40321096\n",
      "Iteration 7, loss = 0.38096875\n",
      "Iteration 8, loss = 0.36275475\n",
      "Iteration 9, loss = 0.34727152\n",
      "Iteration 10, loss = 0.33282478\n",
      "Iteration 11, loss = 0.32072802\n",
      "Iteration 12, loss = 0.30989318\n",
      "Iteration 13, loss = 0.29957359\n",
      "Iteration 14, loss = 0.28963651\n",
      "Iteration 15, loss = 0.28060243\n",
      "Iteration 16, loss = 0.27291831\n",
      "Iteration 17, loss = 0.26452117\n",
      "Iteration 18, loss = 0.25703035\n",
      "Iteration 19, loss = 0.25006521\n",
      "Iteration 20, loss = 0.24297011\n",
      "Iteration 1, loss = 1.20033145\n"
     ]
    },
    {
     "name": "stderr",
     "output_type": "stream",
     "text": [
      "D:\\AI\\Anaconda3\\lib\\site-packages\\sklearn\\neural_network\\_multilayer_perceptron.py:692: ConvergenceWarning: Stochastic Optimizer: Maximum iterations (20) reached and the optimization hasn't converged yet.\n",
      "  warnings.warn(\n"
     ]
    },
    {
     "name": "stdout",
     "output_type": "stream",
     "text": [
      "Iteration 2, loss = 0.67017227\n",
      "Iteration 3, loss = 0.53370800\n",
      "Iteration 4, loss = 0.46956300\n",
      "Iteration 5, loss = 0.42925581\n",
      "Iteration 6, loss = 0.40060796\n",
      "Iteration 7, loss = 0.37803815\n",
      "Iteration 8, loss = 0.35942060\n",
      "Iteration 9, loss = 0.34348065\n",
      "Iteration 10, loss = 0.32868993\n",
      "Iteration 11, loss = 0.31620073\n",
      "Iteration 12, loss = 0.30492486\n",
      "Iteration 13, loss = 0.29466823\n",
      "Iteration 14, loss = 0.28472660\n",
      "Iteration 15, loss = 0.27614243\n",
      "Iteration 16, loss = 0.26847130\n",
      "Iteration 17, loss = 0.25997751\n",
      "Iteration 18, loss = 0.25249811\n",
      "Iteration 19, loss = 0.24566719\n",
      "Iteration 20, loss = 0.23890576\n",
      "Iteration 1, loss = 1.18673711\n",
      "Iteration 2, loss = 0.66720365\n",
      "Iteration 3, loss = 0.53569596\n",
      "Iteration 4, loss = 0.47185679\n"
     ]
    },
    {
     "name": "stderr",
     "output_type": "stream",
     "text": [
      "D:\\AI\\Anaconda3\\lib\\site-packages\\sklearn\\neural_network\\_multilayer_perceptron.py:692: ConvergenceWarning: Stochastic Optimizer: Maximum iterations (20) reached and the optimization hasn't converged yet.\n",
      "  warnings.warn(\n"
     ]
    },
    {
     "name": "stdout",
     "output_type": "stream",
     "text": [
      "Iteration 5, loss = 0.43153242\n",
      "Iteration 6, loss = 0.40266915\n",
      "Iteration 7, loss = 0.38016046\n",
      "Iteration 8, loss = 0.36193643\n",
      "Iteration 9, loss = 0.34578726\n",
      "Iteration 10, loss = 0.33163549\n",
      "Iteration 11, loss = 0.31937335\n",
      "Iteration 12, loss = 0.30807524\n",
      "Iteration 13, loss = 0.29797805\n",
      "Iteration 14, loss = 0.28808351\n",
      "Iteration 15, loss = 0.27946944\n",
      "Iteration 16, loss = 0.27157671\n",
      "Iteration 17, loss = 0.26289954\n",
      "Iteration 18, loss = 0.25558290\n",
      "Iteration 19, loss = 0.24844924\n",
      "Iteration 20, loss = 0.24205624\n",
      "Iteration 1, loss = 1.20193567\n",
      "Iteration 2, loss = 0.67081933\n",
      "Iteration 3, loss = 0.53400618\n",
      "Iteration 4, loss = 0.47105757\n",
      "Iteration 5, loss = 0.43133047\n"
     ]
    },
    {
     "name": "stderr",
     "output_type": "stream",
     "text": [
      "D:\\AI\\Anaconda3\\lib\\site-packages\\sklearn\\neural_network\\_multilayer_perceptron.py:692: ConvergenceWarning: Stochastic Optimizer: Maximum iterations (20) reached and the optimization hasn't converged yet.\n",
      "  warnings.warn(\n"
     ]
    },
    {
     "name": "stdout",
     "output_type": "stream",
     "text": [
      "Iteration 6, loss = 0.40338270\n",
      "Iteration 7, loss = 0.38095189\n",
      "Iteration 8, loss = 0.36240360\n",
      "Iteration 9, loss = 0.34694318\n",
      "Iteration 10, loss = 0.33345889\n",
      "Iteration 11, loss = 0.32132791\n",
      "Iteration 12, loss = 0.30956317\n",
      "Iteration 13, loss = 0.29947605\n",
      "Iteration 14, loss = 0.29025103\n",
      "Iteration 15, loss = 0.28124166\n",
      "Iteration 16, loss = 0.27347295\n",
      "Iteration 17, loss = 0.26532363\n",
      "Iteration 18, loss = 0.25767473\n",
      "Iteration 19, loss = 0.25038361\n",
      "Iteration 20, loss = 0.24354774\n",
      "Iteration 1, loss = 1.19975778\n",
      "Iteration 2, loss = 0.67201527\n",
      "Iteration 3, loss = 0.53839949\n",
      "Iteration 4, loss = 0.47585330\n"
     ]
    },
    {
     "name": "stderr",
     "output_type": "stream",
     "text": [
      "D:\\AI\\Anaconda3\\lib\\site-packages\\sklearn\\neural_network\\_multilayer_perceptron.py:692: ConvergenceWarning: Stochastic Optimizer: Maximum iterations (20) reached and the optimization hasn't converged yet.\n",
      "  warnings.warn(\n"
     ]
    },
    {
     "name": "stdout",
     "output_type": "stream",
     "text": [
      "Iteration 5, loss = 0.43641973\n",
      "Iteration 6, loss = 0.40868038\n",
      "Iteration 7, loss = 0.38655696\n",
      "Iteration 8, loss = 0.36801812\n",
      "Iteration 9, loss = 0.35230371\n",
      "Iteration 10, loss = 0.33846169\n",
      "Iteration 11, loss = 0.32627013\n",
      "Iteration 12, loss = 0.31453445\n",
      "Iteration 13, loss = 0.30430452\n",
      "Iteration 14, loss = 0.29518653\n",
      "Iteration 15, loss = 0.28607942\n",
      "Iteration 16, loss = 0.27823611\n",
      "Iteration 17, loss = 0.27019281\n",
      "Iteration 18, loss = 0.26222094\n",
      "Iteration 19, loss = 0.25494504\n",
      "Iteration 20, loss = 0.24803134\n",
      "Iteration 1, loss = 1.30943607\n",
      "Iteration 2, loss = 0.81571106\n"
     ]
    },
    {
     "name": "stderr",
     "output_type": "stream",
     "text": [
      "D:\\AI\\Anaconda3\\lib\\site-packages\\sklearn\\neural_network\\_multilayer_perceptron.py:692: ConvergenceWarning: Stochastic Optimizer: Maximum iterations (20) reached and the optimization hasn't converged yet.\n",
      "  warnings.warn(\n"
     ]
    },
    {
     "name": "stdout",
     "output_type": "stream",
     "text": [
      "Iteration 3, loss = 0.74024590\n",
      "Iteration 4, loss = 0.69721824\n",
      "Iteration 5, loss = 0.67052239\n",
      "Iteration 6, loss = 0.65022387\n",
      "Iteration 7, loss = 0.63374134\n",
      "Iteration 8, loss = 0.61971292\n",
      "Iteration 9, loss = 0.60661664\n",
      "Iteration 10, loss = 0.59576676\n",
      "Iteration 11, loss = 0.58538260\n",
      "Iteration 12, loss = 0.57615127\n",
      "Iteration 13, loss = 0.56764582\n",
      "Iteration 14, loss = 0.55973131\n",
      "Iteration 15, loss = 0.55250703\n",
      "Iteration 16, loss = 0.54549001\n",
      "Iteration 17, loss = 0.53870868\n",
      "Iteration 18, loss = 0.53285813\n",
      "Iteration 19, loss = 0.52718899\n",
      "Iteration 20, loss = 0.52129530\n",
      "Iteration 1, loss = 1.31921898\n",
      "Iteration 2, loss = 0.82146222\n",
      "Iteration 3, loss = 0.74660964\n",
      "Iteration 4, loss = 0.70278535\n",
      "Iteration 5, loss = 0.67638888\n",
      "Iteration 6, loss = 0.65610313\n",
      "Iteration 7, loss = 0.63972129\n",
      "Iteration 8, loss = 0.62571697\n",
      "Iteration 9, loss = 0.61286056\n",
      "Iteration 10, loss = 0.60212805\n",
      "Iteration 11, loss = 0.59169475\n",
      "Iteration 12, loss = 0.58267198\n",
      "Iteration 13, loss = 0.57427389\n"
     ]
    },
    {
     "name": "stderr",
     "output_type": "stream",
     "text": [
      "D:\\AI\\Anaconda3\\lib\\site-packages\\sklearn\\neural_network\\_multilayer_perceptron.py:692: ConvergenceWarning: Stochastic Optimizer: Maximum iterations (20) reached and the optimization hasn't converged yet.\n",
      "  warnings.warn(\n"
     ]
    },
    {
     "name": "stdout",
     "output_type": "stream",
     "text": [
      "Iteration 14, loss = 0.56606249\n",
      "Iteration 15, loss = 0.55889229\n",
      "Iteration 16, loss = 0.55194634\n",
      "Iteration 17, loss = 0.54514429\n",
      "Iteration 18, loss = 0.53920384\n",
      "Iteration 19, loss = 0.53324935\n",
      "Iteration 20, loss = 0.52734505\n"
     ]
    },
    {
     "name": "stderr",
     "output_type": "stream",
     "text": [
      "D:\\AI\\Anaconda3\\lib\\site-packages\\sklearn\\neural_network\\_multilayer_perceptron.py:692: ConvergenceWarning: Stochastic Optimizer: Maximum iterations (20) reached and the optimization hasn't converged yet.\n",
      "  warnings.warn(\n"
     ]
    },
    {
     "name": "stdout",
     "output_type": "stream",
     "text": [
      "Iteration 1, loss = 1.31800097\n",
      "Iteration 2, loss = 0.81949533\n",
      "Iteration 3, loss = 0.74609972\n",
      "Iteration 4, loss = 0.70337290\n",
      "Iteration 5, loss = 0.67759270\n",
      "Iteration 6, loss = 0.65747618\n",
      "Iteration 7, loss = 0.64126677\n",
      "Iteration 8, loss = 0.62738840\n",
      "Iteration 9, loss = 0.61471620\n",
      "Iteration 10, loss = 0.60392833\n",
      "Iteration 11, loss = 0.59386533\n",
      "Iteration 12, loss = 0.58505248\n",
      "Iteration 13, loss = 0.57680688\n",
      "Iteration 14, loss = 0.56852186\n",
      "Iteration 15, loss = 0.56130476\n",
      "Iteration 16, loss = 0.55441775\n",
      "Iteration 17, loss = 0.54781702\n",
      "Iteration 18, loss = 0.54193941\n",
      "Iteration 19, loss = 0.53596699\n",
      "Iteration 20, loss = 0.53022461\n",
      "Iteration 1, loss = 1.30468934\n",
      "Iteration 2, loss = 0.81749724\n",
      "Iteration 3, loss = 0.74455056\n",
      "Iteration 4, loss = 0.70118573\n"
     ]
    },
    {
     "name": "stderr",
     "output_type": "stream",
     "text": [
      "D:\\AI\\Anaconda3\\lib\\site-packages\\sklearn\\neural_network\\_multilayer_perceptron.py:692: ConvergenceWarning: Stochastic Optimizer: Maximum iterations (20) reached and the optimization hasn't converged yet.\n",
      "  warnings.warn(\n"
     ]
    },
    {
     "name": "stdout",
     "output_type": "stream",
     "text": [
      "Iteration 5, loss = 0.67475810\n",
      "Iteration 6, loss = 0.65456517\n",
      "Iteration 7, loss = 0.63786314\n",
      "Iteration 8, loss = 0.62356251\n",
      "Iteration 9, loss = 0.61063537\n",
      "Iteration 10, loss = 0.59942093\n",
      "Iteration 11, loss = 0.58911944\n",
      "Iteration 12, loss = 0.58006180\n",
      "Iteration 13, loss = 0.57147790\n",
      "Iteration 14, loss = 0.56306002\n",
      "Iteration 15, loss = 0.55573711\n",
      "Iteration 16, loss = 0.54846035\n",
      "Iteration 17, loss = 0.54185247\n",
      "Iteration 18, loss = 0.53568948\n",
      "Iteration 19, loss = 0.52949006\n",
      "Iteration 20, loss = 0.52367809\n",
      "Iteration 1, loss = 1.32150458\n",
      "Iteration 2, loss = 0.81875251\n",
      "Iteration 3, loss = 0.74620578\n",
      "Iteration 4, loss = 0.70170373\n",
      "Iteration 5, loss = 0.67515582\n"
     ]
    },
    {
     "name": "stderr",
     "output_type": "stream",
     "text": [
      "D:\\AI\\Anaconda3\\lib\\site-packages\\sklearn\\neural_network\\_multilayer_perceptron.py:692: ConvergenceWarning: Stochastic Optimizer: Maximum iterations (20) reached and the optimization hasn't converged yet.\n",
      "  warnings.warn(\n"
     ]
    },
    {
     "name": "stdout",
     "output_type": "stream",
     "text": [
      "Iteration 6, loss = 0.65458370\n",
      "Iteration 7, loss = 0.63776522\n",
      "Iteration 8, loss = 0.62339766\n",
      "Iteration 9, loss = 0.61058210\n",
      "Iteration 10, loss = 0.59906684\n",
      "Iteration 11, loss = 0.58891031\n",
      "Iteration 12, loss = 0.57977686\n",
      "Iteration 13, loss = 0.57121002\n",
      "Iteration 14, loss = 0.56289959\n",
      "Iteration 15, loss = 0.55552081\n",
      "Iteration 16, loss = 0.54844185\n",
      "Iteration 17, loss = 0.54186973\n",
      "Iteration 18, loss = 0.53574378\n",
      "Iteration 19, loss = 0.52964967\n",
      "Iteration 20, loss = 0.52397240\n",
      "Iteration 1, loss = 1.31463935\n",
      "Iteration 2, loss = 0.81972396\n",
      "Iteration 3, loss = 0.74686555\n"
     ]
    },
    {
     "name": "stderr",
     "output_type": "stream",
     "text": [
      "D:\\AI\\Anaconda3\\lib\\site-packages\\sklearn\\neural_network\\_multilayer_perceptron.py:692: ConvergenceWarning: Stochastic Optimizer: Maximum iterations (20) reached and the optimization hasn't converged yet.\n",
      "  warnings.warn(\n"
     ]
    },
    {
     "name": "stdout",
     "output_type": "stream",
     "text": [
      "Iteration 4, loss = 0.70309212\n",
      "Iteration 5, loss = 0.67712058\n",
      "Iteration 6, loss = 0.65689223\n",
      "Iteration 7, loss = 0.64053559\n",
      "Iteration 8, loss = 0.62638715\n",
      "Iteration 9, loss = 0.61407393\n",
      "Iteration 10, loss = 0.60262423\n",
      "Iteration 11, loss = 0.59274759\n",
      "Iteration 12, loss = 0.58384426\n",
      "Iteration 13, loss = 0.57495014\n",
      "Iteration 14, loss = 0.56679101\n",
      "Iteration 15, loss = 0.55952130\n",
      "Iteration 16, loss = 0.55221899\n",
      "Iteration 17, loss = 0.54575235\n",
      "Iteration 18, loss = 0.53955043\n",
      "Iteration 19, loss = 0.53346705\n",
      "Iteration 20, loss = 0.52767824\n",
      "Iteration 1, loss = 1.31068497\n",
      "Iteration 2, loss = 0.81716790\n"
     ]
    },
    {
     "name": "stderr",
     "output_type": "stream",
     "text": [
      "D:\\AI\\Anaconda3\\lib\\site-packages\\sklearn\\neural_network\\_multilayer_perceptron.py:692: ConvergenceWarning: Stochastic Optimizer: Maximum iterations (20) reached and the optimization hasn't converged yet.\n",
      "  warnings.warn(\n"
     ]
    },
    {
     "name": "stdout",
     "output_type": "stream",
     "text": [
      "Iteration 3, loss = 0.74361223\n",
      "Iteration 4, loss = 0.69896373\n",
      "Iteration 5, loss = 0.67263582\n",
      "Iteration 6, loss = 0.65245543\n",
      "Iteration 7, loss = 0.63595701\n",
      "Iteration 8, loss = 0.62180942\n",
      "Iteration 9, loss = 0.60983202\n",
      "Iteration 10, loss = 0.59817653\n",
      "Iteration 11, loss = 0.58836253\n",
      "Iteration 12, loss = 0.57937254\n",
      "Iteration 13, loss = 0.57081610\n",
      "Iteration 14, loss = 0.56294039\n",
      "Iteration 15, loss = 0.55589244\n",
      "Iteration 16, loss = 0.54862003\n",
      "Iteration 17, loss = 0.54232915\n",
      "Iteration 18, loss = 0.53611282\n",
      "Iteration 19, loss = 0.53013409\n",
      "Iteration 20, loss = 0.52470805\n",
      "Iteration 1, loss = 1.30135307\n",
      "Iteration 2, loss = 0.81651850\n",
      "Iteration 3, loss = 0.74585327\n",
      "Iteration 4, loss = 0.70194080\n",
      "Iteration 5, loss = 0.67572476\n",
      "Iteration 6, loss = 0.65544479\n",
      "Iteration 7, loss = 0.63890705\n",
      "Iteration 8, loss = 0.62466366\n",
      "Iteration 9, loss = 0.61229327\n",
      "Iteration 10, loss = 0.60084154\n",
      "Iteration 11, loss = 0.59092478\n",
      "Iteration 12, loss = 0.58170023\n"
     ]
    },
    {
     "name": "stderr",
     "output_type": "stream",
     "text": [
      "D:\\AI\\Anaconda3\\lib\\site-packages\\sklearn\\neural_network\\_multilayer_perceptron.py:692: ConvergenceWarning: Stochastic Optimizer: Maximum iterations (20) reached and the optimization hasn't converged yet.\n",
      "  warnings.warn(\n"
     ]
    },
    {
     "name": "stdout",
     "output_type": "stream",
     "text": [
      "Iteration 13, loss = 0.57319066\n",
      "Iteration 14, loss = 0.56512894\n",
      "Iteration 15, loss = 0.55795568\n",
      "Iteration 16, loss = 0.55067381\n",
      "Iteration 17, loss = 0.54422974\n",
      "Iteration 18, loss = 0.53787933\n",
      "Iteration 19, loss = 0.53193517\n",
      "Iteration 20, loss = 0.52653278\n",
      "Iteration 1, loss = 1.31271262\n"
     ]
    },
    {
     "name": "stderr",
     "output_type": "stream",
     "text": [
      "D:\\AI\\Anaconda3\\lib\\site-packages\\sklearn\\neural_network\\_multilayer_perceptron.py:692: ConvergenceWarning: Stochastic Optimizer: Maximum iterations (20) reached and the optimization hasn't converged yet.\n",
      "  warnings.warn(\n"
     ]
    },
    {
     "name": "stdout",
     "output_type": "stream",
     "text": [
      "Iteration 2, loss = 0.81864472\n",
      "Iteration 3, loss = 0.74183740\n",
      "Iteration 4, loss = 0.69809987\n",
      "Iteration 5, loss = 0.67153005\n",
      "Iteration 6, loss = 0.65134764\n",
      "Iteration 7, loss = 0.63487189\n",
      "Iteration 8, loss = 0.62071472\n",
      "Iteration 9, loss = 0.60831594\n",
      "Iteration 10, loss = 0.59707457\n",
      "Iteration 11, loss = 0.58699594\n",
      "Iteration 12, loss = 0.57755775\n",
      "Iteration 13, loss = 0.56896776\n",
      "Iteration 14, loss = 0.56082882\n",
      "Iteration 15, loss = 0.55356876\n",
      "Iteration 16, loss = 0.54642110\n",
      "Iteration 17, loss = 0.53991698\n",
      "Iteration 18, loss = 0.53359627\n",
      "Iteration 19, loss = 0.52771277\n",
      "Iteration 20, loss = 0.52196790\n",
      "Iteration 1, loss = 1.31477440\n"
     ]
    },
    {
     "name": "stderr",
     "output_type": "stream",
     "text": [
      "D:\\AI\\Anaconda3\\lib\\site-packages\\sklearn\\neural_network\\_multilayer_perceptron.py:692: ConvergenceWarning: Stochastic Optimizer: Maximum iterations (20) reached and the optimization hasn't converged yet.\n",
      "  warnings.warn(\n"
     ]
    },
    {
     "name": "stdout",
     "output_type": "stream",
     "text": [
      "Iteration 2, loss = 0.82244803\n",
      "Iteration 3, loss = 0.74938401\n",
      "Iteration 4, loss = 0.70625032\n",
      "Iteration 5, loss = 0.67939150\n",
      "Iteration 6, loss = 0.65913930\n",
      "Iteration 7, loss = 0.64253948\n",
      "Iteration 8, loss = 0.62844614\n",
      "Iteration 9, loss = 0.61588872\n",
      "Iteration 10, loss = 0.60449146\n",
      "Iteration 11, loss = 0.59445714\n",
      "Iteration 12, loss = 0.58502443\n",
      "Iteration 13, loss = 0.57634103\n",
      "Iteration 14, loss = 0.56829605\n",
      "Iteration 15, loss = 0.56084527\n",
      "Iteration 16, loss = 0.55364132\n",
      "Iteration 17, loss = 0.54697880\n",
      "Iteration 18, loss = 0.54068204\n",
      "Iteration 19, loss = 0.53467509\n",
      "Iteration 20, loss = 0.52872299\n"
     ]
    },
    {
     "name": "stderr",
     "output_type": "stream",
     "text": [
      "D:\\AI\\Anaconda3\\lib\\site-packages\\sklearn\\neural_network\\_multilayer_perceptron.py:692: ConvergenceWarning: Stochastic Optimizer: Maximum iterations (20) reached and the optimization hasn't converged yet.\n",
      "  warnings.warn(\n",
      "D:\\AI\\Anaconda3\\lib\\site-packages\\sklearn\\neural_network\\_multilayer_perceptron.py:549: ConvergenceWarning: lbfgs failed to converge (status=1):\n",
      "STOP: TOTAL NO. of ITERATIONS REACHED LIMIT.\n",
      "\n",
      "Increase the number of iterations (max_iter) or scale the data as shown in:\n",
      "    https://scikit-learn.org/stable/modules/preprocessing.html\n",
      "  self.n_iter_ = _check_optimize_result(\"lbfgs\", opt_res, self.max_iter)\n",
      "D:\\AI\\Anaconda3\\lib\\site-packages\\sklearn\\neural_network\\_multilayer_perceptron.py:549: ConvergenceWarning: lbfgs failed to converge (status=1):\n",
      "STOP: TOTAL NO. of ITERATIONS REACHED LIMIT.\n",
      "\n",
      "Increase the number of iterations (max_iter) or scale the data as shown in:\n",
      "    https://scikit-learn.org/stable/modules/preprocessing.html\n",
      "  self.n_iter_ = _check_optimize_result(\"lbfgs\", opt_res, self.max_iter)\n",
      "D:\\AI\\Anaconda3\\lib\\site-packages\\sklearn\\neural_network\\_multilayer_perceptron.py:549: ConvergenceWarning: lbfgs failed to converge (status=1):\n",
      "STOP: TOTAL NO. of ITERATIONS REACHED LIMIT.\n",
      "\n",
      "Increase the number of iterations (max_iter) or scale the data as shown in:\n",
      "    https://scikit-learn.org/stable/modules/preprocessing.html\n",
      "  self.n_iter_ = _check_optimize_result(\"lbfgs\", opt_res, self.max_iter)\n",
      "D:\\AI\\Anaconda3\\lib\\site-packages\\sklearn\\neural_network\\_multilayer_perceptron.py:549: ConvergenceWarning: lbfgs failed to converge (status=1):\n",
      "STOP: TOTAL NO. of ITERATIONS REACHED LIMIT.\n",
      "\n",
      "Increase the number of iterations (max_iter) or scale the data as shown in:\n",
      "    https://scikit-learn.org/stable/modules/preprocessing.html\n",
      "  self.n_iter_ = _check_optimize_result(\"lbfgs\", opt_res, self.max_iter)\n",
      "D:\\AI\\Anaconda3\\lib\\site-packages\\sklearn\\neural_network\\_multilayer_perceptron.py:549: ConvergenceWarning: lbfgs failed to converge (status=1):\n",
      "STOP: TOTAL NO. of ITERATIONS REACHED LIMIT.\n",
      "\n",
      "Increase the number of iterations (max_iter) or scale the data as shown in:\n",
      "    https://scikit-learn.org/stable/modules/preprocessing.html\n",
      "  self.n_iter_ = _check_optimize_result(\"lbfgs\", opt_res, self.max_iter)\n",
      "D:\\AI\\Anaconda3\\lib\\site-packages\\sklearn\\neural_network\\_multilayer_perceptron.py:549: ConvergenceWarning: lbfgs failed to converge (status=1):\n",
      "STOP: TOTAL NO. of ITERATIONS REACHED LIMIT.\n",
      "\n",
      "Increase the number of iterations (max_iter) or scale the data as shown in:\n",
      "    https://scikit-learn.org/stable/modules/preprocessing.html\n",
      "  self.n_iter_ = _check_optimize_result(\"lbfgs\", opt_res, self.max_iter)\n",
      "D:\\AI\\Anaconda3\\lib\\site-packages\\sklearn\\neural_network\\_multilayer_perceptron.py:549: ConvergenceWarning: lbfgs failed to converge (status=1):\n",
      "STOP: TOTAL NO. of ITERATIONS REACHED LIMIT.\n",
      "\n",
      "Increase the number of iterations (max_iter) or scale the data as shown in:\n",
      "    https://scikit-learn.org/stable/modules/preprocessing.html\n",
      "  self.n_iter_ = _check_optimize_result(\"lbfgs\", opt_res, self.max_iter)\n",
      "D:\\AI\\Anaconda3\\lib\\site-packages\\sklearn\\neural_network\\_multilayer_perceptron.py:549: ConvergenceWarning: lbfgs failed to converge (status=1):\n",
      "STOP: TOTAL NO. of ITERATIONS REACHED LIMIT.\n",
      "\n",
      "Increase the number of iterations (max_iter) or scale the data as shown in:\n",
      "    https://scikit-learn.org/stable/modules/preprocessing.html\n",
      "  self.n_iter_ = _check_optimize_result(\"lbfgs\", opt_res, self.max_iter)\n",
      "D:\\AI\\Anaconda3\\lib\\site-packages\\sklearn\\neural_network\\_multilayer_perceptron.py:549: ConvergenceWarning: lbfgs failed to converge (status=1):\n",
      "STOP: TOTAL NO. of ITERATIONS REACHED LIMIT.\n",
      "\n",
      "Increase the number of iterations (max_iter) or scale the data as shown in:\n",
      "    https://scikit-learn.org/stable/modules/preprocessing.html\n",
      "  self.n_iter_ = _check_optimize_result(\"lbfgs\", opt_res, self.max_iter)\n",
      "D:\\AI\\Anaconda3\\lib\\site-packages\\sklearn\\neural_network\\_multilayer_perceptron.py:549: ConvergenceWarning: lbfgs failed to converge (status=1):\n",
      "STOP: TOTAL NO. of ITERATIONS REACHED LIMIT.\n",
      "\n",
      "Increase the number of iterations (max_iter) or scale the data as shown in:\n",
      "    https://scikit-learn.org/stable/modules/preprocessing.html\n",
      "  self.n_iter_ = _check_optimize_result(\"lbfgs\", opt_res, self.max_iter)\n"
     ]
    },
    {
     "name": "stdout",
     "output_type": "stream",
     "text": [
      "Iteration 1, loss = 0.67298358\n",
      "Iteration 2, loss = 0.52494350\n",
      "Iteration 3, loss = 0.44505381\n",
      "Iteration 4, loss = 0.38353178\n",
      "Iteration 5, loss = 0.34000883\n",
      "Iteration 6, loss = 0.30929796\n",
      "Iteration 7, loss = 0.28386876\n",
      "Iteration 8, loss = 0.26386399\n",
      "Iteration 9, loss = 0.24449160\n",
      "Iteration 10, loss = 0.22937829\n",
      "Iteration 11, loss = 0.21484491\n",
      "Iteration 12, loss = 0.20368147\n",
      "Iteration 13, loss = 0.18960525\n",
      "Iteration 14, loss = 0.17532493\n",
      "Iteration 15, loss = 0.16467509\n",
      "Iteration 16, loss = 0.15395390\n",
      "Iteration 17, loss = 0.14237454\n",
      "Iteration 18, loss = 0.13355671\n",
      "Iteration 19, loss = 0.12696666\n",
      "Iteration 20, loss = 0.11631166\n",
      "Iteration 1, loss = 0.68158684\n",
      "Iteration 2, loss = 0.53136915\n",
      "Iteration 3, loss = 0.44924575\n",
      "Iteration 4, loss = 0.38695233\n",
      "Iteration 5, loss = 0.34319533\n",
      "Iteration 6, loss = 0.31380131\n"
     ]
    },
    {
     "name": "stderr",
     "output_type": "stream",
     "text": [
      "D:\\AI\\Anaconda3\\lib\\site-packages\\sklearn\\neural_network\\_multilayer_perceptron.py:692: ConvergenceWarning: Stochastic Optimizer: Maximum iterations (20) reached and the optimization hasn't converged yet.\n",
      "  warnings.warn(\n"
     ]
    },
    {
     "name": "stdout",
     "output_type": "stream",
     "text": [
      "Iteration 7, loss = 0.28771638\n",
      "Iteration 8, loss = 0.26687384\n",
      "Iteration 9, loss = 0.24679276\n",
      "Iteration 10, loss = 0.23224687\n",
      "Iteration 11, loss = 0.21761522\n",
      "Iteration 12, loss = 0.20335195\n",
      "Iteration 13, loss = 0.19050168\n",
      "Iteration 14, loss = 0.17771413\n",
      "Iteration 15, loss = 0.16698957\n",
      "Iteration 16, loss = 0.15681269\n",
      "Iteration 17, loss = 0.14526599\n",
      "Iteration 18, loss = 0.13533463\n",
      "Iteration 19, loss = 0.12731423\n",
      "Iteration 20, loss = 0.11844603\n",
      "Iteration 1, loss = 0.67754078\n",
      "Iteration 2, loss = 0.53211636\n",
      "Iteration 3, loss = 0.45092175\n",
      "Iteration 4, loss = 0.38978019\n"
     ]
    },
    {
     "name": "stderr",
     "output_type": "stream",
     "text": [
      "D:\\AI\\Anaconda3\\lib\\site-packages\\sklearn\\neural_network\\_multilayer_perceptron.py:692: ConvergenceWarning: Stochastic Optimizer: Maximum iterations (20) reached and the optimization hasn't converged yet.\n",
      "  warnings.warn(\n"
     ]
    },
    {
     "name": "stdout",
     "output_type": "stream",
     "text": [
      "Iteration 5, loss = 0.34683507\n",
      "Iteration 6, loss = 0.31613457\n",
      "Iteration 7, loss = 0.28948038\n",
      "Iteration 8, loss = 0.26704241\n",
      "Iteration 9, loss = 0.24848990\n",
      "Iteration 10, loss = 0.23368797\n",
      "Iteration 11, loss = 0.21819274\n",
      "Iteration 12, loss = 0.20333999\n",
      "Iteration 13, loss = 0.19019567\n",
      "Iteration 14, loss = 0.17814004\n",
      "Iteration 15, loss = 0.16598379\n",
      "Iteration 16, loss = 0.15566210\n",
      "Iteration 17, loss = 0.14502156\n",
      "Iteration 18, loss = 0.13435573\n",
      "Iteration 19, loss = 0.12574065\n",
      "Iteration 20, loss = 0.11700379\n",
      "Iteration 1, loss = 0.67834951\n",
      "Iteration 2, loss = 0.53032762\n"
     ]
    },
    {
     "name": "stderr",
     "output_type": "stream",
     "text": [
      "D:\\AI\\Anaconda3\\lib\\site-packages\\sklearn\\neural_network\\_multilayer_perceptron.py:692: ConvergenceWarning: Stochastic Optimizer: Maximum iterations (20) reached and the optimization hasn't converged yet.\n",
      "  warnings.warn(\n"
     ]
    },
    {
     "name": "stdout",
     "output_type": "stream",
     "text": [
      "Iteration 3, loss = 0.44900002\n",
      "Iteration 4, loss = 0.38720812\n",
      "Iteration 5, loss = 0.34448095\n",
      "Iteration 6, loss = 0.31387656\n",
      "Iteration 7, loss = 0.28554591\n",
      "Iteration 8, loss = 0.26486119\n",
      "Iteration 9, loss = 0.24759655\n",
      "Iteration 10, loss = 0.23442360\n",
      "Iteration 11, loss = 0.21866729\n",
      "Iteration 12, loss = 0.20319434\n",
      "Iteration 13, loss = 0.19086595\n",
      "Iteration 14, loss = 0.17826746\n",
      "Iteration 15, loss = 0.16740861\n",
      "Iteration 16, loss = 0.15748965\n",
      "Iteration 17, loss = 0.14708861\n",
      "Iteration 18, loss = 0.13619386\n",
      "Iteration 19, loss = 0.12752522\n",
      "Iteration 20, loss = 0.11900076\n"
     ]
    },
    {
     "name": "stderr",
     "output_type": "stream",
     "text": [
      "D:\\AI\\Anaconda3\\lib\\site-packages\\sklearn\\neural_network\\_multilayer_perceptron.py:692: ConvergenceWarning: Stochastic Optimizer: Maximum iterations (20) reached and the optimization hasn't converged yet.\n",
      "  warnings.warn(\n"
     ]
    },
    {
     "name": "stdout",
     "output_type": "stream",
     "text": [
      "Iteration 1, loss = 0.67681234\n",
      "Iteration 2, loss = 0.52746523\n",
      "Iteration 3, loss = 0.44654384\n",
      "Iteration 4, loss = 0.38652600\n",
      "Iteration 5, loss = 0.34520320\n",
      "Iteration 6, loss = 0.31605478\n",
      "Iteration 7, loss = 0.28690668\n",
      "Iteration 8, loss = 0.26668301\n",
      "Iteration 9, loss = 0.24941241\n",
      "Iteration 10, loss = 0.23420990\n",
      "Iteration 11, loss = 0.21824509\n",
      "Iteration 12, loss = 0.20270564\n",
      "Iteration 13, loss = 0.19044129\n",
      "Iteration 14, loss = 0.17713816\n",
      "Iteration 15, loss = 0.16673655\n",
      "Iteration 16, loss = 0.15573828\n",
      "Iteration 17, loss = 0.14458901\n",
      "Iteration 18, loss = 0.13389363\n",
      "Iteration 19, loss = 0.12499050\n",
      "Iteration 20, loss = 0.11635018\n"
     ]
    },
    {
     "name": "stderr",
     "output_type": "stream",
     "text": [
      "D:\\AI\\Anaconda3\\lib\\site-packages\\sklearn\\neural_network\\_multilayer_perceptron.py:692: ConvergenceWarning: Stochastic Optimizer: Maximum iterations (20) reached and the optimization hasn't converged yet.\n",
      "  warnings.warn(\n"
     ]
    },
    {
     "name": "stdout",
     "output_type": "stream",
     "text": [
      "Iteration 1, loss = 0.67901837\n",
      "Iteration 2, loss = 0.52942827\n",
      "Iteration 3, loss = 0.44802737\n",
      "Iteration 4, loss = 0.38696615\n",
      "Iteration 5, loss = 0.34358845\n",
      "Iteration 6, loss = 0.31450640\n",
      "Iteration 7, loss = 0.28457513\n",
      "Iteration 8, loss = 0.26456742\n",
      "Iteration 9, loss = 0.24650271\n",
      "Iteration 10, loss = 0.23160106\n",
      "Iteration 11, loss = 0.21668567\n",
      "Iteration 12, loss = 0.20068771\n",
      "Iteration 13, loss = 0.18820025\n",
      "Iteration 14, loss = 0.17679035\n",
      "Iteration 15, loss = 0.16452351\n",
      "Iteration 16, loss = 0.15273720\n",
      "Iteration 17, loss = 0.14220008\n",
      "Iteration 18, loss = 0.13246522\n",
      "Iteration 19, loss = 0.12279035\n",
      "Iteration 20, loss = 0.11466656\n",
      "Iteration 1, loss = 0.67674487\n"
     ]
    },
    {
     "name": "stderr",
     "output_type": "stream",
     "text": [
      "D:\\AI\\Anaconda3\\lib\\site-packages\\sklearn\\neural_network\\_multilayer_perceptron.py:692: ConvergenceWarning: Stochastic Optimizer: Maximum iterations (20) reached and the optimization hasn't converged yet.\n",
      "  warnings.warn(\n"
     ]
    },
    {
     "name": "stdout",
     "output_type": "stream",
     "text": [
      "Iteration 2, loss = 0.52463803\n",
      "Iteration 3, loss = 0.44230533\n",
      "Iteration 4, loss = 0.38086773\n",
      "Iteration 5, loss = 0.33641965\n",
      "Iteration 6, loss = 0.30639231\n",
      "Iteration 7, loss = 0.27753713\n",
      "Iteration 8, loss = 0.25749302\n",
      "Iteration 9, loss = 0.23874465\n",
      "Iteration 10, loss = 0.22538831\n",
      "Iteration 11, loss = 0.20991692\n",
      "Iteration 12, loss = 0.19636582\n",
      "Iteration 13, loss = 0.18423632\n",
      "Iteration 14, loss = 0.17262018\n",
      "Iteration 15, loss = 0.16038971\n",
      "Iteration 16, loss = 0.15014976\n",
      "Iteration 17, loss = 0.14036584\n",
      "Iteration 18, loss = 0.13080872\n",
      "Iteration 19, loss = 0.12095627\n",
      "Iteration 20, loss = 0.11395057\n"
     ]
    },
    {
     "name": "stderr",
     "output_type": "stream",
     "text": [
      "D:\\AI\\Anaconda3\\lib\\site-packages\\sklearn\\neural_network\\_multilayer_perceptron.py:692: ConvergenceWarning: Stochastic Optimizer: Maximum iterations (20) reached and the optimization hasn't converged yet.\n",
      "  warnings.warn(\n"
     ]
    },
    {
     "name": "stdout",
     "output_type": "stream",
     "text": [
      "Iteration 1, loss = 0.67503809\n",
      "Iteration 2, loss = 0.52684297\n",
      "Iteration 3, loss = 0.44547340\n",
      "Iteration 4, loss = 0.38718025\n",
      "Iteration 5, loss = 0.34350954\n",
      "Iteration 6, loss = 0.31386928\n",
      "Iteration 7, loss = 0.28684224\n",
      "Iteration 8, loss = 0.26709225\n",
      "Iteration 9, loss = 0.24802702\n",
      "Iteration 10, loss = 0.23344145\n",
      "Iteration 11, loss = 0.21835416\n",
      "Iteration 12, loss = 0.20336213\n",
      "Iteration 13, loss = 0.19191753\n",
      "Iteration 14, loss = 0.18106904\n",
      "Iteration 15, loss = 0.16803993\n",
      "Iteration 16, loss = 0.15816814\n",
      "Iteration 17, loss = 0.14727281\n",
      "Iteration 18, loss = 0.13671025\n",
      "Iteration 19, loss = 0.12730466\n",
      "Iteration 20, loss = 0.11884250\n",
      "Iteration 1, loss = 0.67032477\n"
     ]
    },
    {
     "name": "stderr",
     "output_type": "stream",
     "text": [
      "D:\\AI\\Anaconda3\\lib\\site-packages\\sklearn\\neural_network\\_multilayer_perceptron.py:692: ConvergenceWarning: Stochastic Optimizer: Maximum iterations (20) reached and the optimization hasn't converged yet.\n",
      "  warnings.warn(\n"
     ]
    },
    {
     "name": "stdout",
     "output_type": "stream",
     "text": [
      "Iteration 2, loss = 0.52296317\n",
      "Iteration 3, loss = 0.44186623\n",
      "Iteration 4, loss = 0.38315878\n",
      "Iteration 5, loss = 0.33934747\n",
      "Iteration 6, loss = 0.30811866\n",
      "Iteration 7, loss = 0.28507145\n",
      "Iteration 8, loss = 0.26503385\n",
      "Iteration 9, loss = 0.24651714\n",
      "Iteration 10, loss = 0.23227242\n",
      "Iteration 11, loss = 0.21639269\n",
      "Iteration 12, loss = 0.20170800\n",
      "Iteration 13, loss = 0.19036268\n",
      "Iteration 14, loss = 0.17846382\n",
      "Iteration 15, loss = 0.16639831\n",
      "Iteration 16, loss = 0.15516079\n",
      "Iteration 17, loss = 0.14427601\n",
      "Iteration 18, loss = 0.13573292\n",
      "Iteration 19, loss = 0.12576006\n",
      "Iteration 20, loss = 0.11768688\n",
      "Iteration 1, loss = 0.67440589\n",
      "Iteration 2, loss = 0.53027949\n",
      "Iteration 3, loss = 0.44963349\n",
      "Iteration 4, loss = 0.39032061\n"
     ]
    },
    {
     "name": "stderr",
     "output_type": "stream",
     "text": [
      "D:\\AI\\Anaconda3\\lib\\site-packages\\sklearn\\neural_network\\_multilayer_perceptron.py:692: ConvergenceWarning: Stochastic Optimizer: Maximum iterations (20) reached and the optimization hasn't converged yet.\n",
      "  warnings.warn(\n"
     ]
    },
    {
     "name": "stdout",
     "output_type": "stream",
     "text": [
      "Iteration 5, loss = 0.34571717\n",
      "Iteration 6, loss = 0.31431124\n",
      "Iteration 7, loss = 0.28953220\n",
      "Iteration 8, loss = 0.26853879\n",
      "Iteration 9, loss = 0.25105465\n",
      "Iteration 10, loss = 0.23782673\n",
      "Iteration 11, loss = 0.22044674\n",
      "Iteration 12, loss = 0.20477852\n",
      "Iteration 13, loss = 0.19260925\n",
      "Iteration 14, loss = 0.17949410\n",
      "Iteration 15, loss = 0.16753442\n",
      "Iteration 16, loss = 0.15610175\n",
      "Iteration 17, loss = 0.14496425\n",
      "Iteration 18, loss = 0.13617081\n",
      "Iteration 19, loss = 0.12529648\n",
      "Iteration 20, loss = 0.11719323\n",
      "Iteration 1, loss = 0.76599641\n",
      "Iteration 2, loss = 0.72036560\n"
     ]
    },
    {
     "name": "stderr",
     "output_type": "stream",
     "text": [
      "D:\\AI\\Anaconda3\\lib\\site-packages\\sklearn\\neural_network\\_multilayer_perceptron.py:692: ConvergenceWarning: Stochastic Optimizer: Maximum iterations (20) reached and the optimization hasn't converged yet.\n",
      "  warnings.warn(\n"
     ]
    },
    {
     "name": "stdout",
     "output_type": "stream",
     "text": [
      "Iteration 3, loss = 0.68518926\n",
      "Iteration 4, loss = 0.65815464\n",
      "Iteration 5, loss = 0.63943471\n",
      "Iteration 6, loss = 0.62434556\n",
      "Iteration 7, loss = 0.61153187\n",
      "Iteration 8, loss = 0.60058980\n",
      "Iteration 9, loss = 0.58961146\n",
      "Iteration 10, loss = 0.58054862\n",
      "Iteration 11, loss = 0.57127807\n",
      "Iteration 12, loss = 0.56299733\n",
      "Iteration 13, loss = 0.55488873\n",
      "Iteration 14, loss = 0.54720772\n",
      "Iteration 15, loss = 0.53959248\n",
      "Iteration 16, loss = 0.53238393\n",
      "Iteration 17, loss = 0.52531759\n",
      "Iteration 18, loss = 0.51889293\n",
      "Iteration 19, loss = 0.51217852\n",
      "Iteration 20, loss = 0.50571687\n",
      "Iteration 1, loss = 0.76945259\n",
      "Iteration 2, loss = 0.72377059\n"
     ]
    },
    {
     "name": "stderr",
     "output_type": "stream",
     "text": [
      "D:\\AI\\Anaconda3\\lib\\site-packages\\sklearn\\neural_network\\_multilayer_perceptron.py:692: ConvergenceWarning: Stochastic Optimizer: Maximum iterations (20) reached and the optimization hasn't converged yet.\n",
      "  warnings.warn(\n"
     ]
    },
    {
     "name": "stdout",
     "output_type": "stream",
     "text": [
      "Iteration 3, loss = 0.68891419\n",
      "Iteration 4, loss = 0.66222669\n",
      "Iteration 5, loss = 0.64361717\n",
      "Iteration 6, loss = 0.62873535\n",
      "Iteration 7, loss = 0.61572950\n",
      "Iteration 8, loss = 0.60473936\n",
      "Iteration 9, loss = 0.59402542\n",
      "Iteration 10, loss = 0.58492002\n",
      "Iteration 11, loss = 0.57573816\n",
      "Iteration 12, loss = 0.56751542\n",
      "Iteration 13, loss = 0.55953586\n",
      "Iteration 14, loss = 0.55200454\n",
      "Iteration 15, loss = 0.54438587\n",
      "Iteration 16, loss = 0.53723466\n",
      "Iteration 17, loss = 0.53013393\n",
      "Iteration 18, loss = 0.52365961\n",
      "Iteration 19, loss = 0.51704622\n",
      "Iteration 20, loss = 0.51065591\n",
      "Iteration 1, loss = 0.76526414\n"
     ]
    },
    {
     "name": "stderr",
     "output_type": "stream",
     "text": [
      "D:\\AI\\Anaconda3\\lib\\site-packages\\sklearn\\neural_network\\_multilayer_perceptron.py:692: ConvergenceWarning: Stochastic Optimizer: Maximum iterations (20) reached and the optimization hasn't converged yet.\n",
      "  warnings.warn(\n"
     ]
    },
    {
     "name": "stdout",
     "output_type": "stream",
     "text": [
      "Iteration 2, loss = 0.72071766\n",
      "Iteration 3, loss = 0.68660491\n",
      "Iteration 4, loss = 0.66055656\n",
      "Iteration 5, loss = 0.64246290\n",
      "Iteration 6, loss = 0.62771450\n",
      "Iteration 7, loss = 0.61504538\n",
      "Iteration 8, loss = 0.60438973\n",
      "Iteration 9, loss = 0.59435389\n",
      "Iteration 10, loss = 0.58524649\n",
      "Iteration 11, loss = 0.57629552\n",
      "Iteration 12, loss = 0.56820659\n",
      "Iteration 13, loss = 0.56056663\n",
      "Iteration 14, loss = 0.55307043\n",
      "Iteration 15, loss = 0.54560608\n",
      "Iteration 16, loss = 0.53860106\n",
      "Iteration 17, loss = 0.53184910\n",
      "Iteration 18, loss = 0.52522010\n",
      "Iteration 19, loss = 0.51857796\n",
      "Iteration 20, loss = 0.51221439\n",
      "Iteration 1, loss = 0.76667401\n",
      "Iteration 2, loss = 0.72131498\n",
      "Iteration 3, loss = 0.68637496\n"
     ]
    },
    {
     "name": "stderr",
     "output_type": "stream",
     "text": [
      "D:\\AI\\Anaconda3\\lib\\site-packages\\sklearn\\neural_network\\_multilayer_perceptron.py:692: ConvergenceWarning: Stochastic Optimizer: Maximum iterations (20) reached and the optimization hasn't converged yet.\n",
      "  warnings.warn(\n"
     ]
    },
    {
     "name": "stdout",
     "output_type": "stream",
     "text": [
      "Iteration 4, loss = 0.65968746\n",
      "Iteration 5, loss = 0.64099489\n",
      "Iteration 6, loss = 0.62565008\n",
      "Iteration 7, loss = 0.61249232\n",
      "Iteration 8, loss = 0.60138016\n",
      "Iteration 9, loss = 0.59111314\n",
      "Iteration 10, loss = 0.58163474\n",
      "Iteration 11, loss = 0.57235873\n",
      "Iteration 12, loss = 0.56395467\n",
      "Iteration 13, loss = 0.55612006\n",
      "Iteration 14, loss = 0.54842759\n",
      "Iteration 15, loss = 0.54062709\n",
      "Iteration 16, loss = 0.53344894\n",
      "Iteration 17, loss = 0.52642856\n",
      "Iteration 18, loss = 0.51966344\n",
      "Iteration 19, loss = 0.51302490\n",
      "Iteration 20, loss = 0.50657227\n",
      "Iteration 1, loss = 0.76569117\n"
     ]
    },
    {
     "name": "stderr",
     "output_type": "stream",
     "text": [
      "D:\\AI\\Anaconda3\\lib\\site-packages\\sklearn\\neural_network\\_multilayer_perceptron.py:692: ConvergenceWarning: Stochastic Optimizer: Maximum iterations (20) reached and the optimization hasn't converged yet.\n",
      "  warnings.warn(\n"
     ]
    },
    {
     "name": "stdout",
     "output_type": "stream",
     "text": [
      "Iteration 2, loss = 0.71885804\n",
      "Iteration 3, loss = 0.68412309\n",
      "Iteration 4, loss = 0.65731702\n",
      "Iteration 5, loss = 0.63888923\n",
      "Iteration 6, loss = 0.62360054\n",
      "Iteration 7, loss = 0.61058479\n",
      "Iteration 8, loss = 0.59936561\n",
      "Iteration 9, loss = 0.58930582\n",
      "Iteration 10, loss = 0.57981063\n",
      "Iteration 11, loss = 0.57048459\n",
      "Iteration 12, loss = 0.56202939\n",
      "Iteration 13, loss = 0.55441407\n",
      "Iteration 14, loss = 0.54635218\n",
      "Iteration 15, loss = 0.53873878\n",
      "Iteration 16, loss = 0.53155710\n",
      "Iteration 17, loss = 0.52481253\n",
      "Iteration 18, loss = 0.51809947\n",
      "Iteration 19, loss = 0.51150760\n",
      "Iteration 20, loss = 0.50483582\n",
      "Iteration 1, loss = 0.76743135\n"
     ]
    },
    {
     "name": "stderr",
     "output_type": "stream",
     "text": [
      "D:\\AI\\Anaconda3\\lib\\site-packages\\sklearn\\neural_network\\_multilayer_perceptron.py:692: ConvergenceWarning: Stochastic Optimizer: Maximum iterations (20) reached and the optimization hasn't converged yet.\n",
      "  warnings.warn(\n"
     ]
    },
    {
     "name": "stdout",
     "output_type": "stream",
     "text": [
      "Iteration 2, loss = 0.72112666\n",
      "Iteration 3, loss = 0.68660114\n",
      "Iteration 4, loss = 0.65987635\n",
      "Iteration 5, loss = 0.64131683\n",
      "Iteration 6, loss = 0.62611410\n",
      "Iteration 7, loss = 0.61338961\n",
      "Iteration 8, loss = 0.60229053\n",
      "Iteration 9, loss = 0.59235842\n",
      "Iteration 10, loss = 0.58309692\n",
      "Iteration 11, loss = 0.57401137\n",
      "Iteration 12, loss = 0.56570577\n",
      "Iteration 13, loss = 0.55827309\n",
      "Iteration 14, loss = 0.55011928\n",
      "Iteration 15, loss = 0.54266127\n",
      "Iteration 16, loss = 0.53553249\n",
      "Iteration 17, loss = 0.52862674\n",
      "Iteration 18, loss = 0.52211050\n",
      "Iteration 19, loss = 0.51541106\n",
      "Iteration 20, loss = 0.50883381\n"
     ]
    },
    {
     "name": "stderr",
     "output_type": "stream",
     "text": [
      "D:\\AI\\Anaconda3\\lib\\site-packages\\sklearn\\neural_network\\_multilayer_perceptron.py:692: ConvergenceWarning: Stochastic Optimizer: Maximum iterations (20) reached and the optimization hasn't converged yet.\n",
      "  warnings.warn(\n"
     ]
    },
    {
     "name": "stdout",
     "output_type": "stream",
     "text": [
      "Iteration 1, loss = 0.76914523\n",
      "Iteration 2, loss = 0.72081171\n",
      "Iteration 3, loss = 0.68445404\n",
      "Iteration 4, loss = 0.65704226\n",
      "Iteration 5, loss = 0.63809203\n",
      "Iteration 6, loss = 0.62272597\n",
      "Iteration 7, loss = 0.60968491\n",
      "Iteration 8, loss = 0.59841702\n",
      "Iteration 9, loss = 0.58810849\n",
      "Iteration 10, loss = 0.57884954\n",
      "Iteration 11, loss = 0.56971929\n",
      "Iteration 12, loss = 0.56153311\n",
      "Iteration 13, loss = 0.55388360\n",
      "Iteration 14, loss = 0.54580917\n",
      "Iteration 15, loss = 0.53819273\n",
      "Iteration 16, loss = 0.53130002\n",
      "Iteration 17, loss = 0.52416653\n",
      "Iteration 18, loss = 0.51779650\n",
      "Iteration 19, loss = 0.51130420\n",
      "Iteration 20, loss = 0.50474563\n",
      "Iteration 1, loss = 0.76429453\n",
      "Iteration 2, loss = 0.71939462\n",
      "Iteration 3, loss = 0.68495080\n",
      "Iteration 4, loss = 0.65961086\n",
      "Iteration 5, loss = 0.64091612\n",
      "Iteration 6, loss = 0.62587814\n"
     ]
    },
    {
     "name": "stderr",
     "output_type": "stream",
     "text": [
      "D:\\AI\\Anaconda3\\lib\\site-packages\\sklearn\\neural_network\\_multilayer_perceptron.py:692: ConvergenceWarning: Stochastic Optimizer: Maximum iterations (20) reached and the optimization hasn't converged yet.\n",
      "  warnings.warn(\n"
     ]
    },
    {
     "name": "stdout",
     "output_type": "stream",
     "text": [
      "Iteration 7, loss = 0.61296592\n",
      "Iteration 8, loss = 0.60172807\n",
      "Iteration 9, loss = 0.59145388\n",
      "Iteration 10, loss = 0.58210216\n",
      "Iteration 11, loss = 0.57295816\n",
      "Iteration 12, loss = 0.56462405\n",
      "Iteration 13, loss = 0.55689371\n",
      "Iteration 14, loss = 0.54907297\n",
      "Iteration 15, loss = 0.54127102\n",
      "Iteration 16, loss = 0.53478512\n",
      "Iteration 17, loss = 0.52734960\n",
      "Iteration 18, loss = 0.52064184\n",
      "Iteration 19, loss = 0.51408592\n",
      "Iteration 20, loss = 0.50761992\n",
      "Iteration 1, loss = 0.76277395\n",
      "Iteration 2, loss = 0.71657071\n"
     ]
    },
    {
     "name": "stderr",
     "output_type": "stream",
     "text": [
      "D:\\AI\\Anaconda3\\lib\\site-packages\\sklearn\\neural_network\\_multilayer_perceptron.py:692: ConvergenceWarning: Stochastic Optimizer: Maximum iterations (20) reached and the optimization hasn't converged yet.\n",
      "  warnings.warn(\n"
     ]
    },
    {
     "name": "stdout",
     "output_type": "stream",
     "text": [
      "Iteration 3, loss = 0.68145129\n",
      "Iteration 4, loss = 0.65535834\n",
      "Iteration 5, loss = 0.63674162\n",
      "Iteration 6, loss = 0.62146841\n",
      "Iteration 7, loss = 0.60885940\n",
      "Iteration 8, loss = 0.59758806\n",
      "Iteration 9, loss = 0.58761917\n",
      "Iteration 10, loss = 0.57818838\n",
      "Iteration 11, loss = 0.56910367\n",
      "Iteration 12, loss = 0.56101021\n",
      "Iteration 13, loss = 0.55292801\n",
      "Iteration 14, loss = 0.54575406\n",
      "Iteration 15, loss = 0.53792199\n",
      "Iteration 16, loss = 0.53038405\n",
      "Iteration 17, loss = 0.52361161\n",
      "Iteration 18, loss = 0.51655131\n",
      "Iteration 19, loss = 0.51016326\n",
      "Iteration 20, loss = 0.50368474\n",
      "Iteration 1, loss = 0.76277919\n"
     ]
    },
    {
     "name": "stderr",
     "output_type": "stream",
     "text": [
      "D:\\AI\\Anaconda3\\lib\\site-packages\\sklearn\\neural_network\\_multilayer_perceptron.py:692: ConvergenceWarning: Stochastic Optimizer: Maximum iterations (20) reached and the optimization hasn't converged yet.\n",
      "  warnings.warn(\n"
     ]
    },
    {
     "name": "stdout",
     "output_type": "stream",
     "text": [
      "Iteration 2, loss = 0.71938100\n",
      "Iteration 3, loss = 0.68546042\n",
      "Iteration 4, loss = 0.66019129\n",
      "Iteration 5, loss = 0.64209192\n",
      "Iteration 6, loss = 0.62718559\n",
      "Iteration 7, loss = 0.61459845\n",
      "Iteration 8, loss = 0.60360485\n",
      "Iteration 9, loss = 0.59366166\n",
      "Iteration 10, loss = 0.58434044\n",
      "Iteration 11, loss = 0.57544202\n",
      "Iteration 12, loss = 0.56746343\n",
      "Iteration 13, loss = 0.55955634\n",
      "Iteration 14, loss = 0.55219731\n",
      "Iteration 15, loss = 0.54481737\n",
      "Iteration 16, loss = 0.53743234\n",
      "Iteration 17, loss = 0.53096579\n",
      "Iteration 18, loss = 0.52406355\n",
      "Iteration 19, loss = 0.51780400\n",
      "Iteration 20, loss = 0.51138188\n"
     ]
    },
    {
     "name": "stderr",
     "output_type": "stream",
     "text": [
      "D:\\AI\\Anaconda3\\lib\\site-packages\\sklearn\\neural_network\\_multilayer_perceptron.py:692: ConvergenceWarning: Stochastic Optimizer: Maximum iterations (20) reached and the optimization hasn't converged yet.\n",
      "  warnings.warn(\n",
      "D:\\AI\\Anaconda3\\lib\\site-packages\\sklearn\\neural_network\\_multilayer_perceptron.py:549: ConvergenceWarning: lbfgs failed to converge (status=1):\n",
      "STOP: TOTAL NO. of ITERATIONS REACHED LIMIT.\n",
      "\n",
      "Increase the number of iterations (max_iter) or scale the data as shown in:\n",
      "    https://scikit-learn.org/stable/modules/preprocessing.html\n",
      "  self.n_iter_ = _check_optimize_result(\"lbfgs\", opt_res, self.max_iter)\n",
      "D:\\AI\\Anaconda3\\lib\\site-packages\\sklearn\\neural_network\\_multilayer_perceptron.py:549: ConvergenceWarning: lbfgs failed to converge (status=1):\n",
      "STOP: TOTAL NO. of ITERATIONS REACHED LIMIT.\n",
      "\n",
      "Increase the number of iterations (max_iter) or scale the data as shown in:\n",
      "    https://scikit-learn.org/stable/modules/preprocessing.html\n",
      "  self.n_iter_ = _check_optimize_result(\"lbfgs\", opt_res, self.max_iter)\n",
      "D:\\AI\\Anaconda3\\lib\\site-packages\\sklearn\\neural_network\\_multilayer_perceptron.py:549: ConvergenceWarning: lbfgs failed to converge (status=1):\n",
      "STOP: TOTAL NO. of ITERATIONS REACHED LIMIT.\n",
      "\n",
      "Increase the number of iterations (max_iter) or scale the data as shown in:\n",
      "    https://scikit-learn.org/stable/modules/preprocessing.html\n",
      "  self.n_iter_ = _check_optimize_result(\"lbfgs\", opt_res, self.max_iter)\n",
      "D:\\AI\\Anaconda3\\lib\\site-packages\\sklearn\\neural_network\\_multilayer_perceptron.py:549: ConvergenceWarning: lbfgs failed to converge (status=1):\n",
      "STOP: TOTAL NO. of ITERATIONS REACHED LIMIT.\n",
      "\n",
      "Increase the number of iterations (max_iter) or scale the data as shown in:\n",
      "    https://scikit-learn.org/stable/modules/preprocessing.html\n",
      "  self.n_iter_ = _check_optimize_result(\"lbfgs\", opt_res, self.max_iter)\n",
      "D:\\AI\\Anaconda3\\lib\\site-packages\\sklearn\\neural_network\\_multilayer_perceptron.py:549: ConvergenceWarning: lbfgs failed to converge (status=1):\n",
      "STOP: TOTAL NO. of ITERATIONS REACHED LIMIT.\n",
      "\n",
      "Increase the number of iterations (max_iter) or scale the data as shown in:\n",
      "    https://scikit-learn.org/stable/modules/preprocessing.html\n",
      "  self.n_iter_ = _check_optimize_result(\"lbfgs\", opt_res, self.max_iter)\n",
      "D:\\AI\\Anaconda3\\lib\\site-packages\\sklearn\\neural_network\\_multilayer_perceptron.py:549: ConvergenceWarning: lbfgs failed to converge (status=1):\n",
      "STOP: TOTAL NO. of ITERATIONS REACHED LIMIT.\n",
      "\n",
      "Increase the number of iterations (max_iter) or scale the data as shown in:\n",
      "    https://scikit-learn.org/stable/modules/preprocessing.html\n",
      "  self.n_iter_ = _check_optimize_result(\"lbfgs\", opt_res, self.max_iter)\n",
      "D:\\AI\\Anaconda3\\lib\\site-packages\\sklearn\\neural_network\\_multilayer_perceptron.py:549: ConvergenceWarning: lbfgs failed to converge (status=1):\n",
      "STOP: TOTAL NO. of ITERATIONS REACHED LIMIT.\n",
      "\n",
      "Increase the number of iterations (max_iter) or scale the data as shown in:\n",
      "    https://scikit-learn.org/stable/modules/preprocessing.html\n",
      "  self.n_iter_ = _check_optimize_result(\"lbfgs\", opt_res, self.max_iter)\n",
      "D:\\AI\\Anaconda3\\lib\\site-packages\\sklearn\\neural_network\\_multilayer_perceptron.py:549: ConvergenceWarning: lbfgs failed to converge (status=1):\n",
      "STOP: TOTAL NO. of ITERATIONS REACHED LIMIT.\n",
      "\n",
      "Increase the number of iterations (max_iter) or scale the data as shown in:\n",
      "    https://scikit-learn.org/stable/modules/preprocessing.html\n",
      "  self.n_iter_ = _check_optimize_result(\"lbfgs\", opt_res, self.max_iter)\n",
      "D:\\AI\\Anaconda3\\lib\\site-packages\\sklearn\\neural_network\\_multilayer_perceptron.py:549: ConvergenceWarning: lbfgs failed to converge (status=1):\n",
      "STOP: TOTAL NO. of ITERATIONS REACHED LIMIT.\n",
      "\n",
      "Increase the number of iterations (max_iter) or scale the data as shown in:\n",
      "    https://scikit-learn.org/stable/modules/preprocessing.html\n",
      "  self.n_iter_ = _check_optimize_result(\"lbfgs\", opt_res, self.max_iter)\n",
      "D:\\AI\\Anaconda3\\lib\\site-packages\\sklearn\\neural_network\\_multilayer_perceptron.py:549: ConvergenceWarning: lbfgs failed to converge (status=1):\n",
      "STOP: TOTAL NO. of ITERATIONS REACHED LIMIT.\n",
      "\n",
      "Increase the number of iterations (max_iter) or scale the data as shown in:\n",
      "    https://scikit-learn.org/stable/modules/preprocessing.html\n",
      "  self.n_iter_ = _check_optimize_result(\"lbfgs\", opt_res, self.max_iter)\n"
     ]
    },
    {
     "name": "stdout",
     "output_type": "stream",
     "text": [
      "Iteration 1, loss = 0.93756301\n",
      "Iteration 2, loss = 0.91641794\n",
      "Iteration 3, loss = 0.90030756\n",
      "Iteration 4, loss = 0.88814060\n",
      "Iteration 5, loss = 0.87854836\n",
      "Iteration 6, loss = 0.87097486\n",
      "Iteration 7, loss = 0.86450699\n",
      "Iteration 8, loss = 0.85879583\n",
      "Iteration 9, loss = 0.85371919\n",
      "Iteration 10, loss = 0.84894368\n",
      "Iteration 11, loss = 0.84442659\n",
      "Iteration 12, loss = 0.84017343\n",
      "Iteration 13, loss = 0.83596197\n",
      "Iteration 14, loss = 0.83184887\n",
      "Iteration 15, loss = 0.82787548\n",
      "Iteration 16, loss = 0.82393674\n",
      "Iteration 17, loss = 0.82008190\n",
      "Iteration 18, loss = 0.81625799\n",
      "Iteration 19, loss = 0.81248831\n",
      "Iteration 20, loss = 0.80870090\n",
      "Iteration 1, loss = 0.93280459\n",
      "Iteration 2, loss = 0.91178029\n",
      "Iteration 3, loss = 0.89567588\n",
      "Iteration 4, loss = 0.88354124\n",
      "Iteration 5, loss = 0.87401882\n",
      "Iteration 6, loss = 0.86645724\n",
      "Iteration 7, loss = 0.85999743\n",
      "Iteration 8, loss = 0.85432529\n",
      "Iteration 9, loss = 0.84930367\n",
      "Iteration 10, loss = 0.84463769\n",
      "Iteration 11, loss = 0.84018729\n",
      "Iteration 12, loss = 0.83596839\n",
      "Iteration 13, loss = 0.83185547\n",
      "Iteration 14, loss = 0.82781795\n"
     ]
    },
    {
     "name": "stderr",
     "output_type": "stream",
     "text": [
      "D:\\AI\\Anaconda3\\lib\\site-packages\\sklearn\\neural_network\\_multilayer_perceptron.py:692: ConvergenceWarning: Stochastic Optimizer: Maximum iterations (20) reached and the optimization hasn't converged yet.\n",
      "  warnings.warn(\n"
     ]
    },
    {
     "name": "stdout",
     "output_type": "stream",
     "text": [
      "Iteration 15, loss = 0.82391812\n",
      "Iteration 16, loss = 0.82006771\n",
      "Iteration 17, loss = 0.81628570\n",
      "Iteration 18, loss = 0.81254892\n",
      "Iteration 19, loss = 0.80886737\n",
      "Iteration 20, loss = 0.80520160\n",
      "Iteration 1, loss = 0.92815892\n",
      "Iteration 2, loss = 0.90750805\n",
      "Iteration 3, loss = 0.89179786\n",
      "Iteration 4, loss = 0.87996997\n",
      "Iteration 5, loss = 0.87058615\n",
      "Iteration 6, loss = 0.86320768\n",
      "Iteration 7, loss = 0.85686569\n",
      "Iteration 8, loss = 0.85128123\n",
      "Iteration 9, loss = 0.84633182\n",
      "Iteration 10, loss = 0.84173258\n",
      "Iteration 11, loss = 0.83736126\n",
      "Iteration 12, loss = 0.83317920\n"
     ]
    },
    {
     "name": "stderr",
     "output_type": "stream",
     "text": [
      "D:\\AI\\Anaconda3\\lib\\site-packages\\sklearn\\neural_network\\_multilayer_perceptron.py:692: ConvergenceWarning: Stochastic Optimizer: Maximum iterations (20) reached and the optimization hasn't converged yet.\n",
      "  warnings.warn(\n"
     ]
    },
    {
     "name": "stdout",
     "output_type": "stream",
     "text": [
      "Iteration 13, loss = 0.82911834\n",
      "Iteration 14, loss = 0.82513751\n",
      "Iteration 15, loss = 0.82125469\n",
      "Iteration 16, loss = 0.81744504\n",
      "Iteration 17, loss = 0.81368646\n",
      "Iteration 18, loss = 0.80994361\n",
      "Iteration 19, loss = 0.80624456\n",
      "Iteration 20, loss = 0.80251749\n",
      "Iteration 1, loss = 0.93654092\n",
      "Iteration 2, loss = 0.91524404\n",
      "Iteration 3, loss = 0.89910333\n",
      "Iteration 4, loss = 0.88697134\n",
      "Iteration 5, loss = 0.87734627\n",
      "Iteration 6, loss = 0.86975244\n",
      "Iteration 7, loss = 0.86327134\n",
      "Iteration 8, loss = 0.85756292\n",
      "Iteration 9, loss = 0.85249800\n",
      "Iteration 10, loss = 0.84777710\n",
      "Iteration 11, loss = 0.84333713\n",
      "Iteration 12, loss = 0.83905760\n",
      "Iteration 13, loss = 0.83488670\n",
      "Iteration 14, loss = 0.83084508\n"
     ]
    },
    {
     "name": "stderr",
     "output_type": "stream",
     "text": [
      "D:\\AI\\Anaconda3\\lib\\site-packages\\sklearn\\neural_network\\_multilayer_perceptron.py:692: ConvergenceWarning: Stochastic Optimizer: Maximum iterations (20) reached and the optimization hasn't converged yet.\n",
      "  warnings.warn(\n",
      "D:\\AI\\Anaconda3\\lib\\site-packages\\sklearn\\neural_network\\_multilayer_perceptron.py:692: ConvergenceWarning: Stochastic Optimizer: Maximum iterations (20) reached and the optimization hasn't converged yet.\n",
      "  warnings.warn(\n"
     ]
    },
    {
     "name": "stdout",
     "output_type": "stream",
     "text": [
      "Iteration 15, loss = 0.82684341\n",
      "Iteration 16, loss = 0.82297806\n",
      "Iteration 17, loss = 0.81912198\n",
      "Iteration 18, loss = 0.81533081\n",
      "Iteration 19, loss = 0.81154912\n",
      "Iteration 20, loss = 0.80781468\n",
      "Iteration 1, loss = 0.92778303\n",
      "Iteration 2, loss = 0.90696356\n",
      "Iteration 3, loss = 0.89120001\n",
      "Iteration 4, loss = 0.87938516\n",
      "Iteration 5, loss = 0.86991193\n",
      "Iteration 6, loss = 0.86255030\n",
      "Iteration 7, loss = 0.85619151\n",
      "Iteration 8, loss = 0.85068099\n",
      "Iteration 9, loss = 0.84573272\n",
      "Iteration 10, loss = 0.84118450\n",
      "Iteration 11, loss = 0.83682462\n",
      "Iteration 12, loss = 0.83266273\n",
      "Iteration 13, loss = 0.82857059\n",
      "Iteration 14, loss = 0.82459266\n",
      "Iteration 15, loss = 0.82062442\n",
      "Iteration 16, loss = 0.81672734\n",
      "Iteration 17, loss = 0.81277049\n",
      "Iteration 18, loss = 0.80878951\n",
      "Iteration 19, loss = 0.80464190\n",
      "Iteration 20, loss = 0.80035739\n",
      "Iteration 1, loss = 0.93307812\n",
      "Iteration 2, loss = 0.91218927\n",
      "Iteration 3, loss = 0.89622150\n",
      "Iteration 4, loss = 0.88429522\n",
      "Iteration 5, loss = 0.87477502\n"
     ]
    },
    {
     "name": "stderr",
     "output_type": "stream",
     "text": [
      "D:\\AI\\Anaconda3\\lib\\site-packages\\sklearn\\neural_network\\_multilayer_perceptron.py:692: ConvergenceWarning: Stochastic Optimizer: Maximum iterations (20) reached and the optimization hasn't converged yet.\n",
      "  warnings.warn(\n"
     ]
    },
    {
     "name": "stdout",
     "output_type": "stream",
     "text": [
      "Iteration 6, loss = 0.86730788\n",
      "Iteration 7, loss = 0.86085633\n",
      "Iteration 8, loss = 0.85533380\n",
      "Iteration 9, loss = 0.85025093\n",
      "Iteration 10, loss = 0.84564369\n",
      "Iteration 11, loss = 0.84122268\n",
      "Iteration 12, loss = 0.83696315\n",
      "Iteration 13, loss = 0.83282371\n",
      "Iteration 14, loss = 0.82880953\n",
      "Iteration 15, loss = 0.82476161\n",
      "Iteration 16, loss = 0.82088067\n",
      "Iteration 17, loss = 0.81691542\n",
      "Iteration 18, loss = 0.81302444\n",
      "Iteration 19, loss = 0.80901809\n",
      "Iteration 20, loss = 0.80493301\n",
      "Iteration 1, loss = 0.93714535\n",
      "Iteration 2, loss = 0.91607086\n",
      "Iteration 3, loss = 0.89995539\n",
      "Iteration 4, loss = 0.88787798\n",
      "Iteration 5, loss = 0.87816098\n",
      "Iteration 6, loss = 0.87057314\n",
      "Iteration 7, loss = 0.86398297\n",
      "Iteration 8, loss = 0.85841781\n",
      "Iteration 9, loss = 0.85324207\n",
      "Iteration 10, loss = 0.84857869\n",
      "Iteration 11, loss = 0.84411049\n",
      "Iteration 12, loss = 0.83978720\n",
      "Iteration 13, loss = 0.83562575\n",
      "Iteration 14, loss = 0.83156661\n",
      "Iteration 15, loss = 0.82749635\n"
     ]
    },
    {
     "name": "stderr",
     "output_type": "stream",
     "text": [
      "D:\\AI\\Anaconda3\\lib\\site-packages\\sklearn\\neural_network\\_multilayer_perceptron.py:692: ConvergenceWarning: Stochastic Optimizer: Maximum iterations (20) reached and the optimization hasn't converged yet.\n",
      "  warnings.warn(\n"
     ]
    },
    {
     "name": "stdout",
     "output_type": "stream",
     "text": [
      "Iteration 16, loss = 0.82358738\n",
      "Iteration 17, loss = 0.81963173\n",
      "Iteration 18, loss = 0.81581532\n",
      "Iteration 19, loss = 0.81189314\n",
      "Iteration 20, loss = 0.80797572\n",
      "Iteration 1, loss = 0.94162340\n",
      "Iteration 2, loss = 0.92022239\n",
      "Iteration 3, loss = 0.90384606\n",
      "Iteration 4, loss = 0.89159081\n",
      "Iteration 5, loss = 0.88185761\n",
      "Iteration 6, loss = 0.87419900\n",
      "Iteration 7, loss = 0.86756453\n",
      "Iteration 8, loss = 0.86192864\n",
      "Iteration 9, loss = 0.85670681\n",
      "Iteration 10, loss = 0.85195527\n"
     ]
    },
    {
     "name": "stderr",
     "output_type": "stream",
     "text": [
      "D:\\AI\\Anaconda3\\lib\\site-packages\\sklearn\\neural_network\\_multilayer_perceptron.py:692: ConvergenceWarning: Stochastic Optimizer: Maximum iterations (20) reached and the optimization hasn't converged yet.\n",
      "  warnings.warn(\n"
     ]
    },
    {
     "name": "stdout",
     "output_type": "stream",
     "text": [
      "Iteration 11, loss = 0.84740532\n",
      "Iteration 12, loss = 0.84303549\n",
      "Iteration 13, loss = 0.83882365\n",
      "Iteration 14, loss = 0.83470827\n",
      "Iteration 15, loss = 0.83059212\n",
      "Iteration 16, loss = 0.82664615\n",
      "Iteration 17, loss = 0.82266429\n",
      "Iteration 18, loss = 0.81880164\n",
      "Iteration 19, loss = 0.81490194\n",
      "Iteration 20, loss = 0.81099043\n",
      "Iteration 1, loss = 0.93283308\n",
      "Iteration 2, loss = 0.91197338\n",
      "Iteration 3, loss = 0.89607550\n",
      "Iteration 4, loss = 0.88374989\n",
      "Iteration 5, loss = 0.87446505\n",
      "Iteration 6, loss = 0.86681464\n",
      "Iteration 7, loss = 0.86035337\n",
      "Iteration 8, loss = 0.85481696\n"
     ]
    },
    {
     "name": "stderr",
     "output_type": "stream",
     "text": [
      "D:\\AI\\Anaconda3\\lib\\site-packages\\sklearn\\neural_network\\_multilayer_perceptron.py:692: ConvergenceWarning: Stochastic Optimizer: Maximum iterations (20) reached and the optimization hasn't converged yet.\n",
      "  warnings.warn(\n"
     ]
    },
    {
     "name": "stdout",
     "output_type": "stream",
     "text": [
      "Iteration 9, loss = 0.84978557\n",
      "Iteration 10, loss = 0.84515929\n",
      "Iteration 11, loss = 0.84065158\n",
      "Iteration 12, loss = 0.83648838\n",
      "Iteration 13, loss = 0.83238740\n",
      "Iteration 14, loss = 0.82841807\n",
      "Iteration 15, loss = 0.82444042\n",
      "Iteration 16, loss = 0.82057658\n",
      "Iteration 17, loss = 0.81678411\n",
      "Iteration 18, loss = 0.81297590\n",
      "Iteration 19, loss = 0.80921910\n",
      "Iteration 20, loss = 0.80545666\n",
      "Iteration 1, loss = 0.93359417\n",
      "Iteration 2, loss = 0.91283131\n",
      "Iteration 3, loss = 0.89700232\n",
      "Iteration 4, loss = 0.88477910\n",
      "Iteration 5, loss = 0.87550386\n",
      "Iteration 6, loss = 0.86780591\n",
      "Iteration 7, loss = 0.86138813\n",
      "Iteration 8, loss = 0.85582771\n",
      "Iteration 9, loss = 0.85076428\n",
      "Iteration 10, loss = 0.84611831\n",
      "Iteration 11, loss = 0.84160562\n"
     ]
    },
    {
     "name": "stderr",
     "output_type": "stream",
     "text": [
      "D:\\AI\\Anaconda3\\lib\\site-packages\\sklearn\\neural_network\\_multilayer_perceptron.py:692: ConvergenceWarning: Stochastic Optimizer: Maximum iterations (20) reached and the optimization hasn't converged yet.\n",
      "  warnings.warn(\n",
      "D:\\AI\\Anaconda3\\lib\\site-packages\\sklearn\\neural_network\\_multilayer_perceptron.py:692: ConvergenceWarning: Stochastic Optimizer: Maximum iterations (20) reached and the optimization hasn't converged yet.\n",
      "  warnings.warn(\n"
     ]
    },
    {
     "name": "stdout",
     "output_type": "stream",
     "text": [
      "Iteration 12, loss = 0.83742126\n",
      "Iteration 13, loss = 0.83330928\n",
      "Iteration 14, loss = 0.82931875\n",
      "Iteration 15, loss = 0.82532852\n",
      "Iteration 16, loss = 0.82147370\n",
      "Iteration 17, loss = 0.81767121\n",
      "Iteration 18, loss = 0.81383941\n",
      "Iteration 19, loss = 0.81010132\n",
      "Iteration 20, loss = 0.80634416\n",
      "Iteration 1, loss = 0.93286358\n",
      "Iteration 2, loss = 0.88286067\n",
      "Iteration 3, loss = 0.83909635\n",
      "Iteration 4, loss = 0.80810645\n",
      "Iteration 5, loss = 0.78695124\n",
      "Iteration 6, loss = 0.77324371\n",
      "Iteration 7, loss = 0.76373700\n",
      "Iteration 8, loss = 0.75648066\n",
      "Iteration 9, loss = 0.75073393\n",
      "Iteration 10, loss = 0.74537954\n",
      "Iteration 11, loss = 0.74037931\n",
      "Iteration 12, loss = 0.73561867\n",
      "Iteration 13, loss = 0.73080462\n",
      "Iteration 14, loss = 0.72603421\n",
      "Iteration 15, loss = 0.72129169\n",
      "Iteration 16, loss = 0.71691046\n",
      "Iteration 17, loss = 0.71253820\n",
      "Iteration 18, loss = 0.70789896\n",
      "Iteration 19, loss = 0.70348886\n",
      "Iteration 20, loss = 0.69889688\n",
      "Iteration 1, loss = 0.92815057\n",
      "Iteration 2, loss = 0.87814069\n",
      "Iteration 3, loss = 0.83460503\n",
      "Iteration 4, loss = 0.80405845\n",
      "Iteration 5, loss = 0.78353028\n",
      "Iteration 6, loss = 0.77038628\n",
      "Iteration 7, loss = 0.76128740\n",
      "Iteration 8, loss = 0.75441654\n",
      "Iteration 9, loss = 0.74901566\n",
      "Iteration 10, loss = 0.74409818\n",
      "Iteration 11, loss = 0.73944005\n"
     ]
    },
    {
     "name": "stderr",
     "output_type": "stream",
     "text": [
      "D:\\AI\\Anaconda3\\lib\\site-packages\\sklearn\\neural_network\\_multilayer_perceptron.py:692: ConvergenceWarning: Stochastic Optimizer: Maximum iterations (20) reached and the optimization hasn't converged yet.\n",
      "  warnings.warn(\n",
      "D:\\AI\\Anaconda3\\lib\\site-packages\\sklearn\\neural_network\\_multilayer_perceptron.py:692: ConvergenceWarning: Stochastic Optimizer: Maximum iterations (20) reached and the optimization hasn't converged yet.\n",
      "  warnings.warn(\n"
     ]
    },
    {
     "name": "stdout",
     "output_type": "stream",
     "text": [
      "Iteration 12, loss = 0.73498090\n",
      "Iteration 13, loss = 0.73056686\n",
      "Iteration 14, loss = 0.72626194\n",
      "Iteration 15, loss = 0.72193008\n",
      "Iteration 16, loss = 0.71788736\n",
      "Iteration 17, loss = 0.71392624\n",
      "Iteration 18, loss = 0.70993315\n",
      "Iteration 19, loss = 0.70589633\n",
      "Iteration 20, loss = 0.70167646\n",
      "Iteration 1, loss = 0.92398480\n",
      "Iteration 2, loss = 0.87608088\n",
      "Iteration 3, loss = 0.83405166\n",
      "Iteration 4, loss = 0.80442881\n",
      "Iteration 5, loss = 0.78394560\n",
      "Iteration 6, loss = 0.77093458\n",
      "Iteration 7, loss = 0.76169819\n",
      "Iteration 8, loss = 0.75470785\n",
      "Iteration 9, loss = 0.74922933\n",
      "Iteration 10, loss = 0.74429584\n",
      "Iteration 11, loss = 0.73961210\n",
      "Iteration 12, loss = 0.73510580\n",
      "Iteration 13, loss = 0.73071535\n",
      "Iteration 14, loss = 0.72641652\n",
      "Iteration 15, loss = 0.72208269\n",
      "Iteration 16, loss = 0.71822134\n",
      "Iteration 17, loss = 0.71442817\n",
      "Iteration 18, loss = 0.71054760\n",
      "Iteration 19, loss = 0.70677253\n",
      "Iteration 20, loss = 0.70280811\n",
      "Iteration 1, loss = 0.93176479\n",
      "Iteration 2, loss = 0.88132744\n",
      "Iteration 3, loss = 0.83751616\n",
      "Iteration 4, loss = 0.80675761\n",
      "Iteration 5, loss = 0.78555400\n",
      "Iteration 6, loss = 0.77212642\n"
     ]
    },
    {
     "name": "stderr",
     "output_type": "stream",
     "text": [
      "D:\\AI\\Anaconda3\\lib\\site-packages\\sklearn\\neural_network\\_multilayer_perceptron.py:692: ConvergenceWarning: Stochastic Optimizer: Maximum iterations (20) reached and the optimization hasn't converged yet.\n",
      "  warnings.warn(\n",
      "D:\\AI\\Anaconda3\\lib\\site-packages\\sklearn\\neural_network\\_multilayer_perceptron.py:692: ConvergenceWarning: Stochastic Optimizer: Maximum iterations (20) reached and the optimization hasn't converged yet.\n",
      "  warnings.warn(\n"
     ]
    },
    {
     "name": "stdout",
     "output_type": "stream",
     "text": [
      "Iteration 7, loss = 0.76281929\n",
      "Iteration 8, loss = 0.75568211\n",
      "Iteration 9, loss = 0.75006379\n",
      "Iteration 10, loss = 0.74496375\n",
      "Iteration 11, loss = 0.74020584\n",
      "Iteration 12, loss = 0.73557220\n",
      "Iteration 13, loss = 0.73100297\n",
      "Iteration 14, loss = 0.72659459\n",
      "Iteration 15, loss = 0.72207606\n",
      "Iteration 16, loss = 0.71787647\n",
      "Iteration 17, loss = 0.71382967\n",
      "Iteration 18, loss = 0.70968984\n",
      "Iteration 19, loss = 0.70551230\n",
      "Iteration 20, loss = 0.70130092\n",
      "Iteration 1, loss = 0.92336067\n",
      "Iteration 2, loss = 0.87522481\n",
      "Iteration 3, loss = 0.83328133\n",
      "Iteration 4, loss = 0.80373415\n",
      "Iteration 5, loss = 0.78288914\n",
      "Iteration 6, loss = 0.76983749\n",
      "Iteration 7, loss = 0.76060504\n",
      "Iteration 8, loss = 0.75381014\n",
      "Iteration 9, loss = 0.74837581\n",
      "Iteration 10, loss = 0.74363279\n",
      "Iteration 11, loss = 0.73895998\n",
      "Iteration 12, loss = 0.73459849\n",
      "Iteration 13, loss = 0.73020840\n",
      "Iteration 14, loss = 0.72598093\n",
      "Iteration 15, loss = 0.72161860\n",
      "Iteration 16, loss = 0.71757370\n",
      "Iteration 17, loss = 0.71368266\n",
      "Iteration 18, loss = 0.70974646\n",
      "Iteration 19, loss = 0.70572363\n",
      "Iteration 20, loss = 0.70162580\n",
      "Iteration 1, loss = 0.92846134\n",
      "Iteration 2, loss = 0.87985629\n",
      "Iteration 3, loss = 0.83702327\n",
      "Iteration 4, loss = 0.80692297\n",
      "Iteration 5, loss = 0.78580192\n",
      "Iteration 6, loss = 0.77246097\n",
      "Iteration 7, loss = 0.76291307\n",
      "Iteration 8, loss = 0.75614686\n"
     ]
    },
    {
     "name": "stderr",
     "output_type": "stream",
     "text": [
      "D:\\AI\\Anaconda3\\lib\\site-packages\\sklearn\\neural_network\\_multilayer_perceptron.py:692: ConvergenceWarning: Stochastic Optimizer: Maximum iterations (20) reached and the optimization hasn't converged yet.\n",
      "  warnings.warn(\n"
     ]
    },
    {
     "name": "stdout",
     "output_type": "stream",
     "text": [
      "Iteration 9, loss = 0.75036833\n",
      "Iteration 10, loss = 0.74546303\n",
      "Iteration 11, loss = 0.74062253\n",
      "Iteration 12, loss = 0.73597295\n",
      "Iteration 13, loss = 0.73142603\n",
      "Iteration 14, loss = 0.72696066\n",
      "Iteration 15, loss = 0.72231490\n",
      "Iteration 16, loss = 0.71795519\n",
      "Iteration 17, loss = 0.71361674\n",
      "Iteration 18, loss = 0.70932026\n",
      "Iteration 19, loss = 0.70497077\n",
      "Iteration 20, loss = 0.70057467\n",
      "Iteration 1, loss = 0.93220998\n",
      "Iteration 2, loss = 0.88259935\n",
      "Iteration 3, loss = 0.83892437\n",
      "Iteration 4, loss = 0.80820243\n",
      "Iteration 5, loss = 0.78658785\n",
      "Iteration 6, loss = 0.77305787\n",
      "Iteration 7, loss = 0.76321960\n",
      "Iteration 8, loss = 0.75647898\n",
      "Iteration 9, loss = 0.75047277\n",
      "Iteration 10, loss = 0.74539008\n",
      "Iteration 11, loss = 0.74034207\n",
      "Iteration 12, loss = 0.73544549\n",
      "Iteration 13, loss = 0.73064194\n",
      "Iteration 14, loss = 0.72586568\n",
      "Iteration 15, loss = 0.72106293\n",
      "Iteration 16, loss = 0.71668609\n"
     ]
    },
    {
     "name": "stderr",
     "output_type": "stream",
     "text": [
      "D:\\AI\\Anaconda3\\lib\\site-packages\\sklearn\\neural_network\\_multilayer_perceptron.py:692: ConvergenceWarning: Stochastic Optimizer: Maximum iterations (20) reached and the optimization hasn't converged yet.\n",
      "  warnings.warn(\n",
      "D:\\AI\\Anaconda3\\lib\\site-packages\\sklearn\\neural_network\\_multilayer_perceptron.py:692: ConvergenceWarning: Stochastic Optimizer: Maximum iterations (20) reached and the optimization hasn't converged yet.\n",
      "  warnings.warn(\n"
     ]
    },
    {
     "name": "stdout",
     "output_type": "stream",
     "text": [
      "Iteration 17, loss = 0.71203588\n",
      "Iteration 18, loss = 0.70735019\n",
      "Iteration 19, loss = 0.70273960\n",
      "Iteration 20, loss = 0.69819278\n",
      "Iteration 1, loss = 0.93665124\n",
      "Iteration 2, loss = 0.88573850\n",
      "Iteration 3, loss = 0.84074971\n",
      "Iteration 4, loss = 0.80925148\n",
      "Iteration 5, loss = 0.78743576\n",
      "Iteration 6, loss = 0.77380570\n",
      "Iteration 7, loss = 0.76397204\n",
      "Iteration 8, loss = 0.75727887\n",
      "Iteration 9, loss = 0.75133312\n",
      "Iteration 10, loss = 0.74632414\n",
      "Iteration 11, loss = 0.74134921\n",
      "Iteration 12, loss = 0.73668019\n",
      "Iteration 13, loss = 0.73220403\n",
      "Iteration 14, loss = 0.72779910\n",
      "Iteration 15, loss = 0.72327236\n",
      "Iteration 16, loss = 0.71902486\n",
      "Iteration 17, loss = 0.71494889\n",
      "Iteration 18, loss = 0.71095747\n",
      "Iteration 19, loss = 0.70679702\n",
      "Iteration 20, loss = 0.70258806\n",
      "Iteration 1, loss = 0.92802347\n",
      "Iteration 2, loss = 0.87949168\n",
      "Iteration 3, loss = 0.83685150\n",
      "Iteration 4, loss = 0.80581978\n",
      "Iteration 5, loss = 0.78574559\n",
      "Iteration 6, loss = 0.77222302\n",
      "Iteration 7, loss = 0.76269319\n",
      "Iteration 8, loss = 0.75599255\n",
      "Iteration 9, loss = 0.75045843\n"
     ]
    },
    {
     "name": "stderr",
     "output_type": "stream",
     "text": [
      "D:\\AI\\Anaconda3\\lib\\site-packages\\sklearn\\neural_network\\_multilayer_perceptron.py:692: ConvergenceWarning: Stochastic Optimizer: Maximum iterations (20) reached and the optimization hasn't converged yet.\n",
      "  warnings.warn(\n"
     ]
    },
    {
     "name": "stdout",
     "output_type": "stream",
     "text": [
      "Iteration 10, loss = 0.74540350\n",
      "Iteration 11, loss = 0.74044703\n",
      "Iteration 12, loss = 0.73590064\n",
      "Iteration 13, loss = 0.73133128\n",
      "Iteration 14, loss = 0.72693819\n",
      "Iteration 15, loss = 0.72236072\n",
      "Iteration 16, loss = 0.71801710\n",
      "Iteration 17, loss = 0.71384556\n",
      "Iteration 18, loss = 0.70948687\n",
      "Iteration 19, loss = 0.70501771\n",
      "Iteration 20, loss = 0.70075239\n",
      "Iteration 1, loss = 0.92873105\n",
      "Iteration 2, loss = 0.88059349\n",
      "Iteration 3, loss = 0.83832140\n",
      "Iteration 4, loss = 0.80763394\n",
      "Iteration 5, loss = 0.78739939\n",
      "Iteration 6, loss = 0.77358267\n",
      "Iteration 7, loss = 0.76420965\n",
      "Iteration 8, loss = 0.75755487\n",
      "Iteration 9, loss = 0.75209685\n"
     ]
    },
    {
     "name": "stderr",
     "output_type": "stream",
     "text": [
      "D:\\AI\\Anaconda3\\lib\\site-packages\\sklearn\\neural_network\\_multilayer_perceptron.py:692: ConvergenceWarning: Stochastic Optimizer: Maximum iterations (20) reached and the optimization hasn't converged yet.\n",
      "  warnings.warn(\n"
     ]
    },
    {
     "name": "stdout",
     "output_type": "stream",
     "text": [
      "Iteration 10, loss = 0.74726422\n",
      "Iteration 11, loss = 0.74245612\n",
      "Iteration 12, loss = 0.73807860\n",
      "Iteration 13, loss = 0.73367301\n",
      "Iteration 14, loss = 0.72950591\n",
      "Iteration 15, loss = 0.72509590\n",
      "Iteration 16, loss = 0.72090277\n",
      "Iteration 17, loss = 0.71704113\n",
      "Iteration 18, loss = 0.71303644\n",
      "Iteration 19, loss = 0.70892755\n",
      "Iteration 20, loss = 0.70490023\n"
     ]
    },
    {
     "name": "stderr",
     "output_type": "stream",
     "text": [
      "D:\\AI\\Anaconda3\\lib\\site-packages\\sklearn\\neural_network\\_multilayer_perceptron.py:692: ConvergenceWarning: Stochastic Optimizer: Maximum iterations (20) reached and the optimization hasn't converged yet.\n",
      "  warnings.warn(\n",
      "D:\\AI\\Anaconda3\\lib\\site-packages\\sklearn\\neural_network\\_multilayer_perceptron.py:549: ConvergenceWarning: lbfgs failed to converge (status=1):\n",
      "STOP: TOTAL NO. of ITERATIONS REACHED LIMIT.\n",
      "\n",
      "Increase the number of iterations (max_iter) or scale the data as shown in:\n",
      "    https://scikit-learn.org/stable/modules/preprocessing.html\n",
      "  self.n_iter_ = _check_optimize_result(\"lbfgs\", opt_res, self.max_iter)\n",
      "D:\\AI\\Anaconda3\\lib\\site-packages\\sklearn\\neural_network\\_multilayer_perceptron.py:549: ConvergenceWarning: lbfgs failed to converge (status=1):\n",
      "STOP: TOTAL NO. of ITERATIONS REACHED LIMIT.\n",
      "\n",
      "Increase the number of iterations (max_iter) or scale the data as shown in:\n",
      "    https://scikit-learn.org/stable/modules/preprocessing.html\n",
      "  self.n_iter_ = _check_optimize_result(\"lbfgs\", opt_res, self.max_iter)\n",
      "D:\\AI\\Anaconda3\\lib\\site-packages\\sklearn\\neural_network\\_multilayer_perceptron.py:549: ConvergenceWarning: lbfgs failed to converge (status=1):\n",
      "STOP: TOTAL NO. of ITERATIONS REACHED LIMIT.\n",
      "\n",
      "Increase the number of iterations (max_iter) or scale the data as shown in:\n",
      "    https://scikit-learn.org/stable/modules/preprocessing.html\n",
      "  self.n_iter_ = _check_optimize_result(\"lbfgs\", opt_res, self.max_iter)\n",
      "D:\\AI\\Anaconda3\\lib\\site-packages\\sklearn\\neural_network\\_multilayer_perceptron.py:549: ConvergenceWarning: lbfgs failed to converge (status=1):\n",
      "STOP: TOTAL NO. of ITERATIONS REACHED LIMIT.\n",
      "\n",
      "Increase the number of iterations (max_iter) or scale the data as shown in:\n",
      "    https://scikit-learn.org/stable/modules/preprocessing.html\n",
      "  self.n_iter_ = _check_optimize_result(\"lbfgs\", opt_res, self.max_iter)\n",
      "D:\\AI\\Anaconda3\\lib\\site-packages\\sklearn\\neural_network\\_multilayer_perceptron.py:549: ConvergenceWarning: lbfgs failed to converge (status=1):\n",
      "STOP: TOTAL NO. of ITERATIONS REACHED LIMIT.\n",
      "\n",
      "Increase the number of iterations (max_iter) or scale the data as shown in:\n",
      "    https://scikit-learn.org/stable/modules/preprocessing.html\n",
      "  self.n_iter_ = _check_optimize_result(\"lbfgs\", opt_res, self.max_iter)\n",
      "D:\\AI\\Anaconda3\\lib\\site-packages\\sklearn\\neural_network\\_multilayer_perceptron.py:549: ConvergenceWarning: lbfgs failed to converge (status=1):\n",
      "STOP: TOTAL NO. of ITERATIONS REACHED LIMIT.\n",
      "\n",
      "Increase the number of iterations (max_iter) or scale the data as shown in:\n",
      "    https://scikit-learn.org/stable/modules/preprocessing.html\n",
      "  self.n_iter_ = _check_optimize_result(\"lbfgs\", opt_res, self.max_iter)\n",
      "D:\\AI\\Anaconda3\\lib\\site-packages\\sklearn\\neural_network\\_multilayer_perceptron.py:549: ConvergenceWarning: lbfgs failed to converge (status=1):\n",
      "STOP: TOTAL NO. of ITERATIONS REACHED LIMIT.\n",
      "\n",
      "Increase the number of iterations (max_iter) or scale the data as shown in:\n",
      "    https://scikit-learn.org/stable/modules/preprocessing.html\n",
      "  self.n_iter_ = _check_optimize_result(\"lbfgs\", opt_res, self.max_iter)\n",
      "D:\\AI\\Anaconda3\\lib\\site-packages\\sklearn\\neural_network\\_multilayer_perceptron.py:549: ConvergenceWarning: lbfgs failed to converge (status=1):\n",
      "STOP: TOTAL NO. of ITERATIONS REACHED LIMIT.\n",
      "\n",
      "Increase the number of iterations (max_iter) or scale the data as shown in:\n",
      "    https://scikit-learn.org/stable/modules/preprocessing.html\n",
      "  self.n_iter_ = _check_optimize_result(\"lbfgs\", opt_res, self.max_iter)\n",
      "D:\\AI\\Anaconda3\\lib\\site-packages\\sklearn\\neural_network\\_multilayer_perceptron.py:549: ConvergenceWarning: lbfgs failed to converge (status=1):\n",
      "STOP: TOTAL NO. of ITERATIONS REACHED LIMIT.\n",
      "\n",
      "Increase the number of iterations (max_iter) or scale the data as shown in:\n",
      "    https://scikit-learn.org/stable/modules/preprocessing.html\n",
      "  self.n_iter_ = _check_optimize_result(\"lbfgs\", opt_res, self.max_iter)\n",
      "D:\\AI\\Anaconda3\\lib\\site-packages\\sklearn\\neural_network\\_multilayer_perceptron.py:549: ConvergenceWarning: lbfgs failed to converge (status=1):\n",
      "STOP: TOTAL NO. of ITERATIONS REACHED LIMIT.\n",
      "\n",
      "Increase the number of iterations (max_iter) or scale the data as shown in:\n",
      "    https://scikit-learn.org/stable/modules/preprocessing.html\n",
      "  self.n_iter_ = _check_optimize_result(\"lbfgs\", opt_res, self.max_iter)\n"
     ]
    },
    {
     "name": "stdout",
     "output_type": "stream",
     "text": [
      "Iteration 1, loss = 1.20979113\n",
      "Iteration 2, loss = 0.67464872\n",
      "Iteration 3, loss = 0.53519675\n",
      "Iteration 4, loss = 0.47282126\n",
      "Iteration 5, loss = 0.43236715\n",
      "Iteration 6, loss = 0.40407924\n",
      "Iteration 7, loss = 0.38176854\n",
      "Iteration 8, loss = 0.36331259\n",
      "Iteration 9, loss = 0.34746204\n",
      "Iteration 10, loss = 0.33370226\n",
      "Iteration 11, loss = 0.32149285\n",
      "Iteration 12, loss = 0.31033613\n",
      "Iteration 13, loss = 0.30012620\n",
      "Iteration 14, loss = 0.28992580\n",
      "Iteration 15, loss = 0.28183761\n",
      "Iteration 16, loss = 0.27335665\n",
      "Iteration 17, loss = 0.26507931\n",
      "Iteration 18, loss = 0.25830842\n",
      "Iteration 19, loss = 0.25099568\n",
      "Iteration 20, loss = 0.24377073\n",
      "Iteration 1, loss = 1.21903177\n",
      "Iteration 2, loss = 0.67935960\n",
      "Iteration 3, loss = 0.53823591\n",
      "Iteration 4, loss = 0.47452452\n"
     ]
    },
    {
     "name": "stderr",
     "output_type": "stream",
     "text": [
      "D:\\AI\\Anaconda3\\lib\\site-packages\\sklearn\\neural_network\\_multilayer_perceptron.py:692: ConvergenceWarning: Stochastic Optimizer: Maximum iterations (20) reached and the optimization hasn't converged yet.\n",
      "  warnings.warn(\n"
     ]
    },
    {
     "name": "stdout",
     "output_type": "stream",
     "text": [
      "Iteration 5, loss = 0.43401979\n",
      "Iteration 6, loss = 0.40561864\n",
      "Iteration 7, loss = 0.38301704\n",
      "Iteration 8, loss = 0.36430411\n",
      "Iteration 9, loss = 0.34847423\n",
      "Iteration 10, loss = 0.33455698\n",
      "Iteration 11, loss = 0.32218394\n",
      "Iteration 12, loss = 0.31079677\n",
      "Iteration 13, loss = 0.30066792\n",
      "Iteration 14, loss = 0.29019082\n",
      "Iteration 15, loss = 0.28193120\n",
      "Iteration 16, loss = 0.27371362\n",
      "Iteration 17, loss = 0.26543840\n",
      "Iteration 18, loss = 0.25795552\n",
      "Iteration 19, loss = 0.25071893\n",
      "Iteration 20, loss = 0.24331494\n",
      "Iteration 1, loss = 1.21581160\n"
     ]
    },
    {
     "name": "stderr",
     "output_type": "stream",
     "text": [
      "D:\\AI\\Anaconda3\\lib\\site-packages\\sklearn\\neural_network\\_multilayer_perceptron.py:692: ConvergenceWarning: Stochastic Optimizer: Maximum iterations (20) reached and the optimization hasn't converged yet.\n",
      "  warnings.warn(\n"
     ]
    },
    {
     "name": "stdout",
     "output_type": "stream",
     "text": [
      "Iteration 2, loss = 0.67873268\n",
      "Iteration 3, loss = 0.53935107\n",
      "Iteration 4, loss = 0.47712829\n",
      "Iteration 5, loss = 0.43733605\n",
      "Iteration 6, loss = 0.40890522\n",
      "Iteration 7, loss = 0.38652160\n",
      "Iteration 8, loss = 0.36798194\n",
      "Iteration 9, loss = 0.35200265\n",
      "Iteration 10, loss = 0.33778514\n",
      "Iteration 11, loss = 0.32559439\n",
      "Iteration 12, loss = 0.31433278\n",
      "Iteration 13, loss = 0.30416648\n",
      "Iteration 14, loss = 0.29339502\n",
      "Iteration 15, loss = 0.28487492\n",
      "Iteration 16, loss = 0.27658881\n",
      "Iteration 17, loss = 0.26809512\n",
      "Iteration 18, loss = 0.26032152\n",
      "Iteration 19, loss = 0.25314728\n",
      "Iteration 20, loss = 0.24581875\n",
      "Iteration 1, loss = 1.19935169\n",
      "Iteration 2, loss = 0.67172729\n",
      "Iteration 3, loss = 0.53565604\n",
      "Iteration 4, loss = 0.47178553\n",
      "Iteration 5, loss = 0.43123313\n",
      "Iteration 6, loss = 0.40234348\n"
     ]
    },
    {
     "name": "stderr",
     "output_type": "stream",
     "text": [
      "D:\\AI\\Anaconda3\\lib\\site-packages\\sklearn\\neural_network\\_multilayer_perceptron.py:692: ConvergenceWarning: Stochastic Optimizer: Maximum iterations (20) reached and the optimization hasn't converged yet.\n",
      "  warnings.warn(\n"
     ]
    },
    {
     "name": "stdout",
     "output_type": "stream",
     "text": [
      "Iteration 7, loss = 0.37986120\n",
      "Iteration 8, loss = 0.36119933\n",
      "Iteration 9, loss = 0.34511694\n",
      "Iteration 10, loss = 0.33104539\n",
      "Iteration 11, loss = 0.31880688\n",
      "Iteration 12, loss = 0.30732193\n",
      "Iteration 13, loss = 0.29713433\n",
      "Iteration 14, loss = 0.28715218\n",
      "Iteration 15, loss = 0.27855487\n",
      "Iteration 16, loss = 0.27055424\n",
      "Iteration 17, loss = 0.26226116\n",
      "Iteration 18, loss = 0.25492789\n",
      "Iteration 19, loss = 0.24768441\n",
      "Iteration 20, loss = 0.24084617\n",
      "Iteration 1, loss = 1.21661415\n",
      "Iteration 2, loss = 0.67427160\n"
     ]
    },
    {
     "name": "stderr",
     "output_type": "stream",
     "text": [
      "D:\\AI\\Anaconda3\\lib\\site-packages\\sklearn\\neural_network\\_multilayer_perceptron.py:692: ConvergenceWarning: Stochastic Optimizer: Maximum iterations (20) reached and the optimization hasn't converged yet.\n",
      "  warnings.warn(\n"
     ]
    },
    {
     "name": "stdout",
     "output_type": "stream",
     "text": [
      "Iteration 3, loss = 0.53528609\n",
      "Iteration 4, loss = 0.47222912\n",
      "Iteration 5, loss = 0.43233488\n",
      "Iteration 6, loss = 0.40416063\n",
      "Iteration 7, loss = 0.38202415\n",
      "Iteration 8, loss = 0.36401839\n",
      "Iteration 9, loss = 0.34841298\n",
      "Iteration 10, loss = 0.33420392\n",
      "Iteration 11, loss = 0.32205890\n",
      "Iteration 12, loss = 0.31082956\n",
      "Iteration 13, loss = 0.30063249\n",
      "Iteration 14, loss = 0.29068410\n",
      "Iteration 15, loss = 0.28183853\n",
      "Iteration 16, loss = 0.27408758\n",
      "Iteration 17, loss = 0.26545827\n",
      "Iteration 18, loss = 0.25781881\n",
      "Iteration 19, loss = 0.25073171\n",
      "Iteration 20, loss = 0.24368697\n",
      "Iteration 1, loss = 1.20899513\n",
      "Iteration 2, loss = 0.67379549\n",
      "Iteration 3, loss = 0.53562026\n",
      "Iteration 4, loss = 0.47197610\n",
      "Iteration 5, loss = 0.43171213\n",
      "Iteration 6, loss = 0.40321350\n"
     ]
    },
    {
     "name": "stderr",
     "output_type": "stream",
     "text": [
      "D:\\AI\\Anaconda3\\lib\\site-packages\\sklearn\\neural_network\\_multilayer_perceptron.py:692: ConvergenceWarning: Stochastic Optimizer: Maximum iterations (20) reached and the optimization hasn't converged yet.\n",
      "  warnings.warn(\n"
     ]
    },
    {
     "name": "stdout",
     "output_type": "stream",
     "text": [
      "Iteration 7, loss = 0.38097136\n",
      "Iteration 8, loss = 0.36275742\n",
      "Iteration 9, loss = 0.34727426\n",
      "Iteration 10, loss = 0.33282749\n",
      "Iteration 11, loss = 0.32073092\n",
      "Iteration 12, loss = 0.30989653\n",
      "Iteration 13, loss = 0.29957683\n",
      "Iteration 14, loss = 0.28963932\n",
      "Iteration 15, loss = 0.28060514\n",
      "Iteration 16, loss = 0.27292113\n",
      "Iteration 17, loss = 0.26452510\n",
      "Iteration 18, loss = 0.25703385\n",
      "Iteration 19, loss = 0.25006685\n",
      "Iteration 20, loss = 0.24297015\n",
      "Iteration 1, loss = 1.20033381\n",
      "Iteration 2, loss = 0.67017460\n",
      "Iteration 3, loss = 0.53371036\n",
      "Iteration 4, loss = 0.46956540\n",
      "Iteration 5, loss = 0.42925828\n",
      "Iteration 6, loss = 0.40061049\n",
      "Iteration 7, loss = 0.37804076\n",
      "Iteration 8, loss = 0.35942328\n",
      "Iteration 9, loss = 0.34348343\n"
     ]
    },
    {
     "name": "stderr",
     "output_type": "stream",
     "text": [
      "D:\\AI\\Anaconda3\\lib\\site-packages\\sklearn\\neural_network\\_multilayer_perceptron.py:692: ConvergenceWarning: Stochastic Optimizer: Maximum iterations (20) reached and the optimization hasn't converged yet.\n",
      "  warnings.warn(\n"
     ]
    },
    {
     "name": "stdout",
     "output_type": "stream",
     "text": [
      "Iteration 10, loss = 0.32869267\n",
      "Iteration 11, loss = 0.31620354\n",
      "Iteration 12, loss = 0.30492771\n",
      "Iteration 13, loss = 0.29467115\n",
      "Iteration 14, loss = 0.28472977\n",
      "Iteration 15, loss = 0.27614514\n",
      "Iteration 16, loss = 0.26847433\n",
      "Iteration 17, loss = 0.25998181\n",
      "Iteration 18, loss = 0.25250298\n",
      "Iteration 19, loss = 0.24567164\n",
      "Iteration 20, loss = 0.23891104\n",
      "Iteration 1, loss = 1.18673947\n",
      "Iteration 2, loss = 0.66720598\n",
      "Iteration 3, loss = 0.53569818\n",
      "Iteration 4, loss = 0.47185917\n",
      "Iteration 5, loss = 0.43153490\n"
     ]
    },
    {
     "name": "stderr",
     "output_type": "stream",
     "text": [
      "D:\\AI\\Anaconda3\\lib\\site-packages\\sklearn\\neural_network\\_multilayer_perceptron.py:692: ConvergenceWarning: Stochastic Optimizer: Maximum iterations (20) reached and the optimization hasn't converged yet.\n",
      "  warnings.warn(\n"
     ]
    },
    {
     "name": "stdout",
     "output_type": "stream",
     "text": [
      "Iteration 6, loss = 0.40267170\n",
      "Iteration 7, loss = 0.38016296\n",
      "Iteration 8, loss = 0.36193902\n",
      "Iteration 9, loss = 0.34579016\n",
      "Iteration 10, loss = 0.33163867\n",
      "Iteration 11, loss = 0.31937644\n",
      "Iteration 12, loss = 0.30807961\n",
      "Iteration 13, loss = 0.29798138\n",
      "Iteration 14, loss = 0.28808686\n",
      "Iteration 15, loss = 0.27947400\n",
      "Iteration 16, loss = 0.27158073\n",
      "Iteration 17, loss = 0.26290403\n",
      "Iteration 18, loss = 0.25558890\n",
      "Iteration 19, loss = 0.24845470\n",
      "Iteration 20, loss = 0.24206655\n",
      "Iteration 1, loss = 1.20193803\n",
      "Iteration 2, loss = 0.67082167\n",
      "Iteration 3, loss = 0.53400854\n",
      "Iteration 4, loss = 0.47106005\n",
      "Iteration 5, loss = 0.43133293\n",
      "Iteration 6, loss = 0.40338523\n"
     ]
    },
    {
     "name": "stderr",
     "output_type": "stream",
     "text": [
      "D:\\AI\\Anaconda3\\lib\\site-packages\\sklearn\\neural_network\\_multilayer_perceptron.py:692: ConvergenceWarning: Stochastic Optimizer: Maximum iterations (20) reached and the optimization hasn't converged yet.\n",
      "  warnings.warn(\n"
     ]
    },
    {
     "name": "stdout",
     "output_type": "stream",
     "text": [
      "Iteration 7, loss = 0.38095448\n",
      "Iteration 8, loss = 0.36240629\n",
      "Iteration 9, loss = 0.34694590\n",
      "Iteration 10, loss = 0.33346182\n",
      "Iteration 11, loss = 0.32133074\n",
      "Iteration 12, loss = 0.30956617\n",
      "Iteration 13, loss = 0.29947929\n",
      "Iteration 14, loss = 0.29025469\n",
      "Iteration 15, loss = 0.28124413\n",
      "Iteration 16, loss = 0.27347534\n",
      "Iteration 17, loss = 0.26532572\n",
      "Iteration 18, loss = 0.25767869\n",
      "Iteration 19, loss = 0.25038653\n",
      "Iteration 20, loss = 0.24355274\n",
      "Iteration 1, loss = 1.19976014\n"
     ]
    },
    {
     "name": "stderr",
     "output_type": "stream",
     "text": [
      "D:\\AI\\Anaconda3\\lib\\site-packages\\sklearn\\neural_network\\_multilayer_perceptron.py:692: ConvergenceWarning: Stochastic Optimizer: Maximum iterations (20) reached and the optimization hasn't converged yet.\n",
      "  warnings.warn(\n"
     ]
    },
    {
     "name": "stdout",
     "output_type": "stream",
     "text": [
      "Iteration 2, loss = 0.67201760\n",
      "Iteration 3, loss = 0.53840184\n",
      "Iteration 4, loss = 0.47585571\n",
      "Iteration 5, loss = 0.43642219\n",
      "Iteration 6, loss = 0.40868292\n",
      "Iteration 7, loss = 0.38655957\n",
      "Iteration 8, loss = 0.36802080\n",
      "Iteration 9, loss = 0.35230646\n",
      "Iteration 10, loss = 0.33846458\n",
      "Iteration 11, loss = 0.32627327\n",
      "Iteration 12, loss = 0.31453775\n",
      "Iteration 13, loss = 0.30430717\n",
      "Iteration 14, loss = 0.29518931\n",
      "Iteration 15, loss = 0.28608341\n",
      "Iteration 16, loss = 0.27824042\n",
      "Iteration 17, loss = 0.27019555\n",
      "Iteration 18, loss = 0.26222352\n",
      "Iteration 19, loss = 0.25494748\n",
      "Iteration 20, loss = 0.24803216\n",
      "Iteration 1, loss = 1.30943846\n",
      "Iteration 2, loss = 0.81571344\n",
      "Iteration 3, loss = 0.74024827\n",
      "Iteration 4, loss = 0.69722061\n"
     ]
    },
    {
     "name": "stderr",
     "output_type": "stream",
     "text": [
      "D:\\AI\\Anaconda3\\lib\\site-packages\\sklearn\\neural_network\\_multilayer_perceptron.py:692: ConvergenceWarning: Stochastic Optimizer: Maximum iterations (20) reached and the optimization hasn't converged yet.\n",
      "  warnings.warn(\n"
     ]
    },
    {
     "name": "stdout",
     "output_type": "stream",
     "text": [
      "Iteration 5, loss = 0.67052476\n",
      "Iteration 6, loss = 0.65022624\n",
      "Iteration 7, loss = 0.63374372\n",
      "Iteration 8, loss = 0.61971530\n",
      "Iteration 9, loss = 0.60661901\n",
      "Iteration 10, loss = 0.59576914\n",
      "Iteration 11, loss = 0.58538497\n",
      "Iteration 12, loss = 0.57615364\n",
      "Iteration 13, loss = 0.56764820\n",
      "Iteration 14, loss = 0.55973369\n",
      "Iteration 15, loss = 0.55250941\n",
      "Iteration 16, loss = 0.54549239\n",
      "Iteration 17, loss = 0.53871107\n",
      "Iteration 18, loss = 0.53286052\n",
      "Iteration 19, loss = 0.52719138\n",
      "Iteration 20, loss = 0.52129769\n",
      "Iteration 1, loss = 1.31922137\n",
      "Iteration 2, loss = 0.82146459\n",
      "Iteration 3, loss = 0.74661202\n",
      "Iteration 4, loss = 0.70278772\n",
      "Iteration 5, loss = 0.67639125\n"
     ]
    },
    {
     "name": "stderr",
     "output_type": "stream",
     "text": [
      "D:\\AI\\Anaconda3\\lib\\site-packages\\sklearn\\neural_network\\_multilayer_perceptron.py:692: ConvergenceWarning: Stochastic Optimizer: Maximum iterations (20) reached and the optimization hasn't converged yet.\n",
      "  warnings.warn(\n"
     ]
    },
    {
     "name": "stdout",
     "output_type": "stream",
     "text": [
      "Iteration 6, loss = 0.65610550\n",
      "Iteration 7, loss = 0.63972366\n",
      "Iteration 8, loss = 0.62571934\n",
      "Iteration 9, loss = 0.61286293\n",
      "Iteration 10, loss = 0.60213042\n",
      "Iteration 11, loss = 0.59169713\n",
      "Iteration 12, loss = 0.58267436\n",
      "Iteration 13, loss = 0.57427627\n",
      "Iteration 14, loss = 0.56606487\n",
      "Iteration 15, loss = 0.55889467\n",
      "Iteration 16, loss = 0.55194872\n",
      "Iteration 17, loss = 0.54514667\n",
      "Iteration 18, loss = 0.53920623\n",
      "Iteration 19, loss = 0.53325174\n",
      "Iteration 20, loss = 0.52734744\n",
      "Iteration 1, loss = 1.31800336\n",
      "Iteration 2, loss = 0.81949771\n",
      "Iteration 3, loss = 0.74610210\n"
     ]
    },
    {
     "name": "stderr",
     "output_type": "stream",
     "text": [
      "D:\\AI\\Anaconda3\\lib\\site-packages\\sklearn\\neural_network\\_multilayer_perceptron.py:692: ConvergenceWarning: Stochastic Optimizer: Maximum iterations (20) reached and the optimization hasn't converged yet.\n",
      "  warnings.warn(\n"
     ]
    },
    {
     "name": "stdout",
     "output_type": "stream",
     "text": [
      "Iteration 4, loss = 0.70337527\n",
      "Iteration 5, loss = 0.67759507\n",
      "Iteration 6, loss = 0.65747855\n",
      "Iteration 7, loss = 0.64126915\n",
      "Iteration 8, loss = 0.62739077\n",
      "Iteration 9, loss = 0.61471857\n",
      "Iteration 10, loss = 0.60393071\n",
      "Iteration 11, loss = 0.59386770\n",
      "Iteration 12, loss = 0.58505485\n",
      "Iteration 13, loss = 0.57680926\n",
      "Iteration 14, loss = 0.56852424\n",
      "Iteration 15, loss = 0.56130714\n",
      "Iteration 16, loss = 0.55442013\n",
      "Iteration 17, loss = 0.54781940\n",
      "Iteration 18, loss = 0.54194180\n",
      "Iteration 19, loss = 0.53596938\n",
      "Iteration 20, loss = 0.53022700\n",
      "Iteration 1, loss = 1.30469173\n",
      "Iteration 2, loss = 0.81749962\n",
      "Iteration 3, loss = 0.74455293\n"
     ]
    },
    {
     "name": "stderr",
     "output_type": "stream",
     "text": [
      "D:\\AI\\Anaconda3\\lib\\site-packages\\sklearn\\neural_network\\_multilayer_perceptron.py:692: ConvergenceWarning: Stochastic Optimizer: Maximum iterations (20) reached and the optimization hasn't converged yet.\n",
      "  warnings.warn(\n"
     ]
    },
    {
     "name": "stdout",
     "output_type": "stream",
     "text": [
      "Iteration 4, loss = 0.70118811\n",
      "Iteration 5, loss = 0.67476047\n",
      "Iteration 6, loss = 0.65456754\n",
      "Iteration 7, loss = 0.63786551\n",
      "Iteration 8, loss = 0.62356489\n",
      "Iteration 9, loss = 0.61063774\n",
      "Iteration 10, loss = 0.59942330\n",
      "Iteration 11, loss = 0.58912181\n",
      "Iteration 12, loss = 0.58006418\n",
      "Iteration 13, loss = 0.57148028\n",
      "Iteration 14, loss = 0.56306240\n",
      "Iteration 15, loss = 0.55573949\n",
      "Iteration 16, loss = 0.54846273\n",
      "Iteration 17, loss = 0.54185486\n",
      "Iteration 18, loss = 0.53569187\n",
      "Iteration 19, loss = 0.52949245\n",
      "Iteration 20, loss = 0.52368048\n",
      "Iteration 1, loss = 1.32150697\n",
      "Iteration 2, loss = 0.81875488\n"
     ]
    },
    {
     "name": "stderr",
     "output_type": "stream",
     "text": [
      "D:\\AI\\Anaconda3\\lib\\site-packages\\sklearn\\neural_network\\_multilayer_perceptron.py:692: ConvergenceWarning: Stochastic Optimizer: Maximum iterations (20) reached and the optimization hasn't converged yet.\n",
      "  warnings.warn(\n"
     ]
    },
    {
     "name": "stdout",
     "output_type": "stream",
     "text": [
      "Iteration 3, loss = 0.74620815\n",
      "Iteration 4, loss = 0.70170610\n",
      "Iteration 5, loss = 0.67515819\n",
      "Iteration 6, loss = 0.65458607\n",
      "Iteration 7, loss = 0.63776759\n",
      "Iteration 8, loss = 0.62340003\n",
      "Iteration 9, loss = 0.61058447\n",
      "Iteration 10, loss = 0.59906922\n",
      "Iteration 11, loss = 0.58891269\n",
      "Iteration 12, loss = 0.57977924\n",
      "Iteration 13, loss = 0.57121240\n",
      "Iteration 14, loss = 0.56290197\n",
      "Iteration 15, loss = 0.55552319\n",
      "Iteration 16, loss = 0.54844424\n",
      "Iteration 17, loss = 0.54187212\n",
      "Iteration 18, loss = 0.53574617\n",
      "Iteration 19, loss = 0.52965206\n",
      "Iteration 20, loss = 0.52397480\n",
      "Iteration 1, loss = 1.31464173\n",
      "Iteration 2, loss = 0.81972634\n",
      "Iteration 3, loss = 0.74686793\n",
      "Iteration 4, loss = 0.70309449\n",
      "Iteration 5, loss = 0.67712296\n",
      "Iteration 6, loss = 0.65689460\n"
     ]
    },
    {
     "name": "stderr",
     "output_type": "stream",
     "text": [
      "D:\\AI\\Anaconda3\\lib\\site-packages\\sklearn\\neural_network\\_multilayer_perceptron.py:692: ConvergenceWarning: Stochastic Optimizer: Maximum iterations (20) reached and the optimization hasn't converged yet.\n",
      "  warnings.warn(\n"
     ]
    },
    {
     "name": "stdout",
     "output_type": "stream",
     "text": [
      "Iteration 7, loss = 0.64053796\n",
      "Iteration 8, loss = 0.62638952\n",
      "Iteration 9, loss = 0.61407630\n",
      "Iteration 10, loss = 0.60262660\n",
      "Iteration 11, loss = 0.59274996\n",
      "Iteration 12, loss = 0.58384663\n",
      "Iteration 13, loss = 0.57495252\n",
      "Iteration 14, loss = 0.56679339\n",
      "Iteration 15, loss = 0.55952368\n",
      "Iteration 16, loss = 0.55222138\n",
      "Iteration 17, loss = 0.54575474\n",
      "Iteration 18, loss = 0.53955281\n",
      "Iteration 19, loss = 0.53346944\n",
      "Iteration 20, loss = 0.52768064\n",
      "Iteration 1, loss = 1.31068736\n",
      "Iteration 2, loss = 0.81717028\n",
      "Iteration 3, loss = 0.74361461\n",
      "Iteration 4, loss = 0.69896610\n"
     ]
    },
    {
     "name": "stderr",
     "output_type": "stream",
     "text": [
      "D:\\AI\\Anaconda3\\lib\\site-packages\\sklearn\\neural_network\\_multilayer_perceptron.py:692: ConvergenceWarning: Stochastic Optimizer: Maximum iterations (20) reached and the optimization hasn't converged yet.\n",
      "  warnings.warn(\n"
     ]
    },
    {
     "name": "stdout",
     "output_type": "stream",
     "text": [
      "Iteration 5, loss = 0.67263819\n",
      "Iteration 6, loss = 0.65245780\n",
      "Iteration 7, loss = 0.63595938\n",
      "Iteration 8, loss = 0.62181179\n",
      "Iteration 9, loss = 0.60983440\n",
      "Iteration 10, loss = 0.59817891\n",
      "Iteration 11, loss = 0.58836490\n",
      "Iteration 12, loss = 0.57937491\n",
      "Iteration 13, loss = 0.57081848\n",
      "Iteration 14, loss = 0.56294277\n",
      "Iteration 15, loss = 0.55589482\n",
      "Iteration 16, loss = 0.54862242\n",
      "Iteration 17, loss = 0.54233153\n",
      "Iteration 18, loss = 0.53611521\n",
      "Iteration 19, loss = 0.53013648\n",
      "Iteration 20, loss = 0.52471044\n"
     ]
    },
    {
     "name": "stderr",
     "output_type": "stream",
     "text": [
      "D:\\AI\\Anaconda3\\lib\\site-packages\\sklearn\\neural_network\\_multilayer_perceptron.py:692: ConvergenceWarning: Stochastic Optimizer: Maximum iterations (20) reached and the optimization hasn't converged yet.\n",
      "  warnings.warn(\n"
     ]
    },
    {
     "name": "stdout",
     "output_type": "stream",
     "text": [
      "Iteration 1, loss = 1.30135546\n",
      "Iteration 2, loss = 0.81652088\n",
      "Iteration 3, loss = 0.74585564\n",
      "Iteration 4, loss = 0.70194317\n",
      "Iteration 5, loss = 0.67572713\n",
      "Iteration 6, loss = 0.65544716\n",
      "Iteration 7, loss = 0.63890942\n",
      "Iteration 8, loss = 0.62466603\n",
      "Iteration 9, loss = 0.61229564\n",
      "Iteration 10, loss = 0.60084392\n",
      "Iteration 11, loss = 0.59092716\n",
      "Iteration 12, loss = 0.58170261\n",
      "Iteration 13, loss = 0.57319304\n",
      "Iteration 14, loss = 0.56513132\n",
      "Iteration 15, loss = 0.55795807\n",
      "Iteration 16, loss = 0.55067619\n",
      "Iteration 17, loss = 0.54423212\n",
      "Iteration 18, loss = 0.53788171\n",
      "Iteration 19, loss = 0.53193756\n",
      "Iteration 20, loss = 0.52653517\n",
      "Iteration 1, loss = 1.31271500\n",
      "Iteration 2, loss = 0.81864709\n",
      "Iteration 3, loss = 0.74183977\n",
      "Iteration 4, loss = 0.69810224\n",
      "Iteration 5, loss = 0.67153242\n",
      "Iteration 6, loss = 0.65135001\n"
     ]
    },
    {
     "name": "stderr",
     "output_type": "stream",
     "text": [
      "D:\\AI\\Anaconda3\\lib\\site-packages\\sklearn\\neural_network\\_multilayer_perceptron.py:692: ConvergenceWarning: Stochastic Optimizer: Maximum iterations (20) reached and the optimization hasn't converged yet.\n",
      "  warnings.warn(\n"
     ]
    },
    {
     "name": "stdout",
     "output_type": "stream",
     "text": [
      "Iteration 7, loss = 0.63487426\n",
      "Iteration 8, loss = 0.62071709\n",
      "Iteration 9, loss = 0.60831831\n",
      "Iteration 10, loss = 0.59707694\n",
      "Iteration 11, loss = 0.58699832\n",
      "Iteration 12, loss = 0.57756013\n",
      "Iteration 13, loss = 0.56897014\n",
      "Iteration 14, loss = 0.56083120\n",
      "Iteration 15, loss = 0.55357114\n",
      "Iteration 16, loss = 0.54642348\n",
      "Iteration 17, loss = 0.53991937\n",
      "Iteration 18, loss = 0.53359866\n",
      "Iteration 19, loss = 0.52771516\n",
      "Iteration 20, loss = 0.52197029\n",
      "Iteration 1, loss = 1.31477679\n",
      "Iteration 2, loss = 0.82245040\n",
      "Iteration 3, loss = 0.74938638\n"
     ]
    },
    {
     "name": "stderr",
     "output_type": "stream",
     "text": [
      "D:\\AI\\Anaconda3\\lib\\site-packages\\sklearn\\neural_network\\_multilayer_perceptron.py:692: ConvergenceWarning: Stochastic Optimizer: Maximum iterations (20) reached and the optimization hasn't converged yet.\n",
      "  warnings.warn(\n"
     ]
    },
    {
     "name": "stdout",
     "output_type": "stream",
     "text": [
      "Iteration 4, loss = 0.70625269\n",
      "Iteration 5, loss = 0.67939387\n",
      "Iteration 6, loss = 0.65914167\n",
      "Iteration 7, loss = 0.64254185\n",
      "Iteration 8, loss = 0.62844851\n",
      "Iteration 9, loss = 0.61589109\n",
      "Iteration 10, loss = 0.60449383\n",
      "Iteration 11, loss = 0.59445951\n",
      "Iteration 12, loss = 0.58502680\n",
      "Iteration 13, loss = 0.57634340\n",
      "Iteration 14, loss = 0.56829843\n",
      "Iteration 15, loss = 0.56084765\n",
      "Iteration 16, loss = 0.55364371\n",
      "Iteration 17, loss = 0.54698118\n",
      "Iteration 18, loss = 0.54068443\n",
      "Iteration 19, loss = 0.53467748\n",
      "Iteration 20, loss = 0.52872538\n"
     ]
    },
    {
     "name": "stderr",
     "output_type": "stream",
     "text": [
      "D:\\AI\\Anaconda3\\lib\\site-packages\\sklearn\\neural_network\\_multilayer_perceptron.py:692: ConvergenceWarning: Stochastic Optimizer: Maximum iterations (20) reached and the optimization hasn't converged yet.\n",
      "  warnings.warn(\n",
      "D:\\AI\\Anaconda3\\lib\\site-packages\\sklearn\\neural_network\\_multilayer_perceptron.py:549: ConvergenceWarning: lbfgs failed to converge (status=1):\n",
      "STOP: TOTAL NO. of ITERATIONS REACHED LIMIT.\n",
      "\n",
      "Increase the number of iterations (max_iter) or scale the data as shown in:\n",
      "    https://scikit-learn.org/stable/modules/preprocessing.html\n",
      "  self.n_iter_ = _check_optimize_result(\"lbfgs\", opt_res, self.max_iter)\n",
      "D:\\AI\\Anaconda3\\lib\\site-packages\\sklearn\\neural_network\\_multilayer_perceptron.py:549: ConvergenceWarning: lbfgs failed to converge (status=1):\n",
      "STOP: TOTAL NO. of ITERATIONS REACHED LIMIT.\n",
      "\n",
      "Increase the number of iterations (max_iter) or scale the data as shown in:\n",
      "    https://scikit-learn.org/stable/modules/preprocessing.html\n",
      "  self.n_iter_ = _check_optimize_result(\"lbfgs\", opt_res, self.max_iter)\n",
      "D:\\AI\\Anaconda3\\lib\\site-packages\\sklearn\\neural_network\\_multilayer_perceptron.py:549: ConvergenceWarning: lbfgs failed to converge (status=1):\n",
      "STOP: TOTAL NO. of ITERATIONS REACHED LIMIT.\n",
      "\n",
      "Increase the number of iterations (max_iter) or scale the data as shown in:\n",
      "    https://scikit-learn.org/stable/modules/preprocessing.html\n",
      "  self.n_iter_ = _check_optimize_result(\"lbfgs\", opt_res, self.max_iter)\n",
      "D:\\AI\\Anaconda3\\lib\\site-packages\\sklearn\\neural_network\\_multilayer_perceptron.py:549: ConvergenceWarning: lbfgs failed to converge (status=1):\n",
      "STOP: TOTAL NO. of ITERATIONS REACHED LIMIT.\n",
      "\n",
      "Increase the number of iterations (max_iter) or scale the data as shown in:\n",
      "    https://scikit-learn.org/stable/modules/preprocessing.html\n",
      "  self.n_iter_ = _check_optimize_result(\"lbfgs\", opt_res, self.max_iter)\n",
      "D:\\AI\\Anaconda3\\lib\\site-packages\\sklearn\\neural_network\\_multilayer_perceptron.py:549: ConvergenceWarning: lbfgs failed to converge (status=1):\n",
      "STOP: TOTAL NO. of ITERATIONS REACHED LIMIT.\n",
      "\n",
      "Increase the number of iterations (max_iter) or scale the data as shown in:\n",
      "    https://scikit-learn.org/stable/modules/preprocessing.html\n",
      "  self.n_iter_ = _check_optimize_result(\"lbfgs\", opt_res, self.max_iter)\n",
      "D:\\AI\\Anaconda3\\lib\\site-packages\\sklearn\\neural_network\\_multilayer_perceptron.py:549: ConvergenceWarning: lbfgs failed to converge (status=1):\n",
      "STOP: TOTAL NO. of ITERATIONS REACHED LIMIT.\n",
      "\n",
      "Increase the number of iterations (max_iter) or scale the data as shown in:\n",
      "    https://scikit-learn.org/stable/modules/preprocessing.html\n",
      "  self.n_iter_ = _check_optimize_result(\"lbfgs\", opt_res, self.max_iter)\n",
      "D:\\AI\\Anaconda3\\lib\\site-packages\\sklearn\\neural_network\\_multilayer_perceptron.py:549: ConvergenceWarning: lbfgs failed to converge (status=1):\n",
      "STOP: TOTAL NO. of ITERATIONS REACHED LIMIT.\n",
      "\n",
      "Increase the number of iterations (max_iter) or scale the data as shown in:\n",
      "    https://scikit-learn.org/stable/modules/preprocessing.html\n",
      "  self.n_iter_ = _check_optimize_result(\"lbfgs\", opt_res, self.max_iter)\n",
      "D:\\AI\\Anaconda3\\lib\\site-packages\\sklearn\\neural_network\\_multilayer_perceptron.py:549: ConvergenceWarning: lbfgs failed to converge (status=1):\n",
      "STOP: TOTAL NO. of ITERATIONS REACHED LIMIT.\n",
      "\n",
      "Increase the number of iterations (max_iter) or scale the data as shown in:\n",
      "    https://scikit-learn.org/stable/modules/preprocessing.html\n",
      "  self.n_iter_ = _check_optimize_result(\"lbfgs\", opt_res, self.max_iter)\n",
      "D:\\AI\\Anaconda3\\lib\\site-packages\\sklearn\\neural_network\\_multilayer_perceptron.py:549: ConvergenceWarning: lbfgs failed to converge (status=1):\n",
      "STOP: TOTAL NO. of ITERATIONS REACHED LIMIT.\n",
      "\n",
      "Increase the number of iterations (max_iter) or scale the data as shown in:\n",
      "    https://scikit-learn.org/stable/modules/preprocessing.html\n",
      "  self.n_iter_ = _check_optimize_result(\"lbfgs\", opt_res, self.max_iter)\n",
      "D:\\AI\\Anaconda3\\lib\\site-packages\\sklearn\\neural_network\\_multilayer_perceptron.py:549: ConvergenceWarning: lbfgs failed to converge (status=1):\n",
      "STOP: TOTAL NO. of ITERATIONS REACHED LIMIT.\n",
      "\n",
      "Increase the number of iterations (max_iter) or scale the data as shown in:\n",
      "    https://scikit-learn.org/stable/modules/preprocessing.html\n",
      "  self.n_iter_ = _check_optimize_result(\"lbfgs\", opt_res, self.max_iter)\n"
     ]
    },
    {
     "name": "stdout",
     "output_type": "stream",
     "text": [
      "Iteration 1, loss = 0.67298716\n",
      "Iteration 2, loss = 0.52494711\n",
      "Iteration 3, loss = 0.44505749\n",
      "Iteration 4, loss = 0.38353555\n",
      "Iteration 5, loss = 0.34001268\n",
      "Iteration 6, loss = 0.30930190\n",
      "Iteration 7, loss = 0.28387278\n",
      "Iteration 8, loss = 0.26386812\n",
      "Iteration 9, loss = 0.24449572\n",
      "Iteration 10, loss = 0.22938263\n",
      "Iteration 11, loss = 0.21484941\n",
      "Iteration 12, loss = 0.20368543\n",
      "Iteration 13, loss = 0.18961015\n",
      "Iteration 14, loss = 0.17533153\n",
      "Iteration 15, loss = 0.16466357\n",
      "Iteration 16, loss = 0.15397244\n",
      "Iteration 17, loss = 0.14238549\n",
      "Iteration 18, loss = 0.13353587\n",
      "Iteration 19, loss = 0.12700758\n",
      "Iteration 20, loss = 0.11631891\n"
     ]
    },
    {
     "name": "stderr",
     "output_type": "stream",
     "text": [
      "D:\\AI\\Anaconda3\\lib\\site-packages\\sklearn\\neural_network\\_multilayer_perceptron.py:692: ConvergenceWarning: Stochastic Optimizer: Maximum iterations (20) reached and the optimization hasn't converged yet.\n",
      "  warnings.warn(\n"
     ]
    },
    {
     "name": "stdout",
     "output_type": "stream",
     "text": [
      "Iteration 1, loss = 0.68159040\n",
      "Iteration 2, loss = 0.53137276\n",
      "Iteration 3, loss = 0.44924944\n",
      "Iteration 4, loss = 0.38695609\n",
      "Iteration 5, loss = 0.34319918\n",
      "Iteration 6, loss = 0.31380525\n",
      "Iteration 7, loss = 0.28772041\n",
      "Iteration 8, loss = 0.26687796\n",
      "Iteration 9, loss = 0.24679784\n",
      "Iteration 10, loss = 0.23225254\n",
      "Iteration 11, loss = 0.21762223\n",
      "Iteration 12, loss = 0.20334903\n",
      "Iteration 13, loss = 0.19046104\n",
      "Iteration 14, loss = 0.17771050\n",
      "Iteration 15, loss = 0.16696728\n",
      "Iteration 16, loss = 0.15682672\n",
      "Iteration 17, loss = 0.14526486\n",
      "Iteration 18, loss = 0.13526172\n",
      "Iteration 19, loss = 0.12724754\n",
      "Iteration 20, loss = 0.11840864\n",
      "Iteration 1, loss = 0.67754435\n",
      "Iteration 2, loss = 0.53211998\n",
      "Iteration 3, loss = 0.45092544\n",
      "Iteration 4, loss = 0.38978396\n"
     ]
    },
    {
     "name": "stderr",
     "output_type": "stream",
     "text": [
      "D:\\AI\\Anaconda3\\lib\\site-packages\\sklearn\\neural_network\\_multilayer_perceptron.py:692: ConvergenceWarning: Stochastic Optimizer: Maximum iterations (20) reached and the optimization hasn't converged yet.\n",
      "  warnings.warn(\n"
     ]
    },
    {
     "name": "stdout",
     "output_type": "stream",
     "text": [
      "Iteration 5, loss = 0.34683892\n",
      "Iteration 6, loss = 0.31613851\n",
      "Iteration 7, loss = 0.28948442\n",
      "Iteration 8, loss = 0.26704653\n",
      "Iteration 9, loss = 0.24849413\n",
      "Iteration 10, loss = 0.23369228\n",
      "Iteration 11, loss = 0.21819714\n",
      "Iteration 12, loss = 0.20334449\n",
      "Iteration 13, loss = 0.19020028\n",
      "Iteration 14, loss = 0.17814479\n",
      "Iteration 15, loss = 0.16598862\n",
      "Iteration 16, loss = 0.15566700\n",
      "Iteration 17, loss = 0.14502656\n",
      "Iteration 18, loss = 0.13436091\n",
      "Iteration 19, loss = 0.12574656\n",
      "Iteration 20, loss = 0.11701225\n",
      "Iteration 1, loss = 0.67835308\n",
      "Iteration 2, loss = 0.53033123\n",
      "Iteration 3, loss = 0.44900371\n",
      "Iteration 4, loss = 0.38721190\n"
     ]
    },
    {
     "name": "stderr",
     "output_type": "stream",
     "text": [
      "D:\\AI\\Anaconda3\\lib\\site-packages\\sklearn\\neural_network\\_multilayer_perceptron.py:692: ConvergenceWarning: Stochastic Optimizer: Maximum iterations (20) reached and the optimization hasn't converged yet.\n",
      "  warnings.warn(\n"
     ]
    },
    {
     "name": "stdout",
     "output_type": "stream",
     "text": [
      "Iteration 5, loss = 0.34448480\n",
      "Iteration 6, loss = 0.31388050\n",
      "Iteration 7, loss = 0.28554993\n",
      "Iteration 8, loss = 0.26486532\n",
      "Iteration 9, loss = 0.24760077\n",
      "Iteration 10, loss = 0.23442790\n",
      "Iteration 11, loss = 0.21867166\n",
      "Iteration 12, loss = 0.20319976\n",
      "Iteration 13, loss = 0.19086698\n",
      "Iteration 14, loss = 0.17828470\n",
      "Iteration 15, loss = 0.16742868\n",
      "Iteration 16, loss = 0.15745563\n",
      "Iteration 17, loss = 0.14707282\n",
      "Iteration 18, loss = 0.13615839\n",
      "Iteration 19, loss = 0.12745115\n",
      "Iteration 20, loss = 0.11891811\n",
      "Iteration 1, loss = 0.67681593\n",
      "Iteration 2, loss = 0.52746725\n"
     ]
    },
    {
     "name": "stderr",
     "output_type": "stream",
     "text": [
      "D:\\AI\\Anaconda3\\lib\\site-packages\\sklearn\\neural_network\\_multilayer_perceptron.py:692: ConvergenceWarning: Stochastic Optimizer: Maximum iterations (20) reached and the optimization hasn't converged yet.\n",
      "  warnings.warn(\n"
     ]
    },
    {
     "name": "stdout",
     "output_type": "stream",
     "text": [
      "Iteration 3, loss = 0.44654876\n",
      "Iteration 4, loss = 0.38653517\n",
      "Iteration 5, loss = 0.34517011\n",
      "Iteration 6, loss = 0.31605786\n",
      "Iteration 7, loss = 0.28681189\n",
      "Iteration 8, loss = 0.26660140\n",
      "Iteration 9, loss = 0.24922049\n",
      "Iteration 10, loss = 0.23404606\n",
      "Iteration 11, loss = 0.21824920\n",
      "Iteration 12, loss = 0.20250516\n",
      "Iteration 13, loss = 0.19035965\n",
      "Iteration 14, loss = 0.17718096\n",
      "Iteration 15, loss = 0.16664770\n",
      "Iteration 16, loss = 0.15564090\n",
      "Iteration 17, loss = 0.14449724\n",
      "Iteration 18, loss = 0.13393732\n",
      "Iteration 19, loss = 0.12493289\n",
      "Iteration 20, loss = 0.11624501\n"
     ]
    },
    {
     "name": "stderr",
     "output_type": "stream",
     "text": [
      "D:\\AI\\Anaconda3\\lib\\site-packages\\sklearn\\neural_network\\_multilayer_perceptron.py:692: ConvergenceWarning: Stochastic Optimizer: Maximum iterations (20) reached and the optimization hasn't converged yet.\n",
      "  warnings.warn(\n"
     ]
    },
    {
     "name": "stdout",
     "output_type": "stream",
     "text": [
      "Iteration 1, loss = 0.67902195\n",
      "Iteration 2, loss = 0.52943189\n",
      "Iteration 3, loss = 0.44803199\n",
      "Iteration 4, loss = 0.38696834\n",
      "Iteration 5, loss = 0.34359509\n",
      "Iteration 6, loss = 0.31453139\n",
      "Iteration 7, loss = 0.28463172\n",
      "Iteration 8, loss = 0.26452598\n",
      "Iteration 9, loss = 0.24648095\n",
      "Iteration 10, loss = 0.23159731\n",
      "Iteration 11, loss = 0.21677225\n",
      "Iteration 12, loss = 0.20074599\n",
      "Iteration 13, loss = 0.18832067\n",
      "Iteration 14, loss = 0.17702228\n",
      "Iteration 15, loss = 0.16474179\n",
      "Iteration 16, loss = 0.15296631\n",
      "Iteration 17, loss = 0.14247508\n",
      "Iteration 18, loss = 0.13278360\n",
      "Iteration 19, loss = 0.12305441\n",
      "Iteration 20, loss = 0.11487527\n",
      "Iteration 1, loss = 0.67674849\n",
      "Iteration 2, loss = 0.52464167\n",
      "Iteration 3, loss = 0.44230903\n"
     ]
    },
    {
     "name": "stderr",
     "output_type": "stream",
     "text": [
      "D:\\AI\\Anaconda3\\lib\\site-packages\\sklearn\\neural_network\\_multilayer_perceptron.py:692: ConvergenceWarning: Stochastic Optimizer: Maximum iterations (20) reached and the optimization hasn't converged yet.\n",
      "  warnings.warn(\n"
     ]
    },
    {
     "name": "stdout",
     "output_type": "stream",
     "text": [
      "Iteration 4, loss = 0.38087151\n",
      "Iteration 5, loss = 0.33642353\n",
      "Iteration 6, loss = 0.30639628\n",
      "Iteration 7, loss = 0.27754119\n",
      "Iteration 8, loss = 0.25749718\n",
      "Iteration 9, loss = 0.23874890\n",
      "Iteration 10, loss = 0.22539297\n",
      "Iteration 11, loss = 0.20992171\n",
      "Iteration 12, loss = 0.19637317\n",
      "Iteration 13, loss = 0.18423768\n",
      "Iteration 14, loss = 0.17265655\n",
      "Iteration 15, loss = 0.16040412\n",
      "Iteration 16, loss = 0.15018399\n",
      "Iteration 17, loss = 0.14037121\n",
      "Iteration 18, loss = 0.13085077\n",
      "Iteration 19, loss = 0.12092987\n",
      "Iteration 20, loss = 0.11398955\n",
      "Iteration 1, loss = 0.67504167\n",
      "Iteration 2, loss = 0.52684659\n",
      "Iteration 3, loss = 0.44547710\n"
     ]
    },
    {
     "name": "stderr",
     "output_type": "stream",
     "text": [
      "D:\\AI\\Anaconda3\\lib\\site-packages\\sklearn\\neural_network\\_multilayer_perceptron.py:692: ConvergenceWarning: Stochastic Optimizer: Maximum iterations (20) reached and the optimization hasn't converged yet.\n",
      "  warnings.warn(\n"
     ]
    },
    {
     "name": "stdout",
     "output_type": "stream",
     "text": [
      "Iteration 4, loss = 0.38718402\n",
      "Iteration 5, loss = 0.34351339\n",
      "Iteration 6, loss = 0.31387321\n",
      "Iteration 7, loss = 0.28684634\n",
      "Iteration 8, loss = 0.26709650\n",
      "Iteration 9, loss = 0.24803133\n",
      "Iteration 10, loss = 0.23344589\n",
      "Iteration 11, loss = 0.21835873\n",
      "Iteration 12, loss = 0.20336849\n",
      "Iteration 13, loss = 0.19191684\n",
      "Iteration 14, loss = 0.18106343\n",
      "Iteration 15, loss = 0.16805550\n",
      "Iteration 16, loss = 0.15816616\n",
      "Iteration 17, loss = 0.14725094\n",
      "Iteration 18, loss = 0.13677909\n",
      "Iteration 19, loss = 0.12733057\n",
      "Iteration 20, loss = 0.11880311\n",
      "Iteration 1, loss = 0.67032834\n",
      "Iteration 2, loss = 0.52296678\n"
     ]
    },
    {
     "name": "stderr",
     "output_type": "stream",
     "text": [
      "D:\\AI\\Anaconda3\\lib\\site-packages\\sklearn\\neural_network\\_multilayer_perceptron.py:692: ConvergenceWarning: Stochastic Optimizer: Maximum iterations (20) reached and the optimization hasn't converged yet.\n",
      "  warnings.warn(\n"
     ]
    },
    {
     "name": "stdout",
     "output_type": "stream",
     "text": [
      "Iteration 3, loss = 0.44186991\n",
      "Iteration 4, loss = 0.38316256\n",
      "Iteration 5, loss = 0.33934663\n",
      "Iteration 6, loss = 0.30812097\n",
      "Iteration 7, loss = 0.28510737\n",
      "Iteration 8, loss = 0.26504642\n",
      "Iteration 9, loss = 0.24658203\n",
      "Iteration 10, loss = 0.23236243\n",
      "Iteration 11, loss = 0.21646734\n",
      "Iteration 12, loss = 0.20183884\n",
      "Iteration 13, loss = 0.19041630\n",
      "Iteration 14, loss = 0.17852760\n",
      "Iteration 15, loss = 0.16644212\n",
      "Iteration 16, loss = 0.15516930\n",
      "Iteration 17, loss = 0.14425850\n",
      "Iteration 18, loss = 0.13578864\n",
      "Iteration 19, loss = 0.12579189\n",
      "Iteration 20, loss = 0.11763919\n",
      "Iteration 1, loss = 0.67440946\n"
     ]
    },
    {
     "name": "stderr",
     "output_type": "stream",
     "text": [
      "D:\\AI\\Anaconda3\\lib\\site-packages\\sklearn\\neural_network\\_multilayer_perceptron.py:692: ConvergenceWarning: Stochastic Optimizer: Maximum iterations (20) reached and the optimization hasn't converged yet.\n",
      "  warnings.warn(\n"
     ]
    },
    {
     "name": "stdout",
     "output_type": "stream",
     "text": [
      "Iteration 2, loss = 0.53028310\n",
      "Iteration 3, loss = 0.44963717\n",
      "Iteration 4, loss = 0.39032437\n",
      "Iteration 5, loss = 0.34572100\n",
      "Iteration 6, loss = 0.31431517\n",
      "Iteration 7, loss = 0.28953624\n",
      "Iteration 8, loss = 0.26854295\n",
      "Iteration 9, loss = 0.25105888\n",
      "Iteration 10, loss = 0.23783111\n",
      "Iteration 11, loss = 0.22045122\n",
      "Iteration 12, loss = 0.20478310\n",
      "Iteration 13, loss = 0.19261457\n",
      "Iteration 14, loss = 0.17949896\n",
      "Iteration 15, loss = 0.16753892\n",
      "Iteration 16, loss = 0.15609960\n",
      "Iteration 17, loss = 0.14496904\n",
      "Iteration 18, loss = 0.13620965\n",
      "Iteration 19, loss = 0.12534531\n",
      "Iteration 20, loss = 0.11725486\n",
      "Iteration 1, loss = 0.76599998\n",
      "Iteration 2, loss = 0.72036917\n",
      "Iteration 3, loss = 0.68519283\n"
     ]
    },
    {
     "name": "stderr",
     "output_type": "stream",
     "text": [
      "D:\\AI\\Anaconda3\\lib\\site-packages\\sklearn\\neural_network\\_multilayer_perceptron.py:692: ConvergenceWarning: Stochastic Optimizer: Maximum iterations (20) reached and the optimization hasn't converged yet.\n",
      "  warnings.warn(\n"
     ]
    },
    {
     "name": "stdout",
     "output_type": "stream",
     "text": [
      "Iteration 4, loss = 0.65815821\n",
      "Iteration 5, loss = 0.63943828\n",
      "Iteration 6, loss = 0.62434913\n",
      "Iteration 7, loss = 0.61153544\n",
      "Iteration 8, loss = 0.60059338\n",
      "Iteration 9, loss = 0.58961504\n",
      "Iteration 10, loss = 0.58055221\n",
      "Iteration 11, loss = 0.57128166\n",
      "Iteration 12, loss = 0.56300092\n",
      "Iteration 13, loss = 0.55489233\n",
      "Iteration 14, loss = 0.54721132\n",
      "Iteration 15, loss = 0.53959609\n",
      "Iteration 16, loss = 0.53238754\n",
      "Iteration 17, loss = 0.52532120\n",
      "Iteration 18, loss = 0.51889654\n",
      "Iteration 19, loss = 0.51218214\n",
      "Iteration 20, loss = 0.50572049\n",
      "Iteration 1, loss = 0.76945616\n",
      "Iteration 2, loss = 0.72377416\n"
     ]
    },
    {
     "name": "stderr",
     "output_type": "stream",
     "text": [
      "D:\\AI\\Anaconda3\\lib\\site-packages\\sklearn\\neural_network\\_multilayer_perceptron.py:692: ConvergenceWarning: Stochastic Optimizer: Maximum iterations (20) reached and the optimization hasn't converged yet.\n",
      "  warnings.warn(\n"
     ]
    },
    {
     "name": "stdout",
     "output_type": "stream",
     "text": [
      "Iteration 3, loss = 0.68891775\n",
      "Iteration 4, loss = 0.66223026\n",
      "Iteration 5, loss = 0.64362074\n",
      "Iteration 6, loss = 0.62873892\n",
      "Iteration 7, loss = 0.61573307\n",
      "Iteration 8, loss = 0.60474294\n",
      "Iteration 9, loss = 0.59402900\n",
      "Iteration 10, loss = 0.58492361\n",
      "Iteration 11, loss = 0.57574174\n",
      "Iteration 12, loss = 0.56751901\n",
      "Iteration 13, loss = 0.55953946\n",
      "Iteration 14, loss = 0.55200814\n",
      "Iteration 15, loss = 0.54438947\n",
      "Iteration 16, loss = 0.53723826\n",
      "Iteration 17, loss = 0.53013755\n",
      "Iteration 18, loss = 0.52366322\n",
      "Iteration 19, loss = 0.51704984\n",
      "Iteration 20, loss = 0.51065953\n",
      "Iteration 1, loss = 0.76526771\n",
      "Iteration 2, loss = 0.72072123\n",
      "Iteration 3, loss = 0.68660848\n",
      "Iteration 4, loss = 0.66056012\n",
      "Iteration 5, loss = 0.64246647\n"
     ]
    },
    {
     "name": "stderr",
     "output_type": "stream",
     "text": [
      "D:\\AI\\Anaconda3\\lib\\site-packages\\sklearn\\neural_network\\_multilayer_perceptron.py:692: ConvergenceWarning: Stochastic Optimizer: Maximum iterations (20) reached and the optimization hasn't converged yet.\n",
      "  warnings.warn(\n"
     ]
    },
    {
     "name": "stdout",
     "output_type": "stream",
     "text": [
      "Iteration 6, loss = 0.62771807\n",
      "Iteration 7, loss = 0.61504895\n",
      "Iteration 8, loss = 0.60439331\n",
      "Iteration 9, loss = 0.59435747\n",
      "Iteration 10, loss = 0.58525007\n",
      "Iteration 11, loss = 0.57629911\n",
      "Iteration 12, loss = 0.56821018\n",
      "Iteration 13, loss = 0.56057022\n",
      "Iteration 14, loss = 0.55307403\n",
      "Iteration 15, loss = 0.54560969\n",
      "Iteration 16, loss = 0.53860466\n",
      "Iteration 17, loss = 0.53185271\n",
      "Iteration 18, loss = 0.52522371\n",
      "Iteration 19, loss = 0.51858157\n",
      "Iteration 20, loss = 0.51221801\n",
      "Iteration 1, loss = 0.76667758\n",
      "Iteration 2, loss = 0.72131855\n",
      "Iteration 3, loss = 0.68637852\n",
      "Iteration 4, loss = 0.65969103\n",
      "Iteration 5, loss = 0.64099846\n"
     ]
    },
    {
     "name": "stderr",
     "output_type": "stream",
     "text": [
      "D:\\AI\\Anaconda3\\lib\\site-packages\\sklearn\\neural_network\\_multilayer_perceptron.py:692: ConvergenceWarning: Stochastic Optimizer: Maximum iterations (20) reached and the optimization hasn't converged yet.\n",
      "  warnings.warn(\n"
     ]
    },
    {
     "name": "stdout",
     "output_type": "stream",
     "text": [
      "Iteration 6, loss = 0.62565365\n",
      "Iteration 7, loss = 0.61249589\n",
      "Iteration 8, loss = 0.60138374\n",
      "Iteration 9, loss = 0.59111672\n",
      "Iteration 10, loss = 0.58163833\n",
      "Iteration 11, loss = 0.57236232\n",
      "Iteration 12, loss = 0.56395826\n",
      "Iteration 13, loss = 0.55612366\n",
      "Iteration 14, loss = 0.54843119\n",
      "Iteration 15, loss = 0.54063070\n",
      "Iteration 16, loss = 0.53345255\n",
      "Iteration 17, loss = 0.52643217\n",
      "Iteration 18, loss = 0.51966706\n",
      "Iteration 19, loss = 0.51302852\n",
      "Iteration 20, loss = 0.50657589\n",
      "Iteration 1, loss = 0.76569474\n",
      "Iteration 2, loss = 0.71886161\n",
      "Iteration 3, loss = 0.68412665\n"
     ]
    },
    {
     "name": "stderr",
     "output_type": "stream",
     "text": [
      "D:\\AI\\Anaconda3\\lib\\site-packages\\sklearn\\neural_network\\_multilayer_perceptron.py:692: ConvergenceWarning: Stochastic Optimizer: Maximum iterations (20) reached and the optimization hasn't converged yet.\n",
      "  warnings.warn(\n"
     ]
    },
    {
     "name": "stdout",
     "output_type": "stream",
     "text": [
      "Iteration 4, loss = 0.65732059\n",
      "Iteration 5, loss = 0.63889280\n",
      "Iteration 6, loss = 0.62360411\n",
      "Iteration 7, loss = 0.61058836\n",
      "Iteration 8, loss = 0.59936919\n",
      "Iteration 9, loss = 0.58930940\n",
      "Iteration 10, loss = 0.57981422\n",
      "Iteration 11, loss = 0.57048817\n",
      "Iteration 12, loss = 0.56203298\n",
      "Iteration 13, loss = 0.55441767\n",
      "Iteration 14, loss = 0.54635578\n",
      "Iteration 15, loss = 0.53874238\n",
      "Iteration 16, loss = 0.53156071\n",
      "Iteration 17, loss = 0.52481614\n",
      "Iteration 18, loss = 0.51810308\n",
      "Iteration 19, loss = 0.51151122\n",
      "Iteration 20, loss = 0.50483945\n",
      "Iteration 1, loss = 0.76743492\n"
     ]
    },
    {
     "name": "stderr",
     "output_type": "stream",
     "text": [
      "D:\\AI\\Anaconda3\\lib\\site-packages\\sklearn\\neural_network\\_multilayer_perceptron.py:692: ConvergenceWarning: Stochastic Optimizer: Maximum iterations (20) reached and the optimization hasn't converged yet.\n",
      "  warnings.warn(\n"
     ]
    },
    {
     "name": "stdout",
     "output_type": "stream",
     "text": [
      "Iteration 2, loss = 0.72113022\n",
      "Iteration 3, loss = 0.68660471\n",
      "Iteration 4, loss = 0.65987992\n",
      "Iteration 5, loss = 0.64132039\n",
      "Iteration 6, loss = 0.62611768\n",
      "Iteration 7, loss = 0.61339318\n",
      "Iteration 8, loss = 0.60229411\n",
      "Iteration 9, loss = 0.59236200\n",
      "Iteration 10, loss = 0.58310050\n",
      "Iteration 11, loss = 0.57401496\n",
      "Iteration 12, loss = 0.56570936\n",
      "Iteration 13, loss = 0.55827668\n",
      "Iteration 14, loss = 0.55012288\n",
      "Iteration 15, loss = 0.54266487\n",
      "Iteration 16, loss = 0.53553610\n",
      "Iteration 17, loss = 0.52863035\n",
      "Iteration 18, loss = 0.52211411\n",
      "Iteration 19, loss = 0.51541468\n",
      "Iteration 20, loss = 0.50883744\n",
      "Iteration 1, loss = 0.76914880\n",
      "Iteration 2, loss = 0.72081527\n",
      "Iteration 3, loss = 0.68445761\n",
      "Iteration 4, loss = 0.65704582\n"
     ]
    },
    {
     "name": "stderr",
     "output_type": "stream",
     "text": [
      "D:\\AI\\Anaconda3\\lib\\site-packages\\sklearn\\neural_network\\_multilayer_perceptron.py:692: ConvergenceWarning: Stochastic Optimizer: Maximum iterations (20) reached and the optimization hasn't converged yet.\n",
      "  warnings.warn(\n"
     ]
    },
    {
     "name": "stdout",
     "output_type": "stream",
     "text": [
      "Iteration 5, loss = 0.63809559\n",
      "Iteration 6, loss = 0.62272954\n",
      "Iteration 7, loss = 0.60968849\n",
      "Iteration 8, loss = 0.59842060\n",
      "Iteration 9, loss = 0.58811207\n",
      "Iteration 10, loss = 0.57885313\n",
      "Iteration 11, loss = 0.56972288\n",
      "Iteration 12, loss = 0.56153670\n",
      "Iteration 13, loss = 0.55388720\n",
      "Iteration 14, loss = 0.54581277\n",
      "Iteration 15, loss = 0.53819633\n",
      "Iteration 16, loss = 0.53130363\n",
      "Iteration 17, loss = 0.52417014\n",
      "Iteration 18, loss = 0.51780012\n",
      "Iteration 19, loss = 0.51130782\n",
      "Iteration 20, loss = 0.50474925\n",
      "Iteration 1, loss = 0.76429810\n"
     ]
    },
    {
     "name": "stderr",
     "output_type": "stream",
     "text": [
      "D:\\AI\\Anaconda3\\lib\\site-packages\\sklearn\\neural_network\\_multilayer_perceptron.py:692: ConvergenceWarning: Stochastic Optimizer: Maximum iterations (20) reached and the optimization hasn't converged yet.\n",
      "  warnings.warn(\n"
     ]
    },
    {
     "name": "stdout",
     "output_type": "stream",
     "text": [
      "Iteration 2, loss = 0.71939819\n",
      "Iteration 3, loss = 0.68495437\n",
      "Iteration 4, loss = 0.65961443\n",
      "Iteration 5, loss = 0.64091969\n",
      "Iteration 6, loss = 0.62588171\n",
      "Iteration 7, loss = 0.61296949\n",
      "Iteration 8, loss = 0.60173165\n",
      "Iteration 9, loss = 0.59145746\n",
      "Iteration 10, loss = 0.58210574\n",
      "Iteration 11, loss = 0.57296175\n",
      "Iteration 12, loss = 0.56462764\n",
      "Iteration 13, loss = 0.55689730\n",
      "Iteration 14, loss = 0.54907657\n",
      "Iteration 15, loss = 0.54127462\n",
      "Iteration 16, loss = 0.53478873\n",
      "Iteration 17, loss = 0.52735321\n",
      "Iteration 18, loss = 0.52064545\n",
      "Iteration 19, loss = 0.51408954\n",
      "Iteration 20, loss = 0.50762354\n",
      "Iteration 1, loss = 0.76277752\n",
      "Iteration 2, loss = 0.71657427\n",
      "Iteration 3, loss = 0.68145486\n",
      "Iteration 4, loss = 0.65536191\n"
     ]
    },
    {
     "name": "stderr",
     "output_type": "stream",
     "text": [
      "D:\\AI\\Anaconda3\\lib\\site-packages\\sklearn\\neural_network\\_multilayer_perceptron.py:692: ConvergenceWarning: Stochastic Optimizer: Maximum iterations (20) reached and the optimization hasn't converged yet.\n",
      "  warnings.warn(\n"
     ]
    },
    {
     "name": "stdout",
     "output_type": "stream",
     "text": [
      "Iteration 5, loss = 0.63674519\n",
      "Iteration 6, loss = 0.62147198\n",
      "Iteration 7, loss = 0.60886297\n",
      "Iteration 8, loss = 0.59759163\n",
      "Iteration 9, loss = 0.58762275\n",
      "Iteration 10, loss = 0.57819197\n",
      "Iteration 11, loss = 0.56910725\n",
      "Iteration 12, loss = 0.56101380\n",
      "Iteration 13, loss = 0.55293161\n",
      "Iteration 14, loss = 0.54575766\n",
      "Iteration 15, loss = 0.53792559\n",
      "Iteration 16, loss = 0.53038765\n",
      "Iteration 17, loss = 0.52361522\n",
      "Iteration 18, loss = 0.51655492\n",
      "Iteration 19, loss = 0.51016688\n",
      "Iteration 20, loss = 0.50368836\n",
      "Iteration 1, loss = 0.76278276\n",
      "Iteration 2, loss = 0.71938457\n",
      "Iteration 3, loss = 0.68546399\n",
      "Iteration 4, loss = 0.66019486\n",
      "Iteration 5, loss = 0.64209549\n",
      "Iteration 6, loss = 0.62718915\n",
      "Iteration 7, loss = 0.61460203\n",
      "Iteration 8, loss = 0.60360842\n"
     ]
    },
    {
     "name": "stderr",
     "output_type": "stream",
     "text": [
      "D:\\AI\\Anaconda3\\lib\\site-packages\\sklearn\\neural_network\\_multilayer_perceptron.py:692: ConvergenceWarning: Stochastic Optimizer: Maximum iterations (20) reached and the optimization hasn't converged yet.\n",
      "  warnings.warn(\n"
     ]
    },
    {
     "name": "stdout",
     "output_type": "stream",
     "text": [
      "Iteration 9, loss = 0.59366523\n",
      "Iteration 10, loss = 0.58434402\n",
      "Iteration 11, loss = 0.57544561\n",
      "Iteration 12, loss = 0.56746702\n",
      "Iteration 13, loss = 0.55955994\n",
      "Iteration 14, loss = 0.55220091\n",
      "Iteration 15, loss = 0.54482097\n",
      "Iteration 16, loss = 0.53743594\n",
      "Iteration 17, loss = 0.53096940\n",
      "Iteration 18, loss = 0.52406716\n",
      "Iteration 19, loss = 0.51780762\n",
      "Iteration 20, loss = 0.51138550\n"
     ]
    },
    {
     "name": "stderr",
     "output_type": "stream",
     "text": [
      "D:\\AI\\Anaconda3\\lib\\site-packages\\sklearn\\neural_network\\_multilayer_perceptron.py:692: ConvergenceWarning: Stochastic Optimizer: Maximum iterations (20) reached and the optimization hasn't converged yet.\n",
      "  warnings.warn(\n",
      "D:\\AI\\Anaconda3\\lib\\site-packages\\sklearn\\neural_network\\_multilayer_perceptron.py:549: ConvergenceWarning: lbfgs failed to converge (status=1):\n",
      "STOP: TOTAL NO. of ITERATIONS REACHED LIMIT.\n",
      "\n",
      "Increase the number of iterations (max_iter) or scale the data as shown in:\n",
      "    https://scikit-learn.org/stable/modules/preprocessing.html\n",
      "  self.n_iter_ = _check_optimize_result(\"lbfgs\", opt_res, self.max_iter)\n",
      "D:\\AI\\Anaconda3\\lib\\site-packages\\sklearn\\neural_network\\_multilayer_perceptron.py:549: ConvergenceWarning: lbfgs failed to converge (status=1):\n",
      "STOP: TOTAL NO. of ITERATIONS REACHED LIMIT.\n",
      "\n",
      "Increase the number of iterations (max_iter) or scale the data as shown in:\n",
      "    https://scikit-learn.org/stable/modules/preprocessing.html\n",
      "  self.n_iter_ = _check_optimize_result(\"lbfgs\", opt_res, self.max_iter)\n",
      "D:\\AI\\Anaconda3\\lib\\site-packages\\sklearn\\neural_network\\_multilayer_perceptron.py:549: ConvergenceWarning: lbfgs failed to converge (status=1):\n",
      "STOP: TOTAL NO. of ITERATIONS REACHED LIMIT.\n",
      "\n",
      "Increase the number of iterations (max_iter) or scale the data as shown in:\n",
      "    https://scikit-learn.org/stable/modules/preprocessing.html\n",
      "  self.n_iter_ = _check_optimize_result(\"lbfgs\", opt_res, self.max_iter)\n",
      "D:\\AI\\Anaconda3\\lib\\site-packages\\sklearn\\neural_network\\_multilayer_perceptron.py:549: ConvergenceWarning: lbfgs failed to converge (status=1):\n",
      "STOP: TOTAL NO. of ITERATIONS REACHED LIMIT.\n",
      "\n",
      "Increase the number of iterations (max_iter) or scale the data as shown in:\n",
      "    https://scikit-learn.org/stable/modules/preprocessing.html\n",
      "  self.n_iter_ = _check_optimize_result(\"lbfgs\", opt_res, self.max_iter)\n",
      "D:\\AI\\Anaconda3\\lib\\site-packages\\sklearn\\neural_network\\_multilayer_perceptron.py:549: ConvergenceWarning: lbfgs failed to converge (status=1):\n",
      "STOP: TOTAL NO. of ITERATIONS REACHED LIMIT.\n",
      "\n",
      "Increase the number of iterations (max_iter) or scale the data as shown in:\n",
      "    https://scikit-learn.org/stable/modules/preprocessing.html\n",
      "  self.n_iter_ = _check_optimize_result(\"lbfgs\", opt_res, self.max_iter)\n",
      "D:\\AI\\Anaconda3\\lib\\site-packages\\sklearn\\neural_network\\_multilayer_perceptron.py:549: ConvergenceWarning: lbfgs failed to converge (status=1):\n",
      "STOP: TOTAL NO. of ITERATIONS REACHED LIMIT.\n",
      "\n",
      "Increase the number of iterations (max_iter) or scale the data as shown in:\n",
      "    https://scikit-learn.org/stable/modules/preprocessing.html\n",
      "  self.n_iter_ = _check_optimize_result(\"lbfgs\", opt_res, self.max_iter)\n",
      "D:\\AI\\Anaconda3\\lib\\site-packages\\sklearn\\neural_network\\_multilayer_perceptron.py:549: ConvergenceWarning: lbfgs failed to converge (status=1):\n",
      "STOP: TOTAL NO. of ITERATIONS REACHED LIMIT.\n",
      "\n",
      "Increase the number of iterations (max_iter) or scale the data as shown in:\n",
      "    https://scikit-learn.org/stable/modules/preprocessing.html\n",
      "  self.n_iter_ = _check_optimize_result(\"lbfgs\", opt_res, self.max_iter)\n",
      "D:\\AI\\Anaconda3\\lib\\site-packages\\sklearn\\neural_network\\_multilayer_perceptron.py:549: ConvergenceWarning: lbfgs failed to converge (status=1):\n",
      "STOP: TOTAL NO. of ITERATIONS REACHED LIMIT.\n",
      "\n",
      "Increase the number of iterations (max_iter) or scale the data as shown in:\n",
      "    https://scikit-learn.org/stable/modules/preprocessing.html\n",
      "  self.n_iter_ = _check_optimize_result(\"lbfgs\", opt_res, self.max_iter)\n",
      "D:\\AI\\Anaconda3\\lib\\site-packages\\sklearn\\neural_network\\_multilayer_perceptron.py:549: ConvergenceWarning: lbfgs failed to converge (status=1):\n",
      "STOP: TOTAL NO. of ITERATIONS REACHED LIMIT.\n",
      "\n",
      "Increase the number of iterations (max_iter) or scale the data as shown in:\n",
      "    https://scikit-learn.org/stable/modules/preprocessing.html\n",
      "  self.n_iter_ = _check_optimize_result(\"lbfgs\", opt_res, self.max_iter)\n",
      "D:\\AI\\Anaconda3\\lib\\site-packages\\sklearn\\neural_network\\_multilayer_perceptron.py:549: ConvergenceWarning: lbfgs failed to converge (status=1):\n",
      "STOP: TOTAL NO. of ITERATIONS REACHED LIMIT.\n",
      "\n",
      "Increase the number of iterations (max_iter) or scale the data as shown in:\n",
      "    https://scikit-learn.org/stable/modules/preprocessing.html\n",
      "  self.n_iter_ = _check_optimize_result(\"lbfgs\", opt_res, self.max_iter)\n"
     ]
    },
    {
     "name": "stdout",
     "output_type": "stream",
     "text": [
      "Iteration 1, loss = 0.93756338\n",
      "Iteration 2, loss = 0.91641830\n",
      "Iteration 3, loss = 0.90030791\n",
      "Iteration 4, loss = 0.88814095\n",
      "Iteration 5, loss = 0.87854871\n",
      "Iteration 6, loss = 0.87097521\n",
      "Iteration 7, loss = 0.86450733\n",
      "Iteration 8, loss = 0.85879618\n",
      "Iteration 9, loss = 0.85371953\n",
      "Iteration 10, loss = 0.84894403\n",
      "Iteration 11, loss = 0.84442694\n",
      "Iteration 12, loss = 0.84017378\n",
      "Iteration 13, loss = 0.83596231\n",
      "Iteration 14, loss = 0.83184921\n",
      "Iteration 15, loss = 0.82787582\n",
      "Iteration 16, loss = 0.82393708\n",
      "Iteration 17, loss = 0.82008224\n",
      "Iteration 18, loss = 0.81625833\n",
      "Iteration 19, loss = 0.81248866\n",
      "Iteration 20, loss = 0.80870125\n",
      "Iteration 1, loss = 0.93280495\n",
      "Iteration 2, loss = 0.91178065\n",
      "Iteration 3, loss = 0.89567624\n",
      "Iteration 4, loss = 0.88354159\n",
      "Iteration 5, loss = 0.87401917\n",
      "Iteration 6, loss = 0.86645759\n",
      "Iteration 7, loss = 0.85999778\n",
      "Iteration 8, loss = 0.85432563\n",
      "Iteration 9, loss = 0.84930402\n",
      "Iteration 10, loss = 0.84463804\n",
      "Iteration 11, loss = 0.84018764\n"
     ]
    },
    {
     "name": "stderr",
     "output_type": "stream",
     "text": [
      "D:\\AI\\Anaconda3\\lib\\site-packages\\sklearn\\neural_network\\_multilayer_perceptron.py:692: ConvergenceWarning: Stochastic Optimizer: Maximum iterations (20) reached and the optimization hasn't converged yet.\n",
      "  warnings.warn(\n"
     ]
    },
    {
     "name": "stdout",
     "output_type": "stream",
     "text": [
      "Iteration 12, loss = 0.83596873\n",
      "Iteration 13, loss = 0.83185580\n",
      "Iteration 14, loss = 0.82781829\n",
      "Iteration 15, loss = 0.82391845\n",
      "Iteration 16, loss = 0.82006803\n",
      "Iteration 17, loss = 0.81628601\n",
      "Iteration 18, loss = 0.81254920\n",
      "Iteration 19, loss = 0.80886762\n",
      "Iteration 20, loss = 0.80520180\n",
      "Iteration 1, loss = 0.92815928\n",
      "Iteration 2, loss = 0.90750841\n",
      "Iteration 3, loss = 0.89179822\n",
      "Iteration 4, loss = 0.87997032\n",
      "Iteration 5, loss = 0.87058650\n",
      "Iteration 6, loss = 0.86320803\n",
      "Iteration 7, loss = 0.85686604\n",
      "Iteration 8, loss = 0.85128157\n",
      "Iteration 9, loss = 0.84633217\n",
      "Iteration 10, loss = 0.84173292\n",
      "Iteration 11, loss = 0.83736161\n",
      "Iteration 12, loss = 0.83317954\n",
      "Iteration 13, loss = 0.82911868\n",
      "Iteration 14, loss = 0.82513785\n",
      "Iteration 15, loss = 0.82125503\n",
      "Iteration 16, loss = 0.81744538\n",
      "Iteration 17, loss = 0.81368680\n",
      "Iteration 18, loss = 0.80994396\n",
      "Iteration 19, loss = 0.80624492\n"
     ]
    },
    {
     "name": "stderr",
     "output_type": "stream",
     "text": [
      "D:\\AI\\Anaconda3\\lib\\site-packages\\sklearn\\neural_network\\_multilayer_perceptron.py:692: ConvergenceWarning: Stochastic Optimizer: Maximum iterations (20) reached and the optimization hasn't converged yet.\n",
      "  warnings.warn(\n",
      "D:\\AI\\Anaconda3\\lib\\site-packages\\sklearn\\neural_network\\_multilayer_perceptron.py:692: ConvergenceWarning: Stochastic Optimizer: Maximum iterations (20) reached and the optimization hasn't converged yet.\n",
      "  warnings.warn(\n"
     ]
    },
    {
     "name": "stdout",
     "output_type": "stream",
     "text": [
      "Iteration 20, loss = 0.80251787\n",
      "Iteration 1, loss = 0.93654129\n",
      "Iteration 2, loss = 0.91524440\n",
      "Iteration 3, loss = 0.89910368\n",
      "Iteration 4, loss = 0.88697169\n",
      "Iteration 5, loss = 0.87734662\n",
      "Iteration 6, loss = 0.86975279\n",
      "Iteration 7, loss = 0.86327169\n",
      "Iteration 8, loss = 0.85756326\n",
      "Iteration 9, loss = 0.85249835\n",
      "Iteration 10, loss = 0.84777744\n",
      "Iteration 11, loss = 0.84333747\n",
      "Iteration 12, loss = 0.83905794\n",
      "Iteration 13, loss = 0.83488704\n",
      "Iteration 14, loss = 0.83084542\n",
      "Iteration 15, loss = 0.82684375\n",
      "Iteration 16, loss = 0.82297840\n",
      "Iteration 17, loss = 0.81912231\n",
      "Iteration 18, loss = 0.81533115\n",
      "Iteration 19, loss = 0.81154946\n",
      "Iteration 20, loss = 0.80781503\n",
      "Iteration 1, loss = 0.92778340\n",
      "Iteration 2, loss = 0.90696391\n",
      "Iteration 3, loss = 0.89120036\n",
      "Iteration 4, loss = 0.87938551\n",
      "Iteration 5, loss = 0.86991228\n",
      "Iteration 6, loss = 0.86255065\n",
      "Iteration 7, loss = 0.85619186\n",
      "Iteration 8, loss = 0.85068134\n",
      "Iteration 9, loss = 0.84573306\n",
      "Iteration 10, loss = 0.84118485\n",
      "Iteration 11, loss = 0.83682497\n",
      "Iteration 12, loss = 0.83266307\n",
      "Iteration 13, loss = 0.82857093\n",
      "Iteration 14, loss = 0.82459299\n"
     ]
    },
    {
     "name": "stderr",
     "output_type": "stream",
     "text": [
      "D:\\AI\\Anaconda3\\lib\\site-packages\\sklearn\\neural_network\\_multilayer_perceptron.py:692: ConvergenceWarning: Stochastic Optimizer: Maximum iterations (20) reached and the optimization hasn't converged yet.\n",
      "  warnings.warn(\n",
      "D:\\AI\\Anaconda3\\lib\\site-packages\\sklearn\\neural_network\\_multilayer_perceptron.py:692: ConvergenceWarning: Stochastic Optimizer: Maximum iterations (20) reached and the optimization hasn't converged yet.\n",
      "  warnings.warn(\n"
     ]
    },
    {
     "name": "stdout",
     "output_type": "stream",
     "text": [
      "Iteration 15, loss = 0.82062475\n",
      "Iteration 16, loss = 0.81672767\n",
      "Iteration 17, loss = 0.81277082\n",
      "Iteration 18, loss = 0.80878984\n",
      "Iteration 19, loss = 0.80464223\n",
      "Iteration 20, loss = 0.80035772\n",
      "Iteration 1, loss = 0.93307849\n",
      "Iteration 2, loss = 0.91218963\n",
      "Iteration 3, loss = 0.89622186\n",
      "Iteration 4, loss = 0.88429558\n",
      "Iteration 5, loss = 0.87477537\n",
      "Iteration 6, loss = 0.86730823\n",
      "Iteration 7, loss = 0.86085668\n",
      "Iteration 8, loss = 0.85533414\n",
      "Iteration 9, loss = 0.85025128\n",
      "Iteration 10, loss = 0.84564403\n",
      "Iteration 11, loss = 0.84122303\n",
      "Iteration 12, loss = 0.83696350\n",
      "Iteration 13, loss = 0.83282405\n",
      "Iteration 14, loss = 0.82880987\n",
      "Iteration 15, loss = 0.82476196\n",
      "Iteration 16, loss = 0.82088101\n",
      "Iteration 17, loss = 0.81691577\n",
      "Iteration 18, loss = 0.81302479\n",
      "Iteration 19, loss = 0.80901845\n",
      "Iteration 20, loss = 0.80493339\n",
      "Iteration 1, loss = 0.93714572\n",
      "Iteration 2, loss = 0.91607122\n",
      "Iteration 3, loss = 0.89995574\n",
      "Iteration 4, loss = 0.88787833\n",
      "Iteration 5, loss = 0.87816133\n",
      "Iteration 6, loss = 0.87057349\n",
      "Iteration 7, loss = 0.86398331\n",
      "Iteration 8, loss = 0.85841816\n",
      "Iteration 9, loss = 0.85324242\n"
     ]
    },
    {
     "name": "stderr",
     "output_type": "stream",
     "text": [
      "D:\\AI\\Anaconda3\\lib\\site-packages\\sklearn\\neural_network\\_multilayer_perceptron.py:692: ConvergenceWarning: Stochastic Optimizer: Maximum iterations (20) reached and the optimization hasn't converged yet.\n",
      "  warnings.warn(\n"
     ]
    },
    {
     "name": "stdout",
     "output_type": "stream",
     "text": [
      "Iteration 10, loss = 0.84857904\n",
      "Iteration 11, loss = 0.84411083\n",
      "Iteration 12, loss = 0.83978755\n",
      "Iteration 13, loss = 0.83562610\n",
      "Iteration 14, loss = 0.83156695\n",
      "Iteration 15, loss = 0.82749669\n",
      "Iteration 16, loss = 0.82358772\n",
      "Iteration 17, loss = 0.81963208\n",
      "Iteration 18, loss = 0.81581567\n",
      "Iteration 19, loss = 0.81189350\n",
      "Iteration 20, loss = 0.80797610\n",
      "Iteration 1, loss = 0.94162376\n",
      "Iteration 2, loss = 0.92022275\n",
      "Iteration 3, loss = 0.90384642\n"
     ]
    },
    {
     "name": "stderr",
     "output_type": "stream",
     "text": [
      "D:\\AI\\Anaconda3\\lib\\site-packages\\sklearn\\neural_network\\_multilayer_perceptron.py:692: ConvergenceWarning: Stochastic Optimizer: Maximum iterations (20) reached and the optimization hasn't converged yet.\n",
      "  warnings.warn(\n",
      "D:\\AI\\Anaconda3\\lib\\site-packages\\sklearn\\neural_network\\_multilayer_perceptron.py:692: ConvergenceWarning: Stochastic Optimizer: Maximum iterations (20) reached and the optimization hasn't converged yet.\n",
      "  warnings.warn(\n"
     ]
    },
    {
     "name": "stdout",
     "output_type": "stream",
     "text": [
      "Iteration 4, loss = 0.89159116\n",
      "Iteration 5, loss = 0.88185796\n",
      "Iteration 6, loss = 0.87419934\n",
      "Iteration 7, loss = 0.86756487\n",
      "Iteration 8, loss = 0.86192898\n",
      "Iteration 9, loss = 0.85670715\n",
      "Iteration 10, loss = 0.85195562\n",
      "Iteration 11, loss = 0.84740566\n",
      "Iteration 12, loss = 0.84303583\n",
      "Iteration 13, loss = 0.83882399\n",
      "Iteration 14, loss = 0.83470861\n",
      "Iteration 15, loss = 0.83059246\n",
      "Iteration 16, loss = 0.82664649\n",
      "Iteration 17, loss = 0.82266463\n",
      "Iteration 18, loss = 0.81880198\n",
      "Iteration 19, loss = 0.81490229\n",
      "Iteration 20, loss = 0.81099080\n",
      "Iteration 1, loss = 0.93283344\n",
      "Iteration 2, loss = 0.91197374\n",
      "Iteration 3, loss = 0.89607586\n",
      "Iteration 4, loss = 0.88375024\n",
      "Iteration 5, loss = 0.87446541\n",
      "Iteration 6, loss = 0.86681499\n",
      "Iteration 7, loss = 0.86035372\n",
      "Iteration 8, loss = 0.85481731\n",
      "Iteration 9, loss = 0.84978592\n",
      "Iteration 10, loss = 0.84515964\n",
      "Iteration 11, loss = 0.84065192\n",
      "Iteration 12, loss = 0.83648873\n",
      "Iteration 13, loss = 0.83238774\n",
      "Iteration 14, loss = 0.82841842\n",
      "Iteration 15, loss = 0.82444076\n",
      "Iteration 16, loss = 0.82057692\n",
      "Iteration 17, loss = 0.81678445\n",
      "Iteration 18, loss = 0.81297625\n",
      "Iteration 19, loss = 0.80921945\n",
      "Iteration 20, loss = 0.80545703\n",
      "Iteration 1, loss = 0.93359453\n",
      "Iteration 2, loss = 0.91283167\n",
      "Iteration 3, loss = 0.89700268\n",
      "Iteration 4, loss = 0.88477945\n",
      "Iteration 5, loss = 0.87550421\n",
      "Iteration 6, loss = 0.86780626\n",
      "Iteration 7, loss = 0.86138848\n",
      "Iteration 8, loss = 0.85582806\n",
      "Iteration 9, loss = 0.85076463\n",
      "Iteration 10, loss = 0.84611866\n",
      "Iteration 11, loss = 0.84160597\n",
      "Iteration 12, loss = 0.83742160\n",
      "Iteration 13, loss = 0.83330962\n",
      "Iteration 14, loss = 0.82931910\n",
      "Iteration 15, loss = 0.82532886\n",
      "Iteration 16, loss = 0.82147404\n",
      "Iteration 17, loss = 0.81767155\n",
      "Iteration 18, loss = 0.81383975\n",
      "Iteration 19, loss = 0.81010167\n"
     ]
    },
    {
     "name": "stderr",
     "output_type": "stream",
     "text": [
      "D:\\AI\\Anaconda3\\lib\\site-packages\\sklearn\\neural_network\\_multilayer_perceptron.py:692: ConvergenceWarning: Stochastic Optimizer: Maximum iterations (20) reached and the optimization hasn't converged yet.\n",
      "  warnings.warn(\n"
     ]
    },
    {
     "name": "stdout",
     "output_type": "stream",
     "text": [
      "Iteration 20, loss = 0.80634451\n",
      "Iteration 1, loss = 0.93286394\n",
      "Iteration 2, loss = 0.88286103\n",
      "Iteration 3, loss = 0.83909672\n",
      "Iteration 4, loss = 0.80810681\n",
      "Iteration 5, loss = 0.78695161\n",
      "Iteration 6, loss = 0.77324409\n",
      "Iteration 7, loss = 0.76373737\n",
      "Iteration 8, loss = 0.75648103\n",
      "Iteration 9, loss = 0.75073430\n",
      "Iteration 10, loss = 0.74537991\n",
      "Iteration 11, loss = 0.74037968\n",
      "Iteration 12, loss = 0.73561904\n",
      "Iteration 13, loss = 0.73080499\n",
      "Iteration 14, loss = 0.72603458\n",
      "Iteration 15, loss = 0.72129206\n",
      "Iteration 16, loss = 0.71691083\n",
      "Iteration 17, loss = 0.71253857\n",
      "Iteration 18, loss = 0.70789933\n"
     ]
    },
    {
     "name": "stderr",
     "output_type": "stream",
     "text": [
      "D:\\AI\\Anaconda3\\lib\\site-packages\\sklearn\\neural_network\\_multilayer_perceptron.py:692: ConvergenceWarning: Stochastic Optimizer: Maximum iterations (20) reached and the optimization hasn't converged yet.\n",
      "  warnings.warn(\n"
     ]
    },
    {
     "name": "stdout",
     "output_type": "stream",
     "text": [
      "Iteration 19, loss = 0.70348923\n",
      "Iteration 20, loss = 0.69889725\n",
      "Iteration 1, loss = 0.92815093\n",
      "Iteration 2, loss = 0.87814106\n",
      "Iteration 3, loss = 0.83460540\n",
      "Iteration 4, loss = 0.80405882\n",
      "Iteration 5, loss = 0.78353065\n",
      "Iteration 6, loss = 0.77038665\n",
      "Iteration 7, loss = 0.76128777\n",
      "Iteration 8, loss = 0.75441691\n",
      "Iteration 9, loss = 0.74901603\n",
      "Iteration 10, loss = 0.74409855\n",
      "Iteration 11, loss = 0.73944042\n",
      "Iteration 12, loss = 0.73498126\n",
      "Iteration 13, loss = 0.73056723\n",
      "Iteration 14, loss = 0.72626231\n",
      "Iteration 15, loss = 0.72193045\n",
      "Iteration 16, loss = 0.71788773\n",
      "Iteration 17, loss = 0.71392661\n",
      "Iteration 18, loss = 0.70993352\n"
     ]
    },
    {
     "name": "stderr",
     "output_type": "stream",
     "text": [
      "D:\\AI\\Anaconda3\\lib\\site-packages\\sklearn\\neural_network\\_multilayer_perceptron.py:692: ConvergenceWarning: Stochastic Optimizer: Maximum iterations (20) reached and the optimization hasn't converged yet.\n",
      "  warnings.warn(\n"
     ]
    },
    {
     "name": "stdout",
     "output_type": "stream",
     "text": [
      "Iteration 19, loss = 0.70589670\n",
      "Iteration 20, loss = 0.70167683\n",
      "Iteration 1, loss = 0.92398517\n",
      "Iteration 2, loss = 0.87608125\n",
      "Iteration 3, loss = 0.83405202\n",
      "Iteration 4, loss = 0.80442918\n",
      "Iteration 5, loss = 0.78394597\n",
      "Iteration 6, loss = 0.77093495\n",
      "Iteration 7, loss = 0.76169856\n",
      "Iteration 8, loss = 0.75470822\n",
      "Iteration 9, loss = 0.74922970\n",
      "Iteration 10, loss = 0.74429621\n",
      "Iteration 11, loss = 0.73961247\n",
      "Iteration 12, loss = 0.73510617\n",
      "Iteration 13, loss = 0.73071572\n",
      "Iteration 14, loss = 0.72641689\n",
      "Iteration 15, loss = 0.72208306\n",
      "Iteration 16, loss = 0.71822171\n",
      "Iteration 17, loss = 0.71442854\n",
      "Iteration 18, loss = 0.71054797\n",
      "Iteration 19, loss = 0.70677290\n",
      "Iteration 20, loss = 0.70280848\n",
      "Iteration 1, loss = 0.93176515\n"
     ]
    },
    {
     "name": "stderr",
     "output_type": "stream",
     "text": [
      "D:\\AI\\Anaconda3\\lib\\site-packages\\sklearn\\neural_network\\_multilayer_perceptron.py:692: ConvergenceWarning: Stochastic Optimizer: Maximum iterations (20) reached and the optimization hasn't converged yet.\n",
      "  warnings.warn(\n",
      "D:\\AI\\Anaconda3\\lib\\site-packages\\sklearn\\neural_network\\_multilayer_perceptron.py:692: ConvergenceWarning: Stochastic Optimizer: Maximum iterations (20) reached and the optimization hasn't converged yet.\n",
      "  warnings.warn(\n"
     ]
    },
    {
     "name": "stdout",
     "output_type": "stream",
     "text": [
      "Iteration 2, loss = 0.88132781\n",
      "Iteration 3, loss = 0.83751652\n",
      "Iteration 4, loss = 0.80675798\n",
      "Iteration 5, loss = 0.78555437\n",
      "Iteration 6, loss = 0.77212679\n",
      "Iteration 7, loss = 0.76281966\n",
      "Iteration 8, loss = 0.75568248\n",
      "Iteration 9, loss = 0.75006416\n",
      "Iteration 10, loss = 0.74496412\n",
      "Iteration 11, loss = 0.74020621\n",
      "Iteration 12, loss = 0.73557257\n",
      "Iteration 13, loss = 0.73100334\n",
      "Iteration 14, loss = 0.72659496\n",
      "Iteration 15, loss = 0.72207643\n",
      "Iteration 16, loss = 0.71787684\n",
      "Iteration 17, loss = 0.71383004\n",
      "Iteration 18, loss = 0.70969021\n",
      "Iteration 19, loss = 0.70551267\n",
      "Iteration 20, loss = 0.70130129\n",
      "Iteration 1, loss = 0.92336104\n",
      "Iteration 2, loss = 0.87522518\n",
      "Iteration 3, loss = 0.83328170\n",
      "Iteration 4, loss = 0.80373452\n",
      "Iteration 5, loss = 0.78288951\n",
      "Iteration 6, loss = 0.76983786\n",
      "Iteration 7, loss = 0.76060542\n",
      "Iteration 8, loss = 0.75381051\n",
      "Iteration 9, loss = 0.74837618\n",
      "Iteration 10, loss = 0.74363316\n",
      "Iteration 11, loss = 0.73896035\n",
      "Iteration 12, loss = 0.73459886\n",
      "Iteration 13, loss = 0.73020877\n",
      "Iteration 14, loss = 0.72598130\n",
      "Iteration 15, loss = 0.72161897\n"
     ]
    },
    {
     "name": "stderr",
     "output_type": "stream",
     "text": [
      "D:\\AI\\Anaconda3\\lib\\site-packages\\sklearn\\neural_network\\_multilayer_perceptron.py:692: ConvergenceWarning: Stochastic Optimizer: Maximum iterations (20) reached and the optimization hasn't converged yet.\n",
      "  warnings.warn(\n"
     ]
    },
    {
     "name": "stdout",
     "output_type": "stream",
     "text": [
      "Iteration 16, loss = 0.71757407\n",
      "Iteration 17, loss = 0.71368303\n",
      "Iteration 18, loss = 0.70974683\n",
      "Iteration 19, loss = 0.70572400\n",
      "Iteration 20, loss = 0.70162617\n",
      "Iteration 1, loss = 0.92846171\n",
      "Iteration 2, loss = 0.87985666\n",
      "Iteration 3, loss = 0.83702364\n",
      "Iteration 4, loss = 0.80692334\n",
      "Iteration 5, loss = 0.78580229\n",
      "Iteration 6, loss = 0.77246134\n",
      "Iteration 7, loss = 0.76291344\n",
      "Iteration 8, loss = 0.75614723\n",
      "Iteration 9, loss = 0.75036870\n",
      "Iteration 10, loss = 0.74546340\n",
      "Iteration 11, loss = 0.74062290\n"
     ]
    },
    {
     "name": "stderr",
     "output_type": "stream",
     "text": [
      "D:\\AI\\Anaconda3\\lib\\site-packages\\sklearn\\neural_network\\_multilayer_perceptron.py:692: ConvergenceWarning: Stochastic Optimizer: Maximum iterations (20) reached and the optimization hasn't converged yet.\n",
      "  warnings.warn(\n"
     ]
    },
    {
     "name": "stdout",
     "output_type": "stream",
     "text": [
      "Iteration 12, loss = 0.73597332\n",
      "Iteration 13, loss = 0.73142640\n",
      "Iteration 14, loss = 0.72696103\n",
      "Iteration 15, loss = 0.72231527\n",
      "Iteration 16, loss = 0.71795556\n",
      "Iteration 17, loss = 0.71361711\n",
      "Iteration 18, loss = 0.70932063\n",
      "Iteration 19, loss = 0.70497114\n",
      "Iteration 20, loss = 0.70057504\n",
      "Iteration 1, loss = 0.93221035\n",
      "Iteration 2, loss = 0.88259972\n",
      "Iteration 3, loss = 0.83892473\n",
      "Iteration 4, loss = 0.80820280\n"
     ]
    },
    {
     "name": "stderr",
     "output_type": "stream",
     "text": [
      "D:\\AI\\Anaconda3\\lib\\site-packages\\sklearn\\neural_network\\_multilayer_perceptron.py:692: ConvergenceWarning: Stochastic Optimizer: Maximum iterations (20) reached and the optimization hasn't converged yet.\n",
      "  warnings.warn(\n"
     ]
    },
    {
     "name": "stdout",
     "output_type": "stream",
     "text": [
      "Iteration 5, loss = 0.78658822\n",
      "Iteration 6, loss = 0.77305824\n",
      "Iteration 7, loss = 0.76321997\n",
      "Iteration 8, loss = 0.75647935\n",
      "Iteration 9, loss = 0.75047314\n",
      "Iteration 10, loss = 0.74539045\n",
      "Iteration 11, loss = 0.74034244\n",
      "Iteration 12, loss = 0.73544586\n",
      "Iteration 13, loss = 0.73064231\n",
      "Iteration 14, loss = 0.72586605\n",
      "Iteration 15, loss = 0.72106330\n",
      "Iteration 16, loss = 0.71668646\n",
      "Iteration 17, loss = 0.71203625\n",
      "Iteration 18, loss = 0.70735056\n",
      "Iteration 19, loss = 0.70273997\n",
      "Iteration 20, loss = 0.69819315\n",
      "Iteration 1, loss = 0.93665161\n",
      "Iteration 2, loss = 0.88573887\n",
      "Iteration 3, loss = 0.84075007\n",
      "Iteration 4, loss = 0.80925185\n",
      "Iteration 5, loss = 0.78743613\n",
      "Iteration 6, loss = 0.77380607\n"
     ]
    },
    {
     "name": "stderr",
     "output_type": "stream",
     "text": [
      "D:\\AI\\Anaconda3\\lib\\site-packages\\sklearn\\neural_network\\_multilayer_perceptron.py:692: ConvergenceWarning: Stochastic Optimizer: Maximum iterations (20) reached and the optimization hasn't converged yet.\n",
      "  warnings.warn(\n",
      "D:\\AI\\Anaconda3\\lib\\site-packages\\sklearn\\neural_network\\_multilayer_perceptron.py:692: ConvergenceWarning: Stochastic Optimizer: Maximum iterations (20) reached and the optimization hasn't converged yet.\n",
      "  warnings.warn(\n"
     ]
    },
    {
     "name": "stdout",
     "output_type": "stream",
     "text": [
      "Iteration 7, loss = 0.76397241\n",
      "Iteration 8, loss = 0.75727924\n",
      "Iteration 9, loss = 0.75133349\n",
      "Iteration 10, loss = 0.74632451\n",
      "Iteration 11, loss = 0.74134958\n",
      "Iteration 12, loss = 0.73668056\n",
      "Iteration 13, loss = 0.73220440\n",
      "Iteration 14, loss = 0.72779947\n",
      "Iteration 15, loss = 0.72327273\n",
      "Iteration 16, loss = 0.71902523\n",
      "Iteration 17, loss = 0.71494926\n",
      "Iteration 18, loss = 0.71095784\n",
      "Iteration 19, loss = 0.70679739\n",
      "Iteration 20, loss = 0.70258843\n",
      "Iteration 1, loss = 0.92802383\n",
      "Iteration 2, loss = 0.87949204\n",
      "Iteration 3, loss = 0.83685187\n",
      "Iteration 4, loss = 0.80582015\n",
      "Iteration 5, loss = 0.78574596\n",
      "Iteration 6, loss = 0.77222339\n",
      "Iteration 7, loss = 0.76269356\n",
      "Iteration 8, loss = 0.75599292\n",
      "Iteration 9, loss = 0.75045880\n",
      "Iteration 10, loss = 0.74540387\n",
      "Iteration 11, loss = 0.74044740\n",
      "Iteration 12, loss = 0.73590101\n",
      "Iteration 13, loss = 0.73133165\n",
      "Iteration 14, loss = 0.72693856\n",
      "Iteration 15, loss = 0.72236109\n",
      "Iteration 16, loss = 0.71801747\n",
      "Iteration 17, loss = 0.71384593\n",
      "Iteration 18, loss = 0.70948724\n",
      "Iteration 19, loss = 0.70501808\n",
      "Iteration 20, loss = 0.70075276\n",
      "Iteration 1, loss = 0.92873142\n",
      "Iteration 2, loss = 0.88059385\n",
      "Iteration 3, loss = 0.83832177\n",
      "Iteration 4, loss = 0.80763431\n",
      "Iteration 5, loss = 0.78739976\n",
      "Iteration 6, loss = 0.77358304\n",
      "Iteration 7, loss = 0.76421002\n",
      "Iteration 8, loss = 0.75755524\n",
      "Iteration 9, loss = 0.75209722\n",
      "Iteration 10, loss = 0.74726459\n",
      "Iteration 11, loss = 0.74245649\n",
      "Iteration 12, loss = 0.73807897\n",
      "Iteration 13, loss = 0.73367338\n",
      "Iteration 14, loss = 0.72950628\n",
      "Iteration 15, loss = 0.72509627\n",
      "Iteration 16, loss = 0.72090314\n",
      "Iteration 17, loss = 0.71704150\n",
      "Iteration 18, loss = 0.71303681\n",
      "Iteration 19, loss = 0.70892792\n"
     ]
    },
    {
     "name": "stderr",
     "output_type": "stream",
     "text": [
      "D:\\AI\\Anaconda3\\lib\\site-packages\\sklearn\\neural_network\\_multilayer_perceptron.py:692: ConvergenceWarning: Stochastic Optimizer: Maximum iterations (20) reached and the optimization hasn't converged yet.\n",
      "  warnings.warn(\n",
      "D:\\AI\\Anaconda3\\lib\\site-packages\\sklearn\\neural_network\\_multilayer_perceptron.py:692: ConvergenceWarning: Stochastic Optimizer: Maximum iterations (20) reached and the optimization hasn't converged yet.\n",
      "  warnings.warn(\n"
     ]
    },
    {
     "name": "stdout",
     "output_type": "stream",
     "text": [
      "Iteration 20, loss = 0.70490060\n"
     ]
    },
    {
     "name": "stderr",
     "output_type": "stream",
     "text": [
      "D:\\AI\\Anaconda3\\lib\\site-packages\\sklearn\\neural_network\\_multilayer_perceptron.py:549: ConvergenceWarning: lbfgs failed to converge (status=1):\n",
      "STOP: TOTAL NO. of ITERATIONS REACHED LIMIT.\n",
      "\n",
      "Increase the number of iterations (max_iter) or scale the data as shown in:\n",
      "    https://scikit-learn.org/stable/modules/preprocessing.html\n",
      "  self.n_iter_ = _check_optimize_result(\"lbfgs\", opt_res, self.max_iter)\n",
      "D:\\AI\\Anaconda3\\lib\\site-packages\\sklearn\\neural_network\\_multilayer_perceptron.py:549: ConvergenceWarning: lbfgs failed to converge (status=1):\n",
      "STOP: TOTAL NO. of ITERATIONS REACHED LIMIT.\n",
      "\n",
      "Increase the number of iterations (max_iter) or scale the data as shown in:\n",
      "    https://scikit-learn.org/stable/modules/preprocessing.html\n",
      "  self.n_iter_ = _check_optimize_result(\"lbfgs\", opt_res, self.max_iter)\n",
      "D:\\AI\\Anaconda3\\lib\\site-packages\\sklearn\\neural_network\\_multilayer_perceptron.py:549: ConvergenceWarning: lbfgs failed to converge (status=1):\n",
      "STOP: TOTAL NO. of ITERATIONS REACHED LIMIT.\n",
      "\n",
      "Increase the number of iterations (max_iter) or scale the data as shown in:\n",
      "    https://scikit-learn.org/stable/modules/preprocessing.html\n",
      "  self.n_iter_ = _check_optimize_result(\"lbfgs\", opt_res, self.max_iter)\n",
      "D:\\AI\\Anaconda3\\lib\\site-packages\\sklearn\\neural_network\\_multilayer_perceptron.py:549: ConvergenceWarning: lbfgs failed to converge (status=1):\n",
      "STOP: TOTAL NO. of ITERATIONS REACHED LIMIT.\n",
      "\n",
      "Increase the number of iterations (max_iter) or scale the data as shown in:\n",
      "    https://scikit-learn.org/stable/modules/preprocessing.html\n",
      "  self.n_iter_ = _check_optimize_result(\"lbfgs\", opt_res, self.max_iter)\n",
      "D:\\AI\\Anaconda3\\lib\\site-packages\\sklearn\\neural_network\\_multilayer_perceptron.py:549: ConvergenceWarning: lbfgs failed to converge (status=1):\n",
      "STOP: TOTAL NO. of ITERATIONS REACHED LIMIT.\n",
      "\n",
      "Increase the number of iterations (max_iter) or scale the data as shown in:\n",
      "    https://scikit-learn.org/stable/modules/preprocessing.html\n",
      "  self.n_iter_ = _check_optimize_result(\"lbfgs\", opt_res, self.max_iter)\n",
      "D:\\AI\\Anaconda3\\lib\\site-packages\\sklearn\\neural_network\\_multilayer_perceptron.py:549: ConvergenceWarning: lbfgs failed to converge (status=1):\n",
      "STOP: TOTAL NO. of ITERATIONS REACHED LIMIT.\n",
      "\n",
      "Increase the number of iterations (max_iter) or scale the data as shown in:\n",
      "    https://scikit-learn.org/stable/modules/preprocessing.html\n",
      "  self.n_iter_ = _check_optimize_result(\"lbfgs\", opt_res, self.max_iter)\n",
      "D:\\AI\\Anaconda3\\lib\\site-packages\\sklearn\\neural_network\\_multilayer_perceptron.py:549: ConvergenceWarning: lbfgs failed to converge (status=1):\n",
      "STOP: TOTAL NO. of ITERATIONS REACHED LIMIT.\n",
      "\n",
      "Increase the number of iterations (max_iter) or scale the data as shown in:\n",
      "    https://scikit-learn.org/stable/modules/preprocessing.html\n",
      "  self.n_iter_ = _check_optimize_result(\"lbfgs\", opt_res, self.max_iter)\n",
      "D:\\AI\\Anaconda3\\lib\\site-packages\\sklearn\\neural_network\\_multilayer_perceptron.py:549: ConvergenceWarning: lbfgs failed to converge (status=1):\n",
      "STOP: TOTAL NO. of ITERATIONS REACHED LIMIT.\n",
      "\n",
      "Increase the number of iterations (max_iter) or scale the data as shown in:\n",
      "    https://scikit-learn.org/stable/modules/preprocessing.html\n",
      "  self.n_iter_ = _check_optimize_result(\"lbfgs\", opt_res, self.max_iter)\n",
      "D:\\AI\\Anaconda3\\lib\\site-packages\\sklearn\\neural_network\\_multilayer_perceptron.py:549: ConvergenceWarning: lbfgs failed to converge (status=1):\n",
      "STOP: TOTAL NO. of ITERATIONS REACHED LIMIT.\n",
      "\n",
      "Increase the number of iterations (max_iter) or scale the data as shown in:\n",
      "    https://scikit-learn.org/stable/modules/preprocessing.html\n",
      "  self.n_iter_ = _check_optimize_result(\"lbfgs\", opt_res, self.max_iter)\n",
      "D:\\AI\\Anaconda3\\lib\\site-packages\\sklearn\\neural_network\\_multilayer_perceptron.py:549: ConvergenceWarning: lbfgs failed to converge (status=1):\n",
      "STOP: TOTAL NO. of ITERATIONS REACHED LIMIT.\n",
      "\n",
      "Increase the number of iterations (max_iter) or scale the data as shown in:\n",
      "    https://scikit-learn.org/stable/modules/preprocessing.html\n",
      "  self.n_iter_ = _check_optimize_result(\"lbfgs\", opt_res, self.max_iter)\n"
     ]
    },
    {
     "name": "stdout",
     "output_type": "stream",
     "text": [
      "Iteration 1, loss = 1.20979350\n",
      "Iteration 2, loss = 0.67465107\n",
      "Iteration 3, loss = 0.53519912\n",
      "Iteration 4, loss = 0.47282367\n",
      "Iteration 5, loss = 0.43236962\n",
      "Iteration 6, loss = 0.40408183\n",
      "Iteration 7, loss = 0.38177128\n",
      "Iteration 8, loss = 0.36331525\n",
      "Iteration 9, loss = 0.34746518\n",
      "Iteration 10, loss = 0.33370605\n",
      "Iteration 11, loss = 0.32149638\n",
      "Iteration 12, loss = 0.31033968\n",
      "Iteration 13, loss = 0.30012869\n",
      "Iteration 14, loss = 0.28992975\n",
      "Iteration 15, loss = 0.28184533\n",
      "Iteration 16, loss = 0.27336486\n",
      "Iteration 17, loss = 0.26508752\n",
      "Iteration 18, loss = 0.25831665\n",
      "Iteration 19, loss = 0.25100902\n",
      "Iteration 20, loss = 0.24377951\n",
      "Iteration 1, loss = 1.21903414\n",
      "Iteration 2, loss = 0.67936193\n",
      "Iteration 3, loss = 0.53823826\n",
      "Iteration 4, loss = 0.47452692\n",
      "Iteration 5, loss = 0.43402226\n"
     ]
    },
    {
     "name": "stderr",
     "output_type": "stream",
     "text": [
      "D:\\AI\\Anaconda3\\lib\\site-packages\\sklearn\\neural_network\\_multilayer_perceptron.py:692: ConvergenceWarning: Stochastic Optimizer: Maximum iterations (20) reached and the optimization hasn't converged yet.\n",
      "  warnings.warn(\n"
     ]
    },
    {
     "name": "stdout",
     "output_type": "stream",
     "text": [
      "Iteration 6, loss = 0.40562117\n",
      "Iteration 7, loss = 0.38301965\n",
      "Iteration 8, loss = 0.36430679\n",
      "Iteration 9, loss = 0.34847699\n",
      "Iteration 10, loss = 0.33455981\n",
      "Iteration 11, loss = 0.32218717\n",
      "Iteration 12, loss = 0.31079975\n",
      "Iteration 13, loss = 0.30067061\n",
      "Iteration 14, loss = 0.29019350\n",
      "Iteration 15, loss = 0.28193512\n",
      "Iteration 16, loss = 0.27371736\n",
      "Iteration 17, loss = 0.26544355\n",
      "Iteration 18, loss = 0.25796298\n",
      "Iteration 19, loss = 0.25072582\n",
      "Iteration 20, loss = 0.24332202\n",
      "Iteration 1, loss = 1.21581396\n",
      "Iteration 2, loss = 0.67873502\n"
     ]
    },
    {
     "name": "stderr",
     "output_type": "stream",
     "text": [
      "D:\\AI\\Anaconda3\\lib\\site-packages\\sklearn\\neural_network\\_multilayer_perceptron.py:692: ConvergenceWarning: Stochastic Optimizer: Maximum iterations (20) reached and the optimization hasn't converged yet.\n",
      "  warnings.warn(\n"
     ]
    },
    {
     "name": "stdout",
     "output_type": "stream",
     "text": [
      "Iteration 3, loss = 0.53935342\n",
      "Iteration 4, loss = 0.47713070\n",
      "Iteration 5, loss = 0.43733851\n",
      "Iteration 6, loss = 0.40890776\n",
      "Iteration 7, loss = 0.38652421\n",
      "Iteration 8, loss = 0.36798462\n",
      "Iteration 9, loss = 0.35200510\n",
      "Iteration 10, loss = 0.33778752\n",
      "Iteration 11, loss = 0.32559682\n",
      "Iteration 12, loss = 0.31433478\n",
      "Iteration 13, loss = 0.30416938\n",
      "Iteration 14, loss = 0.29339761\n",
      "Iteration 15, loss = 0.28487733\n",
      "Iteration 16, loss = 0.27659128\n",
      "Iteration 17, loss = 0.26809952\n",
      "Iteration 18, loss = 0.26032530\n",
      "Iteration 19, loss = 0.25315290\n",
      "Iteration 20, loss = 0.24582268\n"
     ]
    },
    {
     "name": "stderr",
     "output_type": "stream",
     "text": [
      "D:\\AI\\Anaconda3\\lib\\site-packages\\sklearn\\neural_network\\_multilayer_perceptron.py:692: ConvergenceWarning: Stochastic Optimizer: Maximum iterations (20) reached and the optimization hasn't converged yet.\n",
      "  warnings.warn(\n"
     ]
    },
    {
     "name": "stdout",
     "output_type": "stream",
     "text": [
      "Iteration 1, loss = 1.19935405\n",
      "Iteration 2, loss = 0.67172963\n",
      "Iteration 3, loss = 0.53565839\n",
      "Iteration 4, loss = 0.47178793\n",
      "Iteration 5, loss = 0.43123560\n",
      "Iteration 6, loss = 0.40234602\n",
      "Iteration 7, loss = 0.37986381\n",
      "Iteration 8, loss = 0.36120201\n",
      "Iteration 9, loss = 0.34511970\n",
      "Iteration 10, loss = 0.33104822\n",
      "Iteration 11, loss = 0.31880978\n",
      "Iteration 12, loss = 0.30732492\n",
      "Iteration 13, loss = 0.29713740\n",
      "Iteration 14, loss = 0.28715549\n",
      "Iteration 15, loss = 0.27855852\n",
      "Iteration 16, loss = 0.27055721\n",
      "Iteration 17, loss = 0.26226407\n",
      "Iteration 18, loss = 0.25492819\n",
      "Iteration 19, loss = 0.24768647\n",
      "Iteration 20, loss = 0.24084567\n"
     ]
    },
    {
     "name": "stderr",
     "output_type": "stream",
     "text": [
      "D:\\AI\\Anaconda3\\lib\\site-packages\\sklearn\\neural_network\\_multilayer_perceptron.py:692: ConvergenceWarning: Stochastic Optimizer: Maximum iterations (20) reached and the optimization hasn't converged yet.\n",
      "  warnings.warn(\n"
     ]
    },
    {
     "name": "stdout",
     "output_type": "stream",
     "text": [
      "Iteration 1, loss = 1.21661651\n",
      "Iteration 2, loss = 0.67427394\n",
      "Iteration 3, loss = 0.53528844\n",
      "Iteration 4, loss = 0.47223151\n",
      "Iteration 5, loss = 0.43233728\n",
      "Iteration 6, loss = 0.40416316\n",
      "Iteration 7, loss = 0.38202629\n",
      "Iteration 8, loss = 0.36401938\n",
      "Iteration 9, loss = 0.34841432\n",
      "Iteration 10, loss = 0.33420597\n",
      "Iteration 11, loss = 0.32205999\n",
      "Iteration 12, loss = 0.31083163\n",
      "Iteration 13, loss = 0.30063537\n",
      "Iteration 14, loss = 0.29068878\n",
      "Iteration 15, loss = 0.28184386\n",
      "Iteration 16, loss = 0.27409073\n",
      "Iteration 17, loss = 0.26546496\n",
      "Iteration 18, loss = 0.25782492\n",
      "Iteration 19, loss = 0.25073437\n",
      "Iteration 20, loss = 0.24369230\n",
      "Iteration 1, loss = 1.20899749\n",
      "Iteration 2, loss = 0.67379783\n",
      "Iteration 3, loss = 0.53562262\n",
      "Iteration 4, loss = 0.47197850\n",
      "Iteration 5, loss = 0.43171459\n",
      "Iteration 6, loss = 0.40321603\n"
     ]
    },
    {
     "name": "stderr",
     "output_type": "stream",
     "text": [
      "D:\\AI\\Anaconda3\\lib\\site-packages\\sklearn\\neural_network\\_multilayer_perceptron.py:692: ConvergenceWarning: Stochastic Optimizer: Maximum iterations (20) reached and the optimization hasn't converged yet.\n",
      "  warnings.warn(\n"
     ]
    },
    {
     "name": "stdout",
     "output_type": "stream",
     "text": [
      "Iteration 7, loss = 0.38097396\n",
      "Iteration 8, loss = 0.36276005\n",
      "Iteration 9, loss = 0.34727689\n",
      "Iteration 10, loss = 0.33283014\n",
      "Iteration 11, loss = 0.32073355\n",
      "Iteration 12, loss = 0.30989935\n",
      "Iteration 13, loss = 0.29957955\n",
      "Iteration 14, loss = 0.28964248\n",
      "Iteration 15, loss = 0.28060854\n",
      "Iteration 16, loss = 0.27292430\n",
      "Iteration 17, loss = 0.26452790\n",
      "Iteration 18, loss = 0.25703745\n",
      "Iteration 19, loss = 0.25006958\n",
      "Iteration 20, loss = 0.24297333\n",
      "Iteration 1, loss = 1.20033617\n",
      "Iteration 2, loss = 0.67017694\n"
     ]
    },
    {
     "name": "stderr",
     "output_type": "stream",
     "text": [
      "D:\\AI\\Anaconda3\\lib\\site-packages\\sklearn\\neural_network\\_multilayer_perceptron.py:692: ConvergenceWarning: Stochastic Optimizer: Maximum iterations (20) reached and the optimization hasn't converged yet.\n",
      "  warnings.warn(\n"
     ]
    },
    {
     "name": "stdout",
     "output_type": "stream",
     "text": [
      "Iteration 3, loss = 0.53371271\n",
      "Iteration 4, loss = 0.46956781\n",
      "Iteration 5, loss = 0.42926075\n",
      "Iteration 6, loss = 0.40061305\n",
      "Iteration 7, loss = 0.37804338\n",
      "Iteration 8, loss = 0.35942607\n",
      "Iteration 9, loss = 0.34348667\n",
      "Iteration 10, loss = 0.32869653\n",
      "Iteration 11, loss = 0.31620843\n",
      "Iteration 12, loss = 0.30493237\n",
      "Iteration 13, loss = 0.29467611\n",
      "Iteration 14, loss = 0.28473439\n",
      "Iteration 15, loss = 0.27614928\n",
      "Iteration 16, loss = 0.26847953\n",
      "Iteration 17, loss = 0.25998655\n",
      "Iteration 18, loss = 0.25250655\n",
      "Iteration 19, loss = 0.24567395\n",
      "Iteration 20, loss = 0.23891321\n"
     ]
    },
    {
     "name": "stderr",
     "output_type": "stream",
     "text": [
      "D:\\AI\\Anaconda3\\lib\\site-packages\\sklearn\\neural_network\\_multilayer_perceptron.py:692: ConvergenceWarning: Stochastic Optimizer: Maximum iterations (20) reached and the optimization hasn't converged yet.\n",
      "  warnings.warn(\n"
     ]
    },
    {
     "name": "stdout",
     "output_type": "stream",
     "text": [
      "Iteration 1, loss = 1.18674183\n",
      "Iteration 2, loss = 0.66720832\n",
      "Iteration 3, loss = 0.53570054\n",
      "Iteration 4, loss = 0.47186158\n",
      "Iteration 5, loss = 0.43153737\n",
      "Iteration 6, loss = 0.40267424\n",
      "Iteration 7, loss = 0.38016557\n",
      "Iteration 8, loss = 0.36194173\n",
      "Iteration 9, loss = 0.34579298\n",
      "Iteration 10, loss = 0.33164155\n",
      "Iteration 11, loss = 0.31937939\n",
      "Iteration 12, loss = 0.30808262\n",
      "Iteration 13, loss = 0.29798359\n",
      "Iteration 14, loss = 0.28808922\n",
      "Iteration 15, loss = 0.27947545\n",
      "Iteration 16, loss = 0.27158255\n",
      "Iteration 17, loss = 0.26290571\n",
      "Iteration 18, loss = 0.25558902\n",
      "Iteration 19, loss = 0.24845448\n",
      "Iteration 20, loss = 0.24206737\n",
      "Iteration 1, loss = 1.20194040\n",
      "Iteration 2, loss = 0.67082401\n",
      "Iteration 3, loss = 0.53401090\n",
      "Iteration 4, loss = 0.47106245\n",
      "Iteration 5, loss = 0.43133540\n"
     ]
    },
    {
     "name": "stderr",
     "output_type": "stream",
     "text": [
      "D:\\AI\\Anaconda3\\lib\\site-packages\\sklearn\\neural_network\\_multilayer_perceptron.py:692: ConvergenceWarning: Stochastic Optimizer: Maximum iterations (20) reached and the optimization hasn't converged yet.\n",
      "  warnings.warn(\n"
     ]
    },
    {
     "name": "stdout",
     "output_type": "stream",
     "text": [
      "Iteration 6, loss = 0.40338777\n",
      "Iteration 7, loss = 0.38095709\n",
      "Iteration 8, loss = 0.36240896\n",
      "Iteration 9, loss = 0.34694866\n",
      "Iteration 10, loss = 0.33346462\n",
      "Iteration 11, loss = 0.32133362\n",
      "Iteration 12, loss = 0.30956914\n",
      "Iteration 13, loss = 0.29948236\n",
      "Iteration 14, loss = 0.29025779\n",
      "Iteration 15, loss = 0.28124720\n",
      "Iteration 16, loss = 0.27347863\n",
      "Iteration 17, loss = 0.26532903\n",
      "Iteration 18, loss = 0.25768206\n",
      "Iteration 19, loss = 0.25038994\n",
      "Iteration 20, loss = 0.24355610\n",
      "Iteration 1, loss = 1.19976250\n",
      "Iteration 2, loss = 0.67201994\n",
      "Iteration 3, loss = 0.53840419\n",
      "Iteration 4, loss = 0.47585812\n",
      "Iteration 5, loss = 0.43642466\n",
      "Iteration 6, loss = 0.40868546\n",
      "Iteration 7, loss = 0.38656219\n"
     ]
    },
    {
     "name": "stderr",
     "output_type": "stream",
     "text": [
      "D:\\AI\\Anaconda3\\lib\\site-packages\\sklearn\\neural_network\\_multilayer_perceptron.py:692: ConvergenceWarning: Stochastic Optimizer: Maximum iterations (20) reached and the optimization hasn't converged yet.\n",
      "  warnings.warn(\n"
     ]
    },
    {
     "name": "stdout",
     "output_type": "stream",
     "text": [
      "Iteration 8, loss = 0.36802349\n",
      "Iteration 9, loss = 0.35230927\n",
      "Iteration 10, loss = 0.33846749\n",
      "Iteration 11, loss = 0.32627627\n",
      "Iteration 12, loss = 0.31454072\n",
      "Iteration 13, loss = 0.30431030\n",
      "Iteration 14, loss = 0.29519231\n",
      "Iteration 15, loss = 0.28608659\n",
      "Iteration 16, loss = 0.27824391\n",
      "Iteration 17, loss = 0.27019904\n",
      "Iteration 18, loss = 0.26222679\n",
      "Iteration 19, loss = 0.25495097\n",
      "Iteration 20, loss = 0.24803446\n",
      "Iteration 1, loss = 1.30944084\n"
     ]
    },
    {
     "name": "stderr",
     "output_type": "stream",
     "text": [
      "D:\\AI\\Anaconda3\\lib\\site-packages\\sklearn\\neural_network\\_multilayer_perceptron.py:692: ConvergenceWarning: Stochastic Optimizer: Maximum iterations (20) reached and the optimization hasn't converged yet.\n",
      "  warnings.warn(\n"
     ]
    },
    {
     "name": "stdout",
     "output_type": "stream",
     "text": [
      "Iteration 2, loss = 0.81571582\n",
      "Iteration 3, loss = 0.74025064\n",
      "Iteration 4, loss = 0.69722298\n",
      "Iteration 5, loss = 0.67052713\n",
      "Iteration 6, loss = 0.65022861\n",
      "Iteration 7, loss = 0.63374609\n",
      "Iteration 8, loss = 0.61971767\n",
      "Iteration 9, loss = 0.60662139\n",
      "Iteration 10, loss = 0.59577151\n",
      "Iteration 11, loss = 0.58538735\n",
      "Iteration 12, loss = 0.57615602\n",
      "Iteration 13, loss = 0.56765058\n",
      "Iteration 14, loss = 0.55973607\n",
      "Iteration 15, loss = 0.55251179\n",
      "Iteration 16, loss = 0.54549478\n",
      "Iteration 17, loss = 0.53871346\n",
      "Iteration 18, loss = 0.53286291\n",
      "Iteration 19, loss = 0.52719377\n",
      "Iteration 20, loss = 0.52130009\n",
      "Iteration 1, loss = 1.31922376\n"
     ]
    },
    {
     "name": "stderr",
     "output_type": "stream",
     "text": [
      "D:\\AI\\Anaconda3\\lib\\site-packages\\sklearn\\neural_network\\_multilayer_perceptron.py:692: ConvergenceWarning: Stochastic Optimizer: Maximum iterations (20) reached and the optimization hasn't converged yet.\n",
      "  warnings.warn(\n"
     ]
    },
    {
     "name": "stdout",
     "output_type": "stream",
     "text": [
      "Iteration 2, loss = 0.82146697\n",
      "Iteration 3, loss = 0.74661439\n",
      "Iteration 4, loss = 0.70279009\n",
      "Iteration 5, loss = 0.67639362\n",
      "Iteration 6, loss = 0.65610787\n",
      "Iteration 7, loss = 0.63972603\n",
      "Iteration 8, loss = 0.62572171\n",
      "Iteration 9, loss = 0.61286530\n",
      "Iteration 10, loss = 0.60213280\n",
      "Iteration 11, loss = 0.59169950\n",
      "Iteration 12, loss = 0.58267673\n",
      "Iteration 13, loss = 0.57427865\n",
      "Iteration 14, loss = 0.56606725\n",
      "Iteration 15, loss = 0.55889705\n",
      "Iteration 16, loss = 0.55195111\n",
      "Iteration 17, loss = 0.54514906\n",
      "Iteration 18, loss = 0.53920862\n",
      "Iteration 19, loss = 0.53325413\n",
      "Iteration 20, loss = 0.52734984\n",
      "Iteration 1, loss = 1.31800575\n",
      "Iteration 2, loss = 0.81950009\n",
      "Iteration 3, loss = 0.74610447\n",
      "Iteration 4, loss = 0.70337764\n",
      "Iteration 5, loss = 0.67759744\n",
      "Iteration 6, loss = 0.65748092\n",
      "Iteration 7, loss = 0.64127152\n"
     ]
    },
    {
     "name": "stderr",
     "output_type": "stream",
     "text": [
      "D:\\AI\\Anaconda3\\lib\\site-packages\\sklearn\\neural_network\\_multilayer_perceptron.py:692: ConvergenceWarning: Stochastic Optimizer: Maximum iterations (20) reached and the optimization hasn't converged yet.\n",
      "  warnings.warn(\n"
     ]
    },
    {
     "name": "stdout",
     "output_type": "stream",
     "text": [
      "Iteration 8, loss = 0.62739314\n",
      "Iteration 9, loss = 0.61472095\n",
      "Iteration 10, loss = 0.60393308\n",
      "Iteration 11, loss = 0.59387008\n",
      "Iteration 12, loss = 0.58505723\n",
      "Iteration 13, loss = 0.57681163\n",
      "Iteration 14, loss = 0.56852662\n",
      "Iteration 15, loss = 0.56130953\n",
      "Iteration 16, loss = 0.55442252\n",
      "Iteration 17, loss = 0.54782179\n",
      "Iteration 18, loss = 0.54194419\n",
      "Iteration 19, loss = 0.53597177\n",
      "Iteration 20, loss = 0.53022939\n",
      "Iteration 1, loss = 1.30469412\n",
      "Iteration 2, loss = 0.81750200\n",
      "Iteration 3, loss = 0.74455531\n",
      "Iteration 4, loss = 0.70119048\n"
     ]
    },
    {
     "name": "stderr",
     "output_type": "stream",
     "text": [
      "D:\\AI\\Anaconda3\\lib\\site-packages\\sklearn\\neural_network\\_multilayer_perceptron.py:692: ConvergenceWarning: Stochastic Optimizer: Maximum iterations (20) reached and the optimization hasn't converged yet.\n",
      "  warnings.warn(\n"
     ]
    },
    {
     "name": "stdout",
     "output_type": "stream",
     "text": [
      "Iteration 5, loss = 0.67476284\n",
      "Iteration 6, loss = 0.65456991\n",
      "Iteration 7, loss = 0.63786788\n",
      "Iteration 8, loss = 0.62356726\n",
      "Iteration 9, loss = 0.61064011\n",
      "Iteration 10, loss = 0.59942568\n",
      "Iteration 11, loss = 0.58912419\n",
      "Iteration 12, loss = 0.58006656\n",
      "Iteration 13, loss = 0.57148266\n",
      "Iteration 14, loss = 0.56306478\n",
      "Iteration 15, loss = 0.55574188\n",
      "Iteration 16, loss = 0.54846512\n",
      "Iteration 17, loss = 0.54185724\n",
      "Iteration 18, loss = 0.53569425\n",
      "Iteration 19, loss = 0.52949484\n",
      "Iteration 20, loss = 0.52368287\n",
      "Iteration 1, loss = 1.32150936\n",
      "Iteration 2, loss = 0.81875726\n",
      "Iteration 3, loss = 0.74621053\n",
      "Iteration 4, loss = 0.70170847\n",
      "Iteration 5, loss = 0.67516056\n",
      "Iteration 6, loss = 0.65458844\n"
     ]
    },
    {
     "name": "stderr",
     "output_type": "stream",
     "text": [
      "D:\\AI\\Anaconda3\\lib\\site-packages\\sklearn\\neural_network\\_multilayer_perceptron.py:692: ConvergenceWarning: Stochastic Optimizer: Maximum iterations (20) reached and the optimization hasn't converged yet.\n",
      "  warnings.warn(\n"
     ]
    },
    {
     "name": "stdout",
     "output_type": "stream",
     "text": [
      "Iteration 7, loss = 0.63776997\n",
      "Iteration 8, loss = 0.62340240\n",
      "Iteration 9, loss = 0.61058684\n",
      "Iteration 10, loss = 0.59907159\n",
      "Iteration 11, loss = 0.58891507\n",
      "Iteration 12, loss = 0.57978162\n",
      "Iteration 13, loss = 0.57121478\n",
      "Iteration 14, loss = 0.56290435\n",
      "Iteration 15, loss = 0.55552557\n",
      "Iteration 16, loss = 0.54844662\n",
      "Iteration 17, loss = 0.54187451\n",
      "Iteration 18, loss = 0.53574856\n",
      "Iteration 19, loss = 0.52965445\n",
      "Iteration 20, loss = 0.52397719\n",
      "Iteration 1, loss = 1.31464412\n",
      "Iteration 2, loss = 0.81972872\n",
      "Iteration 3, loss = 0.74687030\n"
     ]
    },
    {
     "name": "stderr",
     "output_type": "stream",
     "text": [
      "D:\\AI\\Anaconda3\\lib\\site-packages\\sklearn\\neural_network\\_multilayer_perceptron.py:692: ConvergenceWarning: Stochastic Optimizer: Maximum iterations (20) reached and the optimization hasn't converged yet.\n",
      "  warnings.warn(\n"
     ]
    },
    {
     "name": "stdout",
     "output_type": "stream",
     "text": [
      "Iteration 4, loss = 0.70309686\n",
      "Iteration 5, loss = 0.67712533\n",
      "Iteration 6, loss = 0.65689697\n",
      "Iteration 7, loss = 0.64054033\n",
      "Iteration 8, loss = 0.62639189\n",
      "Iteration 9, loss = 0.61407867\n",
      "Iteration 10, loss = 0.60262897\n",
      "Iteration 11, loss = 0.59275234\n",
      "Iteration 12, loss = 0.58384901\n",
      "Iteration 13, loss = 0.57495490\n",
      "Iteration 14, loss = 0.56679577\n",
      "Iteration 15, loss = 0.55952606\n",
      "Iteration 16, loss = 0.55222376\n",
      "Iteration 17, loss = 0.54575712\n",
      "Iteration 18, loss = 0.53955520\n",
      "Iteration 19, loss = 0.53347183\n",
      "Iteration 20, loss = 0.52768303\n",
      "Iteration 1, loss = 1.31068975\n",
      "Iteration 2, loss = 0.81717266\n",
      "Iteration 3, loss = 0.74361698\n",
      "Iteration 4, loss = 0.69896847\n",
      "Iteration 5, loss = 0.67264056\n",
      "Iteration 6, loss = 0.65246017\n",
      "Iteration 7, loss = 0.63596175\n",
      "Iteration 8, loss = 0.62181416\n",
      "Iteration 9, loss = 0.60983677\n",
      "Iteration 10, loss = 0.59818128\n",
      "Iteration 11, loss = 0.58836728\n",
      "Iteration 12, loss = 0.57937729\n"
     ]
    },
    {
     "name": "stderr",
     "output_type": "stream",
     "text": [
      "D:\\AI\\Anaconda3\\lib\\site-packages\\sklearn\\neural_network\\_multilayer_perceptron.py:692: ConvergenceWarning: Stochastic Optimizer: Maximum iterations (20) reached and the optimization hasn't converged yet.\n",
      "  warnings.warn(\n"
     ]
    },
    {
     "name": "stdout",
     "output_type": "stream",
     "text": [
      "Iteration 13, loss = 0.57082085\n",
      "Iteration 14, loss = 0.56294515\n",
      "Iteration 15, loss = 0.55589720\n",
      "Iteration 16, loss = 0.54862480\n",
      "Iteration 17, loss = 0.54233392\n",
      "Iteration 18, loss = 0.53611760\n",
      "Iteration 19, loss = 0.53013887\n",
      "Iteration 20, loss = 0.52471283\n"
     ]
    },
    {
     "name": "stderr",
     "output_type": "stream",
     "text": [
      "D:\\AI\\Anaconda3\\lib\\site-packages\\sklearn\\neural_network\\_multilayer_perceptron.py:692: ConvergenceWarning: Stochastic Optimizer: Maximum iterations (20) reached and the optimization hasn't converged yet.\n",
      "  warnings.warn(\n"
     ]
    },
    {
     "name": "stdout",
     "output_type": "stream",
     "text": [
      "Iteration 1, loss = 1.30135785\n",
      "Iteration 2, loss = 0.81652326\n",
      "Iteration 3, loss = 0.74585801\n",
      "Iteration 4, loss = 0.70194554\n",
      "Iteration 5, loss = 0.67572950\n",
      "Iteration 6, loss = 0.65544953\n",
      "Iteration 7, loss = 0.63891179\n",
      "Iteration 8, loss = 0.62466840\n",
      "Iteration 9, loss = 0.61229801\n",
      "Iteration 10, loss = 0.60084629\n",
      "Iteration 11, loss = 0.59092953\n",
      "Iteration 12, loss = 0.58170498\n",
      "Iteration 13, loss = 0.57319542\n",
      "Iteration 14, loss = 0.56513370\n",
      "Iteration 15, loss = 0.55796045\n",
      "Iteration 16, loss = 0.55067857\n",
      "Iteration 17, loss = 0.54423451\n",
      "Iteration 18, loss = 0.53788410\n",
      "Iteration 19, loss = 0.53193995\n",
      "Iteration 20, loss = 0.52653757\n",
      "Iteration 1, loss = 1.31271739\n",
      "Iteration 2, loss = 0.81864947\n",
      "Iteration 3, loss = 0.74184214\n",
      "Iteration 4, loss = 0.69810461\n",
      "Iteration 5, loss = 0.67153479\n",
      "Iteration 6, loss = 0.65135238\n",
      "Iteration 7, loss = 0.63487663\n",
      "Iteration 8, loss = 0.62071946\n"
     ]
    },
    {
     "name": "stderr",
     "output_type": "stream",
     "text": [
      "D:\\AI\\Anaconda3\\lib\\site-packages\\sklearn\\neural_network\\_multilayer_perceptron.py:692: ConvergenceWarning: Stochastic Optimizer: Maximum iterations (20) reached and the optimization hasn't converged yet.\n",
      "  warnings.warn(\n"
     ]
    },
    {
     "name": "stdout",
     "output_type": "stream",
     "text": [
      "Iteration 9, loss = 0.60832069\n",
      "Iteration 10, loss = 0.59707931\n",
      "Iteration 11, loss = 0.58700069\n",
      "Iteration 12, loss = 0.57756251\n",
      "Iteration 13, loss = 0.56897252\n",
      "Iteration 14, loss = 0.56083358\n",
      "Iteration 15, loss = 0.55357352\n",
      "Iteration 16, loss = 0.54642586\n",
      "Iteration 17, loss = 0.53992176\n",
      "Iteration 18, loss = 0.53360105\n",
      "Iteration 19, loss = 0.52771755\n",
      "Iteration 20, loss = 0.52197268\n",
      "Iteration 1, loss = 1.31477917\n",
      "Iteration 2, loss = 0.82245278\n",
      "Iteration 3, loss = 0.74938876\n",
      "Iteration 4, loss = 0.70625506\n"
     ]
    },
    {
     "name": "stderr",
     "output_type": "stream",
     "text": [
      "D:\\AI\\Anaconda3\\lib\\site-packages\\sklearn\\neural_network\\_multilayer_perceptron.py:692: ConvergenceWarning: Stochastic Optimizer: Maximum iterations (20) reached and the optimization hasn't converged yet.\n",
      "  warnings.warn(\n"
     ]
    },
    {
     "name": "stdout",
     "output_type": "stream",
     "text": [
      "Iteration 5, loss = 0.67939624\n",
      "Iteration 6, loss = 0.65914404\n",
      "Iteration 7, loss = 0.64254422\n",
      "Iteration 8, loss = 0.62845088\n",
      "Iteration 9, loss = 0.61589346\n",
      "Iteration 10, loss = 0.60449621\n",
      "Iteration 11, loss = 0.59446189\n",
      "Iteration 12, loss = 0.58502918\n",
      "Iteration 13, loss = 0.57634578\n",
      "Iteration 14, loss = 0.56830081\n",
      "Iteration 15, loss = 0.56085003\n",
      "Iteration 16, loss = 0.55364609\n",
      "Iteration 17, loss = 0.54698357\n",
      "Iteration 18, loss = 0.54068681\n",
      "Iteration 19, loss = 0.53467987\n",
      "Iteration 20, loss = 0.52872777\n"
     ]
    },
    {
     "name": "stderr",
     "output_type": "stream",
     "text": [
      "D:\\AI\\Anaconda3\\lib\\site-packages\\sklearn\\neural_network\\_multilayer_perceptron.py:692: ConvergenceWarning: Stochastic Optimizer: Maximum iterations (20) reached and the optimization hasn't converged yet.\n",
      "  warnings.warn(\n",
      "D:\\AI\\Anaconda3\\lib\\site-packages\\sklearn\\neural_network\\_multilayer_perceptron.py:549: ConvergenceWarning: lbfgs failed to converge (status=1):\n",
      "STOP: TOTAL NO. of ITERATIONS REACHED LIMIT.\n",
      "\n",
      "Increase the number of iterations (max_iter) or scale the data as shown in:\n",
      "    https://scikit-learn.org/stable/modules/preprocessing.html\n",
      "  self.n_iter_ = _check_optimize_result(\"lbfgs\", opt_res, self.max_iter)\n",
      "D:\\AI\\Anaconda3\\lib\\site-packages\\sklearn\\neural_network\\_multilayer_perceptron.py:549: ConvergenceWarning: lbfgs failed to converge (status=1):\n",
      "STOP: TOTAL NO. of ITERATIONS REACHED LIMIT.\n",
      "\n",
      "Increase the number of iterations (max_iter) or scale the data as shown in:\n",
      "    https://scikit-learn.org/stable/modules/preprocessing.html\n",
      "  self.n_iter_ = _check_optimize_result(\"lbfgs\", opt_res, self.max_iter)\n",
      "D:\\AI\\Anaconda3\\lib\\site-packages\\sklearn\\neural_network\\_multilayer_perceptron.py:549: ConvergenceWarning: lbfgs failed to converge (status=1):\n",
      "STOP: TOTAL NO. of ITERATIONS REACHED LIMIT.\n",
      "\n",
      "Increase the number of iterations (max_iter) or scale the data as shown in:\n",
      "    https://scikit-learn.org/stable/modules/preprocessing.html\n",
      "  self.n_iter_ = _check_optimize_result(\"lbfgs\", opt_res, self.max_iter)\n",
      "D:\\AI\\Anaconda3\\lib\\site-packages\\sklearn\\neural_network\\_multilayer_perceptron.py:549: ConvergenceWarning: lbfgs failed to converge (status=1):\n",
      "STOP: TOTAL NO. of ITERATIONS REACHED LIMIT.\n",
      "\n",
      "Increase the number of iterations (max_iter) or scale the data as shown in:\n",
      "    https://scikit-learn.org/stable/modules/preprocessing.html\n",
      "  self.n_iter_ = _check_optimize_result(\"lbfgs\", opt_res, self.max_iter)\n",
      "D:\\AI\\Anaconda3\\lib\\site-packages\\sklearn\\neural_network\\_multilayer_perceptron.py:549: ConvergenceWarning: lbfgs failed to converge (status=1):\n",
      "STOP: TOTAL NO. of ITERATIONS REACHED LIMIT.\n",
      "\n",
      "Increase the number of iterations (max_iter) or scale the data as shown in:\n",
      "    https://scikit-learn.org/stable/modules/preprocessing.html\n",
      "  self.n_iter_ = _check_optimize_result(\"lbfgs\", opt_res, self.max_iter)\n",
      "D:\\AI\\Anaconda3\\lib\\site-packages\\sklearn\\neural_network\\_multilayer_perceptron.py:549: ConvergenceWarning: lbfgs failed to converge (status=1):\n",
      "STOP: TOTAL NO. of ITERATIONS REACHED LIMIT.\n",
      "\n",
      "Increase the number of iterations (max_iter) or scale the data as shown in:\n",
      "    https://scikit-learn.org/stable/modules/preprocessing.html\n",
      "  self.n_iter_ = _check_optimize_result(\"lbfgs\", opt_res, self.max_iter)\n",
      "D:\\AI\\Anaconda3\\lib\\site-packages\\sklearn\\neural_network\\_multilayer_perceptron.py:549: ConvergenceWarning: lbfgs failed to converge (status=1):\n",
      "STOP: TOTAL NO. of ITERATIONS REACHED LIMIT.\n",
      "\n",
      "Increase the number of iterations (max_iter) or scale the data as shown in:\n",
      "    https://scikit-learn.org/stable/modules/preprocessing.html\n",
      "  self.n_iter_ = _check_optimize_result(\"lbfgs\", opt_res, self.max_iter)\n",
      "D:\\AI\\Anaconda3\\lib\\site-packages\\sklearn\\neural_network\\_multilayer_perceptron.py:549: ConvergenceWarning: lbfgs failed to converge (status=1):\n",
      "STOP: TOTAL NO. of ITERATIONS REACHED LIMIT.\n",
      "\n",
      "Increase the number of iterations (max_iter) or scale the data as shown in:\n",
      "    https://scikit-learn.org/stable/modules/preprocessing.html\n",
      "  self.n_iter_ = _check_optimize_result(\"lbfgs\", opt_res, self.max_iter)\n",
      "D:\\AI\\Anaconda3\\lib\\site-packages\\sklearn\\neural_network\\_multilayer_perceptron.py:549: ConvergenceWarning: lbfgs failed to converge (status=1):\n",
      "STOP: TOTAL NO. of ITERATIONS REACHED LIMIT.\n",
      "\n",
      "Increase the number of iterations (max_iter) or scale the data as shown in:\n",
      "    https://scikit-learn.org/stable/modules/preprocessing.html\n",
      "  self.n_iter_ = _check_optimize_result(\"lbfgs\", opt_res, self.max_iter)\n",
      "D:\\AI\\Anaconda3\\lib\\site-packages\\sklearn\\neural_network\\_multilayer_perceptron.py:549: ConvergenceWarning: lbfgs failed to converge (status=1):\n",
      "STOP: TOTAL NO. of ITERATIONS REACHED LIMIT.\n",
      "\n",
      "Increase the number of iterations (max_iter) or scale the data as shown in:\n",
      "    https://scikit-learn.org/stable/modules/preprocessing.html\n",
      "  self.n_iter_ = _check_optimize_result(\"lbfgs\", opt_res, self.max_iter)\n"
     ]
    },
    {
     "name": "stdout",
     "output_type": "stream",
     "text": [
      "Iteration 1, loss = 0.67299074\n",
      "Iteration 2, loss = 0.52495073\n",
      "Iteration 3, loss = 0.44506118\n",
      "Iteration 4, loss = 0.38353931\n",
      "Iteration 5, loss = 0.34001653\n",
      "Iteration 6, loss = 0.30930584\n",
      "Iteration 7, loss = 0.28387681\n",
      "Iteration 8, loss = 0.26387223\n",
      "Iteration 9, loss = 0.24449983\n",
      "Iteration 10, loss = 0.22938792\n",
      "Iteration 11, loss = 0.21488211\n",
      "Iteration 12, loss = 0.20367890\n",
      "Iteration 13, loss = 0.18961691\n",
      "Iteration 14, loss = 0.17535469\n",
      "Iteration 15, loss = 0.16468579\n",
      "Iteration 16, loss = 0.15396065\n",
      "Iteration 17, loss = 0.14239724\n",
      "Iteration 18, loss = 0.13357735\n",
      "Iteration 19, loss = 0.12707992\n",
      "Iteration 20, loss = 0.11637888\n",
      "Iteration 1, loss = 0.68159396\n",
      "Iteration 2, loss = 0.53137637\n",
      "Iteration 3, loss = 0.44925312\n",
      "Iteration 4, loss = 0.38695985\n"
     ]
    },
    {
     "name": "stderr",
     "output_type": "stream",
     "text": [
      "D:\\AI\\Anaconda3\\lib\\site-packages\\sklearn\\neural_network\\_multilayer_perceptron.py:692: ConvergenceWarning: Stochastic Optimizer: Maximum iterations (20) reached and the optimization hasn't converged yet.\n",
      "  warnings.warn(\n"
     ]
    },
    {
     "name": "stdout",
     "output_type": "stream",
     "text": [
      "Iteration 5, loss = 0.34320303\n",
      "Iteration 6, loss = 0.31380919\n",
      "Iteration 7, loss = 0.28772443\n",
      "Iteration 8, loss = 0.26688208\n",
      "Iteration 9, loss = 0.24680206\n",
      "Iteration 10, loss = 0.23225683\n",
      "Iteration 11, loss = 0.21762661\n",
      "Iteration 12, loss = 0.20335352\n",
      "Iteration 13, loss = 0.19046564\n",
      "Iteration 14, loss = 0.17771520\n",
      "Iteration 15, loss = 0.16697200\n",
      "Iteration 16, loss = 0.15683151\n",
      "Iteration 17, loss = 0.14526955\n",
      "Iteration 18, loss = 0.13527125\n",
      "Iteration 19, loss = 0.12726026\n",
      "Iteration 20, loss = 0.11840551\n"
     ]
    },
    {
     "name": "stderr",
     "output_type": "stream",
     "text": [
      "D:\\AI\\Anaconda3\\lib\\site-packages\\sklearn\\neural_network\\_multilayer_perceptron.py:692: ConvergenceWarning: Stochastic Optimizer: Maximum iterations (20) reached and the optimization hasn't converged yet.\n",
      "  warnings.warn(\n"
     ]
    },
    {
     "name": "stdout",
     "output_type": "stream",
     "text": [
      "Iteration 1, loss = 0.67754793\n",
      "Iteration 2, loss = 0.53212361\n",
      "Iteration 3, loss = 0.45092912\n",
      "Iteration 4, loss = 0.38978772\n",
      "Iteration 5, loss = 0.34684277\n",
      "Iteration 6, loss = 0.31614244\n",
      "Iteration 7, loss = 0.28948840\n",
      "Iteration 8, loss = 0.26705317\n",
      "Iteration 9, loss = 0.24850508\n",
      "Iteration 10, loss = 0.23370262\n",
      "Iteration 11, loss = 0.21820461\n",
      "Iteration 12, loss = 0.20333612\n",
      "Iteration 13, loss = 0.19017190\n",
      "Iteration 14, loss = 0.17811165\n",
      "Iteration 15, loss = 0.16597912\n",
      "Iteration 16, loss = 0.15565621\n",
      "Iteration 17, loss = 0.14502478\n",
      "Iteration 18, loss = 0.13432202\n",
      "Iteration 19, loss = 0.12576450\n",
      "Iteration 20, loss = 0.11707065\n",
      "Iteration 1, loss = 0.67835666\n",
      "Iteration 2, loss = 0.53033485\n"
     ]
    },
    {
     "name": "stderr",
     "output_type": "stream",
     "text": [
      "D:\\AI\\Anaconda3\\lib\\site-packages\\sklearn\\neural_network\\_multilayer_perceptron.py:692: ConvergenceWarning: Stochastic Optimizer: Maximum iterations (20) reached and the optimization hasn't converged yet.\n",
      "  warnings.warn(\n"
     ]
    },
    {
     "name": "stdout",
     "output_type": "stream",
     "text": [
      "Iteration 3, loss = 0.44900740\n",
      "Iteration 4, loss = 0.38721567\n",
      "Iteration 5, loss = 0.34448865\n",
      "Iteration 6, loss = 0.31388445\n",
      "Iteration 7, loss = 0.28555377\n",
      "Iteration 8, loss = 0.26486929\n",
      "Iteration 9, loss = 0.24760401\n",
      "Iteration 10, loss = 0.23443473\n",
      "Iteration 11, loss = 0.21866530\n",
      "Iteration 12, loss = 0.20320701\n",
      "Iteration 13, loss = 0.19090528\n",
      "Iteration 14, loss = 0.17827067\n",
      "Iteration 15, loss = 0.16740672\n",
      "Iteration 16, loss = 0.15747379\n",
      "Iteration 17, loss = 0.14707867\n",
      "Iteration 18, loss = 0.13616226\n",
      "Iteration 19, loss = 0.12753520\n",
      "Iteration 20, loss = 0.11898198\n"
     ]
    },
    {
     "name": "stderr",
     "output_type": "stream",
     "text": [
      "D:\\AI\\Anaconda3\\lib\\site-packages\\sklearn\\neural_network\\_multilayer_perceptron.py:692: ConvergenceWarning: Stochastic Optimizer: Maximum iterations (20) reached and the optimization hasn't converged yet.\n",
      "  warnings.warn(\n"
     ]
    },
    {
     "name": "stdout",
     "output_type": "stream",
     "text": [
      "Iteration 1, loss = 0.67681951\n",
      "Iteration 2, loss = 0.52747087\n",
      "Iteration 3, loss = 0.44655245\n",
      "Iteration 4, loss = 0.38653895\n",
      "Iteration 5, loss = 0.34517396\n",
      "Iteration 6, loss = 0.31606180\n",
      "Iteration 7, loss = 0.28681590\n",
      "Iteration 8, loss = 0.26660551\n",
      "Iteration 9, loss = 0.24922471\n",
      "Iteration 10, loss = 0.23405035\n",
      "Iteration 11, loss = 0.21825361\n",
      "Iteration 12, loss = 0.20251097\n",
      "Iteration 13, loss = 0.19036234\n",
      "Iteration 14, loss = 0.17719397\n",
      "Iteration 15, loss = 0.16665288\n",
      "Iteration 16, loss = 0.15565659\n",
      "Iteration 17, loss = 0.14451368\n",
      "Iteration 18, loss = 0.13392325\n",
      "Iteration 19, loss = 0.12489478\n",
      "Iteration 20, loss = 0.11630211\n",
      "Iteration 1, loss = 0.67902553\n",
      "Iteration 2, loss = 0.52943551\n",
      "Iteration 3, loss = 0.44803472\n",
      "Iteration 4, loss = 0.38697366\n"
     ]
    },
    {
     "name": "stderr",
     "output_type": "stream",
     "text": [
      "D:\\AI\\Anaconda3\\lib\\site-packages\\sklearn\\neural_network\\_multilayer_perceptron.py:692: ConvergenceWarning: Stochastic Optimizer: Maximum iterations (20) reached and the optimization hasn't converged yet.\n",
      "  warnings.warn(\n"
     ]
    },
    {
     "name": "stdout",
     "output_type": "stream",
     "text": [
      "Iteration 5, loss = 0.34359557\n",
      "Iteration 6, loss = 0.31451490\n",
      "Iteration 7, loss = 0.28459383\n",
      "Iteration 8, loss = 0.26456289\n",
      "Iteration 9, loss = 0.24647899\n",
      "Iteration 10, loss = 0.23153873\n",
      "Iteration 11, loss = 0.21664642\n",
      "Iteration 12, loss = 0.20069208\n",
      "Iteration 13, loss = 0.18817017\n",
      "Iteration 14, loss = 0.17678689\n",
      "Iteration 15, loss = 0.16450997\n",
      "Iteration 16, loss = 0.15284435\n",
      "Iteration 17, loss = 0.14233303\n",
      "Iteration 18, loss = 0.13253710\n",
      "Iteration 19, loss = 0.12286243\n",
      "Iteration 20, loss = 0.11470569\n",
      "Iteration 1, loss = 0.67675211\n"
     ]
    },
    {
     "name": "stderr",
     "output_type": "stream",
     "text": [
      "D:\\AI\\Anaconda3\\lib\\site-packages\\sklearn\\neural_network\\_multilayer_perceptron.py:692: ConvergenceWarning: Stochastic Optimizer: Maximum iterations (20) reached and the optimization hasn't converged yet.\n",
      "  warnings.warn(\n"
     ]
    },
    {
     "name": "stdout",
     "output_type": "stream",
     "text": [
      "Iteration 2, loss = 0.52464530\n",
      "Iteration 3, loss = 0.44231273\n",
      "Iteration 4, loss = 0.38087512\n",
      "Iteration 5, loss = 0.33642742\n",
      "Iteration 6, loss = 0.30640005\n",
      "Iteration 7, loss = 0.27754863\n",
      "Iteration 8, loss = 0.25749985\n",
      "Iteration 9, loss = 0.23875954\n",
      "Iteration 10, loss = 0.22536460\n",
      "Iteration 11, loss = 0.20997168\n",
      "Iteration 12, loss = 0.19634022\n",
      "Iteration 13, loss = 0.18424245\n",
      "Iteration 14, loss = 0.17267083\n",
      "Iteration 15, loss = 0.16050982\n",
      "Iteration 16, loss = 0.15036137\n",
      "Iteration 17, loss = 0.14058628\n",
      "Iteration 18, loss = 0.13106111\n",
      "Iteration 19, loss = 0.12106114\n",
      "Iteration 20, loss = 0.11414532\n"
     ]
    },
    {
     "name": "stderr",
     "output_type": "stream",
     "text": [
      "D:\\AI\\Anaconda3\\lib\\site-packages\\sklearn\\neural_network\\_multilayer_perceptron.py:692: ConvergenceWarning: Stochastic Optimizer: Maximum iterations (20) reached and the optimization hasn't converged yet.\n",
      "  warnings.warn(\n"
     ]
    },
    {
     "name": "stdout",
     "output_type": "stream",
     "text": [
      "Iteration 1, loss = 0.67504525\n",
      "Iteration 2, loss = 0.52685021\n",
      "Iteration 3, loss = 0.44548079\n",
      "Iteration 4, loss = 0.38718780\n",
      "Iteration 5, loss = 0.34351736\n",
      "Iteration 6, loss = 0.31387716\n",
      "Iteration 7, loss = 0.28685546\n",
      "Iteration 8, loss = 0.26709364\n",
      "Iteration 9, loss = 0.24804638\n",
      "Iteration 10, loss = 0.23347714\n",
      "Iteration 11, loss = 0.21842087\n",
      "Iteration 12, loss = 0.20340123\n",
      "Iteration 13, loss = 0.19192013\n",
      "Iteration 14, loss = 0.18105134\n",
      "Iteration 15, loss = 0.16806224\n",
      "Iteration 16, loss = 0.15818668\n",
      "Iteration 17, loss = 0.14719487\n",
      "Iteration 18, loss = 0.13665294\n",
      "Iteration 19, loss = 0.12716625\n",
      "Iteration 20, loss = 0.11877368\n",
      "Iteration 1, loss = 0.67033192\n",
      "Iteration 2, loss = 0.52297039\n"
     ]
    },
    {
     "name": "stderr",
     "output_type": "stream",
     "text": [
      "D:\\AI\\Anaconda3\\lib\\site-packages\\sklearn\\neural_network\\_multilayer_perceptron.py:692: ConvergenceWarning: Stochastic Optimizer: Maximum iterations (20) reached and the optimization hasn't converged yet.\n",
      "  warnings.warn(\n"
     ]
    },
    {
     "name": "stdout",
     "output_type": "stream",
     "text": [
      "Iteration 3, loss = 0.44187360\n",
      "Iteration 4, loss = 0.38316633\n",
      "Iteration 5, loss = 0.33935048\n",
      "Iteration 6, loss = 0.30812490\n",
      "Iteration 7, loss = 0.28511139\n",
      "Iteration 8, loss = 0.26505064\n",
      "Iteration 9, loss = 0.24658588\n",
      "Iteration 10, loss = 0.23236682\n",
      "Iteration 11, loss = 0.21647010\n",
      "Iteration 12, loss = 0.20184184\n",
      "Iteration 13, loss = 0.19042769\n",
      "Iteration 14, loss = 0.17858200\n",
      "Iteration 15, loss = 0.16643260\n",
      "Iteration 16, loss = 0.15522373\n",
      "Iteration 17, loss = 0.14428999\n",
      "Iteration 18, loss = 0.13585981\n",
      "Iteration 19, loss = 0.12583134\n",
      "Iteration 20, loss = 0.11763865\n",
      "Iteration 1, loss = 0.67441303\n",
      "Iteration 2, loss = 0.53028662\n",
      "Iteration 3, loss = 0.44964128\n",
      "Iteration 4, loss = 0.39032835\n"
     ]
    },
    {
     "name": "stderr",
     "output_type": "stream",
     "text": [
      "D:\\AI\\Anaconda3\\lib\\site-packages\\sklearn\\neural_network\\_multilayer_perceptron.py:692: ConvergenceWarning: Stochastic Optimizer: Maximum iterations (20) reached and the optimization hasn't converged yet.\n",
      "  warnings.warn(\n"
     ]
    },
    {
     "name": "stdout",
     "output_type": "stream",
     "text": [
      "Iteration 5, loss = 0.34572088\n",
      "Iteration 6, loss = 0.31431980\n",
      "Iteration 7, loss = 0.28956172\n",
      "Iteration 8, loss = 0.26852282\n",
      "Iteration 9, loss = 0.25109896\n",
      "Iteration 10, loss = 0.23783857\n",
      "Iteration 11, loss = 0.22045536\n",
      "Iteration 12, loss = 0.20485167\n",
      "Iteration 13, loss = 0.19274921\n",
      "Iteration 14, loss = 0.17970262\n",
      "Iteration 15, loss = 0.16763414\n",
      "Iteration 16, loss = 0.15622438\n",
      "Iteration 17, loss = 0.14497359\n",
      "Iteration 18, loss = 0.13621339\n",
      "Iteration 19, loss = 0.12529003\n",
      "Iteration 20, loss = 0.11712089\n",
      "Iteration 1, loss = 0.76600355\n",
      "Iteration 2, loss = 0.72037273\n",
      "Iteration 3, loss = 0.68519639\n",
      "Iteration 4, loss = 0.65816178\n"
     ]
    },
    {
     "name": "stderr",
     "output_type": "stream",
     "text": [
      "D:\\AI\\Anaconda3\\lib\\site-packages\\sklearn\\neural_network\\_multilayer_perceptron.py:692: ConvergenceWarning: Stochastic Optimizer: Maximum iterations (20) reached and the optimization hasn't converged yet.\n",
      "  warnings.warn(\n"
     ]
    },
    {
     "name": "stdout",
     "output_type": "stream",
     "text": [
      "Iteration 5, loss = 0.63944185\n",
      "Iteration 6, loss = 0.62435270\n",
      "Iteration 7, loss = 0.61153902\n",
      "Iteration 8, loss = 0.60059695\n",
      "Iteration 9, loss = 0.58961862\n",
      "Iteration 10, loss = 0.58055579\n",
      "Iteration 11, loss = 0.57128525\n",
      "Iteration 12, loss = 0.56300451\n",
      "Iteration 13, loss = 0.55489592\n",
      "Iteration 14, loss = 0.54721492\n",
      "Iteration 15, loss = 0.53959969\n",
      "Iteration 16, loss = 0.53239115\n",
      "Iteration 17, loss = 0.52532481\n",
      "Iteration 18, loss = 0.51890016\n",
      "Iteration 19, loss = 0.51218575\n",
      "Iteration 20, loss = 0.50572411\n",
      "Iteration 1, loss = 0.76945973\n"
     ]
    },
    {
     "name": "stderr",
     "output_type": "stream",
     "text": [
      "D:\\AI\\Anaconda3\\lib\\site-packages\\sklearn\\neural_network\\_multilayer_perceptron.py:692: ConvergenceWarning: Stochastic Optimizer: Maximum iterations (20) reached and the optimization hasn't converged yet.\n",
      "  warnings.warn(\n"
     ]
    },
    {
     "name": "stdout",
     "output_type": "stream",
     "text": [
      "Iteration 2, loss = 0.72377772\n",
      "Iteration 3, loss = 0.68892132\n",
      "Iteration 4, loss = 0.66223383\n",
      "Iteration 5, loss = 0.64362431\n",
      "Iteration 6, loss = 0.62874249\n",
      "Iteration 7, loss = 0.61573664\n",
      "Iteration 8, loss = 0.60474652\n",
      "Iteration 9, loss = 0.59403258\n",
      "Iteration 10, loss = 0.58492719\n",
      "Iteration 11, loss = 0.57574533\n",
      "Iteration 12, loss = 0.56752260\n",
      "Iteration 13, loss = 0.55954305\n",
      "Iteration 14, loss = 0.55201174\n",
      "Iteration 15, loss = 0.54439307\n",
      "Iteration 16, loss = 0.53724187\n",
      "Iteration 17, loss = 0.53014116\n",
      "Iteration 18, loss = 0.52366684\n",
      "Iteration 19, loss = 0.51705346\n",
      "Iteration 20, loss = 0.51066315\n",
      "Iteration 1, loss = 0.76527128\n"
     ]
    },
    {
     "name": "stderr",
     "output_type": "stream",
     "text": [
      "D:\\AI\\Anaconda3\\lib\\site-packages\\sklearn\\neural_network\\_multilayer_perceptron.py:692: ConvergenceWarning: Stochastic Optimizer: Maximum iterations (20) reached and the optimization hasn't converged yet.\n",
      "  warnings.warn(\n"
     ]
    },
    {
     "name": "stdout",
     "output_type": "stream",
     "text": [
      "Iteration 2, loss = 0.72072480\n",
      "Iteration 3, loss = 0.68661204\n",
      "Iteration 4, loss = 0.66056369\n",
      "Iteration 5, loss = 0.64247004\n",
      "Iteration 6, loss = 0.62772164\n",
      "Iteration 7, loss = 0.61505253\n",
      "Iteration 8, loss = 0.60439689\n",
      "Iteration 9, loss = 0.59436105\n",
      "Iteration 10, loss = 0.58525366\n",
      "Iteration 11, loss = 0.57630270\n",
      "Iteration 12, loss = 0.56821377\n",
      "Iteration 13, loss = 0.56057381\n",
      "Iteration 14, loss = 0.55307763\n",
      "Iteration 15, loss = 0.54561329\n",
      "Iteration 16, loss = 0.53860827\n",
      "Iteration 17, loss = 0.53185632\n",
      "Iteration 18, loss = 0.52522733\n",
      "Iteration 19, loss = 0.51858519\n",
      "Iteration 20, loss = 0.51222163\n"
     ]
    },
    {
     "name": "stderr",
     "output_type": "stream",
     "text": [
      "D:\\AI\\Anaconda3\\lib\\site-packages\\sklearn\\neural_network\\_multilayer_perceptron.py:692: ConvergenceWarning: Stochastic Optimizer: Maximum iterations (20) reached and the optimization hasn't converged yet.\n",
      "  warnings.warn(\n"
     ]
    },
    {
     "name": "stdout",
     "output_type": "stream",
     "text": [
      "Iteration 1, loss = 0.76668115\n",
      "Iteration 2, loss = 0.72132211\n",
      "Iteration 3, loss = 0.68638209\n",
      "Iteration 4, loss = 0.65969459\n",
      "Iteration 5, loss = 0.64100203\n",
      "Iteration 6, loss = 0.62565722\n",
      "Iteration 7, loss = 0.61249947\n",
      "Iteration 8, loss = 0.60138731\n",
      "Iteration 9, loss = 0.59112030\n",
      "Iteration 10, loss = 0.58164191\n",
      "Iteration 11, loss = 0.57236590\n",
      "Iteration 12, loss = 0.56396185\n",
      "Iteration 13, loss = 0.55612725\n",
      "Iteration 14, loss = 0.54843478\n",
      "Iteration 15, loss = 0.54063430\n",
      "Iteration 16, loss = 0.53345615\n",
      "Iteration 17, loss = 0.52643578\n",
      "Iteration 18, loss = 0.51967067\n",
      "Iteration 19, loss = 0.51303214\n",
      "Iteration 20, loss = 0.50657952\n",
      "Iteration 1, loss = 0.76569832\n"
     ]
    },
    {
     "name": "stderr",
     "output_type": "stream",
     "text": [
      "D:\\AI\\Anaconda3\\lib\\site-packages\\sklearn\\neural_network\\_multilayer_perceptron.py:692: ConvergenceWarning: Stochastic Optimizer: Maximum iterations (20) reached and the optimization hasn't converged yet.\n",
      "  warnings.warn(\n"
     ]
    },
    {
     "name": "stdout",
     "output_type": "stream",
     "text": [
      "Iteration 2, loss = 0.71886517\n",
      "Iteration 3, loss = 0.68413022\n",
      "Iteration 4, loss = 0.65732415\n",
      "Iteration 5, loss = 0.63889637\n",
      "Iteration 6, loss = 0.62360768\n",
      "Iteration 7, loss = 0.61059193\n",
      "Iteration 8, loss = 0.59937277\n",
      "Iteration 9, loss = 0.58931298\n",
      "Iteration 10, loss = 0.57981780\n",
      "Iteration 11, loss = 0.57049176\n",
      "Iteration 12, loss = 0.56203657\n",
      "Iteration 13, loss = 0.55442126\n",
      "Iteration 14, loss = 0.54635938\n",
      "Iteration 15, loss = 0.53874598\n",
      "Iteration 16, loss = 0.53156431\n",
      "Iteration 17, loss = 0.52481975\n",
      "Iteration 18, loss = 0.51810670\n",
      "Iteration 19, loss = 0.51151484\n",
      "Iteration 20, loss = 0.50484307\n",
      "Iteration 1, loss = 0.76743849\n"
     ]
    },
    {
     "name": "stderr",
     "output_type": "stream",
     "text": [
      "D:\\AI\\Anaconda3\\lib\\site-packages\\sklearn\\neural_network\\_multilayer_perceptron.py:692: ConvergenceWarning: Stochastic Optimizer: Maximum iterations (20) reached and the optimization hasn't converged yet.\n",
      "  warnings.warn(\n"
     ]
    },
    {
     "name": "stdout",
     "output_type": "stream",
     "text": [
      "Iteration 2, loss = 0.72113379\n",
      "Iteration 3, loss = 0.68660827\n",
      "Iteration 4, loss = 0.65988348\n",
      "Iteration 5, loss = 0.64132396\n",
      "Iteration 6, loss = 0.62612125\n",
      "Iteration 7, loss = 0.61339675\n",
      "Iteration 8, loss = 0.60229769\n",
      "Iteration 9, loss = 0.59236558\n",
      "Iteration 10, loss = 0.58310409\n",
      "Iteration 11, loss = 0.57401854\n",
      "Iteration 12, loss = 0.56571295\n",
      "Iteration 13, loss = 0.55828028\n",
      "Iteration 14, loss = 0.55012648\n",
      "Iteration 15, loss = 0.54266848\n",
      "Iteration 16, loss = 0.53553970\n",
      "Iteration 17, loss = 0.52863396\n",
      "Iteration 18, loss = 0.52211773\n",
      "Iteration 19, loss = 0.51541830\n",
      "Iteration 20, loss = 0.50884106\n",
      "Iteration 1, loss = 0.76915237\n",
      "Iteration 2, loss = 0.72081884\n"
     ]
    },
    {
     "name": "stderr",
     "output_type": "stream",
     "text": [
      "D:\\AI\\Anaconda3\\lib\\site-packages\\sklearn\\neural_network\\_multilayer_perceptron.py:692: ConvergenceWarning: Stochastic Optimizer: Maximum iterations (20) reached and the optimization hasn't converged yet.\n",
      "  warnings.warn(\n"
     ]
    },
    {
     "name": "stdout",
     "output_type": "stream",
     "text": [
      "Iteration 3, loss = 0.68446117\n",
      "Iteration 4, loss = 0.65704939\n",
      "Iteration 5, loss = 0.63809916\n",
      "Iteration 6, loss = 0.62273311\n",
      "Iteration 7, loss = 0.60969206\n",
      "Iteration 8, loss = 0.59842418\n",
      "Iteration 9, loss = 0.58811565\n",
      "Iteration 10, loss = 0.57885671\n",
      "Iteration 11, loss = 0.56972646\n",
      "Iteration 12, loss = 0.56154029\n",
      "Iteration 13, loss = 0.55389079\n",
      "Iteration 14, loss = 0.54581637\n",
      "Iteration 15, loss = 0.53819993\n",
      "Iteration 16, loss = 0.53130723\n",
      "Iteration 17, loss = 0.52417375\n",
      "Iteration 18, loss = 0.51780373\n",
      "Iteration 19, loss = 0.51131144\n",
      "Iteration 20, loss = 0.50475288\n",
      "Iteration 1, loss = 0.76430167\n",
      "Iteration 2, loss = 0.71940176\n"
     ]
    },
    {
     "name": "stderr",
     "output_type": "stream",
     "text": [
      "D:\\AI\\Anaconda3\\lib\\site-packages\\sklearn\\neural_network\\_multilayer_perceptron.py:692: ConvergenceWarning: Stochastic Optimizer: Maximum iterations (20) reached and the optimization hasn't converged yet.\n",
      "  warnings.warn(\n"
     ]
    },
    {
     "name": "stdout",
     "output_type": "stream",
     "text": [
      "Iteration 3, loss = 0.68495793\n",
      "Iteration 4, loss = 0.65961799\n",
      "Iteration 5, loss = 0.64092326\n",
      "Iteration 6, loss = 0.62588528\n",
      "Iteration 7, loss = 0.61297307\n",
      "Iteration 8, loss = 0.60173522\n",
      "Iteration 9, loss = 0.59146104\n",
      "Iteration 10, loss = 0.58210933\n",
      "Iteration 11, loss = 0.57296534\n",
      "Iteration 12, loss = 0.56463123\n",
      "Iteration 13, loss = 0.55690090\n",
      "Iteration 14, loss = 0.54908017\n",
      "Iteration 15, loss = 0.54127822\n",
      "Iteration 16, loss = 0.53479234\n",
      "Iteration 17, loss = 0.52735682\n",
      "Iteration 18, loss = 0.52064907\n",
      "Iteration 19, loss = 0.51409316\n",
      "Iteration 20, loss = 0.50762717\n",
      "Iteration 1, loss = 0.76278109\n",
      "Iteration 2, loss = 0.71657784\n",
      "Iteration 3, loss = 0.68145842\n",
      "Iteration 4, loss = 0.65536547\n"
     ]
    },
    {
     "name": "stderr",
     "output_type": "stream",
     "text": [
      "D:\\AI\\Anaconda3\\lib\\site-packages\\sklearn\\neural_network\\_multilayer_perceptron.py:692: ConvergenceWarning: Stochastic Optimizer: Maximum iterations (20) reached and the optimization hasn't converged yet.\n",
      "  warnings.warn(\n"
     ]
    },
    {
     "name": "stdout",
     "output_type": "stream",
     "text": [
      "Iteration 5, loss = 0.63674876\n",
      "Iteration 6, loss = 0.62147555\n",
      "Iteration 7, loss = 0.60886654\n",
      "Iteration 8, loss = 0.59759521\n",
      "Iteration 9, loss = 0.58762633\n",
      "Iteration 10, loss = 0.57819555\n",
      "Iteration 11, loss = 0.56911084\n",
      "Iteration 12, loss = 0.56101739\n",
      "Iteration 13, loss = 0.55293520\n",
      "Iteration 14, loss = 0.54576126\n",
      "Iteration 15, loss = 0.53792919\n",
      "Iteration 16, loss = 0.53039126\n",
      "Iteration 17, loss = 0.52361883\n",
      "Iteration 18, loss = 0.51655854\n",
      "Iteration 19, loss = 0.51017050\n",
      "Iteration 20, loss = 0.50369198\n",
      "Iteration 1, loss = 0.76278633\n",
      "Iteration 2, loss = 0.71938813\n",
      "Iteration 3, loss = 0.68546755\n"
     ]
    },
    {
     "name": "stderr",
     "output_type": "stream",
     "text": [
      "D:\\AI\\Anaconda3\\lib\\site-packages\\sklearn\\neural_network\\_multilayer_perceptron.py:692: ConvergenceWarning: Stochastic Optimizer: Maximum iterations (20) reached and the optimization hasn't converged yet.\n",
      "  warnings.warn(\n"
     ]
    },
    {
     "name": "stdout",
     "output_type": "stream",
     "text": [
      "Iteration 4, loss = 0.66019842\n",
      "Iteration 5, loss = 0.64209906\n",
      "Iteration 6, loss = 0.62719272\n",
      "Iteration 7, loss = 0.61460560\n",
      "Iteration 8, loss = 0.60361200\n",
      "Iteration 9, loss = 0.59366881\n",
      "Iteration 10, loss = 0.58434760\n",
      "Iteration 11, loss = 0.57544919\n",
      "Iteration 12, loss = 0.56747061\n",
      "Iteration 13, loss = 0.55956353\n",
      "Iteration 14, loss = 0.55220451\n",
      "Iteration 15, loss = 0.54482457\n",
      "Iteration 16, loss = 0.53743955\n",
      "Iteration 17, loss = 0.53097301\n",
      "Iteration 18, loss = 0.52407078\n",
      "Iteration 19, loss = 0.51781123\n",
      "Iteration 20, loss = 0.51138912\n"
     ]
    },
    {
     "name": "stderr",
     "output_type": "stream",
     "text": [
      "D:\\AI\\Anaconda3\\lib\\site-packages\\sklearn\\neural_network\\_multilayer_perceptron.py:692: ConvergenceWarning: Stochastic Optimizer: Maximum iterations (20) reached and the optimization hasn't converged yet.\n",
      "  warnings.warn(\n",
      "D:\\AI\\Anaconda3\\lib\\site-packages\\sklearn\\neural_network\\_multilayer_perceptron.py:549: ConvergenceWarning: lbfgs failed to converge (status=1):\n",
      "STOP: TOTAL NO. of ITERATIONS REACHED LIMIT.\n",
      "\n",
      "Increase the number of iterations (max_iter) or scale the data as shown in:\n",
      "    https://scikit-learn.org/stable/modules/preprocessing.html\n",
      "  self.n_iter_ = _check_optimize_result(\"lbfgs\", opt_res, self.max_iter)\n",
      "D:\\AI\\Anaconda3\\lib\\site-packages\\sklearn\\neural_network\\_multilayer_perceptron.py:549: ConvergenceWarning: lbfgs failed to converge (status=1):\n",
      "STOP: TOTAL NO. of ITERATIONS REACHED LIMIT.\n",
      "\n",
      "Increase the number of iterations (max_iter) or scale the data as shown in:\n",
      "    https://scikit-learn.org/stable/modules/preprocessing.html\n",
      "  self.n_iter_ = _check_optimize_result(\"lbfgs\", opt_res, self.max_iter)\n",
      "D:\\AI\\Anaconda3\\lib\\site-packages\\sklearn\\neural_network\\_multilayer_perceptron.py:549: ConvergenceWarning: lbfgs failed to converge (status=1):\n",
      "STOP: TOTAL NO. of ITERATIONS REACHED LIMIT.\n",
      "\n",
      "Increase the number of iterations (max_iter) or scale the data as shown in:\n",
      "    https://scikit-learn.org/stable/modules/preprocessing.html\n",
      "  self.n_iter_ = _check_optimize_result(\"lbfgs\", opt_res, self.max_iter)\n",
      "D:\\AI\\Anaconda3\\lib\\site-packages\\sklearn\\neural_network\\_multilayer_perceptron.py:549: ConvergenceWarning: lbfgs failed to converge (status=1):\n",
      "STOP: TOTAL NO. of ITERATIONS REACHED LIMIT.\n",
      "\n",
      "Increase the number of iterations (max_iter) or scale the data as shown in:\n",
      "    https://scikit-learn.org/stable/modules/preprocessing.html\n",
      "  self.n_iter_ = _check_optimize_result(\"lbfgs\", opt_res, self.max_iter)\n",
      "D:\\AI\\Anaconda3\\lib\\site-packages\\sklearn\\neural_network\\_multilayer_perceptron.py:549: ConvergenceWarning: lbfgs failed to converge (status=1):\n",
      "STOP: TOTAL NO. of ITERATIONS REACHED LIMIT.\n",
      "\n",
      "Increase the number of iterations (max_iter) or scale the data as shown in:\n",
      "    https://scikit-learn.org/stable/modules/preprocessing.html\n",
      "  self.n_iter_ = _check_optimize_result(\"lbfgs\", opt_res, self.max_iter)\n",
      "D:\\AI\\Anaconda3\\lib\\site-packages\\sklearn\\neural_network\\_multilayer_perceptron.py:549: ConvergenceWarning: lbfgs failed to converge (status=1):\n",
      "STOP: TOTAL NO. of ITERATIONS REACHED LIMIT.\n",
      "\n",
      "Increase the number of iterations (max_iter) or scale the data as shown in:\n",
      "    https://scikit-learn.org/stable/modules/preprocessing.html\n",
      "  self.n_iter_ = _check_optimize_result(\"lbfgs\", opt_res, self.max_iter)\n",
      "D:\\AI\\Anaconda3\\lib\\site-packages\\sklearn\\neural_network\\_multilayer_perceptron.py:549: ConvergenceWarning: lbfgs failed to converge (status=1):\n",
      "STOP: TOTAL NO. of ITERATIONS REACHED LIMIT.\n",
      "\n",
      "Increase the number of iterations (max_iter) or scale the data as shown in:\n",
      "    https://scikit-learn.org/stable/modules/preprocessing.html\n",
      "  self.n_iter_ = _check_optimize_result(\"lbfgs\", opt_res, self.max_iter)\n",
      "D:\\AI\\Anaconda3\\lib\\site-packages\\sklearn\\neural_network\\_multilayer_perceptron.py:549: ConvergenceWarning: lbfgs failed to converge (status=1):\n",
      "STOP: TOTAL NO. of ITERATIONS REACHED LIMIT.\n",
      "\n",
      "Increase the number of iterations (max_iter) or scale the data as shown in:\n",
      "    https://scikit-learn.org/stable/modules/preprocessing.html\n",
      "  self.n_iter_ = _check_optimize_result(\"lbfgs\", opt_res, self.max_iter)\n",
      "D:\\AI\\Anaconda3\\lib\\site-packages\\sklearn\\neural_network\\_multilayer_perceptron.py:549: ConvergenceWarning: lbfgs failed to converge (status=1):\n",
      "STOP: TOTAL NO. of ITERATIONS REACHED LIMIT.\n",
      "\n",
      "Increase the number of iterations (max_iter) or scale the data as shown in:\n",
      "    https://scikit-learn.org/stable/modules/preprocessing.html\n",
      "  self.n_iter_ = _check_optimize_result(\"lbfgs\", opt_res, self.max_iter)\n",
      "D:\\AI\\Anaconda3\\lib\\site-packages\\sklearn\\neural_network\\_multilayer_perceptron.py:549: ConvergenceWarning: lbfgs failed to converge (status=1):\n",
      "STOP: TOTAL NO. of ITERATIONS REACHED LIMIT.\n",
      "\n",
      "Increase the number of iterations (max_iter) or scale the data as shown in:\n",
      "    https://scikit-learn.org/stable/modules/preprocessing.html\n",
      "  self.n_iter_ = _check_optimize_result(\"lbfgs\", opt_res, self.max_iter)\n"
     ]
    },
    {
     "name": "stdout",
     "output_type": "stream",
     "text": [
      "Iteration 1, loss = 0.93756375\n",
      "Iteration 2, loss = 0.91641866\n",
      "Iteration 3, loss = 0.90030827\n",
      "Iteration 4, loss = 0.88814130\n",
      "Iteration 5, loss = 0.87854906\n",
      "Iteration 6, loss = 0.87097556\n",
      "Iteration 7, loss = 0.86450768\n",
      "Iteration 8, loss = 0.85879653\n",
      "Iteration 9, loss = 0.85371988\n",
      "Iteration 10, loss = 0.84894438\n",
      "Iteration 11, loss = 0.84442728\n",
      "Iteration 12, loss = 0.84017412\n",
      "Iteration 13, loss = 0.83596266\n",
      "Iteration 14, loss = 0.83184955\n",
      "Iteration 15, loss = 0.82787616\n",
      "Iteration 16, loss = 0.82393742\n",
      "Iteration 17, loss = 0.82008258\n",
      "Iteration 18, loss = 0.81625867\n",
      "Iteration 19, loss = 0.81248900\n",
      "Iteration 20, loss = 0.80870161\n"
     ]
    },
    {
     "name": "stderr",
     "output_type": "stream",
     "text": [
      "D:\\AI\\Anaconda3\\lib\\site-packages\\sklearn\\neural_network\\_multilayer_perceptron.py:692: ConvergenceWarning: Stochastic Optimizer: Maximum iterations (20) reached and the optimization hasn't converged yet.\n",
      "  warnings.warn(\n"
     ]
    },
    {
     "name": "stdout",
     "output_type": "stream",
     "text": [
      "Iteration 1, loss = 0.93280532\n",
      "Iteration 2, loss = 0.91178101\n",
      "Iteration 3, loss = 0.89567659\n",
      "Iteration 4, loss = 0.88354194\n",
      "Iteration 5, loss = 0.87401952\n",
      "Iteration 6, loss = 0.86645794\n",
      "Iteration 7, loss = 0.85999812\n",
      "Iteration 8, loss = 0.85432595\n",
      "Iteration 9, loss = 0.84930435\n",
      "Iteration 10, loss = 0.84463838\n",
      "Iteration 11, loss = 0.84018798\n",
      "Iteration 12, loss = 0.83596908\n",
      "Iteration 13, loss = 0.83185616\n",
      "Iteration 14, loss = 0.82781863\n",
      "Iteration 15, loss = 0.82391879\n",
      "Iteration 16, loss = 0.82006836\n",
      "Iteration 17, loss = 0.81628634\n",
      "Iteration 18, loss = 0.81254952\n",
      "Iteration 19, loss = 0.80886793\n",
      "Iteration 20, loss = 0.80520210\n",
      "Iteration 1, loss = 0.92815965\n",
      "Iteration 2, loss = 0.90750877\n",
      "Iteration 3, loss = 0.89179857\n",
      "Iteration 4, loss = 0.87997067\n",
      "Iteration 5, loss = 0.87058685\n",
      "Iteration 6, loss = 0.86320838\n",
      "Iteration 7, loss = 0.85686638\n",
      "Iteration 8, loss = 0.85128192\n",
      "Iteration 9, loss = 0.84633252\n",
      "Iteration 10, loss = 0.84173327\n"
     ]
    },
    {
     "name": "stderr",
     "output_type": "stream",
     "text": [
      "D:\\AI\\Anaconda3\\lib\\site-packages\\sklearn\\neural_network\\_multilayer_perceptron.py:692: ConvergenceWarning: Stochastic Optimizer: Maximum iterations (20) reached and the optimization hasn't converged yet.\n",
      "  warnings.warn(\n"
     ]
    },
    {
     "name": "stdout",
     "output_type": "stream",
     "text": [
      "Iteration 11, loss = 0.83736195\n",
      "Iteration 12, loss = 0.83317989\n",
      "Iteration 13, loss = 0.82911902\n",
      "Iteration 14, loss = 0.82513819\n",
      "Iteration 15, loss = 0.82125537\n",
      "Iteration 16, loss = 0.81744572\n",
      "Iteration 17, loss = 0.81368714\n",
      "Iteration 18, loss = 0.80994431\n",
      "Iteration 19, loss = 0.80624527\n",
      "Iteration 20, loss = 0.80251823\n",
      "Iteration 1, loss = 0.93654165\n",
      "Iteration 2, loss = 0.91524476\n",
      "Iteration 3, loss = 0.89910403\n",
      "Iteration 4, loss = 0.88697204\n",
      "Iteration 5, loss = 0.87734697\n",
      "Iteration 6, loss = 0.86975313\n"
     ]
    },
    {
     "name": "stderr",
     "output_type": "stream",
     "text": [
      "D:\\AI\\Anaconda3\\lib\\site-packages\\sklearn\\neural_network\\_multilayer_perceptron.py:692: ConvergenceWarning: Stochastic Optimizer: Maximum iterations (20) reached and the optimization hasn't converged yet.\n",
      "  warnings.warn(\n"
     ]
    },
    {
     "name": "stdout",
     "output_type": "stream",
     "text": [
      "Iteration 7, loss = 0.86327203\n",
      "Iteration 8, loss = 0.85756361\n",
      "Iteration 9, loss = 0.85249870\n",
      "Iteration 10, loss = 0.84777779\n",
      "Iteration 11, loss = 0.84333782\n",
      "Iteration 12, loss = 0.83905829\n",
      "Iteration 13, loss = 0.83488738\n",
      "Iteration 14, loss = 0.83084576\n",
      "Iteration 15, loss = 0.82684409\n",
      "Iteration 16, loss = 0.82297874\n",
      "Iteration 17, loss = 0.81912265\n",
      "Iteration 18, loss = 0.81533149\n",
      "Iteration 19, loss = 0.81154980\n",
      "Iteration 20, loss = 0.80781539\n",
      "Iteration 1, loss = 0.92778376\n",
      "Iteration 2, loss = 0.90696427\n"
     ]
    },
    {
     "name": "stderr",
     "output_type": "stream",
     "text": [
      "D:\\AI\\Anaconda3\\lib\\site-packages\\sklearn\\neural_network\\_multilayer_perceptron.py:692: ConvergenceWarning: Stochastic Optimizer: Maximum iterations (20) reached and the optimization hasn't converged yet.\n",
      "  warnings.warn(\n"
     ]
    },
    {
     "name": "stdout",
     "output_type": "stream",
     "text": [
      "Iteration 3, loss = 0.89120071\n",
      "Iteration 4, loss = 0.87938586\n",
      "Iteration 5, loss = 0.86991263\n",
      "Iteration 6, loss = 0.86255100\n",
      "Iteration 7, loss = 0.85619220\n",
      "Iteration 8, loss = 0.85068168\n",
      "Iteration 9, loss = 0.84573341\n",
      "Iteration 10, loss = 0.84118519\n",
      "Iteration 11, loss = 0.83682531\n",
      "Iteration 12, loss = 0.83266341\n",
      "Iteration 13, loss = 0.82857127\n",
      "Iteration 14, loss = 0.82459333\n",
      "Iteration 15, loss = 0.82062509\n",
      "Iteration 16, loss = 0.81672801\n",
      "Iteration 17, loss = 0.81277116\n",
      "Iteration 18, loss = 0.80879019\n",
      "Iteration 19, loss = 0.80464257\n",
      "Iteration 20, loss = 0.80035808\n",
      "Iteration 1, loss = 0.93307885\n",
      "Iteration 2, loss = 0.91218999\n",
      "Iteration 3, loss = 0.89622221\n",
      "Iteration 4, loss = 0.88429593\n",
      "Iteration 5, loss = 0.87477572\n",
      "Iteration 6, loss = 0.86730857\n",
      "Iteration 7, loss = 0.86085702\n",
      "Iteration 8, loss = 0.85533449\n",
      "Iteration 9, loss = 0.85025163\n",
      "Iteration 10, loss = 0.84564438\n",
      "Iteration 11, loss = 0.84122337\n",
      "Iteration 12, loss = 0.83696384\n",
      "Iteration 13, loss = 0.83282439\n",
      "Iteration 14, loss = 0.82881021\n"
     ]
    },
    {
     "name": "stderr",
     "output_type": "stream",
     "text": [
      "D:\\AI\\Anaconda3\\lib\\site-packages\\sklearn\\neural_network\\_multilayer_perceptron.py:692: ConvergenceWarning: Stochastic Optimizer: Maximum iterations (20) reached and the optimization hasn't converged yet.\n",
      "  warnings.warn(\n"
     ]
    },
    {
     "name": "stdout",
     "output_type": "stream",
     "text": [
      "Iteration 15, loss = 0.82476230\n",
      "Iteration 16, loss = 0.82088135\n",
      "Iteration 17, loss = 0.81691611\n",
      "Iteration 18, loss = 0.81302514\n",
      "Iteration 19, loss = 0.80901877\n",
      "Iteration 20, loss = 0.80493355\n",
      "Iteration 1, loss = 0.93714608\n",
      "Iteration 2, loss = 0.91607158\n",
      "Iteration 3, loss = 0.89995610\n",
      "Iteration 4, loss = 0.88787869\n",
      "Iteration 5, loss = 0.87816168\n",
      "Iteration 6, loss = 0.87057384\n",
      "Iteration 7, loss = 0.86398366\n",
      "Iteration 8, loss = 0.85841851\n",
      "Iteration 9, loss = 0.85324276\n",
      "Iteration 10, loss = 0.84857938\n"
     ]
    },
    {
     "name": "stderr",
     "output_type": "stream",
     "text": [
      "D:\\AI\\Anaconda3\\lib\\site-packages\\sklearn\\neural_network\\_multilayer_perceptron.py:692: ConvergenceWarning: Stochastic Optimizer: Maximum iterations (20) reached and the optimization hasn't converged yet.\n",
      "  warnings.warn(\n"
     ]
    },
    {
     "name": "stdout",
     "output_type": "stream",
     "text": [
      "Iteration 11, loss = 0.84411118\n",
      "Iteration 12, loss = 0.83978789\n",
      "Iteration 13, loss = 0.83562644\n",
      "Iteration 14, loss = 0.83156729\n",
      "Iteration 15, loss = 0.82749702\n",
      "Iteration 16, loss = 0.82358805\n",
      "Iteration 17, loss = 0.81963240\n",
      "Iteration 18, loss = 0.81581598\n",
      "Iteration 19, loss = 0.81189380\n",
      "Iteration 20, loss = 0.80797637\n",
      "Iteration 1, loss = 0.94162413\n",
      "Iteration 2, loss = 0.92022310\n",
      "Iteration 3, loss = 0.90384677\n",
      "Iteration 4, loss = 0.89159151\n",
      "Iteration 5, loss = 0.88185831\n",
      "Iteration 6, loss = 0.87419969\n"
     ]
    },
    {
     "name": "stderr",
     "output_type": "stream",
     "text": [
      "D:\\AI\\Anaconda3\\lib\\site-packages\\sklearn\\neural_network\\_multilayer_perceptron.py:692: ConvergenceWarning: Stochastic Optimizer: Maximum iterations (20) reached and the optimization hasn't converged yet.\n",
      "  warnings.warn(\n"
     ]
    },
    {
     "name": "stdout",
     "output_type": "stream",
     "text": [
      "Iteration 7, loss = 0.86756522\n",
      "Iteration 8, loss = 0.86192933\n",
      "Iteration 9, loss = 0.85670750\n",
      "Iteration 10, loss = 0.85195596\n",
      "Iteration 11, loss = 0.84740601\n",
      "Iteration 12, loss = 0.84303618\n",
      "Iteration 13, loss = 0.83882433\n",
      "Iteration 14, loss = 0.83470895\n",
      "Iteration 15, loss = 0.83059280\n",
      "Iteration 16, loss = 0.82664683\n",
      "Iteration 17, loss = 0.82266496\n",
      "Iteration 18, loss = 0.81880232\n",
      "Iteration 19, loss = 0.81490263\n",
      "Iteration 20, loss = 0.81099115\n",
      "Iteration 1, loss = 0.93283380\n",
      "Iteration 2, loss = 0.91197410\n"
     ]
    },
    {
     "name": "stderr",
     "output_type": "stream",
     "text": [
      "D:\\AI\\Anaconda3\\lib\\site-packages\\sklearn\\neural_network\\_multilayer_perceptron.py:692: ConvergenceWarning: Stochastic Optimizer: Maximum iterations (20) reached and the optimization hasn't converged yet.\n",
      "  warnings.warn(\n"
     ]
    },
    {
     "name": "stdout",
     "output_type": "stream",
     "text": [
      "Iteration 3, loss = 0.89607621\n",
      "Iteration 4, loss = 0.88375059\n",
      "Iteration 5, loss = 0.87446576\n",
      "Iteration 6, loss = 0.86681534\n",
      "Iteration 7, loss = 0.86035406\n",
      "Iteration 8, loss = 0.85481766\n",
      "Iteration 9, loss = 0.84978626\n",
      "Iteration 10, loss = 0.84515999\n",
      "Iteration 11, loss = 0.84065227\n",
      "Iteration 12, loss = 0.83648907\n",
      "Iteration 13, loss = 0.83238809\n",
      "Iteration 14, loss = 0.82841876\n",
      "Iteration 15, loss = 0.82444111\n",
      "Iteration 16, loss = 0.82057727\n",
      "Iteration 17, loss = 0.81678481\n",
      "Iteration 18, loss = 0.81297661\n",
      "Iteration 19, loss = 0.80921983\n",
      "Iteration 20, loss = 0.80545744\n",
      "Iteration 1, loss = 0.93359489\n",
      "Iteration 2, loss = 0.91283203\n",
      "Iteration 3, loss = 0.89700303\n",
      "Iteration 4, loss = 0.88477980\n",
      "Iteration 5, loss = 0.87550456\n",
      "Iteration 6, loss = 0.86780660\n",
      "Iteration 7, loss = 0.86138883\n",
      "Iteration 8, loss = 0.85582840\n",
      "Iteration 9, loss = 0.85076498\n",
      "Iteration 10, loss = 0.84611901\n",
      "Iteration 11, loss = 0.84160632\n",
      "Iteration 12, loss = 0.83742195\n",
      "Iteration 13, loss = 0.83330996\n"
     ]
    },
    {
     "name": "stderr",
     "output_type": "stream",
     "text": [
      "D:\\AI\\Anaconda3\\lib\\site-packages\\sklearn\\neural_network\\_multilayer_perceptron.py:692: ConvergenceWarning: Stochastic Optimizer: Maximum iterations (20) reached and the optimization hasn't converged yet.\n",
      "  warnings.warn(\n"
     ]
    },
    {
     "name": "stdout",
     "output_type": "stream",
     "text": [
      "Iteration 14, loss = 0.82931944\n",
      "Iteration 15, loss = 0.82532920\n",
      "Iteration 16, loss = 0.82147438\n",
      "Iteration 17, loss = 0.81767189\n",
      "Iteration 18, loss = 0.81384009\n",
      "Iteration 19, loss = 0.81010202\n",
      "Iteration 20, loss = 0.80634487\n",
      "Iteration 1, loss = 0.93286431\n",
      "Iteration 2, loss = 0.88286140\n",
      "Iteration 3, loss = 0.83909709\n",
      "Iteration 4, loss = 0.80810718\n",
      "Iteration 5, loss = 0.78695198\n",
      "Iteration 6, loss = 0.77324446\n",
      "Iteration 7, loss = 0.76373775\n",
      "Iteration 8, loss = 0.75648140\n",
      "Iteration 9, loss = 0.75073467\n",
      "Iteration 10, loss = 0.74538028\n"
     ]
    },
    {
     "name": "stderr",
     "output_type": "stream",
     "text": [
      "D:\\AI\\Anaconda3\\lib\\site-packages\\sklearn\\neural_network\\_multilayer_perceptron.py:692: ConvergenceWarning: Stochastic Optimizer: Maximum iterations (20) reached and the optimization hasn't converged yet.\n",
      "  warnings.warn(\n"
     ]
    },
    {
     "name": "stdout",
     "output_type": "stream",
     "text": [
      "Iteration 11, loss = 0.74038005\n",
      "Iteration 12, loss = 0.73561941\n",
      "Iteration 13, loss = 0.73080536\n",
      "Iteration 14, loss = 0.72603495\n",
      "Iteration 15, loss = 0.72129243\n",
      "Iteration 16, loss = 0.71691120\n",
      "Iteration 17, loss = 0.71253894\n",
      "Iteration 18, loss = 0.70789970\n",
      "Iteration 19, loss = 0.70348960\n",
      "Iteration 20, loss = 0.69889762\n",
      "Iteration 1, loss = 0.92815130\n",
      "Iteration 2, loss = 0.87814143\n",
      "Iteration 3, loss = 0.83460576\n",
      "Iteration 4, loss = 0.80405919\n",
      "Iteration 5, loss = 0.78353102\n",
      "Iteration 6, loss = 0.77038702\n",
      "Iteration 7, loss = 0.76128815\n",
      "Iteration 8, loss = 0.75441728\n",
      "Iteration 9, loss = 0.74901640\n"
     ]
    },
    {
     "name": "stderr",
     "output_type": "stream",
     "text": [
      "D:\\AI\\Anaconda3\\lib\\site-packages\\sklearn\\neural_network\\_multilayer_perceptron.py:692: ConvergenceWarning: Stochastic Optimizer: Maximum iterations (20) reached and the optimization hasn't converged yet.\n",
      "  warnings.warn(\n"
     ]
    },
    {
     "name": "stdout",
     "output_type": "stream",
     "text": [
      "Iteration 10, loss = 0.74409892\n",
      "Iteration 11, loss = 0.73944079\n",
      "Iteration 12, loss = 0.73498163\n",
      "Iteration 13, loss = 0.73056760\n",
      "Iteration 14, loss = 0.72626268\n",
      "Iteration 15, loss = 0.72193082\n",
      "Iteration 16, loss = 0.71788810\n",
      "Iteration 17, loss = 0.71392698\n",
      "Iteration 18, loss = 0.70993389\n",
      "Iteration 19, loss = 0.70589707\n",
      "Iteration 20, loss = 0.70167720\n",
      "Iteration 1, loss = 0.92398553\n",
      "Iteration 2, loss = 0.87608161\n",
      "Iteration 3, loss = 0.83405239\n",
      "Iteration 4, loss = 0.80442954\n",
      "Iteration 5, loss = 0.78394634\n",
      "Iteration 6, loss = 0.77093532\n",
      "Iteration 7, loss = 0.76169893\n",
      "Iteration 8, loss = 0.75470859\n"
     ]
    },
    {
     "name": "stderr",
     "output_type": "stream",
     "text": [
      "D:\\AI\\Anaconda3\\lib\\site-packages\\sklearn\\neural_network\\_multilayer_perceptron.py:692: ConvergenceWarning: Stochastic Optimizer: Maximum iterations (20) reached and the optimization hasn't converged yet.\n",
      "  warnings.warn(\n"
     ]
    },
    {
     "name": "stdout",
     "output_type": "stream",
     "text": [
      "Iteration 9, loss = 0.74923007\n",
      "Iteration 10, loss = 0.74429658\n",
      "Iteration 11, loss = 0.73961284\n",
      "Iteration 12, loss = 0.73510654\n",
      "Iteration 13, loss = 0.73071609\n",
      "Iteration 14, loss = 0.72641726\n",
      "Iteration 15, loss = 0.72208343\n",
      "Iteration 16, loss = 0.71822208\n",
      "Iteration 17, loss = 0.71442891\n",
      "Iteration 18, loss = 0.71054834\n",
      "Iteration 19, loss = 0.70677327\n",
      "Iteration 20, loss = 0.70280885\n",
      "Iteration 1, loss = 0.93176552\n",
      "Iteration 2, loss = 0.88132817\n",
      "Iteration 3, loss = 0.83751689\n",
      "Iteration 4, loss = 0.80675835\n",
      "Iteration 5, loss = 0.78555474\n",
      "Iteration 6, loss = 0.77212716\n"
     ]
    },
    {
     "name": "stderr",
     "output_type": "stream",
     "text": [
      "D:\\AI\\Anaconda3\\lib\\site-packages\\sklearn\\neural_network\\_multilayer_perceptron.py:692: ConvergenceWarning: Stochastic Optimizer: Maximum iterations (20) reached and the optimization hasn't converged yet.\n",
      "  warnings.warn(\n"
     ]
    },
    {
     "name": "stdout",
     "output_type": "stream",
     "text": [
      "Iteration 7, loss = 0.76282003\n",
      "Iteration 8, loss = 0.75568285\n",
      "Iteration 9, loss = 0.75006453\n",
      "Iteration 10, loss = 0.74496449\n",
      "Iteration 11, loss = 0.74020658\n",
      "Iteration 12, loss = 0.73557294\n",
      "Iteration 13, loss = 0.73100371\n",
      "Iteration 14, loss = 0.72659533\n",
      "Iteration 15, loss = 0.72207680\n",
      "Iteration 16, loss = 0.71787721\n",
      "Iteration 17, loss = 0.71383041\n",
      "Iteration 18, loss = 0.70969058\n",
      "Iteration 19, loss = 0.70551304\n",
      "Iteration 20, loss = 0.70130166\n",
      "Iteration 1, loss = 0.92336140\n",
      "Iteration 2, loss = 0.87522554\n",
      "Iteration 3, loss = 0.83328206\n",
      "Iteration 4, loss = 0.80373489\n"
     ]
    },
    {
     "name": "stderr",
     "output_type": "stream",
     "text": [
      "D:\\AI\\Anaconda3\\lib\\site-packages\\sklearn\\neural_network\\_multilayer_perceptron.py:692: ConvergenceWarning: Stochastic Optimizer: Maximum iterations (20) reached and the optimization hasn't converged yet.\n",
      "  warnings.warn(\n"
     ]
    },
    {
     "name": "stdout",
     "output_type": "stream",
     "text": [
      "Iteration 5, loss = 0.78288988\n",
      "Iteration 6, loss = 0.76983823\n",
      "Iteration 7, loss = 0.76060579\n",
      "Iteration 8, loss = 0.75381088\n",
      "Iteration 9, loss = 0.74837655\n",
      "Iteration 10, loss = 0.74363352\n",
      "Iteration 11, loss = 0.73896072\n",
      "Iteration 12, loss = 0.73459923\n",
      "Iteration 13, loss = 0.73020914\n",
      "Iteration 14, loss = 0.72598167\n",
      "Iteration 15, loss = 0.72161934\n",
      "Iteration 16, loss = 0.71757444\n",
      "Iteration 17, loss = 0.71368340\n",
      "Iteration 18, loss = 0.70974720\n",
      "Iteration 19, loss = 0.70572437\n",
      "Iteration 20, loss = 0.70162654\n"
     ]
    },
    {
     "name": "stderr",
     "output_type": "stream",
     "text": [
      "D:\\AI\\Anaconda3\\lib\\site-packages\\sklearn\\neural_network\\_multilayer_perceptron.py:692: ConvergenceWarning: Stochastic Optimizer: Maximum iterations (20) reached and the optimization hasn't converged yet.\n",
      "  warnings.warn(\n"
     ]
    },
    {
     "name": "stdout",
     "output_type": "stream",
     "text": [
      "Iteration 1, loss = 0.92846207\n",
      "Iteration 2, loss = 0.87985703\n",
      "Iteration 3, loss = 0.83702400\n",
      "Iteration 4, loss = 0.80692371\n",
      "Iteration 5, loss = 0.78580266\n",
      "Iteration 6, loss = 0.77246171\n",
      "Iteration 7, loss = 0.76291381\n",
      "Iteration 8, loss = 0.75614760\n",
      "Iteration 9, loss = 0.75036907\n",
      "Iteration 10, loss = 0.74546377\n",
      "Iteration 11, loss = 0.74062327\n",
      "Iteration 12, loss = 0.73597369\n",
      "Iteration 13, loss = 0.73142676\n",
      "Iteration 14, loss = 0.72696140\n",
      "Iteration 15, loss = 0.72231564\n",
      "Iteration 16, loss = 0.71795593\n",
      "Iteration 17, loss = 0.71361748\n",
      "Iteration 18, loss = 0.70932100\n",
      "Iteration 19, loss = 0.70497151\n",
      "Iteration 20, loss = 0.70057541\n",
      "Iteration 1, loss = 0.93221071\n",
      "Iteration 2, loss = 0.88260008\n",
      "Iteration 3, loss = 0.83892510\n",
      "Iteration 4, loss = 0.80820317\n",
      "Iteration 5, loss = 0.78658859\n",
      "Iteration 6, loss = 0.77305861\n",
      "Iteration 7, loss = 0.76322034\n",
      "Iteration 8, loss = 0.75647972\n",
      "Iteration 9, loss = 0.75047351\n",
      "Iteration 10, loss = 0.74539082\n",
      "Iteration 11, loss = 0.74034281\n",
      "Iteration 12, loss = 0.73544623\n",
      "Iteration 13, loss = 0.73064268\n",
      "Iteration 14, loss = 0.72586642\n",
      "Iteration 15, loss = 0.72106367\n"
     ]
    },
    {
     "name": "stderr",
     "output_type": "stream",
     "text": [
      "D:\\AI\\Anaconda3\\lib\\site-packages\\sklearn\\neural_network\\_multilayer_perceptron.py:692: ConvergenceWarning: Stochastic Optimizer: Maximum iterations (20) reached and the optimization hasn't converged yet.\n",
      "  warnings.warn(\n"
     ]
    },
    {
     "name": "stdout",
     "output_type": "stream",
     "text": [
      "Iteration 16, loss = 0.71668683\n",
      "Iteration 17, loss = 0.71203662\n",
      "Iteration 18, loss = 0.70735093\n",
      "Iteration 19, loss = 0.70274034\n",
      "Iteration 20, loss = 0.69819352\n",
      "Iteration 1, loss = 0.93665198\n",
      "Iteration 2, loss = 0.88573923\n",
      "Iteration 3, loss = 0.84075044\n",
      "Iteration 4, loss = 0.80925222\n",
      "Iteration 5, loss = 0.78743650\n",
      "Iteration 6, loss = 0.77380644\n",
      "Iteration 7, loss = 0.76397278\n",
      "Iteration 8, loss = 0.75727961\n",
      "Iteration 9, loss = 0.75133386\n",
      "Iteration 10, loss = 0.74632487\n",
      "Iteration 11, loss = 0.74134995\n",
      "Iteration 12, loss = 0.73668093\n",
      "Iteration 13, loss = 0.73220476\n"
     ]
    },
    {
     "name": "stderr",
     "output_type": "stream",
     "text": [
      "D:\\AI\\Anaconda3\\lib\\site-packages\\sklearn\\neural_network\\_multilayer_perceptron.py:692: ConvergenceWarning: Stochastic Optimizer: Maximum iterations (20) reached and the optimization hasn't converged yet.\n",
      "  warnings.warn(\n"
     ]
    },
    {
     "name": "stdout",
     "output_type": "stream",
     "text": [
      "Iteration 14, loss = 0.72779984\n",
      "Iteration 15, loss = 0.72327310\n",
      "Iteration 16, loss = 0.71902560\n",
      "Iteration 17, loss = 0.71494963\n",
      "Iteration 18, loss = 0.71095821\n",
      "Iteration 19, loss = 0.70679776\n",
      "Iteration 20, loss = 0.70258880\n",
      "Iteration 1, loss = 0.92802420\n",
      "Iteration 2, loss = 0.87949241\n",
      "Iteration 3, loss = 0.83685224\n",
      "Iteration 4, loss = 0.80582052\n",
      "Iteration 5, loss = 0.78574633\n",
      "Iteration 6, loss = 0.77222376\n",
      "Iteration 7, loss = 0.76269393\n",
      "Iteration 8, loss = 0.75599329\n",
      "Iteration 9, loss = 0.75045917\n",
      "Iteration 10, loss = 0.74540424\n"
     ]
    },
    {
     "name": "stderr",
     "output_type": "stream",
     "text": [
      "D:\\AI\\Anaconda3\\lib\\site-packages\\sklearn\\neural_network\\_multilayer_perceptron.py:692: ConvergenceWarning: Stochastic Optimizer: Maximum iterations (20) reached and the optimization hasn't converged yet.\n",
      "  warnings.warn(\n"
     ]
    },
    {
     "name": "stdout",
     "output_type": "stream",
     "text": [
      "Iteration 11, loss = 0.74044776\n",
      "Iteration 12, loss = 0.73590138\n",
      "Iteration 13, loss = 0.73133202\n",
      "Iteration 14, loss = 0.72693893\n",
      "Iteration 15, loss = 0.72236146\n",
      "Iteration 16, loss = 0.71801784\n",
      "Iteration 17, loss = 0.71384630\n",
      "Iteration 18, loss = 0.70948761\n",
      "Iteration 19, loss = 0.70501845\n",
      "Iteration 20, loss = 0.70075313\n",
      "Iteration 1, loss = 0.92873178\n",
      "Iteration 2, loss = 0.88059422\n",
      "Iteration 3, loss = 0.83832213\n",
      "Iteration 4, loss = 0.80763468\n",
      "Iteration 5, loss = 0.78740013\n",
      "Iteration 6, loss = 0.77358341\n",
      "Iteration 7, loss = 0.76421039\n"
     ]
    },
    {
     "name": "stderr",
     "output_type": "stream",
     "text": [
      "D:\\AI\\Anaconda3\\lib\\site-packages\\sklearn\\neural_network\\_multilayer_perceptron.py:692: ConvergenceWarning: Stochastic Optimizer: Maximum iterations (20) reached and the optimization hasn't converged yet.\n",
      "  warnings.warn(\n"
     ]
    },
    {
     "name": "stdout",
     "output_type": "stream",
     "text": [
      "Iteration 8, loss = 0.75755561\n",
      "Iteration 9, loss = 0.75209759\n",
      "Iteration 10, loss = 0.74726496\n",
      "Iteration 11, loss = 0.74245686\n",
      "Iteration 12, loss = 0.73807934\n",
      "Iteration 13, loss = 0.73367375\n",
      "Iteration 14, loss = 0.72950665\n",
      "Iteration 15, loss = 0.72509664\n",
      "Iteration 16, loss = 0.72090351\n",
      "Iteration 17, loss = 0.71704187\n",
      "Iteration 18, loss = 0.71303718\n",
      "Iteration 19, loss = 0.70892829\n",
      "Iteration 20, loss = 0.70490097\n"
     ]
    },
    {
     "name": "stderr",
     "output_type": "stream",
     "text": [
      "D:\\AI\\Anaconda3\\lib\\site-packages\\sklearn\\neural_network\\_multilayer_perceptron.py:692: ConvergenceWarning: Stochastic Optimizer: Maximum iterations (20) reached and the optimization hasn't converged yet.\n",
      "  warnings.warn(\n",
      "D:\\AI\\Anaconda3\\lib\\site-packages\\sklearn\\neural_network\\_multilayer_perceptron.py:549: ConvergenceWarning: lbfgs failed to converge (status=1):\n",
      "STOP: TOTAL NO. of ITERATIONS REACHED LIMIT.\n",
      "\n",
      "Increase the number of iterations (max_iter) or scale the data as shown in:\n",
      "    https://scikit-learn.org/stable/modules/preprocessing.html\n",
      "  self.n_iter_ = _check_optimize_result(\"lbfgs\", opt_res, self.max_iter)\n",
      "D:\\AI\\Anaconda3\\lib\\site-packages\\sklearn\\neural_network\\_multilayer_perceptron.py:549: ConvergenceWarning: lbfgs failed to converge (status=1):\n",
      "STOP: TOTAL NO. of ITERATIONS REACHED LIMIT.\n",
      "\n",
      "Increase the number of iterations (max_iter) or scale the data as shown in:\n",
      "    https://scikit-learn.org/stable/modules/preprocessing.html\n",
      "  self.n_iter_ = _check_optimize_result(\"lbfgs\", opt_res, self.max_iter)\n",
      "D:\\AI\\Anaconda3\\lib\\site-packages\\sklearn\\neural_network\\_multilayer_perceptron.py:549: ConvergenceWarning: lbfgs failed to converge (status=1):\n",
      "STOP: TOTAL NO. of ITERATIONS REACHED LIMIT.\n",
      "\n",
      "Increase the number of iterations (max_iter) or scale the data as shown in:\n",
      "    https://scikit-learn.org/stable/modules/preprocessing.html\n",
      "  self.n_iter_ = _check_optimize_result(\"lbfgs\", opt_res, self.max_iter)\n",
      "D:\\AI\\Anaconda3\\lib\\site-packages\\sklearn\\neural_network\\_multilayer_perceptron.py:549: ConvergenceWarning: lbfgs failed to converge (status=1):\n",
      "STOP: TOTAL NO. of ITERATIONS REACHED LIMIT.\n",
      "\n",
      "Increase the number of iterations (max_iter) or scale the data as shown in:\n",
      "    https://scikit-learn.org/stable/modules/preprocessing.html\n",
      "  self.n_iter_ = _check_optimize_result(\"lbfgs\", opt_res, self.max_iter)\n",
      "D:\\AI\\Anaconda3\\lib\\site-packages\\sklearn\\neural_network\\_multilayer_perceptron.py:549: ConvergenceWarning: lbfgs failed to converge (status=1):\n",
      "STOP: TOTAL NO. of ITERATIONS REACHED LIMIT.\n",
      "\n",
      "Increase the number of iterations (max_iter) or scale the data as shown in:\n",
      "    https://scikit-learn.org/stable/modules/preprocessing.html\n",
      "  self.n_iter_ = _check_optimize_result(\"lbfgs\", opt_res, self.max_iter)\n",
      "D:\\AI\\Anaconda3\\lib\\site-packages\\sklearn\\neural_network\\_multilayer_perceptron.py:549: ConvergenceWarning: lbfgs failed to converge (status=1):\n",
      "STOP: TOTAL NO. of ITERATIONS REACHED LIMIT.\n",
      "\n",
      "Increase the number of iterations (max_iter) or scale the data as shown in:\n",
      "    https://scikit-learn.org/stable/modules/preprocessing.html\n",
      "  self.n_iter_ = _check_optimize_result(\"lbfgs\", opt_res, self.max_iter)\n",
      "D:\\AI\\Anaconda3\\lib\\site-packages\\sklearn\\neural_network\\_multilayer_perceptron.py:549: ConvergenceWarning: lbfgs failed to converge (status=1):\n",
      "STOP: TOTAL NO. of ITERATIONS REACHED LIMIT.\n",
      "\n",
      "Increase the number of iterations (max_iter) or scale the data as shown in:\n",
      "    https://scikit-learn.org/stable/modules/preprocessing.html\n",
      "  self.n_iter_ = _check_optimize_result(\"lbfgs\", opt_res, self.max_iter)\n",
      "D:\\AI\\Anaconda3\\lib\\site-packages\\sklearn\\neural_network\\_multilayer_perceptron.py:549: ConvergenceWarning: lbfgs failed to converge (status=1):\n",
      "STOP: TOTAL NO. of ITERATIONS REACHED LIMIT.\n",
      "\n",
      "Increase the number of iterations (max_iter) or scale the data as shown in:\n",
      "    https://scikit-learn.org/stable/modules/preprocessing.html\n",
      "  self.n_iter_ = _check_optimize_result(\"lbfgs\", opt_res, self.max_iter)\n",
      "D:\\AI\\Anaconda3\\lib\\site-packages\\sklearn\\neural_network\\_multilayer_perceptron.py:549: ConvergenceWarning: lbfgs failed to converge (status=1):\n",
      "STOP: TOTAL NO. of ITERATIONS REACHED LIMIT.\n",
      "\n",
      "Increase the number of iterations (max_iter) or scale the data as shown in:\n",
      "    https://scikit-learn.org/stable/modules/preprocessing.html\n",
      "  self.n_iter_ = _check_optimize_result(\"lbfgs\", opt_res, self.max_iter)\n",
      "D:\\AI\\Anaconda3\\lib\\site-packages\\sklearn\\neural_network\\_multilayer_perceptron.py:549: ConvergenceWarning: lbfgs failed to converge (status=1):\n",
      "STOP: TOTAL NO. of ITERATIONS REACHED LIMIT.\n",
      "\n",
      "Increase the number of iterations (max_iter) or scale the data as shown in:\n",
      "    https://scikit-learn.org/stable/modules/preprocessing.html\n",
      "  self.n_iter_ = _check_optimize_result(\"lbfgs\", opt_res, self.max_iter)\n"
     ]
    },
    {
     "name": "stdout",
     "output_type": "stream",
     "text": [
      "Iteration 1, loss = 1.20979588\n",
      "Iteration 2, loss = 0.67465342\n",
      "Iteration 3, loss = 0.53520148\n",
      "Iteration 4, loss = 0.47282609\n",
      "Iteration 5, loss = 0.43237209\n",
      "Iteration 6, loss = 0.40408436\n",
      "Iteration 7, loss = 0.38177389\n",
      "Iteration 8, loss = 0.36331793\n",
      "Iteration 9, loss = 0.34746793\n",
      "Iteration 10, loss = 0.33370887\n",
      "Iteration 11, loss = 0.32149926\n",
      "Iteration 12, loss = 0.31034263\n",
      "Iteration 13, loss = 0.30013161\n",
      "Iteration 14, loss = 0.28993303\n",
      "Iteration 15, loss = 0.28184860\n",
      "Iteration 16, loss = 0.27336729\n",
      "Iteration 17, loss = 0.26509089\n",
      "Iteration 18, loss = 0.25831956\n",
      "Iteration 19, loss = 0.25101312\n",
      "Iteration 20, loss = 0.24378354\n",
      "Iteration 1, loss = 1.21903650\n",
      "Iteration 2, loss = 0.67936426\n",
      "Iteration 3, loss = 0.53824061\n",
      "Iteration 4, loss = 0.47452932\n"
     ]
    },
    {
     "name": "stderr",
     "output_type": "stream",
     "text": [
      "D:\\AI\\Anaconda3\\lib\\site-packages\\sklearn\\neural_network\\_multilayer_perceptron.py:692: ConvergenceWarning: Stochastic Optimizer: Maximum iterations (20) reached and the optimization hasn't converged yet.\n",
      "  warnings.warn(\n"
     ]
    },
    {
     "name": "stdout",
     "output_type": "stream",
     "text": [
      "Iteration 5, loss = 0.43402473\n",
      "Iteration 6, loss = 0.40562371\n",
      "Iteration 7, loss = 0.38302226\n",
      "Iteration 8, loss = 0.36430947\n",
      "Iteration 9, loss = 0.34847973\n",
      "Iteration 10, loss = 0.33456265\n",
      "Iteration 11, loss = 0.32218989\n",
      "Iteration 12, loss = 0.31080246\n",
      "Iteration 13, loss = 0.30067262\n",
      "Iteration 14, loss = 0.29019556\n",
      "Iteration 15, loss = 0.28193790\n",
      "Iteration 16, loss = 0.27371946\n",
      "Iteration 17, loss = 0.26544658\n",
      "Iteration 18, loss = 0.25796367\n",
      "Iteration 19, loss = 0.25072988\n",
      "Iteration 20, loss = 0.24332520\n"
     ]
    },
    {
     "name": "stderr",
     "output_type": "stream",
     "text": [
      "D:\\AI\\Anaconda3\\lib\\site-packages\\sklearn\\neural_network\\_multilayer_perceptron.py:692: ConvergenceWarning: Stochastic Optimizer: Maximum iterations (20) reached and the optimization hasn't converged yet.\n",
      "  warnings.warn(\n"
     ]
    },
    {
     "name": "stdout",
     "output_type": "stream",
     "text": [
      "Iteration 1, loss = 1.21581633\n",
      "Iteration 2, loss = 0.67873736\n",
      "Iteration 3, loss = 0.53935577\n",
      "Iteration 4, loss = 0.47713310\n",
      "Iteration 5, loss = 0.43734098\n",
      "Iteration 6, loss = 0.40891029\n",
      "Iteration 7, loss = 0.38652681\n",
      "Iteration 8, loss = 0.36798729\n",
      "Iteration 9, loss = 0.35200785\n",
      "Iteration 10, loss = 0.33779035\n",
      "Iteration 11, loss = 0.32559972\n",
      "Iteration 12, loss = 0.31433777\n",
      "Iteration 13, loss = 0.30417245\n",
      "Iteration 14, loss = 0.29340076\n",
      "Iteration 15, loss = 0.28488056\n",
      "Iteration 16, loss = 0.27659442\n",
      "Iteration 17, loss = 0.26810265\n",
      "Iteration 18, loss = 0.26032845\n",
      "Iteration 19, loss = 0.25315682\n",
      "Iteration 20, loss = 0.24582687\n",
      "Iteration 1, loss = 1.19935641\n",
      "Iteration 2, loss = 0.67173197\n",
      "Iteration 3, loss = 0.53566074\n",
      "Iteration 4, loss = 0.47179034\n"
     ]
    },
    {
     "name": "stderr",
     "output_type": "stream",
     "text": [
      "D:\\AI\\Anaconda3\\lib\\site-packages\\sklearn\\neural_network\\_multilayer_perceptron.py:692: ConvergenceWarning: Stochastic Optimizer: Maximum iterations (20) reached and the optimization hasn't converged yet.\n",
      "  warnings.warn(\n"
     ]
    },
    {
     "name": "stdout",
     "output_type": "stream",
     "text": [
      "Iteration 5, loss = 0.43123797\n",
      "Iteration 6, loss = 0.40234842\n",
      "Iteration 7, loss = 0.37986630\n",
      "Iteration 8, loss = 0.36120464\n",
      "Iteration 9, loss = 0.34512242\n",
      "Iteration 10, loss = 0.33105087\n",
      "Iteration 11, loss = 0.31881265\n",
      "Iteration 12, loss = 0.30732802\n",
      "Iteration 13, loss = 0.29714174\n",
      "Iteration 14, loss = 0.28715725\n",
      "Iteration 15, loss = 0.27855838\n",
      "Iteration 16, loss = 0.27055852\n",
      "Iteration 17, loss = 0.26226425\n",
      "Iteration 18, loss = 0.25492977\n",
      "Iteration 19, loss = 0.24768616\n",
      "Iteration 20, loss = 0.24085066\n"
     ]
    },
    {
     "name": "stderr",
     "output_type": "stream",
     "text": [
      "D:\\AI\\Anaconda3\\lib\\site-packages\\sklearn\\neural_network\\_multilayer_perceptron.py:692: ConvergenceWarning: Stochastic Optimizer: Maximum iterations (20) reached and the optimization hasn't converged yet.\n",
      "  warnings.warn(\n"
     ]
    },
    {
     "name": "stdout",
     "output_type": "stream",
     "text": [
      "Iteration 1, loss = 1.21661888\n",
      "Iteration 2, loss = 0.67427627\n",
      "Iteration 3, loss = 0.53529079\n",
      "Iteration 4, loss = 0.47223391\n",
      "Iteration 5, loss = 0.43233975\n",
      "Iteration 6, loss = 0.40416569\n",
      "Iteration 7, loss = 0.38202889\n",
      "Iteration 8, loss = 0.36402205\n",
      "Iteration 9, loss = 0.34841706\n",
      "Iteration 10, loss = 0.33420879\n",
      "Iteration 11, loss = 0.32206288\n",
      "Iteration 12, loss = 0.31083458\n",
      "Iteration 13, loss = 0.30063839\n",
      "Iteration 14, loss = 0.29069189\n",
      "Iteration 15, loss = 0.28184719\n",
      "Iteration 16, loss = 0.27409379\n",
      "Iteration 17, loss = 0.26546955\n",
      "Iteration 18, loss = 0.25782977\n",
      "Iteration 19, loss = 0.25073949\n",
      "Iteration 20, loss = 0.24369764\n",
      "Iteration 1, loss = 1.20899985\n",
      "Iteration 2, loss = 0.67380016\n"
     ]
    },
    {
     "name": "stderr",
     "output_type": "stream",
     "text": [
      "D:\\AI\\Anaconda3\\lib\\site-packages\\sklearn\\neural_network\\_multilayer_perceptron.py:692: ConvergenceWarning: Stochastic Optimizer: Maximum iterations (20) reached and the optimization hasn't converged yet.\n",
      "  warnings.warn(\n"
     ]
    },
    {
     "name": "stdout",
     "output_type": "stream",
     "text": [
      "Iteration 3, loss = 0.53562497\n",
      "Iteration 4, loss = 0.47198090\n",
      "Iteration 5, loss = 0.43171709\n",
      "Iteration 6, loss = 0.40321854\n",
      "Iteration 7, loss = 0.38097660\n",
      "Iteration 8, loss = 0.36276295\n",
      "Iteration 9, loss = 0.34727980\n",
      "Iteration 10, loss = 0.33283349\n",
      "Iteration 11, loss = 0.32073835\n",
      "Iteration 12, loss = 0.30990514\n",
      "Iteration 13, loss = 0.29958464\n",
      "Iteration 14, loss = 0.28964618\n",
      "Iteration 15, loss = 0.28061284\n",
      "Iteration 16, loss = 0.27292868\n",
      "Iteration 17, loss = 0.26452991\n",
      "Iteration 18, loss = 0.25704085\n",
      "Iteration 19, loss = 0.25006954\n",
      "Iteration 20, loss = 0.24297834\n",
      "Iteration 1, loss = 1.20033853\n",
      "Iteration 2, loss = 0.67017927\n",
      "Iteration 3, loss = 0.53371506\n",
      "Iteration 4, loss = 0.46957021\n",
      "Iteration 5, loss = 0.42926321\n"
     ]
    },
    {
     "name": "stderr",
     "output_type": "stream",
     "text": [
      "D:\\AI\\Anaconda3\\lib\\site-packages\\sklearn\\neural_network\\_multilayer_perceptron.py:692: ConvergenceWarning: Stochastic Optimizer: Maximum iterations (20) reached and the optimization hasn't converged yet.\n",
      "  warnings.warn(\n"
     ]
    },
    {
     "name": "stdout",
     "output_type": "stream",
     "text": [
      "Iteration 6, loss = 0.40061515\n",
      "Iteration 7, loss = 0.37804635\n",
      "Iteration 8, loss = 0.35943018\n",
      "Iteration 9, loss = 0.34349157\n",
      "Iteration 10, loss = 0.32870170\n",
      "Iteration 11, loss = 0.31621536\n",
      "Iteration 12, loss = 0.30494255\n",
      "Iteration 13, loss = 0.29468638\n",
      "Iteration 14, loss = 0.28474393\n",
      "Iteration 15, loss = 0.27615730\n",
      "Iteration 16, loss = 0.26848625\n",
      "Iteration 17, loss = 0.25999257\n",
      "Iteration 18, loss = 0.25251295\n",
      "Iteration 19, loss = 0.24568026\n",
      "Iteration 20, loss = 0.23892244\n",
      "Iteration 1, loss = 1.18674419\n"
     ]
    },
    {
     "name": "stderr",
     "output_type": "stream",
     "text": [
      "D:\\AI\\Anaconda3\\lib\\site-packages\\sklearn\\neural_network\\_multilayer_perceptron.py:692: ConvergenceWarning: Stochastic Optimizer: Maximum iterations (20) reached and the optimization hasn't converged yet.\n",
      "  warnings.warn(\n"
     ]
    },
    {
     "name": "stdout",
     "output_type": "stream",
     "text": [
      "Iteration 2, loss = 0.66721065\n",
      "Iteration 3, loss = 0.53570290\n",
      "Iteration 4, loss = 0.47186398\n",
      "Iteration 5, loss = 0.43153984\n",
      "Iteration 6, loss = 0.40267679\n",
      "Iteration 7, loss = 0.38016819\n",
      "Iteration 8, loss = 0.36194442\n",
      "Iteration 9, loss = 0.34579575\n",
      "Iteration 10, loss = 0.33164440\n",
      "Iteration 11, loss = 0.31938231\n",
      "Iteration 12, loss = 0.30808562\n",
      "Iteration 13, loss = 0.29798668\n",
      "Iteration 14, loss = 0.28809245\n",
      "Iteration 15, loss = 0.27947870\n",
      "Iteration 16, loss = 0.27158595\n",
      "Iteration 17, loss = 0.26290927\n",
      "Iteration 18, loss = 0.25559259\n",
      "Iteration 19, loss = 0.24845810\n",
      "Iteration 20, loss = 0.24207110\n",
      "Iteration 1, loss = 1.20194277\n"
     ]
    },
    {
     "name": "stderr",
     "output_type": "stream",
     "text": [
      "D:\\AI\\Anaconda3\\lib\\site-packages\\sklearn\\neural_network\\_multilayer_perceptron.py:692: ConvergenceWarning: Stochastic Optimizer: Maximum iterations (20) reached and the optimization hasn't converged yet.\n",
      "  warnings.warn(\n"
     ]
    },
    {
     "name": "stdout",
     "output_type": "stream",
     "text": [
      "Iteration 2, loss = 0.67082636\n",
      "Iteration 3, loss = 0.53401326\n",
      "Iteration 4, loss = 0.47106486\n",
      "Iteration 5, loss = 0.43133795\n",
      "Iteration 6, loss = 0.40339050\n",
      "Iteration 7, loss = 0.38095990\n",
      "Iteration 8, loss = 0.36241178\n",
      "Iteration 9, loss = 0.34695150\n",
      "Iteration 10, loss = 0.33346809\n",
      "Iteration 11, loss = 0.32133557\n",
      "Iteration 12, loss = 0.30957224\n",
      "Iteration 13, loss = 0.29948583\n",
      "Iteration 14, loss = 0.29026237\n",
      "Iteration 15, loss = 0.28125388\n",
      "Iteration 16, loss = 0.27348785\n",
      "Iteration 17, loss = 0.26533816\n",
      "Iteration 18, loss = 0.25768900\n",
      "Iteration 19, loss = 0.25039651\n",
      "Iteration 20, loss = 0.24356431\n",
      "Iteration 1, loss = 1.19976487\n",
      "Iteration 2, loss = 0.67202227\n",
      "Iteration 3, loss = 0.53840655\n"
     ]
    },
    {
     "name": "stderr",
     "output_type": "stream",
     "text": [
      "D:\\AI\\Anaconda3\\lib\\site-packages\\sklearn\\neural_network\\_multilayer_perceptron.py:692: ConvergenceWarning: Stochastic Optimizer: Maximum iterations (20) reached and the optimization hasn't converged yet.\n",
      "  warnings.warn(\n"
     ]
    },
    {
     "name": "stdout",
     "output_type": "stream",
     "text": [
      "Iteration 4, loss = 0.47586052\n",
      "Iteration 5, loss = 0.43642713\n",
      "Iteration 6, loss = 0.40868800\n",
      "Iteration 7, loss = 0.38656480\n",
      "Iteration 8, loss = 0.36802617\n",
      "Iteration 9, loss = 0.35231202\n",
      "Iteration 10, loss = 0.33847032\n",
      "Iteration 11, loss = 0.32627917\n",
      "Iteration 12, loss = 0.31454370\n",
      "Iteration 13, loss = 0.30431226\n",
      "Iteration 14, loss = 0.29519476\n",
      "Iteration 15, loss = 0.28608945\n",
      "Iteration 16, loss = 0.27824698\n",
      "Iteration 17, loss = 0.27020208\n",
      "Iteration 18, loss = 0.26222997\n",
      "Iteration 19, loss = 0.25495359\n",
      "Iteration 20, loss = 0.24803746\n",
      "Iteration 1, loss = 1.30944323\n",
      "Iteration 2, loss = 0.81571819\n",
      "Iteration 3, loss = 0.74025302\n",
      "Iteration 4, loss = 0.69722535\n",
      "Iteration 5, loss = 0.67052950\n"
     ]
    },
    {
     "name": "stderr",
     "output_type": "stream",
     "text": [
      "D:\\AI\\Anaconda3\\lib\\site-packages\\sklearn\\neural_network\\_multilayer_perceptron.py:692: ConvergenceWarning: Stochastic Optimizer: Maximum iterations (20) reached and the optimization hasn't converged yet.\n",
      "  warnings.warn(\n"
     ]
    },
    {
     "name": "stdout",
     "output_type": "stream",
     "text": [
      "Iteration 6, loss = 0.65023098\n",
      "Iteration 7, loss = 0.63374846\n",
      "Iteration 8, loss = 0.61972004\n",
      "Iteration 9, loss = 0.60662376\n",
      "Iteration 10, loss = 0.59577389\n",
      "Iteration 11, loss = 0.58538973\n",
      "Iteration 12, loss = 0.57615840\n",
      "Iteration 13, loss = 0.56765296\n",
      "Iteration 14, loss = 0.55973845\n",
      "Iteration 15, loss = 0.55251418\n",
      "Iteration 16, loss = 0.54549716\n",
      "Iteration 17, loss = 0.53871585\n",
      "Iteration 18, loss = 0.53286530\n",
      "Iteration 19, loss = 0.52719616\n",
      "Iteration 20, loss = 0.52130248\n"
     ]
    },
    {
     "name": "stderr",
     "output_type": "stream",
     "text": [
      "D:\\AI\\Anaconda3\\lib\\site-packages\\sklearn\\neural_network\\_multilayer_perceptron.py:692: ConvergenceWarning: Stochastic Optimizer: Maximum iterations (20) reached and the optimization hasn't converged yet.\n",
      "  warnings.warn(\n"
     ]
    },
    {
     "name": "stdout",
     "output_type": "stream",
     "text": [
      "Iteration 1, loss = 1.31922615\n",
      "Iteration 2, loss = 0.82146935\n",
      "Iteration 3, loss = 0.74661676\n",
      "Iteration 4, loss = 0.70279246\n",
      "Iteration 5, loss = 0.67639599\n",
      "Iteration 6, loss = 0.65611024\n",
      "Iteration 7, loss = 0.63972840\n",
      "Iteration 8, loss = 0.62572408\n",
      "Iteration 9, loss = 0.61286767\n",
      "Iteration 10, loss = 0.60213517\n",
      "Iteration 11, loss = 0.59170188\n",
      "Iteration 12, loss = 0.58267911\n",
      "Iteration 13, loss = 0.57428103\n",
      "Iteration 14, loss = 0.56606963\n",
      "Iteration 15, loss = 0.55889944\n",
      "Iteration 16, loss = 0.55195349\n",
      "Iteration 17, loss = 0.54515145\n",
      "Iteration 18, loss = 0.53921101\n",
      "Iteration 19, loss = 0.53325652\n",
      "Iteration 20, loss = 0.52735223\n",
      "Iteration 1, loss = 1.31800814\n"
     ]
    },
    {
     "name": "stderr",
     "output_type": "stream",
     "text": [
      "D:\\AI\\Anaconda3\\lib\\site-packages\\sklearn\\neural_network\\_multilayer_perceptron.py:692: ConvergenceWarning: Stochastic Optimizer: Maximum iterations (20) reached and the optimization hasn't converged yet.\n",
      "  warnings.warn(\n"
     ]
    },
    {
     "name": "stdout",
     "output_type": "stream",
     "text": [
      "Iteration 2, loss = 0.81950247\n",
      "Iteration 3, loss = 0.74610684\n",
      "Iteration 4, loss = 0.70338001\n",
      "Iteration 5, loss = 0.67759981\n",
      "Iteration 6, loss = 0.65748329\n",
      "Iteration 7, loss = 0.64127389\n",
      "Iteration 8, loss = 0.62739551\n",
      "Iteration 9, loss = 0.61472332\n",
      "Iteration 10, loss = 0.60393545\n",
      "Iteration 11, loss = 0.59387245\n",
      "Iteration 12, loss = 0.58505961\n",
      "Iteration 13, loss = 0.57681401\n",
      "Iteration 14, loss = 0.56852900\n",
      "Iteration 15, loss = 0.56131191\n",
      "Iteration 16, loss = 0.55442490\n",
      "Iteration 17, loss = 0.54782417\n",
      "Iteration 18, loss = 0.54194657\n",
      "Iteration 19, loss = 0.53597416\n",
      "Iteration 20, loss = 0.53023178\n",
      "Iteration 1, loss = 1.30469650\n",
      "Iteration 2, loss = 0.81750437\n",
      "Iteration 3, loss = 0.74455768\n",
      "Iteration 4, loss = 0.70119285\n",
      "Iteration 5, loss = 0.67476521\n",
      "Iteration 6, loss = 0.65457228\n"
     ]
    },
    {
     "name": "stderr",
     "output_type": "stream",
     "text": [
      "D:\\AI\\Anaconda3\\lib\\site-packages\\sklearn\\neural_network\\_multilayer_perceptron.py:692: ConvergenceWarning: Stochastic Optimizer: Maximum iterations (20) reached and the optimization hasn't converged yet.\n",
      "  warnings.warn(\n"
     ]
    },
    {
     "name": "stdout",
     "output_type": "stream",
     "text": [
      "Iteration 7, loss = 0.63787025\n",
      "Iteration 8, loss = 0.62356963\n",
      "Iteration 9, loss = 0.61064249\n",
      "Iteration 10, loss = 0.59942805\n",
      "Iteration 11, loss = 0.58912656\n",
      "Iteration 12, loss = 0.58006893\n",
      "Iteration 13, loss = 0.57148504\n",
      "Iteration 14, loss = 0.56306716\n",
      "Iteration 15, loss = 0.55574426\n",
      "Iteration 16, loss = 0.54846750\n",
      "Iteration 17, loss = 0.54185963\n",
      "Iteration 18, loss = 0.53569664\n",
      "Iteration 19, loss = 0.52949723\n",
      "Iteration 20, loss = 0.52368527\n",
      "Iteration 1, loss = 1.32151174\n",
      "Iteration 2, loss = 0.81875964\n"
     ]
    },
    {
     "name": "stderr",
     "output_type": "stream",
     "text": [
      "D:\\AI\\Anaconda3\\lib\\site-packages\\sklearn\\neural_network\\_multilayer_perceptron.py:692: ConvergenceWarning: Stochastic Optimizer: Maximum iterations (20) reached and the optimization hasn't converged yet.\n",
      "  warnings.warn(\n"
     ]
    },
    {
     "name": "stdout",
     "output_type": "stream",
     "text": [
      "Iteration 3, loss = 0.74621290\n",
      "Iteration 4, loss = 0.70171084\n",
      "Iteration 5, loss = 0.67516293\n",
      "Iteration 6, loss = 0.65459081\n",
      "Iteration 7, loss = 0.63777234\n",
      "Iteration 8, loss = 0.62340478\n",
      "Iteration 9, loss = 0.61058921\n",
      "Iteration 10, loss = 0.59907396\n",
      "Iteration 11, loss = 0.58891744\n",
      "Iteration 12, loss = 0.57978400\n",
      "Iteration 13, loss = 0.57121716\n",
      "Iteration 14, loss = 0.56290673\n",
      "Iteration 15, loss = 0.55552796\n",
      "Iteration 16, loss = 0.54844901\n",
      "Iteration 17, loss = 0.54187689\n",
      "Iteration 18, loss = 0.53575095\n",
      "Iteration 19, loss = 0.52965684\n",
      "Iteration 20, loss = 0.52397958\n",
      "Iteration 1, loss = 1.31464651\n",
      "Iteration 2, loss = 0.81973109\n",
      "Iteration 3, loss = 0.74687267\n",
      "Iteration 4, loss = 0.70309923\n"
     ]
    },
    {
     "name": "stderr",
     "output_type": "stream",
     "text": [
      "D:\\AI\\Anaconda3\\lib\\site-packages\\sklearn\\neural_network\\_multilayer_perceptron.py:692: ConvergenceWarning: Stochastic Optimizer: Maximum iterations (20) reached and the optimization hasn't converged yet.\n",
      "  warnings.warn(\n"
     ]
    },
    {
     "name": "stdout",
     "output_type": "stream",
     "text": [
      "Iteration 5, loss = 0.67712770\n",
      "Iteration 6, loss = 0.65689934\n",
      "Iteration 7, loss = 0.64054270\n",
      "Iteration 8, loss = 0.62639426\n",
      "Iteration 9, loss = 0.61408104\n",
      "Iteration 10, loss = 0.60263135\n",
      "Iteration 11, loss = 0.59275471\n",
      "Iteration 12, loss = 0.58385138\n",
      "Iteration 13, loss = 0.57495727\n",
      "Iteration 14, loss = 0.56679815\n",
      "Iteration 15, loss = 0.55952844\n",
      "Iteration 16, loss = 0.55222614\n",
      "Iteration 17, loss = 0.54575951\n",
      "Iteration 18, loss = 0.53955759\n",
      "Iteration 19, loss = 0.53347422\n",
      "Iteration 20, loss = 0.52768542\n"
     ]
    },
    {
     "name": "stderr",
     "output_type": "stream",
     "text": [
      "D:\\AI\\Anaconda3\\lib\\site-packages\\sklearn\\neural_network\\_multilayer_perceptron.py:692: ConvergenceWarning: Stochastic Optimizer: Maximum iterations (20) reached and the optimization hasn't converged yet.\n",
      "  warnings.warn(\n"
     ]
    },
    {
     "name": "stdout",
     "output_type": "stream",
     "text": [
      "Iteration 1, loss = 1.31069213\n",
      "Iteration 2, loss = 0.81717503\n",
      "Iteration 3, loss = 0.74361935\n",
      "Iteration 4, loss = 0.69897084\n",
      "Iteration 5, loss = 0.67264293\n",
      "Iteration 6, loss = 0.65246255\n",
      "Iteration 7, loss = 0.63596412\n",
      "Iteration 8, loss = 0.62181653\n",
      "Iteration 9, loss = 0.60983914\n",
      "Iteration 10, loss = 0.59818365\n",
      "Iteration 11, loss = 0.58836965\n",
      "Iteration 12, loss = 0.57937967\n",
      "Iteration 13, loss = 0.57082323\n",
      "Iteration 14, loss = 0.56294753\n",
      "Iteration 15, loss = 0.55589958\n",
      "Iteration 16, loss = 0.54862718\n",
      "Iteration 17, loss = 0.54233631\n",
      "Iteration 18, loss = 0.53611999\n",
      "Iteration 19, loss = 0.53014126\n",
      "Iteration 20, loss = 0.52471522\n",
      "Iteration 1, loss = 1.30136024\n",
      "Iteration 2, loss = 0.81652563\n"
     ]
    },
    {
     "name": "stderr",
     "output_type": "stream",
     "text": [
      "D:\\AI\\Anaconda3\\lib\\site-packages\\sklearn\\neural_network\\_multilayer_perceptron.py:692: ConvergenceWarning: Stochastic Optimizer: Maximum iterations (20) reached and the optimization hasn't converged yet.\n",
      "  warnings.warn(\n"
     ]
    },
    {
     "name": "stdout",
     "output_type": "stream",
     "text": [
      "Iteration 3, loss = 0.74586039\n",
      "Iteration 4, loss = 0.70194791\n",
      "Iteration 5, loss = 0.67573187\n",
      "Iteration 6, loss = 0.65545190\n",
      "Iteration 7, loss = 0.63891416\n",
      "Iteration 8, loss = 0.62467077\n",
      "Iteration 9, loss = 0.61230039\n",
      "Iteration 10, loss = 0.60084866\n",
      "Iteration 11, loss = 0.59093191\n",
      "Iteration 12, loss = 0.58170736\n",
      "Iteration 13, loss = 0.57319779\n",
      "Iteration 14, loss = 0.56513608\n",
      "Iteration 15, loss = 0.55796283\n",
      "Iteration 16, loss = 0.55068096\n",
      "Iteration 17, loss = 0.54423690\n",
      "Iteration 18, loss = 0.53788649\n",
      "Iteration 19, loss = 0.53194234\n",
      "Iteration 20, loss = 0.52653996\n",
      "Iteration 1, loss = 1.31271978\n",
      "Iteration 2, loss = 0.81865185\n",
      "Iteration 3, loss = 0.74184452\n",
      "Iteration 4, loss = 0.69810698\n",
      "Iteration 5, loss = 0.67153716\n",
      "Iteration 6, loss = 0.65135475\n",
      "Iteration 7, loss = 0.63487900\n",
      "Iteration 8, loss = 0.62072183\n"
     ]
    },
    {
     "name": "stderr",
     "output_type": "stream",
     "text": [
      "D:\\AI\\Anaconda3\\lib\\site-packages\\sklearn\\neural_network\\_multilayer_perceptron.py:692: ConvergenceWarning: Stochastic Optimizer: Maximum iterations (20) reached and the optimization hasn't converged yet.\n",
      "  warnings.warn(\n"
     ]
    },
    {
     "name": "stdout",
     "output_type": "stream",
     "text": [
      "Iteration 9, loss = 0.60832306\n",
      "Iteration 10, loss = 0.59708169\n",
      "Iteration 11, loss = 0.58700307\n",
      "Iteration 12, loss = 0.57756488\n",
      "Iteration 13, loss = 0.56897490\n",
      "Iteration 14, loss = 0.56083596\n",
      "Iteration 15, loss = 0.55357590\n",
      "Iteration 16, loss = 0.54642825\n",
      "Iteration 17, loss = 0.53992414\n",
      "Iteration 18, loss = 0.53360343\n",
      "Iteration 19, loss = 0.52771994\n",
      "Iteration 20, loss = 0.52197507\n",
      "Iteration 1, loss = 1.31478156\n",
      "Iteration 2, loss = 0.82245515\n",
      "Iteration 3, loss = 0.74939113\n",
      "Iteration 4, loss = 0.70625743\n",
      "Iteration 5, loss = 0.67939860\n"
     ]
    },
    {
     "name": "stderr",
     "output_type": "stream",
     "text": [
      "D:\\AI\\Anaconda3\\lib\\site-packages\\sklearn\\neural_network\\_multilayer_perceptron.py:692: ConvergenceWarning: Stochastic Optimizer: Maximum iterations (20) reached and the optimization hasn't converged yet.\n",
      "  warnings.warn(\n"
     ]
    },
    {
     "name": "stdout",
     "output_type": "stream",
     "text": [
      "Iteration 6, loss = 0.65914640\n",
      "Iteration 7, loss = 0.64254659\n",
      "Iteration 8, loss = 0.62845325\n",
      "Iteration 9, loss = 0.61589583\n",
      "Iteration 10, loss = 0.60449858\n",
      "Iteration 11, loss = 0.59446426\n",
      "Iteration 12, loss = 0.58503156\n",
      "Iteration 13, loss = 0.57634816\n",
      "Iteration 14, loss = 0.56830318\n",
      "Iteration 15, loss = 0.56085241\n",
      "Iteration 16, loss = 0.55364847\n",
      "Iteration 17, loss = 0.54698595\n",
      "Iteration 18, loss = 0.54068920\n",
      "Iteration 19, loss = 0.53468226\n",
      "Iteration 20, loss = 0.52873016\n"
     ]
    },
    {
     "name": "stderr",
     "output_type": "stream",
     "text": [
      "D:\\AI\\Anaconda3\\lib\\site-packages\\sklearn\\neural_network\\_multilayer_perceptron.py:692: ConvergenceWarning: Stochastic Optimizer: Maximum iterations (20) reached and the optimization hasn't converged yet.\n",
      "  warnings.warn(\n",
      "D:\\AI\\Anaconda3\\lib\\site-packages\\sklearn\\neural_network\\_multilayer_perceptron.py:549: ConvergenceWarning: lbfgs failed to converge (status=1):\n",
      "STOP: TOTAL NO. of ITERATIONS REACHED LIMIT.\n",
      "\n",
      "Increase the number of iterations (max_iter) or scale the data as shown in:\n",
      "    https://scikit-learn.org/stable/modules/preprocessing.html\n",
      "  self.n_iter_ = _check_optimize_result(\"lbfgs\", opt_res, self.max_iter)\n",
      "D:\\AI\\Anaconda3\\lib\\site-packages\\sklearn\\neural_network\\_multilayer_perceptron.py:549: ConvergenceWarning: lbfgs failed to converge (status=1):\n",
      "STOP: TOTAL NO. of ITERATIONS REACHED LIMIT.\n",
      "\n",
      "Increase the number of iterations (max_iter) or scale the data as shown in:\n",
      "    https://scikit-learn.org/stable/modules/preprocessing.html\n",
      "  self.n_iter_ = _check_optimize_result(\"lbfgs\", opt_res, self.max_iter)\n",
      "D:\\AI\\Anaconda3\\lib\\site-packages\\sklearn\\neural_network\\_multilayer_perceptron.py:549: ConvergenceWarning: lbfgs failed to converge (status=1):\n",
      "STOP: TOTAL NO. of ITERATIONS REACHED LIMIT.\n",
      "\n",
      "Increase the number of iterations (max_iter) or scale the data as shown in:\n",
      "    https://scikit-learn.org/stable/modules/preprocessing.html\n",
      "  self.n_iter_ = _check_optimize_result(\"lbfgs\", opt_res, self.max_iter)\n",
      "D:\\AI\\Anaconda3\\lib\\site-packages\\sklearn\\neural_network\\_multilayer_perceptron.py:549: ConvergenceWarning: lbfgs failed to converge (status=1):\n",
      "STOP: TOTAL NO. of ITERATIONS REACHED LIMIT.\n",
      "\n",
      "Increase the number of iterations (max_iter) or scale the data as shown in:\n",
      "    https://scikit-learn.org/stable/modules/preprocessing.html\n",
      "  self.n_iter_ = _check_optimize_result(\"lbfgs\", opt_res, self.max_iter)\n",
      "D:\\AI\\Anaconda3\\lib\\site-packages\\sklearn\\neural_network\\_multilayer_perceptron.py:549: ConvergenceWarning: lbfgs failed to converge (status=1):\n",
      "STOP: TOTAL NO. of ITERATIONS REACHED LIMIT.\n",
      "\n",
      "Increase the number of iterations (max_iter) or scale the data as shown in:\n",
      "    https://scikit-learn.org/stable/modules/preprocessing.html\n",
      "  self.n_iter_ = _check_optimize_result(\"lbfgs\", opt_res, self.max_iter)\n",
      "D:\\AI\\Anaconda3\\lib\\site-packages\\sklearn\\neural_network\\_multilayer_perceptron.py:549: ConvergenceWarning: lbfgs failed to converge (status=1):\n",
      "STOP: TOTAL NO. of ITERATIONS REACHED LIMIT.\n",
      "\n",
      "Increase the number of iterations (max_iter) or scale the data as shown in:\n",
      "    https://scikit-learn.org/stable/modules/preprocessing.html\n",
      "  self.n_iter_ = _check_optimize_result(\"lbfgs\", opt_res, self.max_iter)\n",
      "D:\\AI\\Anaconda3\\lib\\site-packages\\sklearn\\neural_network\\_multilayer_perceptron.py:549: ConvergenceWarning: lbfgs failed to converge (status=1):\n",
      "STOP: TOTAL NO. of ITERATIONS REACHED LIMIT.\n",
      "\n",
      "Increase the number of iterations (max_iter) or scale the data as shown in:\n",
      "    https://scikit-learn.org/stable/modules/preprocessing.html\n",
      "  self.n_iter_ = _check_optimize_result(\"lbfgs\", opt_res, self.max_iter)\n",
      "D:\\AI\\Anaconda3\\lib\\site-packages\\sklearn\\neural_network\\_multilayer_perceptron.py:549: ConvergenceWarning: lbfgs failed to converge (status=1):\n",
      "STOP: TOTAL NO. of ITERATIONS REACHED LIMIT.\n",
      "\n",
      "Increase the number of iterations (max_iter) or scale the data as shown in:\n",
      "    https://scikit-learn.org/stable/modules/preprocessing.html\n",
      "  self.n_iter_ = _check_optimize_result(\"lbfgs\", opt_res, self.max_iter)\n",
      "D:\\AI\\Anaconda3\\lib\\site-packages\\sklearn\\neural_network\\_multilayer_perceptron.py:549: ConvergenceWarning: lbfgs failed to converge (status=1):\n",
      "STOP: TOTAL NO. of ITERATIONS REACHED LIMIT.\n",
      "\n",
      "Increase the number of iterations (max_iter) or scale the data as shown in:\n",
      "    https://scikit-learn.org/stable/modules/preprocessing.html\n",
      "  self.n_iter_ = _check_optimize_result(\"lbfgs\", opt_res, self.max_iter)\n",
      "D:\\AI\\Anaconda3\\lib\\site-packages\\sklearn\\neural_network\\_multilayer_perceptron.py:549: ConvergenceWarning: lbfgs failed to converge (status=1):\n",
      "STOP: TOTAL NO. of ITERATIONS REACHED LIMIT.\n",
      "\n",
      "Increase the number of iterations (max_iter) or scale the data as shown in:\n",
      "    https://scikit-learn.org/stable/modules/preprocessing.html\n",
      "  self.n_iter_ = _check_optimize_result(\"lbfgs\", opt_res, self.max_iter)\n"
     ]
    },
    {
     "name": "stdout",
     "output_type": "stream",
     "text": [
      "Iteration 1, loss = 0.67299432\n",
      "Iteration 2, loss = 0.52495434\n",
      "Iteration 3, loss = 0.44506487\n",
      "Iteration 4, loss = 0.38354308\n",
      "Iteration 5, loss = 0.34002037\n",
      "Iteration 6, loss = 0.30930978\n",
      "Iteration 7, loss = 0.28388083\n",
      "Iteration 8, loss = 0.26387634\n",
      "Iteration 9, loss = 0.24450403\n",
      "Iteration 10, loss = 0.22939219\n",
      "Iteration 11, loss = 0.21488648\n",
      "Iteration 12, loss = 0.20368367\n",
      "Iteration 13, loss = 0.18962180\n",
      "Iteration 14, loss = 0.17535961\n",
      "Iteration 15, loss = 0.16468694\n",
      "Iteration 16, loss = 0.15396162\n",
      "Iteration 17, loss = 0.14238271\n",
      "Iteration 18, loss = 0.13357884\n",
      "Iteration 19, loss = 0.12706409\n",
      "Iteration 20, loss = 0.11638987\n",
      "Iteration 1, loss = 0.68159752\n",
      "Iteration 2, loss = 0.53137998\n",
      "Iteration 3, loss = 0.44925681\n"
     ]
    },
    {
     "name": "stderr",
     "output_type": "stream",
     "text": [
      "D:\\AI\\Anaconda3\\lib\\site-packages\\sklearn\\neural_network\\_multilayer_perceptron.py:692: ConvergenceWarning: Stochastic Optimizer: Maximum iterations (20) reached and the optimization hasn't converged yet.\n",
      "  warnings.warn(\n"
     ]
    },
    {
     "name": "stdout",
     "output_type": "stream",
     "text": [
      "Iteration 4, loss = 0.38696362\n",
      "Iteration 5, loss = 0.34320688\n",
      "Iteration 6, loss = 0.31381313\n",
      "Iteration 7, loss = 0.28772733\n",
      "Iteration 8, loss = 0.26688252\n",
      "Iteration 9, loss = 0.24680732\n",
      "Iteration 10, loss = 0.23225316\n",
      "Iteration 11, loss = 0.21763209\n",
      "Iteration 12, loss = 0.20336787\n",
      "Iteration 13, loss = 0.19053205\n",
      "Iteration 14, loss = 0.17772421\n",
      "Iteration 15, loss = 0.16691353\n",
      "Iteration 16, loss = 0.15676435\n",
      "Iteration 17, loss = 0.14525530\n",
      "Iteration 18, loss = 0.13522216\n",
      "Iteration 19, loss = 0.12721499\n",
      "Iteration 20, loss = 0.11833168\n",
      "Iteration 1, loss = 0.67755151\n",
      "Iteration 2, loss = 0.53212723\n",
      "Iteration 3, loss = 0.45093281\n"
     ]
    },
    {
     "name": "stderr",
     "output_type": "stream",
     "text": [
      "D:\\AI\\Anaconda3\\lib\\site-packages\\sklearn\\neural_network\\_multilayer_perceptron.py:692: ConvergenceWarning: Stochastic Optimizer: Maximum iterations (20) reached and the optimization hasn't converged yet.\n",
      "  warnings.warn(\n"
     ]
    },
    {
     "name": "stdout",
     "output_type": "stream",
     "text": [
      "Iteration 4, loss = 0.38979149\n",
      "Iteration 5, loss = 0.34684662\n",
      "Iteration 6, loss = 0.31614638\n",
      "Iteration 7, loss = 0.28949244\n",
      "Iteration 8, loss = 0.26705729\n",
      "Iteration 9, loss = 0.24850925\n",
      "Iteration 10, loss = 0.23370425\n",
      "Iteration 11, loss = 0.21820300\n",
      "Iteration 12, loss = 0.20334237\n",
      "Iteration 13, loss = 0.19017644\n",
      "Iteration 14, loss = 0.17812144\n",
      "Iteration 15, loss = 0.16598861\n",
      "Iteration 16, loss = 0.15567430\n",
      "Iteration 17, loss = 0.14501653\n",
      "Iteration 18, loss = 0.13430124\n",
      "Iteration 19, loss = 0.12572456\n",
      "Iteration 20, loss = 0.11702265\n",
      "Iteration 1, loss = 0.67836023\n",
      "Iteration 2, loss = 0.53033847\n",
      "Iteration 3, loss = 0.44901109\n",
      "Iteration 4, loss = 0.38721944\n",
      "Iteration 5, loss = 0.34449250\n",
      "Iteration 6, loss = 0.31388839\n",
      "Iteration 7, loss = 0.28555657\n",
      "Iteration 8, loss = 0.26487760\n"
     ]
    },
    {
     "name": "stderr",
     "output_type": "stream",
     "text": [
      "D:\\AI\\Anaconda3\\lib\\site-packages\\sklearn\\neural_network\\_multilayer_perceptron.py:692: ConvergenceWarning: Stochastic Optimizer: Maximum iterations (20) reached and the optimization hasn't converged yet.\n",
      "  warnings.warn(\n"
     ]
    },
    {
     "name": "stdout",
     "output_type": "stream",
     "text": [
      "Iteration 9, loss = 0.24759363\n",
      "Iteration 10, loss = 0.23443064\n",
      "Iteration 11, loss = 0.21863128\n",
      "Iteration 12, loss = 0.20319275\n",
      "Iteration 13, loss = 0.19084850\n",
      "Iteration 14, loss = 0.17824224\n",
      "Iteration 15, loss = 0.16734373\n",
      "Iteration 16, loss = 0.15747637\n",
      "Iteration 17, loss = 0.14708248\n",
      "Iteration 18, loss = 0.13624700\n",
      "Iteration 19, loss = 0.12754386\n",
      "Iteration 20, loss = 0.11906103\n",
      "Iteration 1, loss = 0.67682310\n"
     ]
    },
    {
     "name": "stderr",
     "output_type": "stream",
     "text": [
      "D:\\AI\\Anaconda3\\lib\\site-packages\\sklearn\\neural_network\\_multilayer_perceptron.py:692: ConvergenceWarning: Stochastic Optimizer: Maximum iterations (20) reached and the optimization hasn't converged yet.\n",
      "  warnings.warn(\n"
     ]
    },
    {
     "name": "stdout",
     "output_type": "stream",
     "text": [
      "Iteration 2, loss = 0.52747450\n",
      "Iteration 3, loss = 0.44655615\n",
      "Iteration 4, loss = 0.38654248\n",
      "Iteration 5, loss = 0.34517945\n",
      "Iteration 6, loss = 0.31607799\n",
      "Iteration 7, loss = 0.28683634\n",
      "Iteration 8, loss = 0.26659098\n",
      "Iteration 9, loss = 0.24923002\n",
      "Iteration 10, loss = 0.23406513\n",
      "Iteration 11, loss = 0.21815140\n",
      "Iteration 12, loss = 0.20247152\n",
      "Iteration 13, loss = 0.19027012\n",
      "Iteration 14, loss = 0.17705222\n",
      "Iteration 15, loss = 0.16640295\n",
      "Iteration 16, loss = 0.15542457\n",
      "Iteration 17, loss = 0.14441019\n",
      "Iteration 18, loss = 0.13370652\n",
      "Iteration 19, loss = 0.12473696\n",
      "Iteration 20, loss = 0.11608851\n",
      "Iteration 1, loss = 0.67902911\n"
     ]
    },
    {
     "name": "stderr",
     "output_type": "stream",
     "text": [
      "D:\\AI\\Anaconda3\\lib\\site-packages\\sklearn\\neural_network\\_multilayer_perceptron.py:692: ConvergenceWarning: Stochastic Optimizer: Maximum iterations (20) reached and the optimization hasn't converged yet.\n",
      "  warnings.warn(\n"
     ]
    },
    {
     "name": "stdout",
     "output_type": "stream",
     "text": [
      "Iteration 2, loss = 0.52943913\n",
      "Iteration 3, loss = 0.44803940\n",
      "Iteration 4, loss = 0.38697579\n",
      "Iteration 5, loss = 0.34360260\n",
      "Iteration 6, loss = 0.31453939\n",
      "Iteration 7, loss = 0.28464061\n",
      "Iteration 8, loss = 0.26453278\n",
      "Iteration 9, loss = 0.24649118\n",
      "Iteration 10, loss = 0.23159190\n",
      "Iteration 11, loss = 0.21677061\n",
      "Iteration 12, loss = 0.20072614\n",
      "Iteration 13, loss = 0.18827185\n",
      "Iteration 14, loss = 0.17692001\n",
      "Iteration 15, loss = 0.16464801\n",
      "Iteration 16, loss = 0.15281842\n",
      "Iteration 17, loss = 0.14226244\n",
      "Iteration 18, loss = 0.13252173\n",
      "Iteration 19, loss = 0.12296462\n",
      "Iteration 20, loss = 0.11482342\n",
      "Iteration 1, loss = 0.67675572\n",
      "Iteration 2, loss = 0.52464894\n",
      "Iteration 3, loss = 0.44231642\n",
      "Iteration 4, loss = 0.38087895\n"
     ]
    },
    {
     "name": "stderr",
     "output_type": "stream",
     "text": [
      "D:\\AI\\Anaconda3\\lib\\site-packages\\sklearn\\neural_network\\_multilayer_perceptron.py:692: ConvergenceWarning: Stochastic Optimizer: Maximum iterations (20) reached and the optimization hasn't converged yet.\n",
      "  warnings.warn(\n"
     ]
    },
    {
     "name": "stdout",
     "output_type": "stream",
     "text": [
      "Iteration 5, loss = 0.33643119\n",
      "Iteration 6, loss = 0.30640441\n",
      "Iteration 7, loss = 0.27755272\n",
      "Iteration 8, loss = 0.25750384\n",
      "Iteration 9, loss = 0.23876270\n",
      "Iteration 10, loss = 0.22535883\n",
      "Iteration 11, loss = 0.20996292\n",
      "Iteration 12, loss = 0.19634810\n",
      "Iteration 13, loss = 0.18425343\n",
      "Iteration 14, loss = 0.17265807\n",
      "Iteration 15, loss = 0.16052168\n",
      "Iteration 16, loss = 0.15043133\n",
      "Iteration 17, loss = 0.14058971\n",
      "Iteration 18, loss = 0.13113137\n",
      "Iteration 19, loss = 0.12116986\n",
      "Iteration 20, loss = 0.11413762\n",
      "Iteration 1, loss = 0.67504882\n"
     ]
    },
    {
     "name": "stderr",
     "output_type": "stream",
     "text": [
      "D:\\AI\\Anaconda3\\lib\\site-packages\\sklearn\\neural_network\\_multilayer_perceptron.py:692: ConvergenceWarning: Stochastic Optimizer: Maximum iterations (20) reached and the optimization hasn't converged yet.\n",
      "  warnings.warn(\n"
     ]
    },
    {
     "name": "stdout",
     "output_type": "stream",
     "text": [
      "Iteration 2, loss = 0.52685383\n",
      "Iteration 3, loss = 0.44548448\n",
      "Iteration 4, loss = 0.38719157\n",
      "Iteration 5, loss = 0.34352121\n",
      "Iteration 6, loss = 0.31388055\n",
      "Iteration 7, loss = 0.28686516\n",
      "Iteration 8, loss = 0.26709851\n",
      "Iteration 9, loss = 0.24803281\n",
      "Iteration 10, loss = 0.23344551\n",
      "Iteration 11, loss = 0.21837033\n",
      "Iteration 12, loss = 0.20337864\n",
      "Iteration 13, loss = 0.19193991\n",
      "Iteration 14, loss = 0.18107741\n",
      "Iteration 15, loss = 0.16805663\n",
      "Iteration 16, loss = 0.15819493\n",
      "Iteration 17, loss = 0.14731086\n",
      "Iteration 18, loss = 0.13671949\n",
      "Iteration 19, loss = 0.12722476\n",
      "Iteration 20, loss = 0.11878929\n",
      "Iteration 1, loss = 0.67033549\n",
      "Iteration 2, loss = 0.52297400\n",
      "Iteration 3, loss = 0.44187729\n"
     ]
    },
    {
     "name": "stderr",
     "output_type": "stream",
     "text": [
      "D:\\AI\\Anaconda3\\lib\\site-packages\\sklearn\\neural_network\\_multilayer_perceptron.py:692: ConvergenceWarning: Stochastic Optimizer: Maximum iterations (20) reached and the optimization hasn't converged yet.\n",
      "  warnings.warn(\n"
     ]
    },
    {
     "name": "stdout",
     "output_type": "stream",
     "text": [
      "Iteration 4, loss = 0.38317010\n",
      "Iteration 5, loss = 0.33935434\n",
      "Iteration 6, loss = 0.30812932\n",
      "Iteration 7, loss = 0.28511576\n",
      "Iteration 8, loss = 0.26505425\n",
      "Iteration 9, loss = 0.24658866\n",
      "Iteration 10, loss = 0.23236463\n",
      "Iteration 11, loss = 0.21647536\n",
      "Iteration 12, loss = 0.20182870\n",
      "Iteration 13, loss = 0.19043687\n",
      "Iteration 14, loss = 0.17849296\n",
      "Iteration 15, loss = 0.16640912\n",
      "Iteration 16, loss = 0.15513050\n",
      "Iteration 17, loss = 0.14425320\n",
      "Iteration 18, loss = 0.13575165\n",
      "Iteration 19, loss = 0.12572063\n",
      "Iteration 20, loss = 0.11761797\n",
      "Iteration 1, loss = 0.67441660\n",
      "Iteration 2, loss = 0.53029022\n",
      "Iteration 3, loss = 0.44964496\n"
     ]
    },
    {
     "name": "stderr",
     "output_type": "stream",
     "text": [
      "D:\\AI\\Anaconda3\\lib\\site-packages\\sklearn\\neural_network\\_multilayer_perceptron.py:692: ConvergenceWarning: Stochastic Optimizer: Maximum iterations (20) reached and the optimization hasn't converged yet.\n",
      "  warnings.warn(\n"
     ]
    },
    {
     "name": "stdout",
     "output_type": "stream",
     "text": [
      "Iteration 4, loss = 0.39033211\n",
      "Iteration 5, loss = 0.34572471\n",
      "Iteration 6, loss = 0.31432373\n",
      "Iteration 7, loss = 0.28956575\n",
      "Iteration 8, loss = 0.26852710\n",
      "Iteration 9, loss = 0.25110245\n",
      "Iteration 10, loss = 0.23783784\n",
      "Iteration 11, loss = 0.22044862\n",
      "Iteration 12, loss = 0.20485454\n",
      "Iteration 13, loss = 0.19278393\n",
      "Iteration 14, loss = 0.17973490\n",
      "Iteration 15, loss = 0.16769125\n",
      "Iteration 16, loss = 0.15629681\n",
      "Iteration 17, loss = 0.14504106\n",
      "Iteration 18, loss = 0.13634154\n",
      "Iteration 19, loss = 0.12549262\n",
      "Iteration 20, loss = 0.11724823\n",
      "Iteration 1, loss = 0.76600712\n",
      "Iteration 2, loss = 0.72037630\n",
      "Iteration 3, loss = 0.68519996\n"
     ]
    },
    {
     "name": "stderr",
     "output_type": "stream",
     "text": [
      "D:\\AI\\Anaconda3\\lib\\site-packages\\sklearn\\neural_network\\_multilayer_perceptron.py:692: ConvergenceWarning: Stochastic Optimizer: Maximum iterations (20) reached and the optimization hasn't converged yet.\n",
      "  warnings.warn(\n"
     ]
    },
    {
     "name": "stdout",
     "output_type": "stream",
     "text": [
      "Iteration 4, loss = 0.65816534\n",
      "Iteration 5, loss = 0.63944541\n",
      "Iteration 6, loss = 0.62435627\n",
      "Iteration 7, loss = 0.61154259\n",
      "Iteration 8, loss = 0.60060053\n",
      "Iteration 9, loss = 0.58962220\n",
      "Iteration 10, loss = 0.58055937\n",
      "Iteration 11, loss = 0.57128883\n",
      "Iteration 12, loss = 0.56300810\n",
      "Iteration 13, loss = 0.55489952\n",
      "Iteration 14, loss = 0.54721852\n",
      "Iteration 15, loss = 0.53960329\n",
      "Iteration 16, loss = 0.53239475\n",
      "Iteration 17, loss = 0.52532842\n",
      "Iteration 18, loss = 0.51890377\n",
      "Iteration 19, loss = 0.51218937\n",
      "Iteration 20, loss = 0.50572774\n",
      "Iteration 1, loss = 0.76946330\n"
     ]
    },
    {
     "name": "stderr",
     "output_type": "stream",
     "text": [
      "D:\\AI\\Anaconda3\\lib\\site-packages\\sklearn\\neural_network\\_multilayer_perceptron.py:692: ConvergenceWarning: Stochastic Optimizer: Maximum iterations (20) reached and the optimization hasn't converged yet.\n",
      "  warnings.warn(\n"
     ]
    },
    {
     "name": "stdout",
     "output_type": "stream",
     "text": [
      "Iteration 2, loss = 0.72378129\n",
      "Iteration 3, loss = 0.68892489\n",
      "Iteration 4, loss = 0.66223739\n",
      "Iteration 5, loss = 0.64362787\n",
      "Iteration 6, loss = 0.62874606\n",
      "Iteration 7, loss = 0.61574021\n",
      "Iteration 8, loss = 0.60475009\n",
      "Iteration 9, loss = 0.59403616\n",
      "Iteration 10, loss = 0.58493077\n",
      "Iteration 11, loss = 0.57574892\n",
      "Iteration 12, loss = 0.56752619\n",
      "Iteration 13, loss = 0.55954664\n",
      "Iteration 14, loss = 0.55201534\n",
      "Iteration 15, loss = 0.54439668\n",
      "Iteration 16, loss = 0.53724547\n",
      "Iteration 17, loss = 0.53014477\n",
      "Iteration 18, loss = 0.52367045\n",
      "Iteration 19, loss = 0.51705707\n",
      "Iteration 20, loss = 0.51066678\n",
      "Iteration 1, loss = 0.76527485\n",
      "Iteration 2, loss = 0.72072836\n",
      "Iteration 3, loss = 0.68661561\n",
      "Iteration 4, loss = 0.66056725\n",
      "Iteration 5, loss = 0.64247361\n"
     ]
    },
    {
     "name": "stderr",
     "output_type": "stream",
     "text": [
      "D:\\AI\\Anaconda3\\lib\\site-packages\\sklearn\\neural_network\\_multilayer_perceptron.py:692: ConvergenceWarning: Stochastic Optimizer: Maximum iterations (20) reached and the optimization hasn't converged yet.\n",
      "  warnings.warn(\n"
     ]
    },
    {
     "name": "stdout",
     "output_type": "stream",
     "text": [
      "Iteration 6, loss = 0.62772521\n",
      "Iteration 7, loss = 0.61505610\n",
      "Iteration 8, loss = 0.60440046\n",
      "Iteration 9, loss = 0.59436462\n",
      "Iteration 10, loss = 0.58525724\n",
      "Iteration 11, loss = 0.57630628\n",
      "Iteration 12, loss = 0.56821736\n",
      "Iteration 13, loss = 0.56057741\n",
      "Iteration 14, loss = 0.55308123\n",
      "Iteration 15, loss = 0.54561689\n",
      "Iteration 16, loss = 0.53861188\n",
      "Iteration 17, loss = 0.53185993\n",
      "Iteration 18, loss = 0.52523094\n",
      "Iteration 19, loss = 0.51858881\n",
      "Iteration 20, loss = 0.51222526\n",
      "Iteration 1, loss = 0.76668472\n",
      "Iteration 2, loss = 0.72132568\n"
     ]
    },
    {
     "name": "stderr",
     "output_type": "stream",
     "text": [
      "D:\\AI\\Anaconda3\\lib\\site-packages\\sklearn\\neural_network\\_multilayer_perceptron.py:692: ConvergenceWarning: Stochastic Optimizer: Maximum iterations (20) reached and the optimization hasn't converged yet.\n",
      "  warnings.warn(\n"
     ]
    },
    {
     "name": "stdout",
     "output_type": "stream",
     "text": [
      "Iteration 3, loss = 0.68638565\n",
      "Iteration 4, loss = 0.65969816\n",
      "Iteration 5, loss = 0.64100560\n",
      "Iteration 6, loss = 0.62566079\n",
      "Iteration 7, loss = 0.61250304\n",
      "Iteration 8, loss = 0.60139089\n",
      "Iteration 9, loss = 0.59112388\n",
      "Iteration 10, loss = 0.58164549\n",
      "Iteration 11, loss = 0.57236949\n",
      "Iteration 12, loss = 0.56396544\n",
      "Iteration 13, loss = 0.55613085\n",
      "Iteration 14, loss = 0.54843838\n",
      "Iteration 15, loss = 0.54063790\n",
      "Iteration 16, loss = 0.53345976\n",
      "Iteration 17, loss = 0.52643939\n",
      "Iteration 18, loss = 0.51967429\n",
      "Iteration 19, loss = 0.51303576\n",
      "Iteration 20, loss = 0.50658314\n",
      "Iteration 1, loss = 0.76570189\n"
     ]
    },
    {
     "name": "stderr",
     "output_type": "stream",
     "text": [
      "D:\\AI\\Anaconda3\\lib\\site-packages\\sklearn\\neural_network\\_multilayer_perceptron.py:692: ConvergenceWarning: Stochastic Optimizer: Maximum iterations (20) reached and the optimization hasn't converged yet.\n",
      "  warnings.warn(\n"
     ]
    },
    {
     "name": "stdout",
     "output_type": "stream",
     "text": [
      "Iteration 2, loss = 0.71886874\n",
      "Iteration 3, loss = 0.68413378\n",
      "Iteration 4, loss = 0.65732772\n",
      "Iteration 5, loss = 0.63889994\n",
      "Iteration 6, loss = 0.62361125\n",
      "Iteration 7, loss = 0.61059551\n",
      "Iteration 8, loss = 0.59937634\n",
      "Iteration 9, loss = 0.58931656\n",
      "Iteration 10, loss = 0.57982139\n",
      "Iteration 11, loss = 0.57049535\n",
      "Iteration 12, loss = 0.56204016\n",
      "Iteration 13, loss = 0.55442486\n",
      "Iteration 14, loss = 0.54636297\n",
      "Iteration 15, loss = 0.53874959\n",
      "Iteration 16, loss = 0.53156792\n",
      "Iteration 17, loss = 0.52482336\n",
      "Iteration 18, loss = 0.51811032\n",
      "Iteration 19, loss = 0.51151846\n",
      "Iteration 20, loss = 0.50484670\n",
      "Iteration 1, loss = 0.76744206\n",
      "Iteration 2, loss = 0.72113736\n",
      "Iteration 3, loss = 0.68661184\n",
      "Iteration 4, loss = 0.65988705\n",
      "Iteration 5, loss = 0.64132753\n"
     ]
    },
    {
     "name": "stderr",
     "output_type": "stream",
     "text": [
      "D:\\AI\\Anaconda3\\lib\\site-packages\\sklearn\\neural_network\\_multilayer_perceptron.py:692: ConvergenceWarning: Stochastic Optimizer: Maximum iterations (20) reached and the optimization hasn't converged yet.\n",
      "  warnings.warn(\n"
     ]
    },
    {
     "name": "stdout",
     "output_type": "stream",
     "text": [
      "Iteration 6, loss = 0.62612482\n",
      "Iteration 7, loss = 0.61340032\n",
      "Iteration 8, loss = 0.60230126\n",
      "Iteration 9, loss = 0.59236916\n",
      "Iteration 10, loss = 0.58310767\n",
      "Iteration 11, loss = 0.57402213\n",
      "Iteration 12, loss = 0.56571654\n",
      "Iteration 13, loss = 0.55828387\n",
      "Iteration 14, loss = 0.55013008\n",
      "Iteration 15, loss = 0.54267208\n",
      "Iteration 16, loss = 0.53554331\n",
      "Iteration 17, loss = 0.52863757\n",
      "Iteration 18, loss = 0.52212134\n",
      "Iteration 19, loss = 0.51542192\n",
      "Iteration 20, loss = 0.50884469\n",
      "Iteration 1, loss = 0.76915594\n"
     ]
    },
    {
     "name": "stderr",
     "output_type": "stream",
     "text": [
      "D:\\AI\\Anaconda3\\lib\\site-packages\\sklearn\\neural_network\\_multilayer_perceptron.py:692: ConvergenceWarning: Stochastic Optimizer: Maximum iterations (20) reached and the optimization hasn't converged yet.\n",
      "  warnings.warn(\n"
     ]
    },
    {
     "name": "stdout",
     "output_type": "stream",
     "text": [
      "Iteration 2, loss = 0.72082241\n",
      "Iteration 3, loss = 0.68446474\n",
      "Iteration 4, loss = 0.65705295\n",
      "Iteration 5, loss = 0.63810273\n",
      "Iteration 6, loss = 0.62273668\n",
      "Iteration 7, loss = 0.60969563\n",
      "Iteration 8, loss = 0.59842775\n",
      "Iteration 9, loss = 0.58811923\n",
      "Iteration 10, loss = 0.57886029\n",
      "Iteration 11, loss = 0.56973005\n",
      "Iteration 12, loss = 0.56154388\n",
      "Iteration 13, loss = 0.55389439\n",
      "Iteration 14, loss = 0.54581997\n",
      "Iteration 15, loss = 0.53820353\n",
      "Iteration 16, loss = 0.53131084\n",
      "Iteration 17, loss = 0.52417737\n",
      "Iteration 18, loss = 0.51780735\n",
      "Iteration 19, loss = 0.51131506\n",
      "Iteration 20, loss = 0.50475650\n",
      "Iteration 1, loss = 0.76430524\n"
     ]
    },
    {
     "name": "stderr",
     "output_type": "stream",
     "text": [
      "D:\\AI\\Anaconda3\\lib\\site-packages\\sklearn\\neural_network\\_multilayer_perceptron.py:692: ConvergenceWarning: Stochastic Optimizer: Maximum iterations (20) reached and the optimization hasn't converged yet.\n",
      "  warnings.warn(\n"
     ]
    },
    {
     "name": "stdout",
     "output_type": "stream",
     "text": [
      "Iteration 2, loss = 0.71940532\n",
      "Iteration 3, loss = 0.68496150\n",
      "Iteration 4, loss = 0.65962156\n",
      "Iteration 5, loss = 0.64092683\n",
      "Iteration 6, loss = 0.62588885\n",
      "Iteration 7, loss = 0.61297664\n",
      "Iteration 8, loss = 0.60173880\n",
      "Iteration 9, loss = 0.59146462\n",
      "Iteration 10, loss = 0.58211291\n",
      "Iteration 11, loss = 0.57296892\n",
      "Iteration 12, loss = 0.56463482\n",
      "Iteration 13, loss = 0.55690449\n",
      "Iteration 14, loss = 0.54908377\n",
      "Iteration 15, loss = 0.54128183\n",
      "Iteration 16, loss = 0.53479594\n",
      "Iteration 17, loss = 0.52736043\n",
      "Iteration 18, loss = 0.52065268\n",
      "Iteration 19, loss = 0.51409678\n",
      "Iteration 20, loss = 0.50763079\n",
      "Iteration 1, loss = 0.76278465\n",
      "Iteration 2, loss = 0.71658140\n",
      "Iteration 3, loss = 0.68146199\n",
      "Iteration 4, loss = 0.65536904\n",
      "Iteration 5, loss = 0.63675233\n"
     ]
    },
    {
     "name": "stderr",
     "output_type": "stream",
     "text": [
      "D:\\AI\\Anaconda3\\lib\\site-packages\\sklearn\\neural_network\\_multilayer_perceptron.py:692: ConvergenceWarning: Stochastic Optimizer: Maximum iterations (20) reached and the optimization hasn't converged yet.\n",
      "  warnings.warn(\n"
     ]
    },
    {
     "name": "stdout",
     "output_type": "stream",
     "text": [
      "Iteration 6, loss = 0.62147912\n",
      "Iteration 7, loss = 0.60887011\n",
      "Iteration 8, loss = 0.59759878\n",
      "Iteration 9, loss = 0.58762991\n",
      "Iteration 10, loss = 0.57819913\n",
      "Iteration 11, loss = 0.56911443\n",
      "Iteration 12, loss = 0.56102098\n",
      "Iteration 13, loss = 0.55293880\n",
      "Iteration 14, loss = 0.54576486\n",
      "Iteration 15, loss = 0.53793280\n",
      "Iteration 16, loss = 0.53039487\n",
      "Iteration 17, loss = 0.52362244\n",
      "Iteration 18, loss = 0.51656215\n",
      "Iteration 19, loss = 0.51017412\n",
      "Iteration 20, loss = 0.50369561\n",
      "Iteration 1, loss = 0.76278990\n",
      "Iteration 2, loss = 0.71939170\n",
      "Iteration 3, loss = 0.68547112\n"
     ]
    },
    {
     "name": "stderr",
     "output_type": "stream",
     "text": [
      "D:\\AI\\Anaconda3\\lib\\site-packages\\sklearn\\neural_network\\_multilayer_perceptron.py:692: ConvergenceWarning: Stochastic Optimizer: Maximum iterations (20) reached and the optimization hasn't converged yet.\n",
      "  warnings.warn(\n"
     ]
    },
    {
     "name": "stdout",
     "output_type": "stream",
     "text": [
      "Iteration 4, loss = 0.66020199\n",
      "Iteration 5, loss = 0.64210262\n",
      "Iteration 6, loss = 0.62719629\n",
      "Iteration 7, loss = 0.61460917\n",
      "Iteration 8, loss = 0.60361557\n",
      "Iteration 9, loss = 0.59367239\n",
      "Iteration 10, loss = 0.58435118\n",
      "Iteration 11, loss = 0.57545278\n",
      "Iteration 12, loss = 0.56747420\n",
      "Iteration 13, loss = 0.55956712\n",
      "Iteration 14, loss = 0.55220811\n",
      "Iteration 15, loss = 0.54482817\n",
      "Iteration 16, loss = 0.53744315\n",
      "Iteration 17, loss = 0.53097662\n",
      "Iteration 18, loss = 0.52407439\n",
      "Iteration 19, loss = 0.51781485\n",
      "Iteration 20, loss = 0.51139274\n"
     ]
    },
    {
     "name": "stderr",
     "output_type": "stream",
     "text": [
      "D:\\AI\\Anaconda3\\lib\\site-packages\\sklearn\\neural_network\\_multilayer_perceptron.py:692: ConvergenceWarning: Stochastic Optimizer: Maximum iterations (20) reached and the optimization hasn't converged yet.\n",
      "  warnings.warn(\n",
      "D:\\AI\\Anaconda3\\lib\\site-packages\\sklearn\\neural_network\\_multilayer_perceptron.py:549: ConvergenceWarning: lbfgs failed to converge (status=1):\n",
      "STOP: TOTAL NO. of ITERATIONS REACHED LIMIT.\n",
      "\n",
      "Increase the number of iterations (max_iter) or scale the data as shown in:\n",
      "    https://scikit-learn.org/stable/modules/preprocessing.html\n",
      "  self.n_iter_ = _check_optimize_result(\"lbfgs\", opt_res, self.max_iter)\n",
      "D:\\AI\\Anaconda3\\lib\\site-packages\\sklearn\\neural_network\\_multilayer_perceptron.py:549: ConvergenceWarning: lbfgs failed to converge (status=1):\n",
      "STOP: TOTAL NO. of ITERATIONS REACHED LIMIT.\n",
      "\n",
      "Increase the number of iterations (max_iter) or scale the data as shown in:\n",
      "    https://scikit-learn.org/stable/modules/preprocessing.html\n",
      "  self.n_iter_ = _check_optimize_result(\"lbfgs\", opt_res, self.max_iter)\n",
      "D:\\AI\\Anaconda3\\lib\\site-packages\\sklearn\\neural_network\\_multilayer_perceptron.py:549: ConvergenceWarning: lbfgs failed to converge (status=1):\n",
      "STOP: TOTAL NO. of ITERATIONS REACHED LIMIT.\n",
      "\n",
      "Increase the number of iterations (max_iter) or scale the data as shown in:\n",
      "    https://scikit-learn.org/stable/modules/preprocessing.html\n",
      "  self.n_iter_ = _check_optimize_result(\"lbfgs\", opt_res, self.max_iter)\n",
      "D:\\AI\\Anaconda3\\lib\\site-packages\\sklearn\\neural_network\\_multilayer_perceptron.py:549: ConvergenceWarning: lbfgs failed to converge (status=1):\n",
      "STOP: TOTAL NO. of ITERATIONS REACHED LIMIT.\n",
      "\n",
      "Increase the number of iterations (max_iter) or scale the data as shown in:\n",
      "    https://scikit-learn.org/stable/modules/preprocessing.html\n",
      "  self.n_iter_ = _check_optimize_result(\"lbfgs\", opt_res, self.max_iter)\n",
      "D:\\AI\\Anaconda3\\lib\\site-packages\\sklearn\\neural_network\\_multilayer_perceptron.py:549: ConvergenceWarning: lbfgs failed to converge (status=1):\n",
      "STOP: TOTAL NO. of ITERATIONS REACHED LIMIT.\n",
      "\n",
      "Increase the number of iterations (max_iter) or scale the data as shown in:\n",
      "    https://scikit-learn.org/stable/modules/preprocessing.html\n",
      "  self.n_iter_ = _check_optimize_result(\"lbfgs\", opt_res, self.max_iter)\n",
      "D:\\AI\\Anaconda3\\lib\\site-packages\\sklearn\\neural_network\\_multilayer_perceptron.py:549: ConvergenceWarning: lbfgs failed to converge (status=1):\n",
      "STOP: TOTAL NO. of ITERATIONS REACHED LIMIT.\n",
      "\n",
      "Increase the number of iterations (max_iter) or scale the data as shown in:\n",
      "    https://scikit-learn.org/stable/modules/preprocessing.html\n",
      "  self.n_iter_ = _check_optimize_result(\"lbfgs\", opt_res, self.max_iter)\n",
      "D:\\AI\\Anaconda3\\lib\\site-packages\\sklearn\\neural_network\\_multilayer_perceptron.py:549: ConvergenceWarning: lbfgs failed to converge (status=1):\n",
      "STOP: TOTAL NO. of ITERATIONS REACHED LIMIT.\n",
      "\n",
      "Increase the number of iterations (max_iter) or scale the data as shown in:\n",
      "    https://scikit-learn.org/stable/modules/preprocessing.html\n",
      "  self.n_iter_ = _check_optimize_result(\"lbfgs\", opt_res, self.max_iter)\n",
      "D:\\AI\\Anaconda3\\lib\\site-packages\\sklearn\\neural_network\\_multilayer_perceptron.py:549: ConvergenceWarning: lbfgs failed to converge (status=1):\n",
      "STOP: TOTAL NO. of ITERATIONS REACHED LIMIT.\n",
      "\n",
      "Increase the number of iterations (max_iter) or scale the data as shown in:\n",
      "    https://scikit-learn.org/stable/modules/preprocessing.html\n",
      "  self.n_iter_ = _check_optimize_result(\"lbfgs\", opt_res, self.max_iter)\n",
      "D:\\AI\\Anaconda3\\lib\\site-packages\\sklearn\\neural_network\\_multilayer_perceptron.py:549: ConvergenceWarning: lbfgs failed to converge (status=1):\n",
      "STOP: TOTAL NO. of ITERATIONS REACHED LIMIT.\n",
      "\n",
      "Increase the number of iterations (max_iter) or scale the data as shown in:\n",
      "    https://scikit-learn.org/stable/modules/preprocessing.html\n",
      "  self.n_iter_ = _check_optimize_result(\"lbfgs\", opt_res, self.max_iter)\n",
      "D:\\AI\\Anaconda3\\lib\\site-packages\\sklearn\\neural_network\\_multilayer_perceptron.py:549: ConvergenceWarning: lbfgs failed to converge (status=1):\n",
      "STOP: TOTAL NO. of ITERATIONS REACHED LIMIT.\n",
      "\n",
      "Increase the number of iterations (max_iter) or scale the data as shown in:\n",
      "    https://scikit-learn.org/stable/modules/preprocessing.html\n",
      "  self.n_iter_ = _check_optimize_result(\"lbfgs\", opt_res, self.max_iter)\n",
      "D:\\AI\\Anaconda3\\lib\\site-packages\\sklearn\\neural_network\\_multilayer_perceptron.py:692: ConvergenceWarning: Stochastic Optimizer: Maximum iterations (20) reached and the optimization hasn't converged yet.\n",
      "  warnings.warn(\n"
     ]
    },
    {
     "name": "stdout",
     "output_type": "stream",
     "text": [
      "Iteration 1, loss = 0.93756411\n",
      "Iteration 2, loss = 0.91641902\n",
      "Iteration 3, loss = 0.90030862\n",
      "Iteration 4, loss = 0.88814166\n",
      "Iteration 5, loss = 0.87854941\n",
      "Iteration 6, loss = 0.87097590\n",
      "Iteration 7, loss = 0.86450803\n",
      "Iteration 8, loss = 0.85879687\n",
      "Iteration 9, loss = 0.85372023\n",
      "Iteration 10, loss = 0.84894472\n",
      "Iteration 11, loss = 0.84442763\n",
      "Iteration 12, loss = 0.84017447\n",
      "Iteration 13, loss = 0.83596300\n",
      "Iteration 14, loss = 0.83184989\n",
      "Iteration 15, loss = 0.82787650\n",
      "Iteration 16, loss = 0.82393776\n",
      "Iteration 17, loss = 0.82008292\n",
      "Iteration 18, loss = 0.81625901\n",
      "Iteration 19, loss = 0.81248935\n",
      "Iteration 20, loss = 0.80870196\n",
      "Iteration 1, loss = 0.93280568\n",
      "Iteration 2, loss = 0.91178137\n",
      "Iteration 3, loss = 0.89567695\n",
      "Iteration 4, loss = 0.88354230\n",
      "Iteration 5, loss = 0.87401987\n",
      "Iteration 6, loss = 0.86645829\n",
      "Iteration 7, loss = 0.85999846\n",
      "Iteration 8, loss = 0.85432630\n",
      "Iteration 9, loss = 0.84930470\n",
      "Iteration 10, loss = 0.84463873\n",
      "Iteration 11, loss = 0.84018833\n",
      "Iteration 12, loss = 0.83596943\n",
      "Iteration 13, loss = 0.83185650\n",
      "Iteration 14, loss = 0.82781897\n",
      "Iteration 15, loss = 0.82391913\n",
      "Iteration 16, loss = 0.82006870\n",
      "Iteration 17, loss = 0.81628667\n",
      "Iteration 18, loss = 0.81254986\n",
      "Iteration 19, loss = 0.80886827\n",
      "Iteration 20, loss = 0.80520244\n",
      "Iteration 1, loss = 0.92816001\n",
      "Iteration 2, loss = 0.90750912\n",
      "Iteration 3, loss = 0.89179892\n",
      "Iteration 4, loss = 0.87997103\n",
      "Iteration 5, loss = 0.87058720\n",
      "Iteration 6, loss = 0.86320873\n",
      "Iteration 7, loss = 0.85686673\n",
      "Iteration 8, loss = 0.85128227\n",
      "Iteration 9, loss = 0.84633286\n",
      "Iteration 10, loss = 0.84173362\n",
      "Iteration 11, loss = 0.83736229\n",
      "Iteration 12, loss = 0.83318023\n",
      "Iteration 13, loss = 0.82911936\n",
      "Iteration 14, loss = 0.82513853\n",
      "Iteration 15, loss = 0.82125571\n",
      "Iteration 16, loss = 0.81744606\n",
      "Iteration 17, loss = 0.81368748\n"
     ]
    },
    {
     "name": "stderr",
     "output_type": "stream",
     "text": [
      "D:\\AI\\Anaconda3\\lib\\site-packages\\sklearn\\neural_network\\_multilayer_perceptron.py:692: ConvergenceWarning: Stochastic Optimizer: Maximum iterations (20) reached and the optimization hasn't converged yet.\n",
      "  warnings.warn(\n",
      "D:\\AI\\Anaconda3\\lib\\site-packages\\sklearn\\neural_network\\_multilayer_perceptron.py:692: ConvergenceWarning: Stochastic Optimizer: Maximum iterations (20) reached and the optimization hasn't converged yet.\n",
      "  warnings.warn(\n"
     ]
    },
    {
     "name": "stdout",
     "output_type": "stream",
     "text": [
      "Iteration 18, loss = 0.80994466\n",
      "Iteration 19, loss = 0.80624562\n",
      "Iteration 20, loss = 0.80251860\n",
      "Iteration 1, loss = 0.93654201\n",
      "Iteration 2, loss = 0.91524511\n",
      "Iteration 3, loss = 0.89910439\n",
      "Iteration 4, loss = 0.88697239\n",
      "Iteration 5, loss = 0.87734732\n",
      "Iteration 6, loss = 0.86975348\n",
      "Iteration 7, loss = 0.86327238\n",
      "Iteration 8, loss = 0.85756396\n",
      "Iteration 9, loss = 0.85249904\n",
      "Iteration 10, loss = 0.84777814\n",
      "Iteration 11, loss = 0.84333816\n",
      "Iteration 12, loss = 0.83905863\n",
      "Iteration 13, loss = 0.83488772\n",
      "Iteration 14, loss = 0.83084609\n",
      "Iteration 15, loss = 0.82684443\n",
      "Iteration 16, loss = 0.82297907\n",
      "Iteration 17, loss = 0.81912299\n",
      "Iteration 18, loss = 0.81533183\n",
      "Iteration 19, loss = 0.81155014\n",
      "Iteration 20, loss = 0.80781574\n",
      "Iteration 1, loss = 0.92778413\n",
      "Iteration 2, loss = 0.90696463\n",
      "Iteration 3, loss = 0.89120107\n",
      "Iteration 4, loss = 0.87938621\n",
      "Iteration 5, loss = 0.86991298\n",
      "Iteration 6, loss = 0.86255134\n"
     ]
    },
    {
     "name": "stderr",
     "output_type": "stream",
     "text": [
      "D:\\AI\\Anaconda3\\lib\\site-packages\\sklearn\\neural_network\\_multilayer_perceptron.py:692: ConvergenceWarning: Stochastic Optimizer: Maximum iterations (20) reached and the optimization hasn't converged yet.\n",
      "  warnings.warn(\n"
     ]
    },
    {
     "name": "stdout",
     "output_type": "stream",
     "text": [
      "Iteration 7, loss = 0.85619255\n",
      "Iteration 8, loss = 0.85068203\n",
      "Iteration 9, loss = 0.84573375\n",
      "Iteration 10, loss = 0.84118554\n",
      "Iteration 11, loss = 0.83682565\n",
      "Iteration 12, loss = 0.83266375\n",
      "Iteration 13, loss = 0.82857160\n",
      "Iteration 14, loss = 0.82459366\n",
      "Iteration 15, loss = 0.82062541\n",
      "Iteration 16, loss = 0.81672831\n",
      "Iteration 17, loss = 0.81277144\n",
      "Iteration 18, loss = 0.80879044\n",
      "Iteration 19, loss = 0.80464278\n",
      "Iteration 20, loss = 0.80035824\n"
     ]
    },
    {
     "name": "stderr",
     "output_type": "stream",
     "text": [
      "D:\\AI\\Anaconda3\\lib\\site-packages\\sklearn\\neural_network\\_multilayer_perceptron.py:692: ConvergenceWarning: Stochastic Optimizer: Maximum iterations (20) reached and the optimization hasn't converged yet.\n",
      "  warnings.warn(\n"
     ]
    },
    {
     "name": "stdout",
     "output_type": "stream",
     "text": [
      "Iteration 1, loss = 0.93307921\n",
      "Iteration 2, loss = 0.91219035\n",
      "Iteration 3, loss = 0.89622257\n",
      "Iteration 4, loss = 0.88429628\n",
      "Iteration 5, loss = 0.87477607\n",
      "Iteration 6, loss = 0.86730892\n",
      "Iteration 7, loss = 0.86085737\n",
      "Iteration 8, loss = 0.85533484\n",
      "Iteration 9, loss = 0.85025197\n",
      "Iteration 10, loss = 0.84564473\n",
      "Iteration 11, loss = 0.84122372\n",
      "Iteration 12, loss = 0.83696418\n",
      "Iteration 13, loss = 0.83282473\n",
      "Iteration 14, loss = 0.82881056\n",
      "Iteration 15, loss = 0.82476264\n",
      "Iteration 16, loss = 0.82088169\n",
      "Iteration 17, loss = 0.81691646\n",
      "Iteration 18, loss = 0.81302549\n",
      "Iteration 19, loss = 0.80901913\n",
      "Iteration 20, loss = 0.80493392\n",
      "Iteration 1, loss = 0.93714645\n",
      "Iteration 2, loss = 0.91607194\n",
      "Iteration 3, loss = 0.89995646\n",
      "Iteration 4, loss = 0.88787904\n",
      "Iteration 5, loss = 0.87816204\n",
      "Iteration 6, loss = 0.87057419\n",
      "Iteration 7, loss = 0.86398401\n",
      "Iteration 8, loss = 0.85841885\n",
      "Iteration 9, loss = 0.85324311\n",
      "Iteration 10, loss = 0.84857973\n",
      "Iteration 11, loss = 0.84411152\n",
      "Iteration 12, loss = 0.83978824\n",
      "Iteration 13, loss = 0.83562678\n",
      "Iteration 14, loss = 0.83156763\n",
      "Iteration 15, loss = 0.82749737\n"
     ]
    },
    {
     "name": "stderr",
     "output_type": "stream",
     "text": [
      "D:\\AI\\Anaconda3\\lib\\site-packages\\sklearn\\neural_network\\_multilayer_perceptron.py:692: ConvergenceWarning: Stochastic Optimizer: Maximum iterations (20) reached and the optimization hasn't converged yet.\n",
      "  warnings.warn(\n"
     ]
    },
    {
     "name": "stdout",
     "output_type": "stream",
     "text": [
      "Iteration 16, loss = 0.82358839\n",
      "Iteration 17, loss = 0.81963274\n",
      "Iteration 18, loss = 0.81581633\n",
      "Iteration 19, loss = 0.81189416\n",
      "Iteration 20, loss = 0.80797674\n",
      "Iteration 1, loss = 0.94162449\n",
      "Iteration 2, loss = 0.92022346\n",
      "Iteration 3, loss = 0.90384712\n",
      "Iteration 4, loss = 0.89159186\n",
      "Iteration 5, loss = 0.88185866\n",
      "Iteration 6, loss = 0.87420004\n",
      "Iteration 7, loss = 0.86756556\n",
      "Iteration 8, loss = 0.86192967\n",
      "Iteration 9, loss = 0.85670785\n",
      "Iteration 10, loss = 0.85195631\n",
      "Iteration 11, loss = 0.84740635\n",
      "Iteration 12, loss = 0.84303652\n",
      "Iteration 13, loss = 0.83882467\n",
      "Iteration 14, loss = 0.83470929\n",
      "Iteration 15, loss = 0.83059313\n",
      "Iteration 16, loss = 0.82664716\n",
      "Iteration 17, loss = 0.82266530\n",
      "Iteration 18, loss = 0.81880266\n",
      "Iteration 19, loss = 0.81490295\n",
      "Iteration 20, loss = 0.81099145\n"
     ]
    },
    {
     "name": "stderr",
     "output_type": "stream",
     "text": [
      "D:\\AI\\Anaconda3\\lib\\site-packages\\sklearn\\neural_network\\_multilayer_perceptron.py:692: ConvergenceWarning: Stochastic Optimizer: Maximum iterations (20) reached and the optimization hasn't converged yet.\n",
      "  warnings.warn(\n",
      "D:\\AI\\Anaconda3\\lib\\site-packages\\sklearn\\neural_network\\_multilayer_perceptron.py:692: ConvergenceWarning: Stochastic Optimizer: Maximum iterations (20) reached and the optimization hasn't converged yet.\n",
      "  warnings.warn(\n"
     ]
    },
    {
     "name": "stdout",
     "output_type": "stream",
     "text": [
      "Iteration 1, loss = 0.93283417\n",
      "Iteration 2, loss = 0.91197446\n",
      "Iteration 3, loss = 0.89607657\n",
      "Iteration 4, loss = 0.88375095\n",
      "Iteration 5, loss = 0.87446611\n",
      "Iteration 6, loss = 0.86681569\n",
      "Iteration 7, loss = 0.86035441\n",
      "Iteration 8, loss = 0.85481801\n",
      "Iteration 9, loss = 0.84978661\n",
      "Iteration 10, loss = 0.84516033\n",
      "Iteration 11, loss = 0.84065261\n",
      "Iteration 12, loss = 0.83648942\n",
      "Iteration 13, loss = 0.83238843\n",
      "Iteration 14, loss = 0.82841910\n",
      "Iteration 15, loss = 0.82444145\n",
      "Iteration 16, loss = 0.82057761\n",
      "Iteration 17, loss = 0.81678515\n",
      "Iteration 18, loss = 0.81297696\n",
      "Iteration 19, loss = 0.80922020\n",
      "Iteration 20, loss = 0.80545783\n",
      "Iteration 1, loss = 0.93359526\n",
      "Iteration 2, loss = 0.91283239\n",
      "Iteration 3, loss = 0.89700338\n",
      "Iteration 4, loss = 0.88478015\n",
      "Iteration 5, loss = 0.87550491\n",
      "Iteration 6, loss = 0.86780695\n",
      "Iteration 7, loss = 0.86138907\n",
      "Iteration 8, loss = 0.85582863\n",
      "Iteration 9, loss = 0.85076524\n"
     ]
    },
    {
     "name": "stderr",
     "output_type": "stream",
     "text": [
      "D:\\AI\\Anaconda3\\lib\\site-packages\\sklearn\\neural_network\\_multilayer_perceptron.py:692: ConvergenceWarning: Stochastic Optimizer: Maximum iterations (20) reached and the optimization hasn't converged yet.\n",
      "  warnings.warn(\n"
     ]
    },
    {
     "name": "stdout",
     "output_type": "stream",
     "text": [
      "Iteration 10, loss = 0.84611928\n",
      "Iteration 11, loss = 0.84160659\n",
      "Iteration 12, loss = 0.83742224\n",
      "Iteration 13, loss = 0.83331024\n",
      "Iteration 14, loss = 0.82931968\n",
      "Iteration 15, loss = 0.82532938\n",
      "Iteration 16, loss = 0.82147445\n",
      "Iteration 17, loss = 0.81767177\n",
      "Iteration 18, loss = 0.81383968\n",
      "Iteration 19, loss = 0.81010112\n",
      "Iteration 20, loss = 0.80634317\n",
      "Iteration 1, loss = 0.93286468\n",
      "Iteration 2, loss = 0.88286176\n",
      "Iteration 3, loss = 0.83909745\n",
      "Iteration 4, loss = 0.80810755\n",
      "Iteration 5, loss = 0.78695235\n",
      "Iteration 6, loss = 0.77324483\n",
      "Iteration 7, loss = 0.76373812\n",
      "Iteration 8, loss = 0.75648177\n",
      "Iteration 9, loss = 0.75073504\n",
      "Iteration 10, loss = 0.74538065\n",
      "Iteration 11, loss = 0.74038042\n",
      "Iteration 12, loss = 0.73561978\n",
      "Iteration 13, loss = 0.73080573\n",
      "Iteration 14, loss = 0.72603532\n"
     ]
    },
    {
     "name": "stderr",
     "output_type": "stream",
     "text": [
      "D:\\AI\\Anaconda3\\lib\\site-packages\\sklearn\\neural_network\\_multilayer_perceptron.py:692: ConvergenceWarning: Stochastic Optimizer: Maximum iterations (20) reached and the optimization hasn't converged yet.\n",
      "  warnings.warn(\n"
     ]
    },
    {
     "name": "stdout",
     "output_type": "stream",
     "text": [
      "Iteration 15, loss = 0.72129281\n",
      "Iteration 16, loss = 0.71691157\n",
      "Iteration 17, loss = 0.71253931\n",
      "Iteration 18, loss = 0.70790008\n",
      "Iteration 19, loss = 0.70348997\n",
      "Iteration 20, loss = 0.69889799\n",
      "Iteration 1, loss = 0.92815166\n",
      "Iteration 2, loss = 0.87814179\n",
      "Iteration 3, loss = 0.83460613\n",
      "Iteration 4, loss = 0.80405956\n",
      "Iteration 5, loss = 0.78353139\n",
      "Iteration 6, loss = 0.77038739\n",
      "Iteration 7, loss = 0.76128852\n"
     ]
    },
    {
     "name": "stderr",
     "output_type": "stream",
     "text": [
      "D:\\AI\\Anaconda3\\lib\\site-packages\\sklearn\\neural_network\\_multilayer_perceptron.py:692: ConvergenceWarning: Stochastic Optimizer: Maximum iterations (20) reached and the optimization hasn't converged yet.\n",
      "  warnings.warn(\n"
     ]
    },
    {
     "name": "stdout",
     "output_type": "stream",
     "text": [
      "Iteration 8, loss = 0.75441765\n",
      "Iteration 9, loss = 0.74901677\n",
      "Iteration 10, loss = 0.74409929\n",
      "Iteration 11, loss = 0.73944116\n",
      "Iteration 12, loss = 0.73498200\n",
      "Iteration 13, loss = 0.73056797\n",
      "Iteration 14, loss = 0.72626305\n",
      "Iteration 15, loss = 0.72193119\n",
      "Iteration 16, loss = 0.71788847\n",
      "Iteration 17, loss = 0.71392735\n",
      "Iteration 18, loss = 0.70993426\n",
      "Iteration 19, loss = 0.70589744\n",
      "Iteration 20, loss = 0.70167757\n",
      "Iteration 1, loss = 0.92398590\n",
      "Iteration 2, loss = 0.87608198\n"
     ]
    },
    {
     "name": "stderr",
     "output_type": "stream",
     "text": [
      "D:\\AI\\Anaconda3\\lib\\site-packages\\sklearn\\neural_network\\_multilayer_perceptron.py:692: ConvergenceWarning: Stochastic Optimizer: Maximum iterations (20) reached and the optimization hasn't converged yet.\n",
      "  warnings.warn(\n"
     ]
    },
    {
     "name": "stdout",
     "output_type": "stream",
     "text": [
      "Iteration 3, loss = 0.83405276\n",
      "Iteration 4, loss = 0.80442991\n",
      "Iteration 5, loss = 0.78394671\n",
      "Iteration 6, loss = 0.77093569\n",
      "Iteration 7, loss = 0.76169930\n",
      "Iteration 8, loss = 0.75470896\n",
      "Iteration 9, loss = 0.74923044\n",
      "Iteration 10, loss = 0.74429695\n",
      "Iteration 11, loss = 0.73961321\n",
      "Iteration 12, loss = 0.73510691\n",
      "Iteration 13, loss = 0.73071646\n",
      "Iteration 14, loss = 0.72641763\n",
      "Iteration 15, loss = 0.72208380\n",
      "Iteration 16, loss = 0.71822245\n",
      "Iteration 17, loss = 0.71442928\n",
      "Iteration 18, loss = 0.71054871\n",
      "Iteration 19, loss = 0.70677364\n",
      "Iteration 20, loss = 0.70280922\n",
      "Iteration 1, loss = 0.93176589\n",
      "Iteration 2, loss = 0.88132854\n",
      "Iteration 3, loss = 0.83751726\n",
      "Iteration 4, loss = 0.80675872\n",
      "Iteration 5, loss = 0.78555511\n",
      "Iteration 6, loss = 0.77212753\n",
      "Iteration 7, loss = 0.76282040\n",
      "Iteration 8, loss = 0.75568322\n",
      "Iteration 9, loss = 0.75006490\n",
      "Iteration 10, loss = 0.74496486\n",
      "Iteration 11, loss = 0.74020695\n",
      "Iteration 12, loss = 0.73557331\n",
      "Iteration 13, loss = 0.73100408\n",
      "Iteration 14, loss = 0.72659570\n"
     ]
    },
    {
     "name": "stderr",
     "output_type": "stream",
     "text": [
      "D:\\AI\\Anaconda3\\lib\\site-packages\\sklearn\\neural_network\\_multilayer_perceptron.py:692: ConvergenceWarning: Stochastic Optimizer: Maximum iterations (20) reached and the optimization hasn't converged yet.\n",
      "  warnings.warn(\n"
     ]
    },
    {
     "name": "stdout",
     "output_type": "stream",
     "text": [
      "Iteration 15, loss = 0.72207717\n",
      "Iteration 16, loss = 0.71787758\n",
      "Iteration 17, loss = 0.71383078\n",
      "Iteration 18, loss = 0.70969095\n",
      "Iteration 19, loss = 0.70551341\n",
      "Iteration 20, loss = 0.70130203\n",
      "Iteration 1, loss = 0.92336177\n",
      "Iteration 2, loss = 0.87522591\n",
      "Iteration 3, loss = 0.83328243\n",
      "Iteration 4, loss = 0.80373526\n",
      "Iteration 5, loss = 0.78289025\n",
      "Iteration 6, loss = 0.76983860\n",
      "Iteration 7, loss = 0.76060616\n",
      "Iteration 8, loss = 0.75381125\n",
      "Iteration 9, loss = 0.74837692\n"
     ]
    },
    {
     "name": "stderr",
     "output_type": "stream",
     "text": [
      "D:\\AI\\Anaconda3\\lib\\site-packages\\sklearn\\neural_network\\_multilayer_perceptron.py:692: ConvergenceWarning: Stochastic Optimizer: Maximum iterations (20) reached and the optimization hasn't converged yet.\n",
      "  warnings.warn(\n"
     ]
    },
    {
     "name": "stdout",
     "output_type": "stream",
     "text": [
      "Iteration 10, loss = 0.74363389\n",
      "Iteration 11, loss = 0.73896109\n",
      "Iteration 12, loss = 0.73459960\n",
      "Iteration 13, loss = 0.73020950\n",
      "Iteration 14, loss = 0.72598204\n",
      "Iteration 15, loss = 0.72161971\n",
      "Iteration 16, loss = 0.71757481\n",
      "Iteration 17, loss = 0.71368377\n",
      "Iteration 18, loss = 0.70974757\n",
      "Iteration 19, loss = 0.70572474\n",
      "Iteration 20, loss = 0.70162691\n",
      "Iteration 1, loss = 0.92846244\n"
     ]
    },
    {
     "name": "stderr",
     "output_type": "stream",
     "text": [
      "D:\\AI\\Anaconda3\\lib\\site-packages\\sklearn\\neural_network\\_multilayer_perceptron.py:692: ConvergenceWarning: Stochastic Optimizer: Maximum iterations (20) reached and the optimization hasn't converged yet.\n",
      "  warnings.warn(\n"
     ]
    },
    {
     "name": "stdout",
     "output_type": "stream",
     "text": [
      "Iteration 2, loss = 0.87985739\n",
      "Iteration 3, loss = 0.83702437\n",
      "Iteration 4, loss = 0.80692408\n",
      "Iteration 5, loss = 0.78580303\n",
      "Iteration 6, loss = 0.77246208\n",
      "Iteration 7, loss = 0.76291418\n",
      "Iteration 8, loss = 0.75614797\n",
      "Iteration 9, loss = 0.75036944\n",
      "Iteration 10, loss = 0.74546414\n",
      "Iteration 11, loss = 0.74062364\n",
      "Iteration 12, loss = 0.73597406\n",
      "Iteration 13, loss = 0.73142713\n",
      "Iteration 14, loss = 0.72696177\n",
      "Iteration 15, loss = 0.72231601\n",
      "Iteration 16, loss = 0.71795630\n",
      "Iteration 17, loss = 0.71361785\n",
      "Iteration 18, loss = 0.70932137\n",
      "Iteration 19, loss = 0.70497188\n",
      "Iteration 20, loss = 0.70057578\n",
      "Iteration 1, loss = 0.93221108\n",
      "Iteration 2, loss = 0.88260045\n",
      "Iteration 3, loss = 0.83892547\n",
      "Iteration 4, loss = 0.80820353\n",
      "Iteration 5, loss = 0.78658896\n",
      "Iteration 6, loss = 0.77305898\n",
      "Iteration 7, loss = 0.76322071\n",
      "Iteration 8, loss = 0.75648009\n",
      "Iteration 9, loss = 0.75047388\n",
      "Iteration 10, loss = 0.74539119\n",
      "Iteration 11, loss = 0.74034318\n",
      "Iteration 12, loss = 0.73544660\n",
      "Iteration 13, loss = 0.73064305\n",
      "Iteration 14, loss = 0.72586679\n",
      "Iteration 15, loss = 0.72106404\n"
     ]
    },
    {
     "name": "stderr",
     "output_type": "stream",
     "text": [
      "D:\\AI\\Anaconda3\\lib\\site-packages\\sklearn\\neural_network\\_multilayer_perceptron.py:692: ConvergenceWarning: Stochastic Optimizer: Maximum iterations (20) reached and the optimization hasn't converged yet.\n",
      "  warnings.warn(\n"
     ]
    },
    {
     "name": "stdout",
     "output_type": "stream",
     "text": [
      "Iteration 16, loss = 0.71668720\n",
      "Iteration 17, loss = 0.71203699\n",
      "Iteration 18, loss = 0.70735130\n",
      "Iteration 19, loss = 0.70274071\n",
      "Iteration 20, loss = 0.69819389\n",
      "Iteration 1, loss = 0.93665234\n",
      "Iteration 2, loss = 0.88573960\n",
      "Iteration 3, loss = 0.84075081\n",
      "Iteration 4, loss = 0.80925259\n",
      "Iteration 5, loss = 0.78743687\n",
      "Iteration 6, loss = 0.77380681\n",
      "Iteration 7, loss = 0.76397315\n",
      "Iteration 8, loss = 0.75727998\n",
      "Iteration 9, loss = 0.75133423\n",
      "Iteration 10, loss = 0.74632524\n",
      "Iteration 11, loss = 0.74135032\n",
      "Iteration 12, loss = 0.73668130\n",
      "Iteration 13, loss = 0.73220513\n"
     ]
    },
    {
     "name": "stderr",
     "output_type": "stream",
     "text": [
      "D:\\AI\\Anaconda3\\lib\\site-packages\\sklearn\\neural_network\\_multilayer_perceptron.py:692: ConvergenceWarning: Stochastic Optimizer: Maximum iterations (20) reached and the optimization hasn't converged yet.\n",
      "  warnings.warn(\n"
     ]
    },
    {
     "name": "stdout",
     "output_type": "stream",
     "text": [
      "Iteration 14, loss = 0.72780021\n",
      "Iteration 15, loss = 0.72327347\n",
      "Iteration 16, loss = 0.71902597\n",
      "Iteration 17, loss = 0.71495000\n",
      "Iteration 18, loss = 0.71095858\n",
      "Iteration 19, loss = 0.70679813\n",
      "Iteration 20, loss = 0.70258917\n",
      "Iteration 1, loss = 0.92802457\n",
      "Iteration 2, loss = 0.87949277\n",
      "Iteration 3, loss = 0.83685260\n",
      "Iteration 4, loss = 0.80582088\n",
      "Iteration 5, loss = 0.78574670\n",
      "Iteration 6, loss = 0.77222414\n",
      "Iteration 7, loss = 0.76269430\n",
      "Iteration 8, loss = 0.75599366\n",
      "Iteration 9, loss = 0.75045954\n",
      "Iteration 10, loss = 0.74540461\n",
      "Iteration 11, loss = 0.74044813\n",
      "Iteration 12, loss = 0.73590175\n",
      "Iteration 13, loss = 0.73133239\n",
      "Iteration 14, loss = 0.72693930\n",
      "Iteration 15, loss = 0.72236183\n",
      "Iteration 16, loss = 0.71801821\n",
      "Iteration 17, loss = 0.71384667\n",
      "Iteration 18, loss = 0.70948798\n"
     ]
    },
    {
     "name": "stderr",
     "output_type": "stream",
     "text": [
      "D:\\AI\\Anaconda3\\lib\\site-packages\\sklearn\\neural_network\\_multilayer_perceptron.py:692: ConvergenceWarning: Stochastic Optimizer: Maximum iterations (20) reached and the optimization hasn't converged yet.\n",
      "  warnings.warn(\n",
      "D:\\AI\\Anaconda3\\lib\\site-packages\\sklearn\\neural_network\\_multilayer_perceptron.py:692: ConvergenceWarning: Stochastic Optimizer: Maximum iterations (20) reached and the optimization hasn't converged yet.\n",
      "  warnings.warn(\n"
     ]
    },
    {
     "name": "stdout",
     "output_type": "stream",
     "text": [
      "Iteration 19, loss = 0.70501882\n",
      "Iteration 20, loss = 0.70075350\n",
      "Iteration 1, loss = 0.92873215\n",
      "Iteration 2, loss = 0.88059458\n",
      "Iteration 3, loss = 0.83832250\n",
      "Iteration 4, loss = 0.80763505\n",
      "Iteration 5, loss = 0.78740050\n",
      "Iteration 6, loss = 0.77358378\n",
      "Iteration 7, loss = 0.76421076\n",
      "Iteration 8, loss = 0.75755598\n",
      "Iteration 9, loss = 0.75209796\n",
      "Iteration 10, loss = 0.74726533\n",
      "Iteration 11, loss = 0.74245723\n",
      "Iteration 12, loss = 0.73807971\n",
      "Iteration 13, loss = 0.73367412\n",
      "Iteration 14, loss = 0.72950701\n",
      "Iteration 15, loss = 0.72509701\n",
      "Iteration 16, loss = 0.72090388\n",
      "Iteration 17, loss = 0.71704224\n",
      "Iteration 18, loss = 0.71303755\n",
      "Iteration 19, loss = 0.70892866\n",
      "Iteration 20, loss = 0.70490134\n"
     ]
    },
    {
     "name": "stderr",
     "output_type": "stream",
     "text": [
      "D:\\AI\\Anaconda3\\lib\\site-packages\\sklearn\\neural_network\\_multilayer_perceptron.py:692: ConvergenceWarning: Stochastic Optimizer: Maximum iterations (20) reached and the optimization hasn't converged yet.\n",
      "  warnings.warn(\n",
      "D:\\AI\\Anaconda3\\lib\\site-packages\\sklearn\\neural_network\\_multilayer_perceptron.py:549: ConvergenceWarning: lbfgs failed to converge (status=1):\n",
      "STOP: TOTAL NO. of ITERATIONS REACHED LIMIT.\n",
      "\n",
      "Increase the number of iterations (max_iter) or scale the data as shown in:\n",
      "    https://scikit-learn.org/stable/modules/preprocessing.html\n",
      "  self.n_iter_ = _check_optimize_result(\"lbfgs\", opt_res, self.max_iter)\n",
      "D:\\AI\\Anaconda3\\lib\\site-packages\\sklearn\\neural_network\\_multilayer_perceptron.py:549: ConvergenceWarning: lbfgs failed to converge (status=1):\n",
      "STOP: TOTAL NO. of ITERATIONS REACHED LIMIT.\n",
      "\n",
      "Increase the number of iterations (max_iter) or scale the data as shown in:\n",
      "    https://scikit-learn.org/stable/modules/preprocessing.html\n",
      "  self.n_iter_ = _check_optimize_result(\"lbfgs\", opt_res, self.max_iter)\n",
      "D:\\AI\\Anaconda3\\lib\\site-packages\\sklearn\\neural_network\\_multilayer_perceptron.py:549: ConvergenceWarning: lbfgs failed to converge (status=1):\n",
      "STOP: TOTAL NO. of ITERATIONS REACHED LIMIT.\n",
      "\n",
      "Increase the number of iterations (max_iter) or scale the data as shown in:\n",
      "    https://scikit-learn.org/stable/modules/preprocessing.html\n",
      "  self.n_iter_ = _check_optimize_result(\"lbfgs\", opt_res, self.max_iter)\n",
      "D:\\AI\\Anaconda3\\lib\\site-packages\\sklearn\\neural_network\\_multilayer_perceptron.py:549: ConvergenceWarning: lbfgs failed to converge (status=1):\n",
      "STOP: TOTAL NO. of ITERATIONS REACHED LIMIT.\n",
      "\n",
      "Increase the number of iterations (max_iter) or scale the data as shown in:\n",
      "    https://scikit-learn.org/stable/modules/preprocessing.html\n",
      "  self.n_iter_ = _check_optimize_result(\"lbfgs\", opt_res, self.max_iter)\n",
      "D:\\AI\\Anaconda3\\lib\\site-packages\\sklearn\\neural_network\\_multilayer_perceptron.py:549: ConvergenceWarning: lbfgs failed to converge (status=1):\n",
      "STOP: TOTAL NO. of ITERATIONS REACHED LIMIT.\n",
      "\n",
      "Increase the number of iterations (max_iter) or scale the data as shown in:\n",
      "    https://scikit-learn.org/stable/modules/preprocessing.html\n",
      "  self.n_iter_ = _check_optimize_result(\"lbfgs\", opt_res, self.max_iter)\n",
      "D:\\AI\\Anaconda3\\lib\\site-packages\\sklearn\\neural_network\\_multilayer_perceptron.py:549: ConvergenceWarning: lbfgs failed to converge (status=1):\n",
      "STOP: TOTAL NO. of ITERATIONS REACHED LIMIT.\n",
      "\n",
      "Increase the number of iterations (max_iter) or scale the data as shown in:\n",
      "    https://scikit-learn.org/stable/modules/preprocessing.html\n",
      "  self.n_iter_ = _check_optimize_result(\"lbfgs\", opt_res, self.max_iter)\n",
      "D:\\AI\\Anaconda3\\lib\\site-packages\\sklearn\\neural_network\\_multilayer_perceptron.py:549: ConvergenceWarning: lbfgs failed to converge (status=1):\n",
      "STOP: TOTAL NO. of ITERATIONS REACHED LIMIT.\n",
      "\n",
      "Increase the number of iterations (max_iter) or scale the data as shown in:\n",
      "    https://scikit-learn.org/stable/modules/preprocessing.html\n",
      "  self.n_iter_ = _check_optimize_result(\"lbfgs\", opt_res, self.max_iter)\n",
      "D:\\AI\\Anaconda3\\lib\\site-packages\\sklearn\\neural_network\\_multilayer_perceptron.py:549: ConvergenceWarning: lbfgs failed to converge (status=1):\n",
      "STOP: TOTAL NO. of ITERATIONS REACHED LIMIT.\n",
      "\n",
      "Increase the number of iterations (max_iter) or scale the data as shown in:\n",
      "    https://scikit-learn.org/stable/modules/preprocessing.html\n",
      "  self.n_iter_ = _check_optimize_result(\"lbfgs\", opt_res, self.max_iter)\n",
      "D:\\AI\\Anaconda3\\lib\\site-packages\\sklearn\\neural_network\\_multilayer_perceptron.py:549: ConvergenceWarning: lbfgs failed to converge (status=1):\n",
      "STOP: TOTAL NO. of ITERATIONS REACHED LIMIT.\n",
      "\n",
      "Increase the number of iterations (max_iter) or scale the data as shown in:\n",
      "    https://scikit-learn.org/stable/modules/preprocessing.html\n",
      "  self.n_iter_ = _check_optimize_result(\"lbfgs\", opt_res, self.max_iter)\n",
      "D:\\AI\\Anaconda3\\lib\\site-packages\\sklearn\\neural_network\\_multilayer_perceptron.py:549: ConvergenceWarning: lbfgs failed to converge (status=1):\n",
      "STOP: TOTAL NO. of ITERATIONS REACHED LIMIT.\n",
      "\n",
      "Increase the number of iterations (max_iter) or scale the data as shown in:\n",
      "    https://scikit-learn.org/stable/modules/preprocessing.html\n",
      "  self.n_iter_ = _check_optimize_result(\"lbfgs\", opt_res, self.max_iter)\n"
     ]
    },
    {
     "name": "stdout",
     "output_type": "stream",
     "text": [
      "Iteration 1, loss = 0.66759833\n",
      "Iteration 2, loss = 0.51639415\n",
      "Iteration 3, loss = 0.43337221\n",
      "Iteration 4, loss = 0.37285715\n",
      "Iteration 5, loss = 0.33158685\n",
      "Iteration 6, loss = 0.30321922\n",
      "Iteration 7, loss = 0.27687671\n",
      "Iteration 8, loss = 0.25822056\n",
      "Iteration 9, loss = 0.24050380\n",
      "Iteration 10, loss = 0.22581125\n",
      "Iteration 11, loss = 0.21238550\n",
      "Iteration 12, loss = 0.19958027\n",
      "Iteration 13, loss = 0.18361072\n",
      "Iteration 14, loss = 0.17194085\n",
      "Iteration 15, loss = 0.16033915\n",
      "Iteration 16, loss = 0.14928656\n",
      "Iteration 17, loss = 0.13930870\n",
      "Iteration 18, loss = 0.13191030\n",
      "Iteration 19, loss = 0.12200173\n",
      "Iteration 20, loss = 0.11305487\n"
     ]
    },
    {
     "name": "stderr",
     "output_type": "stream",
     "text": [
      "D:\\AI\\Anaconda3\\lib\\site-packages\\sklearn\\neural_network\\_multilayer_perceptron.py:692: ConvergenceWarning: Stochastic Optimizer: Maximum iterations (20) reached and the optimization hasn't converged yet.\n",
      "  warnings.warn(\n"
     ]
    }
   ],
   "source": [
    "from sklearn.model_selection import train_test_split\n",
    "from sklearn.model_selection import GridSearchCV\n",
    "from sklearn.model_selection import KFold\n",
    "from sklearn.metrics import make_scorer\n",
    "import numpy as np\n",
    "\n",
    "k_fold = KFold(n_splits=10)\n",
    "bp = MLPClassifier(random_state=1) \n",
    "params = {\"hidden_layer_sizes\": [(100,), (100,30),(5,2)],\n",
    "              \"solver\": ['adam', 'sgd', 'lbfgs'],\n",
    "              \"alpha\" : np.arange(1e-5,1e-4,1e-5),\n",
    "              \"max_iter\": [20],\n",
    "              \"verbose\": [True]\n",
    "                             }\n",
    "scoring_fnc = make_scorer(accuracy_score)\n",
    "grid = GridSearchCV(bp, param_grid=params,scoring=scoring_fnc,cv=k_fold)\n",
    "grid = grid.fit(X_train, y_train)"
   ]
  },
  {
   "cell_type": "code",
   "execution_count": 5,
   "id": "116d3673",
   "metadata": {
    "scrolled": true
   },
   "outputs": [
    {
     "name": "stdout",
     "output_type": "stream",
     "text": [
      "k_fold Parameter 'hidden_layer_sizes' is (100, 30) for the optimal model.\n",
      "k_fold Parameter 'solver' is adam for the optimal model.\n",
      "k_fold Parameter 'alpha' is 2e-05 for the optimal model.\n",
      "最优参数的bp神经网络训练准确率： 88.27160493827161 %\n"
     ]
    }
   ],
   "source": [
    "clf = grid.best_estimator_\n",
    "score = grid.score(X_test,y_test)\n",
    "print (\"k_fold Parameter 'hidden_layer_sizes' is {} for the optimal model.\".format(clf.get_params()['hidden_layer_sizes']))\n",
    "print (\"k_fold Parameter 'solver' is {} for the optimal model.\".format(clf.get_params()['solver']))\n",
    "print (\"k_fold Parameter 'alpha' is {} for the optimal model.\".format(clf.get_params()['alpha']))\n",
    "print('最优参数的bp神经网络训练准确率：',score*100,'%')"
   ]
  },
  {
   "cell_type": "code",
   "execution_count": 11,
   "id": "b8b6bbc0",
   "metadata": {},
   "outputs": [
    {
     "data": {
      "image/png": "[encoded data removed]",
      "text/plain": [
       "<Figure size 1200x800 with 1 Axes>"
      ]
     },
     "metadata": {},
     "output_type": "display_data"
    },
    {
     "data": {
      "image/png": "[encoded data removed]",
      "text/plain": [
       "<Figure size 1200x800 with 1 Axes>"
      ]
     },
     "metadata": {},
     "output_type": "display_data"
    },
    {
     "data": {
      "image/png": "[encoded data removed]",
      "text/plain": [
       "<Figure size 1200x800 with 1 Axes>"
      ]
     },
     "metadata": {},
     "output_type": "display_data"
    }
   ],
   "source": [
    "import matplotlib.pyplot as plt\n",
    "import pandas as pd\n",
    "\n",
    "# 假设 grid 是你的 GridSearchCV 对象\n",
    "results = grid.cv_results_\n",
    "\n",
    "# 将 cv_results_ 转换为 DataFrame\n",
    "results_df = pd.DataFrame(results)\n",
    "\n",
    "# 获取不同的 solver 值\n",
    "solvers = results_df['param_solver'].unique()\n",
    "\n",
    "# 为每个 solver 绘制一个图，每个图中绘制不同 hidden_layer_sizes 的曲线\n",
    "for solver in solvers:\n",
    "    # 为当前 solver 筛选数据\n",
    "    solver_results = results_df[results_df['param_solver'] == solver]\n",
    "    \n",
    "    # 获取当前 solver 下的所有 hidden_layer_sizes 值\n",
    "    hidden_layer_sizes = solver_results['param_hidden_layer_sizes'].unique()\n",
    "    \n",
    "    # 绘制图表\n",
    "    plt.figure(figsize=(12, 8))\n",
    "    \n",
    "    for hl_size in hidden_layer_sizes:\n",
    "        # 筛选当前 solver 和 hidden_layer_sizes 下的数据\n",
    "        hl_results = solver_results[solver_results['param_hidden_layer_sizes'] == hl_size]\n",
    "        \n",
    "        # 绘制当前 hidden_layer_sizes 的曲线\n",
    "        plt.plot(hl_results['param_alpha'], hl_results['mean_test_score'], marker='o', label=f'hidden layer sizes={hl_size}')\n",
    "    \n",
    "    plt.title(f'solver={solver}')\n",
    "    plt.xlabel('alpha')\n",
    "    plt.ylabel('Mean Test Score (Accuracy)')\n",
    "    plt.legend(title='hidden layer sizes')\n",
    "    plt.grid(True)\n",
    "    plt.show()"
   ]
  },
  {
   "cell_type": "code",
   "execution_count": 7,
   "id": "5e31314b",
   "metadata": {},
   "outputs": [
    {
     "name": "stdout",
     "output_type": "stream",
     "text": [
      "bp Accuracy: 0.90 (+/- 0.04)\n",
      "bp测试结果： {'fit_time': array([3.56848073, 4.00235105, 3.3772881 , 3.62799025, 3.96148157,\n",
      "       3.80294752, 3.33093071, 4.09140134, 3.05816698, 3.79127502]), 'score_time': array([0.00199795, 0.00100112, 0.00100303, 0.00311184, 0.00298333,\n",
      "       0.00100589, 0.00100017, 0.00179553, 0.00169182, 0.00099945]), 'test_accuracy': array([0.88431877, 0.91002571, 0.9151671 , 0.89203085, 0.88946015,\n",
      "       0.91002571, 0.84832905, 0.89974293, 0.90979381, 0.90979381]), 'test_f1': array([0.88491049, 0.90304709, 0.90858726, 0.89393939, 0.87955182,\n",
      "       0.90566038, 0.84910486, 0.90736342, 0.90304709, 0.90861619])}\n"
     ]
    }
   ],
   "source": [
    "from sklearn.model_selection import cross_validate\n",
    "from sklearn.model_selection import cross_val_score\n",
    "bp = MLPClassifier(solver='adam', alpha=1e-5,hidden_layer_sizes=(100,3), random_state=1) \n",
    "kfold = KFold(n_splits=10)\n",
    "bp_scores = cross_val_score(bp, X_train, y_train, cv=kfold)\n",
    "cv_cross_bp = cross_validate(bp, X_train, y_train, cv=kfold, scoring=('accuracy', 'f1'))\n",
    "print(\"bp Accuracy: %0.2f (+/- %0.2f)\" % (bp_scores.mean(), bp_scores.std() * 2))\n",
    "print(\"bp测试结果：\",cv_cross_bp)"
   ]
  },
  {
   "cell_type": "code",
   "execution_count": 12,
   "id": "f5c75f13",
   "metadata": {},
   "outputs": [
    {
     "name": "stdout",
     "output_type": "stream",
     "text": [
      "Average fit time: 3.66 seconds\n",
      "Average score time: 0.00166 seconds\n",
      "Average accuracy: 0.90 (+/- 0.02)\n",
      "Average F1 score: 0.89 (+/- 0.02)\n"
     ]
    }
   ],
   "source": [
    "# 计算平均训练时间和评分时间\n",
    "mean_fit_time = np.mean(cv_cross_bp['fit_time'])\n",
    "mean_score_time = np.mean(cv_cross_bp['score_time'])\n",
    "\n",
    "# 计算准确率和F1分数的平均值和标准差\n",
    "mean_accuracy = np.mean(cv_cross_bp['test_accuracy'])\n",
    "std_accuracy = np.std(cv_cross_bp['test_accuracy'])\n",
    "\n",
    "mean_f1 = np.mean(cv_cross_bp['test_f1'])\n",
    "std_f1 = np.std(cv_cross_bp['test_f1'])\n",
    "\n",
    "print(f\"Average fit time: {mean_fit_time:.2f} seconds\")\n",
    "print(f\"Average score time: {mean_score_time:.5f} seconds\")\n",
    "print(f\"Average accuracy: {mean_accuracy:.2f} (+/- {std_accuracy:.2f})\")\n",
    "print(f\"Average F1 score: {mean_f1:.2f} (+/- {std_f1:.2f})\")"
   ]
  },
  {
   "cell_type": "code",
   "execution_count": null,
   "id": "eee6bc7c",
   "metadata": {},
   "outputs": [],
   "source": []
  }
 ],
 "metadata": {
  "kernelspec": {
   "display_name": "Python 3 (ipykernel)",
   "language": "python",
   "name": "python3"
  },
  "language_info": {
   "codemirror_mode": {
    "name": "ipython",
    "version": 3
   },
   "file_extension": ".py",
   "mimetype": "text/x-python",
   "name": "python",
   "nbconvert_exporter": "python",
   "pygments_lexer": "ipython3",
   "version": "3.9.13"
  }
 },
 "nbformat": 4,
 "nbformat_minor": 5
}
